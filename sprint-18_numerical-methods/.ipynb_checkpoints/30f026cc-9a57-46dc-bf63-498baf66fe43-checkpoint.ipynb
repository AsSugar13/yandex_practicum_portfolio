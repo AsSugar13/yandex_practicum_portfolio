{
 "cells": [
  {
   "cell_type": "markdown",
   "metadata": {},
   "source": [
    "# Определение стоимости автомобилей"
   ]
  },
  {
   "cell_type": "markdown",
   "metadata": {},
   "source": [
    "Сервис по продаже автомобилей с пробегом «Не бит, не крашен» разрабатывает приложение для привлечения новых клиентов. В нём можно быстро узнать рыночную стоимость своего автомобиля. В вашем распоряжении исторические данные: технические характеристики, комплектации и цены автомобилей. Вам нужно построить модель для определения стоимости. \n",
    "\n",
    "Заказчику важны:\n",
    "\n",
    "- качество предсказания;\n",
    "- скорость предсказания;\n",
    "- время обучения."
   ]
  },
  {
   "cell_type": "markdown",
   "metadata": {
    "tags": []
   },
   "source": [
    "## Подготовка данных"
   ]
  },
  {
   "cell_type": "code",
   "execution_count": 1,
   "metadata": {},
   "outputs": [],
   "source": [
    "import numpy as np\n",
    "import pandas as pd\n",
    "import matplotlib.pyplot as plt\n",
    "\n",
    "from sklearn.model_selection import train_test_split, GridSearchCV\n",
    "from sklearn.ensemble import RandomForestRegressor\n",
    "from sklearn.preprocessing import OrdinalEncoder\n",
    "from sklearn.metrics import mean_squared_error\n",
    "from lightgbm import LGBMModel\n",
    "\n",
    "import warnings\n",
    "warnings.filterwarnings(\"ignore\")\n",
    "\n",
    "PATH = './'"
   ]
  },
  {
   "cell_type": "code",
   "execution_count": 2,
   "metadata": {},
   "outputs": [],
   "source": [
    "df = pd.read_csv(PATH+'autos.csv')"
   ]
  },
  {
   "cell_type": "code",
   "execution_count": 3,
   "metadata": {},
   "outputs": [
    {
     "data": {
      "text/html": [
       "<div>\n",
       "<style scoped>\n",
       "    .dataframe tbody tr th:only-of-type {\n",
       "        vertical-align: middle;\n",
       "    }\n",
       "\n",
       "    .dataframe tbody tr th {\n",
       "        vertical-align: top;\n",
       "    }\n",
       "\n",
       "    .dataframe thead th {\n",
       "        text-align: right;\n",
       "    }\n",
       "</style>\n",
       "<table border=\"1\" class=\"dataframe\">\n",
       "  <thead>\n",
       "    <tr style=\"text-align: right;\">\n",
       "      <th></th>\n",
       "      <th>DateCrawled</th>\n",
       "      <th>Price</th>\n",
       "      <th>VehicleType</th>\n",
       "      <th>RegistrationYear</th>\n",
       "      <th>Gearbox</th>\n",
       "      <th>Power</th>\n",
       "      <th>Model</th>\n",
       "      <th>Kilometer</th>\n",
       "      <th>RegistrationMonth</th>\n",
       "      <th>FuelType</th>\n",
       "      <th>Brand</th>\n",
       "      <th>Repaired</th>\n",
       "      <th>DateCreated</th>\n",
       "      <th>NumberOfPictures</th>\n",
       "      <th>PostalCode</th>\n",
       "      <th>LastSeen</th>\n",
       "    </tr>\n",
       "  </thead>\n",
       "  <tbody>\n",
       "    <tr>\n",
       "      <th>0</th>\n",
       "      <td>2016-03-24 11:52:17</td>\n",
       "      <td>480</td>\n",
       "      <td>NaN</td>\n",
       "      <td>1993</td>\n",
       "      <td>manual</td>\n",
       "      <td>0</td>\n",
       "      <td>golf</td>\n",
       "      <td>150000</td>\n",
       "      <td>0</td>\n",
       "      <td>petrol</td>\n",
       "      <td>volkswagen</td>\n",
       "      <td>NaN</td>\n",
       "      <td>2016-03-24 00:00:00</td>\n",
       "      <td>0</td>\n",
       "      <td>70435</td>\n",
       "      <td>2016-04-07 03:16:57</td>\n",
       "    </tr>\n",
       "    <tr>\n",
       "      <th>1</th>\n",
       "      <td>2016-03-24 10:58:45</td>\n",
       "      <td>18300</td>\n",
       "      <td>coupe</td>\n",
       "      <td>2011</td>\n",
       "      <td>manual</td>\n",
       "      <td>190</td>\n",
       "      <td>NaN</td>\n",
       "      <td>125000</td>\n",
       "      <td>5</td>\n",
       "      <td>gasoline</td>\n",
       "      <td>audi</td>\n",
       "      <td>yes</td>\n",
       "      <td>2016-03-24 00:00:00</td>\n",
       "      <td>0</td>\n",
       "      <td>66954</td>\n",
       "      <td>2016-04-07 01:46:50</td>\n",
       "    </tr>\n",
       "    <tr>\n",
       "      <th>2</th>\n",
       "      <td>2016-03-14 12:52:21</td>\n",
       "      <td>9800</td>\n",
       "      <td>suv</td>\n",
       "      <td>2004</td>\n",
       "      <td>auto</td>\n",
       "      <td>163</td>\n",
       "      <td>grand</td>\n",
       "      <td>125000</td>\n",
       "      <td>8</td>\n",
       "      <td>gasoline</td>\n",
       "      <td>jeep</td>\n",
       "      <td>NaN</td>\n",
       "      <td>2016-03-14 00:00:00</td>\n",
       "      <td>0</td>\n",
       "      <td>90480</td>\n",
       "      <td>2016-04-05 12:47:46</td>\n",
       "    </tr>\n",
       "    <tr>\n",
       "      <th>3</th>\n",
       "      <td>2016-03-17 16:54:04</td>\n",
       "      <td>1500</td>\n",
       "      <td>small</td>\n",
       "      <td>2001</td>\n",
       "      <td>manual</td>\n",
       "      <td>75</td>\n",
       "      <td>golf</td>\n",
       "      <td>150000</td>\n",
       "      <td>6</td>\n",
       "      <td>petrol</td>\n",
       "      <td>volkswagen</td>\n",
       "      <td>no</td>\n",
       "      <td>2016-03-17 00:00:00</td>\n",
       "      <td>0</td>\n",
       "      <td>91074</td>\n",
       "      <td>2016-03-17 17:40:17</td>\n",
       "    </tr>\n",
       "    <tr>\n",
       "      <th>4</th>\n",
       "      <td>2016-03-31 17:25:20</td>\n",
       "      <td>3600</td>\n",
       "      <td>small</td>\n",
       "      <td>2008</td>\n",
       "      <td>manual</td>\n",
       "      <td>69</td>\n",
       "      <td>fabia</td>\n",
       "      <td>90000</td>\n",
       "      <td>7</td>\n",
       "      <td>gasoline</td>\n",
       "      <td>skoda</td>\n",
       "      <td>no</td>\n",
       "      <td>2016-03-31 00:00:00</td>\n",
       "      <td>0</td>\n",
       "      <td>60437</td>\n",
       "      <td>2016-04-06 10:17:21</td>\n",
       "    </tr>\n",
       "  </tbody>\n",
       "</table>\n",
       "</div>"
      ],
      "text/plain": [
       "           DateCrawled  Price VehicleType  RegistrationYear Gearbox  Power  \\\n",
       "0  2016-03-24 11:52:17    480         NaN              1993  manual      0   \n",
       "1  2016-03-24 10:58:45  18300       coupe              2011  manual    190   \n",
       "2  2016-03-14 12:52:21   9800         suv              2004    auto    163   \n",
       "3  2016-03-17 16:54:04   1500       small              2001  manual     75   \n",
       "4  2016-03-31 17:25:20   3600       small              2008  manual     69   \n",
       "\n",
       "   Model  Kilometer  RegistrationMonth  FuelType       Brand Repaired  \\\n",
       "0   golf     150000                  0    petrol  volkswagen      NaN   \n",
       "1    NaN     125000                  5  gasoline        audi      yes   \n",
       "2  grand     125000                  8  gasoline        jeep      NaN   \n",
       "3   golf     150000                  6    petrol  volkswagen       no   \n",
       "4  fabia      90000                  7  gasoline       skoda       no   \n",
       "\n",
       "           DateCreated  NumberOfPictures  PostalCode             LastSeen  \n",
       "0  2016-03-24 00:00:00                 0       70435  2016-04-07 03:16:57  \n",
       "1  2016-03-24 00:00:00                 0       66954  2016-04-07 01:46:50  \n",
       "2  2016-03-14 00:00:00                 0       90480  2016-04-05 12:47:46  \n",
       "3  2016-03-17 00:00:00                 0       91074  2016-03-17 17:40:17  \n",
       "4  2016-03-31 00:00:00                 0       60437  2016-04-06 10:17:21  "
      ]
     },
     "execution_count": 3,
     "metadata": {},
     "output_type": "execute_result"
    }
   ],
   "source": [
    "df.head()"
   ]
  },
  {
   "cell_type": "code",
   "execution_count": 4,
   "metadata": {
    "scrolled": true
   },
   "outputs": [
    {
     "name": "stdout",
     "output_type": "stream",
     "text": [
      "<class 'pandas.core.frame.DataFrame'>\n",
      "RangeIndex: 354369 entries, 0 to 354368\n",
      "Data columns (total 16 columns):\n",
      " #   Column             Non-Null Count   Dtype \n",
      "---  ------             --------------   ----- \n",
      " 0   DateCrawled        354369 non-null  object\n",
      " 1   Price              354369 non-null  int64 \n",
      " 2   VehicleType        316879 non-null  object\n",
      " 3   RegistrationYear   354369 non-null  int64 \n",
      " 4   Gearbox            334536 non-null  object\n",
      " 5   Power              354369 non-null  int64 \n",
      " 6   Model              334664 non-null  object\n",
      " 7   Kilometer          354369 non-null  int64 \n",
      " 8   RegistrationMonth  354369 non-null  int64 \n",
      " 9   FuelType           321474 non-null  object\n",
      " 10  Brand              354369 non-null  object\n",
      " 11  Repaired           283215 non-null  object\n",
      " 12  DateCreated        354369 non-null  object\n",
      " 13  NumberOfPictures   354369 non-null  int64 \n",
      " 14  PostalCode         354369 non-null  int64 \n",
      " 15  LastSeen           354369 non-null  object\n",
      "dtypes: int64(7), object(9)\n",
      "memory usage: 43.3+ MB\n"
     ]
    },
    {
     "data": {
      "text/plain": [
       "None"
      ]
     },
     "metadata": {},
     "output_type": "display_data"
    },
    {
     "data": {
      "text/html": [
       "<div>\n",
       "<style scoped>\n",
       "    .dataframe tbody tr th:only-of-type {\n",
       "        vertical-align: middle;\n",
       "    }\n",
       "\n",
       "    .dataframe tbody tr th {\n",
       "        vertical-align: top;\n",
       "    }\n",
       "\n",
       "    .dataframe thead th {\n",
       "        text-align: right;\n",
       "    }\n",
       "</style>\n",
       "<table border=\"1\" class=\"dataframe\">\n",
       "  <thead>\n",
       "    <tr style=\"text-align: right;\">\n",
       "      <th></th>\n",
       "      <th>Price</th>\n",
       "      <th>RegistrationYear</th>\n",
       "      <th>Power</th>\n",
       "      <th>Kilometer</th>\n",
       "      <th>RegistrationMonth</th>\n",
       "      <th>NumberOfPictures</th>\n",
       "      <th>PostalCode</th>\n",
       "    </tr>\n",
       "  </thead>\n",
       "  <tbody>\n",
       "    <tr>\n",
       "      <th>count</th>\n",
       "      <td>354369.000000</td>\n",
       "      <td>354369.000000</td>\n",
       "      <td>354369.000000</td>\n",
       "      <td>354369.000000</td>\n",
       "      <td>354369.000000</td>\n",
       "      <td>354369.0</td>\n",
       "      <td>354369.000000</td>\n",
       "    </tr>\n",
       "    <tr>\n",
       "      <th>mean</th>\n",
       "      <td>4416.656776</td>\n",
       "      <td>2004.234448</td>\n",
       "      <td>110.094337</td>\n",
       "      <td>128211.172535</td>\n",
       "      <td>5.714645</td>\n",
       "      <td>0.0</td>\n",
       "      <td>50508.689087</td>\n",
       "    </tr>\n",
       "    <tr>\n",
       "      <th>std</th>\n",
       "      <td>4514.158514</td>\n",
       "      <td>90.227958</td>\n",
       "      <td>189.850405</td>\n",
       "      <td>37905.341530</td>\n",
       "      <td>3.726421</td>\n",
       "      <td>0.0</td>\n",
       "      <td>25783.096248</td>\n",
       "    </tr>\n",
       "    <tr>\n",
       "      <th>min</th>\n",
       "      <td>0.000000</td>\n",
       "      <td>1000.000000</td>\n",
       "      <td>0.000000</td>\n",
       "      <td>5000.000000</td>\n",
       "      <td>0.000000</td>\n",
       "      <td>0.0</td>\n",
       "      <td>1067.000000</td>\n",
       "    </tr>\n",
       "    <tr>\n",
       "      <th>25%</th>\n",
       "      <td>1050.000000</td>\n",
       "      <td>1999.000000</td>\n",
       "      <td>69.000000</td>\n",
       "      <td>125000.000000</td>\n",
       "      <td>3.000000</td>\n",
       "      <td>0.0</td>\n",
       "      <td>30165.000000</td>\n",
       "    </tr>\n",
       "    <tr>\n",
       "      <th>50%</th>\n",
       "      <td>2700.000000</td>\n",
       "      <td>2003.000000</td>\n",
       "      <td>105.000000</td>\n",
       "      <td>150000.000000</td>\n",
       "      <td>6.000000</td>\n",
       "      <td>0.0</td>\n",
       "      <td>49413.000000</td>\n",
       "    </tr>\n",
       "    <tr>\n",
       "      <th>75%</th>\n",
       "      <td>6400.000000</td>\n",
       "      <td>2008.000000</td>\n",
       "      <td>143.000000</td>\n",
       "      <td>150000.000000</td>\n",
       "      <td>9.000000</td>\n",
       "      <td>0.0</td>\n",
       "      <td>71083.000000</td>\n",
       "    </tr>\n",
       "    <tr>\n",
       "      <th>max</th>\n",
       "      <td>20000.000000</td>\n",
       "      <td>9999.000000</td>\n",
       "      <td>20000.000000</td>\n",
       "      <td>150000.000000</td>\n",
       "      <td>12.000000</td>\n",
       "      <td>0.0</td>\n",
       "      <td>99998.000000</td>\n",
       "    </tr>\n",
       "  </tbody>\n",
       "</table>\n",
       "</div>"
      ],
      "text/plain": [
       "               Price  RegistrationYear          Power      Kilometer  \\\n",
       "count  354369.000000     354369.000000  354369.000000  354369.000000   \n",
       "mean     4416.656776       2004.234448     110.094337  128211.172535   \n",
       "std      4514.158514         90.227958     189.850405   37905.341530   \n",
       "min         0.000000       1000.000000       0.000000    5000.000000   \n",
       "25%      1050.000000       1999.000000      69.000000  125000.000000   \n",
       "50%      2700.000000       2003.000000     105.000000  150000.000000   \n",
       "75%      6400.000000       2008.000000     143.000000  150000.000000   \n",
       "max     20000.000000       9999.000000   20000.000000  150000.000000   \n",
       "\n",
       "       RegistrationMonth  NumberOfPictures     PostalCode  \n",
       "count      354369.000000          354369.0  354369.000000  \n",
       "mean            5.714645               0.0   50508.689087  \n",
       "std             3.726421               0.0   25783.096248  \n",
       "min             0.000000               0.0    1067.000000  \n",
       "25%             3.000000               0.0   30165.000000  \n",
       "50%             6.000000               0.0   49413.000000  \n",
       "75%             9.000000               0.0   71083.000000  \n",
       "max            12.000000               0.0   99998.000000  "
      ]
     },
     "metadata": {},
     "output_type": "display_data"
    },
    {
     "data": {
      "text/plain": [
       "2016-03-24 14:49:47    7\n",
       "2016-03-26 22:57:31    6\n",
       "2016-03-19 21:49:56    6\n",
       "2016-04-02 14:50:21    5\n",
       "2016-03-23 13:50:19    5\n",
       "                      ..\n",
       "2016-03-20 16:48:06    1\n",
       "2016-03-22 21:51:04    1\n",
       "2016-03-11 16:25:36    1\n",
       "2016-03-31 12:47:30    1\n",
       "2016-03-19 18:57:12    1\n",
       "Name: DateCrawled, Length: 271174, dtype: int64"
      ]
     },
     "metadata": {},
     "output_type": "display_data"
    },
    {
     "data": {
      "text/plain": [
       "sedan          91457\n",
       "small          79831\n",
       "wagon          65166\n",
       "bus            28775\n",
       "convertible    20203\n",
       "coupe          16163\n",
       "suv            11996\n",
       "other           3288\n",
       "Name: VehicleType, dtype: int64"
      ]
     },
     "metadata": {},
     "output_type": "display_data"
    },
    {
     "data": {
      "text/plain": [
       "manual    268251\n",
       "auto       66285\n",
       "Name: Gearbox, dtype: int64"
      ]
     },
     "metadata": {},
     "output_type": "display_data"
    },
    {
     "data": {
      "text/plain": [
       "golf                  29232\n",
       "other                 24421\n",
       "3er                   19761\n",
       "polo                  13066\n",
       "corsa                 12570\n",
       "                      ...  \n",
       "i3                        8\n",
       "serie_3                   4\n",
       "rangerover                4\n",
       "range_rover_evoque        2\n",
       "serie_1                   2\n",
       "Name: Model, Length: 250, dtype: int64"
      ]
     },
     "metadata": {},
     "output_type": "display_data"
    },
    {
     "data": {
      "text/plain": [
       "petrol      216352\n",
       "gasoline     98720\n",
       "lpg           5310\n",
       "cng            565\n",
       "hybrid         233\n",
       "other          204\n",
       "electric        90\n",
       "Name: FuelType, dtype: int64"
      ]
     },
     "metadata": {},
     "output_type": "display_data"
    },
    {
     "data": {
      "text/plain": [
       "volkswagen        77013\n",
       "opel              39931\n",
       "bmw               36914\n",
       "mercedes_benz     32046\n",
       "audi              29456\n",
       "ford              25179\n",
       "renault           17927\n",
       "peugeot           10998\n",
       "fiat               9643\n",
       "seat               6907\n",
       "mazda              5615\n",
       "skoda              5500\n",
       "smart              5246\n",
       "citroen            5148\n",
       "nissan             4941\n",
       "toyota             4606\n",
       "hyundai            3587\n",
       "sonstige_autos     3374\n",
       "volvo              3210\n",
       "mini               3202\n",
       "mitsubishi         3022\n",
       "honda              2817\n",
       "kia                2465\n",
       "suzuki             2323\n",
       "alfa_romeo         2314\n",
       "chevrolet          1754\n",
       "chrysler           1439\n",
       "dacia               900\n",
       "daihatsu            806\n",
       "subaru              762\n",
       "porsche             758\n",
       "jeep                677\n",
       "trabant             589\n",
       "land_rover          545\n",
       "daewoo              542\n",
       "saab                526\n",
       "jaguar              505\n",
       "rover               486\n",
       "lancia              471\n",
       "lada                225\n",
       "Name: Brand, dtype: int64"
      ]
     },
     "metadata": {},
     "output_type": "display_data"
    },
    {
     "data": {
      "text/plain": [
       "no     247161\n",
       "yes     36054\n",
       "Name: Repaired, dtype: int64"
      ]
     },
     "metadata": {},
     "output_type": "display_data"
    },
    {
     "data": {
      "text/plain": [
       "2016-04-03 00:00:00    13719\n",
       "2016-04-04 00:00:00    13317\n",
       "2016-03-20 00:00:00    12918\n",
       "2016-03-12 00:00:00    12840\n",
       "2016-03-21 00:00:00    12691\n",
       "                       ...  \n",
       "2015-08-07 00:00:00        1\n",
       "2015-12-27 00:00:00        1\n",
       "2015-11-12 00:00:00        1\n",
       "2015-12-06 00:00:00        1\n",
       "2015-06-18 00:00:00        1\n",
       "Name: DateCreated, Length: 109, dtype: int64"
      ]
     },
     "metadata": {},
     "output_type": "display_data"
    },
    {
     "data": {
      "text/plain": [
       "2016-04-06 13:45:54    17\n",
       "2016-04-07 09:45:10    16\n",
       "2016-04-06 01:15:23    16\n",
       "2016-04-06 10:15:26    16\n",
       "2016-04-07 05:44:30    16\n",
       "                       ..\n",
       "2016-03-07 17:46:17     1\n",
       "2016-03-10 07:49:15     1\n",
       "2016-04-03 04:18:11     1\n",
       "2016-03-16 20:19:54     1\n",
       "2016-03-21 10:42:49     1\n",
       "Name: LastSeen, Length: 179150, dtype: int64"
      ]
     },
     "metadata": {},
     "output_type": "display_data"
    }
   ],
   "source": [
    "display(df.info())\n",
    "display(df.describe())\n",
    "for col in df.select_dtypes('object'): display(df[col].value_counts())"
   ]
  },
  {
   "cell_type": "code",
   "execution_count": 5,
   "metadata": {},
   "outputs": [],
   "source": [
    "# для начала отбросим совсем нерелевантные переменные\n",
    "df = df.drop(['DateCrawled', 'PostalCode', 'LastSeen'], axis=1)\n",
    "# переменную DateCreated считаю релевантной в связке с годом выпуска автомобиля.\n",
    "# Выпущенный и проданный в 1960 году автомобиль будет иметь иную цену, нежели выпущенный в 1960 и проданный в 1980 году."
   ]
  },
  {
   "cell_type": "code",
   "execution_count": 6,
   "metadata": {},
   "outputs": [],
   "source": [
    "df['DateCreated'] = pd.to_datetime(df.DateCreated).dt.year"
   ]
  },
  {
   "cell_type": "code",
   "execution_count": 7,
   "metadata": {},
   "outputs": [
    {
     "data": {
      "image/png": "[encoded data removed]",
      "text/plain": [
       "<Figure size 640x480 with 1 Axes>"
      ]
     },
     "metadata": {},
     "output_type": "display_data"
    },
    {
     "data": {
      "image/png": "[encoded data removed]",
      "text/plain": [
       "<Figure size 640x480 with 1 Axes>"
      ]
     },
     "metadata": {},
     "output_type": "display_data"
    },
    {
     "data": {
      "image/png": "[encoded data removed]",
      "text/plain": [
       "<Figure size 640x480 with 1 Axes>"
      ]
     },
     "metadata": {},
     "output_type": "display_data"
    },
    {
     "data": {
      "image/png": "[encoded data removed]",
      "text/plain": [
       "<Figure size 640x480 with 1 Axes>"
      ]
     },
     "metadata": {},
     "output_type": "display_data"
    },
    {
     "data": {
      "image/png": "[encoded data removed]",
      "text/plain": [
       "<Figure size 640x480 with 1 Axes>"
      ]
     },
     "metadata": {},
     "output_type": "display_data"
    },
    {
     "data": {
      "image/png": "[encoded data removed]",
      "text/plain": [
       "<Figure size 640x480 with 1 Axes>"
      ]
     },
     "metadata": {},
     "output_type": "display_data"
    },
    {
     "data": {
      "image/png": "[encoded data removed]",
      "text/plain": [
       "<Figure size 640x480 with 1 Axes>"
      ]
     },
     "metadata": {},
     "output_type": "display_data"
    }
   ],
   "source": [
    "for col in df.select_dtypes(['int']):\n",
    "    df[col].plot(kind='hist', grid=True, title=col)\n",
    "    plt.yscale('log') # используем логскейл, чтобы увидеть даже малые значения\n",
    "    plt.show()"
   ]
  },
  {
   "cell_type": "code",
   "execution_count": 8,
   "metadata": {},
   "outputs": [
    {
     "name": "stdout",
     "output_type": "stream",
     "text": [
      "27542\n"
     ]
    }
   ],
   "source": [
    "print(df.duplicated().sum())\n",
    "df = df.drop_duplicates()"
   ]
  },
  {
   "cell_type": "markdown",
   "metadata": {},
   "source": [
    "В числовых переменных датасета следующие аномалии:\n",
    "* разброс в годах регистрации автомобилей. и если значения вроде 1931 - просто интересные объяснимые случаи, то значения 8888 - абсолютно неприменимы;\n",
    "* разброс в мощностях двигателей. возможное объяснение - часть данных вбивалась в других единицах измерения;\n",
    "* некоторые данные о мощностях равны крайне малым значениям (например, нулю)\n",
    "* некоторые цены равны крайне малым значениям (например, нулю или единице).\n",
    "\n",
    "В категорийных переменных датасета следующие аномалии:\n",
    "* наличие неявных дубликатов и неявных пропусков в Model.\n"
   ]
  },
  {
   "cell_type": "code",
   "execution_count": 9,
   "metadata": {},
   "outputs": [],
   "source": [
    "# отбросим строки в которых RegistrationYear не попадает в отрезок между 1980 и 2023 годами\n",
    "df = df.query('RegistrationYear <= 2023 and RegistrationYear >= 1980')\n",
    "\n",
    "# отбросим строки в которых Power превосходит 500 \"предположительно\" лошадиных сил\n",
    "df = df.query('Power < 500')\n",
    "\n",
    "# отбросим автомобили с мощность от нуля до 25 лш\n",
    "df = df.query('Power > 25')\n",
    "\n",
    "# отбросим автомобили с ценой менее 100 долларов\n",
    "df = df.query('Price >= 100')"
   ]
  },
  {
   "cell_type": "code",
   "execution_count": 10,
   "metadata": {},
   "outputs": [],
   "source": [
    "# для простоты обозначим марки автомобилей, встречающиеся реже 100 раз как other\n",
    "model_vc = df.Model.value_counts()\n",
    "models_to_replace = model_vc[model_vc < 100].index\n",
    "df['Model'] = df['Model'].replace(to_replace=models_to_replace, value='other')"
   ]
  },
  {
   "cell_type": "code",
   "execution_count": 11,
   "metadata": {},
   "outputs": [
    {
     "data": {
      "text/plain": [
       "Price                    0\n",
       "VehicleType          20105\n",
       "RegistrationYear         0\n",
       "Gearbox               5619\n",
       "Power                    0\n",
       "Model                11228\n",
       "Kilometer                0\n",
       "RegistrationMonth        0\n",
       "FuelType             18742\n",
       "Brand                    0\n",
       "Repaired             43667\n",
       "DateCreated              0\n",
       "NumberOfPictures         0\n",
       "dtype: int64"
      ]
     },
     "execution_count": 11,
     "metadata": {},
     "output_type": "execute_result"
    }
   ],
   "source": [
    "# обратим внимание на Nan\n",
    "df.isna().sum()"
   ]
  },
  {
   "cell_type": "markdown",
   "metadata": {},
   "source": [
    "Оставшиеся Nan находятся в категорийных переменных и составляют значительную часть выборки, поэтому просто удалить их - было бы расточительством.\n",
    "Тут для каждой категорийной переменной представляются возможным несколько сценариев:\n",
    "* заполнение пропусков по некому статичному сценарию, например, медианой;\n",
    "* пометить Nan как отдельную категорию (и было бы интересно взглянуть насколько Nan в Repaired ведет себя схоже с yes в той же категории);\n",
    "* использовать некую ML модель для восстановления Nan по исходным данным.\n",
    "\n",
    "В данном проекте мы поступим по второму сценарию, так как подобный подход по умолчанию применяется в ligthgbm, а потому сравнение с другими моделями будет более объективным."
   ]
  },
  {
   "cell_type": "code",
   "execution_count": 12,
   "metadata": {},
   "outputs": [],
   "source": [
    "# заполним Nan значения строчным other\n",
    "for col in df.select_dtypes('object'): df[col] = df[col].fillna('other')"
   ]
  },
  {
   "cell_type": "markdown",
   "metadata": {},
   "source": [
    "## Обучение моделей"
   ]
  },
  {
   "cell_type": "markdown",
   "metadata": {},
   "source": [
    "### подготовка выборок"
   ]
  },
  {
   "cell_type": "code",
   "execution_count": 13,
   "metadata": {},
   "outputs": [],
   "source": [
    "X = df.drop(['Price'], axis=1)\n",
    "y = df['Price']\n",
    "\n",
    "nums = X.select_dtypes(exclude='object').columns.to_list()\n",
    "cats = X.select_dtypes(include='object').columns.to_list()\n",
    "\n",
    "prices_stratified = pd.qcut(df.Price, 5, labels=range(5))\n",
    "X_train, X_test, y_train, y_test = train_test_split(X, y, test_size=0.2, stratify=prices_stratified)"
   ]
  },
  {
   "cell_type": "code",
   "execution_count": 14,
   "metadata": {},
   "outputs": [],
   "source": [
    "encoder = OrdinalEncoder(handle_unknown='use_encoded_value', unknown_value=-1)\n",
    "X_train[cats] = encoder.fit_transform(X_train[cats])\n",
    "X_test[cats] = encoder.transform(X_test[cats])"
   ]
  },
  {
   "cell_type": "code",
   "execution_count": 15,
   "metadata": {},
   "outputs": [],
   "source": [
    "model_types = {\n",
    "               'lgb': LGBMModel(objective='regression', random_state=42, n_jobs=-1),\n",
    "               'rndforest': RandomForestRegressor(random_state=42, n_jobs=-1),\n",
    "\n",
    "              }\n",
    "\n",
    "models_params = {\n",
    "                 'rndforest': {'n_estimators': [50, 75],\n",
    "                           'max_depth': np.arange(10, 20+1, 10)},\n",
    "                 'lgb': {'n_estimators': [50, 75],\n",
    "                         'max_depth': np.arange(10, 20+1, 10),\n",
    "                         'learning_rate' : [0.1, 0.01]}\n",
    "                }"
   ]
  },
  {
   "cell_type": "code",
   "execution_count": 16,
   "metadata": {},
   "outputs": [
    {
     "name": "stdout",
     "output_type": "stream",
     "text": [
      "Лучшая модель в группе lgb имеет значение rmse - 1690.55 и параметры {'learning_rate': 0.1, 'max_depth': 20, 'n_estimators': 75}\n",
      "\n",
      "Лучшая модель в группе rndforest имеет значение rmse - 1623.12 и параметры {'max_depth': 20, 'n_estimators': 75}\n",
      "\n",
      "CPU times: user 1min 32s, sys: 1.26 s, total: 1min 34s\n",
      "Wall time: 1min 37s\n"
     ]
    }
   ],
   "source": [
    "%%time\n",
    "best_models = {}\n",
    "cv_results = {}\n",
    "\n",
    "for model_type in model_types:\n",
    "    model = model_types[model_type]\n",
    "    grid = GridSearchCV(model, models_params[model_type], cv=5, scoring='neg_root_mean_squared_error',\n",
    "                        n_jobs=5, refit=True, return_train_score=False)\n",
    "    \n",
    "    grid.fit(X_train, y_train)\n",
    "    best_models[model_type] = grid.best_estimator_\n",
    "    cv_results[model_type] = grid.cv_results_\n",
    "    print('Лучшая модель в группе {} имеет значение rmse - {:.2f} и параметры {}'\\\n",
    "          .format(model_type,\\\n",
    "                 -grid.best_score_,\\\n",
    "                  grid.best_params_))\n",
    "    print()"
   ]
  },
  {
   "cell_type": "markdown",
   "metadata": {},
   "source": [
    "## Анализ моделей"
   ]
  },
  {
   "cell_type": "code",
   "execution_count": 17,
   "metadata": {},
   "outputs": [
    {
     "name": "stdout",
     "output_type": "stream",
     "text": [
      "lgb\n"
     ]
    },
    {
     "data": {
      "text/html": [
       "<div>\n",
       "<style scoped>\n",
       "    .dataframe tbody tr th:only-of-type {\n",
       "        vertical-align: middle;\n",
       "    }\n",
       "\n",
       "    .dataframe tbody tr th {\n",
       "        vertical-align: top;\n",
       "    }\n",
       "\n",
       "    .dataframe thead th {\n",
       "        text-align: right;\n",
       "    }\n",
       "</style>\n",
       "<table border=\"1\" class=\"dataframe\">\n",
       "  <thead>\n",
       "    <tr style=\"text-align: right;\">\n",
       "      <th></th>\n",
       "      <th>mean_fit_time</th>\n",
       "      <th>mean_score_time</th>\n",
       "      <th>mean_test_score</th>\n",
       "      <th>params</th>\n",
       "      <th>rank_test_score</th>\n",
       "    </tr>\n",
       "  </thead>\n",
       "  <tbody>\n",
       "    <tr>\n",
       "      <th>3</th>\n",
       "      <td>0.929264</td>\n",
       "      <td>0.106532</td>\n",
       "      <td>-1690.547335</td>\n",
       "      <td>{'learning_rate': 0.1, 'max_depth': 20, 'n_estimators': 75}</td>\n",
       "      <td>1</td>\n",
       "    </tr>\n",
       "    <tr>\n",
       "      <th>1</th>\n",
       "      <td>1.003174</td>\n",
       "      <td>0.092576</td>\n",
       "      <td>-1691.883056</td>\n",
       "      <td>{'learning_rate': 0.1, 'max_depth': 10, 'n_estimators': 75}</td>\n",
       "      <td>2</td>\n",
       "    </tr>\n",
       "    <tr>\n",
       "      <th>2</th>\n",
       "      <td>0.709514</td>\n",
       "      <td>0.064060</td>\n",
       "      <td>-1746.051421</td>\n",
       "      <td>{'learning_rate': 0.1, 'max_depth': 20, 'n_estimators': 50}</td>\n",
       "      <td>3</td>\n",
       "    </tr>\n",
       "    <tr>\n",
       "      <th>0</th>\n",
       "      <td>0.908623</td>\n",
       "      <td>0.061340</td>\n",
       "      <td>-1747.271969</td>\n",
       "      <td>{'learning_rate': 0.1, 'max_depth': 10, 'n_estimators': 50}</td>\n",
       "      <td>4</td>\n",
       "    </tr>\n",
       "    <tr>\n",
       "      <th>5</th>\n",
       "      <td>1.032390</td>\n",
       "      <td>0.076146</td>\n",
       "      <td>-2937.195820</td>\n",
       "      <td>{'learning_rate': 0.01, 'max_depth': 10, 'n_estimators': 75}</td>\n",
       "      <td>5</td>\n",
       "    </tr>\n",
       "    <tr>\n",
       "      <th>7</th>\n",
       "      <td>0.870198</td>\n",
       "      <td>0.054943</td>\n",
       "      <td>-2937.195820</td>\n",
       "      <td>{'learning_rate': 0.01, 'max_depth': 20, 'n_estimators': 75}</td>\n",
       "      <td>5</td>\n",
       "    </tr>\n",
       "    <tr>\n",
       "      <th>4</th>\n",
       "      <td>0.767773</td>\n",
       "      <td>0.042497</td>\n",
       "      <td>-3322.573570</td>\n",
       "      <td>{'learning_rate': 0.01, 'max_depth': 10, 'n_estimators': 50}</td>\n",
       "      <td>7</td>\n",
       "    </tr>\n",
       "    <tr>\n",
       "      <th>6</th>\n",
       "      <td>0.780893</td>\n",
       "      <td>0.043305</td>\n",
       "      <td>-3322.573570</td>\n",
       "      <td>{'learning_rate': 0.01, 'max_depth': 20, 'n_estimators': 50}</td>\n",
       "      <td>7</td>\n",
       "    </tr>\n",
       "  </tbody>\n",
       "</table>\n",
       "</div>"
      ],
      "text/plain": [
       "   mean_fit_time  mean_score_time  mean_test_score  \\\n",
       "3       0.929264         0.106532     -1690.547335   \n",
       "1       1.003174         0.092576     -1691.883056   \n",
       "2       0.709514         0.064060     -1746.051421   \n",
       "0       0.908623         0.061340     -1747.271969   \n",
       "5       1.032390         0.076146     -2937.195820   \n",
       "7       0.870198         0.054943     -2937.195820   \n",
       "4       0.767773         0.042497     -3322.573570   \n",
       "6       0.780893         0.043305     -3322.573570   \n",
       "\n",
       "                                                         params  \\\n",
       "3   {'learning_rate': 0.1, 'max_depth': 20, 'n_estimators': 75}   \n",
       "1   {'learning_rate': 0.1, 'max_depth': 10, 'n_estimators': 75}   \n",
       "2   {'learning_rate': 0.1, 'max_depth': 20, 'n_estimators': 50}   \n",
       "0   {'learning_rate': 0.1, 'max_depth': 10, 'n_estimators': 50}   \n",
       "5  {'learning_rate': 0.01, 'max_depth': 10, 'n_estimators': 75}   \n",
       "7  {'learning_rate': 0.01, 'max_depth': 20, 'n_estimators': 75}   \n",
       "4  {'learning_rate': 0.01, 'max_depth': 10, 'n_estimators': 50}   \n",
       "6  {'learning_rate': 0.01, 'max_depth': 20, 'n_estimators': 50}   \n",
       "\n",
       "   rank_test_score  \n",
       "3                1  \n",
       "1                2  \n",
       "2                3  \n",
       "0                4  \n",
       "5                5  \n",
       "7                5  \n",
       "4                7  \n",
       "6                7  "
      ]
     },
     "metadata": {},
     "output_type": "display_data"
    },
    {
     "name": "stdout",
     "output_type": "stream",
     "text": [
      "rndforest\n"
     ]
    },
    {
     "data": {
      "text/html": [
       "<div>\n",
       "<style scoped>\n",
       "    .dataframe tbody tr th:only-of-type {\n",
       "        vertical-align: middle;\n",
       "    }\n",
       "\n",
       "    .dataframe tbody tr th {\n",
       "        vertical-align: top;\n",
       "    }\n",
       "\n",
       "    .dataframe thead th {\n",
       "        text-align: right;\n",
       "    }\n",
       "</style>\n",
       "<table border=\"1\" class=\"dataframe\">\n",
       "  <thead>\n",
       "    <tr style=\"text-align: right;\">\n",
       "      <th></th>\n",
       "      <th>mean_fit_time</th>\n",
       "      <th>mean_score_time</th>\n",
       "      <th>mean_test_score</th>\n",
       "      <th>params</th>\n",
       "      <th>rank_test_score</th>\n",
       "    </tr>\n",
       "  </thead>\n",
       "  <tbody>\n",
       "    <tr>\n",
       "      <th>3</th>\n",
       "      <td>21.428880</td>\n",
       "      <td>0.816512</td>\n",
       "      <td>-1623.117950</td>\n",
       "      <td>{'max_depth': 20, 'n_estimators': 75}</td>\n",
       "      <td>1</td>\n",
       "    </tr>\n",
       "    <tr>\n",
       "      <th>2</th>\n",
       "      <td>16.767120</td>\n",
       "      <td>0.336347</td>\n",
       "      <td>-1626.954291</td>\n",
       "      <td>{'max_depth': 20, 'n_estimators': 50}</td>\n",
       "      <td>2</td>\n",
       "    </tr>\n",
       "    <tr>\n",
       "      <th>1</th>\n",
       "      <td>20.638280</td>\n",
       "      <td>0.205965</td>\n",
       "      <td>-1844.247748</td>\n",
       "      <td>{'max_depth': 10, 'n_estimators': 75}</td>\n",
       "      <td>3</td>\n",
       "    </tr>\n",
       "    <tr>\n",
       "      <th>0</th>\n",
       "      <td>14.294878</td>\n",
       "      <td>0.183564</td>\n",
       "      <td>-1845.326959</td>\n",
       "      <td>{'max_depth': 10, 'n_estimators': 50}</td>\n",
       "      <td>4</td>\n",
       "    </tr>\n",
       "  </tbody>\n",
       "</table>\n",
       "</div>"
      ],
      "text/plain": [
       "   mean_fit_time  mean_score_time  mean_test_score  \\\n",
       "3      21.428880         0.816512     -1623.117950   \n",
       "2      16.767120         0.336347     -1626.954291   \n",
       "1      20.638280         0.205965     -1844.247748   \n",
       "0      14.294878         0.183564     -1845.326959   \n",
       "\n",
       "                                  params  rank_test_score  \n",
       "3  {'max_depth': 20, 'n_estimators': 75}                1  \n",
       "2  {'max_depth': 20, 'n_estimators': 50}                2  \n",
       "1  {'max_depth': 10, 'n_estimators': 75}                3  \n",
       "0  {'max_depth': 10, 'n_estimators': 50}                4  "
      ]
     },
     "metadata": {},
     "output_type": "display_data"
    }
   ],
   "source": [
    "pd.set_option('display.max_colwidth', 1000)\n",
    "\n",
    "for model_type in cv_results:\n",
    "    print(model_type)\n",
    "    display(pd.DataFrame(cv_results[model_type])\\\n",
    "            [['mean_fit_time', 'mean_score_time', 'mean_test_score', 'params', 'rank_test_score']]\\\n",
    "            .sort_values('rank_test_score')\n",
    "           )"
   ]
  },
  {
   "cell_type": "markdown",
   "metadata": {},
   "source": [
    "Основными критериями для оценки моделей были определены:\n",
    "* время обучения;\n",
    "* время предсказания;\n",
    "* качество моделей.\n",
    "\n",
    "По представленным статистикам - очевидно, что нет модели строго домонирующей по данным критериям. Следовательно, окончательная \"наилучшая\" модель будет определена на основе экспертной оценки важности критериев.\n",
    "Все модели класса случайного леса показывают неплохое качество метрики rsme, но значительно уступают по времени обучения и времени предсказания - поэтому данные модели мы далее рассматривать не будем.\n",
    "Среди моделей класса градиентного бустинга все первые четыре места неплохо отвечают заданным критериям - достаточно быстро обучаются, быстро выдают предсказания и достигают необходимого уровня заявленной метрики. В целом, каждая из этих моделей, на мой взгляд - является отличным выбором. Но так как модель номер один в классе градиентного бустинга у нас уже есть в обученном виде, то на ней мы и остановимся. И далее только оценим ее результативность на метрике rsme на тестовой выборке."
   ]
  },
  {
   "cell_type": "code",
   "execution_count": 18,
   "metadata": {},
   "outputs": [
    {
     "name": "stdout",
     "output_type": "stream",
     "text": [
      "30.2 ms ± 1.24 ms per loop (mean ± std. dev. of 7 runs, 10 loops each)\n"
     ]
    }
   ],
   "source": [
    "%%timeit\n",
    "preds = best_models['lgb'].predict(X_test)"
   ]
  },
  {
   "cell_type": "code",
   "execution_count": 19,
   "metadata": {},
   "outputs": [
    {
     "data": {
      "text/plain": [
       "1655.0621133193358"
      ]
     },
     "execution_count": 19,
     "metadata": {},
     "output_type": "execute_result"
    }
   ],
   "source": [
    "preds = best_models['lgb'].predict(X_test)\n",
    "mean_squared_error(y_test, preds, squared=False)"
   ]
  }
 ],
 "metadata": {
  "ExecuteTimeLog": [
   {
    "duration": 431,
    "start_time": "2023-03-17T08:10:19.468Z"
   },
   {
    "duration": 1148,
    "start_time": "2023-03-17T08:10:43.905Z"
   },
   {
    "duration": 21,
    "start_time": "2023-03-17T08:10:49.775Z"
   },
   {
    "duration": 260,
    "start_time": "2023-03-17T08:12:16.037Z"
   },
   {
    "duration": 98,
    "start_time": "2023-03-17T08:21:25.972Z"
   },
   {
    "duration": 29,
    "start_time": "2023-03-17T08:21:35.655Z"
   },
   {
    "duration": 20,
    "start_time": "2023-03-17T08:23:47.956Z"
   },
   {
    "duration": 923,
    "start_time": "2023-03-17T08:24:28.112Z"
   },
   {
    "duration": 488,
    "start_time": "2023-03-17T08:24:35.880Z"
   },
   {
    "duration": 4,
    "start_time": "2023-03-17T08:24:59.602Z"
   },
   {
    "duration": 1267,
    "start_time": "2023-03-17T08:25:04.957Z"
   },
   {
    "duration": 1056,
    "start_time": "2023-03-17T08:25:34.853Z"
   },
   {
    "duration": 1135,
    "start_time": "2023-03-17T08:26:05.790Z"
   },
   {
    "duration": 2230,
    "start_time": "2023-03-17T08:26:47.932Z"
   },
   {
    "duration": 601,
    "start_time": "2023-03-17T08:27:50.263Z"
   },
   {
    "duration": 436,
    "start_time": "2023-03-17T08:28:10.108Z"
   },
   {
    "duration": 443,
    "start_time": "2023-03-17T08:28:50.924Z"
   },
   {
    "duration": 11,
    "start_time": "2023-03-17T08:39:33.057Z"
   },
   {
    "duration": 8,
    "start_time": "2023-03-17T08:39:51.844Z"
   },
   {
    "duration": 8,
    "start_time": "2023-03-17T08:40:37.541Z"
   },
   {
    "duration": 10,
    "start_time": "2023-03-17T08:40:41.478Z"
   },
   {
    "duration": 9,
    "start_time": "2023-03-17T08:46:01.450Z"
   },
   {
    "duration": 1053,
    "start_time": "2023-03-17T08:46:27.332Z"
   },
   {
    "duration": 2416,
    "start_time": "2023-03-17T08:46:58.942Z"
   },
   {
    "duration": 9,
    "start_time": "2023-03-17T08:55:27.785Z"
   },
   {
    "duration": 11,
    "start_time": "2023-03-17T08:55:32.274Z"
   },
   {
    "duration": 297,
    "start_time": "2023-03-17T08:55:46.283Z"
   },
   {
    "duration": 254,
    "start_time": "2023-03-17T08:55:49.701Z"
   },
   {
    "duration": 266,
    "start_time": "2023-03-17T08:55:58.356Z"
   },
   {
    "duration": 259,
    "start_time": "2023-03-17T08:57:29.611Z"
   },
   {
    "duration": 780,
    "start_time": "2023-03-17T08:59:42.531Z"
   },
   {
    "duration": 13,
    "start_time": "2023-03-17T08:59:43.313Z"
   },
   {
    "duration": 429,
    "start_time": "2023-03-17T09:00:08.349Z"
   },
   {
    "duration": 19,
    "start_time": "2023-03-17T09:00:56.233Z"
   },
   {
    "duration": 262,
    "start_time": "2023-03-17T09:00:58.909Z"
   },
   {
    "duration": 265,
    "start_time": "2023-03-17T09:01:11.202Z"
   },
   {
    "duration": 14,
    "start_time": "2023-03-17T09:01:27.098Z"
   },
   {
    "duration": 802,
    "start_time": "2023-03-17T09:01:29.923Z"
   },
   {
    "duration": 13,
    "start_time": "2023-03-17T09:01:30.727Z"
   },
   {
    "duration": 1092,
    "start_time": "2023-03-17T09:01:30.742Z"
   },
   {
    "duration": 18,
    "start_time": "2023-03-17T09:01:31.836Z"
   },
   {
    "duration": 1993,
    "start_time": "2023-03-17T09:01:32.898Z"
   },
   {
    "duration": 270,
    "start_time": "2023-03-17T09:01:34.893Z"
   },
   {
    "duration": 502,
    "start_time": "2023-03-17T09:03:20.243Z"
   },
   {
    "duration": 284,
    "start_time": "2023-03-17T09:03:26.467Z"
   },
   {
    "duration": 922,
    "start_time": "2023-03-18T11:43:10.841Z"
   },
   {
    "duration": 1292,
    "start_time": "2023-03-18T11:43:11.766Z"
   },
   {
    "duration": 21,
    "start_time": "2023-03-18T11:43:13.060Z"
   },
   {
    "duration": 1250,
    "start_time": "2023-03-18T11:43:13.084Z"
   },
   {
    "duration": 33,
    "start_time": "2023-03-18T11:43:28.938Z"
   },
   {
    "duration": 2578,
    "start_time": "2023-03-18T11:43:31.903Z"
   },
   {
    "duration": 24,
    "start_time": "2023-03-18T11:44:57.407Z"
   },
   {
    "duration": 12,
    "start_time": "2023-03-18T11:45:28.232Z"
   },
   {
    "duration": 27,
    "start_time": "2023-03-18T11:45:32.119Z"
   },
   {
    "duration": 77,
    "start_time": "2023-03-18T11:47:38.552Z"
   },
   {
    "duration": 150,
    "start_time": "2023-03-18T11:47:46.364Z"
   },
   {
    "duration": 248,
    "start_time": "2023-03-18T11:47:55.912Z"
   },
   {
    "duration": 38,
    "start_time": "2023-03-18T11:48:17.283Z"
   },
   {
    "duration": 295,
    "start_time": "2023-03-18T11:48:25.331Z"
   },
   {
    "duration": 175,
    "start_time": "2023-03-18T11:48:30.142Z"
   },
   {
    "duration": 194,
    "start_time": "2023-03-18T11:48:38.731Z"
   },
   {
    "duration": 203,
    "start_time": "2023-03-18T11:48:48.436Z"
   },
   {
    "duration": 267,
    "start_time": "2023-03-18T11:48:55.487Z"
   },
   {
    "duration": 22,
    "start_time": "2023-03-18T11:50:05.195Z"
   },
   {
    "duration": 589,
    "start_time": "2023-03-18T11:50:56.208Z"
   },
   {
    "duration": 186,
    "start_time": "2023-03-18T11:51:02.833Z"
   },
   {
    "duration": 174,
    "start_time": "2023-03-18T11:51:18.001Z"
   },
   {
    "duration": 24,
    "start_time": "2023-03-18T11:51:45.288Z"
   },
   {
    "duration": 30,
    "start_time": "2023-03-18T11:52:51.383Z"
   },
   {
    "duration": 22,
    "start_time": "2023-03-18T11:52:57.919Z"
   },
   {
    "duration": 28,
    "start_time": "2023-03-18T11:52:59.635Z"
   },
   {
    "duration": 506,
    "start_time": "2023-03-18T11:53:14.042Z"
   },
   {
    "duration": 168,
    "start_time": "2023-03-18T11:53:20.250Z"
   },
   {
    "duration": 171,
    "start_time": "2023-03-18T11:53:26.607Z"
   },
   {
    "duration": 120,
    "start_time": "2023-03-18T11:53:33.169Z"
   },
   {
    "duration": 316,
    "start_time": "2023-03-18T11:53:39.178Z"
   },
   {
    "duration": 878,
    "start_time": "2023-03-18T11:55:47.228Z"
   },
   {
    "duration": 11,
    "start_time": "2023-03-18T11:55:53.595Z"
   },
   {
    "duration": 3,
    "start_time": "2023-03-18T11:56:17.287Z"
   },
   {
    "duration": 936,
    "start_time": "2023-03-18T11:56:17.785Z"
   },
   {
    "duration": 13,
    "start_time": "2023-03-18T11:56:18.723Z"
   },
   {
    "duration": 1195,
    "start_time": "2023-03-18T11:56:18.738Z"
   },
   {
    "duration": 20,
    "start_time": "2023-03-18T11:56:19.935Z"
   },
   {
    "duration": 2376,
    "start_time": "2023-03-18T11:56:19.957Z"
   },
   {
    "duration": 533,
    "start_time": "2023-03-18T11:56:22.335Z"
   },
   {
    "duration": 35,
    "start_time": "2023-03-18T11:56:22.869Z"
   },
   {
    "duration": 92,
    "start_time": "2023-03-18T11:56:22.906Z"
   },
   {
    "duration": 239,
    "start_time": "2023-03-18T11:56:30.829Z"
   },
   {
    "duration": 228,
    "start_time": "2023-03-18T11:56:36.998Z"
   },
   {
    "duration": 33,
    "start_time": "2023-03-18T11:56:54.389Z"
   },
   {
    "duration": 33,
    "start_time": "2023-03-18T11:57:28.789Z"
   },
   {
    "duration": 3,
    "start_time": "2023-03-18T11:59:38.085Z"
   },
   {
    "duration": 876,
    "start_time": "2023-03-18T11:59:38.290Z"
   },
   {
    "duration": 18,
    "start_time": "2023-03-18T11:59:39.169Z"
   },
   {
    "duration": 1201,
    "start_time": "2023-03-18T11:59:39.189Z"
   },
   {
    "duration": 20,
    "start_time": "2023-03-18T11:59:40.394Z"
   },
   {
    "duration": 2306,
    "start_time": "2023-03-18T11:59:40.416Z"
   },
   {
    "duration": 511,
    "start_time": "2023-03-18T11:59:42.724Z"
   },
   {
    "duration": 33,
    "start_time": "2023-03-18T11:59:54.546Z"
   },
   {
    "duration": 214,
    "start_time": "2023-03-18T12:01:04.506Z"
   },
   {
    "duration": 27,
    "start_time": "2023-03-18T12:01:36.686Z"
   },
   {
    "duration": 574,
    "start_time": "2023-03-18T12:01:49.789Z"
   },
   {
    "duration": 171,
    "start_time": "2023-03-18T12:01:54.485Z"
   },
   {
    "duration": 301,
    "start_time": "2023-03-18T12:02:03.772Z"
   },
   {
    "duration": 26,
    "start_time": "2023-03-18T12:02:12.111Z"
   },
   {
    "duration": 26,
    "start_time": "2023-03-18T12:04:39.208Z"
   },
   {
    "duration": 26,
    "start_time": "2023-03-18T12:04:54.010Z"
   },
   {
    "duration": 153,
    "start_time": "2023-03-18T12:05:35.689Z"
   },
   {
    "duration": 23,
    "start_time": "2023-03-18T12:06:29.897Z"
   },
   {
    "duration": 132,
    "start_time": "2023-03-18T12:12:16.460Z"
   },
   {
    "duration": 2000,
    "start_time": "2023-03-18T12:12:21.113Z"
   },
   {
    "duration": 117,
    "start_time": "2023-03-18T12:12:57.358Z"
   },
   {
    "duration": 2198,
    "start_time": "2023-03-18T12:13:00.963Z"
   },
   {
    "duration": 241,
    "start_time": "2023-03-18T12:13:39.868Z"
   },
   {
    "duration": 11,
    "start_time": "2023-03-18T12:17:29.426Z"
   },
   {
    "duration": 77,
    "start_time": "2023-03-18T12:17:34.986Z"
   },
   {
    "duration": 87,
    "start_time": "2023-03-18T12:17:36.795Z"
   },
   {
    "duration": 111,
    "start_time": "2023-03-18T12:26:42.350Z"
   },
   {
    "duration": 10,
    "start_time": "2023-03-18T12:26:53.106Z"
   },
   {
    "duration": 22,
    "start_time": "2023-03-18T12:26:57.488Z"
   },
   {
    "duration": 132,
    "start_time": "2023-03-18T12:40:58.889Z"
   },
   {
    "duration": 289,
    "start_time": "2023-03-18T12:41:17.442Z"
   },
   {
    "duration": 128,
    "start_time": "2023-03-18T12:41:30.711Z"
   },
   {
    "duration": 22,
    "start_time": "2023-03-18T12:41:34.229Z"
   },
   {
    "duration": 169,
    "start_time": "2023-03-18T12:41:59.254Z"
   },
   {
    "duration": 194,
    "start_time": "2023-03-18T12:42:11.247Z"
   },
   {
    "duration": 155,
    "start_time": "2023-03-18T12:42:16.736Z"
   },
   {
    "duration": 176,
    "start_time": "2023-03-18T12:42:20.767Z"
   },
   {
    "duration": 127,
    "start_time": "2023-03-18T12:42:26.564Z"
   },
   {
    "duration": 197,
    "start_time": "2023-03-18T12:42:31.042Z"
   },
   {
    "duration": 77,
    "start_time": "2023-03-18T12:43:28.933Z"
   },
   {
    "duration": 20,
    "start_time": "2023-03-18T12:43:33.334Z"
   },
   {
    "duration": 124,
    "start_time": "2023-03-18T12:44:54.513Z"
   },
   {
    "duration": 19,
    "start_time": "2023-03-18T12:44:57.525Z"
   },
   {
    "duration": 96,
    "start_time": "2023-03-18T12:45:10.815Z"
   },
   {
    "duration": 152,
    "start_time": "2023-03-18T12:45:27.384Z"
   },
   {
    "duration": 92,
    "start_time": "2023-03-18T12:45:28.427Z"
   },
   {
    "duration": 19,
    "start_time": "2023-03-18T12:45:29.892Z"
   },
   {
    "duration": 6,
    "start_time": "2023-03-18T12:46:27.792Z"
   },
   {
    "duration": 33,
    "start_time": "2023-03-18T12:46:33.209Z"
   },
   {
    "duration": 105,
    "start_time": "2023-03-18T12:46:57.218Z"
   },
   {
    "duration": 44,
    "start_time": "2023-03-18T12:47:00.058Z"
   },
   {
    "duration": 33,
    "start_time": "2023-03-18T12:47:18.333Z"
   },
   {
    "duration": 36,
    "start_time": "2023-03-18T12:47:24.486Z"
   },
   {
    "duration": 173,
    "start_time": "2023-03-18T13:03:58.726Z"
   },
   {
    "duration": 34,
    "start_time": "2023-03-18T13:04:20.823Z"
   },
   {
    "duration": 63,
    "start_time": "2023-03-18T13:04:39.042Z"
   },
   {
    "duration": 35,
    "start_time": "2023-03-18T13:05:05.698Z"
   },
   {
    "duration": 49,
    "start_time": "2023-03-18T13:05:21.362Z"
   },
   {
    "duration": 51,
    "start_time": "2023-03-18T13:06:28.985Z"
   },
   {
    "duration": 49,
    "start_time": "2023-03-18T13:07:38.692Z"
   },
   {
    "duration": 11,
    "start_time": "2023-03-18T13:08:11.711Z"
   },
   {
    "duration": 33,
    "start_time": "2023-03-18T13:08:19.456Z"
   },
   {
    "duration": 53,
    "start_time": "2023-03-18T13:08:26.008Z"
   },
   {
    "duration": 502,
    "start_time": "2023-03-18T13:10:17.137Z"
   },
   {
    "duration": 59,
    "start_time": "2023-03-18T13:10:29.657Z"
   },
   {
    "duration": 98,
    "start_time": "2023-03-18T13:10:51.599Z"
   },
   {
    "duration": 3,
    "start_time": "2023-03-18T13:10:56.611Z"
   },
   {
    "duration": 885,
    "start_time": "2023-03-18T13:10:56.899Z"
   },
   {
    "duration": 24,
    "start_time": "2023-03-18T13:10:57.787Z"
   },
   {
    "duration": 1331,
    "start_time": "2023-03-18T13:10:57.813Z"
   },
   {
    "duration": 23,
    "start_time": "2023-03-18T13:11:04.710Z"
   },
   {
    "duration": 2701,
    "start_time": "2023-03-18T13:11:06.997Z"
   },
   {
    "duration": 619,
    "start_time": "2023-03-18T13:11:14.639Z"
   },
   {
    "duration": 115,
    "start_time": "2023-03-18T13:11:22.637Z"
   },
   {
    "duration": 653,
    "start_time": "2023-03-18T13:11:24.501Z"
   },
   {
    "duration": 171,
    "start_time": "2023-03-18T13:11:25.861Z"
   },
   {
    "duration": 130,
    "start_time": "2023-03-18T13:11:39.902Z"
   },
   {
    "duration": 89,
    "start_time": "2023-03-18T13:11:46.087Z"
   },
   {
    "duration": 58,
    "start_time": "2023-03-19T08:41:06.607Z"
   },
   {
    "duration": 928,
    "start_time": "2023-03-19T08:41:11.118Z"
   },
   {
    "duration": 1467,
    "start_time": "2023-03-19T08:41:12.048Z"
   },
   {
    "duration": 19,
    "start_time": "2023-03-19T08:41:13.518Z"
   },
   {
    "duration": 1398,
    "start_time": "2023-03-19T08:41:13.540Z"
   },
   {
    "duration": 34,
    "start_time": "2023-03-19T08:41:14.941Z"
   },
   {
    "duration": 2540,
    "start_time": "2023-03-19T08:41:14.977Z"
   },
   {
    "duration": 557,
    "start_time": "2023-03-19T08:41:17.519Z"
   },
   {
    "duration": 134,
    "start_time": "2023-03-19T08:41:18.078Z"
   },
   {
    "duration": 425,
    "start_time": "2023-03-19T08:41:18.219Z"
   },
   {
    "duration": 92,
    "start_time": "2023-03-19T08:41:18.646Z"
   },
   {
    "duration": 140,
    "start_time": "2023-03-19T08:41:18.740Z"
   },
   {
    "duration": 32,
    "start_time": "2023-03-19T08:41:18.882Z"
   },
   {
    "duration": 146,
    "start_time": "2023-03-19T08:41:37.824Z"
   },
   {
    "duration": 284,
    "start_time": "2023-03-19T08:41:50.120Z"
   },
   {
    "duration": 172,
    "start_time": "2023-03-19T08:42:16.093Z"
   },
   {
    "duration": 54,
    "start_time": "2023-03-19T08:45:24.452Z"
   },
   {
    "duration": 9,
    "start_time": "2023-03-19T08:45:28.445Z"
   },
   {
    "duration": 29,
    "start_time": "2023-03-19T08:45:54.852Z"
   },
   {
    "duration": 51,
    "start_time": "2023-03-19T08:45:59.401Z"
   },
   {
    "duration": 37,
    "start_time": "2023-03-19T08:46:14.376Z"
   },
   {
    "duration": 31,
    "start_time": "2023-03-19T08:47:13.053Z"
   },
   {
    "duration": 38,
    "start_time": "2023-03-19T08:47:20.364Z"
   },
   {
    "duration": 15,
    "start_time": "2023-03-19T08:47:29.688Z"
   },
   {
    "duration": 3,
    "start_time": "2023-03-19T09:07:05.117Z"
   },
   {
    "duration": 180,
    "start_time": "2023-03-19T09:09:11.737Z"
   },
   {
    "duration": 23,
    "start_time": "2023-03-19T09:09:18.872Z"
   },
   {
    "duration": 20,
    "start_time": "2023-03-19T09:22:41.311Z"
   },
   {
    "duration": 135,
    "start_time": "2023-03-19T09:22:53.714Z"
   },
   {
    "duration": 16,
    "start_time": "2023-03-19T09:23:17.213Z"
   },
   {
    "duration": 11,
    "start_time": "2023-03-19T09:23:24.257Z"
   },
   {
    "duration": 7,
    "start_time": "2023-03-19T09:23:31.941Z"
   },
   {
    "duration": 218,
    "start_time": "2023-03-19T09:24:01.149Z"
   },
   {
    "duration": 6,
    "start_time": "2023-03-19T09:24:05.015Z"
   },
   {
    "duration": 34,
    "start_time": "2023-03-19T09:29:37.449Z"
   },
   {
    "duration": 47,
    "start_time": "2023-03-19T09:30:51.011Z"
   },
   {
    "duration": 6,
    "start_time": "2023-03-19T09:36:32.214Z"
   },
   {
    "duration": 3,
    "start_time": "2023-03-19T09:36:39.514Z"
   },
   {
    "duration": 3,
    "start_time": "2023-03-19T09:36:44.224Z"
   },
   {
    "duration": 9,
    "start_time": "2023-03-19T09:37:01.195Z"
   },
   {
    "duration": 5,
    "start_time": "2023-03-19T09:39:09.107Z"
   },
   {
    "duration": 179,
    "start_time": "2023-03-19T09:39:17.859Z"
   },
   {
    "duration": 6,
    "start_time": "2023-03-19T09:39:30.286Z"
   },
   {
    "duration": 103,
    "start_time": "2023-03-19T09:39:33.926Z"
   },
   {
    "duration": 277,
    "start_time": "2023-03-19T09:39:46.412Z"
   },
   {
    "duration": 4,
    "start_time": "2023-03-19T09:39:52.315Z"
   },
   {
    "duration": 129,
    "start_time": "2023-03-19T09:39:52.718Z"
   },
   {
    "duration": 176,
    "start_time": "2023-03-19T09:41:06.330Z"
   },
   {
    "duration": 94,
    "start_time": "2023-03-19T09:41:19.126Z"
   },
   {
    "duration": 104,
    "start_time": "2023-03-19T09:41:44.316Z"
   },
   {
    "duration": 10034,
    "start_time": "2023-03-19T09:41:57.226Z"
   },
   {
    "duration": 17,
    "start_time": "2023-03-19T09:46:16.668Z"
   },
   {
    "duration": 18,
    "start_time": "2023-03-19T09:46:22.086Z"
   },
   {
    "duration": 1361,
    "start_time": "2023-03-19T09:46:27.488Z"
   },
   {
    "duration": 1240,
    "start_time": "2023-03-19T09:47:45.220Z"
   },
   {
    "duration": 5,
    "start_time": "2023-03-19T09:48:12.175Z"
   },
   {
    "duration": 9,
    "start_time": "2023-03-19T09:49:24.639Z"
   },
   {
    "duration": 13,
    "start_time": "2023-03-19T09:49:28.933Z"
   },
   {
    "duration": 25,
    "start_time": "2023-03-19T09:49:36.214Z"
   },
   {
    "duration": 10,
    "start_time": "2023-03-19T09:49:39.232Z"
   },
   {
    "duration": 61,
    "start_time": "2023-03-19T09:50:07.264Z"
   },
   {
    "duration": 109,
    "start_time": "2023-03-19T09:50:26.645Z"
   },
   {
    "duration": 4,
    "start_time": "2023-03-19T09:50:43.147Z"
   },
   {
    "duration": 978,
    "start_time": "2023-03-19T09:50:43.341Z"
   },
   {
    "duration": 27,
    "start_time": "2023-03-19T09:50:44.321Z"
   },
   {
    "duration": 1506,
    "start_time": "2023-03-19T09:50:44.350Z"
   },
   {
    "duration": 21,
    "start_time": "2023-03-19T09:50:45.858Z"
   },
   {
    "duration": 121,
    "start_time": "2023-03-19T09:50:45.950Z"
   },
   {
    "duration": 3337,
    "start_time": "2023-03-19T09:50:47.111Z"
   },
   {
    "duration": 477,
    "start_time": "2023-03-19T09:50:50.450Z"
   },
   {
    "duration": 110,
    "start_time": "2023-03-19T09:50:50.935Z"
   },
   {
    "duration": 463,
    "start_time": "2023-03-19T09:50:51.047Z"
   },
   {
    "duration": 98,
    "start_time": "2023-03-19T09:50:51.518Z"
   },
   {
    "duration": 119,
    "start_time": "2023-03-19T09:50:52.741Z"
   },
   {
    "duration": 217,
    "start_time": "2023-03-19T09:50:58.833Z"
   },
   {
    "duration": 1043,
    "start_time": "2023-03-19T09:51:02.533Z"
   },
   {
    "duration": 23,
    "start_time": "2023-03-19T09:51:20.258Z"
   },
   {
    "duration": 4,
    "start_time": "2023-03-19T09:51:33.769Z"
   },
   {
    "duration": 80311,
    "start_time": "2023-03-19T09:51:34.613Z"
   },
   {
    "duration": 283407,
    "start_time": "2023-03-19T09:52:56.976Z"
   },
   {
    "duration": 103,
    "start_time": "2023-03-19T10:12:00.218Z"
   },
   {
    "duration": 4,
    "start_time": "2023-03-19T10:12:08.127Z"
   },
   {
    "duration": 116,
    "start_time": "2023-03-19T10:12:56.895Z"
   },
   {
    "duration": 71,
    "start_time": "2023-03-19T10:13:09.853Z"
   },
   {
    "duration": 5,
    "start_time": "2023-03-19T10:14:13.031Z"
   },
   {
    "duration": 5,
    "start_time": "2023-03-19T10:16:03.655Z"
   },
   {
    "duration": 3123104,
    "start_time": "2023-03-19T10:16:14.609Z"
   },
   {
    "duration": 642,
    "start_time": "2023-03-19T11:08:28.672Z"
   },
   {
    "duration": 5,
    "start_time": "2023-03-19T11:10:08.683Z"
   },
   {
    "duration": 1604,
    "start_time": "2023-03-19T14:46:15.764Z"
   },
   {
    "duration": 1332,
    "start_time": "2023-03-19T14:46:18.220Z"
   },
   {
    "duration": 20,
    "start_time": "2023-03-19T14:46:19.554Z"
   },
   {
    "duration": 1249,
    "start_time": "2023-03-19T14:46:19.575Z"
   },
   {
    "duration": 33,
    "start_time": "2023-03-19T14:46:20.829Z"
   },
   {
    "duration": 158,
    "start_time": "2023-03-19T14:46:20.865Z"
   },
   {
    "duration": 2842,
    "start_time": "2023-03-19T14:46:21.026Z"
   },
   {
    "duration": 521,
    "start_time": "2023-03-19T14:46:23.870Z"
   },
   {
    "duration": 128,
    "start_time": "2023-03-19T14:46:24.393Z"
   },
   {
    "duration": 439,
    "start_time": "2023-03-19T14:46:24.523Z"
   },
   {
    "duration": 86,
    "start_time": "2023-03-19T14:46:24.964Z"
   },
   {
    "duration": 124,
    "start_time": "2023-03-19T14:46:25.052Z"
   },
   {
    "duration": 201,
    "start_time": "2023-03-19T14:46:25.178Z"
   },
   {
    "duration": 996,
    "start_time": "2023-03-19T14:46:25.381Z"
   },
   {
    "duration": 12,
    "start_time": "2023-03-19T14:46:26.379Z"
   },
   {
    "duration": 2840118,
    "start_time": "2023-03-19T14:46:26.560Z"
   },
   {
    "duration": 4,
    "start_time": "2023-03-19T15:34:41.108Z"
   },
   {
    "duration": 1291,
    "start_time": "2023-03-19T15:34:41.579Z"
   },
   {
    "duration": 13,
    "start_time": "2023-03-19T15:34:42.872Z"
   },
   {
    "duration": 1136,
    "start_time": "2023-03-19T15:34:42.887Z"
   },
   {
    "duration": 20,
    "start_time": "2023-03-19T15:34:44.025Z"
   },
   {
    "duration": 113,
    "start_time": "2023-03-19T15:34:44.046Z"
   },
   {
    "duration": 2858,
    "start_time": "2023-03-19T15:34:44.162Z"
   },
   {
    "duration": 437,
    "start_time": "2023-03-19T15:34:47.022Z"
   },
   {
    "duration": 122,
    "start_time": "2023-03-19T15:34:47.462Z"
   },
   {
    "duration": 448,
    "start_time": "2023-03-19T15:34:47.587Z"
   },
   {
    "duration": 80,
    "start_time": "2023-03-19T15:34:48.037Z"
   },
   {
    "duration": 112,
    "start_time": "2023-03-19T15:34:48.119Z"
   },
   {
    "duration": 216,
    "start_time": "2023-03-19T15:34:48.234Z"
   },
   {
    "duration": 944,
    "start_time": "2023-03-19T15:34:48.452Z"
   },
   {
    "duration": 4,
    "start_time": "2023-03-19T15:34:55.781Z"
   },
   {
    "duration": 5024,
    "start_time": "2023-03-19T16:07:23.506Z"
   },
   {
    "duration": 6505,
    "start_time": "2023-03-19T16:07:28.533Z"
   },
   {
    "duration": 92,
    "start_time": "2023-03-19T16:07:35.101Z"
   },
   {
    "duration": 5119,
    "start_time": "2023-03-19T16:07:35.198Z"
   },
   {
    "duration": 167,
    "start_time": "2023-03-19T16:07:40.324Z"
   },
   {
    "duration": 403,
    "start_time": "2023-03-19T16:07:40.493Z"
   },
   {
    "duration": 12403,
    "start_time": "2023-03-19T16:07:40.898Z"
   },
   {
    "duration": 2016,
    "start_time": "2023-03-19T16:07:53.306Z"
   },
   {
    "duration": 479,
    "start_time": "2023-03-19T16:07:55.325Z"
   },
   {
    "duration": 1879,
    "start_time": "2023-03-19T16:07:55.813Z"
   },
   {
    "duration": 403,
    "start_time": "2023-03-19T16:07:57.697Z"
   },
   {
    "duration": 490,
    "start_time": "2023-03-19T16:07:58.110Z"
   },
   {
    "duration": 723,
    "start_time": "2023-03-19T16:07:58.606Z"
   },
   {
    "duration": 3808,
    "start_time": "2023-03-19T16:07:59.395Z"
   },
   {
    "duration": 9,
    "start_time": "2023-03-19T16:08:03.209Z"
   },
   {
    "duration": 1043185,
    "start_time": "2023-03-19T16:08:03.223Z"
   },
   {
    "duration": 5,
    "start_time": "2023-03-19T16:25:50.443Z"
   },
   {
    "duration": 1350,
    "start_time": "2023-03-19T16:25:50.482Z"
   },
   {
    "duration": 14,
    "start_time": "2023-03-19T16:25:51.834Z"
   },
   {
    "duration": 1137,
    "start_time": "2023-03-19T16:25:51.850Z"
   },
   {
    "duration": 22,
    "start_time": "2023-03-19T16:25:53.000Z"
   },
   {
    "duration": 94,
    "start_time": "2023-03-19T16:25:53.024Z"
   },
   {
    "duration": 2740,
    "start_time": "2023-03-19T16:25:53.120Z"
   },
   {
    "duration": 441,
    "start_time": "2023-03-19T16:25:55.861Z"
   },
   {
    "duration": 120,
    "start_time": "2023-03-19T16:25:56.304Z"
   },
   {
    "duration": 453,
    "start_time": "2023-03-19T16:25:56.426Z"
   },
   {
    "duration": 85,
    "start_time": "2023-03-19T16:25:56.882Z"
   },
   {
    "duration": 114,
    "start_time": "2023-03-19T16:25:56.968Z"
   },
   {
    "duration": 205,
    "start_time": "2023-03-19T16:25:57.084Z"
   },
   {
    "duration": 928,
    "start_time": "2023-03-19T16:25:57.290Z"
   },
   {
    "duration": 5,
    "start_time": "2023-03-19T16:26:00.922Z"
   },
   {
    "duration": 4,
    "start_time": "2023-03-19T16:29:13.817Z"
   },
   {
    "duration": 1458,
    "start_time": "2023-03-19T16:38:08.986Z"
   },
   {
    "duration": 903,
    "start_time": "2023-03-19T16:38:10.452Z"
   },
   {
    "duration": 16,
    "start_time": "2023-03-19T16:38:11.357Z"
   },
   {
    "duration": 1238,
    "start_time": "2023-03-19T16:38:11.374Z"
   },
   {
    "duration": 28,
    "start_time": "2023-03-19T16:38:12.615Z"
   },
   {
    "duration": 130,
    "start_time": "2023-03-19T16:38:12.645Z"
   },
   {
    "duration": 2980,
    "start_time": "2023-03-19T16:38:12.777Z"
   },
   {
    "duration": 472,
    "start_time": "2023-03-19T16:38:15.759Z"
   },
   {
    "duration": 112,
    "start_time": "2023-03-19T16:38:16.232Z"
   },
   {
    "duration": 504,
    "start_time": "2023-03-19T16:38:16.346Z"
   },
   {
    "duration": 84,
    "start_time": "2023-03-19T16:38:16.851Z"
   },
   {
    "duration": 126,
    "start_time": "2023-03-19T16:38:16.938Z"
   },
   {
    "duration": 213,
    "start_time": "2023-03-19T16:38:17.066Z"
   },
   {
    "duration": 985,
    "start_time": "2023-03-19T16:38:17.281Z"
   },
   {
    "duration": 4,
    "start_time": "2023-03-19T16:38:18.268Z"
   },
   {
    "duration": 1848,
    "start_time": "2023-03-19T17:34:07.109Z"
   },
   {
    "duration": 1106,
    "start_time": "2023-03-19T17:34:08.959Z"
   },
   {
    "duration": 17,
    "start_time": "2023-03-19T17:34:10.068Z"
   },
   {
    "duration": 1467,
    "start_time": "2023-03-19T17:34:10.091Z"
   },
   {
    "duration": 35,
    "start_time": "2023-03-19T17:34:11.559Z"
   },
   {
    "duration": 183,
    "start_time": "2023-03-19T17:34:11.602Z"
   },
   {
    "duration": 3498,
    "start_time": "2023-03-19T17:34:11.786Z"
   },
   {
    "duration": 582,
    "start_time": "2023-03-19T17:34:15.286Z"
   },
   {
    "duration": 125,
    "start_time": "2023-03-19T17:34:15.870Z"
   },
   {
    "duration": 611,
    "start_time": "2023-03-19T17:34:15.997Z"
   },
   {
    "duration": 139,
    "start_time": "2023-03-19T17:34:16.907Z"
   },
   {
    "duration": 144,
    "start_time": "2023-03-19T17:34:18.621Z"
   },
   {
    "duration": 249,
    "start_time": "2023-03-19T17:34:19.908Z"
   },
   {
    "duration": 1312,
    "start_time": "2023-03-19T17:34:22.160Z"
   },
   {
    "duration": 5,
    "start_time": "2023-03-19T17:34:27.275Z"
   },
   {
    "duration": 3087315,
    "start_time": "2023-03-19T17:34:33.670Z"
   },
   {
    "duration": 1445,
    "start_time": "2023-03-19T18:26:46.741Z"
   },
   {
    "duration": 929,
    "start_time": "2023-03-19T18:26:48.188Z"
   },
   {
    "duration": 16,
    "start_time": "2023-03-19T18:26:49.119Z"
   },
   {
    "duration": 1203,
    "start_time": "2023-03-19T18:26:49.137Z"
   },
   {
    "duration": 28,
    "start_time": "2023-03-19T18:26:50.342Z"
   },
   {
    "duration": 137,
    "start_time": "2023-03-19T18:26:50.372Z"
   },
   {
    "duration": 2946,
    "start_time": "2023-03-19T18:26:50.511Z"
   },
   {
    "duration": 491,
    "start_time": "2023-03-19T18:26:53.459Z"
   },
   {
    "duration": 110,
    "start_time": "2023-03-19T18:26:53.952Z"
   },
   {
    "duration": 423,
    "start_time": "2023-03-19T18:26:54.064Z"
   },
   {
    "duration": 107,
    "start_time": "2023-03-19T18:26:54.489Z"
   },
   {
    "duration": 118,
    "start_time": "2023-03-19T18:26:54.598Z"
   },
   {
    "duration": 200,
    "start_time": "2023-03-19T18:26:58.019Z"
   },
   {
    "duration": 1015,
    "start_time": "2023-03-19T18:27:00.419Z"
   },
   {
    "duration": 8,
    "start_time": "2023-03-19T18:27:03.211Z"
   },
   {
    "duration": 573968,
    "start_time": "2023-03-19T18:27:08.912Z"
   },
   {
    "duration": 5,
    "start_time": "2023-03-19T19:16:48.422Z"
   },
   {
    "duration": 1299,
    "start_time": "2023-03-19T19:16:48.634Z"
   },
   {
    "duration": 16,
    "start_time": "2023-03-19T19:16:49.935Z"
   },
   {
    "duration": 1165,
    "start_time": "2023-03-19T19:16:49.952Z"
   },
   {
    "duration": 18,
    "start_time": "2023-03-19T19:16:51.121Z"
   },
   {
    "duration": 117,
    "start_time": "2023-03-19T19:16:51.142Z"
   },
   {
    "duration": 2773,
    "start_time": "2023-03-19T19:16:51.261Z"
   },
   {
    "duration": 411,
    "start_time": "2023-03-19T19:16:54.036Z"
   },
   {
    "duration": 113,
    "start_time": "2023-03-19T19:16:54.449Z"
   },
   {
    "duration": 432,
    "start_time": "2023-03-19T19:16:54.563Z"
   },
   {
    "duration": 79,
    "start_time": "2023-03-19T19:16:54.997Z"
   },
   {
    "duration": 122,
    "start_time": "2023-03-19T19:16:55.078Z"
   },
   {
    "duration": 205,
    "start_time": "2023-03-19T19:16:55.204Z"
   },
   {
    "duration": 896,
    "start_time": "2023-03-19T19:16:55.411Z"
   },
   {
    "duration": 5,
    "start_time": "2023-03-19T19:17:15.126Z"
   },
   {
    "duration": 1470779,
    "start_time": "2023-03-19T19:17:16.238Z"
   },
   {
    "duration": 4,
    "start_time": "2023-03-19T20:21:16.618Z"
   },
   {
    "duration": 1281,
    "start_time": "2023-03-19T20:21:16.647Z"
   },
   {
    "duration": 15,
    "start_time": "2023-03-19T20:21:17.930Z"
   },
   {
    "duration": 1138,
    "start_time": "2023-03-19T20:21:17.946Z"
   },
   {
    "duration": 24,
    "start_time": "2023-03-19T20:21:19.086Z"
   },
   {
    "duration": 111,
    "start_time": "2023-03-19T20:21:19.112Z"
   },
   {
    "duration": 2888,
    "start_time": "2023-03-19T20:21:19.225Z"
   },
   {
    "duration": 415,
    "start_time": "2023-03-19T20:21:22.118Z"
   },
   {
    "duration": 108,
    "start_time": "2023-03-19T20:21:22.535Z"
   },
   {
    "duration": 405,
    "start_time": "2023-03-19T20:21:22.645Z"
   },
   {
    "duration": 92,
    "start_time": "2023-03-19T20:21:23.053Z"
   },
   {
    "duration": 117,
    "start_time": "2023-03-19T20:21:23.147Z"
   },
   {
    "duration": 198,
    "start_time": "2023-03-19T20:21:23.266Z"
   },
   {
    "duration": 927,
    "start_time": "2023-03-19T20:21:23.466Z"
   },
   {
    "duration": 9,
    "start_time": "2023-03-19T20:21:24.395Z"
   },
   {
    "duration": 1735,
    "start_time": "2023-03-19T21:10:55.887Z"
   },
   {
    "duration": 1099,
    "start_time": "2023-03-19T21:10:57.624Z"
   },
   {
    "duration": 22,
    "start_time": "2023-03-19T21:10:58.728Z"
   },
   {
    "duration": 1485,
    "start_time": "2023-03-19T21:10:58.752Z"
   },
   {
    "duration": 28,
    "start_time": "2023-03-19T21:11:00.244Z"
   },
   {
    "duration": 185,
    "start_time": "2023-03-19T21:11:00.274Z"
   },
   {
    "duration": 3426,
    "start_time": "2023-03-19T21:11:00.461Z"
   },
   {
    "duration": 568,
    "start_time": "2023-03-19T21:11:03.892Z"
   },
   {
    "duration": 118,
    "start_time": "2023-03-19T21:11:04.462Z"
   },
   {
    "duration": 521,
    "start_time": "2023-03-19T21:11:04.581Z"
   },
   {
    "duration": 124,
    "start_time": "2023-03-19T21:11:05.105Z"
   },
   {
    "duration": 169,
    "start_time": "2023-03-19T21:11:05.231Z"
   },
   {
    "duration": 252,
    "start_time": "2023-03-19T21:11:05.407Z"
   },
   {
    "duration": 1238,
    "start_time": "2023-03-19T21:11:05.661Z"
   },
   {
    "duration": 5,
    "start_time": "2023-03-19T21:11:06.901Z"
   },
   {
    "duration": 8468847,
    "start_time": "2023-03-19T21:11:06.913Z"
   },
   {
    "duration": 5,
    "start_time": "2023-03-20T07:12:40.236Z"
   },
   {
    "duration": 1044,
    "start_time": "2023-03-20T07:12:40.546Z"
   },
   {
    "duration": 15,
    "start_time": "2023-03-20T07:12:41.593Z"
   },
   {
    "duration": 1441,
    "start_time": "2023-03-20T07:12:47.721Z"
   },
   {
    "duration": 855,
    "start_time": "2023-03-20T07:12:49.164Z"
   },
   {
    "duration": 18,
    "start_time": "2023-03-20T07:12:50.021Z"
   },
   {
    "duration": 1142,
    "start_time": "2023-03-20T07:12:50.040Z"
   },
   {
    "duration": 27,
    "start_time": "2023-03-20T07:12:51.185Z"
   },
   {
    "duration": 132,
    "start_time": "2023-03-20T07:12:51.214Z"
   },
   {
    "duration": 2692,
    "start_time": "2023-03-20T07:12:51.347Z"
   },
   {
    "duration": 467,
    "start_time": "2023-03-20T07:12:54.041Z"
   },
   {
    "duration": 103,
    "start_time": "2023-03-20T07:12:54.510Z"
   },
   {
    "duration": 376,
    "start_time": "2023-03-20T07:12:54.615Z"
   },
   {
    "duration": 69,
    "start_time": "2023-03-20T07:12:54.992Z"
   },
   {
    "duration": 116,
    "start_time": "2023-03-20T07:12:55.064Z"
   },
   {
    "duration": 187,
    "start_time": "2023-03-20T07:12:55.183Z"
   },
   {
    "duration": 914,
    "start_time": "2023-03-20T07:12:55.372Z"
   },
   {
    "duration": 5,
    "start_time": "2023-03-20T07:12:56.287Z"
   },
   {
    "duration": 18705,
    "start_time": "2023-03-20T07:19:05.191Z"
   },
   {
    "duration": 9297,
    "start_time": "2023-03-20T07:19:23.898Z"
   },
   {
    "duration": 192,
    "start_time": "2023-03-20T07:19:33.202Z"
   },
   {
    "duration": 9814,
    "start_time": "2023-03-20T07:19:33.398Z"
   },
   {
    "duration": 205,
    "start_time": "2023-03-20T07:19:43.296Z"
   },
   {
    "duration": 888,
    "start_time": "2023-03-20T07:19:43.503Z"
   },
   {
    "duration": 19769,
    "start_time": "2023-03-20T07:19:44.397Z"
   },
   {
    "duration": 500,
    "start_time": "2023-03-20T07:20:04.168Z"
   },
   {
    "duration": 112,
    "start_time": "2023-03-20T07:20:04.670Z"
   },
   {
    "duration": 447,
    "start_time": "2023-03-20T07:20:04.787Z"
   },
   {
    "duration": 76,
    "start_time": "2023-03-20T07:20:05.236Z"
   },
   {
    "duration": 112,
    "start_time": "2023-03-20T07:20:05.314Z"
   },
   {
    "duration": 199,
    "start_time": "2023-03-20T07:20:05.428Z"
   },
   {
    "duration": 971,
    "start_time": "2023-03-20T07:20:05.629Z"
   },
   {
    "duration": 4,
    "start_time": "2023-03-20T07:20:06.602Z"
   },
   {
    "duration": 118488,
    "start_time": "2023-03-20T07:20:06.609Z"
   },
   {
    "duration": 5,
    "start_time": "2023-03-20T07:24:34.510Z"
   },
   {
    "duration": 2425,
    "start_time": "2023-03-20T08:21:33.348Z"
   },
   {
    "duration": 1556,
    "start_time": "2023-03-20T08:21:35.777Z"
   },
   {
    "duration": 19,
    "start_time": "2023-03-20T08:21:37.335Z"
   },
   {
    "duration": 1264,
    "start_time": "2023-03-20T08:21:37.356Z"
   },
   {
    "duration": 29,
    "start_time": "2023-03-20T08:21:38.623Z"
   },
   {
    "duration": 171,
    "start_time": "2023-03-20T08:21:38.654Z"
   },
   {
    "duration": 3379,
    "start_time": "2023-03-20T08:21:38.828Z"
   },
   {
    "duration": 702,
    "start_time": "2023-03-20T08:21:42.209Z"
   },
   {
    "duration": 110,
    "start_time": "2023-03-20T08:21:42.913Z"
   },
   {
    "duration": 505,
    "start_time": "2023-03-20T08:21:43.025Z"
   },
   {
    "duration": 78,
    "start_time": "2023-03-20T08:21:43.532Z"
   },
   {
    "duration": 109,
    "start_time": "2023-03-20T08:21:43.612Z"
   },
   {
    "duration": 236,
    "start_time": "2023-03-20T08:21:43.723Z"
   },
   {
    "duration": 1084,
    "start_time": "2023-03-20T08:21:43.962Z"
   },
   {
    "duration": 5,
    "start_time": "2023-03-20T08:21:45.050Z"
   },
   {
    "duration": 1512,
    "start_time": "2023-03-20T10:01:39.969Z"
   },
   {
    "duration": 1353,
    "start_time": "2023-03-20T10:01:41.483Z"
   },
   {
    "duration": 22,
    "start_time": "2023-03-20T10:01:42.839Z"
   },
   {
    "duration": 1257,
    "start_time": "2023-03-20T10:01:42.863Z"
   },
   {
    "duration": 28,
    "start_time": "2023-03-20T10:01:44.123Z"
   },
   {
    "duration": 141,
    "start_time": "2023-03-20T10:01:44.152Z"
   },
   {
    "duration": 3238,
    "start_time": "2023-03-20T10:01:44.298Z"
   },
   {
    "duration": 468,
    "start_time": "2023-03-20T10:01:47.538Z"
   },
   {
    "duration": 104,
    "start_time": "2023-03-20T10:01:48.010Z"
   },
   {
    "duration": 429,
    "start_time": "2023-03-20T10:01:48.115Z"
   },
   {
    "duration": 84,
    "start_time": "2023-03-20T10:01:48.546Z"
   },
   {
    "duration": 120,
    "start_time": "2023-03-20T10:01:48.632Z"
   },
   {
    "duration": 215,
    "start_time": "2023-03-20T10:01:48.757Z"
   },
   {
    "duration": 951,
    "start_time": "2023-03-20T10:01:48.974Z"
   },
   {
    "duration": 77,
    "start_time": "2023-03-20T10:01:49.927Z"
   },
   {
    "duration": 0,
    "start_time": "2023-03-20T10:01:50.006Z"
   },
   {
    "duration": 5,
    "start_time": "2023-03-20T10:02:00.442Z"
   },
   {
    "duration": 1756,
    "start_time": "2023-03-20T11:52:34.014Z"
   },
   {
    "duration": 1648,
    "start_time": "2023-03-20T11:52:35.772Z"
   },
   {
    "duration": 18,
    "start_time": "2023-03-20T11:52:37.424Z"
   },
   {
    "duration": 1261,
    "start_time": "2023-03-20T11:52:37.444Z"
   },
   {
    "duration": 35,
    "start_time": "2023-03-20T11:52:38.708Z"
   },
   {
    "duration": 136,
    "start_time": "2023-03-20T11:52:38.744Z"
   },
   {
    "duration": 3386,
    "start_time": "2023-03-20T11:52:38.882Z"
   },
   {
    "duration": 499,
    "start_time": "2023-03-20T11:52:42.270Z"
   },
   {
    "duration": 105,
    "start_time": "2023-03-20T11:52:42.770Z"
   },
   {
    "duration": 457,
    "start_time": "2023-03-20T11:52:42.877Z"
   },
   {
    "duration": 103,
    "start_time": "2023-03-20T11:52:43.337Z"
   },
   {
    "duration": 125,
    "start_time": "2023-03-20T11:52:43.442Z"
   },
   {
    "duration": 238,
    "start_time": "2023-03-20T11:52:43.569Z"
   },
   {
    "duration": 1018,
    "start_time": "2023-03-20T11:52:43.810Z"
   },
   {
    "duration": 7,
    "start_time": "2023-03-20T11:52:45.514Z"
   },
   {
    "duration": 315,
    "start_time": "2023-03-20T12:48:09.658Z"
   },
   {
    "duration": 2512,
    "start_time": "2023-03-20T12:48:16.578Z"
   },
   {
    "duration": 1840,
    "start_time": "2023-03-20T12:48:19.094Z"
   },
   {
    "duration": 21,
    "start_time": "2023-03-20T12:48:20.943Z"
   },
   {
    "duration": 1632,
    "start_time": "2023-03-20T12:48:20.967Z"
   },
   {
    "duration": 39,
    "start_time": "2023-03-20T12:48:22.604Z"
   },
   {
    "duration": 168,
    "start_time": "2023-03-20T12:48:22.646Z"
   },
   {
    "duration": 3789,
    "start_time": "2023-03-20T12:48:22.818Z"
   },
   {
    "duration": 700,
    "start_time": "2023-03-20T12:48:26.617Z"
   },
   {
    "duration": 141,
    "start_time": "2023-03-20T12:48:27.319Z"
   },
   {
    "duration": 715,
    "start_time": "2023-03-20T12:48:27.470Z"
   },
   {
    "duration": 166,
    "start_time": "2023-03-20T12:48:28.200Z"
   },
   {
    "duration": 198,
    "start_time": "2023-03-20T12:48:28.370Z"
   },
   {
    "duration": 250,
    "start_time": "2023-03-20T12:48:28.575Z"
   },
   {
    "duration": 1170,
    "start_time": "2023-03-20T12:48:28.831Z"
   },
   {
    "duration": 5,
    "start_time": "2023-03-20T12:48:30.742Z"
   },
   {
    "duration": 1767,
    "start_time": "2023-03-20T14:34:27.406Z"
   },
   {
    "duration": 1140,
    "start_time": "2023-03-20T14:34:29.176Z"
   },
   {
    "duration": 15,
    "start_time": "2023-03-20T14:34:30.318Z"
   },
   {
    "duration": 1246,
    "start_time": "2023-03-20T14:34:30.335Z"
   },
   {
    "duration": 33,
    "start_time": "2023-03-20T14:34:31.582Z"
   },
   {
    "duration": 131,
    "start_time": "2023-03-20T14:34:31.618Z"
   },
   {
    "duration": 3033,
    "start_time": "2023-03-20T14:34:31.751Z"
   },
   {
    "duration": 510,
    "start_time": "2023-03-20T14:34:34.794Z"
   },
   {
    "duration": 108,
    "start_time": "2023-03-20T14:34:35.306Z"
   },
   {
    "duration": 511,
    "start_time": "2023-03-20T14:34:35.417Z"
   },
   {
    "duration": 85,
    "start_time": "2023-03-20T14:34:35.930Z"
   },
   {
    "duration": 123,
    "start_time": "2023-03-20T14:34:36.017Z"
   },
   {
    "duration": 216,
    "start_time": "2023-03-20T14:34:36.142Z"
   },
   {
    "duration": 1003,
    "start_time": "2023-03-20T14:34:51.226Z"
   },
   {
    "duration": 4,
    "start_time": "2023-03-20T14:34:53.526Z"
   },
   {
    "duration": 1703316,
    "start_time": "2023-03-20T14:34:55.202Z"
   },
   {
    "duration": 302,
    "start_time": "2023-03-20T15:04:03.515Z"
   },
   {
    "duration": 6,
    "start_time": "2023-03-20T15:04:05.245Z"
   },
   {
    "duration": 1458,
    "start_time": "2023-03-20T15:04:05.653Z"
   },
   {
    "duration": 2975,
    "start_time": "2023-03-20T15:04:21.145Z"
   },
   {
    "duration": 2933,
    "start_time": "2023-03-20T15:04:50.682Z"
   },
   {
    "duration": 5,
    "start_time": "2023-03-20T15:05:02.822Z"
   },
   {
    "duration": 11190,
    "start_time": "2023-03-20T15:05:33.828Z"
   },
   {
    "duration": 5,
    "start_time": "2023-03-20T15:05:45.020Z"
   },
   {
    "duration": 2958,
    "start_time": "2023-03-20T15:05:52.158Z"
   },
   {
    "duration": 2880,
    "start_time": "2023-03-20T15:05:58.139Z"
   },
   {
    "duration": 5,
    "start_time": "2023-03-20T15:06:06.240Z"
   },
   {
    "duration": 11178,
    "start_time": "2023-03-20T15:06:07.146Z"
   },
   {
    "duration": 5,
    "start_time": "2023-03-20T15:06:18.326Z"
   },
   {
    "duration": 2843,
    "start_time": "2023-03-20T15:06:35.678Z"
   },
   {
    "duration": 5,
    "start_time": "2023-03-20T15:06:38.523Z"
   },
   {
    "duration": 10883,
    "start_time": "2023-03-20T15:06:38.530Z"
   },
   {
    "duration": 5,
    "start_time": "2023-03-20T15:06:49.415Z"
   },
   {
    "duration": 6,
    "start_time": "2023-03-20T15:11:53.779Z"
   },
   {
    "duration": 1950,
    "start_time": "2023-03-23T07:06:19.730Z"
   },
   {
    "duration": 1740,
    "start_time": "2023-03-23T07:06:21.685Z"
   },
   {
    "duration": 25,
    "start_time": "2023-03-23T07:06:23.427Z"
   },
   {
    "duration": 1587,
    "start_time": "2023-03-23T07:06:23.455Z"
   },
   {
    "duration": 43,
    "start_time": "2023-03-23T07:06:25.045Z"
   },
   {
    "duration": 185,
    "start_time": "2023-03-23T07:06:25.100Z"
   },
   {
    "duration": 3514,
    "start_time": "2023-03-23T07:06:25.288Z"
   },
   {
    "duration": 688,
    "start_time": "2023-03-23T07:06:28.808Z"
   },
   {
    "duration": 259,
    "start_time": "2023-03-23T07:06:29.501Z"
   },
   {
    "duration": 563,
    "start_time": "2023-03-23T07:06:29.763Z"
   },
   {
    "duration": 111,
    "start_time": "2023-03-23T07:06:30.328Z"
   },
   {
    "duration": 207,
    "start_time": "2023-03-23T07:06:30.441Z"
   },
   {
    "duration": 258,
    "start_time": "2023-03-23T07:06:30.650Z"
   },
   {
    "duration": 1222,
    "start_time": "2023-03-23T07:06:30.920Z"
   },
   {
    "duration": 146,
    "start_time": "2023-03-23T07:07:01.060Z"
   },
   {
    "duration": 4,
    "start_time": "2023-03-23T07:07:14.069Z"
   },
   {
    "duration": 604685,
    "start_time": "2023-03-23T07:07:16.513Z"
   },
   {
    "duration": 2494670,
    "start_time": "2023-03-23T07:17:42.032Z"
   },
   {
    "duration": 100,
    "start_time": "2023-03-23T07:59:28.629Z"
   },
   {
    "duration": 1572,
    "start_time": "2023-03-23T07:59:34.094Z"
   },
   {
    "duration": 913,
    "start_time": "2023-03-23T07:59:35.668Z"
   },
   {
    "duration": 32,
    "start_time": "2023-03-23T07:59:36.582Z"
   },
   {
    "duration": 1029,
    "start_time": "2023-03-23T07:59:36.617Z"
   },
   {
    "duration": 23,
    "start_time": "2023-03-23T07:59:37.648Z"
   },
   {
    "duration": 106,
    "start_time": "2023-03-23T07:59:37.673Z"
   },
   {
    "duration": 2586,
    "start_time": "2023-03-23T07:59:37.780Z"
   },
   {
    "duration": 413,
    "start_time": "2023-03-23T07:59:40.368Z"
   },
   {
    "duration": 98,
    "start_time": "2023-03-23T07:59:40.783Z"
   },
   {
    "duration": 429,
    "start_time": "2023-03-23T07:59:40.882Z"
   },
   {
    "duration": 65,
    "start_time": "2023-03-23T07:59:41.312Z"
   },
   {
    "duration": 95,
    "start_time": "2023-03-23T07:59:41.379Z"
   },
   {
    "duration": 177,
    "start_time": "2023-03-23T07:59:41.475Z"
   },
   {
    "duration": 834,
    "start_time": "2023-03-23T07:59:42.008Z"
   },
   {
    "duration": 135,
    "start_time": "2023-03-23T07:59:42.845Z"
   },
   {
    "duration": 4,
    "start_time": "2023-03-23T07:59:47.448Z"
   },
   {
    "duration": 518403,
    "start_time": "2023-03-23T07:59:50.032Z"
   },
   {
    "duration": 733211,
    "start_time": "2023-03-23T08:08:34.436Z"
   },
   {
    "duration": 6,
    "start_time": "2023-03-23T08:23:39.265Z"
   },
   {
    "duration": 3,
    "start_time": "2023-03-23T08:26:17.154Z"
   },
   {
    "duration": 37703,
    "start_time": "2023-03-23T08:26:17.256Z"
   },
   {
    "duration": 6,
    "start_time": "2023-03-23T08:38:41.148Z"
   },
   {
    "duration": 8,
    "start_time": "2023-03-23T08:38:58.656Z"
   },
   {
    "duration": 9,
    "start_time": "2023-03-23T08:39:20.047Z"
   },
   {
    "duration": 34,
    "start_time": "2023-03-23T08:52:17.681Z"
   },
   {
    "duration": 11,
    "start_time": "2023-03-23T08:53:00.028Z"
   },
   {
    "duration": 2154,
    "start_time": "2023-03-23T08:53:07.199Z"
   },
   {
    "duration": 19,
    "start_time": "2023-03-23T08:53:16.921Z"
   },
   {
    "duration": 3,
    "start_time": "2023-03-23T08:54:07.815Z"
   },
   {
    "duration": 10,
    "start_time": "2023-03-23T08:54:08.163Z"
   },
   {
    "duration": 17,
    "start_time": "2023-03-23T08:54:14.785Z"
   },
   {
    "duration": 11,
    "start_time": "2023-03-23T08:54:15.055Z"
   },
   {
    "duration": 8,
    "start_time": "2023-03-23T08:54:19.483Z"
   },
   {
    "duration": 16,
    "start_time": "2023-03-23T08:54:37.283Z"
   },
   {
    "duration": 26,
    "start_time": "2023-03-23T08:54:41.830Z"
   },
   {
    "duration": 23,
    "start_time": "2023-03-23T08:54:50.032Z"
   },
   {
    "duration": 3,
    "start_time": "2023-03-23T08:56:03.252Z"
   },
   {
    "duration": 30,
    "start_time": "2023-03-23T08:56:03.589Z"
   },
   {
    "duration": 4,
    "start_time": "2023-03-23T08:56:09.846Z"
   },
   {
    "duration": 19,
    "start_time": "2023-03-23T08:56:10.342Z"
   },
   {
    "duration": 7,
    "start_time": "2023-03-23T10:18:55.664Z"
   },
   {
    "duration": 3,
    "start_time": "2023-03-23T10:20:58.063Z"
   },
   {
    "duration": 4,
    "start_time": "2023-03-23T10:21:03.043Z"
   },
   {
    "duration": 7,
    "start_time": "2023-03-23T10:21:11.984Z"
   },
   {
    "duration": 8,
    "start_time": "2023-03-23T10:21:23.922Z"
   },
   {
    "duration": 3,
    "start_time": "2023-03-23T10:21:33.564Z"
   },
   {
    "duration": 3,
    "start_time": "2023-03-23T10:21:38.724Z"
   },
   {
    "duration": 449336,
    "start_time": "2023-03-23T10:21:48.583Z"
   },
   {
    "duration": 34,
    "start_time": "2023-03-23T10:35:15.077Z"
   },
   {
    "duration": 8,
    "start_time": "2023-03-23T10:35:46.560Z"
   },
   {
    "duration": 31,
    "start_time": "2023-03-23T10:36:16.979Z"
   },
   {
    "duration": 6,
    "start_time": "2023-03-23T10:37:17.317Z"
   },
   {
    "duration": 16,
    "start_time": "2023-03-23T10:37:56.818Z"
   },
   {
    "duration": 11,
    "start_time": "2023-03-23T10:55:20.518Z"
   },
   {
    "duration": 5,
    "start_time": "2023-03-23T10:55:32.834Z"
   },
   {
    "duration": 4,
    "start_time": "2023-03-23T10:56:45.363Z"
   },
   {
    "duration": 521632,
    "start_time": "2023-03-23T10:56:47.265Z"
   },
   {
    "duration": 39,
    "start_time": "2023-03-23T11:09:37.466Z"
   },
   {
    "duration": 10,
    "start_time": "2023-03-23T11:10:15.611Z"
   },
   {
    "duration": 1746852,
    "start_time": "2023-03-23T11:10:27.917Z"
   },
   {
    "duration": 27,
    "start_time": "2023-03-23T11:44:20.712Z"
   },
   {
    "duration": 3711,
    "start_time": "2023-03-23T12:02:09.109Z"
   },
   {
    "duration": 101,
    "start_time": "2023-03-23T12:02:51.210Z"
   },
   {
    "duration": 102,
    "start_time": "2023-03-23T12:04:26.541Z"
   },
   {
    "duration": 3721,
    "start_time": "2023-03-23T12:04:47.412Z"
   },
   {
    "duration": 3785,
    "start_time": "2023-03-23T12:05:00.014Z"
   },
   {
    "duration": 3680,
    "start_time": "2023-03-23T12:05:15.936Z"
   },
   {
    "duration": 12,
    "start_time": "2023-03-23T12:05:19.619Z"
   },
   {
    "duration": 8,
    "start_time": "2023-03-23T12:05:29.414Z"
   },
   {
    "duration": 3864,
    "start_time": "2023-03-23T12:05:33.133Z"
   },
   {
    "duration": 10,
    "start_time": "2023-03-23T12:05:42.261Z"
   },
   {
    "duration": 9,
    "start_time": "2023-03-23T12:05:58.333Z"
   },
   {
    "duration": 9,
    "start_time": "2023-03-23T12:06:07.053Z"
   },
   {
    "duration": 416,
    "start_time": "2023-03-23T12:06:13.773Z"
   },
   {
    "duration": 5,
    "start_time": "2023-03-23T12:06:14.673Z"
   },
   {
    "duration": 3603,
    "start_time": "2023-03-23T12:06:18.412Z"
   },
   {
    "duration": 4,
    "start_time": "2023-03-23T12:06:22.213Z"
   },
   {
    "duration": 1358,
    "start_time": "2023-03-23T12:12:01.425Z"
   },
   {
    "duration": 1087,
    "start_time": "2023-03-23T12:12:02.784Z"
   },
   {
    "duration": 38,
    "start_time": "2023-03-23T12:12:03.872Z"
   },
   {
    "duration": 896,
    "start_time": "2023-03-23T12:12:03.912Z"
   },
   {
    "duration": 25,
    "start_time": "2023-03-23T12:12:04.810Z"
   },
   {
    "duration": 99,
    "start_time": "2023-03-23T12:12:04.836Z"
   },
   {
    "duration": 2524,
    "start_time": "2023-03-23T12:12:04.937Z"
   },
   {
    "duration": 361,
    "start_time": "2023-03-23T12:12:07.463Z"
   },
   {
    "duration": 91,
    "start_time": "2023-03-23T12:12:07.825Z"
   },
   {
    "duration": 344,
    "start_time": "2023-03-23T12:12:07.918Z"
   },
   {
    "duration": 74,
    "start_time": "2023-03-23T12:12:08.263Z"
   },
   {
    "duration": 96,
    "start_time": "2023-03-23T12:12:08.339Z"
   },
   {
    "duration": 175,
    "start_time": "2023-03-23T12:12:08.436Z"
   },
   {
    "duration": 726,
    "start_time": "2023-03-23T12:12:08.614Z"
   },
   {
    "duration": 3,
    "start_time": "2023-03-23T12:12:09.341Z"
   },
   {
    "duration": 1238412,
    "start_time": "2023-03-23T12:12:09.346Z"
   },
   {
    "duration": 52,
    "start_time": "2023-03-23T12:32:47.760Z"
   },
   {
    "duration": 3484,
    "start_time": "2023-03-23T12:32:47.814Z"
   },
   {
    "duration": 162,
    "start_time": "2023-03-23T12:32:51.299Z"
   },
   {
    "duration": 371,
    "start_time": "2023-03-23T12:43:54.444Z"
   }
  ],
  "kernelspec": {
   "display_name": "Python 3 (ipykernel)",
   "language": "python",
   "name": "python3"
  },
  "language_info": {
   "codemirror_mode": {
    "name": "ipython",
    "version": 3
   },
   "file_extension": ".py",
   "mimetype": "text/x-python",
   "name": "python",
   "nbconvert_exporter": "python",
   "pygments_lexer": "ipython3",
   "version": "3.9.13"
  },
  "toc": {
   "base_numbering": 1,
   "nav_menu": {},
   "number_sections": true,
   "sideBar": true,
   "skip_h1_title": true,
   "title_cell": "Table of Contents",
   "title_sidebar": "Contents",
   "toc_cell": false,
   "toc_position": {},
   "toc_section_display": true,
   "toc_window_display": false
  }
 },
 "nbformat": 4,
 "nbformat_minor": 4
}
