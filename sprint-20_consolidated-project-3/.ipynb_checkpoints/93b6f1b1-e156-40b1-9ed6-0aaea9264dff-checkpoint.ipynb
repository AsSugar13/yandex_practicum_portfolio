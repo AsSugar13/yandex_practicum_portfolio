{
 "cells": [
  {
   "cell_type": "markdown",
   "id": "fd255e0f",
   "metadata": {},
   "source": [
    "<div style=\"border:solid Green 2px; padding: 40px\">\n",
    "    <b> Привет!</b>🌸<br/>\n",
    "    <p>Меня зовут София, я буду ревьюером твоего проекта. Предлагаю обращаться на \"ты\", но если это неудобноо - дай знать, и мы перейдем на \"вы\".</p>\n",
    "    <p>Для удобства мои комментарии в твоей работе раскрашены разными цветами:</p>\n",
    "    <br/>\n",
    "<div class=\"alert alert-success\">\n",
    "    <b> ✅**Комментарий ревьюера** </b>\n",
    "        <p>Такой комментарий означает что решение на отдельном шаге является полностью правильным и я хочу тебя похвалить за отлично выполненную работу. На решения, отмеченные этим комментарием, можно опираться в будущих проектах. </p>\n",
    "</div>\n",
    "    <br/>\n",
    "<div class=\"alert alert-warning\">\n",
    "    <b>💡**Комментарий ревьюера** </b>\n",
    "    <p> Такой комментарий я оставляю в случае, когда решение на отдельном шаге станет еще лучше, если внести небольшие коррективы. Ты можешь учесть эти комментарии при выполнении будущих заданий или доработать проект сейчас (однако это не обязательно). </p>\n",
    "</div>\n",
    "    <br/>\n",
    "<div class=\"alert alert-block alert-danger\">\n",
    "    <b> ❌**Комментарий ревьюера** </b> \n",
    "    <p> Такой комментарий оставлен в случае, когда решение на отдельном шаге требует существенной переработки и внесения правок. Проект не может быть принят пока есть, то что которые нужно доработать. </p>\n",
    "</div>\n",
    "      <p> Чтобы мы могли вместе эффективнее учиться и развиваться — оставляй свои комментарии и задавай вопросы. Для таких случаев, пожалуйста, выбери собственное оформление комментариев, которое будет отличаться от моего, чтобы не создавать путаницы:</p>\n",
    "    <div class=\"alert alert-info\"> <b>Комментарий студента:</b> Например, такое.</div>\n",
    "    <p>По этой же причине попрошу тебя не удалять и не изменять мои комментарии. Все это позволит лучше ориентироваться в нашем с тобой диалоге, а повторную проверку (в случае ее необходимости) выполнять оперативнее. </p>\n",
    "<p>Не спеши расстраиваться, если что-то не удалось с первого раза. Мы обязательно вместе разберемся со всеми трудностями! </p>\n",
    "</div>"
   ]
  },
  {
   "cell_type": "markdown",
   "id": "4b3db190",
   "metadata": {},
   "source": [
    "##### Описание проекта\n",
    "Нужно создать систему, которая могла бы оценить риск ДТП по выбранному маршруту движения. Под риском понимается вероятность ДТП с любым повреждением транспортного средства. Как только водитель забронировал автомобиль, сел за руль и выбрал маршрут, система должна оценить уровень риска. Если уровень риска высок, водитель увидит предупреждение и рекомендации по маршруту.\n",
    "Также необходимо проверить первичное предположение заказчика о возможности построения подобной системы на основе располагаемого пула данных, в частности, о возможности построения подобной модели по собранным данным о происшествиях."
   ]
  },
  {
   "cell_type": "markdown",
   "id": "d8a0b469",
   "metadata": {},
   "source": [
    "<div class=\"alert alert-warning\">\n",
    "    <b>💡**Комментарий ревьюера** </b>\n",
    "<p> Давай немного подробнее остановимся на оформлении. Описание задачи можно считать полноценным введением в твой проект. Задание было просто скопировано в тетрадку, такое решение тоже имеет право на жизнь 😅 Но я бы порекомендовала тебе составлять план, больше похожий на книжное содержание.\n",
    "Например:\n",
    "\n",
    "# Определение **** <i>(название)</i>\n",
    "_____\n",
    "**В исследовании было задействовано несколько таблиц:** **** <i>(описание данных)</i>\n",
    "______\n",
    "\n",
    "**Разделим исследование на несколько частей.**\n",
    "\n",
    "**Часть 1. Изучение общей информации:**\n",
    "* [1. Изучение файлов с данными, получение общей информации, загрузка библиотек.](#1-bullet)\n",
    "* [2. Нахождение и ликвидация пропусков.](#2-bullet)\n",
    "\n",
    "**Часть 2. Подготовка данных:**\n",
    "* [1. Приведение данных к нужным типам.](#3-bullet)\n",
    "* [2. Нахождение и исправление аномалий и ошибок.](#4-bullet)\n",
    "и т.д. </p>\n",
    "    \n",
    "<p>Старайся выполнять свой проект в порядке, прописанном в твоем плане. Да, такое оформление займет больше времени, но позволит сделать проект легче в прочтении, не только для меня как ревьюера, но и для тебя, если ты через время решишь вернуться к нему и вспомнить определенные шаги, а также удобнее работодателям, которые будут смотреть портфолио с твоими исследованиями.</p>\n",
    "<p>Инструкцию по созданию содержания, которое будет удобно построено в виде ссылок на разделы можно найти в курсе: <i> <b> Полезные инструкции для учёбы -> Оформление проекта -> Изменения в Jupyter: автоматическое оглавление и горячие клавиши </b> </i>.\n",
    "</p>\n",
    "</div>"
   ]
  },
  {
   "cell_type": "markdown",
   "id": "ea2ba826",
   "metadata": {
    "ExecuteTime": {
     "end_time": "2022-05-05T04:58:05.692448Z",
     "start_time": "2022-05-05T04:58:05.688565Z"
    }
   },
   "source": [
    "## Подключитесь к базе. Загрузите таблицы sql"
   ]
  },
  {
   "cell_type": "code",
   "execution_count": 1,
   "id": "eef6e894",
   "metadata": {},
   "outputs": [],
   "source": [
    "import numpy as np\n",
    "import pandas as pd\n",
    "import matplotlib.pyplot as plt\n",
    "import seaborn as sns\n",
    "from sqlalchemy import create_engine\n",
    "\n",
    "from sklearn.tree import DecisionTreeClassifier\n",
    "from sklearn.model_selection import train_test_split, GridSearchCV\n",
    "from sklearn.ensemble import RandomForestClassifier, AdaBoostClassifier\n",
    "from sklearn.preprocessing import OrdinalEncoder, StandardScaler, OneHotEncoder\n",
    "from sklearn.dummy import DummyClassifier\n",
    "from sklearn.compose import ColumnTransformer\n",
    "from lightgbm import LGBMModel, LGBMClassifier\n",
    "\n",
    "from sklearn.metrics import accuracy_score, f1_score, recall_score, precision_score,\\\n",
    "                            confusion_matrix, ConfusionMatrixDisplay,\\\n",
    "                            precision_recall_curve, PrecisionRecallDisplay\n",
    "\n",
    "import warnings\n",
    "warnings.filterwarnings(\"ignore\")"
   ]
  },
  {
   "cell_type": "markdown",
   "id": "9fb470bd",
   "metadata": {},
   "source": [
    "<div class=\"alert alert-success\">\n",
    "    <b> ✅**Комментарий ревьюера** </b>\n",
    "        <p>Отлично, что импорты корректно собраны в начале проекта: это соответствует стилевым рекомендациям (PEP 8), а также это удобно в работе (сразу видны используемые библиотеки и что надо доустановить в случае чего). </p>\n",
    "</div>"
   ]
  },
  {
   "cell_type": "code",
   "execution_count": 2,
   "id": "9412c34d",
   "metadata": {},
   "outputs": [],
   "source": [
    "pd.set_option('display.max_rows', 500)\n",
    "pd.set_option('display.max_columns', 500)\n",
    "pd.set_option('display.max_colwidth', 500)"
   ]
  },
  {
   "cell_type": "code",
   "execution_count": 3,
   "id": "eb866960",
   "metadata": {},
   "outputs": [],
   "source": [
    "db_config = {\n",
    "    'user': 'praktikum_student', # имя пользователя,\n",
    "    'pwd': 'Sdf4$2;d-d30pp', # пароль,\n",
    "    'host': 'rc1b-wcoijxj3yxfsf3fs.mdb.yandexcloud.net',\n",
    "    'port': 6432, # порт подключения,\n",
    "    'db': 'data-science-vehicle-db' # название базы данных,\n",
    "} \n",
    "\n",
    "\n",
    "connection_string = 'postgresql://{}:{}@{}:{}/{}'.format(\n",
    "    db_config['user'],\n",
    "    db_config['pwd'],\n",
    "    db_config['host'],\n",
    "    db_config['port'],\n",
    "    db_config['db'],\n",
    ")\n",
    "\n",
    "engine = create_engine(connection_string)"
   ]
  },
  {
   "cell_type": "markdown",
   "id": "49db0ede",
   "metadata": {},
   "source": [
    "## Проведите первичное исследование таблиц"
   ]
  },
  {
   "cell_type": "code",
   "execution_count": 4,
   "id": "96d372f2",
   "metadata": {},
   "outputs": [],
   "source": [
    "query = '''\n",
    "SELECT COUNT(DISTINCT case_id)\n",
    "FROM collisions\n",
    "'''\n",
    "df_collisions = pd.read_sql_query(query, con=engine)\n",
    "\n",
    "query = '''\n",
    "SELECT COUNT(DISTINCT id)\n",
    "FROM parties\n",
    "'''\n",
    "df_parties = pd.read_sql_query(query, con=engine)\n",
    "\n",
    "query = '''\n",
    "SELECT COUNT(DISTINCT id)\n",
    "FROM vehicles\n",
    "'''\n",
    "df_vehicles = pd.read_sql_query(query, con=engine)"
   ]
  },
  {
   "cell_type": "code",
   "execution_count": 5,
   "id": "71ab4afa",
   "metadata": {},
   "outputs": [
    {
     "data": {
      "text/plain": [
       "1400000"
      ]
     },
     "metadata": {},
     "output_type": "display_data"
    },
    {
     "data": {
      "text/plain": [
       "2752408"
      ]
     },
     "metadata": {},
     "output_type": "display_data"
    },
    {
     "data": {
      "text/plain": [
       "1021234"
      ]
     },
     "metadata": {},
     "output_type": "display_data"
    }
   ],
   "source": [
    "display(df_collisions.values[0, 0])\n",
    "display(df_parties.values[0, 0])\n",
    "display(df_vehicles.values[0, 0])"
   ]
  },
  {
   "cell_type": "code",
   "execution_count": 6,
   "id": "23a83497",
   "metadata": {},
   "outputs": [],
   "source": [
    "query = '''\n",
    "SELECT CASE_ID\n",
    "FROM collisions\n",
    "'''\n",
    "df_collisions = pd.read_sql_query(query, con=engine)\n",
    "\n",
    "query = '''\n",
    "SELECT CASE_ID\n",
    "FROM parties\n",
    "'''\n",
    "df_parties = pd.read_sql_query(query, con=engine)\n",
    "\n",
    "query = '''\n",
    "SELECT CASE_ID\n",
    "FROM vehicles\n",
    "'''\n",
    "df_vehicles = pd.read_sql_query(query, con=engine)"
   ]
  },
  {
   "cell_type": "code",
   "execution_count": 7,
   "id": "33f09205",
   "metadata": {},
   "outputs": [
    {
     "data": {
      "text/html": [
       "<div>\n",
       "<style scoped>\n",
       "    .dataframe tbody tr th:only-of-type {\n",
       "        vertical-align: middle;\n",
       "    }\n",
       "\n",
       "    .dataframe tbody tr th {\n",
       "        vertical-align: top;\n",
       "    }\n",
       "\n",
       "    .dataframe thead th {\n",
       "        text-align: right;\n",
       "    }\n",
       "</style>\n",
       "<table border=\"1\" class=\"dataframe\">\n",
       "  <thead>\n",
       "    <tr style=\"text-align: right;\">\n",
       "      <th></th>\n",
       "      <th>case_id</th>\n",
       "    </tr>\n",
       "  </thead>\n",
       "  <tbody>\n",
       "    <tr>\n",
       "      <th>0</th>\n",
       "      <td>4083072</td>\n",
       "    </tr>\n",
       "    <tr>\n",
       "      <th>1</th>\n",
       "      <td>4083075</td>\n",
       "    </tr>\n",
       "    <tr>\n",
       "      <th>2</th>\n",
       "      <td>4083073</td>\n",
       "    </tr>\n",
       "  </tbody>\n",
       "</table>\n",
       "</div>"
      ],
      "text/plain": [
       "   case_id\n",
       "0  4083072\n",
       "1  4083075\n",
       "2  4083073"
      ]
     },
     "metadata": {},
     "output_type": "display_data"
    },
    {
     "data": {
      "text/plain": [
       "case_id    1400000\n",
       "dtype: int64"
      ]
     },
     "metadata": {},
     "output_type": "display_data"
    },
    {
     "data": {
      "text/html": [
       "<div>\n",
       "<style scoped>\n",
       "    .dataframe tbody tr th:only-of-type {\n",
       "        vertical-align: middle;\n",
       "    }\n",
       "\n",
       "    .dataframe tbody tr th {\n",
       "        vertical-align: top;\n",
       "    }\n",
       "\n",
       "    .dataframe thead th {\n",
       "        text-align: right;\n",
       "    }\n",
       "</style>\n",
       "<table border=\"1\" class=\"dataframe\">\n",
       "  <thead>\n",
       "    <tr style=\"text-align: right;\">\n",
       "      <th></th>\n",
       "      <th>case_id</th>\n",
       "    </tr>\n",
       "  </thead>\n",
       "  <tbody>\n",
       "    <tr>\n",
       "      <th>0</th>\n",
       "      <td>3899454</td>\n",
       "    </tr>\n",
       "    <tr>\n",
       "      <th>1</th>\n",
       "      <td>3899454</td>\n",
       "    </tr>\n",
       "    <tr>\n",
       "      <th>2</th>\n",
       "      <td>3899462</td>\n",
       "    </tr>\n",
       "  </tbody>\n",
       "</table>\n",
       "</div>"
      ],
      "text/plain": [
       "   case_id\n",
       "0  3899454\n",
       "1  3899454\n",
       "2  3899462"
      ]
     },
     "metadata": {},
     "output_type": "display_data"
    },
    {
     "data": {
      "text/plain": [
       "case_id    1400000\n",
       "dtype: int64"
      ]
     },
     "metadata": {},
     "output_type": "display_data"
    },
    {
     "data": {
      "text/html": [
       "<div>\n",
       "<style scoped>\n",
       "    .dataframe tbody tr th:only-of-type {\n",
       "        vertical-align: middle;\n",
       "    }\n",
       "\n",
       "    .dataframe tbody tr th {\n",
       "        vertical-align: top;\n",
       "    }\n",
       "\n",
       "    .dataframe thead th {\n",
       "        text-align: right;\n",
       "    }\n",
       "</style>\n",
       "<table border=\"1\" class=\"dataframe\">\n",
       "  <thead>\n",
       "    <tr style=\"text-align: right;\">\n",
       "      <th></th>\n",
       "      <th>case_id</th>\n",
       "    </tr>\n",
       "  </thead>\n",
       "  <tbody>\n",
       "    <tr>\n",
       "      <th>0</th>\n",
       "      <td>5305032</td>\n",
       "    </tr>\n",
       "    <tr>\n",
       "      <th>1</th>\n",
       "      <td>3858022</td>\n",
       "    </tr>\n",
       "    <tr>\n",
       "      <th>2</th>\n",
       "      <td>5305030</td>\n",
       "    </tr>\n",
       "  </tbody>\n",
       "</table>\n",
       "</div>"
      ],
      "text/plain": [
       "   case_id\n",
       "0  5305032\n",
       "1  3858022\n",
       "2  5305030"
      ]
     },
     "metadata": {},
     "output_type": "display_data"
    },
    {
     "data": {
      "text/plain": [
       "case_id    792642\n",
       "dtype: int64"
      ]
     },
     "metadata": {},
     "output_type": "display_data"
    }
   ],
   "source": [
    "display(df_collisions.head(3), df_collisions.nunique())\n",
    "display(df_parties.head(3), df_parties.nunique())\n",
    "display(df_vehicles.head(3), df_vehicles.nunique())"
   ]
  },
  {
   "cell_type": "markdown",
   "id": "a6d64269",
   "metadata": {},
   "source": [
    "<div class=\"alert alert-warning\">\n",
    "    <b>💡**Комментарий ревьюера** </b>\n",
    "    <p> Здесь хотелось бы увидеть проверку на наличие общего ключа <code>case_id</code>. </p>\n",
    "</div>"
   ]
  },
  {
   "cell_type": "markdown",
   "id": "2a446da3",
   "metadata": {},
   "source": [
    "<div class=\"alert alert-info\"> <b>Комментарий студента:</b> Постарался поправить </div>"
   ]
  },
  {
   "cell_type": "markdown",
   "id": "cb94434b",
   "metadata": {},
   "source": [
    "##  Проведите статистический анализ факторов ДТП"
   ]
  },
  {
   "cell_type": "markdown",
   "id": "7915ad5b",
   "metadata": {},
   "source": [
    "### Количество аварий по месяцам"
   ]
  },
  {
   "cell_type": "code",
   "execution_count": 8,
   "id": "d51c0a3d",
   "metadata": {},
   "outputs": [],
   "source": [
    "query = '''\n",
    "SELECT to_char(collision_date::DATE, 'MONTH') as MONTH\n",
    "FROM collisions\n",
    "WHERE collisions.collision_damage != 'scratch' AND\n",
    "    EXTRACT(YEAR FROM CAST(collisions.collision_date as timestamp)) = 2012\n",
    "'''\n",
    "\n",
    "df_collision_date = pd.read_sql_query(query, con=engine) "
   ]
  },
  {
   "cell_type": "markdown",
   "id": "ad1d2d11",
   "metadata": {},
   "source": [
    "<div class=\"alert alert-warning\">\n",
    "    <b>💡**Комментарий ревьюера** </b>\n",
    "    <p> Чтобы было легче воспринимать месяцы, можно прочитать их не как числа, а как строки, для этого есть такая функция <code>to_char(<колонка с датами>::DATE, 'MONTH')</code>. </p>\n",
    "</div>"
   ]
  },
  {
   "cell_type": "markdown",
   "id": "3c2eb263",
   "metadata": {},
   "source": [
    "<div class=\"alert alert-info\"> <b>Комментарий студента:</b> Постарался учесть </div>"
   ]
  },
  {
   "cell_type": "code",
   "execution_count": 9,
   "id": "f1c02886",
   "metadata": {},
   "outputs": [],
   "source": [
    "new_order = ['January', 'February', 'March', 'April',\\\n",
    "             'May', 'June', 'July', 'August',\\\n",
    "             'September', 'October', 'November', 'December']\n",
    "new_order = [i.upper() for i in new_order]"
   ]
  },
  {
   "cell_type": "code",
   "execution_count": 10,
   "id": "70b561d1",
   "metadata": {},
   "outputs": [
    {
     "data": {
      "image/png": "[encoded data removed]",
      "text/plain": [
       "<Figure size 720x504 with 1 Axes>"
      ]
     },
     "metadata": {
      "needs_background": "light"
     },
     "output_type": "display_data"
    }
   ],
   "source": [
    "df_collision_date = df_collision_date.apply(lambda x: x[0].strip(), axis=1)\n",
    "df_collision_date.value_counts(sort=False)\\\n",
    "                 .reindex(new_order)\\\n",
    "                 .plot(kind='bar',\n",
    "                       title='Количество происшествий по месяцам (в 2012 году',\n",
    "                       xlabel='Месяцы',\n",
    "                       figsize=(10, 7),\n",
    "                       grid=True)\n",
    "\n",
    "plt.show()"
   ]
  },
  {
   "cell_type": "markdown",
   "id": "7dfe52f1",
   "metadata": {},
   "source": [
    "<div class=\"alert alert-success\">\n",
    "    <b> ✅**Комментарий ревьюера** </b>\n",
    "        <p>Здорово, что было решено проверить 2012 год отдельно, как видим, он заполнен не полностью. </p>\n",
    "</div>"
   ]
  },
  {
   "cell_type": "markdown",
   "id": "f4e325d7",
   "metadata": {},
   "source": [
    "<div class=\"alert alert-warning\">\n",
    "    <b>💡**Комментарий ревьюера** </b>\n",
    "    <p> Стоит подписать ось, где месяца.</p>\n",
    "</div>"
   ]
  },
  {
   "cell_type": "markdown",
   "id": "d62d3158",
   "metadata": {},
   "source": [
    "<div class=\"alert alert-info\"> <b>Комментарий студента:</b> Постарался учесть </div>"
   ]
  },
  {
   "cell_type": "code",
   "execution_count": 11,
   "id": "a8f4b54f",
   "metadata": {
    "scrolled": false
   },
   "outputs": [
    {
     "data": {
      "image/png": "[encoded data removed]",
      "text/plain": [
       "<Figure size 720x504 with 1 Axes>"
      ]
     },
     "metadata": {
      "needs_background": "light"
     },
     "output_type": "display_data"
    }
   ],
   "source": [
    "query = '''\n",
    "SELECT to_char(collision_date::DATE, 'MONTH') as MONTH\n",
    "FROM collisions\n",
    "WHERE collisions.collision_damage != 'scratch' AND\n",
    "    EXTRACT(YEAR FROM CAST(collisions.collision_date as timestamp)) != 2012\n",
    "'''\n",
    "\n",
    "df_collision_date = pd.read_sql_query(query, con=engine)\n",
    "\n",
    "df_collision_date = df_collision_date.apply(lambda x: x[0].strip(), axis=1, )\n",
    "df_collision_date.value_counts(sort=False)\\\n",
    "                 .reindex(new_order)\\\n",
    "                 .plot(kind='bar',\n",
    "                       title='Количество происшествий по месяцам (кроме 2012 года)',\n",
    "                       xlabel='Месяцы',\n",
    "                       figsize=(10, 7),\n",
    "                       grid=True)\n",
    "\n",
    "plt.show()"
   ]
  },
  {
   "cell_type": "markdown",
   "id": "06be29e4",
   "metadata": {},
   "source": [
    "Мы можем заметить, что количество инцидентов в 2012 году распределено по месяцам крайне неравномерно. При этом распределение количества инцидентов по другим годам выглядит куда более равномерным. В таком случае можно сделать следующие предположения:\n",
    " * часть данных утрачена или не подгружена(так как у нас все же присутствует информация  о происшествиях по всем месяцам просто не в достаточном объеме, то мы можем отсечь предположение о том, что на тот момент не было полной статистики по 2012 году);\n",
    " * использование месяца, сезона или квартала будет нерепрезентативной переменной."
   ]
  },
  {
   "cell_type": "markdown",
   "id": "46bdcc2a",
   "metadata": {},
   "source": [
    "Задачи:\n",
    "* исследовать влияние районов города на риск аварии (влияние county_city_location на at_fault)\n",
    "    * cоздайте sql-запрос;\n",
    "    * проанализировать имеющиеся данные на возможность исполнения установленной задачи;\n",
    "        * в случае наличия такой возможности - провести анализ, сделать выводы и визуализировать их;\n",
    "        * иначе - проанализировать возможность иного представления имеющихся данных или иных источников данных для решения первоначальной задачи.\n",
    "* исследовать время происшествия и риск аварии (влияние collision_time на at_fault)\n",
    "* исследовать взимосвязь \"состояний водителей\" и районов города (влияние party_sobriety и party_drug_physical на county_city_location)\n",
    "* исследовать взаимосвязь между серьезностью урона и размером страховки (влияние collision_damage и insurance_premium)\n",
    "    * cоздайте sql-запрос;\n",
    "    * проведите регрессионный анализ;\n",
    "    * сделайте выводы и визуализируйте их.\n",
    "* исследовать совместное влияние (мультиколлинеарность) погоды и освещения на риск аварии (совместное влияние WEATHER_1 и LIGHTING на at_fault)\n",
    "* исследовать совместное влияние (мультиколлинеарность) погоды и дорожного состояния на риск аварии (совместное влияние WEATHER_1 и ROAD_CONDITION_1 на at_fault)"
   ]
  },
  {
   "cell_type": "markdown",
   "id": "364320fb",
   "metadata": {},
   "source": [
    "<div class=\"alert alert-success\">\n",
    "    <b> ✅**Комментарий ревьюера** </b>\n",
    "        <p>Отличный анализ и очень интересные задачи получились. </p>\n",
    "</div>"
   ]
  },
  {
   "cell_type": "markdown",
   "id": "7f98c3dd",
   "metadata": {},
   "source": [
    "## Создайте модель для оценки водительского риска"
   ]
  },
  {
   "cell_type": "markdown",
   "id": "6fc1b350",
   "metadata": {},
   "source": [
    "#### Подготовка набора данных на основе первичного предположения заказчика"
   ]
  },
  {
   "cell_type": "code",
   "execution_count": 12,
   "id": "978a0429",
   "metadata": {},
   "outputs": [],
   "source": [
    "query = '''\n",
    "SELECT *\n",
    "FROM case_ids\n",
    "JOIN vehicles on case_ids.case_id = vehicles.case_id\n",
    "JOIN collisions on case_ids.case_id = collisions.case_id\n",
    "RIGHT JOIN parties on case_ids.case_id = parties.case_id\n",
    "WHERE parties.party_type = 'car' AND\n",
    "      collisions.collision_damage != 'scratch' AND\n",
    "      EXTRACT(YEAR FROM CAST(collisions.collision_date as timestamp)) = 2012\n",
    "'''\n",
    "\n",
    "df = pd.read_sql_query(query, con=engine)"
   ]
  },
  {
   "cell_type": "code",
   "execution_count": 13,
   "id": "ae36b25e",
   "metadata": {},
   "outputs": [
    {
     "data": {
      "text/html": [
       "<div>\n",
       "<style scoped>\n",
       "    .dataframe tbody tr th:only-of-type {\n",
       "        vertical-align: middle;\n",
       "    }\n",
       "\n",
       "    .dataframe tbody tr th {\n",
       "        vertical-align: top;\n",
       "    }\n",
       "\n",
       "    .dataframe thead th {\n",
       "        text-align: right;\n",
       "    }\n",
       "</style>\n",
       "<table border=\"1\" class=\"dataframe\">\n",
       "  <thead>\n",
       "    <tr style=\"text-align: right;\">\n",
       "      <th></th>\n",
       "      <th>case_id</th>\n",
       "      <th>db_year</th>\n",
       "      <th>id</th>\n",
       "      <th>case_id</th>\n",
       "      <th>party_number</th>\n",
       "      <th>vehicle_type</th>\n",
       "      <th>vehicle_transmission</th>\n",
       "      <th>vehicle_age</th>\n",
       "      <th>case_id</th>\n",
       "      <th>county_city_location</th>\n",
       "      <th>county_location</th>\n",
       "      <th>distance</th>\n",
       "      <th>direction</th>\n",
       "      <th>intersection</th>\n",
       "      <th>weather_1</th>\n",
       "      <th>location_type</th>\n",
       "      <th>collision_damage</th>\n",
       "      <th>party_count</th>\n",
       "      <th>primary_collision_factor</th>\n",
       "      <th>pcf_violation_category</th>\n",
       "      <th>type_of_collision</th>\n",
       "      <th>motor_vehicle_involved_with</th>\n",
       "      <th>road_surface</th>\n",
       "      <th>road_condition_1</th>\n",
       "      <th>lighting</th>\n",
       "      <th>control_device</th>\n",
       "      <th>collision_date</th>\n",
       "      <th>collision_time</th>\n",
       "      <th>id</th>\n",
       "      <th>case_id</th>\n",
       "      <th>party_number</th>\n",
       "      <th>party_type</th>\n",
       "      <th>at_fault</th>\n",
       "      <th>insurance_premium</th>\n",
       "      <th>party_sobriety</th>\n",
       "      <th>party_drug_physical</th>\n",
       "      <th>cellphone_in_use</th>\n",
       "    </tr>\n",
       "  </thead>\n",
       "  <tbody>\n",
       "    <tr>\n",
       "      <th>0</th>\n",
       "      <td>5403312</td>\n",
       "      <td>2021</td>\n",
       "      <td>1275358</td>\n",
       "      <td>5403312</td>\n",
       "      <td>1</td>\n",
       "      <td>coupe</td>\n",
       "      <td>auto</td>\n",
       "      <td>13.0</td>\n",
       "      <td>5403312</td>\n",
       "      <td>3700</td>\n",
       "      <td>san diego</td>\n",
       "      <td>413.0</td>\n",
       "      <td>east</td>\n",
       "      <td>0.0</td>\n",
       "      <td>clear</td>\n",
       "      <td>None</td>\n",
       "      <td>fatal</td>\n",
       "      <td>1</td>\n",
       "      <td>vehicle code violation</td>\n",
       "      <td>improper turning</td>\n",
       "      <td>hit object</td>\n",
       "      <td>fixed object</td>\n",
       "      <td>dry</td>\n",
       "      <td>normal</td>\n",
       "      <td>daylight</td>\n",
       "      <td>none</td>\n",
       "      <td>2012-01-05</td>\n",
       "      <td>12:50:00</td>\n",
       "      <td>2313030</td>\n",
       "      <td>5403312</td>\n",
       "      <td>1</td>\n",
       "      <td>car</td>\n",
       "      <td>1</td>\n",
       "      <td>86.0</td>\n",
       "      <td>had not been drinking</td>\n",
       "      <td>None</td>\n",
       "      <td>0.0</td>\n",
       "    </tr>\n",
       "    <tr>\n",
       "      <th>1</th>\n",
       "      <td>5454272</td>\n",
       "      <td>2021</td>\n",
       "      <td>1325945</td>\n",
       "      <td>5454272</td>\n",
       "      <td>2</td>\n",
       "      <td>sedan</td>\n",
       "      <td>manual</td>\n",
       "      <td>0.0</td>\n",
       "      <td>5454272</td>\n",
       "      <td>3010</td>\n",
       "      <td>orange</td>\n",
       "      <td>36.0</td>\n",
       "      <td>north</td>\n",
       "      <td>0.0</td>\n",
       "      <td>raining</td>\n",
       "      <td>highway</td>\n",
       "      <td>small damage</td>\n",
       "      <td>2</td>\n",
       "      <td>vehicle code violation</td>\n",
       "      <td>speeding</td>\n",
       "      <td>rear end</td>\n",
       "      <td>other motor vehicle</td>\n",
       "      <td>wet</td>\n",
       "      <td>normal</td>\n",
       "      <td>daylight</td>\n",
       "      <td>functioning</td>\n",
       "      <td>2012-01-23</td>\n",
       "      <td>11:07:00</td>\n",
       "      <td>2405442</td>\n",
       "      <td>5454272</td>\n",
       "      <td>1</td>\n",
       "      <td>car</td>\n",
       "      <td>1</td>\n",
       "      <td>19.0</td>\n",
       "      <td>had not been drinking</td>\n",
       "      <td>None</td>\n",
       "      <td>0.0</td>\n",
       "    </tr>\n",
       "    <tr>\n",
       "      <th>2</th>\n",
       "      <td>5454272</td>\n",
       "      <td>2021</td>\n",
       "      <td>1325945</td>\n",
       "      <td>5454272</td>\n",
       "      <td>2</td>\n",
       "      <td>sedan</td>\n",
       "      <td>manual</td>\n",
       "      <td>0.0</td>\n",
       "      <td>5454272</td>\n",
       "      <td>3010</td>\n",
       "      <td>orange</td>\n",
       "      <td>36.0</td>\n",
       "      <td>north</td>\n",
       "      <td>0.0</td>\n",
       "      <td>raining</td>\n",
       "      <td>highway</td>\n",
       "      <td>small damage</td>\n",
       "      <td>2</td>\n",
       "      <td>vehicle code violation</td>\n",
       "      <td>speeding</td>\n",
       "      <td>rear end</td>\n",
       "      <td>other motor vehicle</td>\n",
       "      <td>wet</td>\n",
       "      <td>normal</td>\n",
       "      <td>daylight</td>\n",
       "      <td>functioning</td>\n",
       "      <td>2012-01-23</td>\n",
       "      <td>11:07:00</td>\n",
       "      <td>2405443</td>\n",
       "      <td>5454272</td>\n",
       "      <td>2</td>\n",
       "      <td>car</td>\n",
       "      <td>0</td>\n",
       "      <td>26.0</td>\n",
       "      <td>had not been drinking</td>\n",
       "      <td>None</td>\n",
       "      <td>0.0</td>\n",
       "    </tr>\n",
       "    <tr>\n",
       "      <th>3</th>\n",
       "      <td>5455652</td>\n",
       "      <td>2021</td>\n",
       "      <td>1327267</td>\n",
       "      <td>5455652</td>\n",
       "      <td>1</td>\n",
       "      <td>hatchback</td>\n",
       "      <td>manual</td>\n",
       "      <td>11.0</td>\n",
       "      <td>5455652</td>\n",
       "      <td>4806</td>\n",
       "      <td>solano</td>\n",
       "      <td>0.0</td>\n",
       "      <td>None</td>\n",
       "      <td>1.0</td>\n",
       "      <td>clear</td>\n",
       "      <td>None</td>\n",
       "      <td>middle damage</td>\n",
       "      <td>2</td>\n",
       "      <td>vehicle code violation</td>\n",
       "      <td>pedestrian violation</td>\n",
       "      <td>other</td>\n",
       "      <td>other object</td>\n",
       "      <td>dry</td>\n",
       "      <td>normal</td>\n",
       "      <td>dark with street lights</td>\n",
       "      <td>functioning</td>\n",
       "      <td>2012-01-01</td>\n",
       "      <td>17:53:00</td>\n",
       "      <td>2407881</td>\n",
       "      <td>5455652</td>\n",
       "      <td>2</td>\n",
       "      <td>car</td>\n",
       "      <td>0</td>\n",
       "      <td>33.0</td>\n",
       "      <td>had not been drinking</td>\n",
       "      <td>None</td>\n",
       "      <td>0.0</td>\n",
       "    </tr>\n",
       "    <tr>\n",
       "      <th>4</th>\n",
       "      <td>5456212</td>\n",
       "      <td>2021</td>\n",
       "      <td>1327866</td>\n",
       "      <td>5456212</td>\n",
       "      <td>2</td>\n",
       "      <td>sedan</td>\n",
       "      <td>manual</td>\n",
       "      <td>3.0</td>\n",
       "      <td>5456212</td>\n",
       "      <td>3400</td>\n",
       "      <td>sacramento</td>\n",
       "      <td>300.0</td>\n",
       "      <td>south</td>\n",
       "      <td>0.0</td>\n",
       "      <td>clear</td>\n",
       "      <td>highway</td>\n",
       "      <td>small damage</td>\n",
       "      <td>2</td>\n",
       "      <td>vehicle code violation</td>\n",
       "      <td>speeding</td>\n",
       "      <td>rear end</td>\n",
       "      <td>other motor vehicle</td>\n",
       "      <td>dry</td>\n",
       "      <td>normal</td>\n",
       "      <td>daylight</td>\n",
       "      <td>none</td>\n",
       "      <td>2012-01-13</td>\n",
       "      <td>15:40:00</td>\n",
       "      <td>2408976</td>\n",
       "      <td>5456212</td>\n",
       "      <td>1</td>\n",
       "      <td>car</td>\n",
       "      <td>1</td>\n",
       "      <td>51.0</td>\n",
       "      <td>had not been drinking</td>\n",
       "      <td>None</td>\n",
       "      <td>1.0</td>\n",
       "    </tr>\n",
       "  </tbody>\n",
       "</table>\n",
       "</div>"
      ],
      "text/plain": [
       "   case_id db_year       id  case_id  party_number vehicle_type  \\\n",
       "0  5403312    2021  1275358  5403312             1        coupe   \n",
       "1  5454272    2021  1325945  5454272             2        sedan   \n",
       "2  5454272    2021  1325945  5454272             2        sedan   \n",
       "3  5455652    2021  1327267  5455652             1    hatchback   \n",
       "4  5456212    2021  1327866  5456212             2        sedan   \n",
       "\n",
       "  vehicle_transmission  vehicle_age  case_id county_city_location  \\\n",
       "0                 auto         13.0  5403312                 3700   \n",
       "1               manual          0.0  5454272                 3010   \n",
       "2               manual          0.0  5454272                 3010   \n",
       "3               manual         11.0  5455652                 4806   \n",
       "4               manual          3.0  5456212                 3400   \n",
       "\n",
       "  county_location  distance direction  intersection weather_1 location_type  \\\n",
       "0       san diego     413.0      east           0.0     clear          None   \n",
       "1          orange      36.0     north           0.0   raining       highway   \n",
       "2          orange      36.0     north           0.0   raining       highway   \n",
       "3          solano       0.0      None           1.0     clear          None   \n",
       "4      sacramento     300.0     south           0.0     clear       highway   \n",
       "\n",
       "  collision_damage  party_count primary_collision_factor  \\\n",
       "0            fatal            1   vehicle code violation   \n",
       "1     small damage            2   vehicle code violation   \n",
       "2     small damage            2   vehicle code violation   \n",
       "3    middle damage            2   vehicle code violation   \n",
       "4     small damage            2   vehicle code violation   \n",
       "\n",
       "  pcf_violation_category type_of_collision motor_vehicle_involved_with  \\\n",
       "0       improper turning        hit object                fixed object   \n",
       "1               speeding          rear end         other motor vehicle   \n",
       "2               speeding          rear end         other motor vehicle   \n",
       "3   pedestrian violation             other                other object   \n",
       "4               speeding          rear end         other motor vehicle   \n",
       "\n",
       "  road_surface road_condition_1                 lighting control_device  \\\n",
       "0          dry           normal                 daylight           none   \n",
       "1          wet           normal                 daylight    functioning   \n",
       "2          wet           normal                 daylight    functioning   \n",
       "3          dry           normal  dark with street lights    functioning   \n",
       "4          dry           normal                 daylight           none   \n",
       "\n",
       "  collision_date collision_time       id  case_id  party_number party_type  \\\n",
       "0     2012-01-05       12:50:00  2313030  5403312             1        car   \n",
       "1     2012-01-23       11:07:00  2405442  5454272             1        car   \n",
       "2     2012-01-23       11:07:00  2405443  5454272             2        car   \n",
       "3     2012-01-01       17:53:00  2407881  5455652             2        car   \n",
       "4     2012-01-13       15:40:00  2408976  5456212             1        car   \n",
       "\n",
       "   at_fault  insurance_premium         party_sobriety party_drug_physical  \\\n",
       "0         1               86.0  had not been drinking                None   \n",
       "1         1               19.0  had not been drinking                None   \n",
       "2         0               26.0  had not been drinking                None   \n",
       "3         0               33.0  had not been drinking                None   \n",
       "4         1               51.0  had not been drinking                None   \n",
       "\n",
       "   cellphone_in_use  \n",
       "0               0.0  \n",
       "1               0.0  \n",
       "2               0.0  \n",
       "3               0.0  \n",
       "4               1.0  "
      ]
     },
     "metadata": {},
     "output_type": "display_data"
    },
    {
     "name": "stdout",
     "output_type": "stream",
     "text": [
      "<class 'pandas.core.frame.DataFrame'>\n",
      "RangeIndex: 118411 entries, 0 to 118410\n",
      "Data columns (total 37 columns):\n",
      " #   Column                       Non-Null Count   Dtype  \n",
      "---  ------                       --------------   -----  \n",
      " 0   case_id                      118411 non-null  object \n",
      " 1   db_year                      118411 non-null  object \n",
      " 2   id                           118411 non-null  int64  \n",
      " 3   case_id                      118411 non-null  object \n",
      " 4   party_number                 118411 non-null  int64  \n",
      " 5   vehicle_type                 118411 non-null  object \n",
      " 6   vehicle_transmission         116545 non-null  object \n",
      " 7   vehicle_age                  115046 non-null  float64\n",
      " 8   case_id                      118411 non-null  object \n",
      " 9   county_city_location         118411 non-null  object \n",
      " 10  county_location              118411 non-null  object \n",
      " 11  distance                     118411 non-null  float64\n",
      " 12  direction                    89466 non-null   object \n",
      " 13  intersection                 118043 non-null  float64\n",
      " 14  weather_1                    118022 non-null  object \n",
      " 15  location_type                55137 non-null   object \n",
      " 16  collision_damage             118411 non-null  object \n",
      " 17  party_count                  118411 non-null  int64  \n",
      " 18  primary_collision_factor     118147 non-null  object \n",
      " 19  pcf_violation_category       116686 non-null  object \n",
      " 20  type_of_collision            117771 non-null  object \n",
      " 21  motor_vehicle_involved_with  118079 non-null  object \n",
      " 22  road_surface                 117645 non-null  object \n",
      " 23  road_condition_1             117843 non-null  object \n",
      " 24  lighting                     118080 non-null  object \n",
      " 25  control_device               117957 non-null  object \n",
      " 26  collision_date               118411 non-null  object \n",
      " 27  collision_time               118283 non-null  object \n",
      " 28  id                           118411 non-null  int64  \n",
      " 29  case_id                      118411 non-null  object \n",
      " 30  party_number                 118411 non-null  int64  \n",
      " 31  party_type                   118411 non-null  object \n",
      " 32  at_fault                     118411 non-null  int64  \n",
      " 33  insurance_premium            113289 non-null  float64\n",
      " 34  party_sobriety               116682 non-null  object \n",
      " 35  party_drug_physical          8695 non-null    object \n",
      " 36  cellphone_in_use             107507 non-null  float64\n",
      "dtypes: float64(5), int64(6), object(26)\n",
      "memory usage: 33.4+ MB\n"
     ]
    },
    {
     "data": {
      "text/plain": [
       "None"
      ]
     },
     "metadata": {},
     "output_type": "display_data"
    },
    {
     "data": {
      "text/html": [
       "<div>\n",
       "<style scoped>\n",
       "    .dataframe tbody tr th:only-of-type {\n",
       "        vertical-align: middle;\n",
       "    }\n",
       "\n",
       "    .dataframe tbody tr th {\n",
       "        vertical-align: top;\n",
       "    }\n",
       "\n",
       "    .dataframe thead th {\n",
       "        text-align: right;\n",
       "    }\n",
       "</style>\n",
       "<table border=\"1\" class=\"dataframe\">\n",
       "  <thead>\n",
       "    <tr style=\"text-align: right;\">\n",
       "      <th></th>\n",
       "      <th>id</th>\n",
       "      <th>party_number</th>\n",
       "      <th>vehicle_age</th>\n",
       "      <th>distance</th>\n",
       "      <th>intersection</th>\n",
       "      <th>party_count</th>\n",
       "      <th>id</th>\n",
       "      <th>party_number</th>\n",
       "      <th>at_fault</th>\n",
       "      <th>insurance_premium</th>\n",
       "      <th>cellphone_in_use</th>\n",
       "    </tr>\n",
       "  </thead>\n",
       "  <tbody>\n",
       "    <tr>\n",
       "      <th>count</th>\n",
       "      <td>1.184110e+05</td>\n",
       "      <td>118411.000000</td>\n",
       "      <td>115046.000000</td>\n",
       "      <td>1.184110e+05</td>\n",
       "      <td>118043.000000</td>\n",
       "      <td>118411.000000</td>\n",
       "      <td>1.184110e+05</td>\n",
       "      <td>118411.000000</td>\n",
       "      <td>118411.000000</td>\n",
       "      <td>113289.000000</td>\n",
       "      <td>107507.000000</td>\n",
       "    </tr>\n",
       "    <tr>\n",
       "      <th>mean</th>\n",
       "      <td>1.429057e+06</td>\n",
       "      <td>1.681339</td>\n",
       "      <td>4.908263</td>\n",
       "      <td>7.320663e+02</td>\n",
       "      <td>0.234711</td>\n",
       "      <td>2.356487</td>\n",
       "      <td>2.594288e+06</td>\n",
       "      <td>1.647355</td>\n",
       "      <td>0.469686</td>\n",
       "      <td>38.624686</td>\n",
       "      <td>0.021320</td>\n",
       "    </tr>\n",
       "    <tr>\n",
       "      <th>std</th>\n",
       "      <td>5.452668e+04</td>\n",
       "      <td>0.784622</td>\n",
       "      <td>3.266265</td>\n",
       "      <td>6.902704e+03</td>\n",
       "      <td>0.423820</td>\n",
       "      <td>0.950973</td>\n",
       "      <td>9.899955e+04</td>\n",
       "      <td>0.812170</td>\n",
       "      <td>0.499082</td>\n",
       "      <td>16.355164</td>\n",
       "      <td>0.144448</td>\n",
       "    </tr>\n",
       "    <tr>\n",
       "      <th>min</th>\n",
       "      <td>9.855270e+05</td>\n",
       "      <td>1.000000</td>\n",
       "      <td>0.000000</td>\n",
       "      <td>0.000000e+00</td>\n",
       "      <td>0.000000</td>\n",
       "      <td>1.000000</td>\n",
       "      <td>1.800806e+06</td>\n",
       "      <td>1.000000</td>\n",
       "      <td>0.000000</td>\n",
       "      <td>0.000000</td>\n",
       "      <td>0.000000</td>\n",
       "    </tr>\n",
       "    <tr>\n",
       "      <th>25%</th>\n",
       "      <td>1.386167e+06</td>\n",
       "      <td>1.000000</td>\n",
       "      <td>3.000000</td>\n",
       "      <td>2.000000e+00</td>\n",
       "      <td>0.000000</td>\n",
       "      <td>2.000000</td>\n",
       "      <td>2.516794e+06</td>\n",
       "      <td>1.000000</td>\n",
       "      <td>0.000000</td>\n",
       "      <td>25.000000</td>\n",
       "      <td>0.000000</td>\n",
       "    </tr>\n",
       "    <tr>\n",
       "      <th>50%</th>\n",
       "      <td>1.431113e+06</td>\n",
       "      <td>2.000000</td>\n",
       "      <td>4.000000</td>\n",
       "      <td>1.180000e+02</td>\n",
       "      <td>0.000000</td>\n",
       "      <td>2.000000</td>\n",
       "      <td>2.597153e+06</td>\n",
       "      <td>1.000000</td>\n",
       "      <td>0.000000</td>\n",
       "      <td>36.000000</td>\n",
       "      <td>0.000000</td>\n",
       "    </tr>\n",
       "    <tr>\n",
       "      <th>75%</th>\n",
       "      <td>1.476229e+06</td>\n",
       "      <td>2.000000</td>\n",
       "      <td>7.000000</td>\n",
       "      <td>5.280000e+02</td>\n",
       "      <td>0.000000</td>\n",
       "      <td>3.000000</td>\n",
       "      <td>2.681314e+06</td>\n",
       "      <td>2.000000</td>\n",
       "      <td>1.000000</td>\n",
       "      <td>50.000000</td>\n",
       "      <td>0.000000</td>\n",
       "    </tr>\n",
       "    <tr>\n",
       "      <th>max</th>\n",
       "      <td>1.517654e+06</td>\n",
       "      <td>9.000000</td>\n",
       "      <td>161.000000</td>\n",
       "      <td>1.584000e+06</td>\n",
       "      <td>1.000000</td>\n",
       "      <td>10.000000</td>\n",
       "      <td>2.752388e+06</td>\n",
       "      <td>10.000000</td>\n",
       "      <td>1.000000</td>\n",
       "      <td>105.000000</td>\n",
       "      <td>1.000000</td>\n",
       "    </tr>\n",
       "  </tbody>\n",
       "</table>\n",
       "</div>"
      ],
      "text/plain": [
       "                 id   party_number    vehicle_age      distance  \\\n",
       "count  1.184110e+05  118411.000000  115046.000000  1.184110e+05   \n",
       "mean   1.429057e+06       1.681339       4.908263  7.320663e+02   \n",
       "std    5.452668e+04       0.784622       3.266265  6.902704e+03   \n",
       "min    9.855270e+05       1.000000       0.000000  0.000000e+00   \n",
       "25%    1.386167e+06       1.000000       3.000000  2.000000e+00   \n",
       "50%    1.431113e+06       2.000000       4.000000  1.180000e+02   \n",
       "75%    1.476229e+06       2.000000       7.000000  5.280000e+02   \n",
       "max    1.517654e+06       9.000000     161.000000  1.584000e+06   \n",
       "\n",
       "        intersection    party_count            id   party_number  \\\n",
       "count  118043.000000  118411.000000  1.184110e+05  118411.000000   \n",
       "mean        0.234711       2.356487  2.594288e+06       1.647355   \n",
       "std         0.423820       0.950973  9.899955e+04       0.812170   \n",
       "min         0.000000       1.000000  1.800806e+06       1.000000   \n",
       "25%         0.000000       2.000000  2.516794e+06       1.000000   \n",
       "50%         0.000000       2.000000  2.597153e+06       1.000000   \n",
       "75%         0.000000       3.000000  2.681314e+06       2.000000   \n",
       "max         1.000000      10.000000  2.752388e+06      10.000000   \n",
       "\n",
       "            at_fault  insurance_premium  cellphone_in_use  \n",
       "count  118411.000000      113289.000000     107507.000000  \n",
       "mean        0.469686          38.624686          0.021320  \n",
       "std         0.499082          16.355164          0.144448  \n",
       "min         0.000000           0.000000          0.000000  \n",
       "25%         0.000000          25.000000          0.000000  \n",
       "50%         0.000000          36.000000          0.000000  \n",
       "75%         1.000000          50.000000          0.000000  \n",
       "max         1.000000         105.000000          1.000000  "
      ]
     },
     "metadata": {},
     "output_type": "display_data"
    },
    {
     "data": {
      "text/plain": [
       "0"
      ]
     },
     "metadata": {},
     "output_type": "display_data"
    }
   ],
   "source": [
    "display(df.head())\n",
    "display(df.info())\n",
    "display(df.describe())\n",
    "display(df.duplicated().sum())"
   ]
  },
  {
   "cell_type": "markdown",
   "id": "a71d5772",
   "metadata": {},
   "source": [
    "<div class=\"alert alert-warning\">\n",
    "    <b>💡**Комментарий ревьюера** </b>\n",
    "    <p> Вижу, что было выведено количество дубликатов, но нет пояснения, было решено их не удалять? Если да, то почему?</p>\n",
    "</div>"
   ]
  },
  {
   "cell_type": "markdown",
   "id": "2a84f43a",
   "metadata": {},
   "source": [
    "<div class=\"alert alert-info\"> <b>Комментарий студента:</b> Выбрал неверный порядок избавления от уникальных ключей. дублей, по крайне мере очевидных, в датасете нет </div>"
   ]
  },
  {
   "cell_type": "code",
   "execution_count": 14,
   "id": "da19b57c",
   "metadata": {},
   "outputs": [],
   "source": [
    "# удалим задублированные столбцы\n",
    "# df = df.loc[:, ~df.columns.duplicated()]"
   ]
  },
  {
   "cell_type": "code",
   "execution_count": 15,
   "id": "3a539205",
   "metadata": {},
   "outputs": [],
   "source": [
    "columns = ['vehicle_age', # возраст автомобиля \n",
    "           # вероятно, может отражаться на исправности авто\n",
    "           'county_city_location', # номер географических районов \n",
    "           # вероятно, существуют более склонные к авариям участки или районы\n",
    "           'county_location', # названия географических районов \n",
    "           # как county_city_location, только другого уровня\n",
    "           'distance', # расстояние от главной дороги \n",
    "           # косвенно может поведать нам о скоростном режиме и качестве дороги\n",
    "           'direction', # направление движения \n",
    "           # не самый информативный критерий, но может раскрыться в купе, например, с county_city_location\n",
    "           'intersection', # является ли место происшествие перекрёстком\n",
    "           # особое условие происшествия\n",
    "           'weather_1', # погода\n",
    "           # погодные условия, очевидно, влияют на сложность управления авто\n",
    "           'location_type', # тип дороги\n",
    "           # особое условие происшествия (возможно мультиколлинеарность с intersection)\n",
    "#            'collision_damage', # cерьёзность происшествия\n",
    "#            # тип урона (cерьёзность происшествия)\n",
    "#            'party_count', # количество участников\n",
    "#            # количество участников дтп \n",
    "#            'primary_collision_factor', # основной фактор аварии\n",
    "#            # posterior variable\n",
    "#            'pcf_violation_category', # категория нарушения\n",
    "#            # posterior variable\n",
    "#            'type_of_collision', # тип аварии\n",
    "#            # posterior variable\n",
    "           'road_surface', # состояние дороги\n",
    "           # влиет на аварийность - причем крайне нелинейно\n",
    "           'road_condition_1', # дорожное состояние\n",
    "           # особенности качественного состояние дороги\n",
    "           'lighting', #освещение\n",
    "           # качество освещения дороги звучит как значимый параметр\n",
    "           'collision_date', # дата происшествия\n",
    "           # можно извлечь значимые временные парметры как, например, номер недели или время года\n",
    "           'collision_time', # время происшествия\n",
    "           # можно извлечь данные, например, о времени суток\n",
    "           'insurance_premium', #cумма страховки\n",
    "           # размер страховой премии может влиять на манеру вождения или скрытые намерения водителя\n",
    "           'party_sobriety', # трезвость участника\n",
    "           # есть основания на необоснованное предположение о влиянии данного критерия на аварийность\n",
    "           'party_drug_physical', # состояние участника: физическое или с учётом принятых лекарств\n",
    "           # аналогично party_sobriety           \n",
    "#            'cellphone_in_use', # наличие телефона в автомобиле (возможности разговаривать по громкой связи)\n",
    "#            # наличие отвлекающего фактора в лице телефона\n",
    "           'at_fault' # целевая переменная\n",
    "]\n",
    "\n",
    "df = df[columns]"
   ]
  },
  {
   "cell_type": "markdown",
   "id": "2089bcef",
   "metadata": {},
   "source": [
    "#### EDA"
   ]
  },
  {
   "cell_type": "code",
   "execution_count": 16,
   "id": "ad558930",
   "metadata": {},
   "outputs": [
    {
     "name": "stdout",
     "output_type": "stream",
     "text": [
      "<class 'pandas.core.frame.DataFrame'>\n",
      "RangeIndex: 118411 entries, 0 to 118410\n",
      "Data columns (total 17 columns):\n",
      " #   Column                Non-Null Count   Dtype  \n",
      "---  ------                --------------   -----  \n",
      " 0   vehicle_age           115046 non-null  float64\n",
      " 1   county_city_location  118411 non-null  object \n",
      " 2   county_location       118411 non-null  object \n",
      " 3   distance              118411 non-null  float64\n",
      " 4   direction             89466 non-null   object \n",
      " 5   intersection          118043 non-null  float64\n",
      " 6   weather_1             118022 non-null  object \n",
      " 7   location_type         55137 non-null   object \n",
      " 8   road_surface          117645 non-null  object \n",
      " 9   road_condition_1      117843 non-null  object \n",
      " 10  lighting              118080 non-null  object \n",
      " 11  collision_date        118411 non-null  object \n",
      " 12  collision_time        118283 non-null  object \n",
      " 13  insurance_premium     113289 non-null  float64\n",
      " 14  party_sobriety        116682 non-null  object \n",
      " 15  party_drug_physical   8695 non-null    object \n",
      " 16  at_fault              118411 non-null  int64  \n",
      "dtypes: float64(4), int64(1), object(12)\n",
      "memory usage: 15.4+ MB\n"
     ]
    }
   ],
   "source": [
    "df.info()"
   ]
  },
  {
   "cell_type": "code",
   "execution_count": 17,
   "id": "0f786ba8",
   "metadata": {},
   "outputs": [
    {
     "data": {
      "image/png": "[encoded data removed]",
      "text/plain": [
       "<Figure size 432x288 with 1 Axes>"
      ]
     },
     "metadata": {
      "needs_background": "light"
     },
     "output_type": "display_data"
    },
    {
     "data": {
      "image/png": "[encoded data removed]",
      "text/plain": [
       "<Figure size 432x288 with 1 Axes>"
      ]
     },
     "metadata": {
      "needs_background": "light"
     },
     "output_type": "display_data"
    },
    {
     "data": {
      "image/png": "[encoded data removed]",
      "text/plain": [
       "<Figure size 432x288 with 1 Axes>"
      ]
     },
     "metadata": {
      "needs_background": "light"
     },
     "output_type": "display_data"
    },
    {
     "data": {
      "image/png": "[encoded data removed]",
      "text/plain": [
       "<Figure size 432x288 with 1 Axes>"
      ]
     },
     "metadata": {
      "needs_background": "light"
     },
     "output_type": "display_data"
    },
    {
     "data": {
      "image/png": "[encoded data removed]",
      "text/plain": [
       "<Figure size 432x288 with 1 Axes>"
      ]
     },
     "metadata": {
      "needs_background": "light"
     },
     "output_type": "display_data"
    },
    {
     "data": {
      "image/png": "[encoded data removed]",
      "text/plain": [
       "<Figure size 432x288 with 1 Axes>"
      ]
     },
     "metadata": {
      "needs_background": "light"
     },
     "output_type": "display_data"
    },
    {
     "data": {
      "image/png": "[encoded data removed]",
      "text/plain": [
       "<Figure size 432x288 with 1 Axes>"
      ]
     },
     "metadata": {
      "needs_background": "light"
     },
     "output_type": "display_data"
    },
    {
     "data": {
      "image/png": "[encoded data removed]",
      "text/plain": [
       "<Figure size 432x288 with 1 Axes>"
      ]
     },
     "metadata": {
      "needs_background": "light"
     },
     "output_type": "display_data"
    },
    {
     "data": {
      "image/png": "[encoded data removed]",
      "text/plain": [
       "<Figure size 432x288 with 1 Axes>"
      ]
     },
     "metadata": {
      "needs_background": "light"
     },
     "output_type": "display_data"
    },
    {
     "data": {
      "image/png": "[encoded data removed]",
      "text/plain": [
       "<Figure size 432x288 with 1 Axes>"
      ]
     },
     "metadata": {
      "needs_background": "light"
     },
     "output_type": "display_data"
    },
    {
     "data": {
      "image/png": "[encoded data removed]",
      "text/plain": [
       "<Figure size 432x288 with 1 Axes>"
      ]
     },
     "metadata": {
      "needs_background": "light"
     },
     "output_type": "display_data"
    },
    {
     "data": {
      "image/png": "[encoded data removed]",
      "text/plain": [
       "<Figure size 432x288 with 1 Axes>"
      ]
     },
     "metadata": {
      "needs_background": "light"
     },
     "output_type": "display_data"
    },
    {
     "data": {
      "image/png": "[encoded data removed]",
      "text/plain": [
       "<Figure size 432x288 with 1 Axes>"
      ]
     },
     "metadata": {
      "needs_background": "light"
     },
     "output_type": "display_data"
    },
    {
     "data": {
      "image/png": "[encoded data removed]",
      "text/plain": [
       "<Figure size 432x288 with 1 Axes>"
      ]
     },
     "metadata": {
      "needs_background": "light"
     },
     "output_type": "display_data"
    },
    {
     "data": {
      "image/png": "[encoded data removed]",
      "text/plain": [
       "<Figure size 432x288 with 1 Axes>"
      ]
     },
     "metadata": {
      "needs_background": "light"
     },
     "output_type": "display_data"
    },
    {
     "data": {
      "image/png": "[encoded data removed]",
      "text/plain": [
       "<Figure size 432x288 with 1 Axes>"
      ]
     },
     "metadata": {
      "needs_background": "light"
     },
     "output_type": "display_data"
    },
    {
     "data": {
      "image/png": "[encoded data removed]",
      "text/plain": [
       "<Figure size 432x288 with 1 Axes>"
      ]
     },
     "metadata": {
      "needs_background": "light"
     },
     "output_type": "display_data"
    }
   ],
   "source": [
    "# использую логарифмическую шкалу, чтобы выбросы стали очевиднее\n",
    "def plot_hists(df, use_log=True):\n",
    "    for col in df.columns:\n",
    "        if df[col].dtype in ['int', 'float']:\n",
    "            plot_data = df[col]\n",
    "        else:\n",
    "            plot_data = df[col].value_counts()\n",
    "        \n",
    "        plot_data.plot(kind='hist',\n",
    "                       xlabel=col,\n",
    "                       title=f'Histogram for {col}')\n",
    "        if use_log: plt.yscale('log')\n",
    "        plt.show()\n",
    "\n",
    "plot_hists(df)"
   ]
  },
  {
   "cell_type": "markdown",
   "id": "5a4a6ec8",
   "metadata": {},
   "source": [
    "<div class=\"alert alert-warning\">\n",
    "    <b>💡**Комментарий ревьюера** </b>\n",
    "    <p> Может, стоит также построить графики для категориальных переменных? Так мы лучше сможем понять какие методы заполнения пропущенных значений использовать. </p>\n",
    "</div>"
   ]
  },
  {
   "cell_type": "markdown",
   "id": "f5dd798b",
   "metadata": {},
   "source": [
    "<div class=\"alert alert-info\"> <b>Комментарий студента:</b> Постарался учесть </div>"
   ]
  },
  {
   "cell_type": "code",
   "execution_count": 18,
   "id": "78271601",
   "metadata": {
    "scrolled": false
   },
   "outputs": [
    {
     "data": {
      "text/html": [
       "<div>\n",
       "<style scoped>\n",
       "    .dataframe tbody tr th:only-of-type {\n",
       "        vertical-align: middle;\n",
       "    }\n",
       "\n",
       "    .dataframe tbody tr th {\n",
       "        vertical-align: top;\n",
       "    }\n",
       "\n",
       "    .dataframe thead th {\n",
       "        text-align: right;\n",
       "    }\n",
       "</style>\n",
       "<table border=\"1\" class=\"dataframe\">\n",
       "  <thead>\n",
       "    <tr style=\"text-align: right;\">\n",
       "      <th></th>\n",
       "      <th>vehicle_age</th>\n",
       "      <th>county_city_location</th>\n",
       "      <th>county_location</th>\n",
       "      <th>distance</th>\n",
       "      <th>direction</th>\n",
       "      <th>intersection</th>\n",
       "      <th>weather_1</th>\n",
       "      <th>location_type</th>\n",
       "      <th>road_surface</th>\n",
       "      <th>road_condition_1</th>\n",
       "      <th>lighting</th>\n",
       "      <th>collision_date</th>\n",
       "      <th>collision_time</th>\n",
       "      <th>insurance_premium</th>\n",
       "      <th>party_sobriety</th>\n",
       "      <th>party_drug_physical</th>\n",
       "      <th>at_fault</th>\n",
       "    </tr>\n",
       "  </thead>\n",
       "  <tbody>\n",
       "    <tr>\n",
       "      <th>26068</th>\n",
       "      <td>161.0</td>\n",
       "      <td>1942</td>\n",
       "      <td>los angeles</td>\n",
       "      <td>449.0</td>\n",
       "      <td>north</td>\n",
       "      <td>0.0</td>\n",
       "      <td>clear</td>\n",
       "      <td>None</td>\n",
       "      <td>dry</td>\n",
       "      <td>normal</td>\n",
       "      <td>daylight</td>\n",
       "      <td>2012-06-20</td>\n",
       "      <td>11:45:00</td>\n",
       "      <td>18.0</td>\n",
       "      <td>had not been drinking</td>\n",
       "      <td>None</td>\n",
       "      <td>1</td>\n",
       "    </tr>\n",
       "    <tr>\n",
       "      <th>26070</th>\n",
       "      <td>161.0</td>\n",
       "      <td>1942</td>\n",
       "      <td>los angeles</td>\n",
       "      <td>449.0</td>\n",
       "      <td>north</td>\n",
       "      <td>0.0</td>\n",
       "      <td>clear</td>\n",
       "      <td>None</td>\n",
       "      <td>dry</td>\n",
       "      <td>normal</td>\n",
       "      <td>daylight</td>\n",
       "      <td>2012-06-20</td>\n",
       "      <td>11:45:00</td>\n",
       "      <td>53.0</td>\n",
       "      <td>had not been drinking</td>\n",
       "      <td>None</td>\n",
       "      <td>0</td>\n",
       "    </tr>\n",
       "    <tr>\n",
       "      <th>68006</th>\n",
       "      <td>161.0</td>\n",
       "      <td>1942</td>\n",
       "      <td>los angeles</td>\n",
       "      <td>0.0</td>\n",
       "      <td>None</td>\n",
       "      <td>1.0</td>\n",
       "      <td>clear</td>\n",
       "      <td>ramp</td>\n",
       "      <td>dry</td>\n",
       "      <td>normal</td>\n",
       "      <td>dusk or dawn</td>\n",
       "      <td>2012-12-05</td>\n",
       "      <td>05:55:00</td>\n",
       "      <td>42.0</td>\n",
       "      <td>had not been drinking</td>\n",
       "      <td>None</td>\n",
       "      <td>1</td>\n",
       "    </tr>\n",
       "    <tr>\n",
       "      <th>68008</th>\n",
       "      <td>161.0</td>\n",
       "      <td>1942</td>\n",
       "      <td>los angeles</td>\n",
       "      <td>0.0</td>\n",
       "      <td>None</td>\n",
       "      <td>1.0</td>\n",
       "      <td>clear</td>\n",
       "      <td>ramp</td>\n",
       "      <td>dry</td>\n",
       "      <td>normal</td>\n",
       "      <td>dusk or dawn</td>\n",
       "      <td>2012-12-05</td>\n",
       "      <td>05:55:00</td>\n",
       "      <td>22.0</td>\n",
       "      <td>had not been drinking</td>\n",
       "      <td>None</td>\n",
       "      <td>0</td>\n",
       "    </tr>\n",
       "  </tbody>\n",
       "</table>\n",
       "</div>"
      ],
      "text/plain": [
       "       vehicle_age county_city_location county_location  distance direction  \\\n",
       "26068        161.0                 1942     los angeles     449.0     north   \n",
       "26070        161.0                 1942     los angeles     449.0     north   \n",
       "68006        161.0                 1942     los angeles       0.0      None   \n",
       "68008        161.0                 1942     los angeles       0.0      None   \n",
       "\n",
       "       intersection weather_1 location_type road_surface road_condition_1  \\\n",
       "26068           0.0     clear          None          dry           normal   \n",
       "26070           0.0     clear          None          dry           normal   \n",
       "68006           1.0     clear          ramp          dry           normal   \n",
       "68008           1.0     clear          ramp          dry           normal   \n",
       "\n",
       "           lighting collision_date collision_time  insurance_premium  \\\n",
       "26068      daylight     2012-06-20       11:45:00               18.0   \n",
       "26070      daylight     2012-06-20       11:45:00               53.0   \n",
       "68006  dusk or dawn     2012-12-05       05:55:00               42.0   \n",
       "68008  dusk or dawn     2012-12-05       05:55:00               22.0   \n",
       "\n",
       "              party_sobriety party_drug_physical  at_fault  \n",
       "26068  had not been drinking                None         1  \n",
       "26070  had not been drinking                None         0  \n",
       "68006  had not been drinking                None         1  \n",
       "68008  had not been drinking                None         0  "
      ]
     },
     "metadata": {},
     "output_type": "display_data"
    },
    {
     "data": {
      "text/html": [
       "<div>\n",
       "<style scoped>\n",
       "    .dataframe tbody tr th:only-of-type {\n",
       "        vertical-align: middle;\n",
       "    }\n",
       "\n",
       "    .dataframe tbody tr th {\n",
       "        vertical-align: top;\n",
       "    }\n",
       "\n",
       "    .dataframe thead th {\n",
       "        text-align: right;\n",
       "    }\n",
       "</style>\n",
       "<table border=\"1\" class=\"dataframe\">\n",
       "  <thead>\n",
       "    <tr style=\"text-align: right;\">\n",
       "      <th></th>\n",
       "      <th>vehicle_age</th>\n",
       "      <th>county_city_location</th>\n",
       "      <th>county_location</th>\n",
       "      <th>distance</th>\n",
       "      <th>direction</th>\n",
       "      <th>intersection</th>\n",
       "      <th>weather_1</th>\n",
       "      <th>location_type</th>\n",
       "      <th>road_surface</th>\n",
       "      <th>road_condition_1</th>\n",
       "      <th>lighting</th>\n",
       "      <th>collision_date</th>\n",
       "      <th>collision_time</th>\n",
       "      <th>insurance_premium</th>\n",
       "      <th>party_sobriety</th>\n",
       "      <th>party_drug_physical</th>\n",
       "      <th>at_fault</th>\n",
       "    </tr>\n",
       "  </thead>\n",
       "  <tbody>\n",
       "    <tr>\n",
       "      <th>24285</th>\n",
       "      <td>3.0</td>\n",
       "      <td>3600</td>\n",
       "      <td>san bernardino</td>\n",
       "      <td>124080.0</td>\n",
       "      <td>west</td>\n",
       "      <td>0.0</td>\n",
       "      <td>clear</td>\n",
       "      <td>highway</td>\n",
       "      <td>dry</td>\n",
       "      <td>normal</td>\n",
       "      <td>dusk or dawn</td>\n",
       "      <td>2012-03-28</td>\n",
       "      <td>18:59:00</td>\n",
       "      <td>23.0</td>\n",
       "      <td>had not been drinking</td>\n",
       "      <td>None</td>\n",
       "      <td>1</td>\n",
       "    </tr>\n",
       "    <tr>\n",
       "      <th>65433</th>\n",
       "      <td>5.0</td>\n",
       "      <td>1400</td>\n",
       "      <td>inyo</td>\n",
       "      <td>171600.0</td>\n",
       "      <td>north</td>\n",
       "      <td>0.0</td>\n",
       "      <td>clear</td>\n",
       "      <td>None</td>\n",
       "      <td>dry</td>\n",
       "      <td>normal</td>\n",
       "      <td>daylight</td>\n",
       "      <td>2012-02-18</td>\n",
       "      <td>16:30:00</td>\n",
       "      <td>36.0</td>\n",
       "      <td>impairment unknown</td>\n",
       "      <td>G</td>\n",
       "      <td>1</td>\n",
       "    </tr>\n",
       "    <tr>\n",
       "      <th>108074</th>\n",
       "      <td>3.0</td>\n",
       "      <td>1942</td>\n",
       "      <td>los angeles</td>\n",
       "      <td>1584000.0</td>\n",
       "      <td>north</td>\n",
       "      <td>0.0</td>\n",
       "      <td>clear</td>\n",
       "      <td>highway</td>\n",
       "      <td>dry</td>\n",
       "      <td>normal</td>\n",
       "      <td>daylight</td>\n",
       "      <td>2012-05-22</td>\n",
       "      <td>15:45:00</td>\n",
       "      <td>63.0</td>\n",
       "      <td>had not been drinking</td>\n",
       "      <td>None</td>\n",
       "      <td>0</td>\n",
       "    </tr>\n",
       "    <tr>\n",
       "      <th>108075</th>\n",
       "      <td>3.0</td>\n",
       "      <td>1942</td>\n",
       "      <td>los angeles</td>\n",
       "      <td>1584000.0</td>\n",
       "      <td>north</td>\n",
       "      <td>0.0</td>\n",
       "      <td>clear</td>\n",
       "      <td>highway</td>\n",
       "      <td>dry</td>\n",
       "      <td>normal</td>\n",
       "      <td>daylight</td>\n",
       "      <td>2012-05-22</td>\n",
       "      <td>15:45:00</td>\n",
       "      <td>22.0</td>\n",
       "      <td>had not been drinking</td>\n",
       "      <td>None</td>\n",
       "      <td>1</td>\n",
       "    </tr>\n",
       "  </tbody>\n",
       "</table>\n",
       "</div>"
      ],
      "text/plain": [
       "        vehicle_age county_city_location county_location   distance direction  \\\n",
       "24285           3.0                 3600  san bernardino   124080.0      west   \n",
       "65433           5.0                 1400            inyo   171600.0     north   \n",
       "108074          3.0                 1942     los angeles  1584000.0     north   \n",
       "108075          3.0                 1942     los angeles  1584000.0     north   \n",
       "\n",
       "        intersection weather_1 location_type road_surface road_condition_1  \\\n",
       "24285            0.0     clear       highway          dry           normal   \n",
       "65433            0.0     clear          None          dry           normal   \n",
       "108074           0.0     clear       highway          dry           normal   \n",
       "108075           0.0     clear       highway          dry           normal   \n",
       "\n",
       "            lighting collision_date collision_time  insurance_premium  \\\n",
       "24285   dusk or dawn     2012-03-28       18:59:00               23.0   \n",
       "65433       daylight     2012-02-18       16:30:00               36.0   \n",
       "108074      daylight     2012-05-22       15:45:00               63.0   \n",
       "108075      daylight     2012-05-22       15:45:00               22.0   \n",
       "\n",
       "               party_sobriety party_drug_physical  at_fault  \n",
       "24285   had not been drinking                None         1  \n",
       "65433      impairment unknown                   G         1  \n",
       "108074  had not been drinking                None         0  \n",
       "108075  had not been drinking                None         1  "
      ]
     },
     "metadata": {},
     "output_type": "display_data"
    }
   ],
   "source": [
    "# согласно гистограммам в vehicle_age действительно есть выбросы после ~30 лет\n",
    "display(df.query('vehicle_age > 30'))\n",
    "# а также в distance - после ~ 100 000\n",
    "display(df.query('distance > 100000'))\n",
    "\n",
    "df = df.query('vehicle_age <= 30')\n",
    "df = df.query('distance <= 100000')"
   ]
  },
  {
   "cell_type": "markdown",
   "id": "007e33f9",
   "metadata": {},
   "source": [
    "<div class=\"alert alert-block alert-danger\">\n",
    "    <b> ❌**Комментарий ревьюера** </b> \n",
    "    <p> Может в колонках <code>'vehicle_age'</code> и <code>'distance'</code> есть выбросы, как думаешь? Хочется увидеть твой анализ на предмет аномальных значений.</p>\n",
    "</div>"
   ]
  },
  {
   "cell_type": "markdown",
   "id": "cbf62729",
   "metadata": {},
   "source": [
    "<div class=\"alert alert-info\"> <b>Комментарий студента:</b> Постарался учесть </div>"
   ]
  },
  {
   "cell_type": "code",
   "execution_count": 19,
   "id": "660e05ae",
   "metadata": {},
   "outputs": [
    {
     "data": {
      "text/plain": [
       "<seaborn.axisgrid.PairGrid at 0x7f67fcb42dc0>"
      ]
     },
     "execution_count": 19,
     "metadata": {},
     "output_type": "execute_result"
    },
    {
     "data": {
      "image/png": "[encoded data removed]",
      "text/plain": [
       "<Figure size 765.875x720 with 20 Axes>"
      ]
     },
     "metadata": {
      "needs_background": "light"
     },
     "output_type": "display_data"
    }
   ],
   "source": [
    "sns.pairplot(df, hue='at_fault')"
   ]
  },
  {
   "cell_type": "markdown",
   "id": "9885795c",
   "metadata": {},
   "source": [
    "#### Инжиниринг переменных и предобработка данных"
   ]
  },
  {
   "cell_type": "code",
   "execution_count": 20,
   "id": "8f116a41",
   "metadata": {},
   "outputs": [],
   "source": [
    "# для простоты обозначим городские районы, встречающиеся реже 100 раз как other\n",
    "ccl_vc = df.county_city_location.value_counts()\n",
    "ccl_to_replace = ccl_vc[ccl_vc < 50].index\n",
    "df['county_city_location'] = df['county_city_location'].replace(to_replace=ccl_to_replace, value='other')"
   ]
  },
  {
   "cell_type": "code",
   "execution_count": 21,
   "id": "8cf5ac3b",
   "metadata": {},
   "outputs": [],
   "source": [
    "# заменим na значения на other (будем рассматривать, как отдельную переменную)\n",
    "na_category_cols = ['direction', 'location_type', 'party_drug_physical']\n",
    "for col in na_category_cols: df[col].fillna('other', inplace=True)\n",
    "df.dropna(axis=0, inplace=True)"
   ]
  },
  {
   "cell_type": "markdown",
   "id": "85a9943b",
   "metadata": {},
   "source": [
    "<div class=\"alert alert-warning\">\n",
    "    <b>💡**Комментарий ревьюера** </b>\n",
    "    <p> В <code>na_category_cols</code> два раза упоминается <code>party_drug_physical</code>.</p>\n",
    "</div>"
   ]
  },
  {
   "cell_type": "markdown",
   "id": "0fa95592",
   "metadata": {},
   "source": [
    "<div class=\"alert alert-info\"> <b>Комментарий студента:</b> убрал </div>"
   ]
  },
  {
   "cell_type": "code",
   "execution_count": 22,
   "id": "34b6585d",
   "metadata": {},
   "outputs": [],
   "source": [
    "# более масштабные параметры вроде номера недели, месяца, года и тп - не репрезентативны, так как данные\n",
    "# неравномерны или неполные, поэтому возмем менее масштабные временные переменные\n",
    "df['week_day'] = pd.to_datetime(df['collision_date']).dt.dayofweek\n",
    "df['binned_hour'] = pd.cut(pd.to_datetime(df['collision_time'].astype(str)).dt.hour, \n",
    "                           bins=np.arange(0, 24+1, 3), include_lowest=True)"
   ]
  },
  {
   "cell_type": "markdown",
   "id": "c88c6bc2",
   "metadata": {},
   "source": [
    "<div class=\"alert alert-warning\">\n",
    "    <b>💡**Комментарий ревьюера** </b>\n",
    "    <p> Хорошей практикой является проверка на дисбаланс классов. Интересные материалы по теме:\n",
    "        \n",
    "* <a href='https://habr.com/ru/post/349078/'>Нужно ли бояться дисбаланса классов?</a>\n",
    "    \n",
    "* <a href='https://alexanderdyakonov.wordpress.com/2021/05/27/imbalance/'>Дисбаланс классов</a> </p>\n",
    "</div>      "
   ]
  },
  {
   "cell_type": "code",
   "execution_count": 23,
   "id": "bd977caf",
   "metadata": {},
   "outputs": [],
   "source": [
    "# разделение на тренировочную и тестовую выборки\n",
    "num_cols = ['vehicle_age', 'distance', 'insurance_premium']\n",
    "cat_cols = ['county_city_location', 'county_location', 'direction', 'intersection',\n",
    "            'weather_1', 'location_type', 'road_surface', 'road_condition_1', 'lighting',\n",
    "            'week_day', 'binned_hour', 'party_sobriety', 'party_drug_physical']\n",
    "\n",
    "X = df[num_cols+cat_cols]\n",
    "y = df['at_fault']\n",
    "\n",
    "X_train, X_test, y_train, y_test = train_test_split(X, y, test_size=0.2, stratify=y, random_state=42)"
   ]
  },
  {
   "cell_type": "code",
   "execution_count": 24,
   "id": "68ba3c41",
   "metadata": {},
   "outputs": [],
   "source": [
    "col_trans = ColumnTransformer(transformers=[(\"nums\", 'passthrough', num_cols),\n",
    "                                            (\"cats\", OrdinalEncoder(handle_unknown='ignore'), cat_cols)], n_jobs=2)\n",
    "\n",
    "# будем использовать \"древесные\" модели, поэтому обойдемся без масштабирования\n",
    "X_train = col_trans.fit_transform(X_train)\n",
    "X_test = col_trans.transform(X_test)"
   ]
  },
  {
   "cell_type": "markdown",
   "id": "1387cc6a",
   "metadata": {},
   "source": [
    "<div class=\"alert alert-success\">\n",
    "    <b> ✅**Комментарий ревьюера** </b>\n",
    "    <p>Хорошо, что кодируешь признаки после разделения на подвыборки и делаешь <code>fit</code> только на тренировочной подвыборке! </p>\n",
    "</div>"
   ]
  },
  {
   "cell_type": "markdown",
   "id": "472331cd",
   "metadata": {},
   "source": [
    "<div class=\"alert alert-warning\">\n",
    "    <b>💡**Комментарий ревьюера** </b>\n",
    "    <p> Можно попробовать использовать <code>column_transformer</code> и пайплайны, они упрощают алгоритм предобработки и обучения, интересный материал на эту тему <a href=\"https://scikit-learn.org/stable/auto_examples/compose/plot_column_transformer_mixed_types.html\">по ссылке</a>.</p>\n",
    "</div>      "
   ]
  },
  {
   "cell_type": "markdown",
   "id": "82741713",
   "metadata": {},
   "source": [
    "#### Обучение моделей"
   ]
  },
  {
   "cell_type": "code",
   "execution_count": 25,
   "id": "93c4314a",
   "metadata": {},
   "outputs": [],
   "source": [
    "model_types = {\n",
    "               'adaboost': AdaBoostClassifier(base_estimator=DecisionTreeClassifier(max_depth=1, random_state=42),\n",
    "                                              random_state=42),\n",
    "               'rndforest': RandomForestClassifier(random_state=42, n_jobs=-1),\n",
    "               'lgb': LGBMClassifier(random_state=42, n_jobs=-1),\n",
    "               'naive': DummyClassifier(strategy='stratified')\n",
    "              }\n",
    "\n",
    "models_params = {\n",
    "                 'adaboost': {'n_estimators': [50, 75],\n",
    "                              'learning_rate': [1.0, 0.01]},\n",
    "                 'rndforest': {'n_estimators': [50, 75],\n",
    "                           'max_depth': np.arange(10, 15+1, 5)},\n",
    "                 'lgb': {'n_estimators': [50, 75],\n",
    "                         'max_depth': np.arange(10, 15+1, 5),\n",
    "                         'learning_rate' : [0.1, 0.01]},\n",
    "                 'naive': {}\n",
    "                }"
   ]
  },
  {
   "cell_type": "code",
   "execution_count": 26,
   "id": "5ba000e4",
   "metadata": {
    "scrolled": false
   },
   "outputs": [
    {
     "name": "stdout",
     "output_type": "stream",
     "text": [
      "Лучшая модель в группе adaboost имеет значение accuracy - 0.64 и параметры {'learning_rate': 1.0, 'n_estimators': 75}\n",
      "\n",
      "Лучшая модель в группе rndforest имеет значение accuracy - 0.65 и параметры {'max_depth': 15, 'n_estimators': 75}\n",
      "\n",
      "Лучшая модель в группе lgb имеет значение accuracy - 0.65 и параметры {'learning_rate': 0.1, 'max_depth': 10, 'n_estimators': 75}\n",
      "\n",
      "Лучшая модель в группе naive имеет значение accuracy - 0.51 и параметры {}\n",
      "\n",
      "CPU times: user 5min 22s, sys: 4.43 s, total: 5min 26s\n",
      "Wall time: 9min 45s\n"
     ]
    }
   ],
   "source": [
    "%%time\n",
    "# в качестве метрики выберем банальное accuracy - как метрику, которую можно интерпретировать как вероятностную.\n",
    "\n",
    "def grid_search(model_types, models_params):\n",
    "    best_models = {}\n",
    "    cv_results = {}\n",
    "\n",
    "    for model_type in model_types:\n",
    "        model = model_types[model_type]\n",
    "        grid = GridSearchCV(model, models_params[model_type], cv=5, scoring='accuracy',\n",
    "                            n_jobs=5, refit=True, return_train_score=False)\n",
    "\n",
    "        grid.fit(X_train, y_train)\n",
    "        best_models[model_type] = grid.best_estimator_\n",
    "        cv_results[model_type] = grid.cv_results_\n",
    "        print('Лучшая модель в группе {} имеет значение accuracy - {:.2f} и параметры {}'\\\n",
    "              .format(model_type,\\\n",
    "                      grid.best_score_,\\\n",
    "                      grid.best_params_))\n",
    "        print()\n",
    "    return best_models, cv_results\n",
    "\n",
    "best_models, cv_results = grid_search(model_types, models_params)"
   ]
  },
  {
   "cell_type": "code",
   "execution_count": 27,
   "id": "e7d8ccb0",
   "metadata": {},
   "outputs": [
    {
     "name": "stdout",
     "output_type": "stream",
     "text": [
      "adaboost\n"
     ]
    },
    {
     "data": {
      "text/html": [
       "<div>\n",
       "<style scoped>\n",
       "    .dataframe tbody tr th:only-of-type {\n",
       "        vertical-align: middle;\n",
       "    }\n",
       "\n",
       "    .dataframe tbody tr th {\n",
       "        vertical-align: top;\n",
       "    }\n",
       "\n",
       "    .dataframe thead th {\n",
       "        text-align: right;\n",
       "    }\n",
       "</style>\n",
       "<table border=\"1\" class=\"dataframe\">\n",
       "  <thead>\n",
       "    <tr style=\"text-align: right;\">\n",
       "      <th></th>\n",
       "      <th>mean_fit_time</th>\n",
       "      <th>mean_score_time</th>\n",
       "      <th>mean_test_score</th>\n",
       "      <th>params</th>\n",
       "      <th>rank_test_score</th>\n",
       "    </tr>\n",
       "  </thead>\n",
       "  <tbody>\n",
       "    <tr>\n",
       "      <th>1</th>\n",
       "      <td>26.151019</td>\n",
       "      <td>1.061460</td>\n",
       "      <td>0.641156</td>\n",
       "      <td>{'learning_rate': 1.0, 'n_estimators': 75}</td>\n",
       "      <td>1</td>\n",
       "    </tr>\n",
       "    <tr>\n",
       "      <th>0</th>\n",
       "      <td>13.293653</td>\n",
       "      <td>0.682536</td>\n",
       "      <td>0.640676</td>\n",
       "      <td>{'learning_rate': 1.0, 'n_estimators': 50}</td>\n",
       "      <td>2</td>\n",
       "    </tr>\n",
       "    <tr>\n",
       "      <th>2</th>\n",
       "      <td>17.433628</td>\n",
       "      <td>0.712993</td>\n",
       "      <td>0.600807</td>\n",
       "      <td>{'learning_rate': 0.01, 'n_estimators': 50}</td>\n",
       "      <td>3</td>\n",
       "    </tr>\n",
       "    <tr>\n",
       "      <th>3</th>\n",
       "      <td>24.087571</td>\n",
       "      <td>0.629318</td>\n",
       "      <td>0.600807</td>\n",
       "      <td>{'learning_rate': 0.01, 'n_estimators': 75}</td>\n",
       "      <td>3</td>\n",
       "    </tr>\n",
       "  </tbody>\n",
       "</table>\n",
       "</div>"
      ],
      "text/plain": [
       "   mean_fit_time  mean_score_time  mean_test_score  \\\n",
       "1      26.151019         1.061460         0.641156   \n",
       "0      13.293653         0.682536         0.640676   \n",
       "2      17.433628         0.712993         0.600807   \n",
       "3      24.087571         0.629318         0.600807   \n",
       "\n",
       "                                        params  rank_test_score  \n",
       "1   {'learning_rate': 1.0, 'n_estimators': 75}                1  \n",
       "0   {'learning_rate': 1.0, 'n_estimators': 50}                2  \n",
       "2  {'learning_rate': 0.01, 'n_estimators': 50}                3  \n",
       "3  {'learning_rate': 0.01, 'n_estimators': 75}                3  "
      ]
     },
     "metadata": {},
     "output_type": "display_data"
    },
    {
     "name": "stdout",
     "output_type": "stream",
     "text": [
      "rndforest\n"
     ]
    },
    {
     "data": {
      "text/html": [
       "<div>\n",
       "<style scoped>\n",
       "    .dataframe tbody tr th:only-of-type {\n",
       "        vertical-align: middle;\n",
       "    }\n",
       "\n",
       "    .dataframe tbody tr th {\n",
       "        vertical-align: top;\n",
       "    }\n",
       "\n",
       "    .dataframe thead th {\n",
       "        text-align: right;\n",
       "    }\n",
       "</style>\n",
       "<table border=\"1\" class=\"dataframe\">\n",
       "  <thead>\n",
       "    <tr style=\"text-align: right;\">\n",
       "      <th></th>\n",
       "      <th>mean_fit_time</th>\n",
       "      <th>mean_score_time</th>\n",
       "      <th>mean_test_score</th>\n",
       "      <th>params</th>\n",
       "      <th>rank_test_score</th>\n",
       "    </tr>\n",
       "  </thead>\n",
       "  <tbody>\n",
       "    <tr>\n",
       "      <th>3</th>\n",
       "      <td>34.047967</td>\n",
       "      <td>0.778646</td>\n",
       "      <td>0.654223</td>\n",
       "      <td>{'max_depth': 15, 'n_estimators': 75}</td>\n",
       "      <td>1</td>\n",
       "    </tr>\n",
       "    <tr>\n",
       "      <th>2</th>\n",
       "      <td>25.557080</td>\n",
       "      <td>0.758708</td>\n",
       "      <td>0.653100</td>\n",
       "      <td>{'max_depth': 15, 'n_estimators': 50}</td>\n",
       "      <td>2</td>\n",
       "    </tr>\n",
       "    <tr>\n",
       "      <th>1</th>\n",
       "      <td>30.358267</td>\n",
       "      <td>0.892709</td>\n",
       "      <td>0.645332</td>\n",
       "      <td>{'max_depth': 10, 'n_estimators': 75}</td>\n",
       "      <td>3</td>\n",
       "    </tr>\n",
       "    <tr>\n",
       "      <th>0</th>\n",
       "      <td>14.230453</td>\n",
       "      <td>0.494687</td>\n",
       "      <td>0.645051</td>\n",
       "      <td>{'max_depth': 10, 'n_estimators': 50}</td>\n",
       "      <td>4</td>\n",
       "    </tr>\n",
       "  </tbody>\n",
       "</table>\n",
       "</div>"
      ],
      "text/plain": [
       "   mean_fit_time  mean_score_time  mean_test_score  \\\n",
       "3      34.047967         0.778646         0.654223   \n",
       "2      25.557080         0.758708         0.653100   \n",
       "1      30.358267         0.892709         0.645332   \n",
       "0      14.230453         0.494687         0.645051   \n",
       "\n",
       "                                  params  rank_test_score  \n",
       "3  {'max_depth': 15, 'n_estimators': 75}                1  \n",
       "2  {'max_depth': 15, 'n_estimators': 50}                2  \n",
       "1  {'max_depth': 10, 'n_estimators': 75}                3  \n",
       "0  {'max_depth': 10, 'n_estimators': 50}                4  "
      ]
     },
     "metadata": {},
     "output_type": "display_data"
    },
    {
     "name": "stdout",
     "output_type": "stream",
     "text": [
      "lgb\n"
     ]
    },
    {
     "data": {
      "text/html": [
       "<div>\n",
       "<style scoped>\n",
       "    .dataframe tbody tr th:only-of-type {\n",
       "        vertical-align: middle;\n",
       "    }\n",
       "\n",
       "    .dataframe tbody tr th {\n",
       "        vertical-align: top;\n",
       "    }\n",
       "\n",
       "    .dataframe thead th {\n",
       "        text-align: right;\n",
       "    }\n",
       "</style>\n",
       "<table border=\"1\" class=\"dataframe\">\n",
       "  <thead>\n",
       "    <tr style=\"text-align: right;\">\n",
       "      <th></th>\n",
       "      <th>mean_fit_time</th>\n",
       "      <th>mean_score_time</th>\n",
       "      <th>mean_test_score</th>\n",
       "      <th>params</th>\n",
       "      <th>rank_test_score</th>\n",
       "    </tr>\n",
       "  </thead>\n",
       "  <tbody>\n",
       "    <tr>\n",
       "      <th>1</th>\n",
       "      <td>4.021981</td>\n",
       "      <td>0.406946</td>\n",
       "      <td>0.646748</td>\n",
       "      <td>{'learning_rate': 0.1, 'max_depth': 10, 'n_estimators': 75}</td>\n",
       "      <td>1</td>\n",
       "    </tr>\n",
       "    <tr>\n",
       "      <th>0</th>\n",
       "      <td>2.391503</td>\n",
       "      <td>0.287931</td>\n",
       "      <td>0.646397</td>\n",
       "      <td>{'learning_rate': 0.1, 'max_depth': 10, 'n_estimators': 50}</td>\n",
       "      <td>2</td>\n",
       "    </tr>\n",
       "    <tr>\n",
       "      <th>3</th>\n",
       "      <td>4.180175</td>\n",
       "      <td>0.419477</td>\n",
       "      <td>0.646046</td>\n",
       "      <td>{'learning_rate': 0.1, 'max_depth': 15, 'n_estimators': 75}</td>\n",
       "      <td>3</td>\n",
       "    </tr>\n",
       "    <tr>\n",
       "      <th>2</th>\n",
       "      <td>3.285455</td>\n",
       "      <td>0.336216</td>\n",
       "      <td>0.645742</td>\n",
       "      <td>{'learning_rate': 0.1, 'max_depth': 15, 'n_estimators': 50}</td>\n",
       "      <td>4</td>\n",
       "    </tr>\n",
       "    <tr>\n",
       "      <th>7</th>\n",
       "      <td>4.225613</td>\n",
       "      <td>0.303087</td>\n",
       "      <td>0.641109</td>\n",
       "      <td>{'learning_rate': 0.01, 'max_depth': 15, 'n_estimators': 75}</td>\n",
       "      <td>5</td>\n",
       "    </tr>\n",
       "    <tr>\n",
       "      <th>5</th>\n",
       "      <td>5.332875</td>\n",
       "      <td>0.420139</td>\n",
       "      <td>0.640934</td>\n",
       "      <td>{'learning_rate': 0.01, 'max_depth': 10, 'n_estimators': 75}</td>\n",
       "      <td>6</td>\n",
       "    </tr>\n",
       "    <tr>\n",
       "      <th>4</th>\n",
       "      <td>3.605706</td>\n",
       "      <td>0.264843</td>\n",
       "      <td>0.637553</td>\n",
       "      <td>{'learning_rate': 0.01, 'max_depth': 10, 'n_estimators': 50}</td>\n",
       "      <td>7</td>\n",
       "    </tr>\n",
       "    <tr>\n",
       "      <th>6</th>\n",
       "      <td>3.876143</td>\n",
       "      <td>0.315868</td>\n",
       "      <td>0.637096</td>\n",
       "      <td>{'learning_rate': 0.01, 'max_depth': 15, 'n_estimators': 50}</td>\n",
       "      <td>8</td>\n",
       "    </tr>\n",
       "  </tbody>\n",
       "</table>\n",
       "</div>"
      ],
      "text/plain": [
       "   mean_fit_time  mean_score_time  mean_test_score  \\\n",
       "1       4.021981         0.406946         0.646748   \n",
       "0       2.391503         0.287931         0.646397   \n",
       "3       4.180175         0.419477         0.646046   \n",
       "2       3.285455         0.336216         0.645742   \n",
       "7       4.225613         0.303087         0.641109   \n",
       "5       5.332875         0.420139         0.640934   \n",
       "4       3.605706         0.264843         0.637553   \n",
       "6       3.876143         0.315868         0.637096   \n",
       "\n",
       "                                                         params  \\\n",
       "1   {'learning_rate': 0.1, 'max_depth': 10, 'n_estimators': 75}   \n",
       "0   {'learning_rate': 0.1, 'max_depth': 10, 'n_estimators': 50}   \n",
       "3   {'learning_rate': 0.1, 'max_depth': 15, 'n_estimators': 75}   \n",
       "2   {'learning_rate': 0.1, 'max_depth': 15, 'n_estimators': 50}   \n",
       "7  {'learning_rate': 0.01, 'max_depth': 15, 'n_estimators': 75}   \n",
       "5  {'learning_rate': 0.01, 'max_depth': 10, 'n_estimators': 75}   \n",
       "4  {'learning_rate': 0.01, 'max_depth': 10, 'n_estimators': 50}   \n",
       "6  {'learning_rate': 0.01, 'max_depth': 15, 'n_estimators': 50}   \n",
       "\n",
       "   rank_test_score  \n",
       "1                1  \n",
       "0                2  \n",
       "3                3  \n",
       "2                4  \n",
       "7                5  \n",
       "5                6  \n",
       "4                7  \n",
       "6                8  "
      ]
     },
     "metadata": {},
     "output_type": "display_data"
    },
    {
     "name": "stdout",
     "output_type": "stream",
     "text": [
      "naive\n"
     ]
    },
    {
     "data": {
      "text/html": [
       "<div>\n",
       "<style scoped>\n",
       "    .dataframe tbody tr th:only-of-type {\n",
       "        vertical-align: middle;\n",
       "    }\n",
       "\n",
       "    .dataframe tbody tr th {\n",
       "        vertical-align: top;\n",
       "    }\n",
       "\n",
       "    .dataframe thead th {\n",
       "        text-align: right;\n",
       "    }\n",
       "</style>\n",
       "<table border=\"1\" class=\"dataframe\">\n",
       "  <thead>\n",
       "    <tr style=\"text-align: right;\">\n",
       "      <th></th>\n",
       "      <th>mean_fit_time</th>\n",
       "      <th>mean_score_time</th>\n",
       "      <th>mean_test_score</th>\n",
       "      <th>params</th>\n",
       "      <th>rank_test_score</th>\n",
       "    </tr>\n",
       "  </thead>\n",
       "  <tbody>\n",
       "    <tr>\n",
       "      <th>0</th>\n",
       "      <td>0.037882</td>\n",
       "      <td>0.002935</td>\n",
       "      <td>0.505007</td>\n",
       "      <td>{}</td>\n",
       "      <td>1</td>\n",
       "    </tr>\n",
       "  </tbody>\n",
       "</table>\n",
       "</div>"
      ],
      "text/plain": [
       "   mean_fit_time  mean_score_time  mean_test_score params  rank_test_score\n",
       "0       0.037882         0.002935         0.505007     {}                1"
      ]
     },
     "metadata": {},
     "output_type": "display_data"
    }
   ],
   "source": [
    "for model_type in cv_results:\n",
    "    print(model_type)\n",
    "    display(pd.DataFrame(cv_results[model_type])\\\n",
    "            [['mean_fit_time', 'mean_score_time', 'mean_test_score', 'params', 'rank_test_score']]\\\n",
    "            .sort_values('rank_test_score')\n",
    "           )"
   ]
  },
  {
   "cell_type": "markdown",
   "id": "700288bf",
   "metadata": {},
   "source": [
    "Откровенно говоря, лучшие модели в классе демонстрируют приблизительно одинаковую результативность, поэтому в целом окончательный выбор не столь принципиален. Для дальнейего рассмотрения остановимся на RandomForest'е."
   ]
  },
  {
   "cell_type": "code",
   "execution_count": 28,
   "id": "8cf79cf6",
   "metadata": {},
   "outputs": [
    {
     "data": {
      "text/plain": [
       "0.6606616442843105"
      ]
     },
     "metadata": {},
     "output_type": "display_data"
    }
   ],
   "source": [
    "preds = best_models['rndforest'].predict(X_test)\n",
    "display(accuracy_score(y_test, preds))"
   ]
  },
  {
   "cell_type": "markdown",
   "id": "8069ac47",
   "metadata": {},
   "source": [
    "## Проведите анализ важности факторов ДТП"
   ]
  },
  {
   "cell_type": "code",
   "execution_count": 29,
   "id": "59ea925b",
   "metadata": {},
   "outputs": [
    {
     "name": "stdout",
     "output_type": "stream",
     "text": [
      "precision - 0.7248005801305294, recall - 0.4108096999588985\n"
     ]
    },
    {
     "data": {
      "image/png": "[encoded data removed]",
      "text/plain": [
       "<Figure size 432x288 with 1 Axes>"
      ]
     },
     "metadata": {
      "needs_background": "light"
     },
     "output_type": "display_data"
    }
   ],
   "source": [
    "proba_preds = best_models['rndforest'].predict_proba(X_test)[:, 0]\n",
    "\n",
    "precision, recall, _ = precision_recall_curve(y_test, proba_preds, )\n",
    "print(f'precision - {precision_score(y_test, preds)}, recall - {recall_score(y_test, preds)}')\n",
    "disp = PrecisionRecallDisplay(precision=precision, recall=recall)\n",
    "disp.plot()\n",
    "plt.show()"
   ]
  },
  {
   "cell_type": "code",
   "execution_count": 30,
   "id": "4cfbc02d",
   "metadata": {},
   "outputs": [
    {
     "data": {
      "image/png": "[encoded data removed]",
      "text/plain": [
       "<Figure size 432x288 with 2 Axes>"
      ]
     },
     "metadata": {
      "needs_background": "light"
     },
     "output_type": "display_data"
    }
   ],
   "source": [
    "conf_matrix = confusion_matrix(y_test, preds)\n",
    "disp = ConfusionMatrixDisplay(confusion_matrix=conf_matrix, )\n",
    "disp.plot()\n",
    "plt.show()"
   ]
  },
  {
   "cell_type": "code",
   "execution_count": 31,
   "id": "d4478c77",
   "metadata": {
    "scrolled": false
   },
   "outputs": [
    {
     "data": {
      "image/png": "[encoded data removed]",
      "text/plain": [
       "<Figure size 720x504 with 1 Axes>"
      ]
     },
     "metadata": {
      "needs_background": "light"
     },
     "output_type": "display_data"
    },
    {
     "data": {
      "text/plain": [
       "array([[ 1.        , -0.10857826],\n",
       "       [-0.10857826,  1.        ]])"
      ]
     },
     "metadata": {},
     "output_type": "display_data"
    }
   ],
   "source": [
    "plot_data = pd.Series(best_models['rndforest'].feature_importances_)\n",
    "\n",
    "plt.figure(figsize=(10, 7))\n",
    "sns.barplot(plot_data, X.columns)\n",
    "plt.show()\n",
    "\n",
    "display(np.corrcoef(df['insurance_premium'], df['at_fault']))"
   ]
  },
  {
   "cell_type": "markdown",
   "id": "647ccdea",
   "metadata": {},
   "source": [
    "Раз уж пример с трезвостью уже был рассмотрен, то мы рассмотрим параметр insurance_premium (cумма страховки). Древесные модели не так легко интерпретировать как линейные - неочевидно наличие положительной или отрицательной зависимости. Однако они способны отражать более сложные зависимости. И если в случае с \"трезвостью\" зависимость более интуитивно уловима, то в примере со страховкой все может показаться куда более сложным. Однако так как \"страховая премия\" не категориальный признак - то, чтобы прояснить наше интуитивное понимание мы можем прибегнуть к поиску линейной взаимосвязи. Как мы можем видеть - коэффициент корреляции отрицателен, но весьма не высок по модулю, и при этом мы видим, что в нашей модели этот параметр весьма существеннен. Тут мы можем лишь косвенно подтвердить наши догадки о сложной нелинейной взаимозависимости, особенности которой мы попробуем предположить ниже:\n",
    " * нет информации о юридических особенностях страхования. например, если есть обязательный уровень страхования, но респондент страхует автомобиль на большую сумму, то это может косвенно свидетельствовать о его повышенном внимании к автомобилю и, как следствие, более безопасной езде. при этом, если респонденту с более высокой исторической склонностью с авариям необходимо оплачивать более высокую обязательную страховую премию, то сам размер страховой премии может характеризовать индивидуальную склонность репондента к аварийному вождению;\n",
    " * размер страховой премии косвенно может отражать рыночную стоимость автомобиля и его исправность;\n",
    " * респонденты как рациональные экономические агенты с нерациональной любовью к небезопасному вождению, склонны тратить на страхование больше средств, потому что знают о возможных негативных последствиях.\n",
    " \n",
    "Впрочем даже если неочевидная природа взаимосвязи между данными показателями может быть постигнута не до конца или не определена в рамках данного проекта - общая рекомендация заказчику будет общей.\n",
    "Страховые организации имею доступ к таким частным характеристикам страхователей как история ДТП, общий стаж и т.д.\n",
    "Указанные данные, в частности, об истории ДТП с участием данного клиента в качестве виновника могут существенно влиять на вероятность попадания респондента в ДТП или просто фиксацию факта небезопасного вождения. В таком случае, представляется целесообразным прибегнуть к частным случаям экономической дискриминации, таким как:\n",
    " * повышение цены предоставляемых услуг;\n",
    " * повышение залоговых обязательств клиента;\n",
    " * просьба к \"следующим\" клиентам более тщательно осматривать автомобили на наличие повреждений."
   ]
  },
  {
   "cell_type": "markdown",
   "id": "c1113088",
   "metadata": {},
   "source": [
    "<div class=\"alert alert-success\">\n",
    "    <b> ✅**Комментарий ревьюера** </b>\n",
    "        <p>Очень интересный анализ получился, никто даже о страховке в таком ключе, это здорово, что ты так предметно мыслишь. </p>\n",
    "</div>"
   ]
  },
  {
   "cell_type": "markdown",
   "id": "2552f482",
   "metadata": {},
   "source": [
    "## Выводы"
   ]
  },
  {
   "cell_type": "markdown",
   "id": "e4c2fa29",
   "metadata": {},
   "source": [
    "В выводах хотелось бы вернуться к первоначальной задаче проекта - разработка системы, которая могла бы оценить риск ДТП по выбранному маршруту движения. То есть по затронутым в размках построения маршрута дорогам, районам, развязкам дать определение аварийности маршрута. Для начала просто рассмотрим статистические данные аварийности по райном"
   ]
  },
  {
   "cell_type": "code",
   "execution_count": 32,
   "id": "231ce8aa",
   "metadata": {},
   "outputs": [
    {
     "data": {
      "image/png": "[encoded data removed]",
      "text/plain": [
       "<Figure size 720x504 with 1 Axes>"
      ]
     },
     "metadata": {
      "needs_background": "light"
     },
     "output_type": "display_data"
    }
   ],
   "source": [
    "# количество \"автомобильных инцидентов\" по районам\n",
    "plot_data = pd.Series(X.county_city_location.value_counts())[:20]\n",
    "\n",
    "plt.figure(figsize=(10, 7))\n",
    "sns.barplot(plot_data, plot_data.index)\n",
    "plt.show()"
   ]
  },
  {
   "cell_type": "code",
   "execution_count": 33,
   "id": "fc2a6772",
   "metadata": {},
   "outputs": [
    {
     "data": {
      "image/png": "[encoded data removed]",
      "text/plain": [
       "<Figure size 720x504 with 1 Axes>"
      ]
     },
     "metadata": {
      "needs_background": "light"
     },
     "output_type": "display_data"
    }
   ],
   "source": [
    "# средняя \"аварийность\" по районам\n",
    "df.groupby(['county_city_location'])['at_fault']\\\n",
    "  .agg(['mean', 'count'])\\\n",
    "  .sort_values('count', ascending=False)[:50]['mean']\\\n",
    "  .plot(kind='bar', figsize=(10, 7))\n",
    "\n",
    "plt.show()"
   ]
  },
  {
   "cell_type": "markdown",
   "id": "7822d1e0",
   "metadata": {},
   "source": [
    "По указанным данным складывается впечатление о том, что вероятностная оценка попадания в аварию невероятно высока - что противоречит интуииции. Поэтому представлется целесообразным вернуться к вопросу адекватности имеющихся данных для оценки такого параментра как аварийность или риск аварии. По условию задания у нас есть набор инцидентов - не столько важно виновен участник или нет. Сами инциденты - достаточно редкие события и безусловно несут в себе полезную информацию, но в отрыве от остально пула, от, скажем так, \"неинцидентов\" - мы рискуем делать необоснованные предположения, и, что куда хуже - делать ложнообоснованные выводы. С такми же успехом, мы можем ввести параметр \"наличие глаз у водителя\" и утверждать, что люди с глазами попадают в аварийные ситуации почти в 50% случаев. \n",
    "\n",
    "Более того, несбалансированность нашей выборки также обесценивает влияние возможных значимых переменных, так как в большинстве аварий учавствуют 2 транспортных средства с условными \"виновником\" и \"невиновником\", но при этом они оба действуют в одинаковых условиях внешней среды. То есть возможные значимые переменные имеют одинаковые значения в \"успешных\" и \"неуспешных\" испытаниях. Но будь у нас полная информация о пассажиропотоках мы могли бы заметить, что, например, дожди или плохоасфальтированные дороги повышают аварийность. Таким образом, факторы внешней среды теряют информативность.\n",
    "\n",
    "Указанное выше в некоторой степени также относится и к факторам, характеризующим самого водителя. Если отбросить наше интуитивное представление о том, что алкогольное опъянение повышает риск аварийности на доргах, - то нам стоило бы провести проверку гипотезы об указанном. Например, сравнить в достаточно большой выборке - а действительно ли люди в алкогольном опъянении более рисковые клиенты? Может ли так оказаться, что в некоторых случаях - люди в алкогольном опъянении ездят со скоростью в 20 км/ч, зная о действии алкоголя на их нервную системы? Более того, информативных факторов, описывающих водителя крайне мало, а в купе с вышеуказанной проблемой (малоинформативность факторов внешней среды), модель пытается выжать из них все. Именно поэтому такие факторы как \"размер страховки\" и \"алкогольное опъянение\" столь значимы.\n",
    "\n",
    "Отвечая на главный вопрос проекта - о возможности прогнозирования рискованности маршрута, могу лишь отметить, что в рамках представленной информации подобный анализ выглядит малоперспективным и требует совершенно другого подхода к подготовке исходных данных для прогнозирования (в том числе данные клиентов каршеринга с историями ДТП, данные о пассажиропотоках, наличии \"центров притяжения\")."
   ]
  },
  {
   "cell_type": "markdown",
   "id": "1540b9a3",
   "metadata": {},
   "source": [
    "<div class=\"alert alert-success\">\n",
    "    <b> ✅**Комментарий ревьюера** </b>\n",
    "        <p>Да, хорошее замечание по поводу датасета, для реальной задачи целесообразно просить больше данных о неинцедентах. Здесь мы скорее точно знаем, что будет ДТП и предсказываем вероятность, что виновник ДТП именно наш водитель😄  </p>\n",
    "</div>"
   ]
  },
  {
   "cell_type": "markdown",
   "id": "ff1eb0a0",
   "metadata": {},
   "source": [
    "<div class=\"alert alert-block alert-danger\">\n",
    "    <b> ❌**Комментарий ревьюера** </b> \n",
    "    <p> Важный критерий в оценке этого проекта: использование функций и классов. У тебя, к сожалению, не нашла ни одной написанной функции. Было бы отлично, их добавить. Также приветствуется использование <code>pipeline</code>. У тебя в целом в проекте много моментов, где можно оформить решение в виде функции. И применение функций - это отличная практика, потому что код можно переиспользовать и в целом использование ООП приветствуется во многих сферах. </p>\n",
    "</div>"
   ]
  },
  {
   "cell_type": "markdown",
   "id": "c1fec393",
   "metadata": {},
   "source": [
    "<div class=\"alert alert-info\"> <b>Комментарий студента:</b> добавил простенькие функции plot_hists и grid_search, а также применил column_transformer </div>"
   ]
  },
  {
   "cell_type": "markdown",
   "id": "ad693cd4",
   "metadata": {},
   "source": [
    "<div class=\"alert alert-success\">\n",
    "    <b> ✅**Комментарий ревьюера v2** </b>\n",
    "        <p>Проект получился отличным! Спасибо за работу.</p>\n",
    "</div>"
   ]
  },
  {
   "cell_type": "markdown",
   "id": "fc1a6f09",
   "metadata": {},
   "source": [
    "<div style=\"border:solid Green 2px; padding: 40px\">\n",
    "\n",
    "<b>**Общий вывод по проекту**</b>\n",
    "\n",
    "Спасибо за твой проект! Видно, что в него вложено много сил и проведена большая работа. Проект практически идеален, но есть моменты, которые хотелось бы доработать.\n",
    "    \n",
    "Кратко пройдусь по впечатлениям. \n",
    "\n",
    "<b>Отмечу положительные стороны проекта:</b>\n",
    " \n",
    "* Отличное владение SQL, ты умело используешь разные конструкции языка!\n",
    "* Вдумчивая работа с данными, проведен их внимательный анализ, есть промежуточные выводы, пропуски заполнены.\n",
    "* Придуманы отличные задания для анализа данных.\n",
    "* Получены интересные выводы по данным.\n",
    "* Умелое использование методов предобработки данных, отлично, что не путаешь на какой выборке делать fit_transform, а на какой transform.\n",
    "    \n",
    "<b>На что стоит обратить внимание:</b>\n",
    "* Стоит добавить анализ аномальных значений переменных.\n",
    "* Добавить функции и/или пайпланы.\n",
    "\n",
    "\n",
    "<b>**Желаю удачи и жду твой проект на повторное ревью!**</b>\n",
    "\n",
    "</div>"
   ]
  },
  {
   "cell_type": "code",
   "execution_count": null,
   "id": "47b741f3",
   "metadata": {},
   "outputs": [],
   "source": []
  }
 ],
 "metadata": {
  "ExecuteTimeLog": [
   {
    "duration": 1393,
    "start_time": "2023-05-22T11:03:46.607Z"
   },
   {
    "duration": 4704,
    "start_time": "2023-05-22T11:13:54.223Z"
   },
   {
    "duration": 189,
    "start_time": "2023-05-22T11:14:04.042Z"
   },
   {
    "duration": 8,
    "start_time": "2023-05-22T11:14:38.521Z"
   },
   {
    "duration": 11,
    "start_time": "2023-05-22T11:14:44.563Z"
   },
   {
    "duration": 3665,
    "start_time": "2023-05-22T11:16:06.062Z"
   },
   {
    "duration": 7,
    "start_time": "2023-05-22T11:16:09.729Z"
   },
   {
    "duration": 2639,
    "start_time": "2023-05-22T11:16:38.961Z"
   },
   {
    "duration": 5775,
    "start_time": "2023-05-22T11:39:02.266Z"
   },
   {
    "duration": 17,
    "start_time": "2023-05-22T11:39:16.164Z"
   },
   {
    "duration": 80,
    "start_time": "2023-05-22T11:39:39.463Z"
   },
   {
    "duration": 4343,
    "start_time": "2023-05-22T11:41:07.423Z"
   },
   {
    "duration": 9,
    "start_time": "2023-05-22T11:41:11.768Z"
   },
   {
    "duration": 5933,
    "start_time": "2023-05-22T11:41:20.943Z"
   },
   {
    "duration": 5360,
    "start_time": "2023-05-22T11:41:33.683Z"
   },
   {
    "duration": 16,
    "start_time": "2023-05-22T11:41:43.703Z"
   },
   {
    "duration": 1284,
    "start_time": "2023-05-22T11:42:53.582Z"
   },
   {
    "duration": 4868,
    "start_time": "2023-05-22T11:42:54.868Z"
   },
   {
    "duration": 37367,
    "start_time": "2023-05-22T11:43:02.668Z"
   },
   {
    "duration": 4093,
    "start_time": "2023-05-22T11:43:57.950Z"
   },
   {
    "duration": 1220,
    "start_time": "2023-05-22T11:45:17.223Z"
   },
   {
    "duration": 4970,
    "start_time": "2023-05-22T11:45:18.445Z"
   },
   {
    "duration": 1132,
    "start_time": "2023-05-22T11:45:28.700Z"
   },
   {
    "duration": 4958,
    "start_time": "2023-05-22T11:45:29.841Z"
   },
   {
    "duration": 1215,
    "start_time": "2023-05-22T11:46:40.237Z"
   },
   {
    "duration": 4732,
    "start_time": "2023-05-22T11:46:41.799Z"
   },
   {
    "duration": 1221,
    "start_time": "2023-05-22T11:54:10.840Z"
   },
   {
    "duration": 4762,
    "start_time": "2023-05-22T11:54:12.063Z"
   },
   {
    "duration": 3679,
    "start_time": "2023-05-22T11:54:20.578Z"
   },
   {
    "duration": 12,
    "start_time": "2023-05-22T11:54:24.259Z"
   },
   {
    "duration": 3458,
    "start_time": "2023-05-22T11:56:43.718Z"
   },
   {
    "duration": 16,
    "start_time": "2023-05-22T11:56:48.138Z"
   },
   {
    "duration": 16588,
    "start_time": "2023-05-22T11:57:10.677Z"
   },
   {
    "duration": 30,
    "start_time": "2023-05-22T11:57:27.266Z"
   },
   {
    "duration": 1301,
    "start_time": "2023-05-22T11:57:56.156Z"
   },
   {
    "duration": 4993,
    "start_time": "2023-05-22T11:57:57.459Z"
   },
   {
    "duration": 11136,
    "start_time": "2023-05-22T11:58:02.460Z"
   },
   {
    "duration": 22,
    "start_time": "2023-05-22T11:58:17.200Z"
   },
   {
    "duration": 1193,
    "start_time": "2023-05-22T11:59:28.747Z"
   },
   {
    "duration": 102,
    "start_time": "2023-05-22T11:59:43.078Z"
   },
   {
    "duration": 4932,
    "start_time": "2023-05-22T11:59:46.646Z"
   },
   {
    "duration": 1488,
    "start_time": "2023-05-23T08:13:45.410Z"
   },
   {
    "duration": 4946,
    "start_time": "2023-05-23T08:13:46.900Z"
   },
   {
    "duration": 12361,
    "start_time": "2023-05-23T08:14:00.310Z"
   },
   {
    "duration": 24,
    "start_time": "2023-05-23T08:14:12.673Z"
   },
   {
    "duration": 1420,
    "start_time": "2023-05-24T06:31:44.027Z"
   },
   {
    "duration": 5048,
    "start_time": "2023-05-24T06:31:45.450Z"
   },
   {
    "duration": 1278,
    "start_time": "2023-05-24T06:32:20.747Z"
   },
   {
    "duration": 4788,
    "start_time": "2023-05-24T06:32:22.027Z"
   },
   {
    "duration": 3956,
    "start_time": "2023-05-24T06:32:42.905Z"
   },
   {
    "duration": 25,
    "start_time": "2023-05-24T06:32:48.684Z"
   },
   {
    "duration": 16497,
    "start_time": "2023-05-24T06:33:38.246Z"
   },
   {
    "duration": 29,
    "start_time": "2023-05-24T06:33:54.745Z"
   },
   {
    "duration": 11866,
    "start_time": "2023-05-24T06:35:30.459Z"
   },
   {
    "duration": 27,
    "start_time": "2023-05-24T06:35:42.327Z"
   },
   {
    "duration": 204,
    "start_time": "2023-05-24T06:47:57.193Z"
   },
   {
    "duration": 1418,
    "start_time": "2023-05-24T06:48:19.667Z"
   },
   {
    "duration": 1299,
    "start_time": "2023-05-24T06:48:27.842Z"
   },
   {
    "duration": 4917,
    "start_time": "2023-05-24T06:48:29.146Z"
   },
   {
    "duration": 28897,
    "start_time": "2023-05-24T06:49:44.167Z"
   },
   {
    "duration": 1477,
    "start_time": "2023-05-24T06:50:17.220Z"
   },
   {
    "duration": 1441,
    "start_time": "2023-05-24T06:50:27.406Z"
   },
   {
    "duration": 5258,
    "start_time": "2023-05-24T06:50:28.850Z"
   },
   {
    "duration": 2,
    "start_time": "2023-05-24T06:50:34.110Z"
   },
   {
    "duration": 16769,
    "start_time": "2023-05-24T06:50:46.300Z"
   },
   {
    "duration": 34,
    "start_time": "2023-05-24T06:51:03.071Z"
   },
   {
    "duration": 12311,
    "start_time": "2023-05-24T06:53:34.691Z"
   },
   {
    "duration": 425,
    "start_time": "2023-05-24T06:53:53.770Z"
   },
   {
    "duration": 11812,
    "start_time": "2023-05-24T06:54:30.020Z"
   },
   {
    "duration": 411,
    "start_time": "2023-05-24T06:54:45.195Z"
   },
   {
    "duration": 4,
    "start_time": "2023-05-24T06:55:40.162Z"
   },
   {
    "duration": 49,
    "start_time": "2023-05-24T06:55:46.127Z"
   },
   {
    "duration": 86,
    "start_time": "2023-05-24T07:31:49.677Z"
   },
   {
    "duration": 1406,
    "start_time": "2023-05-25T07:22:27.281Z"
   },
   {
    "duration": 3,
    "start_time": "2023-05-25T07:22:28.688Z"
   },
   {
    "duration": 5195,
    "start_time": "2023-05-25T07:22:28.692Z"
   },
   {
    "duration": 11481,
    "start_time": "2023-05-25T07:22:33.889Z"
   },
   {
    "duration": 52,
    "start_time": "2023-05-25T07:22:45.372Z"
   },
   {
    "duration": 4,
    "start_time": "2023-05-25T07:39:05.581Z"
   },
   {
    "duration": 11932,
    "start_time": "2023-05-25T07:39:18.320Z"
   },
   {
    "duration": 99,
    "start_time": "2023-05-25T07:39:34.602Z"
   },
   {
    "duration": 54,
    "start_time": "2023-05-25T07:39:49.060Z"
   },
   {
    "duration": 29,
    "start_time": "2023-05-25T07:39:53.168Z"
   },
   {
    "duration": 211,
    "start_time": "2023-05-25T07:40:33.619Z"
   },
   {
    "duration": 17,
    "start_time": "2023-05-25T07:41:23.400Z"
   },
   {
    "duration": 28,
    "start_time": "2023-05-25T07:55:02.343Z"
   },
   {
    "duration": 259,
    "start_time": "2023-05-25T07:55:31.932Z"
   },
   {
    "duration": 287,
    "start_time": "2023-05-25T07:56:44.951Z"
   },
   {
    "duration": 295,
    "start_time": "2023-05-25T08:00:29.742Z"
   },
   {
    "duration": 1495,
    "start_time": "2023-05-25T08:08:09.226Z"
   },
   {
    "duration": 23,
    "start_time": "2023-05-25T08:08:12.906Z"
   },
   {
    "duration": 60,
    "start_time": "2023-05-25T08:09:45.393Z"
   },
   {
    "duration": 58,
    "start_time": "2023-05-25T08:09:53.562Z"
   },
   {
    "duration": 355,
    "start_time": "2023-05-25T08:11:24.994Z"
   },
   {
    "duration": 24,
    "start_time": "2023-05-25T08:11:55.722Z"
   },
   {
    "duration": 2231,
    "start_time": "2023-05-25T08:13:02.207Z"
   },
   {
    "duration": 360,
    "start_time": "2023-05-25T08:13:04.440Z"
   },
   {
    "duration": 1622,
    "start_time": "2023-05-25T08:13:10.475Z"
   },
   {
    "duration": 328,
    "start_time": "2023-05-25T08:13:12.099Z"
   },
   {
    "duration": 3970,
    "start_time": "2023-05-25T08:13:26.914Z"
   },
   {
    "duration": 415,
    "start_time": "2023-05-25T08:13:30.886Z"
   },
   {
    "duration": 41,
    "start_time": "2023-05-25T08:13:55.755Z"
   },
   {
    "duration": 12531,
    "start_time": "2023-05-25T08:14:02.595Z"
   },
   {
    "duration": 808,
    "start_time": "2023-05-25T08:14:15.954Z"
   },
   {
    "duration": 2096,
    "start_time": "2023-05-25T08:14:26.554Z"
   },
   {
    "duration": 339,
    "start_time": "2023-05-25T08:14:28.652Z"
   },
   {
    "duration": 75,
    "start_time": "2023-05-25T08:16:55.861Z"
   },
   {
    "duration": 60,
    "start_time": "2023-05-25T08:17:04.441Z"
   },
   {
    "duration": 1432,
    "start_time": "2023-05-25T08:17:21.679Z"
   },
   {
    "duration": 339,
    "start_time": "2023-05-25T08:17:29.620Z"
   },
   {
    "duration": 154,
    "start_time": "2023-05-25T08:18:08.461Z"
   },
   {
    "duration": 43,
    "start_time": "2023-05-25T08:19:39.070Z"
   },
   {
    "duration": 47,
    "start_time": "2023-05-25T08:19:42.409Z"
   },
   {
    "duration": 170,
    "start_time": "2023-05-25T08:19:45.269Z"
   },
   {
    "duration": 170,
    "start_time": "2023-05-25T08:21:19.228Z"
   },
   {
    "duration": 12329,
    "start_time": "2023-05-25T08:22:18.389Z"
   },
   {
    "duration": 45,
    "start_time": "2023-05-25T08:24:53.860Z"
   },
   {
    "duration": 433,
    "start_time": "2023-05-25T08:24:58.360Z"
   },
   {
    "duration": 58,
    "start_time": "2023-05-25T08:25:18.739Z"
   },
   {
    "duration": 463,
    "start_time": "2023-05-25T08:25:22.060Z"
   },
   {
    "duration": 487,
    "start_time": "2023-05-25T08:25:30.708Z"
   },
   {
    "duration": 412,
    "start_time": "2023-05-25T08:25:37.391Z"
   },
   {
    "duration": 424,
    "start_time": "2023-05-25T08:26:10.440Z"
   },
   {
    "duration": 11595,
    "start_time": "2023-05-25T08:26:30.393Z"
   },
   {
    "duration": 2131,
    "start_time": "2023-05-25T08:26:56.139Z"
   },
   {
    "duration": 209,
    "start_time": "2023-05-25T08:26:58.272Z"
   },
   {
    "duration": 12013,
    "start_time": "2023-05-25T08:28:03.559Z"
   },
   {
    "duration": 560,
    "start_time": "2023-05-25T08:28:24.429Z"
   },
   {
    "duration": 2470,
    "start_time": "2023-05-25T08:28:49.508Z"
   },
   {
    "duration": 215,
    "start_time": "2023-05-25T08:28:51.980Z"
   },
   {
    "duration": 81,
    "start_time": "2023-05-25T08:30:07.867Z"
   },
   {
    "duration": 81,
    "start_time": "2023-05-25T08:30:15.167Z"
   },
   {
    "duration": 787,
    "start_time": "2023-05-25T08:30:28.986Z"
   },
   {
    "duration": 782,
    "start_time": "2023-05-25T08:30:34.828Z"
   },
   {
    "duration": 80,
    "start_time": "2023-05-25T08:30:43.807Z"
   },
   {
    "duration": 210,
    "start_time": "2023-05-25T08:32:15.228Z"
   },
   {
    "duration": 211,
    "start_time": "2023-05-25T08:32:40.687Z"
   },
   {
    "duration": 301,
    "start_time": "2023-05-25T08:33:52.140Z"
   },
   {
    "duration": 877,
    "start_time": "2023-05-25T08:34:24.460Z"
   },
   {
    "duration": 1476,
    "start_time": "2023-05-25T08:34:51.020Z"
   },
   {
    "duration": 825,
    "start_time": "2023-05-25T08:35:00.921Z"
   },
   {
    "duration": 1999,
    "start_time": "2023-05-25T08:35:12.186Z"
   },
   {
    "duration": 1696,
    "start_time": "2023-05-25T08:35:17.840Z"
   },
   {
    "duration": 1706,
    "start_time": "2023-05-25T08:35:32.501Z"
   },
   {
    "duration": 53,
    "start_time": "2023-05-27T14:33:07.821Z"
   },
   {
    "duration": 1439,
    "start_time": "2023-05-27T14:33:19.695Z"
   },
   {
    "duration": 3,
    "start_time": "2023-05-27T14:33:21.813Z"
   },
   {
    "duration": 5215,
    "start_time": "2023-05-27T14:33:22.065Z"
   },
   {
    "duration": 4,
    "start_time": "2023-05-27T14:41:34.837Z"
   },
   {
    "duration": 4,
    "start_time": "2023-05-27T14:41:35.096Z"
   },
   {
    "duration": 6,
    "start_time": "2023-05-27T14:41:35.329Z"
   },
   {
    "duration": 12935,
    "start_time": "2023-05-27T14:41:35.766Z"
   },
   {
    "duration": 604,
    "start_time": "2023-05-27T14:41:48.703Z"
   },
   {
    "duration": 1656,
    "start_time": "2023-05-27T14:41:57.288Z"
   },
   {
    "duration": 1885,
    "start_time": "2023-05-27T14:46:06.197Z"
   },
   {
    "duration": 231,
    "start_time": "2023-05-27T14:46:10.758Z"
   },
   {
    "duration": 13790,
    "start_time": "2023-05-27T14:46:13.537Z"
   },
   {
    "duration": 13978,
    "start_time": "2023-05-27T14:46:29.020Z"
   },
   {
    "duration": 91,
    "start_time": "2023-05-27T14:53:11.649Z"
   },
   {
    "duration": 28,
    "start_time": "2023-05-27T14:54:43.899Z"
   },
   {
    "duration": 121,
    "start_time": "2023-05-27T15:00:08.708Z"
   },
   {
    "duration": 102,
    "start_time": "2023-05-27T15:08:52.656Z"
   },
   {
    "duration": 43,
    "start_time": "2023-05-27T15:08:57.376Z"
   },
   {
    "duration": 153,
    "start_time": "2023-05-27T15:26:05.389Z"
   },
   {
    "duration": 169916,
    "start_time": "2023-05-27T15:27:31.963Z"
   },
   {
    "duration": 67,
    "start_time": "2023-05-27T16:28:03.272Z"
   },
   {
    "duration": 23,
    "start_time": "2023-05-27T16:28:04.637Z"
   },
   {
    "duration": 232,
    "start_time": "2023-05-27T16:28:22.905Z"
   },
   {
    "duration": 51,
    "start_time": "2023-05-27T16:31:32.977Z"
   },
   {
    "duration": 37,
    "start_time": "2023-05-27T16:32:15.881Z"
   },
   {
    "duration": 13,
    "start_time": "2023-05-27T16:32:35.038Z"
   },
   {
    "duration": 7,
    "start_time": "2023-05-27T16:33:57.121Z"
   },
   {
    "duration": 91,
    "start_time": "2023-05-27T16:34:15.641Z"
   },
   {
    "duration": 26,
    "start_time": "2023-05-27T16:34:16.882Z"
   },
   {
    "duration": 253,
    "start_time": "2023-05-27T16:34:18.884Z"
   },
   {
    "duration": 775,
    "start_time": "2023-05-27T16:35:45.919Z"
   },
   {
    "duration": 375,
    "start_time": "2023-05-27T16:35:55.103Z"
   },
   {
    "duration": 36,
    "start_time": "2023-05-27T16:36:01.728Z"
   },
   {
    "duration": 236,
    "start_time": "2023-05-27T16:36:07.093Z"
   },
   {
    "duration": 5,
    "start_time": "2023-05-27T16:39:07.716Z"
   },
   {
    "duration": 27,
    "start_time": "2023-05-27T16:40:57.376Z"
   },
   {
    "duration": 7,
    "start_time": "2023-05-27T16:42:25.802Z"
   },
   {
    "duration": 121,
    "start_time": "2023-05-27T16:45:47.905Z"
   },
   {
    "duration": 114,
    "start_time": "2023-05-27T16:45:57.695Z"
   },
   {
    "duration": 104,
    "start_time": "2023-05-27T16:48:38.426Z"
   },
   {
    "duration": 105,
    "start_time": "2023-05-27T16:48:45.509Z"
   },
   {
    "duration": 89,
    "start_time": "2023-05-27T16:54:46.601Z"
   },
   {
    "duration": 994,
    "start_time": "2023-05-27T16:56:10.908Z"
   },
   {
    "duration": 1430,
    "start_time": "2023-05-27T16:57:48.813Z"
   },
   {
    "duration": 9,
    "start_time": "2023-05-27T16:58:03.938Z"
   },
   {
    "duration": 852,
    "start_time": "2023-05-27T16:59:13.898Z"
   },
   {
    "duration": 5648,
    "start_time": "2023-05-27T16:59:47.524Z"
   },
   {
    "duration": 232,
    "start_time": "2023-05-27T17:00:28.930Z"
   },
   {
    "duration": 207,
    "start_time": "2023-05-27T17:01:10.685Z"
   },
   {
    "duration": 466,
    "start_time": "2023-05-27T17:11:14.120Z"
   },
   {
    "duration": 5,
    "start_time": "2023-05-27T17:11:46.232Z"
   },
   {
    "duration": 5,
    "start_time": "2023-05-27T17:12:11.913Z"
   },
   {
    "duration": 247,
    "start_time": "2023-05-27T17:12:19.799Z"
   },
   {
    "duration": 311,
    "start_time": "2023-05-27T17:12:47.733Z"
   },
   {
    "duration": 215,
    "start_time": "2023-05-27T17:13:16.993Z"
   },
   {
    "duration": 195,
    "start_time": "2023-05-27T17:13:25.016Z"
   },
   {
    "duration": 213,
    "start_time": "2023-05-27T17:13:34.635Z"
   },
   {
    "duration": 205,
    "start_time": "2023-05-27T17:13:41.747Z"
   },
   {
    "duration": 268,
    "start_time": "2023-05-27T17:13:52.329Z"
   },
   {
    "duration": 226,
    "start_time": "2023-05-27T17:14:12.337Z"
   },
   {
    "duration": 344,
    "start_time": "2023-05-27T17:17:12.825Z"
   },
   {
    "duration": 308,
    "start_time": "2023-05-27T17:17:16.706Z"
   },
   {
    "duration": 282,
    "start_time": "2023-05-27T17:17:23.517Z"
   },
   {
    "duration": 229,
    "start_time": "2023-05-27T17:17:37.810Z"
   },
   {
    "duration": 270,
    "start_time": "2023-05-27T17:17:47.205Z"
   },
   {
    "duration": 286,
    "start_time": "2023-05-27T17:18:02.598Z"
   },
   {
    "duration": 294,
    "start_time": "2023-05-27T17:18:06.530Z"
   },
   {
    "duration": 237,
    "start_time": "2023-05-27T17:19:32.698Z"
   },
   {
    "duration": 244,
    "start_time": "2023-05-27T17:19:41.429Z"
   },
   {
    "duration": 281,
    "start_time": "2023-05-27T17:20:15.627Z"
   },
   {
    "duration": 405,
    "start_time": "2023-05-27T17:20:20.198Z"
   },
   {
    "duration": 361,
    "start_time": "2023-05-27T17:21:08.392Z"
   },
   {
    "duration": 1260,
    "start_time": "2023-05-27T17:21:51.393Z"
   },
   {
    "duration": 931,
    "start_time": "2023-05-27T17:22:06.694Z"
   },
   {
    "duration": 277,
    "start_time": "2023-05-27T17:22:08.590Z"
   },
   {
    "duration": 9,
    "start_time": "2023-05-27T17:22:09.893Z"
   },
   {
    "duration": 708,
    "start_time": "2023-05-27T17:22:13.438Z"
   },
   {
    "duration": 5,
    "start_time": "2023-05-27T17:39:11.101Z"
   },
   {
    "duration": 21,
    "start_time": "2023-05-27T17:40:28.233Z"
   },
   {
    "duration": 3,
    "start_time": "2023-05-27T17:40:55.932Z"
   },
   {
    "duration": 395,
    "start_time": "2023-05-27T17:51:49.402Z"
   },
   {
    "duration": 74,
    "start_time": "2023-05-27T18:06:28.414Z"
   },
   {
    "duration": 48,
    "start_time": "2023-05-27T18:06:32.351Z"
   },
   {
    "duration": 11,
    "start_time": "2023-05-27T18:06:38.309Z"
   },
   {
    "duration": 35,
    "start_time": "2023-05-27T18:06:42.002Z"
   },
   {
    "duration": 197,
    "start_time": "2023-05-27T18:07:23.495Z"
   },
   {
    "duration": 16,
    "start_time": "2023-05-27T18:13:13.794Z"
   },
   {
    "duration": 4,
    "start_time": "2023-05-27T18:13:30.630Z"
   },
   {
    "duration": 11,
    "start_time": "2023-05-27T18:13:37.610Z"
   },
   {
    "duration": 3,
    "start_time": "2023-05-27T18:14:03.098Z"
   },
   {
    "duration": 220,
    "start_time": "2023-05-27T18:14:07.798Z"
   },
   {
    "duration": 14,
    "start_time": "2023-05-27T18:14:08.918Z"
   },
   {
    "duration": 3039,
    "start_time": "2023-05-27T18:14:21.807Z"
   },
   {
    "duration": 4,
    "start_time": "2023-05-27T18:15:16.491Z"
   },
   {
    "duration": 3,
    "start_time": "2023-05-27T18:15:30.602Z"
   },
   {
    "duration": 35779,
    "start_time": "2023-05-27T18:15:53.182Z"
   },
   {
    "duration": 6,
    "start_time": "2023-05-27T18:17:01.692Z"
   },
   {
    "duration": 1511,
    "start_time": "2023-05-27T18:20:07.886Z"
   },
   {
    "duration": 383,
    "start_time": "2023-05-27T18:20:09.406Z"
   },
   {
    "duration": 7,
    "start_time": "2023-05-27T18:20:09.792Z"
   },
   {
    "duration": 7335,
    "start_time": "2023-05-27T18:20:09.802Z"
   },
   {
    "duration": 13359,
    "start_time": "2023-05-27T18:20:17.139Z"
   },
   {
    "duration": 1890,
    "start_time": "2023-05-27T18:20:30.505Z"
   },
   {
    "duration": 12229,
    "start_time": "2023-05-27T18:20:32.400Z"
   },
   {
    "duration": 57,
    "start_time": "2023-05-27T18:20:44.631Z"
   },
   {
    "duration": 34,
    "start_time": "2023-05-27T18:20:44.694Z"
   },
   {
    "duration": 52,
    "start_time": "2023-05-27T18:20:48.201Z"
   },
   {
    "duration": 220,
    "start_time": "2023-05-27T18:20:52.109Z"
   },
   {
    "duration": 452,
    "start_time": "2023-05-27T18:20:54.037Z"
   },
   {
    "duration": 332,
    "start_time": "2023-05-27T18:20:54.501Z"
   },
   {
    "duration": 44,
    "start_time": "2023-05-27T18:20:56.438Z"
   },
   {
    "duration": 244,
    "start_time": "2023-05-27T18:21:00.553Z"
   },
   {
    "duration": 2827,
    "start_time": "2023-05-27T18:21:01.708Z"
   },
   {
    "duration": 3,
    "start_time": "2023-05-27T18:21:05.918Z"
   },
   {
    "duration": 10449,
    "start_time": "2023-05-27T18:21:09.946Z"
   },
   {
    "duration": 162143,
    "start_time": "2023-05-27T18:21:26.033Z"
   },
   {
    "duration": 112,
    "start_time": "2023-05-27T18:25:03.588Z"
   },
   {
    "duration": 215,
    "start_time": "2023-05-27T18:25:04.692Z"
   },
   {
    "duration": 1009,
    "start_time": "2023-05-27T18:25:05.402Z"
   },
   {
    "duration": 19,
    "start_time": "2023-05-27T18:25:19.833Z"
   },
   {
    "duration": 18,
    "start_time": "2023-05-27T18:25:29.947Z"
   },
   {
    "duration": 11510,
    "start_time": "2023-05-27T18:25:37.519Z"
   },
   {
    "duration": 53,
    "start_time": "2023-05-27T18:25:49.032Z"
   },
   {
    "duration": 73,
    "start_time": "2023-05-27T18:25:50.253Z"
   },
   {
    "duration": 257,
    "start_time": "2023-05-27T18:25:55.449Z"
   },
   {
    "duration": 398,
    "start_time": "2023-05-27T18:25:57.653Z"
   },
   {
    "duration": 4,
    "start_time": "2023-05-27T18:26:10.834Z"
   },
   {
    "duration": 160575,
    "start_time": "2023-05-27T18:27:10.286Z"
   },
   {
    "duration": 6,
    "start_time": "2023-05-27T18:30:37.510Z"
   },
   {
    "duration": 11,
    "start_time": "2023-05-27T18:31:00.130Z"
   },
   {
    "duration": 10,
    "start_time": "2023-05-27T18:31:08.086Z"
   },
   {
    "duration": 4,
    "start_time": "2023-05-27T18:31:12.588Z"
   },
   {
    "duration": 10,
    "start_time": "2023-05-27T18:31:20.243Z"
   },
   {
    "duration": 12,
    "start_time": "2023-05-27T18:31:23.550Z"
   },
   {
    "duration": 14,
    "start_time": "2023-05-27T18:31:42.928Z"
   },
   {
    "duration": 97433,
    "start_time": "2023-05-27T18:32:00.685Z"
   },
   {
    "duration": 4,
    "start_time": "2023-05-27T18:33:38.120Z"
   },
   {
    "duration": 119,
    "start_time": "2023-05-27T18:35:15.623Z"
   },
   {
    "duration": 14,
    "start_time": "2023-05-27T18:35:47.873Z"
   },
   {
    "duration": 12,
    "start_time": "2023-05-27T18:36:11.378Z"
   },
   {
    "duration": 12,
    "start_time": "2023-05-27T18:37:27.293Z"
   },
   {
    "duration": 5,
    "start_time": "2023-05-27T18:38:07.821Z"
   },
   {
    "duration": 13,
    "start_time": "2023-05-27T18:38:13.372Z"
   },
   {
    "duration": 7,
    "start_time": "2023-05-27T18:39:08.224Z"
   },
   {
    "duration": 16,
    "start_time": "2023-05-27T18:40:35.591Z"
   },
   {
    "duration": 11624,
    "start_time": "2023-05-27T18:40:42.112Z"
   },
   {
    "duration": 243,
    "start_time": "2023-05-27T18:40:55.073Z"
   },
   {
    "duration": 209,
    "start_time": "2023-05-27T18:40:55.772Z"
   },
   {
    "duration": 320,
    "start_time": "2023-05-27T18:40:59.937Z"
   },
   {
    "duration": 234,
    "start_time": "2023-05-27T18:41:16.419Z"
   },
   {
    "duration": 158,
    "start_time": "2023-05-27T18:41:21.179Z"
   },
   {
    "duration": 13,
    "start_time": "2023-05-27T18:41:26.132Z"
   },
   {
    "duration": 1588,
    "start_time": "2023-05-27T18:41:34.732Z"
   },
   {
    "duration": 3,
    "start_time": "2023-05-27T18:42:02.351Z"
   },
   {
    "duration": 5,
    "start_time": "2023-05-27T18:42:19.247Z"
   },
   {
    "duration": 3,
    "start_time": "2023-05-27T18:42:25.991Z"
   },
   {
    "duration": 1600,
    "start_time": "2023-05-28T14:51:52.846Z"
   },
   {
    "duration": 348,
    "start_time": "2023-05-28T14:51:54.448Z"
   },
   {
    "duration": 6,
    "start_time": "2023-05-28T14:51:54.798Z"
   },
   {
    "duration": 4751,
    "start_time": "2023-05-28T14:51:55.188Z"
   },
   {
    "duration": 11356,
    "start_time": "2023-05-28T14:51:59.942Z"
   },
   {
    "duration": 1395,
    "start_time": "2023-05-28T14:52:11.301Z"
   },
   {
    "duration": 1732,
    "start_time": "2023-05-28T14:52:12.699Z"
   },
   {
    "duration": 309,
    "start_time": "2023-05-28T14:52:14.433Z"
   },
   {
    "duration": 0,
    "start_time": "2023-05-28T14:52:14.745Z"
   },
   {
    "duration": 0,
    "start_time": "2023-05-28T14:52:14.746Z"
   },
   {
    "duration": 0,
    "start_time": "2023-05-28T14:52:14.748Z"
   },
   {
    "duration": 0,
    "start_time": "2023-05-28T14:52:14.749Z"
   },
   {
    "duration": 39,
    "start_time": "2023-05-28T14:52:46.899Z"
   },
   {
    "duration": 171,
    "start_time": "2023-05-28T14:52:47.816Z"
   },
   {
    "duration": 294,
    "start_time": "2023-05-28T14:52:49.890Z"
   },
   {
    "duration": 285,
    "start_time": "2023-05-28T14:52:50.946Z"
   },
   {
    "duration": 185,
    "start_time": "2023-05-28T14:52:52.706Z"
   },
   {
    "duration": 1468,
    "start_time": "2023-05-28T14:52:54.297Z"
   },
   {
    "duration": 3,
    "start_time": "2023-05-28T14:53:02.856Z"
   },
   {
    "duration": 52519,
    "start_time": "2023-05-28T14:53:18.089Z"
   },
   {
    "duration": 6,
    "start_time": "2023-05-28T15:28:53.995Z"
   },
   {
    "duration": 15,
    "start_time": "2023-05-28T15:28:56.232Z"
   },
   {
    "duration": 222,
    "start_time": "2023-05-28T15:29:24.681Z"
   },
   {
    "duration": 148,
    "start_time": "2023-05-28T15:29:50.108Z"
   },
   {
    "duration": 47,
    "start_time": "2023-05-28T15:29:55.887Z"
   },
   {
    "duration": 74,
    "start_time": "2023-05-28T15:30:05.413Z"
   },
   {
    "duration": 150,
    "start_time": "2023-05-28T15:30:14.551Z"
   },
   {
    "duration": 235,
    "start_time": "2023-05-28T15:30:20.143Z"
   },
   {
    "duration": 164,
    "start_time": "2023-05-28T15:30:37.890Z"
   },
   {
    "duration": 195,
    "start_time": "2023-05-28T15:31:32.443Z"
   },
   {
    "duration": 195,
    "start_time": "2023-05-28T15:31:37.840Z"
   },
   {
    "duration": 198,
    "start_time": "2023-05-28T15:32:27.646Z"
   },
   {
    "duration": 182,
    "start_time": "2023-05-28T15:32:32.147Z"
   },
   {
    "duration": 10,
    "start_time": "2023-05-28T15:32:44.995Z"
   },
   {
    "duration": 356,
    "start_time": "2023-05-28T15:37:07.283Z"
   },
   {
    "duration": 230,
    "start_time": "2023-05-28T15:37:30.405Z"
   },
   {
    "duration": 398,
    "start_time": "2023-05-28T15:37:51.390Z"
   },
   {
    "duration": 6,
    "start_time": "2023-05-28T15:39:01.506Z"
   },
   {
    "duration": 10,
    "start_time": "2023-05-28T15:39:14.044Z"
   },
   {
    "duration": 5,
    "start_time": "2023-05-28T15:39:23.150Z"
   },
   {
    "duration": 10,
    "start_time": "2023-05-28T15:39:30.502Z"
   },
   {
    "duration": 7,
    "start_time": "2023-05-28T15:39:37.278Z"
   },
   {
    "duration": 37,
    "start_time": "2023-05-28T15:39:42.501Z"
   },
   {
    "duration": 45,
    "start_time": "2023-05-28T15:39:50.884Z"
   },
   {
    "duration": 129,
    "start_time": "2023-05-28T15:40:08.382Z"
   },
   {
    "duration": 5,
    "start_time": "2023-05-28T15:40:42.249Z"
   },
   {
    "duration": 46,
    "start_time": "2023-05-28T15:40:59.279Z"
   },
   {
    "duration": 5,
    "start_time": "2023-05-28T15:41:28.078Z"
   },
   {
    "duration": 12300,
    "start_time": "2023-05-28T15:41:37.895Z"
   },
   {
    "duration": 182,
    "start_time": "2023-05-28T15:41:50.198Z"
   },
   {
    "duration": 183,
    "start_time": "2023-05-28T15:41:50.382Z"
   },
   {
    "duration": 4,
    "start_time": "2023-05-28T15:41:53.454Z"
   },
   {
    "duration": 5,
    "start_time": "2023-05-28T15:42:26.847Z"
   },
   {
    "duration": 283,
    "start_time": "2023-05-28T15:42:31.916Z"
   },
   {
    "duration": 288,
    "start_time": "2023-05-28T15:42:41.282Z"
   },
   {
    "duration": 273,
    "start_time": "2023-05-28T15:42:47.679Z"
   },
   {
    "duration": 5,
    "start_time": "2023-05-28T15:42:53.043Z"
   },
   {
    "duration": 147,
    "start_time": "2023-05-28T15:43:14.892Z"
   },
   {
    "duration": 5,
    "start_time": "2023-05-28T15:43:22.055Z"
   },
   {
    "duration": 5,
    "start_time": "2023-05-28T15:44:36.048Z"
   },
   {
    "duration": 23409,
    "start_time": "2023-05-28T15:44:40.897Z"
   },
   {
    "duration": 213,
    "start_time": "2023-05-28T15:45:04.309Z"
   },
   {
    "duration": 8,
    "start_time": "2023-05-28T15:45:04.524Z"
   },
   {
    "duration": 19,
    "start_time": "2023-05-28T15:45:55.479Z"
   },
   {
    "duration": 211,
    "start_time": "2023-05-28T15:46:15.581Z"
   },
   {
    "duration": 320,
    "start_time": "2023-05-28T15:46:18.374Z"
   },
   {
    "duration": 327,
    "start_time": "2023-05-28T15:46:38.656Z"
   },
   {
    "duration": 281,
    "start_time": "2023-05-28T15:46:41.007Z"
   },
   {
    "duration": 4,
    "start_time": "2023-05-28T15:46:45.935Z"
   },
   {
    "duration": 292,
    "start_time": "2023-05-28T15:47:43.144Z"
   },
   {
    "duration": 6,
    "start_time": "2023-05-28T15:47:45.292Z"
   },
   {
    "duration": 2032,
    "start_time": "2023-05-28T15:47:50.303Z"
   },
   {
    "duration": 7,
    "start_time": "2023-05-28T15:47:55.874Z"
   },
   {
    "duration": 4,
    "start_time": "2023-05-28T15:48:01.194Z"
   },
   {
    "duration": 43875,
    "start_time": "2023-05-28T15:48:02.538Z"
   },
   {
    "duration": 0,
    "start_time": "2023-05-28T15:48:46.415Z"
   },
   {
    "duration": 12502,
    "start_time": "2023-05-28T15:48:49.115Z"
   },
   {
    "duration": 197,
    "start_time": "2023-05-28T15:49:01.619Z"
   },
   {
    "duration": 233,
    "start_time": "2023-05-28T15:49:01.818Z"
   },
   {
    "duration": 353,
    "start_time": "2023-05-28T15:49:02.053Z"
   },
   {
    "duration": 275,
    "start_time": "2023-05-28T15:49:02.408Z"
   },
   {
    "duration": 196,
    "start_time": "2023-05-28T15:49:02.684Z"
   },
   {
    "duration": 1891,
    "start_time": "2023-05-28T15:49:02.883Z"
   },
   {
    "duration": 10,
    "start_time": "2023-05-28T15:49:04.779Z"
   },
   {
    "duration": 3,
    "start_time": "2023-05-28T15:49:11.709Z"
   },
   {
    "duration": 58676,
    "start_time": "2023-05-28T15:49:12.100Z"
   },
   {
    "duration": 9,
    "start_time": "2023-05-28T15:58:18.875Z"
   },
   {
    "duration": 523,
    "start_time": "2023-05-28T15:58:30.343Z"
   },
   {
    "duration": 5,
    "start_time": "2023-05-28T15:58:32.094Z"
   },
   {
    "duration": 4,
    "start_time": "2023-05-28T16:02:34.647Z"
   },
   {
    "duration": 24,
    "start_time": "2023-05-28T16:04:18.573Z"
   },
   {
    "duration": 10,
    "start_time": "2023-05-28T16:04:29.378Z"
   },
   {
    "duration": 3188,
    "start_time": "2023-05-28T16:04:45.534Z"
   },
   {
    "duration": 837,
    "start_time": "2023-05-28T16:04:48.724Z"
   },
   {
    "duration": 2,
    "start_time": "2023-05-28T16:04:49.563Z"
   },
   {
    "duration": 6626,
    "start_time": "2023-05-28T16:04:49.567Z"
   },
   {
    "duration": 1426,
    "start_time": "2023-05-28T16:04:56.199Z"
   },
   {
    "duration": 0,
    "start_time": "2023-05-28T16:04:57.628Z"
   },
   {
    "duration": 0,
    "start_time": "2023-05-28T16:04:57.629Z"
   },
   {
    "duration": 0,
    "start_time": "2023-05-28T16:04:57.630Z"
   },
   {
    "duration": 0,
    "start_time": "2023-05-28T16:04:57.631Z"
   },
   {
    "duration": 0,
    "start_time": "2023-05-28T16:04:57.633Z"
   },
   {
    "duration": 0,
    "start_time": "2023-05-28T16:04:57.635Z"
   },
   {
    "duration": 0,
    "start_time": "2023-05-28T16:04:57.636Z"
   },
   {
    "duration": 0,
    "start_time": "2023-05-28T16:04:57.637Z"
   },
   {
    "duration": 0,
    "start_time": "2023-05-28T16:04:57.638Z"
   },
   {
    "duration": 0,
    "start_time": "2023-05-28T16:04:57.639Z"
   },
   {
    "duration": 16,
    "start_time": "2023-05-28T16:04:57.942Z"
   },
   {
    "duration": 1380,
    "start_time": "2023-05-28T16:05:07.957Z"
   },
   {
    "duration": 411,
    "start_time": "2023-05-28T16:05:09.348Z"
   },
   {
    "duration": 3,
    "start_time": "2023-05-28T16:05:10.379Z"
   },
   {
    "duration": 6618,
    "start_time": "2023-05-28T16:05:10.610Z"
   },
   {
    "duration": 11995,
    "start_time": "2023-05-28T16:05:17.230Z"
   },
   {
    "duration": 1700,
    "start_time": "2023-05-28T16:05:29.227Z"
   },
   {
    "duration": 1782,
    "start_time": "2023-05-28T16:05:30.930Z"
   },
   {
    "duration": 247,
    "start_time": "2023-05-28T16:05:32.713Z"
   },
   {
    "duration": 0,
    "start_time": "2023-05-28T16:05:32.962Z"
   },
   {
    "duration": 0,
    "start_time": "2023-05-28T16:05:32.963Z"
   },
   {
    "duration": 0,
    "start_time": "2023-05-28T16:05:32.964Z"
   },
   {
    "duration": 0,
    "start_time": "2023-05-28T16:05:32.965Z"
   },
   {
    "duration": 0,
    "start_time": "2023-05-28T16:05:32.967Z"
   },
   {
    "duration": 0,
    "start_time": "2023-05-28T16:05:32.968Z"
   },
   {
    "duration": 0,
    "start_time": "2023-05-28T16:05:32.969Z"
   },
   {
    "duration": 0,
    "start_time": "2023-05-28T16:05:32.981Z"
   },
   {
    "duration": 0,
    "start_time": "2023-05-28T16:05:32.982Z"
   },
   {
    "duration": 0,
    "start_time": "2023-05-28T16:05:32.982Z"
   },
   {
    "duration": 0,
    "start_time": "2023-05-28T16:05:32.983Z"
   },
   {
    "duration": 123,
    "start_time": "2023-05-28T16:05:47.740Z"
   },
   {
    "duration": 3,
    "start_time": "2023-05-28T16:05:53.238Z"
   },
   {
    "duration": 4,
    "start_time": "2023-05-28T16:05:53.811Z"
   },
   {
    "duration": 4,
    "start_time": "2023-05-28T16:05:55.153Z"
   },
   {
    "duration": 4,
    "start_time": "2023-05-28T16:05:55.447Z"
   },
   {
    "duration": 1193,
    "start_time": "2023-05-28T16:05:57.324Z"
   },
   {
    "duration": 1666,
    "start_time": "2023-05-28T16:06:01.059Z"
   },
   {
    "duration": 112,
    "start_time": "2023-05-28T16:06:06.910Z"
   },
   {
    "duration": 13132,
    "start_time": "2023-05-28T16:06:13.407Z"
   },
   {
    "duration": 1750,
    "start_time": "2023-05-28T16:06:28.661Z"
   },
   {
    "duration": 136,
    "start_time": "2023-05-28T16:06:30.853Z"
   },
   {
    "duration": 70,
    "start_time": "2023-05-28T16:06:38.231Z"
   },
   {
    "duration": 149,
    "start_time": "2023-05-28T16:06:55.071Z"
   },
   {
    "duration": 2118,
    "start_time": "2023-05-28T16:07:31.542Z"
   },
   {
    "duration": 1983,
    "start_time": "2023-05-28T16:07:36.951Z"
   },
   {
    "duration": 310,
    "start_time": "2023-05-28T16:07:38.937Z"
   },
   {
    "duration": 13408,
    "start_time": "2023-05-28T16:07:39.250Z"
   },
   {
    "duration": 12482,
    "start_time": "2023-05-28T16:07:52.660Z"
   },
   {
    "duration": 138,
    "start_time": "2023-05-28T16:08:08.963Z"
   },
   {
    "duration": 62,
    "start_time": "2023-05-28T16:08:18.338Z"
   },
   {
    "duration": 37186,
    "start_time": "2023-05-28T16:08:18.850Z"
   },
   {
    "duration": 71241,
    "start_time": "2023-05-28T16:08:57.450Z"
   },
   {
    "duration": 384,
    "start_time": "2023-05-28T16:11:52.988Z"
   },
   {
    "duration": 222,
    "start_time": "2023-05-28T16:11:55.467Z"
   },
   {
    "duration": 331,
    "start_time": "2023-05-28T16:11:57.670Z"
   },
   {
    "duration": 177,
    "start_time": "2023-05-28T16:11:59.050Z"
   },
   {
    "duration": 113430,
    "start_time": "2023-05-28T16:12:09.696Z"
   },
   {
    "duration": 246,
    "start_time": "2023-05-28T16:18:18.584Z"
   },
   {
    "duration": 455,
    "start_time": "2023-05-28T16:18:20.643Z"
   },
   {
    "duration": 363,
    "start_time": "2023-05-28T16:18:22.944Z"
   },
   {
    "duration": 342,
    "start_time": "2023-05-28T16:18:25.546Z"
   },
   {
    "duration": 13114,
    "start_time": "2023-05-28T16:18:33.944Z"
   },
   {
    "duration": 275,
    "start_time": "2023-05-28T16:18:47.061Z"
   },
   {
    "duration": 268,
    "start_time": "2023-05-28T16:18:47.339Z"
   },
   {
    "duration": 405,
    "start_time": "2023-05-28T16:18:47.609Z"
   },
   {
    "duration": 322,
    "start_time": "2023-05-28T16:18:48.016Z"
   },
   {
    "duration": 296,
    "start_time": "2023-05-28T16:18:48.340Z"
   },
   {
    "duration": 2084,
    "start_time": "2023-05-28T16:18:48.638Z"
   },
   {
    "duration": 9,
    "start_time": "2023-05-28T16:18:52.346Z"
   },
   {
    "duration": 447414,
    "start_time": "2023-05-28T16:18:54.344Z"
   },
   {
    "duration": 90,
    "start_time": "2023-05-28T16:27:25.162Z"
   },
   {
    "duration": 80,
    "start_time": "2023-05-28T16:27:38.363Z"
   },
   {
    "duration": 32496,
    "start_time": "2023-05-28T16:28:17.339Z"
   },
   {
    "duration": 5,
    "start_time": "2023-05-28T16:29:07.066Z"
   },
   {
    "duration": 8225,
    "start_time": "2023-05-28T16:29:08.469Z"
   },
   {
    "duration": 9,
    "start_time": "2023-05-28T16:30:29.972Z"
   },
   {
    "duration": 47074,
    "start_time": "2023-05-28T16:30:31.443Z"
   },
   {
    "duration": 5,
    "start_time": "2023-05-28T16:31:18.568Z"
   },
   {
    "duration": 133441,
    "start_time": "2023-05-28T16:31:19.212Z"
   },
   {
    "duration": 8,
    "start_time": "2023-05-28T16:41:49.342Z"
   },
   {
    "duration": 18,
    "start_time": "2023-05-28T16:41:53.955Z"
   },
   {
    "duration": 5,
    "start_time": "2023-05-28T16:41:57.802Z"
   },
   {
    "duration": 4,
    "start_time": "2023-05-28T16:42:10.050Z"
   },
   {
    "duration": 28173,
    "start_time": "2023-05-28T16:42:12.258Z"
   },
   {
    "duration": 45455,
    "start_time": "2023-05-28T16:42:41.201Z"
   },
   {
    "duration": 0,
    "start_time": "2023-05-28T16:43:26.658Z"
   },
   {
    "duration": 5,
    "start_time": "2023-05-28T16:43:28.349Z"
   },
   {
    "duration": 6,
    "start_time": "2023-05-28T16:43:29.113Z"
   },
   {
    "duration": 81772,
    "start_time": "2023-05-28T16:43:33.362Z"
   },
   {
    "duration": 5,
    "start_time": "2023-05-28T16:44:55.137Z"
   },
   {
    "duration": 4,
    "start_time": "2023-05-28T16:44:56.111Z"
   },
   {
    "duration": 4,
    "start_time": "2023-05-28T16:45:10.950Z"
   },
   {
    "duration": 375067,
    "start_time": "2023-05-28T16:45:11.814Z"
   },
   {
    "duration": 304017,
    "start_time": "2023-05-28T17:03:28.270Z"
   },
   {
    "duration": 7,
    "start_time": "2023-05-28T17:12:45.512Z"
   },
   {
    "duration": 21,
    "start_time": "2023-05-28T17:13:05.294Z"
   },
   {
    "duration": 7,
    "start_time": "2023-05-28T17:13:49.802Z"
   },
   {
    "duration": 11,
    "start_time": "2023-05-28T17:13:56.320Z"
   },
   {
    "duration": 309,
    "start_time": "2023-05-28T17:14:19.359Z"
   },
   {
    "duration": 11,
    "start_time": "2023-05-28T17:14:57.419Z"
   },
   {
    "duration": 114,
    "start_time": "2023-05-28T17:15:07.554Z"
   },
   {
    "duration": 216,
    "start_time": "2023-05-28T17:15:38.954Z"
   },
   {
    "duration": 8544,
    "start_time": "2023-05-28T17:16:42.211Z"
   },
   {
    "duration": 324,
    "start_time": "2023-05-28T17:17:15.094Z"
   },
   {
    "duration": 48,
    "start_time": "2023-05-28T17:25:37.018Z"
   },
   {
    "duration": 21,
    "start_time": "2023-05-28T17:26:33.586Z"
   },
   {
    "duration": 80,
    "start_time": "2023-05-28T17:26:42.570Z"
   },
   {
    "duration": 71,
    "start_time": "2023-05-28T17:26:52.679Z"
   },
   {
    "duration": 129,
    "start_time": "2023-05-28T17:27:32.109Z"
   },
   {
    "duration": 117,
    "start_time": "2023-05-28T17:28:40.986Z"
   },
   {
    "duration": 81,
    "start_time": "2023-05-28T17:29:17.275Z"
   },
   {
    "duration": 4,
    "start_time": "2023-05-28T17:30:25.895Z"
   },
   {
    "duration": 5553,
    "start_time": "2023-05-28T17:31:00.101Z"
   },
   {
    "duration": 52,
    "start_time": "2023-05-28T17:31:18.955Z"
   },
   {
    "duration": 4,
    "start_time": "2023-05-28T17:32:15.685Z"
   },
   {
    "duration": 81,
    "start_time": "2023-05-28T17:32:57.112Z"
   },
   {
    "duration": 80,
    "start_time": "2023-05-28T17:33:32.623Z"
   },
   {
    "duration": 65,
    "start_time": "2023-05-28T17:33:44.971Z"
   },
   {
    "duration": 344,
    "start_time": "2023-05-28T17:35:36.818Z"
   },
   {
    "duration": 110848,
    "start_time": "2023-05-28T17:36:10.730Z"
   },
   {
    "duration": 12726,
    "start_time": "2023-05-28T17:38:01.581Z"
   },
   {
    "duration": 243,
    "start_time": "2023-05-28T17:38:14.309Z"
   },
   {
    "duration": 235,
    "start_time": "2023-05-28T17:38:14.555Z"
   },
   {
    "duration": 69,
    "start_time": "2023-05-28T17:38:26.369Z"
   },
   {
    "duration": 69,
    "start_time": "2023-05-28T17:38:27.078Z"
   },
   {
    "duration": 62,
    "start_time": "2023-05-28T17:48:13.683Z"
   },
   {
    "duration": 72,
    "start_time": "2023-05-28T17:48:59.286Z"
   },
   {
    "duration": 7678,
    "start_time": "2023-05-28T17:49:07.974Z"
   },
   {
    "duration": 13538,
    "start_time": "2023-05-28T17:49:18.574Z"
   },
   {
    "duration": 245,
    "start_time": "2023-05-28T17:49:34.739Z"
   },
   {
    "duration": 274,
    "start_time": "2023-05-28T17:49:35.724Z"
   },
   {
    "duration": 8540,
    "start_time": "2023-05-28T17:49:37.102Z"
   },
   {
    "duration": 503,
    "start_time": "2023-05-28T17:49:51.574Z"
   },
   {
    "duration": 369,
    "start_time": "2023-05-28T17:49:52.655Z"
   },
   {
    "duration": 262,
    "start_time": "2023-05-28T17:49:56.750Z"
   },
   {
    "duration": 3110,
    "start_time": "2023-05-28T17:49:58.372Z"
   },
   {
    "duration": 6,
    "start_time": "2023-05-28T17:50:01.485Z"
   },
   {
    "duration": 4,
    "start_time": "2023-05-28T17:50:11.279Z"
   },
   {
    "duration": 125057,
    "start_time": "2023-05-28T17:50:12.782Z"
   },
   {
    "duration": 23,
    "start_time": "2023-05-28T17:52:46.755Z"
   },
   {
    "duration": 22,
    "start_time": "2023-05-28T17:52:52.031Z"
   },
   {
    "duration": 270,
    "start_time": "2023-05-28T17:53:00.877Z"
   },
   {
    "duration": 4,
    "start_time": "2023-05-28T17:53:03.570Z"
   },
   {
    "duration": 408,
    "start_time": "2023-05-28T17:53:14.077Z"
   },
   {
    "duration": 5,
    "start_time": "2023-05-28T17:53:40.446Z"
   },
   {
    "duration": 386706,
    "start_time": "2023-05-28T17:53:41.190Z"
   },
   {
    "duration": 35,
    "start_time": "2023-05-28T18:00:07.898Z"
   },
   {
    "duration": 159,
    "start_time": "2023-05-28T18:00:07.936Z"
   },
   {
    "duration": 58,
    "start_time": "2023-05-28T18:00:08.098Z"
   },
   {
    "duration": 0,
    "start_time": "2023-05-28T18:00:08.158Z"
   },
   {
    "duration": 0,
    "start_time": "2023-05-28T18:00:08.160Z"
   },
   {
    "duration": 32,
    "start_time": "2023-05-28T18:02:48.938Z"
   },
   {
    "duration": 30,
    "start_time": "2023-05-28T18:03:05.754Z"
   },
   {
    "duration": 133,
    "start_time": "2023-05-28T18:03:14.064Z"
   },
   {
    "duration": 462,
    "start_time": "2023-05-28T18:03:23.551Z"
   },
   {
    "duration": 405,
    "start_time": "2023-05-28T18:03:26.377Z"
   },
   {
    "duration": 435,
    "start_time": "2023-05-28T18:03:36.351Z"
   },
   {
    "duration": 61,
    "start_time": "2023-05-28T18:04:19.447Z"
   },
   {
    "duration": 323,
    "start_time": "2023-05-28T18:04:29.361Z"
   },
   {
    "duration": 1503,
    "start_time": "2023-05-29T07:02:38.087Z"
   },
   {
    "duration": 399,
    "start_time": "2023-05-29T07:09:35.764Z"
   },
   {
    "duration": 3,
    "start_time": "2023-05-29T07:12:22.097Z"
   },
   {
    "duration": 14930,
    "start_time": "2023-05-29T07:12:30.291Z"
   },
   {
    "duration": 10403,
    "start_time": "2023-05-29T07:12:45.223Z"
   },
   {
    "duration": 250,
    "start_time": "2023-05-29T07:14:05.565Z"
   },
   {
    "duration": 107,
    "start_time": "2023-05-29T07:14:30.214Z"
   },
   {
    "duration": 6,
    "start_time": "2023-05-29T07:15:18.705Z"
   },
   {
    "duration": 5,
    "start_time": "2023-05-29T07:15:28.499Z"
   },
   {
    "duration": 93,
    "start_time": "2023-05-29T07:15:38.401Z"
   },
   {
    "duration": 556,
    "start_time": "2023-05-29T07:15:39.799Z"
   },
   {
    "duration": 591,
    "start_time": "2023-05-29T07:16:40.495Z"
   },
   {
    "duration": 667,
    "start_time": "2023-05-29T07:18:33.491Z"
   },
   {
    "duration": 31,
    "start_time": "2023-05-29T07:22:27.288Z"
   },
   {
    "duration": 31,
    "start_time": "2023-05-29T07:22:38.801Z"
   },
   {
    "duration": 93,
    "start_time": "2023-05-29T07:22:45.968Z"
   },
   {
    "duration": 9,
    "start_time": "2023-05-29T07:23:11.273Z"
   },
   {
    "duration": 4,
    "start_time": "2023-05-29T07:24:07.099Z"
   },
   {
    "duration": 12383,
    "start_time": "2023-05-29T07:24:13.823Z"
   },
   {
    "duration": 158,
    "start_time": "2023-05-29T07:24:31.691Z"
   },
   {
    "duration": 357941,
    "start_time": "2023-05-29T07:24:35.691Z"
   },
   {
    "duration": 1266,
    "start_time": "2023-05-29T07:31:13.708Z"
   },
   {
    "duration": 92,
    "start_time": "2023-05-29T07:36:11.010Z"
   },
   {
    "duration": 1749,
    "start_time": "2023-05-29T07:36:32.509Z"
   },
   {
    "duration": 170,
    "start_time": "2023-05-29T07:36:57.207Z"
   },
   {
    "duration": 113,
    "start_time": "2023-05-29T07:37:20.691Z"
   },
   {
    "duration": 6125,
    "start_time": "2023-05-29T07:37:50.067Z"
   },
   {
    "duration": 90,
    "start_time": "2023-05-29T07:38:02.662Z"
   },
   {
    "duration": 1689,
    "start_time": "2023-05-29T07:50:16.127Z"
   },
   {
    "duration": 490,
    "start_time": "2023-05-29T07:50:17.818Z"
   },
   {
    "duration": 3,
    "start_time": "2023-05-29T07:50:18.310Z"
   },
   {
    "duration": 18528,
    "start_time": "2023-05-29T07:50:18.315Z"
   },
   {
    "duration": 12097,
    "start_time": "2023-05-29T07:50:36.845Z"
   },
   {
    "duration": 163,
    "start_time": "2023-05-29T07:50:48.944Z"
   },
   {
    "duration": 1415,
    "start_time": "2023-05-29T07:50:49.109Z"
   },
   {
    "duration": 1804,
    "start_time": "2023-05-29T07:50:50.526Z"
   },
   {
    "duration": 76,
    "start_time": "2023-05-29T07:50:52.333Z"
   },
   {
    "duration": 277424,
    "start_time": "2023-05-29T07:50:52.412Z"
   },
   {
    "duration": 588,
    "start_time": "2023-05-29T08:01:17.496Z"
   },
   {
    "duration": 236,
    "start_time": "2023-05-29T08:01:19.903Z"
   },
   {
    "duration": 12173,
    "start_time": "2023-05-29T08:01:23.196Z"
   },
   {
    "duration": 3133,
    "start_time": "2023-05-29T08:01:36.970Z"
   },
   {
    "duration": 339,
    "start_time": "2023-05-29T08:01:55.197Z"
   },
   {
    "duration": 12,
    "start_time": "2023-05-29T08:02:00.977Z"
   },
   {
    "duration": 359,
    "start_time": "2023-05-29T08:02:19.574Z"
   },
   {
    "duration": 263,
    "start_time": "2023-05-29T08:02:32.707Z"
   },
   {
    "duration": 2756,
    "start_time": "2023-05-29T08:02:46.411Z"
   },
   {
    "duration": 11060,
    "start_time": "2023-05-29T08:03:01.924Z"
   },
   {
    "duration": 235,
    "start_time": "2023-05-29T08:03:12.992Z"
   },
   {
    "duration": 63,
    "start_time": "2023-05-29T08:03:46.074Z"
   },
   {
    "duration": 1616,
    "start_time": "2023-05-29T10:18:02.893Z"
   },
   {
    "duration": 365,
    "start_time": "2023-05-29T10:18:04.512Z"
   },
   {
    "duration": 3,
    "start_time": "2023-05-29T10:18:04.878Z"
   },
   {
    "duration": 14626,
    "start_time": "2023-05-29T10:18:04.883Z"
   },
   {
    "duration": 12303,
    "start_time": "2023-05-29T10:18:19.511Z"
   },
   {
    "duration": 149,
    "start_time": "2023-05-29T10:18:31.816Z"
   },
   {
    "duration": 1138,
    "start_time": "2023-05-29T10:18:31.967Z"
   },
   {
    "duration": 1817,
    "start_time": "2023-05-29T10:18:33.106Z"
   },
   {
    "duration": 555,
    "start_time": "2023-05-29T10:18:34.925Z"
   },
   {
    "duration": 210,
    "start_time": "2023-05-29T10:18:35.482Z"
   },
   {
    "duration": 3712,
    "start_time": "2023-05-29T10:18:35.696Z"
   },
   {
    "duration": 11441,
    "start_time": "2023-05-29T10:20:09.998Z"
   },
   {
    "duration": 12389,
    "start_time": "2023-05-29T10:31:57.810Z"
   },
   {
    "duration": 12987,
    "start_time": "2023-05-29T10:32:14.709Z"
   },
   {
    "duration": 159,
    "start_time": "2023-05-29T10:32:27.698Z"
   },
   {
    "duration": 126,
    "start_time": "2023-05-29T10:32:31.013Z"
   },
   {
    "duration": 95,
    "start_time": "2023-05-29T10:32:46.617Z"
   },
   {
    "duration": 63129,
    "start_time": "2023-05-29T10:32:58.816Z"
   },
   {
    "duration": 17,
    "start_time": "2023-05-29T10:36:04.551Z"
   },
   {
    "duration": 5159,
    "start_time": "2023-05-29T10:36:55.922Z"
   },
   {
    "duration": 361,
    "start_time": "2023-05-29T10:37:01.083Z"
   },
   {
    "duration": 284,
    "start_time": "2023-05-29T10:37:01.445Z"
   },
   {
    "duration": 2872,
    "start_time": "2023-05-29T10:37:07.361Z"
   },
   {
    "duration": 1068080,
    "start_time": "2023-05-29T10:37:15.606Z"
   },
   {
    "duration": 4,
    "start_time": "2023-05-29T10:55:03.697Z"
   },
   {
    "duration": 11437,
    "start_time": "2023-05-29T11:06:11.635Z"
   },
   {
    "duration": 1222,
    "start_time": "2023-05-29T11:06:23.074Z"
   },
   {
    "duration": 151,
    "start_time": "2023-05-29T11:06:24.297Z"
   },
   {
    "duration": 64921,
    "start_time": "2023-05-29T11:06:25.497Z"
   },
   {
    "duration": 9,
    "start_time": "2023-05-29T11:08:25.242Z"
   },
   {
    "duration": 186,
    "start_time": "2023-05-29T11:08:30.901Z"
   },
   {
    "duration": 98,
    "start_time": "2023-05-29T11:09:20.151Z"
   },
   {
    "duration": 799,
    "start_time": "2023-05-29T11:10:02.801Z"
   },
   {
    "duration": 810,
    "start_time": "2023-05-29T11:10:59.410Z"
   },
   {
    "duration": 2120,
    "start_time": "2023-05-29T11:16:58.396Z"
   },
   {
    "duration": 12802,
    "start_time": "2023-05-29T11:17:14.065Z"
   },
   {
    "duration": 162,
    "start_time": "2023-05-29T11:17:26.869Z"
   },
   {
    "duration": 4034,
    "start_time": "2023-05-29T11:17:33.240Z"
   },
   {
    "duration": 317,
    "start_time": "2023-05-29T11:17:40.539Z"
   },
   {
    "duration": 232,
    "start_time": "2023-05-29T11:17:43.499Z"
   },
   {
    "duration": 155,
    "start_time": "2023-05-29T11:18:43.696Z"
   },
   {
    "duration": 2589,
    "start_time": "2023-05-29T11:21:00.054Z"
   },
   {
    "duration": 4,
    "start_time": "2023-05-29T11:21:43.720Z"
   },
   {
    "duration": 4,
    "start_time": "2023-05-29T11:35:27.423Z"
   },
   {
    "duration": 4,
    "start_time": "2023-05-29T11:39:00.017Z"
   },
   {
    "duration": 264090,
    "start_time": "2023-05-29T11:39:15.716Z"
   },
   {
    "duration": 32,
    "start_time": "2023-05-29T11:43:45.102Z"
   },
   {
    "duration": 115,
    "start_time": "2023-05-29T11:44:39.395Z"
   },
   {
    "duration": 312,
    "start_time": "2023-05-29T11:44:43.218Z"
   },
   {
    "duration": 273,
    "start_time": "2023-05-29T11:44:52.342Z"
   },
   {
    "duration": 253,
    "start_time": "2023-05-29T11:45:20.522Z"
   },
   {
    "duration": 329,
    "start_time": "2023-05-29T11:45:36.822Z"
   },
   {
    "duration": 246,
    "start_time": "2023-05-29T11:47:02.684Z"
   },
   {
    "duration": 7,
    "start_time": "2023-05-29T11:48:10.607Z"
   },
   {
    "duration": 4,
    "start_time": "2023-05-29T11:50:38.249Z"
   },
   {
    "duration": 4,
    "start_time": "2023-05-29T11:50:45.929Z"
   },
   {
    "duration": 8300,
    "start_time": "2023-05-29T11:55:15.198Z"
   },
   {
    "duration": 1698,
    "start_time": "2023-05-29T11:55:23.500Z"
   },
   {
    "duration": 5,
    "start_time": "2023-05-29T11:55:25.200Z"
   },
   {
    "duration": 18710,
    "start_time": "2023-05-29T11:55:25.208Z"
   },
   {
    "duration": 2407,
    "start_time": "2023-05-29T11:55:43.919Z"
   },
   {
    "duration": 1290,
    "start_time": "2023-05-29T11:55:46.328Z"
   },
   {
    "duration": 680,
    "start_time": "2023-05-29T11:55:47.619Z"
   },
   {
    "duration": 7037,
    "start_time": "2023-05-29T11:55:48.301Z"
   },
   {
    "duration": 11859,
    "start_time": "2023-05-29T11:55:55.339Z"
   },
   {
    "duration": 1215,
    "start_time": "2023-05-29T11:56:07.201Z"
   },
   {
    "duration": 156,
    "start_time": "2023-05-29T11:56:08.418Z"
   },
   {
    "duration": 702,
    "start_time": "2023-05-29T11:56:08.576Z"
   },
   {
    "duration": 3319,
    "start_time": "2023-05-29T11:56:09.280Z"
   },
   {
    "duration": 302,
    "start_time": "2023-05-29T11:56:12.601Z"
   },
   {
    "duration": 324,
    "start_time": "2023-05-29T11:56:12.905Z"
   },
   {
    "duration": 142,
    "start_time": "2023-05-29T11:56:13.231Z"
   },
   {
    "duration": 1552,
    "start_time": "2023-05-29T11:56:13.374Z"
   },
   {
    "duration": 4,
    "start_time": "2023-05-29T11:56:14.928Z"
   },
   {
    "duration": 78760,
    "start_time": "2023-05-29T11:56:23.603Z"
   },
   {
    "duration": 14,
    "start_time": "2023-05-29T11:57:46.254Z"
   },
   {
    "duration": 129,
    "start_time": "2023-05-29T11:57:56.107Z"
   },
   {
    "duration": 296,
    "start_time": "2023-05-29T11:58:00.155Z"
   },
   {
    "duration": 263,
    "start_time": "2023-05-29T11:58:02.480Z"
   },
   {
    "duration": 252,
    "start_time": "2023-05-29T11:58:07.807Z"
   },
   {
    "duration": 7,
    "start_time": "2023-05-29T11:58:11.007Z"
   },
   {
    "duration": 1649,
    "start_time": "2023-05-30T06:27:21.381Z"
   },
   {
    "duration": 3,
    "start_time": "2023-05-30T06:27:24.622Z"
   },
   {
    "duration": 5654,
    "start_time": "2023-05-30T06:27:28.363Z"
   },
   {
    "duration": 2070,
    "start_time": "2023-05-30T06:29:59.221Z"
   },
   {
    "duration": 12,
    "start_time": "2023-05-30T06:30:04.241Z"
   },
   {
    "duration": 50,
    "start_time": "2023-05-30T06:57:04.862Z"
   },
   {
    "duration": 72,
    "start_time": "2023-05-30T06:57:12.421Z"
   },
   {
    "duration": 3048,
    "start_time": "2023-05-30T06:57:15.648Z"
   },
   {
    "duration": 3398,
    "start_time": "2023-05-30T06:58:12.181Z"
   },
   {
    "duration": 10902,
    "start_time": "2023-05-30T07:16:13.419Z"
   },
   {
    "duration": 1073,
    "start_time": "2023-05-30T07:16:29.076Z"
   },
   {
    "duration": 132,
    "start_time": "2023-05-30T07:16:40.463Z"
   },
   {
    "duration": 65,
    "start_time": "2023-05-30T07:17:05.686Z"
   },
   {
    "duration": 2770,
    "start_time": "2023-05-30T07:27:30.447Z"
   },
   {
    "duration": 254,
    "start_time": "2023-05-30T07:27:35.186Z"
   },
   {
    "duration": 239,
    "start_time": "2023-05-30T07:27:40.026Z"
   },
   {
    "duration": 206,
    "start_time": "2023-05-30T07:27:59.007Z"
   },
   {
    "duration": 130,
    "start_time": "2023-05-30T07:28:10.066Z"
   },
   {
    "duration": 1561,
    "start_time": "2023-05-30T07:28:11.126Z"
   },
   {
    "duration": 6,
    "start_time": "2023-05-30T07:29:55.527Z"
   },
   {
    "duration": 4,
    "start_time": "2023-05-30T07:31:19.745Z"
   },
   {
    "duration": 157,
    "start_time": "2023-05-30T07:31:20.846Z"
   },
   {
    "duration": 47,
    "start_time": "2023-05-30T07:31:38.873Z"
   },
   {
    "duration": 5,
    "start_time": "2023-05-30T07:31:42.653Z"
   },
   {
    "duration": 5135,
    "start_time": "2023-05-30T07:31:43.333Z"
   },
   {
    "duration": 301,
    "start_time": "2023-05-30T07:32:05.264Z"
   },
   {
    "duration": 6,
    "start_time": "2023-05-30T07:32:14.204Z"
   },
   {
    "duration": 277,
    "start_time": "2023-05-30T07:32:15.484Z"
   },
   {
    "duration": 244,
    "start_time": "2023-05-30T07:33:09.624Z"
   },
   {
    "duration": 5,
    "start_time": "2023-05-30T07:33:18.584Z"
   },
   {
    "duration": 211750,
    "start_time": "2023-05-30T07:33:20.103Z"
   },
   {
    "duration": 5,
    "start_time": "2023-05-30T07:38:35.064Z"
   },
   {
    "duration": 333,
    "start_time": "2023-05-30T07:38:35.845Z"
   },
   {
    "duration": 302,
    "start_time": "2023-05-30T07:38:44.674Z"
   },
   {
    "duration": 274,
    "start_time": "2023-05-30T07:38:52.185Z"
   },
   {
    "duration": 9,
    "start_time": "2023-05-30T07:39:00.845Z"
   },
   {
    "duration": 329042,
    "start_time": "2023-05-30T07:39:02.725Z"
   },
   {
    "duration": 44,
    "start_time": "2023-05-30T07:46:44.764Z"
   },
   {
    "duration": 239,
    "start_time": "2023-05-30T07:51:35.139Z"
   },
   {
    "duration": 296,
    "start_time": "2023-05-30T07:51:38.662Z"
   },
   {
    "duration": 52,
    "start_time": "2023-05-30T07:52:54.462Z"
   },
   {
    "duration": 369,
    "start_time": "2023-05-30T07:53:02.268Z"
   },
   {
    "duration": 312,
    "start_time": "2023-05-30T07:53:14.309Z"
   },
   {
    "duration": 521,
    "start_time": "2023-05-30T07:53:25.396Z"
   },
   {
    "duration": 4,
    "start_time": "2023-05-30T07:57:45.140Z"
   },
   {
    "duration": 17,
    "start_time": "2023-05-30T07:58:57.574Z"
   },
   {
    "duration": 15,
    "start_time": "2023-05-30T07:59:06.343Z"
   },
   {
    "duration": 17,
    "start_time": "2023-05-30T07:59:42.534Z"
   },
   {
    "duration": 18,
    "start_time": "2023-05-30T07:59:53.422Z"
   },
   {
    "duration": 18,
    "start_time": "2023-05-30T08:00:01.434Z"
   },
   {
    "duration": 189,
    "start_time": "2023-05-30T08:00:30.908Z"
   },
   {
    "duration": 189,
    "start_time": "2023-05-30T08:00:38.153Z"
   },
   {
    "duration": 5,
    "start_time": "2023-05-30T08:04:59.871Z"
   },
   {
    "duration": 6,
    "start_time": "2023-05-30T08:05:26.852Z"
   },
   {
    "duration": 4,
    "start_time": "2023-05-30T08:05:41.631Z"
   },
   {
    "duration": 4,
    "start_time": "2023-05-30T08:06:33.090Z"
   },
   {
    "duration": 118,
    "start_time": "2023-05-30T08:07:41.691Z"
   },
   {
    "duration": 255,
    "start_time": "2023-05-30T08:07:53.931Z"
   },
   {
    "duration": 11,
    "start_time": "2023-05-30T08:08:16.511Z"
   },
   {
    "duration": 105,
    "start_time": "2023-05-30T08:08:19.571Z"
   },
   {
    "duration": 64,
    "start_time": "2023-05-30T08:08:30.211Z"
   },
   {
    "duration": 10,
    "start_time": "2023-05-30T08:08:47.891Z"
   },
   {
    "duration": 267,
    "start_time": "2023-05-30T08:08:53.891Z"
   },
   {
    "duration": 244,
    "start_time": "2023-05-30T08:09:07.431Z"
   },
   {
    "duration": 258,
    "start_time": "2023-05-30T08:09:10.792Z"
   },
   {
    "duration": 15,
    "start_time": "2023-05-30T08:09:12.811Z"
   },
   {
    "duration": 4,
    "start_time": "2023-05-30T08:09:25.732Z"
   },
   {
    "duration": 21,
    "start_time": "2023-05-30T08:09:33.671Z"
   },
   {
    "duration": 13,
    "start_time": "2023-05-30T08:09:42.291Z"
   },
   {
    "duration": 4,
    "start_time": "2023-05-30T08:09:51.611Z"
   },
   {
    "duration": 6,
    "start_time": "2023-05-30T08:10:01.171Z"
   },
   {
    "duration": 148,
    "start_time": "2023-05-30T08:10:17.740Z"
   },
   {
    "duration": 139,
    "start_time": "2023-05-30T08:10:39.918Z"
   },
   {
    "duration": 144,
    "start_time": "2023-05-30T08:10:50.919Z"
   },
   {
    "duration": 62,
    "start_time": "2023-05-30T08:10:57.711Z"
   },
   {
    "duration": 149,
    "start_time": "2023-05-30T08:11:00.475Z"
   },
   {
    "duration": 266,
    "start_time": "2023-05-30T08:11:17.753Z"
   },
   {
    "duration": 253,
    "start_time": "2023-05-30T08:11:52.591Z"
   },
   {
    "duration": 368,
    "start_time": "2023-05-30T08:12:09.271Z"
   },
   {
    "duration": 374,
    "start_time": "2023-05-30T08:12:13.252Z"
   },
   {
    "duration": 362,
    "start_time": "2023-05-30T08:13:12.920Z"
   },
   {
    "duration": 4,
    "start_time": "2023-05-30T08:13:53.611Z"
   },
   {
    "duration": 273,
    "start_time": "2023-05-30T08:14:19.871Z"
   },
   {
    "duration": 365,
    "start_time": "2023-05-30T08:14:33.131Z"
   },
   {
    "duration": 405,
    "start_time": "2023-05-30T08:16:45.160Z"
   },
   {
    "duration": 567,
    "start_time": "2023-05-30T08:16:48.362Z"
   },
   {
    "duration": 311,
    "start_time": "2023-05-30T08:17:10.174Z"
   },
   {
    "duration": 259,
    "start_time": "2023-05-30T08:24:05.783Z"
   },
   {
    "duration": 402,
    "start_time": "2023-05-30T08:28:15.103Z"
   },
   {
    "duration": 12,
    "start_time": "2023-05-30T08:47:01.352Z"
   },
   {
    "duration": 23161,
    "start_time": "2023-05-30T08:47:47.393Z"
   },
   {
    "duration": 6,
    "start_time": "2023-05-30T08:49:26.147Z"
   },
   {
    "duration": 7,
    "start_time": "2023-05-30T08:50:30.045Z"
   },
   {
    "duration": 298,
    "start_time": "2023-05-30T08:50:44.127Z"
   },
   {
    "duration": 228,
    "start_time": "2023-05-30T08:50:54.586Z"
   },
   {
    "duration": 199,
    "start_time": "2023-05-30T08:54:10.141Z"
   },
   {
    "duration": 158,
    "start_time": "2023-05-30T08:54:41.692Z"
   },
   {
    "duration": 1748,
    "start_time": "2023-05-30T10:39:48.329Z"
   },
   {
    "duration": 3,
    "start_time": "2023-05-30T10:39:57.930Z"
   },
   {
    "duration": 13417,
    "start_time": "2023-05-30T10:39:58.669Z"
   },
   {
    "duration": 2121,
    "start_time": "2023-05-30T10:40:12.087Z"
   },
   {
    "duration": 7,
    "start_time": "2023-05-30T10:40:14.210Z"
   },
   {
    "duration": 476,
    "start_time": "2023-05-30T10:40:14.219Z"
   },
   {
    "duration": 212,
    "start_time": "2023-05-30T10:40:14.697Z"
   },
   {
    "duration": 2907,
    "start_time": "2023-05-30T10:40:14.910Z"
   },
   {
    "duration": 12401,
    "start_time": "2023-05-30T10:40:17.819Z"
   },
   {
    "duration": 1228,
    "start_time": "2023-05-30T10:40:30.222Z"
   },
   {
    "duration": 157,
    "start_time": "2023-05-30T10:40:31.452Z"
   },
   {
    "duration": 751,
    "start_time": "2023-05-30T10:40:31.612Z"
   },
   {
    "duration": 3162,
    "start_time": "2023-05-30T10:40:32.364Z"
   },
   {
    "duration": 305,
    "start_time": "2023-05-30T10:40:35.527Z"
   },
   {
    "duration": 242,
    "start_time": "2023-05-30T10:40:35.833Z"
   },
   {
    "duration": 146,
    "start_time": "2023-05-30T10:40:36.078Z"
   },
   {
    "duration": 1635,
    "start_time": "2023-05-30T10:40:36.226Z"
   },
   {
    "duration": 5,
    "start_time": "2023-05-30T10:40:37.863Z"
   },
   {
    "duration": 211165,
    "start_time": "2023-05-30T10:43:09.225Z"
   },
   {
    "duration": 122,
    "start_time": "2023-05-30T10:46:40.393Z"
   },
   {
    "duration": 215,
    "start_time": "2023-05-30T10:46:40.517Z"
   },
   {
    "duration": 307,
    "start_time": "2023-05-30T10:46:40.734Z"
   },
   {
    "duration": 165,
    "start_time": "2023-05-30T10:46:41.043Z"
   },
   {
    "duration": 236,
    "start_time": "2023-05-30T10:46:41.210Z"
   },
   {
    "duration": 352,
    "start_time": "2023-05-30T11:10:13.881Z"
   },
   {
    "duration": 503,
    "start_time": "2023-05-30T11:10:24.111Z"
   },
   {
    "duration": 280,
    "start_time": "2023-05-30T11:10:34.342Z"
   },
   {
    "duration": 639,
    "start_time": "2023-05-30T11:26:38.118Z"
   },
   {
    "duration": 1448,
    "start_time": "2023-05-30T13:03:09.906Z"
   },
   {
    "duration": 3,
    "start_time": "2023-05-30T13:03:11.356Z"
   },
   {
    "duration": 20004,
    "start_time": "2023-05-30T13:03:11.360Z"
   },
   {
    "duration": 2034,
    "start_time": "2023-05-30T13:03:31.365Z"
   },
   {
    "duration": 8,
    "start_time": "2023-05-30T13:03:33.401Z"
   },
   {
    "duration": 559,
    "start_time": "2023-05-30T13:03:33.410Z"
   },
   {
    "duration": 195,
    "start_time": "2023-05-30T13:03:33.971Z"
   },
   {
    "duration": 2757,
    "start_time": "2023-05-30T13:03:34.167Z"
   },
   {
    "duration": 11529,
    "start_time": "2023-05-30T13:03:36.926Z"
   },
   {
    "duration": 1247,
    "start_time": "2023-05-30T13:03:48.457Z"
   },
   {
    "duration": 154,
    "start_time": "2023-05-30T13:03:49.706Z"
   },
   {
    "duration": 752,
    "start_time": "2023-05-30T13:03:49.863Z"
   },
   {
    "duration": 66844,
    "start_time": "2023-05-30T13:03:50.617Z"
   },
   {
    "duration": 2995,
    "start_time": "2023-05-30T13:04:57.464Z"
   },
   {
    "duration": 322,
    "start_time": "2023-05-30T13:05:00.461Z"
   },
   {
    "duration": 226,
    "start_time": "2023-05-30T13:05:00.785Z"
   },
   {
    "duration": 148,
    "start_time": "2023-05-30T13:05:01.012Z"
   },
   {
    "duration": 1631,
    "start_time": "2023-05-30T13:05:01.162Z"
   },
   {
    "duration": 6,
    "start_time": "2023-05-30T13:05:02.797Z"
   },
   {
    "duration": 261090,
    "start_time": "2023-05-30T13:05:02.805Z"
   },
   {
    "duration": 127,
    "start_time": "2023-05-30T13:09:23.897Z"
   },
   {
    "duration": 262,
    "start_time": "2023-05-30T13:09:24.025Z"
   },
   {
    "duration": 374,
    "start_time": "2023-05-30T13:09:24.291Z"
   },
   {
    "duration": 180,
    "start_time": "2023-05-30T13:09:24.667Z"
   },
   {
    "duration": 357,
    "start_time": "2023-05-30T13:09:24.848Z"
   },
   {
    "duration": 323,
    "start_time": "2023-05-30T13:09:25.207Z"
   },
   {
    "duration": 562,
    "start_time": "2023-05-30T13:09:25.532Z"
   },
   {
    "duration": 5221,
    "start_time": "2023-05-30T13:49:21.989Z"
   },
   {
    "duration": 3,
    "start_time": "2023-05-30T13:49:27.212Z"
   },
   {
    "duration": 13623,
    "start_time": "2023-05-30T13:49:27.216Z"
   },
   {
    "duration": 1960,
    "start_time": "2023-05-30T13:49:40.841Z"
   },
   {
    "duration": 8,
    "start_time": "2023-05-30T13:49:42.803Z"
   },
   {
    "duration": 496,
    "start_time": "2023-05-30T13:49:42.813Z"
   },
   {
    "duration": 290,
    "start_time": "2023-05-30T13:49:43.311Z"
   },
   {
    "duration": 2599,
    "start_time": "2023-05-30T13:49:43.603Z"
   },
   {
    "duration": 11849,
    "start_time": "2023-05-30T13:49:46.204Z"
   },
   {
    "duration": 1296,
    "start_time": "2023-05-30T13:49:58.056Z"
   },
   {
    "duration": 173,
    "start_time": "2023-05-30T13:49:59.354Z"
   },
   {
    "duration": 833,
    "start_time": "2023-05-30T13:49:59.529Z"
   },
   {
    "duration": 60574,
    "start_time": "2023-05-30T13:50:00.364Z"
   },
   {
    "duration": 4154,
    "start_time": "2023-05-30T13:51:00.940Z"
   },
   {
    "duration": 315,
    "start_time": "2023-05-30T13:51:05.096Z"
   },
   {
    "duration": 243,
    "start_time": "2023-05-30T13:51:05.414Z"
   },
   {
    "duration": 158,
    "start_time": "2023-05-30T13:51:05.659Z"
   },
   {
    "duration": 1724,
    "start_time": "2023-05-30T13:51:05.819Z"
   },
   {
    "duration": 6,
    "start_time": "2023-05-30T13:51:07.544Z"
   },
   {
    "duration": 363188,
    "start_time": "2023-05-30T13:51:07.552Z"
   },
   {
    "duration": 127,
    "start_time": "2023-05-30T13:57:10.741Z"
   },
   {
    "duration": 225,
    "start_time": "2023-05-30T13:57:10.925Z"
   },
   {
    "duration": 347,
    "start_time": "2023-05-30T13:57:11.151Z"
   },
   {
    "duration": 153,
    "start_time": "2023-05-30T13:57:11.500Z"
   },
   {
    "duration": 302,
    "start_time": "2023-05-30T13:57:11.655Z"
   },
   {
    "duration": 285,
    "start_time": "2023-05-30T13:57:11.958Z"
   },
   {
    "duration": 449,
    "start_time": "2023-05-30T13:57:12.244Z"
   },
   {
    "duration": 1728,
    "start_time": "2023-05-31T08:07:28.734Z"
   },
   {
    "duration": 3,
    "start_time": "2023-05-31T08:07:30.464Z"
   },
   {
    "duration": 14312,
    "start_time": "2023-05-31T08:07:30.468Z"
   },
   {
    "duration": 1824,
    "start_time": "2023-05-31T08:07:44.784Z"
   },
   {
    "duration": 8,
    "start_time": "2023-05-31T08:07:46.610Z"
   },
   {
    "duration": 578,
    "start_time": "2023-05-31T08:07:46.619Z"
   },
   {
    "duration": 246,
    "start_time": "2023-05-31T08:07:47.202Z"
   },
   {
    "duration": 2848,
    "start_time": "2023-05-31T08:07:47.450Z"
   },
   {
    "duration": 12134,
    "start_time": "2023-05-31T08:07:50.304Z"
   },
   {
    "duration": 1252,
    "start_time": "2023-05-31T08:08:02.441Z"
   },
   {
    "duration": 148,
    "start_time": "2023-05-31T08:08:03.700Z"
   },
   {
    "duration": 768,
    "start_time": "2023-05-31T08:08:03.850Z"
   },
   {
    "duration": 67946,
    "start_time": "2023-05-31T08:08:04.620Z"
   },
   {
    "duration": 3793,
    "start_time": "2023-05-31T08:09:12.567Z"
   },
   {
    "duration": 307,
    "start_time": "2023-05-31T08:09:16.362Z"
   },
   {
    "duration": 252,
    "start_time": "2023-05-31T08:09:16.670Z"
   },
   {
    "duration": 142,
    "start_time": "2023-05-31T08:09:16.924Z"
   },
   {
    "duration": 1683,
    "start_time": "2023-05-31T08:09:17.068Z"
   },
   {
    "duration": 4,
    "start_time": "2023-05-31T08:09:18.753Z"
   },
   {
    "duration": 295727,
    "start_time": "2023-05-31T08:09:18.759Z"
   },
   {
    "duration": 104,
    "start_time": "2023-05-31T08:14:14.488Z"
   },
   {
    "duration": 221,
    "start_time": "2023-05-31T08:14:14.594Z"
   },
   {
    "duration": 380,
    "start_time": "2023-05-31T08:14:14.816Z"
   },
   {
    "duration": 165,
    "start_time": "2023-05-31T08:14:15.198Z"
   },
   {
    "duration": 349,
    "start_time": "2023-05-31T08:14:15.364Z"
   },
   {
    "duration": 324,
    "start_time": "2023-05-31T08:14:15.715Z"
   },
   {
    "duration": 515,
    "start_time": "2023-05-31T08:14:16.040Z"
   },
   {
    "duration": 54,
    "start_time": "2023-05-31T08:30:20.327Z"
   },
   {
    "duration": 7,
    "start_time": "2023-05-31T08:31:09.333Z"
   },
   {
    "duration": 4,
    "start_time": "2023-05-31T08:31:09.344Z"
   },
   {
    "duration": 11,
    "start_time": "2023-05-31T08:31:09.350Z"
   },
   {
    "duration": 1838,
    "start_time": "2023-05-31T08:31:09.363Z"
   },
   {
    "duration": 9,
    "start_time": "2023-05-31T08:31:11.205Z"
   },
   {
    "duration": 647,
    "start_time": "2023-05-31T08:31:11.216Z"
   },
   {
    "duration": 230,
    "start_time": "2023-05-31T08:31:11.865Z"
   },
   {
    "duration": 3575,
    "start_time": "2023-05-31T08:31:12.101Z"
   },
   {
    "duration": 12265,
    "start_time": "2023-05-31T08:31:15.682Z"
   },
   {
    "duration": 1387,
    "start_time": "2023-05-31T08:31:27.949Z"
   },
   {
    "duration": 189,
    "start_time": "2023-05-31T08:31:29.338Z"
   },
   {
    "duration": 976,
    "start_time": "2023-05-31T08:31:29.529Z"
   },
   {
    "duration": 72853,
    "start_time": "2023-05-31T08:31:30.508Z"
   },
   {
    "duration": 5415,
    "start_time": "2023-05-31T08:32:43.363Z"
   },
   {
    "duration": 60,
    "start_time": "2023-05-31T08:32:48.779Z"
   },
   {
    "duration": 4,
    "start_time": "2023-05-31T08:33:59.750Z"
   },
   {
    "duration": 12,
    "start_time": "2023-05-31T08:33:59.756Z"
   },
   {
    "duration": 6,
    "start_time": "2023-05-31T08:33:59.770Z"
   },
   {
    "duration": 1830,
    "start_time": "2023-05-31T08:33:59.783Z"
   },
   {
    "duration": 9,
    "start_time": "2023-05-31T08:34:01.616Z"
   },
   {
    "duration": 524,
    "start_time": "2023-05-31T08:34:01.627Z"
   },
   {
    "duration": 219,
    "start_time": "2023-05-31T08:34:02.153Z"
   },
   {
    "duration": 3468,
    "start_time": "2023-05-31T08:34:02.378Z"
   },
   {
    "duration": 12453,
    "start_time": "2023-05-31T08:34:05.848Z"
   },
   {
    "duration": 1499,
    "start_time": "2023-05-31T08:34:18.302Z"
   },
   {
    "duration": 256,
    "start_time": "2023-05-31T08:34:19.806Z"
   },
   {
    "duration": 64,
    "start_time": "2023-05-31T08:34:36.016Z"
   },
   {
    "duration": 4,
    "start_time": "2023-05-31T08:34:55.323Z"
   },
   {
    "duration": 5,
    "start_time": "2023-05-31T08:34:55.661Z"
   },
   {
    "duration": 5,
    "start_time": "2023-05-31T08:34:55.839Z"
   },
   {
    "duration": 1852,
    "start_time": "2023-05-31T08:34:55.971Z"
   },
   {
    "duration": 8,
    "start_time": "2023-05-31T08:34:57.826Z"
   },
   {
    "duration": 610,
    "start_time": "2023-05-31T08:34:58.073Z"
   },
   {
    "duration": 226,
    "start_time": "2023-05-31T08:34:59.054Z"
   },
   {
    "duration": 3752,
    "start_time": "2023-05-31T08:35:00.861Z"
   },
   {
    "duration": 11630,
    "start_time": "2023-05-31T08:35:08.133Z"
   },
   {
    "duration": 1408,
    "start_time": "2023-05-31T08:35:19.765Z"
   },
   {
    "duration": 172,
    "start_time": "2023-05-31T08:35:21.174Z"
   },
   {
    "duration": 57,
    "start_time": "2023-05-31T08:35:21.349Z"
   },
   {
    "duration": 4886,
    "start_time": "2023-05-31T08:35:59.420Z"
   },
   {
    "duration": 36,
    "start_time": "2023-05-31T08:36:04.307Z"
   },
   {
    "duration": 55,
    "start_time": "2023-05-31T08:36:15.844Z"
   },
   {
    "duration": 36,
    "start_time": "2023-05-31T08:36:24.859Z"
   },
   {
    "duration": 21,
    "start_time": "2023-05-31T08:36:32.280Z"
   },
   {
    "duration": 7,
    "start_time": "2023-05-31T09:07:21.411Z"
   },
   {
    "duration": 1976,
    "start_time": "2023-05-31T20:15:42.343Z"
   },
   {
    "duration": 3,
    "start_time": "2023-05-31T20:15:44.321Z"
   },
   {
    "duration": 4609,
    "start_time": "2023-05-31T20:15:44.326Z"
   },
   {
    "duration": 2060,
    "start_time": "2023-05-31T20:15:48.938Z"
   },
   {
    "duration": 8,
    "start_time": "2023-05-31T20:16:57.586Z"
   },
   {
    "duration": 9,
    "start_time": "2023-05-31T20:18:13.522Z"
   },
   {
    "duration": 8678,
    "start_time": "2023-05-31T20:19:32.184Z"
   },
   {
    "duration": 16,
    "start_time": "2023-05-31T20:20:02.679Z"
   },
   {
    "duration": 469,
    "start_time": "2023-05-31T20:20:33.794Z"
   },
   {
    "duration": 1419,
    "start_time": "2023-05-31T20:20:50.628Z"
   },
   {
    "duration": 480,
    "start_time": "2023-05-31T20:22:49.347Z"
   },
   {
    "duration": 12,
    "start_time": "2023-05-31T20:22:50.753Z"
   },
   {
    "duration": 809,
    "start_time": "2023-05-31T20:22:58.067Z"
   },
   {
    "duration": 741,
    "start_time": "2023-05-31T20:23:26.316Z"
   },
   {
    "duration": 8,
    "start_time": "2023-05-31T20:23:27.198Z"
   },
   {
    "duration": 25,
    "start_time": "2023-05-31T20:23:30.029Z"
   },
   {
    "duration": 18,
    "start_time": "2023-05-31T20:24:03.005Z"
   },
   {
    "duration": 16,
    "start_time": "2023-05-31T20:26:53.402Z"
   },
   {
    "duration": 15,
    "start_time": "2023-05-31T20:27:22.827Z"
   },
   {
    "duration": 212,
    "start_time": "2023-05-31T20:27:36.048Z"
   },
   {
    "duration": 8,
    "start_time": "2023-05-31T20:27:52.177Z"
   },
   {
    "duration": 718,
    "start_time": "2023-05-31T20:27:57.775Z"
   },
   {
    "duration": 4,
    "start_time": "2023-05-31T20:28:04.367Z"
   },
   {
    "duration": 6,
    "start_time": "2023-05-31T20:28:21.690Z"
   },
   {
    "duration": 4,
    "start_time": "2023-05-31T20:29:11.909Z"
   },
   {
    "duration": 10,
    "start_time": "2023-05-31T20:29:25.172Z"
   },
   {
    "duration": 25,
    "start_time": "2023-05-31T20:29:38.373Z"
   },
   {
    "duration": 23,
    "start_time": "2023-05-31T20:29:41.781Z"
   },
   {
    "duration": 12,
    "start_time": "2023-05-31T20:29:48.750Z"
   },
   {
    "duration": 11,
    "start_time": "2023-05-31T20:29:57.767Z"
   },
   {
    "duration": 31,
    "start_time": "2023-05-31T20:30:12.576Z"
   },
   {
    "duration": 19,
    "start_time": "2023-05-31T20:30:24.329Z"
   },
   {
    "duration": 8,
    "start_time": "2023-05-31T20:30:35.302Z"
   },
   {
    "duration": 19,
    "start_time": "2023-05-31T20:30:44.409Z"
   },
   {
    "duration": 18,
    "start_time": "2023-05-31T20:30:56.732Z"
   },
   {
    "duration": 23,
    "start_time": "2023-05-31T20:30:59.459Z"
   },
   {
    "duration": 12,
    "start_time": "2023-05-31T20:33:08.812Z"
   },
   {
    "duration": 6,
    "start_time": "2023-05-31T20:34:03.344Z"
   },
   {
    "duration": 14,
    "start_time": "2023-05-31T20:34:22.208Z"
   },
   {
    "duration": 18,
    "start_time": "2023-05-31T20:34:29.537Z"
   },
   {
    "duration": 9,
    "start_time": "2023-05-31T20:34:35.833Z"
   },
   {
    "duration": 17,
    "start_time": "2023-05-31T20:36:35.306Z"
   },
   {
    "duration": 21,
    "start_time": "2023-05-31T20:36:39.107Z"
   },
   {
    "duration": 523,
    "start_time": "2023-05-31T20:36:46.211Z"
   },
   {
    "duration": 516,
    "start_time": "2023-05-31T20:36:59.260Z"
   },
   {
    "duration": 209,
    "start_time": "2023-05-31T20:37:01.771Z"
   },
   {
    "duration": 836,
    "start_time": "2023-05-31T20:38:29.283Z"
   },
   {
    "duration": 759,
    "start_time": "2023-05-31T20:38:30.121Z"
   },
   {
    "duration": 188,
    "start_time": "2023-05-31T20:39:47.016Z"
   },
   {
    "duration": 695,
    "start_time": "2023-05-31T20:39:56.199Z"
   },
   {
    "duration": 752,
    "start_time": "2023-05-31T20:39:57.414Z"
   },
   {
    "duration": 8113,
    "start_time": "2023-05-31T20:42:06.097Z"
   },
   {
    "duration": 7271,
    "start_time": "2023-05-31T20:43:57.369Z"
   },
   {
    "duration": 7,
    "start_time": "2023-05-31T20:44:07.457Z"
   },
   {
    "duration": 7418,
    "start_time": "2023-05-31T20:44:53.878Z"
   },
   {
    "duration": 194,
    "start_time": "2023-05-31T20:45:29.544Z"
   },
   {
    "duration": 262,
    "start_time": "2023-05-31T20:45:31.343Z"
   },
   {
    "duration": 729,
    "start_time": "2023-05-31T20:45:32.489Z"
   },
   {
    "duration": 6,
    "start_time": "2023-05-31T20:47:42.744Z"
   },
   {
    "duration": 12,
    "start_time": "2023-05-31T20:47:57.264Z"
   },
   {
    "duration": 15,
    "start_time": "2023-05-31T20:48:06.722Z"
   },
   {
    "duration": 18,
    "start_time": "2023-05-31T20:48:58.824Z"
   },
   {
    "duration": 16,
    "start_time": "2023-05-31T20:49:02.781Z"
   },
   {
    "duration": 14,
    "start_time": "2023-05-31T20:52:26.755Z"
   },
   {
    "duration": 47,
    "start_time": "2023-05-31T20:52:42.132Z"
   },
   {
    "duration": 12,
    "start_time": "2023-05-31T20:52:45.135Z"
   },
   {
    "duration": 11,
    "start_time": "2023-05-31T20:52:51.916Z"
   },
   {
    "duration": 12,
    "start_time": "2023-05-31T20:53:24.847Z"
   },
   {
    "duration": 6,
    "start_time": "2023-05-31T20:53:28.776Z"
   },
   {
    "duration": 18,
    "start_time": "2023-05-31T20:53:43.080Z"
   },
   {
    "duration": 6,
    "start_time": "2023-05-31T20:53:52.428Z"
   },
   {
    "duration": 18,
    "start_time": "2023-05-31T20:53:53.048Z"
   },
   {
    "duration": 3,
    "start_time": "2023-05-31T20:54:03.538Z"
   },
   {
    "duration": 785,
    "start_time": "2023-05-31T20:55:00.543Z"
   },
   {
    "duration": 5,
    "start_time": "2023-05-31T20:55:04.062Z"
   },
   {
    "duration": 211,
    "start_time": "2023-05-31T20:55:04.747Z"
   },
   {
    "duration": 664,
    "start_time": "2023-05-31T20:55:11.744Z"
   },
   {
    "duration": 322,
    "start_time": "2023-05-31T20:55:18.345Z"
   },
   {
    "duration": 4,
    "start_time": "2023-05-31T20:55:19.808Z"
   },
   {
    "duration": 621,
    "start_time": "2023-05-31T20:55:28.160Z"
   },
   {
    "duration": 196,
    "start_time": "2023-05-31T20:55:38.337Z"
   },
   {
    "duration": 703,
    "start_time": "2023-05-31T20:55:40.975Z"
   },
   {
    "duration": 4,
    "start_time": "2023-05-31T20:55:42.001Z"
   },
   {
    "duration": 726,
    "start_time": "2023-05-31T20:55:42.762Z"
   },
   {
    "duration": 7762,
    "start_time": "2023-05-31T20:56:28.955Z"
   },
   {
    "duration": 12682,
    "start_time": "2023-05-31T20:57:41.992Z"
   },
   {
    "duration": 1238,
    "start_time": "2023-05-31T20:57:58.282Z"
   },
   {
    "duration": 12908,
    "start_time": "2023-05-31T20:58:13.629Z"
   },
   {
    "duration": 5,
    "start_time": "2023-05-31T20:58:26.538Z"
   },
   {
    "duration": 13,
    "start_time": "2023-05-31T20:58:40.117Z"
   },
   {
    "duration": 32,
    "start_time": "2023-05-31T20:58:45.294Z"
   },
   {
    "duration": 8976,
    "start_time": "2023-05-31T21:12:48.545Z"
   },
   {
    "duration": 1615,
    "start_time": "2023-05-31T21:12:57.523Z"
   },
   {
    "duration": 11886,
    "start_time": "2023-05-31T21:13:45.222Z"
   },
   {
    "duration": 29,
    "start_time": "2023-05-31T21:13:57.111Z"
   },
   {
    "duration": 5,
    "start_time": "2023-05-31T21:14:24.823Z"
   },
   {
    "duration": 30,
    "start_time": "2023-05-31T21:14:33.853Z"
   },
   {
    "duration": 1665,
    "start_time": "2023-05-31T21:16:22.856Z"
   },
   {
    "duration": 10595,
    "start_time": "2023-05-31T21:19:46.732Z"
   },
   {
    "duration": 1643,
    "start_time": "2023-05-31T21:19:57.329Z"
   },
   {
    "duration": 197,
    "start_time": "2023-05-31T21:20:00.805Z"
   },
   {
    "duration": 235,
    "start_time": "2023-05-31T21:20:03.894Z"
   },
   {
    "duration": 11,
    "start_time": "2023-05-31T21:20:35.959Z"
   },
   {
    "duration": 30,
    "start_time": "2023-05-31T21:20:39.041Z"
   },
   {
    "duration": 58,
    "start_time": "2023-05-31T21:21:02.698Z"
   },
   {
    "duration": 34,
    "start_time": "2023-05-31T21:21:48.828Z"
   },
   {
    "duration": 200,
    "start_time": "2023-05-31T21:22:17.045Z"
   },
   {
    "duration": 1786,
    "start_time": "2023-05-31T21:22:45.874Z"
   },
   {
    "duration": 1790,
    "start_time": "2023-06-01T06:12:05.879Z"
   },
   {
    "duration": 4,
    "start_time": "2023-06-01T06:12:07.671Z"
   },
   {
    "duration": 5294,
    "start_time": "2023-06-01T06:12:07.677Z"
   },
   {
    "duration": 2150,
    "start_time": "2023-06-01T06:12:12.973Z"
   },
   {
    "duration": 7,
    "start_time": "2023-06-01T06:12:15.125Z"
   },
   {
    "duration": 9082,
    "start_time": "2023-06-01T06:12:15.133Z"
   },
   {
    "duration": 1424,
    "start_time": "2023-06-01T06:12:24.216Z"
   },
   {
    "duration": 341,
    "start_time": "2023-06-01T06:12:32.296Z"
   },
   {
    "duration": 2,
    "start_time": "2023-06-01T06:12:35.384Z"
   },
   {
    "duration": 690,
    "start_time": "2023-06-01T06:12:36.676Z"
   },
   {
    "duration": 7146,
    "start_time": "2023-06-01T06:12:46.632Z"
   },
   {
    "duration": 12009,
    "start_time": "2023-06-01T06:13:32.675Z"
   },
   {
    "duration": 1567,
    "start_time": "2023-06-01T06:13:44.686Z"
   },
   {
    "duration": 190,
    "start_time": "2023-06-01T06:14:04.421Z"
   },
   {
    "duration": 193,
    "start_time": "2023-06-01T06:14:07.290Z"
   },
   {
    "duration": 719,
    "start_time": "2023-06-01T06:15:27.283Z"
   },
   {
    "duration": 3773,
    "start_time": "2023-06-01T06:16:01.335Z"
   },
   {
    "duration": 4243,
    "start_time": "2023-06-01T06:16:33.152Z"
   },
   {
    "duration": 5715,
    "start_time": "2023-06-01T06:17:33.911Z"
   },
   {
    "duration": 168,
    "start_time": "2023-06-01T06:19:04.012Z"
   },
   {
    "duration": 117,
    "start_time": "2023-06-01T06:19:26.012Z"
   },
   {
    "duration": 24,
    "start_time": "2023-06-01T06:19:37.230Z"
   },
   {
    "duration": 22,
    "start_time": "2023-06-01T06:21:15.052Z"
   },
   {
    "duration": 51,
    "start_time": "2023-06-01T06:21:17.587Z"
   },
   {
    "duration": 34,
    "start_time": "2023-06-01T06:21:36.537Z"
   },
   {
    "duration": 31,
    "start_time": "2023-06-01T06:21:42.899Z"
   },
   {
    "duration": 52,
    "start_time": "2023-06-01T06:21:47.551Z"
   },
   {
    "duration": 21,
    "start_time": "2023-06-01T06:21:52.510Z"
   },
   {
    "duration": 12447,
    "start_time": "2023-06-01T06:22:51.242Z"
   },
   {
    "duration": 1757,
    "start_time": "2023-06-01T06:23:03.691Z"
   },
   {
    "duration": 10,
    "start_time": "2023-06-01T06:23:05.450Z"
   },
   {
    "duration": 249,
    "start_time": "2023-06-01T06:23:05.466Z"
   },
   {
    "duration": 21,
    "start_time": "2023-06-01T06:23:05.717Z"
   },
   {
    "duration": 52,
    "start_time": "2023-06-01T06:32:53.244Z"
   },
   {
    "duration": 34,
    "start_time": "2023-06-01T06:33:37.014Z"
   },
   {
    "duration": 36,
    "start_time": "2023-06-01T06:33:43.379Z"
   },
   {
    "duration": 179,
    "start_time": "2023-06-01T06:34:31.084Z"
   },
   {
    "duration": 160,
    "start_time": "2023-06-01T06:34:53.680Z"
   },
   {
    "duration": 178,
    "start_time": "2023-06-01T06:34:58.196Z"
   },
   {
    "duration": 158,
    "start_time": "2023-06-01T06:36:11.920Z"
   },
   {
    "duration": 748,
    "start_time": "2023-06-01T06:36:22.435Z"
   },
   {
    "duration": 203,
    "start_time": "2023-06-01T06:42:20.976Z"
   },
   {
    "duration": 82,
    "start_time": "2023-06-01T06:42:43.573Z"
   },
   {
    "duration": 52,
    "start_time": "2023-06-01T06:42:58.494Z"
   },
   {
    "duration": 48,
    "start_time": "2023-06-01T06:44:06.403Z"
   },
   {
    "duration": 244,
    "start_time": "2023-06-01T06:47:17.648Z"
   },
   {
    "duration": 57,
    "start_time": "2023-06-01T06:51:25.581Z"
   },
   {
    "duration": 3,
    "start_time": "2023-06-01T06:51:34.081Z"
   },
   {
    "duration": 5,
    "start_time": "2023-06-01T06:54:28.450Z"
   },
   {
    "duration": 4,
    "start_time": "2023-06-01T06:55:40.338Z"
   },
   {
    "duration": 6383,
    "start_time": "2023-06-01T06:55:47.320Z"
   },
   {
    "duration": 5,
    "start_time": "2023-06-01T06:56:28.577Z"
   },
   {
    "duration": 4,
    "start_time": "2023-06-01T06:56:29.185Z"
   },
   {
    "duration": 6418,
    "start_time": "2023-06-01T06:56:30.186Z"
   },
   {
    "duration": 3042,
    "start_time": "2023-06-01T06:56:41.700Z"
   },
   {
    "duration": 6620,
    "start_time": "2023-06-01T06:57:14.195Z"
   },
   {
    "duration": 19,
    "start_time": "2023-06-01T07:01:04.912Z"
   },
   {
    "duration": 13126,
    "start_time": "2023-06-01T07:01:15.781Z"
   },
   {
    "duration": 1753,
    "start_time": "2023-06-01T07:01:28.909Z"
   },
   {
    "duration": 3,
    "start_time": "2023-06-01T07:01:30.671Z"
   },
   {
    "duration": 255,
    "start_time": "2023-06-01T07:01:30.677Z"
   },
   {
    "duration": 223,
    "start_time": "2023-06-01T07:01:30.933Z"
   },
   {
    "duration": 6540,
    "start_time": "2023-06-01T07:01:31.163Z"
   },
   {
    "duration": 234,
    "start_time": "2023-06-01T07:01:37.705Z"
   },
   {
    "duration": 67599,
    "start_time": "2023-06-01T07:01:37.940Z"
   },
   {
    "duration": 5548,
    "start_time": "2023-06-01T07:02:45.541Z"
   },
   {
    "duration": 369,
    "start_time": "2023-06-01T07:02:51.091Z"
   },
   {
    "duration": 263,
    "start_time": "2023-06-01T07:02:51.466Z"
   },
   {
    "duration": 196,
    "start_time": "2023-06-01T07:02:51.731Z"
   },
   {
    "duration": 8,
    "start_time": "2023-06-01T07:04:37.125Z"
   },
   {
    "duration": 4,
    "start_time": "2023-06-01T07:07:10.680Z"
   },
   {
    "duration": 2416,
    "start_time": "2023-06-01T07:07:18.944Z"
   },
   {
    "duration": 5,
    "start_time": "2023-06-01T07:07:26.247Z"
   },
   {
    "duration": 211,
    "start_time": "2023-06-01T07:07:28.277Z"
   },
   {
    "duration": 3,
    "start_time": "2023-06-01T07:07:29.644Z"
   },
   {
    "duration": 15,
    "start_time": "2023-06-01T07:07:40.040Z"
   },
   {
    "duration": 4,
    "start_time": "2023-06-01T07:07:57.218Z"
   },
   {
    "duration": 4519,
    "start_time": "2023-06-01T07:07:57.778Z"
   },
   {
    "duration": 6,
    "start_time": "2023-06-01T07:08:16.681Z"
   },
   {
    "duration": 1321,
    "start_time": "2023-06-01T07:08:30.380Z"
   },
   {
    "duration": 1473,
    "start_time": "2023-06-01T07:08:39.141Z"
   },
   {
    "duration": 194,
    "start_time": "2023-06-01T07:09:22.688Z"
   },
   {
    "duration": 2251,
    "start_time": "2023-06-01T07:09:28.684Z"
   },
   {
    "duration": 6,
    "start_time": "2023-06-01T07:09:30.937Z"
   },
   {
    "duration": 176,
    "start_time": "2023-06-01T07:09:43.305Z"
   },
   {
    "duration": 4,
    "start_time": "2023-06-01T07:09:46.440Z"
   },
   {
    "duration": 1395,
    "start_time": "2023-06-01T07:09:49.181Z"
   },
   {
    "duration": 264,
    "start_time": "2023-06-01T07:09:50.580Z"
   },
   {
    "duration": 2184,
    "start_time": "2023-06-01T07:09:52.236Z"
   },
   {
    "duration": 5,
    "start_time": "2023-06-01T07:09:54.616Z"
   },
   {
    "duration": 185,
    "start_time": "2023-06-01T07:11:07.602Z"
   },
   {
    "duration": 1666,
    "start_time": "2023-06-01T07:11:08.280Z"
   },
   {
    "duration": 164,
    "start_time": "2023-06-01T07:11:21.884Z"
   },
   {
    "duration": 1650,
    "start_time": "2023-06-01T07:11:22.119Z"
   },
   {
    "duration": 5,
    "start_time": "2023-06-01T07:11:24.381Z"
   },
   {
    "duration": 312,
    "start_time": "2023-06-01T07:19:12.191Z"
   },
   {
    "duration": 280,
    "start_time": "2023-06-01T07:19:19.715Z"
   },
   {
    "duration": 1718,
    "start_time": "2023-06-01T07:19:36.292Z"
   },
   {
    "duration": 3,
    "start_time": "2023-06-01T07:19:38.012Z"
   },
   {
    "duration": 16067,
    "start_time": "2023-06-01T07:19:38.017Z"
   },
   {
    "duration": 2089,
    "start_time": "2023-06-01T07:19:54.087Z"
   },
   {
    "duration": 9,
    "start_time": "2023-06-01T07:19:56.178Z"
   },
   {
    "duration": 10094,
    "start_time": "2023-06-01T07:19:56.189Z"
   },
   {
    "duration": 1652,
    "start_time": "2023-06-01T07:20:06.285Z"
   },
   {
    "duration": 271,
    "start_time": "2023-06-01T07:20:07.940Z"
   },
   {
    "duration": 4,
    "start_time": "2023-06-01T07:20:08.213Z"
   },
   {
    "duration": 888,
    "start_time": "2023-06-01T07:20:08.221Z"
   },
   {
    "duration": 7459,
    "start_time": "2023-06-01T07:20:09.111Z"
   },
   {
    "duration": 11841,
    "start_time": "2023-06-01T07:20:16.573Z"
   },
   {
    "duration": 1579,
    "start_time": "2023-06-01T07:20:28.415Z"
   },
   {
    "duration": 2,
    "start_time": "2023-06-01T07:20:29.995Z"
   },
   {
    "duration": 289,
    "start_time": "2023-06-01T07:20:30.000Z"
   },
   {
    "duration": 196,
    "start_time": "2023-06-01T07:20:30.291Z"
   },
   {
    "duration": 6382,
    "start_time": "2023-06-01T07:20:30.489Z"
   },
   {
    "duration": 201,
    "start_time": "2023-06-01T07:20:36.873Z"
   },
   {
    "duration": 69095,
    "start_time": "2023-06-01T07:20:37.076Z"
   },
   {
    "duration": 5323,
    "start_time": "2023-06-01T07:21:46.173Z"
   },
   {
    "duration": 324,
    "start_time": "2023-06-01T07:21:51.498Z"
   },
   {
    "duration": 270,
    "start_time": "2023-06-01T07:21:51.824Z"
   },
   {
    "duration": 197,
    "start_time": "2023-06-01T07:21:52.096Z"
   },
   {
    "duration": 4684,
    "start_time": "2023-06-01T07:21:52.296Z"
   },
   {
    "duration": 7,
    "start_time": "2023-06-01T07:21:56.983Z"
   },
   {
    "duration": 585215,
    "start_time": "2023-06-01T07:21:56.992Z"
   },
   {
    "duration": 58,
    "start_time": "2023-06-01T07:31:42.209Z"
   },
   {
    "duration": 261,
    "start_time": "2023-06-01T07:31:42.273Z"
   },
   {
    "duration": 400,
    "start_time": "2023-06-01T07:31:42.536Z"
   },
   {
    "duration": 235,
    "start_time": "2023-06-01T07:31:42.938Z"
   },
   {
    "duration": 251,
    "start_time": "2023-06-01T07:31:43.175Z"
   },
   {
    "duration": 355,
    "start_time": "2023-06-01T07:31:43.428Z"
   },
   {
    "duration": 824,
    "start_time": "2023-06-01T07:31:43.785Z"
   }
  ],
  "kernelspec": {
   "display_name": "Python 3 (ipykernel)",
   "language": "python",
   "name": "python3"
  },
  "language_info": {
   "codemirror_mode": {
    "name": "ipython",
    "version": 3
   },
   "file_extension": ".py",
   "mimetype": "text/x-python",
   "name": "python",
   "nbconvert_exporter": "python",
   "pygments_lexer": "ipython3",
   "version": "3.9.5"
  },
  "toc": {
   "base_numbering": 1,
   "nav_menu": {},
   "number_sections": false,
   "sideBar": true,
   "skip_h1_title": false,
   "title_cell": "Table of Contents",
   "title_sidebar": "Contents",
   "toc_cell": false,
   "toc_position": {},
   "toc_section_display": true,
   "toc_window_display": false
  },
  "varInspector": {
   "cols": {
    "lenName": 16,
    "lenType": 16,
    "lenVar": 40
   },
   "kernels_config": {
    "python": {
     "delete_cmd_postfix": "",
     "delete_cmd_prefix": "del ",
     "library": "var_list.py",
     "varRefreshCmd": "print(var_dic_list())"
    },
    "r": {
     "delete_cmd_postfix": ") ",
     "delete_cmd_prefix": "rm(",
     "library": "var_list.r",
     "varRefreshCmd": "cat(var_dic_list()) "
    }
   },
   "types_to_exclude": [
    "module",
    "function",
    "builtin_function_or_method",
    "instance",
    "_Feature"
   ],
   "window_display": false
  }
 },
 "nbformat": 4,
 "nbformat_minor": 5
}
