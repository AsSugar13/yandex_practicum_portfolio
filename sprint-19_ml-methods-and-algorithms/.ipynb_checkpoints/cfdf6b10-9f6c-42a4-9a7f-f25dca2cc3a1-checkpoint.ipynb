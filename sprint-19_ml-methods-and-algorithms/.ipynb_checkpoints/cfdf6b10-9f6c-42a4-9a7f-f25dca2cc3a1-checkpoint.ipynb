{
 "cells": [
  {
   "cell_type": "markdown",
   "id": "7bdfbfe2",
   "metadata": {},
   "source": [
    "<div style=\"border:solid green 2px; padding: 20px\">\n",
    "<b>Привет, Тимурлан!</b>\n",
    "\n",
    "Меня зовут Александр, и я буду проверять твой проект. Предлагаю общаться на «ты» :) Но если это не удобно - дай знать, и мы перейдем на \"вы\". \n",
    "\n",
    "Моя основная цель — не указать на совершенные тобою ошибки, а поделиться своим опытом и помочь тебе стать data science. Ты уже проделал большую работу над проектом, но давай сделаем его еще лучше. Ниже ты найдешь мои комментарии - **пожалуйста, не перемещай, не изменяй и не удаляй их**. Увидев у тебя ошибку, в первый раз я лишь укажу на ее наличие и дам тебе возможность самой найти и исправить ее. На реальной работе твой начальник будет поступать так же, а я пытаюсь подготовить тебя именно к работе аналитиком. Но если ты пока не справишься с такой задачей - при следующей проверке я дам более точную подсказку. Я буду использовать цветовую разметку:\n",
    "\n",
    "<div class=\"alert alert-danger\">\n",
    "<b>Комментарий ревьюера ❌:</b> Так выделены самые важные замечания. Без их отработки проект не будет принят. </div>\n",
    "\n",
    "<div class=\"alert alert-warning\">\n",
    "<b>Комментарий ревьюера ⚠️:</b> Так выделены небольшие замечания. Я надеюсь, что их ты тоже учтешь - твой проект от этого станет только лучше. Но настаивать на их отработке не буду.\n",
    "\n",
    "</div>\n",
    "\n",
    "<div class=\"alert alert-success\">\n",
    "<b>Комментарий ревьюера ✔️:</b> Так я выделяю все остальные комментарии.</div>\n",
    "\n",
    "Давай работать над проектом в диалоге: **если ты что-то меняешь в проекте или отвечаешь на мои комменатри — пиши об этом.** Мне будет легче отследить изменения, если ты выделишь свои комментарии:\n",
    "<div class=\"alert alert-info\"> <b>Комментарий студента:</b> Например, вот так.</div>\n",
    "\n",
    "Всё это поможет выполнить повторную проверку твоего проекта оперативнее. "
   ]
  },
  {
   "cell_type": "markdown",
   "id": "corresponding-armstrong",
   "metadata": {
    "ExecuteTime": {
     "end_time": "2022-05-05T04:58:05.692448Z",
     "start_time": "2022-05-05T04:58:05.688565Z"
    }
   },
   "source": [
    "## Загрузка данных"
   ]
  },
  {
   "cell_type": "code",
   "execution_count": 1,
   "id": "90d3e05f",
   "metadata": {},
   "outputs": [],
   "source": [
    "import numpy as np\n",
    "import pandas as pd\n",
    "import matplotlib.pyplot as plt\n",
    "import seaborn as sns\n",
    "from math import ceil\n",
    "\n",
    "from sklearn.model_selection import train_test_split\n",
    "from sklearn.preprocessing import StandardScaler, OneHotEncoder\n",
    "\n",
    "import torch\n",
    "import torch.nn as nn"
   ]
  },
  {
   "cell_type": "code",
   "execution_count": 2,
   "id": "spectacular-folder",
   "metadata": {},
   "outputs": [],
   "source": [
    "df = pd.read_csv('/datasets/6_class.csv', index_col='Unnamed: 0')"
   ]
  },
  {
   "cell_type": "markdown",
   "id": "c339ec59",
   "metadata": {},
   "source": [
    "<div class=\"alert alert-success\">\n",
    "<b>Комментарий ревьюера ✔️:</b> Огонь, данные на месте)</div>"
   ]
  },
  {
   "cell_type": "code",
   "execution_count": 3,
   "id": "d0280712",
   "metadata": {},
   "outputs": [
    {
     "data": {
      "text/html": [
       "<div>\n",
       "<style scoped>\n",
       "    .dataframe tbody tr th:only-of-type {\n",
       "        vertical-align: middle;\n",
       "    }\n",
       "\n",
       "    .dataframe tbody tr th {\n",
       "        vertical-align: top;\n",
       "    }\n",
       "\n",
       "    .dataframe thead th {\n",
       "        text-align: right;\n",
       "    }\n",
       "</style>\n",
       "<table border=\"1\" class=\"dataframe\">\n",
       "  <thead>\n",
       "    <tr style=\"text-align: right;\">\n",
       "      <th></th>\n",
       "      <th>Temperature (K)</th>\n",
       "      <th>Luminosity(L/Lo)</th>\n",
       "      <th>Radius(R/Ro)</th>\n",
       "      <th>Absolute magnitude(Mv)</th>\n",
       "      <th>Star type</th>\n",
       "      <th>Star color</th>\n",
       "    </tr>\n",
       "  </thead>\n",
       "  <tbody>\n",
       "    <tr>\n",
       "      <th>0</th>\n",
       "      <td>3068</td>\n",
       "      <td>0.002400</td>\n",
       "      <td>0.1700</td>\n",
       "      <td>16.12</td>\n",
       "      <td>0</td>\n",
       "      <td>Red</td>\n",
       "    </tr>\n",
       "    <tr>\n",
       "      <th>1</th>\n",
       "      <td>3042</td>\n",
       "      <td>0.000500</td>\n",
       "      <td>0.1542</td>\n",
       "      <td>16.60</td>\n",
       "      <td>0</td>\n",
       "      <td>Red</td>\n",
       "    </tr>\n",
       "    <tr>\n",
       "      <th>2</th>\n",
       "      <td>2600</td>\n",
       "      <td>0.000300</td>\n",
       "      <td>0.1020</td>\n",
       "      <td>18.70</td>\n",
       "      <td>0</td>\n",
       "      <td>Red</td>\n",
       "    </tr>\n",
       "    <tr>\n",
       "      <th>3</th>\n",
       "      <td>2800</td>\n",
       "      <td>0.000200</td>\n",
       "      <td>0.1600</td>\n",
       "      <td>16.65</td>\n",
       "      <td>0</td>\n",
       "      <td>Red</td>\n",
       "    </tr>\n",
       "    <tr>\n",
       "      <th>4</th>\n",
       "      <td>1939</td>\n",
       "      <td>0.000138</td>\n",
       "      <td>0.1030</td>\n",
       "      <td>20.06</td>\n",
       "      <td>0</td>\n",
       "      <td>Red</td>\n",
       "    </tr>\n",
       "    <tr>\n",
       "      <th>...</th>\n",
       "      <td>...</td>\n",
       "      <td>...</td>\n",
       "      <td>...</td>\n",
       "      <td>...</td>\n",
       "      <td>...</td>\n",
       "      <td>...</td>\n",
       "    </tr>\n",
       "    <tr>\n",
       "      <th>235</th>\n",
       "      <td>38940</td>\n",
       "      <td>374830.000000</td>\n",
       "      <td>1356.0000</td>\n",
       "      <td>-9.93</td>\n",
       "      <td>5</td>\n",
       "      <td>Blue</td>\n",
       "    </tr>\n",
       "    <tr>\n",
       "      <th>236</th>\n",
       "      <td>30839</td>\n",
       "      <td>834042.000000</td>\n",
       "      <td>1194.0000</td>\n",
       "      <td>-10.63</td>\n",
       "      <td>5</td>\n",
       "      <td>Blue</td>\n",
       "    </tr>\n",
       "    <tr>\n",
       "      <th>237</th>\n",
       "      <td>8829</td>\n",
       "      <td>537493.000000</td>\n",
       "      <td>1423.0000</td>\n",
       "      <td>-10.73</td>\n",
       "      <td>5</td>\n",
       "      <td>White</td>\n",
       "    </tr>\n",
       "    <tr>\n",
       "      <th>238</th>\n",
       "      <td>9235</td>\n",
       "      <td>404940.000000</td>\n",
       "      <td>1112.0000</td>\n",
       "      <td>-11.23</td>\n",
       "      <td>5</td>\n",
       "      <td>White</td>\n",
       "    </tr>\n",
       "    <tr>\n",
       "      <th>239</th>\n",
       "      <td>37882</td>\n",
       "      <td>294903.000000</td>\n",
       "      <td>1783.0000</td>\n",
       "      <td>-7.80</td>\n",
       "      <td>5</td>\n",
       "      <td>Blue</td>\n",
       "    </tr>\n",
       "  </tbody>\n",
       "</table>\n",
       "<p>240 rows × 6 columns</p>\n",
       "</div>"
      ],
      "text/plain": [
       "     Temperature (K)  Luminosity(L/Lo)  Radius(R/Ro)  Absolute magnitude(Mv)  \\\n",
       "0               3068          0.002400        0.1700                   16.12   \n",
       "1               3042          0.000500        0.1542                   16.60   \n",
       "2               2600          0.000300        0.1020                   18.70   \n",
       "3               2800          0.000200        0.1600                   16.65   \n",
       "4               1939          0.000138        0.1030                   20.06   \n",
       "..               ...               ...           ...                     ...   \n",
       "235            38940     374830.000000     1356.0000                   -9.93   \n",
       "236            30839     834042.000000     1194.0000                  -10.63   \n",
       "237             8829     537493.000000     1423.0000                  -10.73   \n",
       "238             9235     404940.000000     1112.0000                  -11.23   \n",
       "239            37882     294903.000000     1783.0000                   -7.80   \n",
       "\n",
       "     Star type Star color  \n",
       "0            0        Red  \n",
       "1            0        Red  \n",
       "2            0        Red  \n",
       "3            0        Red  \n",
       "4            0        Red  \n",
       "..         ...        ...  \n",
       "235          5       Blue  \n",
       "236          5       Blue  \n",
       "237          5      White  \n",
       "238          5      White  \n",
       "239          5       Blue  \n",
       "\n",
       "[240 rows x 6 columns]"
      ]
     },
     "execution_count": 3,
     "metadata": {},
     "output_type": "execute_result"
    }
   ],
   "source": [
    "df"
   ]
  },
  {
   "cell_type": "code",
   "execution_count": 4,
   "id": "a717280c",
   "metadata": {},
   "outputs": [
    {
     "name": "stdout",
     "output_type": "stream",
     "text": [
      "<class 'pandas.core.frame.DataFrame'>\n",
      "Int64Index: 240 entries, 0 to 239\n",
      "Data columns (total 6 columns):\n",
      " #   Column                  Non-Null Count  Dtype  \n",
      "---  ------                  --------------  -----  \n",
      " 0   Temperature (K)         240 non-null    int64  \n",
      " 1   Luminosity(L/Lo)        240 non-null    float64\n",
      " 2   Radius(R/Ro)            240 non-null    float64\n",
      " 3   Absolute magnitude(Mv)  240 non-null    float64\n",
      " 4   Star type               240 non-null    int64  \n",
      " 5   Star color              240 non-null    object \n",
      "dtypes: float64(3), int64(2), object(1)\n",
      "memory usage: 13.1+ KB\n"
     ]
    },
    {
     "data": {
      "text/plain": [
       "None"
      ]
     },
     "metadata": {},
     "output_type": "display_data"
    },
    {
     "data": {
      "text/html": [
       "<div>\n",
       "<style scoped>\n",
       "    .dataframe tbody tr th:only-of-type {\n",
       "        vertical-align: middle;\n",
       "    }\n",
       "\n",
       "    .dataframe tbody tr th {\n",
       "        vertical-align: top;\n",
       "    }\n",
       "\n",
       "    .dataframe thead th {\n",
       "        text-align: right;\n",
       "    }\n",
       "</style>\n",
       "<table border=\"1\" class=\"dataframe\">\n",
       "  <thead>\n",
       "    <tr style=\"text-align: right;\">\n",
       "      <th></th>\n",
       "      <th>Temperature (K)</th>\n",
       "      <th>Luminosity(L/Lo)</th>\n",
       "      <th>Radius(R/Ro)</th>\n",
       "      <th>Absolute magnitude(Mv)</th>\n",
       "      <th>Star type</th>\n",
       "    </tr>\n",
       "  </thead>\n",
       "  <tbody>\n",
       "    <tr>\n",
       "      <th>count</th>\n",
       "      <td>240.000000</td>\n",
       "      <td>240.000000</td>\n",
       "      <td>240.000000</td>\n",
       "      <td>240.000000</td>\n",
       "      <td>240.000000</td>\n",
       "    </tr>\n",
       "    <tr>\n",
       "      <th>mean</th>\n",
       "      <td>10497.462500</td>\n",
       "      <td>107188.361635</td>\n",
       "      <td>237.157781</td>\n",
       "      <td>4.382396</td>\n",
       "      <td>2.500000</td>\n",
       "    </tr>\n",
       "    <tr>\n",
       "      <th>std</th>\n",
       "      <td>9552.425037</td>\n",
       "      <td>179432.244940</td>\n",
       "      <td>517.155763</td>\n",
       "      <td>10.532512</td>\n",
       "      <td>1.711394</td>\n",
       "    </tr>\n",
       "    <tr>\n",
       "      <th>min</th>\n",
       "      <td>1939.000000</td>\n",
       "      <td>0.000080</td>\n",
       "      <td>0.008400</td>\n",
       "      <td>-11.920000</td>\n",
       "      <td>0.000000</td>\n",
       "    </tr>\n",
       "    <tr>\n",
       "      <th>25%</th>\n",
       "      <td>3344.250000</td>\n",
       "      <td>0.000865</td>\n",
       "      <td>0.102750</td>\n",
       "      <td>-6.232500</td>\n",
       "      <td>1.000000</td>\n",
       "    </tr>\n",
       "    <tr>\n",
       "      <th>50%</th>\n",
       "      <td>5776.000000</td>\n",
       "      <td>0.070500</td>\n",
       "      <td>0.762500</td>\n",
       "      <td>8.313000</td>\n",
       "      <td>2.500000</td>\n",
       "    </tr>\n",
       "    <tr>\n",
       "      <th>75%</th>\n",
       "      <td>15055.500000</td>\n",
       "      <td>198050.000000</td>\n",
       "      <td>42.750000</td>\n",
       "      <td>13.697500</td>\n",
       "      <td>4.000000</td>\n",
       "    </tr>\n",
       "    <tr>\n",
       "      <th>max</th>\n",
       "      <td>40000.000000</td>\n",
       "      <td>849420.000000</td>\n",
       "      <td>1948.500000</td>\n",
       "      <td>20.060000</td>\n",
       "      <td>5.000000</td>\n",
       "    </tr>\n",
       "  </tbody>\n",
       "</table>\n",
       "</div>"
      ],
      "text/plain": [
       "       Temperature (K)  Luminosity(L/Lo)  Radius(R/Ro)  \\\n",
       "count       240.000000        240.000000    240.000000   \n",
       "mean      10497.462500     107188.361635    237.157781   \n",
       "std        9552.425037     179432.244940    517.155763   \n",
       "min        1939.000000          0.000080      0.008400   \n",
       "25%        3344.250000          0.000865      0.102750   \n",
       "50%        5776.000000          0.070500      0.762500   \n",
       "75%       15055.500000     198050.000000     42.750000   \n",
       "max       40000.000000     849420.000000   1948.500000   \n",
       "\n",
       "       Absolute magnitude(Mv)   Star type  \n",
       "count              240.000000  240.000000  \n",
       "mean                 4.382396    2.500000  \n",
       "std                 10.532512    1.711394  \n",
       "min                -11.920000    0.000000  \n",
       "25%                 -6.232500    1.000000  \n",
       "50%                  8.313000    2.500000  \n",
       "75%                 13.697500    4.000000  \n",
       "max                 20.060000    5.000000  "
      ]
     },
     "metadata": {},
     "output_type": "display_data"
    },
    {
     "data": {
      "text/html": [
       "<div>\n",
       "<style scoped>\n",
       "    .dataframe tbody tr th:only-of-type {\n",
       "        vertical-align: middle;\n",
       "    }\n",
       "\n",
       "    .dataframe tbody tr th {\n",
       "        vertical-align: top;\n",
       "    }\n",
       "\n",
       "    .dataframe thead th {\n",
       "        text-align: right;\n",
       "    }\n",
       "</style>\n",
       "<table border=\"1\" class=\"dataframe\">\n",
       "  <thead>\n",
       "    <tr style=\"text-align: right;\">\n",
       "      <th></th>\n",
       "      <th>Temperature (K)</th>\n",
       "      <th>Luminosity(L/Lo)</th>\n",
       "      <th>Radius(R/Ro)</th>\n",
       "      <th>Absolute magnitude(Mv)</th>\n",
       "      <th>Star type</th>\n",
       "      <th>Star color</th>\n",
       "    </tr>\n",
       "  </thead>\n",
       "  <tbody>\n",
       "    <tr>\n",
       "      <th>0</th>\n",
       "      <td>3068</td>\n",
       "      <td>0.002400</td>\n",
       "      <td>0.1700</td>\n",
       "      <td>16.12</td>\n",
       "      <td>0</td>\n",
       "      <td>Red</td>\n",
       "    </tr>\n",
       "    <tr>\n",
       "      <th>1</th>\n",
       "      <td>3042</td>\n",
       "      <td>0.000500</td>\n",
       "      <td>0.1542</td>\n",
       "      <td>16.60</td>\n",
       "      <td>0</td>\n",
       "      <td>Red</td>\n",
       "    </tr>\n",
       "    <tr>\n",
       "      <th>2</th>\n",
       "      <td>2600</td>\n",
       "      <td>0.000300</td>\n",
       "      <td>0.1020</td>\n",
       "      <td>18.70</td>\n",
       "      <td>0</td>\n",
       "      <td>Red</td>\n",
       "    </tr>\n",
       "    <tr>\n",
       "      <th>3</th>\n",
       "      <td>2800</td>\n",
       "      <td>0.000200</td>\n",
       "      <td>0.1600</td>\n",
       "      <td>16.65</td>\n",
       "      <td>0</td>\n",
       "      <td>Red</td>\n",
       "    </tr>\n",
       "    <tr>\n",
       "      <th>4</th>\n",
       "      <td>1939</td>\n",
       "      <td>0.000138</td>\n",
       "      <td>0.1030</td>\n",
       "      <td>20.06</td>\n",
       "      <td>0</td>\n",
       "      <td>Red</td>\n",
       "    </tr>\n",
       "  </tbody>\n",
       "</table>\n",
       "</div>"
      ],
      "text/plain": [
       "   Temperature (K)  Luminosity(L/Lo)  Radius(R/Ro)  Absolute magnitude(Mv)  \\\n",
       "0             3068          0.002400        0.1700                   16.12   \n",
       "1             3042          0.000500        0.1542                   16.60   \n",
       "2             2600          0.000300        0.1020                   18.70   \n",
       "3             2800          0.000200        0.1600                   16.65   \n",
       "4             1939          0.000138        0.1030                   20.06   \n",
       "\n",
       "   Star type Star color  \n",
       "0          0        Red  \n",
       "1          0        Red  \n",
       "2          0        Red  \n",
       "3          0        Red  \n",
       "4          0        Red  "
      ]
     },
     "metadata": {},
     "output_type": "display_data"
    }
   ],
   "source": [
    "display(df.info())\n",
    "display(df.describe())\n",
    "display(df.head())"
   ]
  },
  {
   "cell_type": "code",
   "execution_count": 5,
   "id": "c7fb09dd",
   "metadata": {},
   "outputs": [
    {
     "data": {
      "text/plain": [
       "Red                   112\n",
       "Blue                   55\n",
       "Blue-white             26\n",
       "Blue White             10\n",
       "yellow-white            8\n",
       "White                   7\n",
       "Blue white              3\n",
       "white                   3\n",
       "Yellowish White         3\n",
       "Orange                  2\n",
       "Whitish                 2\n",
       "yellowish               2\n",
       "Orange-Red              1\n",
       "Pale yellow orange      1\n",
       "Blue-White              1\n",
       "White-Yellow            1\n",
       "Blue white              1\n",
       "Blue                    1\n",
       "Yellowish               1\n",
       "Name: Star color, dtype: int64"
      ]
     },
     "metadata": {},
     "output_type": "display_data"
    },
    {
     "data": {
      "text/plain": [
       "Red                112\n",
       "Blue                56\n",
       "Blue_white          41\n",
       "Yellowish_White     11\n",
       "White               10\n",
       "Name: Star color, dtype: int64"
      ]
     },
     "metadata": {},
     "output_type": "display_data"
    }
   ],
   "source": [
    "display(df['Star color'].value_counts())\n",
    "\n",
    "colors = {'Blue White': 'Blue_white', \n",
    "            'Blue white': 'Blue_white', \n",
    "            'Blue-white': 'Blue_white',\n",
    "            'Blue white ': 'Blue_white', \n",
    "            'Blue-White': 'Blue_white', \n",
    "            'Red':'Red', \n",
    "            'White':'White',\n",
    "            'white':'White', \n",
    "            'Blue':'Blue', \n",
    "            'Blue ' :'Blue', \n",
    "            'Yellowish White': 'Yellowish_White',\n",
    "            'yellow-white': 'Yellowish_White', \n",
    "            'White-Yellow': 'White_Yellow',\n",
    "            'yellowish' : 'Yellowish', \n",
    "            'Yellowish': 'Yellowish',\n",
    "            'Orange':'Orange', \n",
    "            'Whitish' : 'Whitish', \n",
    "            'Orange-Red' : 'Orange_Red',\n",
    "            'Pale yellow orange' :'Pale_yellow_orange'\n",
    "            }\n",
    "\n",
    "df['Star color'].replace(colors, inplace=True)\n",
    "rife_stars = df['Star color'].value_counts()[df['Star color'].value_counts() > 5].index\n",
    "df = df.loc[df['Star color'].isin(rife_stars)]\n",
    "\n",
    "display(df['Star color'].value_counts())"
   ]
  },
  {
   "cell_type": "markdown",
   "id": "7d504cff",
   "metadata": {},
   "source": [
    "<div class=\"alert alert-info\"> <b>Комментарий студента:</b> С твоего позволения доработаю неявные дублика на основе твоего ноутбука и удалю редкие цвета звезд.</div>"
   ]
  },
  {
   "cell_type": "markdown",
   "id": "d8fca841",
   "metadata": {},
   "source": [
    "<div class=\"alert alert-success\">\n",
    "<b>Комментарий ревьюера V2✔️:</b>Хорошо\n",
    "</div>"
   ]
  },
  {
   "cell_type": "code",
   "execution_count": 6,
   "id": "9147debb",
   "metadata": {},
   "outputs": [
    {
     "data": {
      "text/plain": [
       "<AxesSubplot:xlabel='Temperature (K)', ylabel='Count'>"
      ]
     },
     "execution_count": 6,
     "metadata": {},
     "output_type": "execute_result"
    },
    {
     "data": {
      "image/png": "[encoded data removed]",
      "text/plain": [
       "<Figure size 432x288 with 1 Axes>"
      ]
     },
     "metadata": {
      "needs_background": "light"
     },
     "output_type": "display_data"
    }
   ],
   "source": [
    "sns.histplot(df['Temperature (K)'], bins=5)"
   ]
  },
  {
   "cell_type": "code",
   "execution_count": 7,
   "id": "65a8a409",
   "metadata": {
    "scrolled": false
   },
   "outputs": [
    {
     "name": "stderr",
     "output_type": "stream",
     "text": [
      "/tmp/ipykernel_215/2162018420.py:2: SettingWithCopyWarning: \n",
      "A value is trying to be set on a copy of a slice from a DataFrame.\n",
      "Try using .loc[row_indexer,col_indexer] = value instead\n",
      "\n",
      "See the caveats in the documentation: https://pandas.pydata.org/pandas-docs/stable/user_guide/indexing.html#returning-a-view-versus-a-copy\n",
      "  df['Temperature'] = pd.cut(df['Temperature (K)'],\n"
     ]
    },
    {
     "data": {
      "image/png": "[encoded data removed]",
      "text/plain": [
       "<Figure size 1012.88x900 with 30 Axes>"
      ]
     },
     "metadata": {
      "needs_background": "light"
     },
     "output_type": "display_data"
    }
   ],
   "source": [
    "# df['Temperature'] = pd.qcut(df['Temperature (K)'], 3, labels=range(3)).astype('int')\n",
    "df['Temperature'] = pd.cut(df['Temperature (K)'],\n",
    "                           bins=np.arange(0, 40000+1, 5000))\n",
    "sns.pairplot(df,\n",
    "             hue = 'Temperature')\n",
    "plt.show()"
   ]
  },
  {
   "cell_type": "markdown",
   "id": "24210e54",
   "metadata": {},
   "source": [
    "<div class=\"alert alert-success\">\n",
    "<b>Комментарий ревьюера ✔️:</b> Получилась хорошая визуализация:)</div>"
   ]
  },
  {
   "cell_type": "markdown",
   "id": "simple-subdivision",
   "metadata": {},
   "source": [
    "## Предобработка и анализ данных"
   ]
  },
  {
   "cell_type": "code",
   "execution_count": 8,
   "id": "328f9e2c",
   "metadata": {},
   "outputs": [
    {
     "data": {
      "text/html": [
       "<div>\n",
       "<style scoped>\n",
       "    .dataframe tbody tr th:only-of-type {\n",
       "        vertical-align: middle;\n",
       "    }\n",
       "\n",
       "    .dataframe tbody tr th {\n",
       "        vertical-align: top;\n",
       "    }\n",
       "\n",
       "    .dataframe thead th {\n",
       "        text-align: right;\n",
       "    }\n",
       "</style>\n",
       "<table border=\"1\" class=\"dataframe\">\n",
       "  <thead>\n",
       "    <tr style=\"text-align: right;\">\n",
       "      <th></th>\n",
       "      <th>Temperature (K)</th>\n",
       "      <th>Luminosity(L/Lo)</th>\n",
       "      <th>Radius(R/Ro)</th>\n",
       "      <th>Absolute magnitude(Mv)</th>\n",
       "      <th>Star type</th>\n",
       "      <th>Star color</th>\n",
       "      <th>Temperature</th>\n",
       "    </tr>\n",
       "  </thead>\n",
       "  <tbody>\n",
       "    <tr>\n",
       "      <th>0</th>\n",
       "      <td>3068</td>\n",
       "      <td>0.002400</td>\n",
       "      <td>0.1700</td>\n",
       "      <td>16.12</td>\n",
       "      <td>0</td>\n",
       "      <td>Red</td>\n",
       "      <td>(0, 5000]</td>\n",
       "    </tr>\n",
       "    <tr>\n",
       "      <th>1</th>\n",
       "      <td>3042</td>\n",
       "      <td>0.000500</td>\n",
       "      <td>0.1542</td>\n",
       "      <td>16.60</td>\n",
       "      <td>0</td>\n",
       "      <td>Red</td>\n",
       "      <td>(0, 5000]</td>\n",
       "    </tr>\n",
       "    <tr>\n",
       "      <th>2</th>\n",
       "      <td>2600</td>\n",
       "      <td>0.000300</td>\n",
       "      <td>0.1020</td>\n",
       "      <td>18.70</td>\n",
       "      <td>0</td>\n",
       "      <td>Red</td>\n",
       "      <td>(0, 5000]</td>\n",
       "    </tr>\n",
       "    <tr>\n",
       "      <th>3</th>\n",
       "      <td>2800</td>\n",
       "      <td>0.000200</td>\n",
       "      <td>0.1600</td>\n",
       "      <td>16.65</td>\n",
       "      <td>0</td>\n",
       "      <td>Red</td>\n",
       "      <td>(0, 5000]</td>\n",
       "    </tr>\n",
       "    <tr>\n",
       "      <th>4</th>\n",
       "      <td>1939</td>\n",
       "      <td>0.000138</td>\n",
       "      <td>0.1030</td>\n",
       "      <td>20.06</td>\n",
       "      <td>0</td>\n",
       "      <td>Red</td>\n",
       "      <td>(0, 5000]</td>\n",
       "    </tr>\n",
       "  </tbody>\n",
       "</table>\n",
       "</div>"
      ],
      "text/plain": [
       "   Temperature (K)  Luminosity(L/Lo)  Radius(R/Ro)  Absolute magnitude(Mv)  \\\n",
       "0             3068          0.002400        0.1700                   16.12   \n",
       "1             3042          0.000500        0.1542                   16.60   \n",
       "2             2600          0.000300        0.1020                   18.70   \n",
       "3             2800          0.000200        0.1600                   16.65   \n",
       "4             1939          0.000138        0.1030                   20.06   \n",
       "\n",
       "   Star type Star color Temperature  \n",
       "0          0        Red   (0, 5000]  \n",
       "1          0        Red   (0, 5000]  \n",
       "2          0        Red   (0, 5000]  \n",
       "3          0        Red   (0, 5000]  \n",
       "4          0        Red   (0, 5000]  "
      ]
     },
     "metadata": {},
     "output_type": "display_data"
    },
    {
     "data": {
      "text/plain": [
       "(230, 7)"
      ]
     },
     "metadata": {},
     "output_type": "display_data"
    }
   ],
   "source": [
    "display(df.head())\n",
    "display(df.shape)"
   ]
  },
  {
   "cell_type": "code",
   "execution_count": 9,
   "id": "flush-dream",
   "metadata": {},
   "outputs": [],
   "source": [
    "X = df.drop(['Temperature (K)', 'Temperature'], axis=1)\n",
    "y = df['Temperature (K)']\n",
    "\n",
    "X_train, X_test, y_train, y_test = train_test_split(X, y, test_size=0.2,\n",
    "                                                    random_state=99, shuffle=True, stratify=df['Temperature'])"
   ]
  },
  {
   "cell_type": "code",
   "execution_count": 10,
   "id": "9704d39b",
   "metadata": {},
   "outputs": [],
   "source": [
    "nums = X.select_dtypes(exclude='object').columns.to_list()\n",
    "cats = X.select_dtypes(include='object').columns.to_list()"
   ]
  },
  {
   "cell_type": "code",
   "execution_count": 11,
   "id": "2e299a7a",
   "metadata": {},
   "outputs": [],
   "source": [
    "scaler = StandardScaler()\n",
    "encoder = OneHotEncoder(handle_unknown='ignore', sparse=False)\n",
    "\n",
    "X_train_scaled = scaler.fit_transform(X_train[nums])\n",
    "X_train_encoded = encoder.fit_transform(X_train[cats])\n",
    "X_train = np.concatenate([X_train_scaled, X_train_encoded], axis=1)\n",
    "\n",
    "X_test_scaled = scaler.transform(X_test[nums])\n",
    "X_test_encoded = encoder.transform(X_test[cats])\n",
    "X_test = np.concatenate([X_test_scaled, X_test_encoded], axis=1)"
   ]
  },
  {
   "cell_type": "markdown",
   "id": "06fe490a",
   "metadata": {},
   "source": [
    "<div class=\"alert alert-success\">\n",
    "<b>Комментарий ревьюера ✔️:</b> Да, хорошо, можно еще попробовать с помощью ColumnTransformer \n",
    "\n",
    "\n",
    "\n",
    "```python\n",
    "    from sklearn.compose import ColumnTransformer\n",
    "    numeric = <your code>\n",
    "    categorical = <your code>\n",
    "    col_transformer = ColumnTransformer(\n",
    "                            transformers=[\n",
    "                                ('scaler', StandardScaler(), numeric),\n",
    "                                ('ohe', OneHotEncoder(sparse=False, drop='first'), categorical)],\n",
    "                                    remainder=\"passthrough\"\n",
    "                                      )\n",
    "\n",
    "    X_train = col_transformer.fit_transform(X_train)\n",
    "    X_test = col_transformer.transform(X_test)\n",
    "```\n",
    "+  https://scikit-learn.org/stable/modules/generated/sklearn.compose.ColumnTransformer.html\n",
    "+  https://towardsdatascience.com/using-columntransformer-to-combine-data-processing-steps-af383f7d5260\n",
    "+  https://medium.com/analytics-vidhya/handling-heterogeneous-features-in-a-dataset-using-columntransformer-aa525ebe0486 \n",
    "\n",
    "</div>\n"
   ]
  },
  {
   "cell_type": "code",
   "execution_count": 12,
   "id": "a0300923",
   "metadata": {},
   "outputs": [],
   "source": [
    "X_train = torch.Tensor(X_train)\n",
    "y_train = torch.Tensor(y_train.values)\n",
    "X_test = torch.Tensor(X_test)\n",
    "y_test = torch.Tensor(y_test.values)"
   ]
  },
  {
   "cell_type": "code",
   "execution_count": 13,
   "id": "1172b64f",
   "metadata": {},
   "outputs": [
    {
     "data": {
      "text/plain": [
       "torch.Size([184, 9])"
      ]
     },
     "execution_count": 13,
     "metadata": {},
     "output_type": "execute_result"
    }
   ],
   "source": [
    "X_train.shape"
   ]
  },
  {
   "cell_type": "markdown",
   "id": "funded-electric",
   "metadata": {},
   "source": [
    "## Построение базовой нейронной сети"
   ]
  },
  {
   "cell_type": "code",
   "execution_count": 14,
   "id": "forced-concentrate",
   "metadata": {},
   "outputs": [],
   "source": [
    "class NeuralNet(nn.Module):\n",
    "    def __init__(self, n_neurons=[64, 32, 16, 8, 1], dropout_p=0.3, activation=nn.ReLU()):\n",
    "        super(NeuralNet, self).__init__()\n",
    "\n",
    "        net_layers = []\n",
    "        for i in range(1, len(n_neurons) - 1):\n",
    "            net_layers.append(nn.Linear(n_neurons[i-1], n_neurons[i]))\n",
    "            net_layers.append(nn.BatchNorm1d(n_neurons[i]))\n",
    "            net_layers.append(activation)\n",
    "            net_layers.append(nn.Dropout(dropout_p))\n",
    "        net_layers.append(nn.Linear(n_neurons[-2], n_neurons[-1]))\n",
    "        \n",
    "        self.fc = nn.Sequential(*net_layers)\n",
    "        \n",
    "    def forward(self, x):\n",
    "        return self.fc(x).flatten()"
   ]
  },
  {
   "cell_type": "code",
   "execution_count": 15,
   "id": "f22a58f6",
   "metadata": {},
   "outputs": [
    {
     "data": {
      "text/plain": [
       "NeuralNet(\n",
       "  (fc): Sequential(\n",
       "    (0): Linear(in_features=9, out_features=128, bias=True)\n",
       "    (1): BatchNorm1d(128, eps=1e-05, momentum=0.1, affine=True, track_running_stats=True)\n",
       "    (2): ReLU()\n",
       "    (3): Dropout(p=0.3, inplace=False)\n",
       "    (4): Linear(in_features=128, out_features=64, bias=True)\n",
       "    (5): BatchNorm1d(64, eps=1e-05, momentum=0.1, affine=True, track_running_stats=True)\n",
       "    (6): ReLU()\n",
       "    (7): Dropout(p=0.3, inplace=False)\n",
       "    (8): Linear(in_features=64, out_features=32, bias=True)\n",
       "    (9): BatchNorm1d(32, eps=1e-05, momentum=0.1, affine=True, track_running_stats=True)\n",
       "    (10): ReLU()\n",
       "    (11): Dropout(p=0.3, inplace=False)\n",
       "    (12): Linear(in_features=32, out_features=16, bias=True)\n",
       "    (13): BatchNorm1d(16, eps=1e-05, momentum=0.1, affine=True, track_running_stats=True)\n",
       "    (14): ReLU()\n",
       "    (15): Dropout(p=0.3, inplace=False)\n",
       "    (16): Linear(in_features=16, out_features=1, bias=True)\n",
       "  )\n",
       ")"
      ]
     },
     "execution_count": 15,
     "metadata": {},
     "output_type": "execute_result"
    }
   ],
   "source": [
    "net = NeuralNet(n_neurons=[9, 128, 64, 32, 16, 1])\n",
    "criterion = nn.MSELoss()\n",
    "optimizer = torch.optim.Adam(net.parameters(), lr=0.05)\n",
    "\n",
    "for param in net.fc:\n",
    "    if isinstance(param, nn.Linear):\n",
    "        nn.init.kaiming_normal_(param.weight)\n",
    "        nn.init.uniform_(param.bias)\n",
    "\n",
    "net"
   ]
  },
  {
   "cell_type": "markdown",
   "id": "eb989815",
   "metadata": {},
   "source": [
    "<div class=\"alert alert-success\">\n",
    "<b>Комментарий ревьюера ✔️:</b> Хорошо\n",
    "</div>\n"
   ]
  },
  {
   "cell_type": "code",
   "execution_count": 16,
   "id": "af5ab16e",
   "metadata": {},
   "outputs": [],
   "source": [
    "def train(model, optimizer, criterion,\n",
    "          train_list, test_list,\n",
    "          num_epochs=5, batch_size=8, print_every=1, verbose=True):\n",
    "    \n",
    "    num_batches = ceil(len(X_train)/batch_size)\n",
    "    \n",
    "    for epoch in range(num_epochs):\n",
    "        loss_train = 0\n",
    "        order = np.random.permutation(len(X_train))\n",
    "        for batch_idx in range(num_batches):\n",
    "            start_index = batch_idx * batch_size\n",
    "            optimizer.zero_grad()\n",
    "\n",
    "            batch_indexes = order[start_index:start_index+batch_size]\n",
    "            X_batch = X_train[batch_indexes]\n",
    "            y_batch = y_train[batch_indexes]\n",
    "\n",
    "            preds = model.forward(X_batch)\n",
    "            loss_value = criterion(preds, y_batch)\n",
    "            loss_train += loss_value.item()\n",
    "\n",
    "            loss_value.backward()\n",
    "            optimizer.step()\n",
    "\n",
    "        if (epoch+1) % print_every == 0:\n",
    "            with torch.no_grad():\n",
    "                model.eval()\n",
    "                test_preds = model.forward(X_test)\n",
    "                loss_test = criterion(test_preds, y_test).item()\n",
    "                if (verbose==True):\n",
    "                    print(f'Эпоха {epoch+1}', '\\n',\n",
    "                          f'RMSE на тренировочной выборке {loss_train**(1/2)/num_batches:.2f}', '\\n',\n",
    "                          f'RMSE не тестировочной выборке {loss_test**(1/2):.2f}')\n",
    "                train_list.append(loss_train**(1/2)/num_batches)\n",
    "                test_list.append(loss_test**(1/2))\n",
    "            model.train()"
   ]
  },
  {
   "cell_type": "markdown",
   "id": "ae2bde06",
   "metadata": {},
   "source": [
    "<div class=\"alert alert-success\">\n",
    "<b>Комментарий ревьюера ✔️:</b>\n",
    "\n",
    "Да, хорошо, сгладить выход можно следующим образом:\n",
    "    \n",
    "В `PyTorch` параметр `start_dim` в методе `flatten()` указывает на размерность тензора, начиная с которой происходит сглаживание `(flatten)`.\n",
    "\n",
    "При использовании `start_dim=0`, весь тензор будет сглажен в одномерный вектор, начиная с первого элемента. Если указать `start_dim=1`, то первый элемент тензора останется без изменения, а остальные элементы будут сглажены. Если start_dim=2, то первые две размерности тензора останутся без изменения, а все остальные размерности будут сглажены в одномерный вектор. И так далее.\n",
    "\n",
    "    \n",
    "Поэтому получаем:    \n",
    "   \n",
    "```python\n",
    "class Net(nn.Module):\n",
    "    def __init__(self):\n",
    "        super(Net, self).__init__()  \n",
    "        self.fc1= nn.Linear(in_neurons,n_hidden_neurons)\n",
    "        self.fc2= nn.Linear(n_hidden_neurons,n_oout_neurons)\n",
    "        self.relu = nn.ReLU()\n",
    "        self.flatten = nn.Flatten(start_dim=0)\n",
    "    def forward(self,x):\n",
    "        x = self.fc1(x)\n",
    "        x = self.relu(x)\n",
    "        x = self.fc2(x)\n",
    "        x = self.relu(x)\n",
    "        return self.flatten(x)        \n",
    "```\n",
    "\n",
    "\n",
    "\n",
    "</div>\n"
   ]
  },
  {
   "cell_type": "code",
   "execution_count": 17,
   "id": "fc56089e",
   "metadata": {},
   "outputs": [
    {
     "name": "stdout",
     "output_type": "stream",
     "text": [
      "Эпоха 10 \n",
      " RMSE на тренировочной выборке 3795.46 \n",
      " RMSE не тестировочной выборке 13092.74\n",
      "Эпоха 20 \n",
      " RMSE на тренировочной выборке 2779.83 \n",
      " RMSE не тестировочной выборке 9160.52\n",
      "Эпоха 30 \n",
      " RMSE на тренировочной выборке 2083.18 \n",
      " RMSE не тестировочной выборке 6163.39\n",
      "Эпоха 40 \n",
      " RMSE на тренировочной выборке 1682.62 \n",
      " RMSE не тестировочной выборке 4896.56\n",
      "Эпоха 50 \n",
      " RMSE на тренировочной выборке 1664.69 \n",
      " RMSE не тестировочной выборке 4450.39\n",
      "Эпоха 60 \n",
      " RMSE на тренировочной выборке 1898.00 \n",
      " RMSE не тестировочной выборке 4535.84\n",
      "Эпоха 70 \n",
      " RMSE на тренировочной выборке 1639.89 \n",
      " RMSE не тестировочной выборке 4308.11\n",
      "Эпоха 80 \n",
      " RMSE на тренировочной выборке 1730.45 \n",
      " RMSE не тестировочной выборке 4690.58\n",
      "Эпоха 90 \n",
      " RMSE на тренировочной выборке 1762.05 \n",
      " RMSE не тестировочной выборке 4634.24\n",
      "Эпоха 100 \n",
      " RMSE на тренировочной выборке 1662.32 \n",
      " RMSE не тестировочной выборке 4378.01\n"
     ]
    }
   ],
   "source": [
    "train_list = []\n",
    "test_list = []\n",
    "train(net, optimizer, criterion,\n",
    "      train_list, test_list,\n",
    "      num_epochs=100, batch_size=16, print_every=10,\n",
    "      verbose=True)"
   ]
  },
  {
   "cell_type": "code",
   "execution_count": 18,
   "id": "0cbc0e19",
   "metadata": {},
   "outputs": [
    {
     "data": {
      "text/plain": [
       "<matplotlib.legend.Legend at 0x7f8527c74580>"
      ]
     },
     "execution_count": 18,
     "metadata": {},
     "output_type": "execute_result"
    },
    {
     "data": {
      "image/png": "[encoded data removed]",
      "text/plain": [
       "<Figure size 432x288 with 1 Axes>"
      ]
     },
     "metadata": {
      "needs_background": "light"
     },
     "output_type": "display_data"
    }
   ],
   "source": [
    "sns.lineplot(y=train_list, x=range(len(train_list)))\n",
    "sns.lineplot(y=test_list, x=range(len(test_list)))\n",
    "\n",
    "plt.title('RMSE model errors')\n",
    "plt.ylabel('RMSE')\n",
    "plt.xlabel('10x epochs')\n",
    "plt.ylim(bottom=0, top=15000)\n",
    "plt.legend(['train', 'test'])"
   ]
  },
  {
   "cell_type": "markdown",
   "id": "7f6c73dd",
   "metadata": {},
   "source": [
    "<div class=\"alert alert-success\">\n",
    "<b>Комментарий ревьюера ✔️:</b>Молодец, что визуализировал обучение (только подпиши где train, а где test)\n",
    "\n",
    "\n",
    "</div>\n"
   ]
  },
  {
   "cell_type": "code",
   "execution_count": 19,
   "id": "0a0c4068",
   "metadata": {},
   "outputs": [
    {
     "data": {
      "image/png": "[encoded data removed]",
      "text/plain": [
       "<Figure size 1152x648 with 1 Axes>"
      ]
     },
     "metadata": {
      "needs_background": "light"
     },
     "output_type": "display_data"
    }
   ],
   "source": [
    "with torch.no_grad():\n",
    "    preds_test = net.forward(X_test).cpu().detach().numpy()\n",
    "\n",
    "preds_series = pd.DataFrame(preds_test.reshape(-1, 1), columns=['preds'])\n",
    "test_series = pd.DataFrame(y_test.numpy(), columns=['true'])\n",
    "visual = pd.concat([preds_series, test_series], axis=1)\n",
    "\n",
    "visual.plot(kind='bar',\n",
    "            figsize=(16, 9), xlabel = 'Порядковый номер звезды', ylabel = 'Температура звезды в Кельвинах')\n",
    "plt.show()"
   ]
  },
  {
   "cell_type": "markdown",
   "id": "43a86b38",
   "metadata": {},
   "source": [
    "<div class=\"alert alert-success\">\n",
    "<b>Комментарий ревьюера ✔️:</b>Хорошо\n",
    "\n",
    "\n",
    "</div>\n"
   ]
  },
  {
   "cell_type": "markdown",
   "id": "growing-supply",
   "metadata": {},
   "source": [
    "## Улучшение нейронной сети"
   ]
  },
  {
   "cell_type": "code",
   "execution_count": 20,
   "id": "acceptable-forwarding",
   "metadata": {},
   "outputs": [
    {
     "name": "stdout",
     "output_type": "stream",
     "text": [
      "CPU times: user 42min 33s, sys: 34.6 s, total: 43min 7s\n",
      "Wall time: 43min 24s\n"
     ]
    }
   ],
   "source": [
    "%%time\n",
    "report_data = []\n",
    "\n",
    "dropouts = [0., 0.3, 0.5]\n",
    "num_epochs = [100, 200, 300]\n",
    "batch_sizes = [8, 16, 32]\n",
    "\n",
    "################################################################# Params\n",
    "for dropout in dropouts:\n",
    "    for num_epoch in num_epochs:\n",
    "        for batch_size in batch_sizes:\n",
    "            \n",
    "################################################################# Model\n",
    "            net = NeuralNet(n_neurons=[9, 128, 64, 32, 16, 1], dropout_p=dropout)\n",
    "            criterion = nn.MSELoss()\n",
    "            optimizer = torch.optim.Adam(net.parameters(), lr=0.05)\n",
    "\n",
    "            for param in net.fc:\n",
    "                if isinstance(param, nn.Linear):\n",
    "                    nn.init.kaiming_normal_(param.weight)\n",
    "                    nn.init.uniform_(param.bias)\n",
    "                    \n",
    "################################################################# Training\n",
    "            train_list = []\n",
    "            test_list = []\n",
    "            train(net, optimizer, criterion,\n",
    "                  train_list, test_list,\n",
    "                  num_epochs=num_epoch, batch_size=batch_size, print_every=5, verbose=False)\n",
    "            with torch.no_grad(): test_preds = net.forward(X_test).cpu().detach().numpy()\n",
    "            \n",
    "################################################################# Report\n",
    "            report_data.append([dropout, num_epoch, batch_size, train_list, test_list, test_preds])"
   ]
  },
  {
   "cell_type": "code",
   "execution_count": 21,
   "id": "83925f98",
   "metadata": {},
   "outputs": [],
   "source": [
    "data = pd.DataFrame(report_data, columns=['dropout', 'num_epoch', 'batch_size', 'train_scores', 'test_scores', 'test_preds'])\n",
    "data['test_scores_low20'] = data['test_scores'].apply(lambda x: pd.Series(x).quantile(0.2))\n",
    "data.sort_values('test_scores_low20', inplace=True)"
   ]
  },
  {
   "cell_type": "code",
   "execution_count": 22,
   "id": "493a82d0",
   "metadata": {},
   "outputs": [
    {
     "data": {
      "text/html": [
       "<div>\n",
       "<style scoped>\n",
       "    .dataframe tbody tr th:only-of-type {\n",
       "        vertical-align: middle;\n",
       "    }\n",
       "\n",
       "    .dataframe tbody tr th {\n",
       "        vertical-align: top;\n",
       "    }\n",
       "\n",
       "    .dataframe thead th {\n",
       "        text-align: right;\n",
       "    }\n",
       "</style>\n",
       "<table border=\"1\" class=\"dataframe\">\n",
       "  <thead>\n",
       "    <tr style=\"text-align: right;\">\n",
       "      <th></th>\n",
       "      <th>dropout</th>\n",
       "      <th>num_epoch</th>\n",
       "      <th>batch_size</th>\n",
       "      <th>train_scores</th>\n",
       "      <th>test_scores</th>\n",
       "      <th>test_preds</th>\n",
       "      <th>test_scores_low20</th>\n",
       "    </tr>\n",
       "  </thead>\n",
       "  <tbody>\n",
       "    <tr>\n",
       "      <th>17</th>\n",
       "      <td>0.3</td>\n",
       "      <td>300</td>\n",
       "      <td>32</td>\n",
       "      <td>[5879.8169094699615, 5798.906525276027, 5619.9...</td>\n",
       "      <td>[14314.731991902609, 14106.659420287993, 13665...</td>\n",
       "      <td>[16784.57, 2077.1929, 3450.2388, 3786.3289, 12...</td>\n",
       "      <td>3906.967650</td>\n",
       "    </tr>\n",
       "    <tr>\n",
       "      <th>7</th>\n",
       "      <td>0.0</td>\n",
       "      <td>300</td>\n",
       "      <td>16</td>\n",
       "      <td>[4065.128602585108, 3845.7571715102113, 3360.2...</td>\n",
       "      <td>[14108.449666777708, 12866.560068643055, 10702...</td>\n",
       "      <td>[25466.604, 2844.4338, 2788.725, 2946.0574, 10...</td>\n",
       "      <td>3951.020969</td>\n",
       "    </tr>\n",
       "    <tr>\n",
       "      <th>8</th>\n",
       "      <td>0.0</td>\n",
       "      <td>300</td>\n",
       "      <td>32</td>\n",
       "      <td>[5877.05143380212, 5792.052639417029, 5599.619...</td>\n",
       "      <td>[14314.225651428023, 14098.23818780205, 13551....</td>\n",
       "      <td>[30221.41, 2965.0366, 3769.9785, 1627.4741, 88...</td>\n",
       "      <td>4009.995440</td>\n",
       "    </tr>\n",
       "    <tr>\n",
       "      <th>5</th>\n",
       "      <td>0.0</td>\n",
       "      <td>200</td>\n",
       "      <td>32</td>\n",
       "      <td>[5895.605180508991, 5806.109272902887, 5663.33...</td>\n",
       "      <td>[14321.178163824372, 14099.818438547356, 13783...</td>\n",
       "      <td>[30135.865, 2961.805, 3492.8066, 4187.8496, 10...</td>\n",
       "      <td>4032.157565</td>\n",
       "    </tr>\n",
       "    <tr>\n",
       "      <th>4</th>\n",
       "      <td>0.0</td>\n",
       "      <td>200</td>\n",
       "      <td>16</td>\n",
       "      <td>[4118.1264280954, 3845.5946874313213, 3341.283...</td>\n",
       "      <td>[14049.199265438583, 13023.700242250663, 11145...</td>\n",
       "      <td>[23673.729, 3746.268, 3992.6304, 4227.2764, 90...</td>\n",
       "      <td>4032.736200</td>\n",
       "    </tr>\n",
       "  </tbody>\n",
       "</table>\n",
       "</div>"
      ],
      "text/plain": [
       "    dropout  num_epoch  batch_size  \\\n",
       "17      0.3        300          32   \n",
       "7       0.0        300          16   \n",
       "8       0.0        300          32   \n",
       "5       0.0        200          32   \n",
       "4       0.0        200          16   \n",
       "\n",
       "                                         train_scores  \\\n",
       "17  [5879.8169094699615, 5798.906525276027, 5619.9...   \n",
       "7   [4065.128602585108, 3845.7571715102113, 3360.2...   \n",
       "8   [5877.05143380212, 5792.052639417029, 5599.619...   \n",
       "5   [5895.605180508991, 5806.109272902887, 5663.33...   \n",
       "4   [4118.1264280954, 3845.5946874313213, 3341.283...   \n",
       "\n",
       "                                          test_scores  \\\n",
       "17  [14314.731991902609, 14106.659420287993, 13665...   \n",
       "7   [14108.449666777708, 12866.560068643055, 10702...   \n",
       "8   [14314.225651428023, 14098.23818780205, 13551....   \n",
       "5   [14321.178163824372, 14099.818438547356, 13783...   \n",
       "4   [14049.199265438583, 13023.700242250663, 11145...   \n",
       "\n",
       "                                           test_preds  test_scores_low20  \n",
       "17  [16784.57, 2077.1929, 3450.2388, 3786.3289, 12...        3906.967650  \n",
       "7   [25466.604, 2844.4338, 2788.725, 2946.0574, 10...        3951.020969  \n",
       "8   [30221.41, 2965.0366, 3769.9785, 1627.4741, 88...        4009.995440  \n",
       "5   [30135.865, 2961.805, 3492.8066, 4187.8496, 10...        4032.157565  \n",
       "4   [23673.729, 3746.268, 3992.6304, 4227.2764, 90...        4032.736200  "
      ]
     },
     "execution_count": 22,
     "metadata": {},
     "output_type": "execute_result"
    }
   ],
   "source": [
    "data.head(5)"
   ]
  },
  {
   "cell_type": "code",
   "execution_count": 23,
   "id": "d58106eb",
   "metadata": {
    "scrolled": false
   },
   "outputs": [
    {
     "name": "stdout",
     "output_type": "stream",
     "text": [
      "Model with params dropout - 0.3, \n",
      "          num_epoch - 300, \n",
      "          batch_size - 32, \n",
      "          has last test RMSE error - 3906.97\n"
     ]
    },
    {
     "data": {
      "image/png": "[encoded data removed]",
      "text/plain": [
       "<Figure size 432x288 with 1 Axes>"
      ]
     },
     "metadata": {
      "needs_background": "light"
     },
     "output_type": "display_data"
    },
    {
     "data": {
      "image/png": "[encoded data removed]",
      "text/plain": [
       "<Figure size 1152x360 with 1 Axes>"
      ]
     },
     "metadata": {
      "needs_background": "light"
     },
     "output_type": "display_data"
    },
    {
     "name": "stdout",
     "output_type": "stream",
     "text": [
      "######################################################################\n",
      "Model with params dropout - 0.0, \n",
      "          num_epoch - 300, \n",
      "          batch_size - 16, \n",
      "          has last test RMSE error - 3951.02\n"
     ]
    },
    {
     "data": {
      "image/png": "[encoded data removed]",
      "text/plain": [
       "<Figure size 432x288 with 1 Axes>"
      ]
     },
     "metadata": {
      "needs_background": "light"
     },
     "output_type": "display_data"
    },
    {
     "data": {
      "image/png": "[encoded data removed]",
      "text/plain": [
       "<Figure size 1152x360 with 1 Axes>"
      ]
     },
     "metadata": {
      "needs_background": "light"
     },
     "output_type": "display_data"
    },
    {
     "name": "stdout",
     "output_type": "stream",
     "text": [
      "######################################################################\n",
      "Model with params dropout - 0.0, \n",
      "          num_epoch - 300, \n",
      "          batch_size - 32, \n",
      "          has last test RMSE error - 4010.00\n"
     ]
    },
    {
     "data": {
      "image/png": "[encoded data removed]",
      "text/plain": [
       "<Figure size 432x288 with 1 Axes>"
      ]
     },
     "metadata": {
      "needs_background": "light"
     },
     "output_type": "display_data"
    },
    {
     "data": {
      "image/png": "[encoded data removed]",
      "text/plain": [
       "<Figure size 1152x360 with 1 Axes>"
      ]
     },
     "metadata": {
      "needs_background": "light"
     },
     "output_type": "display_data"
    },
    {
     "name": "stdout",
     "output_type": "stream",
     "text": [
      "######################################################################\n",
      "Model with params dropout - 0.0, \n",
      "          num_epoch - 200, \n",
      "          batch_size - 32, \n",
      "          has last test RMSE error - 4032.16\n"
     ]
    },
    {
     "data": {
      "image/png": "[encoded data removed]",
      "text/plain": [
       "<Figure size 432x288 with 1 Axes>"
      ]
     },
     "metadata": {
      "needs_background": "light"
     },
     "output_type": "display_data"
    },
    {
     "data": {
      "image/png": "[encoded data removed]",
      "text/plain": [
       "<Figure size 1152x360 with 1 Axes>"
      ]
     },
     "metadata": {
      "needs_background": "light"
     },
     "output_type": "display_data"
    },
    {
     "name": "stdout",
     "output_type": "stream",
     "text": [
      "######################################################################\n",
      "Model with params dropout - 0.0, \n",
      "          num_epoch - 200, \n",
      "          batch_size - 16, \n",
      "          has last test RMSE error - 4032.74\n"
     ]
    },
    {
     "data": {
      "image/png": "[encoded data removed]",
      "text/plain": [
       "<Figure size 432x288 with 1 Axes>"
      ]
     },
     "metadata": {
      "needs_background": "light"
     },
     "output_type": "display_data"
    },
    {
     "data": {
      "image/png": "[encoded data removed]",
      "text/plain": [
       "<Figure size 1152x360 with 1 Axes>"
      ]
     },
     "metadata": {
      "needs_background": "light"
     },
     "output_type": "display_data"
    },
    {
     "name": "stdout",
     "output_type": "stream",
     "text": [
      "######################################################################\n"
     ]
    }
   ],
   "source": [
    "for row in data.iloc[:5].iterrows():\n",
    "    print(f\"Model with params dropout - {row[1]['dropout']}, \\n\\\n",
    "          num_epoch - {row[1]['num_epoch']}, \\n\\\n",
    "          batch_size - {row[1]['batch_size']}, \\n\\\n",
    "          has last test RMSE error - {row[1]['test_scores_low20']:.2f}\")\n",
    "    sns.lineplot(y=row[1]['train_scores'], x=range(len(row[1]['train_scores'])))\n",
    "    sns.lineplot(y=row[1]['test_scores'], x=range(len(row[1]['test_scores'])))\n",
    "    plt.title('RMSE model errors')\n",
    "    plt.ylabel('RMSE')\n",
    "    plt.xlabel('5x epochs')\n",
    "    plt.ylim(bottom=0, top=15000)\n",
    "    plt.legend(['train', 'test'])\n",
    "    plt.show()\n",
    "    \n",
    "    preds_series = pd.DataFrame(row[1]['test_preds'], columns=['preds'])\n",
    "    test_series = pd.DataFrame(y_test.numpy(), columns=['true'])\n",
    "    visual = pd.concat([preds_series, test_series], axis=1)\n",
    "\n",
    "    visual.plot(kind='bar',\n",
    "                figsize=(16, 5), xlabel = 'Порядковый номер звезды', ylabel = 'Температура звезды в Кельвинах')\n",
    "    plt.show()    \n",
    "    \n",
    "    \n",
    "    print('######################################################################')"
   ]
  },
  {
   "cell_type": "markdown",
   "id": "cdc62a6a",
   "metadata": {},
   "source": [
    "<div class=\"alert alert-success\">\n",
    "<b>Комментарий ревьюера ✔️:</b> \n",
    "    \n",
    "Супер, получилась шикарная визуализация + молодец, что смог добиться нужной метрики\n",
    "</div>\n"
   ]
  },
  {
   "cell_type": "markdown",
   "id": "accurate-infrastructure",
   "metadata": {},
   "source": [
    "## Выводы"
   ]
  },
  {
   "cell_type": "markdown",
   "id": "b05e4e5e",
   "metadata": {},
   "source": [
    "По итогам подбора гиперпараметров удалось достичь необходимого уровня метрики RMSE полносвязной нейронной сети. Также можно заключить, что наиболее результативные (по метрике rmse) модели:\n",
    "* не используют дропаут или его небольшие значения;\n",
    "* имеют достаточно большой размер батча 16-32;\n",
    "* тренировались значительное  количество эпох 200-300.\n",
    "\n",
    "Между тем, можно отметить, что в соответствии с графической репрезентацией результатов предсказаний - топовые модели \"ошибаются\" практически идентично, поэтому дальнейшее качественное развитие модели скорее всего возможно только посредством изменения ее внутренних параметров."
   ]
  },
  {
   "cell_type": "markdown",
   "id": "ddfd1d16",
   "metadata": {},
   "source": [
    " <div class=\"alert alert-success\">\n",
    "<b>Комментарий ревьюера ✔️:</b> Для подбора еще можно воспользоваться библиотекой scorch\n",
    "    \n",
    "Для начала напишем нейросеть:\n",
    "    \n",
    "    \n",
    "```python\n",
    "    class Model_improve(nn.Module):\n",
    "    def __init__(self, n_in_neurons, n_hidden_neurons_1, n_hidden_neurons_2, n_hidden_neurons_3, n_out_neurons, \n",
    "                 dropout_1, dropout_2,  dropout_3, activation_1, activation_2):\n",
    "        super(Model_improve, self).__init__()\n",
    "        \n",
    "        <your code>\n",
    "\n",
    "    def forward(self, x):\n",
    "        <your code>\n",
    "        return x\n",
    "\n",
    "```\n",
    "\n",
    "    \n",
    "Вот так можно использовать skorch:) Смотри тут можно применить EarlyStopping:\n",
    "\n",
    "```python\n",
    "   from skorch.callbacks import EpochScoring, EarlyStopping\n",
    "   skorch_regressor = NeuralNetRegressor(module=model_base, \n",
    "                                      device='cpu',  \n",
    "                                      verbose=3,\n",
    "                                      batch_size=batch_size,\n",
    "                                      optimizer=torch.optim.Adam, \n",
    "                                      max_epochs=2500, \n",
    "                                      lr=lr,\n",
    "                                      train_split=ValidSplit(cv=5),\n",
    "                                      criterion =nn.MSELoss,\n",
    "                                      callbacks=[\n",
    "                ('val_rmse', EpochScoring(scoring=rmse_scorer, lower_is_better=True, name='RMSE')),\n",
    "                ('estoper', EarlyStopping( lower_is_better=True, monitor='RMSE', patience=patience)),\n",
    "            ],\n",
    "                                     ) \n",
    "    \n",
    "```\n",
    "Осталось разобраться и подставить нужные значения в пропущенные места:)\n",
    "            \n",
    "```model_base``` - твоя нейросеть - ```net = Model_improve(<your code>)```\n",
    "    \n",
    "    \n",
    "P.S rmse_scorer можно определить через ```make_scorer```    \n",
    "\n",
    "    \n",
    "Задать параметры можно вот так:    \n",
    "```python\n",
    "    params = {\n",
    "    'module__dropout': [0, 0.1],\n",
    "    'module__n_hidden_neurons_1': range(10, 30, 5),\n",
    "    'module__n_hidden_neurons_2': range(10, 30, 5),\n",
    "    'module__activation': [nn.LeakyReLU(), nn.Tanh(), nn.ReLU(), nn.ELU()],\n",
    "    'lr': [1e-3, 1e-4]\n",
    "}\n",
    "```\n",
    "Обрати внимание, что это только пример!!! его еще необходимо настроить под себя. Чтобы обратиться к параметрам нейросети используй ```module__```, если просто к NeuralNetRegressor, то без приставки:)\n",
    "    \n",
    "Подбор паарметров:\n",
    "    \n",
    "    \n",
    "```python\n",
    "    grid = RandomizedSearchCV(skorch_regressor, params, cv=3, scoring=\"neg_root_mean_squared_error\", verbose=3) \n",
    "    grid.fit(X_train_tensor, y_train_tensor.reshape(-1,1)) \n",
    "    \n",
    "    \n",
    "```\n",
    "</div>\n",
    "            \n",
    "            \n",
    "            "
   ]
  },
  {
   "cell_type": "markdown",
   "id": "05d9d8cf",
   "metadata": {},
   "source": [
    "<div class=\"alert alert-success\">\n",
    "<b>Комментарий ревьюера ✔️:</b> \n",
    "    \n",
    "Еще можно было вот так решить:\n",
    "    \n",
    "+  https://colab.research.google.com/drive/1ZyMsfYf5c1jzBurRKMIlF8n6Vmn7Lpad?usp=sharing\n",
    "\n",
    "</div>\n"
   ]
  },
  {
   "cell_type": "markdown",
   "id": "985e1a7f",
   "metadata": {},
   "source": [
    "<div class=\"alert alert-success\">\n",
    "<b>Комментарий ревьюера ✔️:</b>\n",
    "    \n",
    "Немного полезного материала:    \n",
    "\n",
    "1) Ребята из-за \"бугра\": https://www.reg.ru/blog/stenfordskij-kurs-lekciya-1-vvedenie/ (тут про свёрточные, но интересно)<br>\n",
    "2) Интересная статья специалиста Тесла: https://karpathy.github.io/neuralnets/ <br>\n",
    "3) Список книг на выбор: https://habr.com/ru/company/neurodatalab/blog/336218/ <br>\n",
    "\n",
    "\n",
    "\n",
    "Кстати есть еще нейросеть TabNet, которая заточена для работы с табличными данными:\n",
    "+  https://habr.com/ru/post/540736/    \n",
    "+  https://www.kaggle.com/code/carlmcbrideellis/tabnet-a-very-simple-regression-example/notebook\n",
    "\n",
    "</div>"
   ]
  },
  {
   "cell_type": "markdown",
   "id": "6fbec784",
   "metadata": {},
   "source": [
    "<font color='blue'><b>Итоговый комментарий ревьюера</b></font>\n",
    "<div class=\"alert alert-success\">\n",
    "<b>Комментарий ревьюера ✔️:</b>Тимурлан , спасибо за хороший проект!!! Я готов принять работу, но хочу убедиться, что тебе все понятно.<br>\n",
    "Если есть какие либо вопросы я с удовольствием на них отвечу:)</div>\n"
   ]
  },
  {
   "cell_type": "markdown",
   "id": "c7a9729c",
   "metadata": {},
   "source": [
    "<div class=\"alert alert-info\"> <b>Комментарий студента:</b> Да, спасибо, optuna и scorch - это прям открытие для меня, буду разбираться в них</div>"
   ]
  },
  {
   "cell_type": "markdown",
   "id": "452b22e3",
   "metadata": {},
   "source": [
    "<div class=\"alert alert-success\">\n",
    "<b>Комментарий ревьюера V2✔️:</b>Удачи в следующих проектах!!!\n",
    "</div>"
   ]
  }
 ],
 "metadata": {
  "ExecuteTimeLog": [
   {
    "duration": 444,
    "start_time": "2023-05-06T14:36:03.133Z"
   },
   {
    "duration": 101,
    "start_time": "2023-05-06T14:46:10.718Z"
   },
   {
    "duration": 60,
    "start_time": "2023-05-06T14:46:16.194Z"
   },
   {
    "duration": 20,
    "start_time": "2023-05-06T14:46:21.475Z"
   },
   {
    "duration": 23,
    "start_time": "2023-05-06T14:47:58.832Z"
   },
   {
    "duration": 20,
    "start_time": "2023-05-06T14:48:00.280Z"
   },
   {
    "duration": 34,
    "start_time": "2023-05-06T14:57:55.389Z"
   },
   {
    "duration": 4,
    "start_time": "2023-05-06T14:58:32.448Z"
   },
   {
    "duration": 330,
    "start_time": "2023-05-06T14:59:02.832Z"
   },
   {
    "duration": 605,
    "start_time": "2023-05-06T14:59:07.713Z"
   },
   {
    "duration": 2271,
    "start_time": "2023-05-06T15:00:00.845Z"
   },
   {
    "duration": 44,
    "start_time": "2023-05-06T15:00:20.376Z"
   },
   {
    "duration": 3980,
    "start_time": "2023-05-06T15:03:22.480Z"
   },
   {
    "duration": 3984,
    "start_time": "2023-05-06T15:04:48.938Z"
   },
   {
    "duration": 34,
    "start_time": "2023-05-06T15:13:00.041Z"
   },
   {
    "duration": 15,
    "start_time": "2023-05-06T15:13:21.585Z"
   },
   {
    "duration": 16,
    "start_time": "2023-05-06T15:13:45.107Z"
   },
   {
    "duration": 19,
    "start_time": "2023-05-06T15:13:56.091Z"
   },
   {
    "duration": 16,
    "start_time": "2023-05-06T15:15:10.915Z"
   },
   {
    "duration": 8,
    "start_time": "2023-05-06T15:16:22.872Z"
   },
   {
    "duration": 9,
    "start_time": "2023-05-06T15:16:55.146Z"
   },
   {
    "duration": 20,
    "start_time": "2023-05-06T15:17:05.412Z"
   },
   {
    "duration": 8,
    "start_time": "2023-05-06T15:17:16.219Z"
   },
   {
    "duration": 16,
    "start_time": "2023-05-06T15:17:36.533Z"
   },
   {
    "duration": 7,
    "start_time": "2023-05-06T15:20:44.087Z"
   },
   {
    "duration": 5926,
    "start_time": "2023-05-06T15:20:45.256Z"
   },
   {
    "duration": 6,
    "start_time": "2023-05-06T15:21:11.797Z"
   },
   {
    "duration": 5971,
    "start_time": "2023-05-06T15:21:12.965Z"
   },
   {
    "duration": 6168,
    "start_time": "2023-05-06T15:23:10.926Z"
   },
   {
    "duration": 6460,
    "start_time": "2023-05-06T15:23:43.011Z"
   },
   {
    "duration": 13,
    "start_time": "2023-05-06T15:24:00.235Z"
   },
   {
    "duration": 6258,
    "start_time": "2023-05-06T15:24:03.758Z"
   },
   {
    "duration": 152,
    "start_time": "2023-05-06T15:25:08.919Z"
   },
   {
    "duration": 182,
    "start_time": "2023-05-06T15:25:32.937Z"
   },
   {
    "duration": 180,
    "start_time": "2023-05-06T15:25:59.234Z"
   },
   {
    "duration": 158,
    "start_time": "2023-05-06T15:26:05.061Z"
   },
   {
    "duration": 4,
    "start_time": "2023-05-06T15:27:33.969Z"
   },
   {
    "duration": 20,
    "start_time": "2023-05-06T15:27:49.301Z"
   },
   {
    "duration": 15,
    "start_time": "2023-05-06T15:28:01.970Z"
   },
   {
    "duration": 6,
    "start_time": "2023-05-06T15:28:05.044Z"
   },
   {
    "duration": 18,
    "start_time": "2023-05-06T15:28:13.196Z"
   },
   {
    "duration": 4,
    "start_time": "2023-05-06T15:28:24.369Z"
   },
   {
    "duration": 20,
    "start_time": "2023-05-06T15:28:26.790Z"
   },
   {
    "duration": 4,
    "start_time": "2023-05-06T15:28:31.416Z"
   },
   {
    "duration": 17,
    "start_time": "2023-05-06T15:28:32.306Z"
   },
   {
    "duration": 4,
    "start_time": "2023-05-06T15:29:15.510Z"
   },
   {
    "duration": 5,
    "start_time": "2023-05-06T15:29:33.474Z"
   },
   {
    "duration": 17,
    "start_time": "2023-05-06T15:29:34.459Z"
   },
   {
    "duration": 7,
    "start_time": "2023-05-06T15:29:44.118Z"
   },
   {
    "duration": 16,
    "start_time": "2023-05-06T15:29:45.274Z"
   },
   {
    "duration": 17,
    "start_time": "2023-05-06T15:30:08.231Z"
   },
   {
    "duration": 18,
    "start_time": "2023-05-06T15:30:13.306Z"
   },
   {
    "duration": 5,
    "start_time": "2023-05-06T15:30:27.352Z"
   },
   {
    "duration": 7584,
    "start_time": "2023-05-06T15:30:40.210Z"
   },
   {
    "duration": 23,
    "start_time": "2023-05-06T15:34:33.409Z"
   },
   {
    "duration": 3,
    "start_time": "2023-05-06T15:38:56.108Z"
   },
   {
    "duration": 20,
    "start_time": "2023-05-06T15:40:31.105Z"
   },
   {
    "duration": 8,
    "start_time": "2023-05-06T15:40:50.605Z"
   },
   {
    "duration": 3,
    "start_time": "2023-05-06T15:42:07.361Z"
   },
   {
    "duration": 21,
    "start_time": "2023-05-06T15:46:41.466Z"
   },
   {
    "duration": 7,
    "start_time": "2023-05-06T15:46:55.411Z"
   },
   {
    "duration": 7,
    "start_time": "2023-05-06T15:47:06.061Z"
   },
   {
    "duration": 6,
    "start_time": "2023-05-06T15:47:16.982Z"
   },
   {
    "duration": 9,
    "start_time": "2023-05-06T15:51:35.583Z"
   },
   {
    "duration": 6,
    "start_time": "2023-05-06T15:51:38.247Z"
   },
   {
    "duration": 19,
    "start_time": "2023-05-06T15:51:38.438Z"
   },
   {
    "duration": 14,
    "start_time": "2023-05-06T15:51:59.940Z"
   },
   {
    "duration": 64,
    "start_time": "2023-05-06T15:53:24.212Z"
   },
   {
    "duration": 13,
    "start_time": "2023-05-06T15:53:33.327Z"
   },
   {
    "duration": 9,
    "start_time": "2023-05-06T15:53:37.959Z"
   },
   {
    "duration": 7,
    "start_time": "2023-05-06T15:53:39.406Z"
   },
   {
    "duration": 15,
    "start_time": "2023-05-06T15:53:39.778Z"
   },
   {
    "duration": 507,
    "start_time": "2023-05-06T16:34:59.159Z"
   },
   {
    "duration": 18,
    "start_time": "2023-05-06T16:35:55.430Z"
   },
   {
    "duration": 4,
    "start_time": "2023-05-06T16:36:05.378Z"
   },
   {
    "duration": 4,
    "start_time": "2023-05-06T17:23:17.799Z"
   },
   {
    "duration": 7,
    "start_time": "2023-05-06T17:23:29.135Z"
   },
   {
    "duration": 6,
    "start_time": "2023-05-06T17:23:32.162Z"
   },
   {
    "duration": 5,
    "start_time": "2023-05-06T17:24:13.785Z"
   },
   {
    "duration": 44,
    "start_time": "2023-05-06T17:24:14.416Z"
   },
   {
    "duration": 4,
    "start_time": "2023-05-06T17:24:29.116Z"
   },
   {
    "duration": 6,
    "start_time": "2023-05-06T17:24:29.772Z"
   },
   {
    "duration": 7,
    "start_time": "2023-05-06T17:25:14.683Z"
   },
   {
    "duration": 6,
    "start_time": "2023-05-06T17:25:15.175Z"
   },
   {
    "duration": 4,
    "start_time": "2023-05-06T17:26:13.340Z"
   },
   {
    "duration": 7,
    "start_time": "2023-05-06T17:26:31.421Z"
   },
   {
    "duration": 4,
    "start_time": "2023-05-06T17:27:22.617Z"
   },
   {
    "duration": 8,
    "start_time": "2023-05-06T17:27:23.209Z"
   },
   {
    "duration": 12,
    "start_time": "2023-05-06T17:32:26.006Z"
   },
   {
    "duration": 5,
    "start_time": "2023-05-06T17:32:35.474Z"
   },
   {
    "duration": 17,
    "start_time": "2023-05-06T17:33:55.234Z"
   },
   {
    "duration": 11,
    "start_time": "2023-05-06T17:34:13.524Z"
   },
   {
    "duration": 10,
    "start_time": "2023-05-06T17:34:16.507Z"
   },
   {
    "duration": 8,
    "start_time": "2023-05-06T17:34:20.620Z"
   },
   {
    "duration": 6,
    "start_time": "2023-05-06T17:34:20.941Z"
   },
   {
    "duration": 12,
    "start_time": "2023-05-06T17:34:21.313Z"
   },
   {
    "duration": 9,
    "start_time": "2023-05-06T17:34:22.046Z"
   },
   {
    "duration": 10,
    "start_time": "2023-05-06T17:34:31.967Z"
   },
   {
    "duration": 8,
    "start_time": "2023-05-06T17:34:35.021Z"
   },
   {
    "duration": 5,
    "start_time": "2023-05-06T17:34:35.183Z"
   },
   {
    "duration": 14,
    "start_time": "2023-05-06T17:34:35.425Z"
   },
   {
    "duration": 11,
    "start_time": "2023-05-06T17:34:36.618Z"
   },
   {
    "duration": 8,
    "start_time": "2023-05-06T17:37:00.083Z"
   },
   {
    "duration": 6,
    "start_time": "2023-05-06T17:37:00.918Z"
   },
   {
    "duration": 14,
    "start_time": "2023-05-06T17:37:01.256Z"
   },
   {
    "duration": 2,
    "start_time": "2023-05-06T17:37:01.909Z"
   },
   {
    "duration": 5,
    "start_time": "2023-05-06T17:37:10.820Z"
   },
   {
    "duration": 30,
    "start_time": "2023-05-06T17:37:25.244Z"
   },
   {
    "duration": 7,
    "start_time": "2023-05-06T17:37:44.408Z"
   },
   {
    "duration": 5,
    "start_time": "2023-05-06T17:37:46.175Z"
   },
   {
    "duration": 12,
    "start_time": "2023-05-06T17:37:46.434Z"
   },
   {
    "duration": 3,
    "start_time": "2023-05-06T17:37:46.867Z"
   },
   {
    "duration": 6,
    "start_time": "2023-05-06T17:37:51.635Z"
   },
   {
    "duration": 4,
    "start_time": "2023-05-06T17:47:55.038Z"
   },
   {
    "duration": 53,
    "start_time": "2023-05-06T18:04:58.852Z"
   },
   {
    "duration": 6,
    "start_time": "2023-05-06T18:05:14.521Z"
   },
   {
    "duration": 6,
    "start_time": "2023-05-06T18:05:23.017Z"
   },
   {
    "duration": 13,
    "start_time": "2023-05-06T18:05:51.608Z"
   },
   {
    "duration": 5,
    "start_time": "2023-05-06T18:06:02.609Z"
   },
   {
    "duration": 14,
    "start_time": "2023-05-06T18:06:03.579Z"
   },
   {
    "duration": 5,
    "start_time": "2023-05-06T18:06:14.598Z"
   },
   {
    "duration": 71,
    "start_time": "2023-05-06T18:06:15.257Z"
   },
   {
    "duration": 5,
    "start_time": "2023-05-06T18:06:54.358Z"
   },
   {
    "duration": 4,
    "start_time": "2023-05-06T18:06:58.604Z"
   },
   {
    "duration": 8,
    "start_time": "2023-05-06T18:07:18.711Z"
   },
   {
    "duration": 6,
    "start_time": "2023-05-06T18:07:19.410Z"
   },
   {
    "duration": 13,
    "start_time": "2023-05-06T18:07:20.010Z"
   },
   {
    "duration": 4,
    "start_time": "2023-05-06T18:07:20.604Z"
   },
   {
    "duration": 3,
    "start_time": "2023-05-06T18:07:24.443Z"
   },
   {
    "duration": 7,
    "start_time": "2023-05-06T18:07:33.359Z"
   },
   {
    "duration": 5,
    "start_time": "2023-05-06T18:07:34.137Z"
   },
   {
    "duration": 5,
    "start_time": "2023-05-06T18:07:35.338Z"
   },
   {
    "duration": 1073,
    "start_time": "2023-05-06T18:07:36.127Z"
   },
   {
    "duration": 5,
    "start_time": "2023-05-06T18:08:04.921Z"
   },
   {
    "duration": 1093,
    "start_time": "2023-05-06T18:08:05.917Z"
   },
   {
    "duration": 21775,
    "start_time": "2023-05-06T18:08:43.733Z"
   },
   {
    "duration": 6,
    "start_time": "2023-05-06T18:09:20.967Z"
   },
   {
    "duration": 4,
    "start_time": "2023-05-06T18:09:26.616Z"
   },
   {
    "duration": 5,
    "start_time": "2023-05-06T18:09:37.105Z"
   },
   {
    "duration": 23247,
    "start_time": "2023-05-06T18:09:38.356Z"
   },
   {
    "duration": 6,
    "start_time": "2023-05-06T18:10:37.444Z"
   },
   {
    "duration": 6,
    "start_time": "2023-05-06T18:10:49.851Z"
   },
   {
    "duration": 8967,
    "start_time": "2023-05-06T18:10:56.629Z"
   },
   {
    "duration": 4289,
    "start_time": "2023-05-06T18:11:10.421Z"
   },
   {
    "duration": 8256,
    "start_time": "2023-05-06T18:11:19.743Z"
   },
   {
    "duration": 6546,
    "start_time": "2023-05-06T18:11:42.062Z"
   },
   {
    "duration": 5,
    "start_time": "2023-05-06T18:12:33.679Z"
   },
   {
    "duration": 7355,
    "start_time": "2023-05-06T18:12:34.450Z"
   },
   {
    "duration": 5,
    "start_time": "2023-05-06T18:13:29.719Z"
   },
   {
    "duration": 5,
    "start_time": "2023-05-06T18:13:30.184Z"
   },
   {
    "duration": 6,
    "start_time": "2023-05-06T18:13:30.569Z"
   },
   {
    "duration": 4923,
    "start_time": "2023-05-06T18:13:31.282Z"
   },
   {
    "duration": 5,
    "start_time": "2023-05-06T18:13:49.908Z"
   },
   {
    "duration": 6,
    "start_time": "2023-05-06T18:13:50.384Z"
   },
   {
    "duration": 5,
    "start_time": "2023-05-06T18:13:51.945Z"
   },
   {
    "duration": 6003,
    "start_time": "2023-05-06T18:13:52.708Z"
   },
   {
    "duration": 5,
    "start_time": "2023-05-06T18:14:24.155Z"
   },
   {
    "duration": 6,
    "start_time": "2023-05-06T18:14:26.966Z"
   },
   {
    "duration": 5,
    "start_time": "2023-05-06T18:14:38.115Z"
   },
   {
    "duration": 4198,
    "start_time": "2023-05-06T18:14:39.716Z"
   },
   {
    "duration": 15394,
    "start_time": "2023-05-06T18:14:49.008Z"
   },
   {
    "duration": 9448,
    "start_time": "2023-05-06T18:15:26.268Z"
   },
   {
    "duration": 6,
    "start_time": "2023-05-06T18:15:39.015Z"
   },
   {
    "duration": 6,
    "start_time": "2023-05-06T18:15:42.658Z"
   },
   {
    "duration": 5,
    "start_time": "2023-05-06T18:15:43.049Z"
   },
   {
    "duration": 43545,
    "start_time": "2023-05-06T18:15:43.849Z"
   },
   {
    "duration": 6,
    "start_time": "2023-05-06T18:19:22.363Z"
   },
   {
    "duration": 5,
    "start_time": "2023-05-06T18:19:23.047Z"
   },
   {
    "duration": 20905,
    "start_time": "2023-05-06T18:19:23.812Z"
   },
   {
    "duration": 6,
    "start_time": "2023-05-06T18:20:03.245Z"
   },
   {
    "duration": 6,
    "start_time": "2023-05-06T18:20:04.176Z"
   },
   {
    "duration": 20332,
    "start_time": "2023-05-06T18:20:04.580Z"
   },
   {
    "duration": 9,
    "start_time": "2023-05-06T18:21:11.736Z"
   },
   {
    "duration": 6,
    "start_time": "2023-05-06T18:21:13.244Z"
   },
   {
    "duration": 52098,
    "start_time": "2023-05-06T18:21:16.408Z"
   },
   {
    "duration": 38675,
    "start_time": "2023-05-06T18:22:29.221Z"
   },
   {
    "duration": 38187,
    "start_time": "2023-05-06T18:23:20.613Z"
   },
   {
    "duration": 5,
    "start_time": "2023-05-06T18:25:30.005Z"
   },
   {
    "duration": 8,
    "start_time": "2023-05-06T18:25:33.799Z"
   },
   {
    "duration": 7,
    "start_time": "2023-05-06T18:25:34.044Z"
   },
   {
    "duration": 40802,
    "start_time": "2023-05-06T18:25:34.609Z"
   },
   {
    "duration": 7,
    "start_time": "2023-05-06T18:28:51.045Z"
   },
   {
    "duration": 6,
    "start_time": "2023-05-06T18:28:51.666Z"
   },
   {
    "duration": 40698,
    "start_time": "2023-05-06T18:28:52.620Z"
   },
   {
    "duration": 5,
    "start_time": "2023-05-06T18:30:49.466Z"
   },
   {
    "duration": 28196,
    "start_time": "2023-05-06T18:30:50.117Z"
   },
   {
    "duration": 7,
    "start_time": "2023-05-06T18:31:28.869Z"
   },
   {
    "duration": 5,
    "start_time": "2023-05-06T18:31:29.810Z"
   },
   {
    "duration": 13,
    "start_time": "2023-05-06T18:31:30.444Z"
   },
   {
    "duration": 5,
    "start_time": "2023-05-06T18:31:39.275Z"
   },
   {
    "duration": 4,
    "start_time": "2023-05-06T18:31:49.003Z"
   },
   {
    "duration": 3,
    "start_time": "2023-05-06T18:31:52.104Z"
   },
   {
    "duration": 4,
    "start_time": "2023-05-06T18:32:34.673Z"
   },
   {
    "duration": 5,
    "start_time": "2023-05-06T18:32:36.422Z"
   },
   {
    "duration": 7,
    "start_time": "2023-05-06T18:32:36.768Z"
   },
   {
    "duration": 6,
    "start_time": "2023-05-06T18:32:37.260Z"
   },
   {
    "duration": 52,
    "start_time": "2023-05-06T18:32:37.959Z"
   },
   {
    "duration": 9,
    "start_time": "2023-05-06T18:32:56.542Z"
   },
   {
    "duration": 5,
    "start_time": "2023-05-06T18:32:57.127Z"
   },
   {
    "duration": 12,
    "start_time": "2023-05-06T18:32:57.607Z"
   },
   {
    "duration": 4,
    "start_time": "2023-05-06T18:33:10.457Z"
   },
   {
    "duration": 6,
    "start_time": "2023-05-06T18:34:35.474Z"
   },
   {
    "duration": 6,
    "start_time": "2023-05-06T18:34:35.907Z"
   },
   {
    "duration": 11042,
    "start_time": "2023-05-06T18:34:36.472Z"
   },
   {
    "duration": 2592,
    "start_time": "2023-05-06T18:34:51.806Z"
   },
   {
    "duration": 9144,
    "start_time": "2023-05-06T18:35:02.465Z"
   },
   {
    "duration": 5,
    "start_time": "2023-05-06T18:35:14.859Z"
   },
   {
    "duration": 7,
    "start_time": "2023-05-06T18:35:23.406Z"
   },
   {
    "duration": 6,
    "start_time": "2023-05-06T18:35:24.412Z"
   },
   {
    "duration": 18741,
    "start_time": "2023-05-06T18:35:25.053Z"
   },
   {
    "duration": 5,
    "start_time": "2023-05-06T18:36:59.347Z"
   },
   {
    "duration": 6,
    "start_time": "2023-05-06T18:36:59.631Z"
   },
   {
    "duration": 19092,
    "start_time": "2023-05-06T18:36:59.912Z"
   },
   {
    "duration": 53876,
    "start_time": "2023-05-06T18:37:43.636Z"
   },
   {
    "duration": 6795,
    "start_time": "2023-05-06T18:39:00.112Z"
   },
   {
    "duration": 6457,
    "start_time": "2023-05-06T18:39:09.659Z"
   },
   {
    "duration": 6,
    "start_time": "2023-05-06T18:39:58.664Z"
   },
   {
    "duration": 9,
    "start_time": "2023-05-06T18:39:59.270Z"
   },
   {
    "duration": 5,
    "start_time": "2023-05-06T18:39:59.961Z"
   },
   {
    "duration": 11374,
    "start_time": "2023-05-06T18:40:00.926Z"
   },
   {
    "duration": 5,
    "start_time": "2023-05-06T18:41:34.824Z"
   },
   {
    "duration": 6,
    "start_time": "2023-05-06T18:41:36.088Z"
   },
   {
    "duration": 6,
    "start_time": "2023-05-06T18:41:38.716Z"
   },
   {
    "duration": 9846,
    "start_time": "2023-05-06T18:41:39.654Z"
   },
   {
    "duration": 13,
    "start_time": "2023-05-06T18:42:11.184Z"
   },
   {
    "duration": 8,
    "start_time": "2023-05-06T18:42:23.128Z"
   },
   {
    "duration": 5,
    "start_time": "2023-05-06T18:42:24.936Z"
   },
   {
    "duration": 10090,
    "start_time": "2023-05-06T18:42:25.720Z"
   },
   {
    "duration": 5,
    "start_time": "2023-05-06T18:42:58.688Z"
   },
   {
    "duration": 7,
    "start_time": "2023-05-06T18:42:59.174Z"
   },
   {
    "duration": 6,
    "start_time": "2023-05-06T18:42:59.628Z"
   },
   {
    "duration": 23641,
    "start_time": "2023-05-06T18:42:59.971Z"
   },
   {
    "duration": 5,
    "start_time": "2023-05-06T18:43:24.927Z"
   },
   {
    "duration": 239511,
    "start_time": "2023-05-06T18:44:21.603Z"
   },
   {
    "duration": 6,
    "start_time": "2023-05-06T18:48:28.928Z"
   },
   {
    "duration": 6,
    "start_time": "2023-05-06T18:48:31.616Z"
   },
   {
    "duration": 264823,
    "start_time": "2023-05-06T18:48:32.179Z"
   },
   {
    "duration": 7,
    "start_time": "2023-05-06T18:53:26.535Z"
   },
   {
    "duration": 7,
    "start_time": "2023-05-06T18:53:30.124Z"
   },
   {
    "duration": 81688,
    "start_time": "2023-05-06T18:53:31.920Z"
   },
   {
    "duration": 5,
    "start_time": "2023-05-06T18:54:57.930Z"
   },
   {
    "duration": 5,
    "start_time": "2023-05-06T18:54:58.869Z"
   },
   {
    "duration": 228854,
    "start_time": "2023-05-06T18:54:59.453Z"
   },
   {
    "duration": 6,
    "start_time": "2023-05-06T18:59:30.741Z"
   },
   {
    "duration": 105385,
    "start_time": "2023-05-06T18:59:32.041Z"
   },
   {
    "duration": 2574,
    "start_time": "2023-05-06T19:01:22.548Z"
   },
   {
    "duration": 6,
    "start_time": "2023-05-06T19:01:27.316Z"
   },
   {
    "duration": 6,
    "start_time": "2023-05-06T19:01:27.644Z"
   },
   {
    "duration": 13087,
    "start_time": "2023-05-06T19:01:29.120Z"
   },
   {
    "duration": 8,
    "start_time": "2023-05-06T19:01:44.752Z"
   },
   {
    "duration": 8,
    "start_time": "2023-05-06T19:01:45.045Z"
   },
   {
    "duration": 3047,
    "start_time": "2023-05-06T19:01:45.458Z"
   },
   {
    "duration": 6,
    "start_time": "2023-05-06T19:02:05.189Z"
   },
   {
    "duration": 3474,
    "start_time": "2023-05-06T19:02:05.740Z"
   },
   {
    "duration": 5,
    "start_time": "2023-05-06T19:02:41.689Z"
   },
   {
    "duration": 2779,
    "start_time": "2023-05-06T19:02:42.820Z"
   },
   {
    "duration": 5,
    "start_time": "2023-05-06T19:02:48.524Z"
   },
   {
    "duration": 2780,
    "start_time": "2023-05-06T19:02:49.016Z"
   },
   {
    "duration": 7,
    "start_time": "2023-05-06T19:03:38.432Z"
   },
   {
    "duration": 3244,
    "start_time": "2023-05-06T19:03:38.858Z"
   },
   {
    "duration": 6,
    "start_time": "2023-05-06T19:03:45.636Z"
   },
   {
    "duration": 6,
    "start_time": "2023-05-06T19:03:45.874Z"
   },
   {
    "duration": 2723,
    "start_time": "2023-05-06T19:03:46.479Z"
   },
   {
    "duration": 6,
    "start_time": "2023-05-06T19:04:17.791Z"
   },
   {
    "duration": 2927,
    "start_time": "2023-05-06T19:04:18.384Z"
   },
   {
    "duration": 7,
    "start_time": "2023-05-06T19:04:23.624Z"
   },
   {
    "duration": 6,
    "start_time": "2023-05-06T19:04:23.848Z"
   },
   {
    "duration": 2736,
    "start_time": "2023-05-06T19:04:24.566Z"
   },
   {
    "duration": 9,
    "start_time": "2023-05-06T19:04:40.436Z"
   },
   {
    "duration": 8,
    "start_time": "2023-05-06T19:04:40.684Z"
   },
   {
    "duration": 14869,
    "start_time": "2023-05-06T19:04:41.244Z"
   },
   {
    "duration": 9,
    "start_time": "2023-05-06T19:06:30.597Z"
   },
   {
    "duration": 7,
    "start_time": "2023-05-06T19:06:35.157Z"
   },
   {
    "duration": 5,
    "start_time": "2023-05-06T19:06:35.952Z"
   },
   {
    "duration": 7574,
    "start_time": "2023-05-06T19:06:37.121Z"
   },
   {
    "duration": 8,
    "start_time": "2023-05-06T19:06:52.920Z"
   },
   {
    "duration": 5,
    "start_time": "2023-05-06T19:06:53.540Z"
   },
   {
    "duration": 6709,
    "start_time": "2023-05-06T19:06:53.805Z"
   },
   {
    "duration": 5,
    "start_time": "2023-05-06T19:08:46.616Z"
   },
   {
    "duration": 6956,
    "start_time": "2023-05-06T19:08:46.844Z"
   },
   {
    "duration": 6,
    "start_time": "2023-05-06T19:08:56.220Z"
   },
   {
    "duration": 5,
    "start_time": "2023-05-06T19:08:56.544Z"
   },
   {
    "duration": 7030,
    "start_time": "2023-05-06T19:08:57.082Z"
   },
   {
    "duration": 6,
    "start_time": "2023-05-06T19:09:11.513Z"
   },
   {
    "duration": 6,
    "start_time": "2023-05-06T19:09:12.220Z"
   },
   {
    "duration": 6924,
    "start_time": "2023-05-06T19:09:12.987Z"
   },
   {
    "duration": 6,
    "start_time": "2023-05-06T19:09:30.753Z"
   },
   {
    "duration": 7,
    "start_time": "2023-05-06T19:09:31.528Z"
   },
   {
    "duration": 7063,
    "start_time": "2023-05-06T19:09:31.940Z"
   },
   {
    "duration": 5,
    "start_time": "2023-05-06T19:10:29.078Z"
   },
   {
    "duration": 8,
    "start_time": "2023-05-06T19:10:29.644Z"
   },
   {
    "duration": 6,
    "start_time": "2023-05-06T19:10:31.840Z"
   },
   {
    "duration": 959,
    "start_time": "2023-05-06T19:10:32.687Z"
   },
   {
    "duration": 1805,
    "start_time": "2023-05-06T19:10:47.881Z"
   },
   {
    "duration": 48,
    "start_time": "2023-05-06T19:11:48.112Z"
   },
   {
    "duration": 5,
    "start_time": "2023-05-06T19:11:56.148Z"
   },
   {
    "duration": 1852,
    "start_time": "2023-05-06T19:11:57.455Z"
   },
   {
    "duration": 7,
    "start_time": "2023-05-06T19:12:06.824Z"
   },
   {
    "duration": 6,
    "start_time": "2023-05-06T19:12:07.759Z"
   },
   {
    "duration": 2193,
    "start_time": "2023-05-06T19:12:08.249Z"
   },
   {
    "duration": 6,
    "start_time": "2023-05-06T19:13:38.487Z"
   },
   {
    "duration": 8,
    "start_time": "2023-05-06T19:13:43.285Z"
   },
   {
    "duration": 1958,
    "start_time": "2023-05-06T19:13:44.189Z"
   },
   {
    "duration": 6,
    "start_time": "2023-05-06T19:14:02.775Z"
   },
   {
    "duration": 4,
    "start_time": "2023-05-06T19:14:06.320Z"
   },
   {
    "duration": 10,
    "start_time": "2023-05-06T19:15:13.179Z"
   },
   {
    "duration": 8,
    "start_time": "2023-05-06T19:15:43.633Z"
   },
   {
    "duration": 15,
    "start_time": "2023-05-06T19:15:44.025Z"
   },
   {
    "duration": 1865,
    "start_time": "2023-05-06T19:15:48.744Z"
   },
   {
    "duration": 6,
    "start_time": "2023-05-06T19:16:30.341Z"
   },
   {
    "duration": 9,
    "start_time": "2023-05-06T19:16:31.754Z"
   },
   {
    "duration": 14,
    "start_time": "2023-05-06T19:16:32.642Z"
   },
   {
    "duration": 6,
    "start_time": "2023-05-06T19:16:45.153Z"
   },
   {
    "duration": 9,
    "start_time": "2023-05-06T19:16:45.428Z"
   },
   {
    "duration": 3064,
    "start_time": "2023-05-06T19:16:45.864Z"
   },
   {
    "duration": 6,
    "start_time": "2023-05-06T19:17:23.607Z"
   },
   {
    "duration": 9,
    "start_time": "2023-05-06T19:17:24.327Z"
   },
   {
    "duration": 1870,
    "start_time": "2023-05-06T19:17:24.567Z"
   },
   {
    "duration": 5,
    "start_time": "2023-05-06T19:17:57.669Z"
   },
   {
    "duration": 6,
    "start_time": "2023-05-06T19:17:57.942Z"
   },
   {
    "duration": 9,
    "start_time": "2023-05-06T19:17:58.279Z"
   },
   {
    "duration": 2066,
    "start_time": "2023-05-06T19:18:01.635Z"
   },
   {
    "duration": 6,
    "start_time": "2023-05-06T19:18:10.816Z"
   },
   {
    "duration": 2157,
    "start_time": "2023-05-06T19:18:11.240Z"
   },
   {
    "duration": 6,
    "start_time": "2023-05-06T19:18:26.013Z"
   },
   {
    "duration": 1786,
    "start_time": "2023-05-06T19:18:26.660Z"
   },
   {
    "duration": 5,
    "start_time": "2023-05-06T19:19:00.429Z"
   },
   {
    "duration": 6,
    "start_time": "2023-05-06T19:19:00.664Z"
   },
   {
    "duration": 20420,
    "start_time": "2023-05-06T19:19:00.891Z"
   },
   {
    "duration": 6,
    "start_time": "2023-05-06T19:19:23.744Z"
   },
   {
    "duration": 8,
    "start_time": "2023-05-06T19:19:24.037Z"
   },
   {
    "duration": 18442,
    "start_time": "2023-05-06T19:19:24.766Z"
   },
   {
    "duration": 8,
    "start_time": "2023-05-06T19:19:54.680Z"
   },
   {
    "duration": 5,
    "start_time": "2023-05-06T19:19:55.141Z"
   },
   {
    "duration": 18940,
    "start_time": "2023-05-06T19:19:56.477Z"
   },
   {
    "duration": 8,
    "start_time": "2023-05-06T19:20:17.238Z"
   },
   {
    "duration": 6,
    "start_time": "2023-05-06T19:20:17.672Z"
   },
   {
    "duration": 10138,
    "start_time": "2023-05-06T19:20:18.258Z"
   },
   {
    "duration": 6,
    "start_time": "2023-05-06T19:21:17.955Z"
   },
   {
    "duration": 6,
    "start_time": "2023-05-06T19:21:18.253Z"
   },
   {
    "duration": 4305,
    "start_time": "2023-05-06T19:21:18.989Z"
   },
   {
    "duration": 6,
    "start_time": "2023-05-06T19:21:30.518Z"
   },
   {
    "duration": 6,
    "start_time": "2023-05-06T19:21:30.788Z"
   },
   {
    "duration": 4585,
    "start_time": "2023-05-06T19:21:31.227Z"
   },
   {
    "duration": 6,
    "start_time": "2023-05-06T19:21:46.238Z"
   },
   {
    "duration": 6,
    "start_time": "2023-05-06T19:21:46.542Z"
   },
   {
    "duration": 9184,
    "start_time": "2023-05-06T19:21:47.222Z"
   },
   {
    "duration": 2159,
    "start_time": "2023-05-07T09:06:39.275Z"
   },
   {
    "duration": 7,
    "start_time": "2023-05-07T09:06:53.980Z"
   },
   {
    "duration": 129,
    "start_time": "2023-05-07T09:06:58.237Z"
   },
   {
    "duration": 14,
    "start_time": "2023-05-07T09:07:02.511Z"
   },
   {
    "duration": 3,
    "start_time": "2023-05-07T09:07:18.243Z"
   },
   {
    "duration": 7,
    "start_time": "2023-05-07T09:07:19.205Z"
   },
   {
    "duration": 5,
    "start_time": "2023-05-07T09:07:27.532Z"
   },
   {
    "duration": 6,
    "start_time": "2023-05-07T09:07:28.317Z"
   },
   {
    "duration": 6,
    "start_time": "2023-05-07T09:07:40.983Z"
   },
   {
    "duration": 4,
    "start_time": "2023-05-07T09:07:54.007Z"
   },
   {
    "duration": 6,
    "start_time": "2023-05-07T09:07:54.247Z"
   },
   {
    "duration": 7,
    "start_time": "2023-05-07T09:07:54.439Z"
   },
   {
    "duration": 4,
    "start_time": "2023-05-07T09:08:01.714Z"
   },
   {
    "duration": 14,
    "start_time": "2023-05-07T09:08:02.997Z"
   },
   {
    "duration": 8,
    "start_time": "2023-05-07T09:08:03.335Z"
   },
   {
    "duration": 3,
    "start_time": "2023-05-07T09:08:57.805Z"
   },
   {
    "duration": 12,
    "start_time": "2023-05-07T09:09:04.347Z"
   },
   {
    "duration": 26,
    "start_time": "2023-05-07T09:09:08.581Z"
   },
   {
    "duration": 8,
    "start_time": "2023-05-07T09:09:19.836Z"
   },
   {
    "duration": 6,
    "start_time": "2023-05-07T09:09:20.933Z"
   },
   {
    "duration": 7,
    "start_time": "2023-05-07T09:09:24.206Z"
   },
   {
    "duration": 4,
    "start_time": "2023-05-07T09:10:08.424Z"
   },
   {
    "duration": 14,
    "start_time": "2023-05-07T09:10:08.897Z"
   },
   {
    "duration": 9,
    "start_time": "2023-05-07T09:10:10.407Z"
   },
   {
    "duration": 4,
    "start_time": "2023-05-07T09:10:16.479Z"
   },
   {
    "duration": 7,
    "start_time": "2023-05-07T09:10:16.849Z"
   },
   {
    "duration": 6,
    "start_time": "2023-05-07T09:10:17.384Z"
   },
   {
    "duration": 4,
    "start_time": "2023-05-07T09:10:55.875Z"
   },
   {
    "duration": 4,
    "start_time": "2023-05-07T09:11:11.230Z"
   },
   {
    "duration": 6,
    "start_time": "2023-05-07T09:11:11.914Z"
   },
   {
    "duration": 7,
    "start_time": "2023-05-07T09:11:14.555Z"
   },
   {
    "duration": 4,
    "start_time": "2023-05-07T09:11:21.572Z"
   },
   {
    "duration": 17,
    "start_time": "2023-05-07T09:11:22.090Z"
   },
   {
    "duration": 6,
    "start_time": "2023-05-07T09:11:23.205Z"
   },
   {
    "duration": 77,
    "start_time": "2023-05-07T09:13:07.364Z"
   },
   {
    "duration": 23,
    "start_time": "2023-05-07T09:13:07.445Z"
   },
   {
    "duration": 39,
    "start_time": "2023-05-07T09:13:08.955Z"
   },
   {
    "duration": 175,
    "start_time": "2023-05-07T09:13:10.105Z"
   },
   {
    "duration": 5,
    "start_time": "2023-05-07T09:13:11.611Z"
   },
   {
    "duration": 21,
    "start_time": "2023-05-07T09:13:12.131Z"
   },
   {
    "duration": 18,
    "start_time": "2023-05-07T09:19:38.443Z"
   },
   {
    "duration": 5,
    "start_time": "2023-05-07T09:19:42.070Z"
   },
   {
    "duration": 10,
    "start_time": "2023-05-07T09:19:42.366Z"
   },
   {
    "duration": 7,
    "start_time": "2023-05-07T09:19:42.761Z"
   },
   {
    "duration": 17,
    "start_time": "2023-05-07T09:19:49.910Z"
   },
   {
    "duration": 28,
    "start_time": "2023-05-07T09:19:56.888Z"
   },
   {
    "duration": 11,
    "start_time": "2023-05-07T09:19:57.079Z"
   },
   {
    "duration": 16,
    "start_time": "2023-05-07T09:19:57.273Z"
   },
   {
    "duration": 15,
    "start_time": "2023-05-07T09:20:05.567Z"
   },
   {
    "duration": 8226,
    "start_time": "2023-05-07T09:20:12.647Z"
   },
   {
    "duration": 8279,
    "start_time": "2023-05-07T09:20:29.460Z"
   },
   {
    "duration": 31,
    "start_time": "2023-05-07T09:23:22.013Z"
   },
   {
    "duration": 22,
    "start_time": "2023-05-07T09:23:22.224Z"
   },
   {
    "duration": 8,
    "start_time": "2023-05-07T09:23:22.767Z"
   },
   {
    "duration": 36,
    "start_time": "2023-05-07T09:23:23.285Z"
   },
   {
    "duration": 5,
    "start_time": "2023-05-07T09:23:23.822Z"
   },
   {
    "duration": 8,
    "start_time": "2023-05-07T09:23:25.055Z"
   },
   {
    "duration": 12,
    "start_time": "2023-05-07T09:23:25.810Z"
   },
   {
    "duration": 11,
    "start_time": "2023-05-07T09:23:26.313Z"
   },
   {
    "duration": 21451,
    "start_time": "2023-05-07T09:23:26.865Z"
   },
   {
    "duration": 13,
    "start_time": "2023-05-07T09:24:05.528Z"
   },
   {
    "duration": 9,
    "start_time": "2023-05-07T09:24:07.140Z"
   },
   {
    "duration": 65801,
    "start_time": "2023-05-07T09:24:08.394Z"
   },
   {
    "duration": 2072,
    "start_time": "2023-05-07T09:25:19.357Z"
   },
   {
    "duration": 12,
    "start_time": "2023-05-07T09:25:23.441Z"
   },
   {
    "duration": 11,
    "start_time": "2023-05-07T09:25:24.024Z"
   },
   {
    "duration": 41773,
    "start_time": "2023-05-07T09:25:24.671Z"
   },
   {
    "duration": 8,
    "start_time": "2023-05-07T09:26:12.211Z"
   },
   {
    "duration": 11,
    "start_time": "2023-05-07T09:26:12.447Z"
   },
   {
    "duration": 10,
    "start_time": "2023-05-07T09:26:12.714Z"
   },
   {
    "duration": 37200,
    "start_time": "2023-05-07T09:26:13.418Z"
   },
   {
    "duration": 9,
    "start_time": "2023-05-07T09:41:16.249Z"
   },
   {
    "duration": 7,
    "start_time": "2023-05-07T09:41:16.548Z"
   },
   {
    "duration": 272684,
    "start_time": "2023-05-07T09:41:16.938Z"
   },
   {
    "duration": 8,
    "start_time": "2023-05-07T09:53:03.875Z"
   },
   {
    "duration": 6,
    "start_time": "2023-05-07T09:53:04.153Z"
   },
   {
    "duration": 23870,
    "start_time": "2023-05-07T09:53:04.546Z"
   },
   {
    "duration": 10,
    "start_time": "2023-05-07T09:53:28.419Z"
   },
   {
    "duration": 11,
    "start_time": "2023-05-07T09:53:28.431Z"
   },
   {
    "duration": 22661,
    "start_time": "2023-05-07T09:53:29.956Z"
   },
   {
    "duration": 9,
    "start_time": "2023-05-07T09:53:52.620Z"
   },
   {
    "duration": 7,
    "start_time": "2023-05-07T09:53:52.773Z"
   },
   {
    "duration": 23320,
    "start_time": "2023-05-07T09:53:54.908Z"
   },
   {
    "duration": 7,
    "start_time": "2023-05-07T09:54:22.678Z"
   },
   {
    "duration": 7,
    "start_time": "2023-05-07T09:54:23.369Z"
   },
   {
    "duration": 26425,
    "start_time": "2023-05-07T09:54:23.695Z"
   },
   {
    "duration": 8,
    "start_time": "2023-05-07T09:55:04.913Z"
   },
   {
    "duration": 6,
    "start_time": "2023-05-07T09:55:05.220Z"
   },
   {
    "duration": 23724,
    "start_time": "2023-05-07T09:55:05.689Z"
   },
   {
    "duration": 9,
    "start_time": "2023-05-07T09:55:43.164Z"
   },
   {
    "duration": 8,
    "start_time": "2023-05-07T09:55:47.860Z"
   },
   {
    "duration": 6,
    "start_time": "2023-05-07T09:55:50.365Z"
   },
   {
    "duration": 30920,
    "start_time": "2023-05-07T09:55:51.405Z"
   },
   {
    "duration": 10,
    "start_time": "2023-05-07T09:56:33.422Z"
   },
   {
    "duration": 7,
    "start_time": "2023-05-07T09:56:34.229Z"
   },
   {
    "duration": 45885,
    "start_time": "2023-05-07T09:56:34.934Z"
   },
   {
    "duration": 8,
    "start_time": "2023-05-07T09:57:33.947Z"
   },
   {
    "duration": 9,
    "start_time": "2023-05-07T09:57:34.463Z"
   },
   {
    "duration": 28405,
    "start_time": "2023-05-07T09:57:35.091Z"
   },
   {
    "duration": 28364,
    "start_time": "2023-05-07T09:58:09.941Z"
   },
   {
    "duration": 9,
    "start_time": "2023-05-07T09:58:55.004Z"
   },
   {
    "duration": 6,
    "start_time": "2023-05-07T09:58:55.760Z"
   },
   {
    "duration": 44627,
    "start_time": "2023-05-07T09:58:56.472Z"
   },
   {
    "duration": 12,
    "start_time": "2023-05-07T10:00:03.341Z"
   },
   {
    "duration": 7,
    "start_time": "2023-05-07T10:00:03.621Z"
   },
   {
    "duration": 93759,
    "start_time": "2023-05-07T10:00:04.055Z"
   },
   {
    "duration": 17,
    "start_time": "2023-05-07T10:02:21.776Z"
   },
   {
    "duration": 3,
    "start_time": "2023-05-07T10:02:27.784Z"
   },
   {
    "duration": 4,
    "start_time": "2023-05-07T10:02:39.381Z"
   },
   {
    "duration": 5,
    "start_time": "2023-05-07T10:02:46.760Z"
   },
   {
    "duration": 6,
    "start_time": "2023-05-07T10:02:46.954Z"
   },
   {
    "duration": 7,
    "start_time": "2023-05-07T10:02:47.128Z"
   },
   {
    "duration": 6,
    "start_time": "2023-05-07T10:03:57.499Z"
   },
   {
    "duration": 6,
    "start_time": "2023-05-07T10:03:58.965Z"
   },
   {
    "duration": 6,
    "start_time": "2023-05-07T10:04:00.622Z"
   },
   {
    "duration": 16,
    "start_time": "2023-05-07T10:04:18.727Z"
   },
   {
    "duration": 340,
    "start_time": "2023-05-07T10:04:24.625Z"
   },
   {
    "duration": 382,
    "start_time": "2023-05-07T10:04:29.865Z"
   },
   {
    "duration": 10,
    "start_time": "2023-05-07T10:04:38.472Z"
   },
   {
    "duration": 344,
    "start_time": "2023-05-07T10:04:38.944Z"
   },
   {
    "duration": 346,
    "start_time": "2023-05-07T10:04:39.408Z"
   },
   {
    "duration": 379,
    "start_time": "2023-05-07T10:05:15.059Z"
   },
   {
    "duration": 364,
    "start_time": "2023-05-07T10:05:26.506Z"
   },
   {
    "duration": 375,
    "start_time": "2023-05-07T10:05:39.877Z"
   },
   {
    "duration": 376,
    "start_time": "2023-05-07T10:05:40.777Z"
   },
   {
    "duration": 413,
    "start_time": "2023-05-07T10:05:41.155Z"
   },
   {
    "duration": 3,
    "start_time": "2023-05-07T10:07:36.951Z"
   },
   {
    "duration": 359,
    "start_time": "2023-05-07T10:07:45.238Z"
   },
   {
    "duration": 374,
    "start_time": "2023-05-07T10:07:50.070Z"
   },
   {
    "duration": 573,
    "start_time": "2023-05-07T10:07:51.583Z"
   },
   {
    "duration": 392,
    "start_time": "2023-05-07T10:07:52.960Z"
   },
   {
    "duration": 5,
    "start_time": "2023-05-07T10:08:05.831Z"
   },
   {
    "duration": 365,
    "start_time": "2023-05-07T10:08:06.408Z"
   },
   {
    "duration": 371,
    "start_time": "2023-05-07T10:08:06.775Z"
   },
   {
    "duration": 471,
    "start_time": "2023-05-07T10:08:07.148Z"
   },
   {
    "duration": 4,
    "start_time": "2023-05-07T10:09:07.371Z"
   },
   {
    "duration": 373,
    "start_time": "2023-05-07T10:09:07.891Z"
   },
   {
    "duration": 360,
    "start_time": "2023-05-07T10:09:09.013Z"
   },
   {
    "duration": 350,
    "start_time": "2023-05-07T10:09:09.375Z"
   },
   {
    "duration": 4,
    "start_time": "2023-05-07T10:09:34.633Z"
   },
   {
    "duration": 396,
    "start_time": "2023-05-07T10:09:34.885Z"
   },
   {
    "duration": 375,
    "start_time": "2023-05-07T10:09:35.749Z"
   },
   {
    "duration": 398,
    "start_time": "2023-05-07T10:09:36.126Z"
   },
   {
    "duration": 5,
    "start_time": "2023-05-07T10:16:49.190Z"
   },
   {
    "duration": 393,
    "start_time": "2023-05-07T10:16:49.861Z"
   },
   {
    "duration": 393,
    "start_time": "2023-05-07T10:16:50.870Z"
   },
   {
    "duration": 361,
    "start_time": "2023-05-07T10:16:51.509Z"
   },
   {
    "duration": 4,
    "start_time": "2023-05-07T10:18:07.044Z"
   },
   {
    "duration": 452,
    "start_time": "2023-05-07T10:18:07.659Z"
   },
   {
    "duration": 341,
    "start_time": "2023-05-07T10:18:08.513Z"
   },
   {
    "duration": 27,
    "start_time": "2023-05-07T10:18:08.882Z"
   },
   {
    "duration": 413,
    "start_time": "2023-05-07T10:18:13.156Z"
   },
   {
    "duration": 4,
    "start_time": "2023-05-07T10:18:24.253Z"
   },
   {
    "duration": 582,
    "start_time": "2023-05-07T10:18:26.357Z"
   },
   {
    "duration": 369,
    "start_time": "2023-05-07T10:18:27.780Z"
   },
   {
    "duration": 345,
    "start_time": "2023-05-07T10:18:30.226Z"
   },
   {
    "duration": 4,
    "start_time": "2023-05-07T10:18:49.716Z"
   },
   {
    "duration": 16,
    "start_time": "2023-05-07T10:18:50.407Z"
   },
   {
    "duration": 17,
    "start_time": "2023-05-07T10:18:51.140Z"
   },
   {
    "duration": 374,
    "start_time": "2023-05-07T10:18:55.460Z"
   },
   {
    "duration": 340,
    "start_time": "2023-05-07T10:18:58.216Z"
   },
   {
    "duration": 366,
    "start_time": "2023-05-07T10:19:01.508Z"
   },
   {
    "duration": 9,
    "start_time": "2023-05-07T10:19:59.823Z"
   },
   {
    "duration": 6,
    "start_time": "2023-05-07T10:20:00.065Z"
   },
   {
    "duration": 178183,
    "start_time": "2023-05-07T10:20:00.312Z"
   },
   {
    "duration": 4,
    "start_time": "2023-05-07T10:26:47.005Z"
   },
   {
    "duration": 344,
    "start_time": "2023-05-07T10:26:48.334Z"
   },
   {
    "duration": 328,
    "start_time": "2023-05-07T10:26:49.134Z"
   },
   {
    "duration": 315,
    "start_time": "2023-05-07T10:26:49.521Z"
   },
   {
    "duration": 374,
    "start_time": "2023-05-07T10:26:52.363Z"
   },
   {
    "duration": 10,
    "start_time": "2023-05-07T10:35:44.069Z"
   },
   {
    "duration": 11,
    "start_time": "2023-05-07T10:35:53.766Z"
   },
   {
    "duration": 4,
    "start_time": "2023-05-07T10:35:59.628Z"
   },
   {
    "duration": 346,
    "start_time": "2023-05-07T10:36:00.298Z"
   },
   {
    "duration": 358,
    "start_time": "2023-05-07T10:36:01.086Z"
   },
   {
    "duration": 385,
    "start_time": "2023-05-07T10:36:01.740Z"
   },
   {
    "duration": 11,
    "start_time": "2023-05-07T10:36:17.566Z"
   },
   {
    "duration": 4,
    "start_time": "2023-05-07T10:36:21.462Z"
   },
   {
    "duration": 362,
    "start_time": "2023-05-07T10:36:21.765Z"
   },
   {
    "duration": 348,
    "start_time": "2023-05-07T10:36:22.129Z"
   },
   {
    "duration": 370,
    "start_time": "2023-05-07T10:36:22.480Z"
   },
   {
    "duration": 4,
    "start_time": "2023-05-07T10:37:15.162Z"
   },
   {
    "duration": 360,
    "start_time": "2023-05-07T10:37:16.314Z"
   },
   {
    "duration": 417,
    "start_time": "2023-05-07T10:37:17.162Z"
   },
   {
    "duration": 65,
    "start_time": "2023-05-07T10:38:59.032Z"
   },
   {
    "duration": 28,
    "start_time": "2023-05-07T10:39:10.890Z"
   },
   {
    "duration": 21,
    "start_time": "2023-05-07T10:39:13.739Z"
   },
   {
    "duration": 4,
    "start_time": "2023-05-07T10:39:31.979Z"
   },
   {
    "duration": 370,
    "start_time": "2023-05-07T10:39:32.904Z"
   },
   {
    "duration": 456,
    "start_time": "2023-05-07T10:39:34.445Z"
   },
   {
    "duration": 23,
    "start_time": "2023-05-07T10:39:35.723Z"
   },
   {
    "duration": 394,
    "start_time": "2023-05-07T10:39:47.155Z"
   },
   {
    "duration": 619,
    "start_time": "2023-05-07T10:43:33.260Z"
   },
   {
    "duration": 378,
    "start_time": "2023-05-07T10:43:33.881Z"
   },
   {
    "duration": 430,
    "start_time": "2023-05-07T10:43:34.261Z"
   },
   {
    "duration": 4,
    "start_time": "2023-05-07T10:43:48.157Z"
   },
   {
    "duration": 363,
    "start_time": "2023-05-07T10:43:48.549Z"
   },
   {
    "duration": 337,
    "start_time": "2023-05-07T10:43:49.236Z"
   },
   {
    "duration": 362,
    "start_time": "2023-05-07T10:43:49.575Z"
   },
   {
    "duration": 3,
    "start_time": "2023-05-07T10:44:16.359Z"
   },
   {
    "duration": 371,
    "start_time": "2023-05-07T10:44:16.854Z"
   },
   {
    "duration": 345,
    "start_time": "2023-05-07T10:44:17.227Z"
   },
   {
    "duration": 344,
    "start_time": "2023-05-07T10:44:17.702Z"
   },
   {
    "duration": 330,
    "start_time": "2023-05-07T10:46:12.031Z"
   },
   {
    "duration": 363,
    "start_time": "2023-05-07T10:46:29.191Z"
   },
   {
    "duration": 346,
    "start_time": "2023-05-07T10:46:34.005Z"
   },
   {
    "duration": 326,
    "start_time": "2023-05-07T10:46:49.605Z"
   },
   {
    "duration": 95199,
    "start_time": "2023-05-07T10:52:40.803Z"
   },
   {
    "duration": 30898,
    "start_time": "2023-05-07T10:54:21.320Z"
   },
   {
    "duration": 7,
    "start_time": "2023-05-07T10:54:53.672Z"
   },
   {
    "duration": 7,
    "start_time": "2023-05-07T10:54:55.305Z"
   },
   {
    "duration": 12149,
    "start_time": "2023-05-07T10:54:58.952Z"
   },
   {
    "duration": 8,
    "start_time": "2023-05-07T10:55:15.505Z"
   },
   {
    "duration": 8,
    "start_time": "2023-05-07T10:55:17.464Z"
   },
   {
    "duration": 12336,
    "start_time": "2023-05-07T10:55:19.481Z"
   },
   {
    "duration": 7,
    "start_time": "2023-05-07T10:55:37.036Z"
   },
   {
    "duration": 6,
    "start_time": "2023-05-07T10:55:37.771Z"
   },
   {
    "duration": 47047,
    "start_time": "2023-05-07T10:55:38.162Z"
   },
   {
    "duration": 12,
    "start_time": "2023-05-07T10:59:06.983Z"
   },
   {
    "duration": 6,
    "start_time": "2023-05-07T10:59:08.032Z"
   },
   {
    "duration": 23846,
    "start_time": "2023-05-07T10:59:08.855Z"
   },
   {
    "duration": 12123,
    "start_time": "2023-05-07T10:59:41.594Z"
   },
   {
    "duration": 10,
    "start_time": "2023-05-07T11:00:15.673Z"
   },
   {
    "duration": 7,
    "start_time": "2023-05-07T11:00:16.610Z"
   },
   {
    "duration": 9219,
    "start_time": "2023-05-07T11:00:17.200Z"
   },
   {
    "duration": 7,
    "start_time": "2023-05-07T11:00:34.031Z"
   },
   {
    "duration": 7,
    "start_time": "2023-05-07T11:00:34.936Z"
   },
   {
    "duration": 7119,
    "start_time": "2023-05-07T11:00:35.214Z"
   },
   {
    "duration": 8,
    "start_time": "2023-05-07T11:00:47.510Z"
   },
   {
    "duration": 7,
    "start_time": "2023-05-07T11:00:47.878Z"
   },
   {
    "duration": 7289,
    "start_time": "2023-05-07T11:00:49.414Z"
   },
   {
    "duration": 7,
    "start_time": "2023-05-07T11:01:09.669Z"
   },
   {
    "duration": 6,
    "start_time": "2023-05-07T11:01:10.166Z"
   },
   {
    "duration": 9205,
    "start_time": "2023-05-07T11:01:10.705Z"
   },
   {
    "duration": 19191,
    "start_time": "2023-05-07T11:01:27.319Z"
   },
   {
    "duration": 6,
    "start_time": "2023-05-07T11:02:03.460Z"
   },
   {
    "duration": 6,
    "start_time": "2023-05-07T11:02:03.849Z"
   },
   {
    "duration": 36472,
    "start_time": "2023-05-07T11:02:04.325Z"
   },
   {
    "duration": 7,
    "start_time": "2023-05-07T11:03:16.671Z"
   },
   {
    "duration": 6,
    "start_time": "2023-05-07T11:03:16.910Z"
   },
   {
    "duration": 35412,
    "start_time": "2023-05-07T11:03:17.208Z"
   },
   {
    "duration": 6,
    "start_time": "2023-05-07T11:04:10.910Z"
   },
   {
    "duration": 7,
    "start_time": "2023-05-07T11:04:11.250Z"
   },
   {
    "duration": 6,
    "start_time": "2023-05-07T11:04:11.682Z"
   },
   {
    "duration": 35943,
    "start_time": "2023-05-07T11:04:12.355Z"
   },
   {
    "duration": 6,
    "start_time": "2023-05-07T11:06:21.242Z"
   },
   {
    "duration": 5,
    "start_time": "2023-05-07T11:06:24.662Z"
   },
   {
    "duration": 7,
    "start_time": "2023-05-07T11:06:24.955Z"
   },
   {
    "duration": 6,
    "start_time": "2023-05-07T11:06:34.317Z"
   },
   {
    "duration": 15266,
    "start_time": "2023-05-07T11:06:38.843Z"
   },
   {
    "duration": 7,
    "start_time": "2023-05-07T11:06:56.244Z"
   },
   {
    "duration": 6,
    "start_time": "2023-05-07T11:06:56.548Z"
   },
   {
    "duration": 19108,
    "start_time": "2023-05-07T11:06:56.904Z"
   },
   {
    "duration": 46215,
    "start_time": "2023-05-07T11:07:20.403Z"
   },
   {
    "duration": 9,
    "start_time": "2023-05-07T11:08:07.617Z"
   },
   {
    "duration": 7,
    "start_time": "2023-05-07T11:08:07.902Z"
   },
   {
    "duration": 27854,
    "start_time": "2023-05-07T11:08:08.241Z"
   },
   {
    "duration": 28070,
    "start_time": "2023-05-07T11:08:40.252Z"
   },
   {
    "duration": 6,
    "start_time": "2023-05-07T11:09:14.875Z"
   },
   {
    "duration": 6,
    "start_time": "2023-05-07T11:09:15.517Z"
   },
   {
    "duration": 14947,
    "start_time": "2023-05-07T11:09:15.863Z"
   },
   {
    "duration": 1596,
    "start_time": "2023-05-07T11:09:40.423Z"
   },
   {
    "duration": 6,
    "start_time": "2023-05-07T11:09:42.784Z"
   },
   {
    "duration": 6,
    "start_time": "2023-05-07T11:09:44.864Z"
   },
   {
    "duration": 7,
    "start_time": "2023-05-07T11:09:45.079Z"
   },
   {
    "duration": 157026,
    "start_time": "2023-05-07T11:09:45.299Z"
   },
   {
    "duration": 10,
    "start_time": "2023-05-07T11:12:23.891Z"
   },
   {
    "duration": 6,
    "start_time": "2023-05-07T11:12:24.874Z"
   },
   {
    "duration": 8,
    "start_time": "2023-05-07T11:12:25.114Z"
   },
   {
    "duration": 133263,
    "start_time": "2023-05-07T11:12:25.348Z"
   },
   {
    "duration": 6,
    "start_time": "2023-05-07T11:16:35.021Z"
   },
   {
    "duration": 6,
    "start_time": "2023-05-07T11:16:35.323Z"
   },
   {
    "duration": 65604,
    "start_time": "2023-05-07T11:16:35.605Z"
   },
   {
    "duration": 8,
    "start_time": "2023-05-07T11:17:50.807Z"
   },
   {
    "duration": 9,
    "start_time": "2023-05-07T11:17:56.344Z"
   },
   {
    "duration": 7,
    "start_time": "2023-05-07T11:17:56.624Z"
   },
   {
    "duration": 55606,
    "start_time": "2023-05-07T11:17:57.313Z"
   },
   {
    "duration": 8,
    "start_time": "2023-05-07T11:19:06.205Z"
   },
   {
    "duration": 12,
    "start_time": "2023-05-07T11:19:06.593Z"
   },
   {
    "duration": 43933,
    "start_time": "2023-05-07T11:19:06.876Z"
   },
   {
    "duration": 5,
    "start_time": "2023-05-07T11:19:50.811Z"
   },
   {
    "duration": 12,
    "start_time": "2023-05-07T11:53:28.223Z"
   },
   {
    "duration": 7,
    "start_time": "2023-05-07T11:53:33.302Z"
   },
   {
    "duration": 20854,
    "start_time": "2023-05-07T11:53:38.673Z"
   },
   {
    "duration": 17,
    "start_time": "2023-05-07T11:54:02.384Z"
   },
   {
    "duration": 11,
    "start_time": "2023-05-07T11:54:02.686Z"
   },
   {
    "duration": 24791,
    "start_time": "2023-05-07T11:54:03.424Z"
   },
   {
    "duration": 8,
    "start_time": "2023-05-07T11:54:31.012Z"
   },
   {
    "duration": 6,
    "start_time": "2023-05-07T11:54:31.836Z"
   },
   {
    "duration": 13464,
    "start_time": "2023-05-07T11:54:32.353Z"
   },
   {
    "duration": 8,
    "start_time": "2023-05-07T11:54:49.786Z"
   },
   {
    "duration": 6,
    "start_time": "2023-05-07T11:54:50.027Z"
   },
   {
    "duration": 11763,
    "start_time": "2023-05-07T11:54:50.241Z"
   },
   {
    "duration": 7,
    "start_time": "2023-05-07T11:55:09.848Z"
   },
   {
    "duration": 6,
    "start_time": "2023-05-07T11:55:10.253Z"
   },
   {
    "duration": 10965,
    "start_time": "2023-05-07T11:55:10.555Z"
   },
   {
    "duration": 6101,
    "start_time": "2023-05-07T11:55:28.496Z"
   },
   {
    "duration": 11195,
    "start_time": "2023-05-07T11:55:36.431Z"
   },
   {
    "duration": 5870,
    "start_time": "2023-05-07T11:55:51.335Z"
   },
   {
    "duration": 7,
    "start_time": "2023-05-07T11:56:08.081Z"
   },
   {
    "duration": 5,
    "start_time": "2023-05-07T11:56:08.642Z"
   },
   {
    "duration": 7434,
    "start_time": "2023-05-07T11:56:08.880Z"
   },
   {
    "duration": 28698,
    "start_time": "2023-05-07T11:56:18.705Z"
   },
   {
    "duration": 8,
    "start_time": "2023-05-07T11:56:56.731Z"
   },
   {
    "duration": 6,
    "start_time": "2023-05-07T11:56:57.013Z"
   },
   {
    "duration": 29084,
    "start_time": "2023-05-07T11:56:57.531Z"
   },
   {
    "duration": 2163,
    "start_time": "2023-05-09T19:47:45.124Z"
   },
   {
    "duration": 85,
    "start_time": "2023-05-09T19:47:47.289Z"
   },
   {
    "duration": 17,
    "start_time": "2023-05-09T19:47:47.376Z"
   },
   {
    "duration": 38,
    "start_time": "2023-05-09T19:47:47.394Z"
   },
   {
    "duration": 168,
    "start_time": "2023-05-09T19:47:47.434Z"
   },
   {
    "duration": 7255,
    "start_time": "2023-05-09T19:47:47.604Z"
   },
   {
    "duration": 23,
    "start_time": "2023-05-09T19:49:24.541Z"
   },
   {
    "duration": 11,
    "start_time": "2023-05-09T19:49:27.317Z"
   },
   {
    "duration": 6,
    "start_time": "2023-05-09T19:49:27.834Z"
   },
   {
    "duration": 20,
    "start_time": "2023-05-09T19:49:28.246Z"
   },
   {
    "duration": 20,
    "start_time": "2023-05-09T19:49:28.635Z"
   },
   {
    "duration": 5,
    "start_time": "2023-05-09T19:49:30.587Z"
   },
   {
    "duration": 30,
    "start_time": "2023-05-09T19:49:33.720Z"
   },
   {
    "duration": 6,
    "start_time": "2023-05-09T19:49:38.387Z"
   },
   {
    "duration": 19681,
    "start_time": "2023-05-09T19:49:39.172Z"
   },
   {
    "duration": 5,
    "start_time": "2023-05-09T19:50:16.790Z"
   },
   {
    "duration": 9,
    "start_time": "2023-05-09T19:50:17.199Z"
   },
   {
    "duration": 5,
    "start_time": "2023-05-09T19:50:17.847Z"
   },
   {
    "duration": 9634,
    "start_time": "2023-05-09T19:50:18.517Z"
   },
   {
    "duration": 20312,
    "start_time": "2023-05-09T19:55:59.533Z"
   },
   {
    "duration": 7,
    "start_time": "2023-05-09T19:56:25.055Z"
   },
   {
    "duration": 6,
    "start_time": "2023-05-09T19:56:25.639Z"
   },
   {
    "duration": 27487,
    "start_time": "2023-05-09T19:56:28.855Z"
   },
   {
    "duration": 7,
    "start_time": "2023-05-09T19:57:15.940Z"
   },
   {
    "duration": 5,
    "start_time": "2023-05-09T19:57:16.294Z"
   },
   {
    "duration": 27036,
    "start_time": "2023-05-09T19:57:17.098Z"
   },
   {
    "duration": 6,
    "start_time": "2023-05-09T19:57:56.682Z"
   },
   {
    "duration": 6,
    "start_time": "2023-05-09T19:57:56.950Z"
   },
   {
    "duration": 6,
    "start_time": "2023-05-09T19:58:13.140Z"
   },
   {
    "duration": 9,
    "start_time": "2023-05-09T19:58:13.147Z"
   },
   {
    "duration": 14696,
    "start_time": "2023-05-09T19:58:13.157Z"
   },
   {
    "duration": 9,
    "start_time": "2023-05-09T19:58:41.128Z"
   },
   {
    "duration": 5,
    "start_time": "2023-05-09T19:58:41.474Z"
   },
   {
    "duration": 19227,
    "start_time": "2023-05-09T19:58:42.016Z"
   },
   {
    "duration": 7,
    "start_time": "2023-05-09T19:59:08.338Z"
   },
   {
    "duration": 5,
    "start_time": "2023-05-09T19:59:08.706Z"
   },
   {
    "duration": 38001,
    "start_time": "2023-05-09T19:59:09.250Z"
   },
   {
    "duration": 8816,
    "start_time": "2023-05-09T19:59:51.071Z"
   },
   {
    "duration": 7,
    "start_time": "2023-05-09T20:00:04.568Z"
   },
   {
    "duration": 6,
    "start_time": "2023-05-09T20:00:04.830Z"
   },
   {
    "duration": 73199,
    "start_time": "2023-05-09T20:00:05.151Z"
   },
   {
    "duration": 7,
    "start_time": "2023-05-09T20:01:50.062Z"
   },
   {
    "duration": 6,
    "start_time": "2023-05-09T20:01:50.447Z"
   },
   {
    "duration": 38610,
    "start_time": "2023-05-09T20:01:50.925Z"
   },
   {
    "duration": 8,
    "start_time": "2023-05-09T20:02:46.633Z"
   },
   {
    "duration": 6,
    "start_time": "2023-05-09T20:02:47.155Z"
   },
   {
    "duration": 35796,
    "start_time": "2023-05-09T20:02:47.540Z"
   },
   {
    "duration": 8,
    "start_time": "2023-05-09T20:05:23.564Z"
   },
   {
    "duration": 37747,
    "start_time": "2023-05-09T20:05:24.788Z"
   },
   {
    "duration": 6,
    "start_time": "2023-05-09T20:06:02.537Z"
   },
   {
    "duration": 6,
    "start_time": "2023-05-09T20:06:23.312Z"
   },
   {
    "duration": 6,
    "start_time": "2023-05-09T20:06:24.745Z"
   },
   {
    "duration": 43916,
    "start_time": "2023-05-09T20:06:25.743Z"
   },
   {
    "duration": 45812,
    "start_time": "2023-05-09T20:07:19.723Z"
   },
   {
    "duration": 9,
    "start_time": "2023-05-09T20:09:03.259Z"
   },
   {
    "duration": 3,
    "start_time": "2023-05-09T20:09:03.562Z"
   },
   {
    "duration": 6,
    "start_time": "2023-05-09T20:09:03.803Z"
   },
   {
    "duration": 22051,
    "start_time": "2023-05-09T20:09:04.493Z"
   },
   {
    "duration": 24102,
    "start_time": "2023-05-09T20:09:37.237Z"
   },
   {
    "duration": 7,
    "start_time": "2023-05-09T20:10:06.048Z"
   },
   {
    "duration": 2939,
    "start_time": "2023-05-09T20:10:06.415Z"
   },
   {
    "duration": 7,
    "start_time": "2023-05-09T20:10:11.319Z"
   },
   {
    "duration": 3,
    "start_time": "2023-05-09T20:10:11.663Z"
   },
   {
    "duration": 6,
    "start_time": "2023-05-09T20:10:11.998Z"
   },
   {
    "duration": 11935,
    "start_time": "2023-05-09T20:10:12.809Z"
   },
   {
    "duration": 8,
    "start_time": "2023-05-09T20:10:34.026Z"
   },
   {
    "duration": 3,
    "start_time": "2023-05-09T20:10:37.777Z"
   },
   {
    "duration": 5,
    "start_time": "2023-05-09T20:10:38.185Z"
   },
   {
    "duration": 14303,
    "start_time": "2023-05-09T20:10:38.946Z"
   },
   {
    "duration": 14439,
    "start_time": "2023-05-09T20:10:56.917Z"
   },
   {
    "duration": 14188,
    "start_time": "2023-05-09T20:11:14.564Z"
   },
   {
    "duration": 15065,
    "start_time": "2023-05-09T20:11:32.484Z"
   },
   {
    "duration": 15126,
    "start_time": "2023-05-09T20:11:50.932Z"
   },
   {
    "duration": 7,
    "start_time": "2023-05-09T20:12:07.864Z"
   },
   {
    "duration": 5,
    "start_time": "2023-05-09T20:12:13.714Z"
   },
   {
    "duration": 3,
    "start_time": "2023-05-09T20:12:14.255Z"
   },
   {
    "duration": 6,
    "start_time": "2023-05-09T20:12:14.818Z"
   },
   {
    "duration": 7741,
    "start_time": "2023-05-09T20:12:15.705Z"
   },
   {
    "duration": 5,
    "start_time": "2023-05-09T20:12:27.001Z"
   },
   {
    "duration": 2,
    "start_time": "2023-05-09T20:12:27.216Z"
   },
   {
    "duration": 5,
    "start_time": "2023-05-09T20:12:27.433Z"
   },
   {
    "duration": 59815,
    "start_time": "2023-05-09T20:12:27.826Z"
   },
   {
    "duration": 5,
    "start_time": "2023-05-09T20:13:34.774Z"
   },
   {
    "duration": 2,
    "start_time": "2023-05-09T20:13:35.010Z"
   },
   {
    "duration": 8,
    "start_time": "2023-05-09T20:13:35.311Z"
   },
   {
    "duration": 118078,
    "start_time": "2023-05-09T20:13:35.974Z"
   },
   {
    "duration": 5,
    "start_time": "2023-05-09T20:16:02.464Z"
   },
   {
    "duration": 3,
    "start_time": "2023-05-09T20:16:03.047Z"
   },
   {
    "duration": 6,
    "start_time": "2023-05-09T20:16:03.281Z"
   },
   {
    "duration": 75943,
    "start_time": "2023-05-09T20:16:04.112Z"
   },
   {
    "duration": 4,
    "start_time": "2023-05-09T20:17:22.845Z"
   },
   {
    "duration": 2,
    "start_time": "2023-05-09T20:17:24.655Z"
   },
   {
    "duration": 8,
    "start_time": "2023-05-09T20:17:24.894Z"
   },
   {
    "duration": 68074,
    "start_time": "2023-05-09T20:17:27.486Z"
   },
   {
    "duration": 35945,
    "start_time": "2023-05-09T20:18:36.106Z"
   },
   {
    "duration": 6,
    "start_time": "2023-05-09T20:19:30.910Z"
   },
   {
    "duration": 2,
    "start_time": "2023-05-09T20:19:31.816Z"
   },
   {
    "duration": 8,
    "start_time": "2023-05-09T20:19:32.599Z"
   },
   {
    "duration": 82545,
    "start_time": "2023-05-09T20:19:33.409Z"
   },
   {
    "duration": 6,
    "start_time": "2023-05-09T20:20:57.211Z"
   },
   {
    "duration": 3,
    "start_time": "2023-05-09T20:20:57.540Z"
   },
   {
    "duration": 6,
    "start_time": "2023-05-09T20:20:57.926Z"
   },
   {
    "duration": 46614,
    "start_time": "2023-05-09T20:20:59.140Z"
   },
   {
    "duration": 7,
    "start_time": "2023-05-09T20:22:21.121Z"
   },
   {
    "duration": 2,
    "start_time": "2023-05-09T20:22:21.641Z"
   },
   {
    "duration": 8,
    "start_time": "2023-05-09T20:22:25.203Z"
   },
   {
    "duration": 60245,
    "start_time": "2023-05-09T20:22:26.099Z"
   },
   {
    "duration": 8,
    "start_time": "2023-05-09T20:23:51.216Z"
   },
   {
    "duration": 2,
    "start_time": "2023-05-09T20:23:53.752Z"
   },
   {
    "duration": 7,
    "start_time": "2023-05-09T20:23:54.097Z"
   },
   {
    "duration": 52689,
    "start_time": "2023-05-09T20:23:54.760Z"
   },
   {
    "duration": 1497,
    "start_time": "2023-05-09T20:24:55.067Z"
   },
   {
    "duration": 7,
    "start_time": "2023-05-09T20:24:57.485Z"
   },
   {
    "duration": 2,
    "start_time": "2023-05-09T20:24:57.764Z"
   },
   {
    "duration": 6,
    "start_time": "2023-05-09T20:24:58.022Z"
   },
   {
    "duration": 88707,
    "start_time": "2023-05-09T20:24:58.436Z"
   },
   {
    "duration": 9,
    "start_time": "2023-05-09T20:27:03.498Z"
   },
   {
    "duration": 2,
    "start_time": "2023-05-09T20:27:06.447Z"
   },
   {
    "duration": 6,
    "start_time": "2023-05-09T20:27:06.701Z"
   },
   {
    "duration": 106518,
    "start_time": "2023-05-09T20:27:07.430Z"
   },
   {
    "duration": 7,
    "start_time": "2023-05-09T20:29:41.487Z"
   },
   {
    "duration": 2,
    "start_time": "2023-05-09T20:29:42.160Z"
   },
   {
    "duration": 5,
    "start_time": "2023-05-09T20:29:42.676Z"
   },
   {
    "duration": 29799,
    "start_time": "2023-05-09T20:29:43.856Z"
   },
   {
    "duration": 5,
    "start_time": "2023-05-09T20:30:16.578Z"
   },
   {
    "duration": 7,
    "start_time": "2023-05-09T20:30:16.947Z"
   },
   {
    "duration": 3,
    "start_time": "2023-05-09T20:30:17.313Z"
   },
   {
    "duration": 6,
    "start_time": "2023-05-09T20:30:17.770Z"
   },
   {
    "duration": 5180,
    "start_time": "2023-05-09T20:30:18.468Z"
   },
   {
    "duration": 2969,
    "start_time": "2023-05-09T20:30:26.283Z"
   },
   {
    "duration": 7,
    "start_time": "2023-05-09T20:30:37.123Z"
   },
   {
    "duration": 2,
    "start_time": "2023-05-09T20:30:37.403Z"
   },
   {
    "duration": 6,
    "start_time": "2023-05-09T20:30:37.638Z"
   },
   {
    "duration": 2930,
    "start_time": "2023-05-09T20:30:37.915Z"
   },
   {
    "duration": 3177,
    "start_time": "2023-05-09T20:30:43.869Z"
   },
   {
    "duration": 5,
    "start_time": "2023-05-09T20:30:50.678Z"
   },
   {
    "duration": 3,
    "start_time": "2023-05-09T20:30:50.933Z"
   },
   {
    "duration": 6,
    "start_time": "2023-05-09T20:30:51.132Z"
   },
   {
    "duration": 2763,
    "start_time": "2023-05-09T20:30:51.388Z"
   },
   {
    "duration": 7,
    "start_time": "2023-05-09T20:31:01.798Z"
   },
   {
    "duration": 3,
    "start_time": "2023-05-09T20:31:02.060Z"
   },
   {
    "duration": 6,
    "start_time": "2023-05-09T20:31:02.381Z"
   },
   {
    "duration": 3855,
    "start_time": "2023-05-09T20:31:02.989Z"
   },
   {
    "duration": 3761,
    "start_time": "2023-05-09T20:31:08.279Z"
   },
   {
    "duration": 3919,
    "start_time": "2023-05-09T20:31:14.830Z"
   },
   {
    "duration": 5,
    "start_time": "2023-05-09T20:31:27.141Z"
   },
   {
    "duration": 8,
    "start_time": "2023-05-09T20:31:27.915Z"
   },
   {
    "duration": 3,
    "start_time": "2023-05-09T20:31:29.720Z"
   },
   {
    "duration": 6,
    "start_time": "2023-05-09T20:31:29.976Z"
   },
   {
    "duration": 3924,
    "start_time": "2023-05-09T20:31:30.624Z"
   },
   {
    "duration": 3630,
    "start_time": "2023-05-09T20:31:36.715Z"
   },
   {
    "duration": 3351,
    "start_time": "2023-05-09T20:31:41.703Z"
   },
   {
    "duration": 6827,
    "start_time": "2023-05-09T20:31:46.425Z"
   },
   {
    "duration": 4,
    "start_time": "2023-05-09T20:32:09.595Z"
   },
   {
    "duration": 7,
    "start_time": "2023-05-09T20:32:09.941Z"
   },
   {
    "duration": 2,
    "start_time": "2023-05-09T20:32:10.226Z"
   },
   {
    "duration": 6,
    "start_time": "2023-05-09T20:32:10.786Z"
   },
   {
    "duration": 5294,
    "start_time": "2023-05-09T20:32:11.258Z"
   },
   {
    "duration": 1515,
    "start_time": "2023-05-09T20:32:20.341Z"
   },
   {
    "duration": 2267,
    "start_time": "2023-05-09T20:32:25.130Z"
   },
   {
    "duration": 4580,
    "start_time": "2023-05-09T20:32:30.755Z"
   },
   {
    "duration": 7,
    "start_time": "2023-05-09T20:32:39.884Z"
   },
   {
    "duration": 3,
    "start_time": "2023-05-09T20:32:40.333Z"
   },
   {
    "duration": 5,
    "start_time": "2023-05-09T20:32:41.502Z"
   },
   {
    "duration": 5579,
    "start_time": "2023-05-09T20:32:43.876Z"
   },
   {
    "duration": 10,
    "start_time": "2023-05-09T20:37:12.489Z"
   },
   {
    "duration": 5,
    "start_time": "2023-05-09T20:38:06.851Z"
   },
   {
    "duration": 4252,
    "start_time": "2023-05-09T20:38:08.340Z"
   },
   {
    "duration": 26,
    "start_time": "2023-05-09T20:38:52.326Z"
   },
   {
    "duration": 13,
    "start_time": "2023-05-09T20:38:52.571Z"
   },
   {
    "duration": 35,
    "start_time": "2023-05-09T20:38:52.781Z"
   },
   {
    "duration": 130,
    "start_time": "2023-05-09T20:38:52.949Z"
   },
   {
    "duration": 6618,
    "start_time": "2023-05-09T20:38:53.145Z"
   },
   {
    "duration": 7,
    "start_time": "2023-05-09T20:39:08.075Z"
   },
   {
    "duration": 26,
    "start_time": "2023-05-09T20:39:09.979Z"
   },
   {
    "duration": 8,
    "start_time": "2023-05-09T20:39:14.135Z"
   },
   {
    "duration": 9,
    "start_time": "2023-05-09T20:39:18.994Z"
   },
   {
    "duration": 24,
    "start_time": "2023-05-09T20:39:19.528Z"
   },
   {
    "duration": 28,
    "start_time": "2023-05-09T20:39:53.289Z"
   },
   {
    "duration": 13,
    "start_time": "2023-05-09T20:39:53.800Z"
   },
   {
    "duration": 33,
    "start_time": "2023-05-09T20:39:53.865Z"
   },
   {
    "duration": 131,
    "start_time": "2023-05-09T20:39:54.373Z"
   },
   {
    "duration": 6745,
    "start_time": "2023-05-09T20:39:55.090Z"
   },
   {
    "duration": 23,
    "start_time": "2023-05-09T20:40:01.838Z"
   },
   {
    "duration": 18,
    "start_time": "2023-05-09T20:40:28.387Z"
   },
   {
    "duration": 9,
    "start_time": "2023-05-09T20:41:38.705Z"
   },
   {
    "duration": 26,
    "start_time": "2023-05-09T20:41:40.489Z"
   },
   {
    "duration": 25,
    "start_time": "2023-05-09T20:42:36.839Z"
   },
   {
    "duration": 12,
    "start_time": "2023-05-09T20:42:37.114Z"
   },
   {
    "duration": 34,
    "start_time": "2023-05-09T20:42:37.317Z"
   },
   {
    "duration": 138,
    "start_time": "2023-05-09T20:42:37.532Z"
   },
   {
    "duration": 6641,
    "start_time": "2023-05-09T20:42:38.350Z"
   },
   {
    "duration": 10,
    "start_time": "2023-05-09T20:42:44.994Z"
   },
   {
    "duration": 24,
    "start_time": "2023-05-09T20:42:47.774Z"
   },
   {
    "duration": 23,
    "start_time": "2023-05-09T20:42:59.184Z"
   },
   {
    "duration": 17,
    "start_time": "2023-05-09T20:43:46.492Z"
   },
   {
    "duration": 25,
    "start_time": "2023-05-09T20:43:50.298Z"
   },
   {
    "duration": 12,
    "start_time": "2023-05-09T20:43:50.809Z"
   },
   {
    "duration": 33,
    "start_time": "2023-05-09T20:43:50.841Z"
   },
   {
    "duration": 163,
    "start_time": "2023-05-09T20:43:50.875Z"
   },
   {
    "duration": 6676,
    "start_time": "2023-05-09T20:43:51.040Z"
   },
   {
    "duration": 27,
    "start_time": "2023-05-09T20:43:57.717Z"
   },
   {
    "duration": 10,
    "start_time": "2023-05-09T20:44:46.174Z"
   },
   {
    "duration": 24,
    "start_time": "2023-05-09T20:44:48.519Z"
   },
   {
    "duration": 26,
    "start_time": "2023-05-09T20:45:11.831Z"
   },
   {
    "duration": 14,
    "start_time": "2023-05-09T20:45:12.332Z"
   },
   {
    "duration": 35,
    "start_time": "2023-05-09T20:45:12.808Z"
   },
   {
    "duration": 130,
    "start_time": "2023-05-09T20:45:13.518Z"
   },
   {
    "duration": 6594,
    "start_time": "2023-05-09T20:45:15.088Z"
   },
   {
    "duration": 13,
    "start_time": "2023-05-09T20:45:23.826Z"
   },
   {
    "duration": 8,
    "start_time": "2023-05-09T20:45:40.403Z"
   },
   {
    "duration": 9,
    "start_time": "2023-05-09T20:45:51.333Z"
   },
   {
    "duration": 17,
    "start_time": "2023-05-09T20:45:54.554Z"
   },
   {
    "duration": 9,
    "start_time": "2023-05-09T20:46:00.980Z"
   },
   {
    "duration": 7,
    "start_time": "2023-05-09T20:46:01.757Z"
   },
   {
    "duration": 15,
    "start_time": "2023-05-09T20:46:02.622Z"
   },
   {
    "duration": 3,
    "start_time": "2023-05-09T20:46:03.828Z"
   },
   {
    "duration": 4,
    "start_time": "2023-05-09T20:46:14.750Z"
   },
   {
    "duration": 6,
    "start_time": "2023-05-09T20:46:21.349Z"
   },
   {
    "duration": 6,
    "start_time": "2023-05-09T20:46:21.652Z"
   },
   {
    "duration": 2,
    "start_time": "2023-05-09T20:46:24.206Z"
   },
   {
    "duration": 6,
    "start_time": "2023-05-09T20:46:25.047Z"
   },
   {
    "duration": 7385,
    "start_time": "2023-05-09T20:46:25.757Z"
   },
   {
    "duration": 5,
    "start_time": "2023-05-09T20:46:37.213Z"
   },
   {
    "duration": 9,
    "start_time": "2023-05-09T20:46:37.534Z"
   },
   {
    "duration": 2,
    "start_time": "2023-05-09T20:46:37.797Z"
   },
   {
    "duration": 6,
    "start_time": "2023-05-09T20:46:38.057Z"
   },
   {
    "duration": 8208,
    "start_time": "2023-05-09T20:46:38.747Z"
   },
   {
    "duration": 7,
    "start_time": "2023-05-09T20:46:50.631Z"
   },
   {
    "duration": 3,
    "start_time": "2023-05-09T20:46:52.309Z"
   },
   {
    "duration": 6,
    "start_time": "2023-05-09T20:46:52.696Z"
   },
   {
    "duration": 8238,
    "start_time": "2023-05-09T20:46:53.296Z"
   },
   {
    "duration": 7706,
    "start_time": "2023-05-09T20:47:04.648Z"
   },
   {
    "duration": 6,
    "start_time": "2023-05-09T20:47:31.514Z"
   },
   {
    "duration": 6,
    "start_time": "2023-05-09T20:47:31.793Z"
   },
   {
    "duration": 2,
    "start_time": "2023-05-09T20:47:32.028Z"
   },
   {
    "duration": 6,
    "start_time": "2023-05-09T20:47:32.545Z"
   },
   {
    "duration": 7420,
    "start_time": "2023-05-09T20:47:33.335Z"
   },
   {
    "duration": 25,
    "start_time": "2023-05-09T20:47:44.490Z"
   },
   {
    "duration": 16,
    "start_time": "2023-05-09T20:47:44.723Z"
   },
   {
    "duration": 35,
    "start_time": "2023-05-09T20:47:44.972Z"
   },
   {
    "duration": 144,
    "start_time": "2023-05-09T20:47:45.373Z"
   },
   {
    "duration": 6861,
    "start_time": "2023-05-09T20:47:46.907Z"
   },
   {
    "duration": 9,
    "start_time": "2023-05-09T20:47:53.819Z"
   },
   {
    "duration": 23,
    "start_time": "2023-05-09T20:48:14.540Z"
   },
   {
    "duration": 19,
    "start_time": "2023-05-09T20:48:19.669Z"
   },
   {
    "duration": 8,
    "start_time": "2023-05-09T20:48:28.999Z"
   },
   {
    "duration": 3,
    "start_time": "2023-05-09T20:48:37.124Z"
   },
   {
    "duration": 5,
    "start_time": "2023-05-09T20:48:48.972Z"
   },
   {
    "duration": 13,
    "start_time": "2023-05-09T20:48:49.230Z"
   },
   {
    "duration": 3,
    "start_time": "2023-05-09T20:48:49.771Z"
   },
   {
    "duration": 3,
    "start_time": "2023-05-09T20:48:50.312Z"
   },
   {
    "duration": 5,
    "start_time": "2023-05-09T20:49:00.374Z"
   },
   {
    "duration": 8,
    "start_time": "2023-05-09T20:49:00.600Z"
   },
   {
    "duration": 2,
    "start_time": "2023-05-09T20:49:00.863Z"
   },
   {
    "duration": 6,
    "start_time": "2023-05-09T20:49:01.424Z"
   },
   {
    "duration": 9618,
    "start_time": "2023-05-09T20:49:01.831Z"
   },
   {
    "duration": 2153,
    "start_time": "2023-05-10T07:01:03.669Z"
   },
   {
    "duration": 84,
    "start_time": "2023-05-10T07:01:05.824Z"
   },
   {
    "duration": 19,
    "start_time": "2023-05-10T07:01:05.909Z"
   },
   {
    "duration": 63,
    "start_time": "2023-05-10T07:01:05.929Z"
   },
   {
    "duration": 156,
    "start_time": "2023-05-10T07:01:05.994Z"
   },
   {
    "duration": 6010,
    "start_time": "2023-05-10T07:01:38.189Z"
   },
   {
    "duration": 2,
    "start_time": "2023-05-10T07:01:53.987Z"
   },
   {
    "duration": 16,
    "start_time": "2023-05-10T07:01:54.929Z"
   },
   {
    "duration": 11,
    "start_time": "2023-05-10T07:01:59.788Z"
   },
   {
    "duration": 8,
    "start_time": "2023-05-10T07:02:50.366Z"
   },
   {
    "duration": 5,
    "start_time": "2023-05-10T07:03:02.172Z"
   },
   {
    "duration": 19,
    "start_time": "2023-05-10T07:04:37.138Z"
   },
   {
    "duration": 3,
    "start_time": "2023-05-10T07:05:35.483Z"
   },
   {
    "duration": 3,
    "start_time": "2023-05-10T07:05:36.483Z"
   },
   {
    "duration": 7,
    "start_time": "2023-05-10T07:06:35.762Z"
   },
   {
    "duration": 7,
    "start_time": "2023-05-10T07:06:49.863Z"
   },
   {
    "duration": 135,
    "start_time": "2023-05-10T07:07:50.736Z"
   },
   {
    "duration": 8,
    "start_time": "2023-05-10T07:16:37.072Z"
   },
   {
    "duration": 8741,
    "start_time": "2023-05-10T07:16:38.750Z"
   },
   {
    "duration": 7,
    "start_time": "2023-05-10T07:17:06.269Z"
   },
   {
    "duration": 2,
    "start_time": "2023-05-10T07:17:07.117Z"
   },
   {
    "duration": 7,
    "start_time": "2023-05-10T07:17:07.611Z"
   },
   {
    "duration": 10368,
    "start_time": "2023-05-10T07:17:08.308Z"
   },
   {
    "duration": 6,
    "start_time": "2023-05-10T07:17:38.430Z"
   },
   {
    "duration": 2,
    "start_time": "2023-05-10T07:17:39.250Z"
   },
   {
    "duration": 5,
    "start_time": "2023-05-10T07:17:39.559Z"
   },
   {
    "duration": 9438,
    "start_time": "2023-05-10T07:17:39.850Z"
   },
   {
    "duration": 5,
    "start_time": "2023-05-10T07:18:59.007Z"
   },
   {
    "duration": 10113,
    "start_time": "2023-05-10T07:18:59.577Z"
   },
   {
    "duration": 5,
    "start_time": "2023-05-10T07:19:48.178Z"
   },
   {
    "duration": 2,
    "start_time": "2023-05-10T07:19:48.529Z"
   },
   {
    "duration": 6,
    "start_time": "2023-05-10T07:19:49.763Z"
   },
   {
    "duration": 9409,
    "start_time": "2023-05-10T07:19:50.978Z"
   },
   {
    "duration": 9,
    "start_time": "2023-05-10T07:20:46.107Z"
   },
   {
    "duration": 6,
    "start_time": "2023-05-10T07:20:46.525Z"
   },
   {
    "duration": 13,
    "start_time": "2023-05-10T07:20:46.758Z"
   },
   {
    "duration": 3,
    "start_time": "2023-05-10T07:20:47.007Z"
   },
   {
    "duration": 3,
    "start_time": "2023-05-10T07:20:48.159Z"
   },
   {
    "duration": 28,
    "start_time": "2023-05-10T07:20:54.452Z"
   },
   {
    "duration": 118,
    "start_time": "2023-05-10T07:20:59.518Z"
   },
   {
    "duration": 5579,
    "start_time": "2023-05-10T07:21:00.258Z"
   },
   {
    "duration": 1,
    "start_time": "2023-05-10T07:21:05.839Z"
   },
   {
    "duration": 14,
    "start_time": "2023-05-10T07:21:05.842Z"
   },
   {
    "duration": 18,
    "start_time": "2023-05-10T07:21:05.857Z"
   },
   {
    "duration": 5,
    "start_time": "2023-05-10T07:21:06.818Z"
   },
   {
    "duration": 11,
    "start_time": "2023-05-10T07:21:07.139Z"
   },
   {
    "duration": 3,
    "start_time": "2023-05-10T07:21:07.879Z"
   },
   {
    "duration": 3,
    "start_time": "2023-05-10T07:21:08.458Z"
   },
   {
    "duration": 27,
    "start_time": "2023-05-10T07:21:20.483Z"
   },
   {
    "duration": 12,
    "start_time": "2023-05-10T07:21:21.303Z"
   },
   {
    "duration": 29,
    "start_time": "2023-05-10T07:21:23.938Z"
   },
   {
    "duration": 118,
    "start_time": "2023-05-10T07:21:24.258Z"
   },
   {
    "duration": 5780,
    "start_time": "2023-05-10T07:21:25.059Z"
   },
   {
    "duration": 2,
    "start_time": "2023-05-10T07:21:30.842Z"
   },
   {
    "duration": 49,
    "start_time": "2023-05-10T07:21:30.846Z"
   },
   {
    "duration": 7,
    "start_time": "2023-05-10T07:21:33.138Z"
   },
   {
    "duration": 5,
    "start_time": "2023-05-10T07:21:33.718Z"
   },
   {
    "duration": 11,
    "start_time": "2023-05-10T07:21:34.238Z"
   },
   {
    "duration": 4,
    "start_time": "2023-05-10T07:21:34.818Z"
   },
   {
    "duration": 5,
    "start_time": "2023-05-10T07:21:36.007Z"
   },
   {
    "duration": 4,
    "start_time": "2023-05-10T07:21:42.638Z"
   },
   {
    "duration": 6,
    "start_time": "2023-05-10T07:21:47.318Z"
   },
   {
    "duration": 2,
    "start_time": "2023-05-10T07:21:48.699Z"
   },
   {
    "duration": 6,
    "start_time": "2023-05-10T07:21:49.039Z"
   },
   {
    "duration": 9604,
    "start_time": "2023-05-10T07:21:49.768Z"
   },
   {
    "duration": 27,
    "start_time": "2023-05-10T07:22:32.336Z"
   },
   {
    "duration": 13,
    "start_time": "2023-05-10T07:22:32.607Z"
   },
   {
    "duration": 30,
    "start_time": "2023-05-10T07:22:32.876Z"
   },
   {
    "duration": 118,
    "start_time": "2023-05-10T07:22:33.116Z"
   },
   {
    "duration": 6189,
    "start_time": "2023-05-10T07:22:33.416Z"
   },
   {
    "duration": 2,
    "start_time": "2023-05-10T07:22:39.607Z"
   },
   {
    "duration": 17,
    "start_time": "2023-05-10T07:22:39.610Z"
   },
   {
    "duration": 8,
    "start_time": "2023-05-10T07:22:39.628Z"
   },
   {
    "duration": 11,
    "start_time": "2023-05-10T07:22:39.638Z"
   },
   {
    "duration": 12,
    "start_time": "2023-05-10T07:22:40.956Z"
   },
   {
    "duration": 3,
    "start_time": "2023-05-10T07:22:42.556Z"
   },
   {
    "duration": 3,
    "start_time": "2023-05-10T07:22:43.156Z"
   },
   {
    "duration": 4,
    "start_time": "2023-05-10T07:22:44.905Z"
   },
   {
    "duration": 6,
    "start_time": "2023-05-10T07:22:46.002Z"
   },
   {
    "duration": 6,
    "start_time": "2023-05-10T07:22:49.303Z"
   },
   {
    "duration": 2,
    "start_time": "2023-05-10T07:22:52.071Z"
   },
   {
    "duration": 5,
    "start_time": "2023-05-10T07:22:52.536Z"
   },
   {
    "duration": 8022,
    "start_time": "2023-05-10T07:22:53.263Z"
   },
   {
    "duration": 6,
    "start_time": "2023-05-10T07:23:12.436Z"
   },
   {
    "duration": 2,
    "start_time": "2023-05-10T07:23:12.999Z"
   },
   {
    "duration": 6,
    "start_time": "2023-05-10T07:23:14.740Z"
   },
   {
    "duration": 19908,
    "start_time": "2023-05-10T07:23:16.576Z"
   },
   {
    "duration": 5,
    "start_time": "2023-05-10T07:23:37.154Z"
   },
   {
    "duration": 7,
    "start_time": "2023-05-10T07:23:37.414Z"
   },
   {
    "duration": 3,
    "start_time": "2023-05-10T07:23:37.740Z"
   },
   {
    "duration": 6,
    "start_time": "2023-05-10T07:23:38.289Z"
   },
   {
    "duration": 19710,
    "start_time": "2023-05-10T07:23:38.974Z"
   },
   {
    "duration": 6,
    "start_time": "2023-05-10T07:24:07.943Z"
   },
   {
    "duration": 2,
    "start_time": "2023-05-10T07:24:08.254Z"
   },
   {
    "duration": 5,
    "start_time": "2023-05-10T07:24:08.701Z"
   },
   {
    "duration": 36416,
    "start_time": "2023-05-10T07:24:09.380Z"
   },
   {
    "duration": 6,
    "start_time": "2023-05-10T07:24:54.497Z"
   },
   {
    "duration": 2,
    "start_time": "2023-05-10T07:24:54.801Z"
   },
   {
    "duration": 6,
    "start_time": "2023-05-10T07:24:55.123Z"
   },
   {
    "duration": 14974,
    "start_time": "2023-05-10T07:24:55.714Z"
   },
   {
    "duration": 15601,
    "start_time": "2023-05-10T07:25:18.880Z"
   },
   {
    "duration": 6,
    "start_time": "2023-05-10T07:25:41.047Z"
   },
   {
    "duration": 2,
    "start_time": "2023-05-10T07:25:41.500Z"
   },
   {
    "duration": 5,
    "start_time": "2023-05-10T07:25:41.976Z"
   },
   {
    "duration": 7703,
    "start_time": "2023-05-10T07:25:42.477Z"
   },
   {
    "duration": 7911,
    "start_time": "2023-05-10T07:25:54.573Z"
   },
   {
    "duration": 8148,
    "start_time": "2023-05-10T07:26:04.734Z"
   },
   {
    "duration": 5,
    "start_time": "2023-05-10T08:06:30.462Z"
   },
   {
    "duration": 3,
    "start_time": "2023-05-10T08:06:30.821Z"
   },
   {
    "duration": 6,
    "start_time": "2023-05-10T08:06:31.230Z"
   },
   {
    "duration": 16596,
    "start_time": "2023-05-10T08:06:31.781Z"
   },
   {
    "duration": 6,
    "start_time": "2023-05-10T08:07:13.742Z"
   },
   {
    "duration": 3,
    "start_time": "2023-05-10T08:07:14.601Z"
   },
   {
    "duration": 5,
    "start_time": "2023-05-10T08:07:15.026Z"
   },
   {
    "duration": 12453,
    "start_time": "2023-05-10T08:07:15.622Z"
   },
   {
    "duration": 6,
    "start_time": "2023-05-10T08:07:38.539Z"
   },
   {
    "duration": 2,
    "start_time": "2023-05-10T08:07:38.861Z"
   },
   {
    "duration": 5,
    "start_time": "2023-05-10T08:07:39.223Z"
   },
   {
    "duration": 16494,
    "start_time": "2023-05-10T08:07:39.882Z"
   },
   {
    "duration": 6,
    "start_time": "2023-05-10T08:08:04.164Z"
   },
   {
    "duration": 2,
    "start_time": "2023-05-10T08:08:05.221Z"
   },
   {
    "duration": 6,
    "start_time": "2023-05-10T08:08:14.261Z"
   },
   {
    "duration": 32231,
    "start_time": "2023-05-10T08:08:14.541Z"
   },
   {
    "duration": 34441,
    "start_time": "2023-05-10T08:08:52.632Z"
   },
   {
    "duration": 6,
    "start_time": "2023-05-10T08:21:38.996Z"
   },
   {
    "duration": 6,
    "start_time": "2023-05-10T08:21:39.796Z"
   },
   {
    "duration": 11217,
    "start_time": "2023-05-10T08:21:40.458Z"
   },
   {
    "duration": 7,
    "start_time": "2023-05-10T08:22:15.327Z"
   },
   {
    "duration": 6,
    "start_time": "2023-05-10T08:22:15.744Z"
   },
   {
    "duration": 10250,
    "start_time": "2023-05-10T08:22:16.128Z"
   },
   {
    "duration": 6,
    "start_time": "2023-05-10T08:22:31.208Z"
   },
   {
    "duration": 5,
    "start_time": "2023-05-10T08:22:31.508Z"
   },
   {
    "duration": 10310,
    "start_time": "2023-05-10T08:22:31.967Z"
   },
   {
    "duration": 6,
    "start_time": "2023-05-10T08:22:50.922Z"
   },
   {
    "duration": 6,
    "start_time": "2023-05-10T08:22:51.296Z"
   },
   {
    "duration": 32097,
    "start_time": "2023-05-10T08:22:51.583Z"
   },
   {
    "duration": 6,
    "start_time": "2023-05-10T08:23:37.358Z"
   },
   {
    "duration": 6,
    "start_time": "2023-05-10T08:23:37.714Z"
   },
   {
    "duration": 11256,
    "start_time": "2023-05-10T08:23:38.141Z"
   },
   {
    "duration": 6,
    "start_time": "2023-05-10T08:23:55.168Z"
   },
   {
    "duration": 5,
    "start_time": "2023-05-10T08:23:55.715Z"
   },
   {
    "duration": 10518,
    "start_time": "2023-05-10T08:23:56.055Z"
   },
   {
    "duration": 7,
    "start_time": "2023-05-10T08:24:16.276Z"
   },
   {
    "duration": 5,
    "start_time": "2023-05-10T08:24:16.962Z"
   },
   {
    "duration": 10771,
    "start_time": "2023-05-10T08:24:17.512Z"
   },
   {
    "duration": 7,
    "start_time": "2023-05-10T08:24:44.632Z"
   },
   {
    "duration": 6,
    "start_time": "2023-05-10T08:24:44.934Z"
   },
   {
    "duration": 10871,
    "start_time": "2023-05-10T08:24:45.201Z"
   },
   {
    "duration": 6,
    "start_time": "2023-05-10T08:25:05.396Z"
   },
   {
    "duration": 6,
    "start_time": "2023-05-10T08:25:06.020Z"
   },
   {
    "duration": 10732,
    "start_time": "2023-05-10T08:25:06.458Z"
   },
   {
    "duration": 6,
    "start_time": "2023-05-10T08:25:27.478Z"
   },
   {
    "duration": 5,
    "start_time": "2023-05-10T08:25:28.178Z"
   },
   {
    "duration": 11090,
    "start_time": "2023-05-10T08:25:28.702Z"
   },
   {
    "duration": 4,
    "start_time": "2023-05-10T08:26:00.818Z"
   },
   {
    "duration": 7,
    "start_time": "2023-05-10T08:26:01.526Z"
   },
   {
    "duration": 5,
    "start_time": "2023-05-10T08:26:01.938Z"
   },
   {
    "duration": 11328,
    "start_time": "2023-05-10T08:26:02.362Z"
   },
   {
    "duration": 7,
    "start_time": "2023-05-10T08:26:18.497Z"
   },
   {
    "duration": 11433,
    "start_time": "2023-05-10T08:26:18.954Z"
   },
   {
    "duration": 5,
    "start_time": "2023-05-10T08:26:36.777Z"
   },
   {
    "duration": 6,
    "start_time": "2023-05-10T08:26:37.997Z"
   },
   {
    "duration": 5,
    "start_time": "2023-05-10T08:26:38.862Z"
   },
   {
    "duration": 11038,
    "start_time": "2023-05-10T08:26:39.638Z"
   },
   {
    "duration": 5,
    "start_time": "2023-05-10T08:26:55.937Z"
   },
   {
    "duration": 6,
    "start_time": "2023-05-10T08:26:56.358Z"
   },
   {
    "duration": 6,
    "start_time": "2023-05-10T08:26:56.699Z"
   },
   {
    "duration": 9705,
    "start_time": "2023-05-10T08:26:57.167Z"
   },
   {
    "duration": 9,
    "start_time": "2023-05-10T08:41:37.256Z"
   },
   {
    "duration": 4,
    "start_time": "2023-05-10T08:41:43.914Z"
   },
   {
    "duration": 85,
    "start_time": "2023-05-10T08:43:31.698Z"
   },
   {
    "duration": 90,
    "start_time": "2023-05-10T08:43:49.139Z"
   },
   {
    "duration": 14,
    "start_time": "2023-05-10T08:44:09.562Z"
   },
   {
    "duration": 4,
    "start_time": "2023-05-10T08:44:28.978Z"
   },
   {
    "duration": 83,
    "start_time": "2023-05-10T08:45:03.398Z"
   },
   {
    "duration": 85,
    "start_time": "2023-05-10T08:45:15.498Z"
   },
   {
    "duration": 86,
    "start_time": "2023-05-10T08:45:20.838Z"
   },
   {
    "duration": 95,
    "start_time": "2023-05-10T08:45:29.298Z"
   },
   {
    "duration": 4,
    "start_time": "2023-05-10T08:45:39.460Z"
   },
   {
    "duration": 83,
    "start_time": "2023-05-10T08:45:53.439Z"
   },
   {
    "duration": 83,
    "start_time": "2023-05-10T08:45:59.554Z"
   },
   {
    "duration": 11,
    "start_time": "2023-05-10T08:47:08.400Z"
   },
   {
    "duration": 11,
    "start_time": "2023-05-10T08:47:28.117Z"
   },
   {
    "duration": 12,
    "start_time": "2023-05-10T08:47:37.497Z"
   },
   {
    "duration": 4,
    "start_time": "2023-05-10T08:47:52.681Z"
   },
   {
    "duration": 5,
    "start_time": "2023-05-10T08:48:52.758Z"
   },
   {
    "duration": 3,
    "start_time": "2023-05-10T08:48:57.478Z"
   },
   {
    "duration": 11,
    "start_time": "2023-05-10T08:49:03.898Z"
   },
   {
    "duration": 11,
    "start_time": "2023-05-10T08:49:13.738Z"
   },
   {
    "duration": 3,
    "start_time": "2023-05-10T08:49:25.438Z"
   },
   {
    "duration": 102,
    "start_time": "2023-05-10T08:49:29.419Z"
   },
   {
    "duration": 407,
    "start_time": "2023-05-10T08:50:16.778Z"
   },
   {
    "duration": 401,
    "start_time": "2023-05-10T08:50:45.726Z"
   },
   {
    "duration": 5,
    "start_time": "2023-05-10T08:50:55.959Z"
   },
   {
    "duration": 4,
    "start_time": "2023-05-10T08:51:03.338Z"
   },
   {
    "duration": 521,
    "start_time": "2023-05-10T08:51:08.238Z"
   },
   {
    "duration": 13,
    "start_time": "2023-05-10T08:51:26.700Z"
   },
   {
    "duration": 15,
    "start_time": "2023-05-10T08:51:29.718Z"
   },
   {
    "duration": 4,
    "start_time": "2023-05-10T08:51:38.360Z"
   },
   {
    "duration": 395,
    "start_time": "2023-05-10T08:51:47.378Z"
   },
   {
    "duration": 532,
    "start_time": "2023-05-10T08:51:53.838Z"
   },
   {
    "duration": 551,
    "start_time": "2023-05-10T08:52:30.478Z"
   },
   {
    "duration": 670,
    "start_time": "2023-05-10T08:52:46.946Z"
   },
   {
    "duration": 1032,
    "start_time": "2023-05-10T08:55:57.111Z"
   },
   {
    "duration": 15,
    "start_time": "2023-05-10T09:02:10.678Z"
   },
   {
    "duration": 9,
    "start_time": "2023-05-10T09:02:19.793Z"
   },
   {
    "duration": 8,
    "start_time": "2023-05-10T09:02:26.378Z"
   },
   {
    "duration": 8,
    "start_time": "2023-05-10T09:02:58.279Z"
   },
   {
    "duration": 12,
    "start_time": "2023-05-10T09:05:04.718Z"
   },
   {
    "duration": 18,
    "start_time": "2023-05-10T09:05:40.726Z"
   },
   {
    "duration": 16,
    "start_time": "2023-05-10T09:05:51.874Z"
   },
   {
    "duration": 20,
    "start_time": "2023-05-10T09:06:17.053Z"
   },
   {
    "duration": 121,
    "start_time": "2023-05-10T09:06:46.958Z"
   },
   {
    "duration": 85,
    "start_time": "2023-05-10T09:07:05.498Z"
   },
   {
    "duration": 10,
    "start_time": "2023-05-10T09:07:18.426Z"
   },
   {
    "duration": 15,
    "start_time": "2023-05-10T09:09:54.298Z"
   },
   {
    "duration": 14,
    "start_time": "2023-05-10T09:09:59.712Z"
   },
   {
    "duration": 11,
    "start_time": "2023-05-10T09:10:03.469Z"
   },
   {
    "duration": 15,
    "start_time": "2023-05-10T09:10:10.886Z"
   },
   {
    "duration": 1261,
    "start_time": "2023-05-10T09:10:25.762Z"
   },
   {
    "duration": 1106,
    "start_time": "2023-05-10T09:10:56.407Z"
   },
   {
    "duration": 16,
    "start_time": "2023-05-10T09:12:52.847Z"
   },
   {
    "duration": 443,
    "start_time": "2023-05-10T09:16:42.266Z"
   },
   {
    "duration": 446,
    "start_time": "2023-05-10T09:16:48.914Z"
   },
   {
    "duration": 420,
    "start_time": "2023-05-10T09:17:04.326Z"
   },
   {
    "duration": 433,
    "start_time": "2023-05-10T09:17:13.909Z"
   },
   {
    "duration": 510,
    "start_time": "2023-05-10T09:17:38.337Z"
   },
   {
    "duration": 15,
    "start_time": "2023-05-10T09:17:42.161Z"
   },
   {
    "duration": 867,
    "start_time": "2023-05-10T09:20:28.943Z"
   },
   {
    "duration": 8,
    "start_time": "2023-05-10T09:26:30.977Z"
   },
   {
    "duration": 5,
    "start_time": "2023-05-10T09:26:33.481Z"
   },
   {
    "duration": 10494,
    "start_time": "2023-05-10T09:26:38.700Z"
   },
   {
    "duration": 452,
    "start_time": "2023-05-10T09:26:52.319Z"
   },
   {
    "duration": 517,
    "start_time": "2023-05-10T09:32:05.329Z"
   },
   {
    "duration": 3,
    "start_time": "2023-05-10T09:37:34.193Z"
   },
   {
    "duration": 7,
    "start_time": "2023-05-10T09:37:38.476Z"
   },
   {
    "duration": 6,
    "start_time": "2023-05-10T09:50:53.222Z"
   },
   {
    "duration": 10384,
    "start_time": "2023-05-10T09:51:41.405Z"
   },
   {
    "duration": 6,
    "start_time": "2023-05-10T09:51:53.625Z"
   },
   {
    "duration": 5,
    "start_time": "2023-05-10T09:51:55.407Z"
   },
   {
    "duration": 10073,
    "start_time": "2023-05-10T09:51:57.504Z"
   },
   {
    "duration": 102,
    "start_time": "2023-05-10T09:52:31.618Z"
   },
   {
    "duration": 87,
    "start_time": "2023-05-10T09:52:45.422Z"
   },
   {
    "duration": 95,
    "start_time": "2023-05-10T09:53:04.027Z"
   },
   {
    "duration": 109,
    "start_time": "2023-05-10T09:53:23.605Z"
   },
   {
    "duration": 8,
    "start_time": "2023-05-10T09:53:40.543Z"
   },
   {
    "duration": 6,
    "start_time": "2023-05-10T09:53:41.281Z"
   },
   {
    "duration": 9747,
    "start_time": "2023-05-10T09:53:41.939Z"
   },
   {
    "duration": 179,
    "start_time": "2023-05-10T09:54:00.880Z"
   },
   {
    "duration": 6,
    "start_time": "2023-05-10T10:05:12.172Z"
   },
   {
    "duration": 6,
    "start_time": "2023-05-10T10:05:12.663Z"
   },
   {
    "duration": 9642,
    "start_time": "2023-05-10T10:05:13.241Z"
   },
   {
    "duration": 122,
    "start_time": "2023-05-10T10:05:27.410Z"
   },
   {
    "duration": 551,
    "start_time": "2023-05-10T10:05:35.121Z"
   },
   {
    "duration": 634565,
    "start_time": "2023-05-10T10:20:33.018Z"
   },
   {
    "duration": 22,
    "start_time": "2023-05-10T10:33:12.922Z"
   },
   {
    "duration": 32,
    "start_time": "2023-05-10T10:33:22.721Z"
   },
   {
    "duration": 35,
    "start_time": "2023-05-10T10:36:10.080Z"
   },
   {
    "duration": 11,
    "start_time": "2023-05-10T10:38:33.553Z"
   },
   {
    "duration": 10,
    "start_time": "2023-05-10T10:38:52.424Z"
   },
   {
    "duration": 31,
    "start_time": "2023-05-10T10:38:59.879Z"
   },
   {
    "duration": 9,
    "start_time": "2023-05-10T10:39:12.099Z"
   },
   {
    "duration": 31,
    "start_time": "2023-05-10T10:39:18.919Z"
   },
   {
    "duration": 9,
    "start_time": "2023-05-10T10:39:41.961Z"
   },
   {
    "duration": 9,
    "start_time": "2023-05-10T10:39:57.120Z"
   },
   {
    "duration": 8,
    "start_time": "2023-05-10T10:40:02.100Z"
   },
   {
    "duration": 9,
    "start_time": "2023-05-10T10:40:09.380Z"
   },
   {
    "duration": 38,
    "start_time": "2023-05-10T10:40:16.441Z"
   },
   {
    "duration": 7,
    "start_time": "2023-05-10T10:40:22.400Z"
   },
   {
    "duration": 10,
    "start_time": "2023-05-10T10:40:49.521Z"
   },
   {
    "duration": 6,
    "start_time": "2023-05-10T10:40:51.860Z"
   },
   {
    "duration": 10,
    "start_time": "2023-05-10T10:40:57.439Z"
   },
   {
    "duration": 29,
    "start_time": "2023-05-10T10:41:10.079Z"
   },
   {
    "duration": 8,
    "start_time": "2023-05-10T10:41:15.440Z"
   },
   {
    "duration": 31,
    "start_time": "2023-05-10T10:41:17.765Z"
   },
   {
    "duration": 12,
    "start_time": "2023-05-10T10:42:19.462Z"
   },
   {
    "duration": 762,
    "start_time": "2023-05-10T10:43:01.199Z"
   },
   {
    "duration": 733,
    "start_time": "2023-05-10T10:44:19.579Z"
   },
   {
    "duration": 757,
    "start_time": "2023-05-10T10:44:31.436Z"
   },
   {
    "duration": 833,
    "start_time": "2023-05-10T10:44:38.715Z"
   },
   {
    "duration": 3912,
    "start_time": "2023-05-10T10:45:40.127Z"
   },
   {
    "duration": 3273,
    "start_time": "2023-05-10T10:48:24.330Z"
   },
   {
    "duration": 16,
    "start_time": "2023-05-10T10:54:24.068Z"
   },
   {
    "duration": 16,
    "start_time": "2023-05-10T10:54:44.046Z"
   },
   {
    "duration": 19,
    "start_time": "2023-05-10T10:55:35.201Z"
   },
   {
    "duration": 52,
    "start_time": "2023-05-10T10:55:40.052Z"
   },
   {
    "duration": 47,
    "start_time": "2023-05-10T10:56:00.187Z"
   },
   {
    "duration": 15,
    "start_time": "2023-05-10T10:56:59.420Z"
   },
   {
    "duration": 618,
    "start_time": "2023-05-10T10:57:26.154Z"
   },
   {
    "duration": 11,
    "start_time": "2023-05-10T10:58:05.688Z"
   },
   {
    "duration": 97,
    "start_time": "2023-05-10T11:01:57.145Z"
   },
   {
    "duration": 255,
    "start_time": "2023-05-10T11:03:19.232Z"
   },
   {
    "duration": 72,
    "start_time": "2023-05-10T11:04:21.221Z"
   },
   {
    "duration": 175,
    "start_time": "2023-05-10T11:05:04.702Z"
   },
   {
    "duration": 84,
    "start_time": "2023-05-10T11:06:12.677Z"
   },
   {
    "duration": 5,
    "start_time": "2023-05-10T11:07:06.243Z"
   },
   {
    "duration": 5,
    "start_time": "2023-05-10T11:07:33.964Z"
   },
   {
    "duration": 5,
    "start_time": "2023-05-10T11:07:46.288Z"
   },
   {
    "duration": 79,
    "start_time": "2023-05-10T11:07:58.702Z"
   },
   {
    "duration": 4,
    "start_time": "2023-05-10T11:08:05.000Z"
   },
   {
    "duration": 5,
    "start_time": "2023-05-10T11:08:24.783Z"
   },
   {
    "duration": 5,
    "start_time": "2023-05-10T11:08:35.596Z"
   },
   {
    "duration": 20,
    "start_time": "2023-05-10T11:09:30.013Z"
   },
   {
    "duration": 16,
    "start_time": "2023-05-10T11:09:34.779Z"
   },
   {
    "duration": 19,
    "start_time": "2023-05-10T11:09:35.648Z"
   },
   {
    "duration": 19,
    "start_time": "2023-05-10T11:10:00.198Z"
   },
   {
    "duration": 18,
    "start_time": "2023-05-10T11:10:00.819Z"
   },
   {
    "duration": 15,
    "start_time": "2023-05-10T11:10:10.352Z"
   },
   {
    "duration": 1066,
    "start_time": "2023-05-10T11:10:30.641Z"
   },
   {
    "duration": 619,
    "start_time": "2023-05-10T11:10:59.499Z"
   },
   {
    "duration": 712,
    "start_time": "2023-05-10T11:13:21.540Z"
   },
   {
    "duration": 659,
    "start_time": "2023-05-10T11:13:53.602Z"
   },
   {
    "duration": 696,
    "start_time": "2023-05-10T11:14:04.310Z"
   },
   {
    "duration": 146,
    "start_time": "2023-05-10T11:15:02.440Z"
   },
   {
    "duration": 709,
    "start_time": "2023-05-10T11:15:08.272Z"
   },
   {
    "duration": 688,
    "start_time": "2023-05-10T11:16:03.960Z"
   },
   {
    "duration": 670,
    "start_time": "2023-05-10T11:16:10.160Z"
   },
   {
    "duration": 664,
    "start_time": "2023-05-10T11:16:20.360Z"
   },
   {
    "duration": 745,
    "start_time": "2023-05-10T11:16:28.220Z"
   },
   {
    "duration": 764,
    "start_time": "2023-05-10T11:16:59.600Z"
   },
   {
    "duration": 1244,
    "start_time": "2023-05-10T11:17:20.682Z"
   },
   {
    "duration": 2880,
    "start_time": "2023-05-11T06:31:54.008Z"
   },
   {
    "duration": 122,
    "start_time": "2023-05-11T06:31:56.890Z"
   },
   {
    "duration": 20,
    "start_time": "2023-05-11T06:31:57.014Z"
   },
   {
    "duration": 75,
    "start_time": "2023-05-11T06:31:57.037Z"
   },
   {
    "duration": 196,
    "start_time": "2023-05-11T06:31:57.114Z"
   },
   {
    "duration": 8483,
    "start_time": "2023-05-11T06:31:57.313Z"
   },
   {
    "duration": 2,
    "start_time": "2023-05-11T06:32:05.799Z"
   },
   {
    "duration": 15,
    "start_time": "2023-05-11T06:32:12.489Z"
   },
   {
    "duration": 8,
    "start_time": "2023-05-11T06:32:13.008Z"
   },
   {
    "duration": 6,
    "start_time": "2023-05-11T06:32:13.307Z"
   },
   {
    "duration": 16,
    "start_time": "2023-05-11T06:32:13.588Z"
   },
   {
    "duration": 4,
    "start_time": "2023-05-11T06:32:14.216Z"
   },
   {
    "duration": 5,
    "start_time": "2023-05-11T06:32:20.671Z"
   },
   {
    "duration": 14,
    "start_time": "2023-05-11T06:32:27.979Z"
   },
   {
    "duration": 14,
    "start_time": "2023-05-11T06:32:29.787Z"
   },
   {
    "duration": 7,
    "start_time": "2023-05-11T06:32:49.828Z"
   },
   {
    "duration": 31570,
    "start_time": "2023-05-11T06:33:17.307Z"
   },
   {
    "duration": 8,
    "start_time": "2023-05-11T06:34:01.028Z"
   },
   {
    "duration": 15,
    "start_time": "2023-05-11T06:34:01.354Z"
   },
   {
    "duration": 31654,
    "start_time": "2023-05-11T06:34:01.927Z"
   },
   {
    "duration": 12,
    "start_time": "2023-05-11T06:34:33.650Z"
   },
   {
    "duration": 11,
    "start_time": "2023-05-11T06:34:33.763Z"
   },
   {
    "duration": 31931,
    "start_time": "2023-05-11T06:34:34.230Z"
   },
   {
    "duration": 196,
    "start_time": "2023-05-11T06:35:27.290Z"
   },
   {
    "duration": 10,
    "start_time": "2023-05-11T06:35:53.514Z"
   },
   {
    "duration": 8,
    "start_time": "2023-05-11T06:35:56.184Z"
   },
   {
    "duration": 28506,
    "start_time": "2023-05-11T06:36:02.080Z"
   },
   {
    "duration": 153,
    "start_time": "2023-05-11T06:36:43.668Z"
   },
   {
    "duration": 970,
    "start_time": "2023-05-11T06:36:57.875Z"
   },
   {
    "duration": 469271,
    "start_time": "2023-05-11T06:37:54.727Z"
   },
   {
    "duration": 236918,
    "start_time": "2023-05-11T06:45:46.977Z"
   },
   {
    "duration": 95078,
    "start_time": "2023-05-11T06:49:54.175Z"
   },
   {
    "duration": 23,
    "start_time": "2023-05-11T06:52:33.045Z"
   },
   {
    "duration": 54,
    "start_time": "2023-05-11T06:52:33.725Z"
   },
   {
    "duration": 7,
    "start_time": "2023-05-11T06:57:47.395Z"
   },
   {
    "duration": 7,
    "start_time": "2023-05-11T06:57:49.720Z"
   },
   {
    "duration": 67738,
    "start_time": "2023-05-11T06:57:58.439Z"
   },
   {
    "duration": 116374,
    "start_time": "2023-05-11T07:00:06.412Z"
   },
   {
    "duration": 14,
    "start_time": "2023-05-11T07:02:02.790Z"
   },
   {
    "duration": 30,
    "start_time": "2023-05-11T07:02:05.734Z"
   },
   {
    "duration": 3007,
    "start_time": "2023-05-11T07:03:13.496Z"
   },
   {
    "duration": 813,
    "start_time": "2023-05-11T07:03:24.363Z"
   },
   {
    "duration": 3110,
    "start_time": "2023-05-11T07:03:30.070Z"
   },
   {
    "duration": 2897,
    "start_time": "2023-05-11T07:06:03.160Z"
   },
   {
    "duration": 2878,
    "start_time": "2023-05-11T07:06:36.276Z"
   },
   {
    "duration": 3091,
    "start_time": "2023-05-11T07:07:14.002Z"
   },
   {
    "duration": 3337,
    "start_time": "2023-05-11T07:07:20.242Z"
   },
   {
    "duration": 3242,
    "start_time": "2023-05-11T07:07:45.972Z"
   },
   {
    "duration": 3323599,
    "start_time": "2023-05-11T07:08:07.699Z"
   },
   {
    "duration": 58,
    "start_time": "2023-05-11T08:03:31.300Z"
   },
   {
    "duration": 31,
    "start_time": "2023-05-11T08:03:31.363Z"
   },
   {
    "duration": 5035,
    "start_time": "2023-05-11T08:03:31.397Z"
   },
   {
    "duration": 2723,
    "start_time": "2023-05-11T08:42:09.313Z"
   },
   {
    "duration": 49,
    "start_time": "2023-05-11T08:42:12.038Z"
   },
   {
    "duration": 20,
    "start_time": "2023-05-11T08:42:12.089Z"
   },
   {
    "duration": 51,
    "start_time": "2023-05-11T08:42:12.111Z"
   },
   {
    "duration": 247,
    "start_time": "2023-05-11T08:42:12.166Z"
   },
   {
    "duration": 9801,
    "start_time": "2023-05-11T08:42:12.415Z"
   },
   {
    "duration": 16,
    "start_time": "2023-05-11T08:42:22.218Z"
   },
   {
    "duration": 64,
    "start_time": "2023-05-11T08:42:22.236Z"
   },
   {
    "duration": 27,
    "start_time": "2023-05-11T08:42:22.303Z"
   },
   {
    "duration": 21,
    "start_time": "2023-05-11T08:42:22.333Z"
   },
   {
    "duration": 52,
    "start_time": "2023-05-11T08:42:22.356Z"
   },
   {
    "duration": 10,
    "start_time": "2023-05-11T08:42:22.410Z"
   },
   {
    "duration": 36,
    "start_time": "2023-05-11T08:42:22.422Z"
   },
   {
    "duration": 54,
    "start_time": "2023-05-11T08:42:22.461Z"
   },
   {
    "duration": 12,
    "start_time": "2023-05-11T08:42:22.518Z"
   },
   {
    "duration": 62631,
    "start_time": "2023-05-11T08:42:22.532Z"
   },
   {
    "duration": 194,
    "start_time": "2023-05-11T08:43:25.171Z"
   },
   {
    "duration": 951,
    "start_time": "2023-05-11T08:43:25.371Z"
   },
   {
    "duration": 4818742,
    "start_time": "2023-05-11T08:43:26.324Z"
   },
   {
    "duration": 50,
    "start_time": "2023-05-11T10:03:45.068Z"
   },
   {
    "duration": 91,
    "start_time": "2023-05-11T10:03:45.121Z"
   },
   {
    "duration": 6404,
    "start_time": "2023-05-11T10:03:45.215Z"
   },
   {
    "duration": 2618,
    "start_time": "2023-05-11T10:41:51.987Z"
   },
   {
    "duration": 30,
    "start_time": "2023-05-11T10:41:54.608Z"
   },
   {
    "duration": 104,
    "start_time": "2023-05-11T10:41:54.640Z"
   },
   {
    "duration": 96,
    "start_time": "2023-05-11T10:41:54.745Z"
   },
   {
    "duration": 252,
    "start_time": "2023-05-11T10:41:54.843Z"
   },
   {
    "duration": 9292,
    "start_time": "2023-05-11T10:41:55.097Z"
   },
   {
    "duration": 15,
    "start_time": "2023-05-11T10:42:04.393Z"
   },
   {
    "duration": 11,
    "start_time": "2023-05-11T10:42:04.410Z"
   },
   {
    "duration": 8,
    "start_time": "2023-05-11T10:42:04.423Z"
   },
   {
    "duration": 30,
    "start_time": "2023-05-11T10:42:04.433Z"
   },
   {
    "duration": 35,
    "start_time": "2023-05-11T10:42:04.465Z"
   },
   {
    "duration": 10,
    "start_time": "2023-05-11T10:42:04.502Z"
   },
   {
    "duration": 7,
    "start_time": "2023-05-11T10:42:04.514Z"
   },
   {
    "duration": 61,
    "start_time": "2023-05-11T10:42:04.524Z"
   },
   {
    "duration": 19,
    "start_time": "2023-05-11T10:42:04.588Z"
   },
   {
    "duration": 61989,
    "start_time": "2023-05-11T10:42:04.609Z"
   },
   {
    "duration": 228,
    "start_time": "2023-05-11T10:43:06.601Z"
   },
   {
    "duration": 849,
    "start_time": "2023-05-11T10:43:06.831Z"
   },
   {
    "duration": 3932,
    "start_time": "2023-05-11T13:50:42.039Z"
   },
   {
    "duration": 79,
    "start_time": "2023-05-11T13:50:45.983Z"
   },
   {
    "duration": 183,
    "start_time": "2023-05-11T13:50:46.070Z"
   },
   {
    "duration": 297,
    "start_time": "2023-05-11T13:50:46.266Z"
   },
   {
    "duration": 383,
    "start_time": "2023-05-11T13:50:46.572Z"
   },
   {
    "duration": 13152,
    "start_time": "2023-05-11T13:50:46.964Z"
   },
   {
    "duration": 20,
    "start_time": "2023-05-11T13:51:00.118Z"
   },
   {
    "duration": 198,
    "start_time": "2023-05-11T13:51:00.143Z"
   },
   {
    "duration": 188,
    "start_time": "2023-05-11T13:51:00.342Z"
   },
   {
    "duration": 209,
    "start_time": "2023-05-11T13:51:00.532Z"
   },
   {
    "duration": 101,
    "start_time": "2023-05-11T13:51:00.743Z"
   },
   {
    "duration": 148,
    "start_time": "2023-05-11T13:51:00.855Z"
   },
   {
    "duration": 136,
    "start_time": "2023-05-11T13:51:01.005Z"
   },
   {
    "duration": 214,
    "start_time": "2023-05-11T13:51:01.143Z"
   },
   {
    "duration": 248,
    "start_time": "2023-05-11T13:51:01.358Z"
   },
   {
    "duration": 588994,
    "start_time": "2023-05-11T13:51:01.616Z"
   },
   {
    "duration": 244,
    "start_time": "2023-05-11T14:00:50.614Z"
   },
   {
    "duration": 2014,
    "start_time": "2023-05-11T14:00:50.864Z"
   },
   {
    "duration": 18799,
    "start_time": "2023-05-11T14:00:52.886Z"
   },
   {
    "duration": 0,
    "start_time": "2023-05-11T14:01:11.699Z"
   },
   {
    "duration": 0,
    "start_time": "2023-05-11T14:01:11.700Z"
   },
   {
    "duration": 0,
    "start_time": "2023-05-11T14:01:11.700Z"
   },
   {
    "duration": 31,
    "start_time": "2023-05-11T14:01:42.664Z"
   },
   {
    "duration": 18,
    "start_time": "2023-05-11T14:01:43.959Z"
   },
   {
    "duration": 19,
    "start_time": "2023-05-11T14:01:44.267Z"
   },
   {
    "duration": 20,
    "start_time": "2023-05-11T14:01:44.989Z"
   },
   {
    "duration": 62187,
    "start_time": "2023-05-11T14:01:45.569Z"
   },
   {
    "duration": 44,
    "start_time": "2023-05-11T14:03:01.320Z"
   },
   {
    "duration": 26,
    "start_time": "2023-05-11T14:03:02.907Z"
   },
   {
    "duration": 499709,
    "start_time": "2023-05-11T14:03:03.867Z"
   },
   {
    "duration": 2058,
    "start_time": "2023-05-11T16:14:31.791Z"
   },
   {
    "duration": 92,
    "start_time": "2023-05-11T16:14:33.852Z"
   },
   {
    "duration": 18,
    "start_time": "2023-05-11T16:14:33.946Z"
   },
   {
    "duration": 39,
    "start_time": "2023-05-11T16:14:33.965Z"
   },
   {
    "duration": 162,
    "start_time": "2023-05-11T16:14:34.007Z"
   },
   {
    "duration": 6496,
    "start_time": "2023-05-11T16:14:34.171Z"
   },
   {
    "duration": 11,
    "start_time": "2023-05-11T16:14:40.668Z"
   },
   {
    "duration": 8,
    "start_time": "2023-05-11T16:14:40.681Z"
   },
   {
    "duration": 23,
    "start_time": "2023-05-11T16:14:40.691Z"
   },
   {
    "duration": 13,
    "start_time": "2023-05-11T16:14:40.716Z"
   },
   {
    "duration": 8,
    "start_time": "2023-05-11T16:14:40.730Z"
   },
   {
    "duration": 19,
    "start_time": "2023-05-11T16:14:40.740Z"
   },
   {
    "duration": 9,
    "start_time": "2023-05-11T16:14:40.761Z"
   },
   {
    "duration": 12,
    "start_time": "2023-05-11T16:14:40.772Z"
   },
   {
    "duration": 24,
    "start_time": "2023-05-11T16:14:40.785Z"
   },
   {
    "duration": 19980,
    "start_time": "2023-05-11T16:14:40.810Z"
   },
   {
    "duration": 153,
    "start_time": "2023-05-11T16:15:00.792Z"
   },
   {
    "duration": 616,
    "start_time": "2023-05-11T16:15:00.946Z"
   },
   {
    "duration": 1184237,
    "start_time": "2023-05-11T16:15:01.564Z"
   },
   {
    "duration": 17,
    "start_time": "2023-05-11T16:34:45.803Z"
   },
   {
    "duration": 84,
    "start_time": "2023-05-11T16:34:45.821Z"
   },
   {
    "duration": 3678,
    "start_time": "2023-05-11T16:34:45.907Z"
   },
   {
    "duration": 2151,
    "start_time": "2023-05-14T17:51:16.888Z"
   },
   {
    "duration": 94,
    "start_time": "2023-05-14T17:51:19.042Z"
   },
   {
    "duration": 19,
    "start_time": "2023-05-14T17:51:19.137Z"
   },
   {
    "duration": 38,
    "start_time": "2023-05-14T17:51:19.158Z"
   },
   {
    "duration": 159,
    "start_time": "2023-05-14T17:51:19.197Z"
   },
   {
    "duration": 6974,
    "start_time": "2023-05-14T17:51:19.375Z"
   },
   {
    "duration": 17,
    "start_time": "2023-05-14T17:58:36.156Z"
   },
   {
    "duration": 7,
    "start_time": "2023-05-14T17:58:36.760Z"
   },
   {
    "duration": 6,
    "start_time": "2023-05-14T17:58:36.998Z"
   },
   {
    "duration": 13,
    "start_time": "2023-05-14T17:58:37.191Z"
   },
   {
    "duration": 4,
    "start_time": "2023-05-14T17:58:38.254Z"
   },
   {
    "duration": 3,
    "start_time": "2023-05-14T17:58:38.983Z"
   },
   {
    "duration": 5,
    "start_time": "2023-05-14T17:58:43.047Z"
   },
   {
    "duration": 11,
    "start_time": "2023-05-14T17:58:43.633Z"
   },
   {
    "duration": 6,
    "start_time": "2023-05-14T17:58:46.404Z"
   },
   {
    "duration": 17854,
    "start_time": "2023-05-14T17:58:49.176Z"
   },
   {
    "duration": 195,
    "start_time": "2023-05-14T17:59:55.045Z"
   },
   {
    "duration": 639,
    "start_time": "2023-05-14T18:00:54.464Z"
   },
   {
    "duration": 172,
    "start_time": "2023-05-14T18:09:42.045Z"
   },
   {
    "duration": 6,
    "start_time": "2023-05-14T18:09:50.976Z"
   },
   {
    "duration": 6,
    "start_time": "2023-05-14T18:10:35.152Z"
   },
   {
    "duration": 6,
    "start_time": "2023-05-14T18:11:33.090Z"
   },
   {
    "duration": 6,
    "start_time": "2023-05-14T18:11:35.456Z"
   },
   {
    "duration": 7040,
    "start_time": "2023-05-14T18:12:03.751Z"
   },
   {
    "duration": 12,
    "start_time": "2023-05-14T18:12:15.659Z"
   },
   {
    "duration": 9,
    "start_time": "2023-05-14T18:12:19.668Z"
   },
   {
    "duration": 6,
    "start_time": "2023-05-14T18:12:21.334Z"
   },
   {
    "duration": 17,
    "start_time": "2023-05-14T18:12:22.148Z"
   },
   {
    "duration": 3,
    "start_time": "2023-05-14T18:12:24.186Z"
   },
   {
    "duration": 3,
    "start_time": "2023-05-14T18:12:24.668Z"
   },
   {
    "duration": 5,
    "start_time": "2023-05-14T18:12:28.665Z"
   },
   {
    "duration": 16,
    "start_time": "2023-05-14T18:12:30.843Z"
   },
   {
    "duration": 11,
    "start_time": "2023-05-14T18:12:33.616Z"
   },
   {
    "duration": 62793,
    "start_time": "2023-05-14T18:12:35.150Z"
   },
   {
    "duration": 196,
    "start_time": "2023-05-14T18:13:50.957Z"
   },
   {
    "duration": 5,
    "start_time": "2023-05-14T18:14:53.205Z"
   },
   {
    "duration": 19,
    "start_time": "2023-05-14T18:15:01.917Z"
   },
   {
    "duration": 9,
    "start_time": "2023-05-14T18:15:04.648Z"
   },
   {
    "duration": 52975,
    "start_time": "2023-05-14T18:15:05.768Z"
   },
   {
    "duration": 2590,
    "start_time": "2023-05-14T18:21:40.755Z"
   },
   {
    "duration": 234,
    "start_time": "2023-05-14T18:22:06.454Z"
   },
   {
    "duration": 3735,
    "start_time": "2023-05-14T18:23:31.053Z"
   },
   {
    "duration": 161,
    "start_time": "2023-05-14T18:23:47.391Z"
   },
   {
    "duration": 12,
    "start_time": "2023-05-14T18:23:57.964Z"
   },
   {
    "duration": 10,
    "start_time": "2023-05-14T18:23:58.889Z"
   },
   {
    "duration": 53587,
    "start_time": "2023-05-14T18:24:00.844Z"
   },
   {
    "duration": 188,
    "start_time": "2023-05-14T18:25:08.275Z"
   },
   {
    "duration": 293,
    "start_time": "2023-05-14T18:25:12.868Z"
   },
   {
    "duration": 139,
    "start_time": "2023-05-14T18:25:13.740Z"
   },
   {
    "duration": 688,
    "start_time": "2023-05-14T18:34:19.417Z"
   },
   {
    "duration": 24810,
    "start_time": "2023-05-14T18:34:24.467Z"
   },
   {
    "duration": 3769,
    "start_time": "2023-05-14T18:34:54.358Z"
   },
   {
    "duration": 3663,
    "start_time": "2023-05-14T18:35:13.645Z"
   },
   {
    "duration": 263,
    "start_time": "2023-05-14T18:35:23.645Z"
   },
   {
    "duration": 161,
    "start_time": "2023-05-14T18:35:31.946Z"
   },
   {
    "duration": 179,
    "start_time": "2023-05-14T18:37:15.333Z"
   },
   {
    "duration": 322,
    "start_time": "2023-05-14T19:06:50.953Z"
   },
   {
    "duration": 94,
    "start_time": "2023-05-14T19:08:03.941Z"
   },
   {
    "duration": 8,
    "start_time": "2023-05-14T19:08:11.265Z"
   },
   {
    "duration": 15627,
    "start_time": "2023-05-14T19:08:13.441Z"
   },
   {
    "duration": 8,
    "start_time": "2023-05-14T19:08:32.774Z"
   },
   {
    "duration": 321,
    "start_time": "2023-05-14T19:08:33.753Z"
   },
   {
    "duration": 7,
    "start_time": "2023-05-14T19:08:34.200Z"
   },
   {
    "duration": 99590,
    "start_time": "2023-05-14T19:08:36.845Z"
   },
   {
    "duration": 3942,
    "start_time": "2023-05-14T19:10:34.045Z"
   },
   {
    "duration": 204,
    "start_time": "2023-05-14T19:11:01.321Z"
   },
   {
    "duration": 6,
    "start_time": "2023-05-14T19:11:18.641Z"
   },
   {
    "duration": 340,
    "start_time": "2023-05-14T19:12:28.667Z"
   },
   {
    "duration": 273,
    "start_time": "2023-05-14T19:12:42.233Z"
   },
   {
    "duration": 185,
    "start_time": "2023-05-14T19:12:48.853Z"
   },
   {
    "duration": 7,
    "start_time": "2023-05-14T19:12:57.805Z"
   },
   {
    "duration": 11,
    "start_time": "2023-05-14T19:13:03.208Z"
   },
   {
    "duration": 277,
    "start_time": "2023-05-14T19:13:03.941Z"
   },
   {
    "duration": 14,
    "start_time": "2023-05-14T19:13:04.442Z"
   },
   {
    "duration": 83290,
    "start_time": "2023-05-14T19:13:06.062Z"
   },
   {
    "duration": 212,
    "start_time": "2023-05-14T19:15:04.253Z"
   },
   {
    "duration": 257,
    "start_time": "2023-05-14T19:15:05.306Z"
   },
   {
    "duration": 203,
    "start_time": "2023-05-14T19:16:06.296Z"
   },
   {
    "duration": 6858,
    "start_time": "2023-05-15T09:35:21.811Z"
   },
   {
    "duration": 65,
    "start_time": "2023-05-15T09:35:28.671Z"
   },
   {
    "duration": 21,
    "start_time": "2023-05-15T09:35:28.737Z"
   },
   {
    "duration": 43,
    "start_time": "2023-05-15T09:35:28.760Z"
   },
   {
    "duration": 13,
    "start_time": "2023-05-15T09:35:28.805Z"
   },
   {
    "duration": 6,
    "start_time": "2023-05-15T09:35:49.932Z"
   },
   {
    "duration": 156,
    "start_time": "2023-05-15T09:35:58.674Z"
   },
   {
    "duration": 8,
    "start_time": "2023-05-15T09:36:07.312Z"
   },
   {
    "duration": 6,
    "start_time": "2023-05-15T09:36:17.473Z"
   },
   {
    "duration": 16,
    "start_time": "2023-05-15T09:37:46.045Z"
   },
   {
    "duration": 16,
    "start_time": "2023-05-15T09:37:52.318Z"
   },
   {
    "duration": 15,
    "start_time": "2023-05-15T09:38:05.399Z"
   },
   {
    "duration": 19,
    "start_time": "2023-05-15T09:38:06.183Z"
   },
   {
    "duration": 13,
    "start_time": "2023-05-15T09:38:24.810Z"
   },
   {
    "duration": 6,
    "start_time": "2023-05-15T09:38:38.600Z"
   },
   {
    "duration": 132,
    "start_time": "2023-05-15T09:39:08.578Z"
   },
   {
    "duration": 18,
    "start_time": "2023-05-15T09:39:18.437Z"
   },
   {
    "duration": 8,
    "start_time": "2023-05-15T09:39:49.157Z"
   },
   {
    "duration": 7,
    "start_time": "2023-05-15T09:40:00.898Z"
   },
   {
    "duration": 7,
    "start_time": "2023-05-15T09:40:07.058Z"
   },
   {
    "duration": 9,
    "start_time": "2023-05-15T09:40:19.138Z"
   },
   {
    "duration": 15,
    "start_time": "2023-05-15T09:42:56.079Z"
   },
   {
    "duration": 7,
    "start_time": "2023-05-15T09:46:13.331Z"
   },
   {
    "duration": 14,
    "start_time": "2023-05-15T09:48:23.444Z"
   },
   {
    "duration": 9,
    "start_time": "2023-05-15T09:48:27.816Z"
   },
   {
    "duration": 20,
    "start_time": "2023-05-15T09:48:39.764Z"
   },
   {
    "duration": 620,
    "start_time": "2023-05-15T09:48:46.344Z"
   },
   {
    "duration": 17,
    "start_time": "2023-05-15T09:48:53.696Z"
   },
   {
    "duration": 1902,
    "start_time": "2023-05-15T09:49:30.550Z"
   },
   {
    "duration": 18,
    "start_time": "2023-05-15T09:49:39.612Z"
   },
   {
    "duration": 7,
    "start_time": "2023-05-15T09:49:47.757Z"
   },
   {
    "duration": 9,
    "start_time": "2023-05-15T09:50:07.696Z"
   },
   {
    "duration": 20,
    "start_time": "2023-05-15T09:50:19.917Z"
   },
   {
    "duration": 4,
    "start_time": "2023-05-15T09:51:59.459Z"
   },
   {
    "duration": 25,
    "start_time": "2023-05-15T09:52:00.538Z"
   },
   {
    "duration": 16,
    "start_time": "2023-05-15T09:52:01.062Z"
   },
   {
    "duration": 40,
    "start_time": "2023-05-15T09:52:01.319Z"
   },
   {
    "duration": 16,
    "start_time": "2023-05-15T09:52:01.840Z"
   },
   {
    "duration": 172,
    "start_time": "2023-05-15T09:52:05.358Z"
   },
   {
    "duration": 7815,
    "start_time": "2023-05-15T09:52:06.886Z"
   },
   {
    "duration": 14,
    "start_time": "2023-05-15T09:52:20.719Z"
   },
   {
    "duration": 9,
    "start_time": "2023-05-15T09:52:21.999Z"
   },
   {
    "duration": 6,
    "start_time": "2023-05-15T09:52:22.660Z"
   },
   {
    "duration": 16,
    "start_time": "2023-05-15T09:52:22.986Z"
   },
   {
    "duration": 57,
    "start_time": "2023-05-15T09:52:25.219Z"
   },
   {
    "duration": 3,
    "start_time": "2023-05-15T09:52:25.600Z"
   },
   {
    "duration": 7,
    "start_time": "2023-05-15T09:52:28.059Z"
   },
   {
    "duration": 75,
    "start_time": "2023-05-15T09:52:32.560Z"
   },
   {
    "duration": 7,
    "start_time": "2023-05-15T09:52:35.100Z"
   },
   {
    "duration": 13786,
    "start_time": "2023-05-15T09:52:38.799Z"
   },
   {
    "duration": 211,
    "start_time": "2023-05-15T09:52:58.199Z"
   },
   {
    "duration": 6,
    "start_time": "2023-05-15T09:53:34.717Z"
   },
   {
    "duration": 11,
    "start_time": "2023-05-15T09:53:34.725Z"
   },
   {
    "duration": 205,
    "start_time": "2023-05-15T09:53:36.681Z"
   },
   {
    "duration": 14087,
    "start_time": "2023-05-15T09:53:38.583Z"
   },
   {
    "duration": 5,
    "start_time": "2023-05-15T09:53:57.778Z"
   },
   {
    "duration": 8,
    "start_time": "2023-05-15T09:53:58.278Z"
   },
   {
    "duration": 9,
    "start_time": "2023-05-15T09:54:04.379Z"
   },
   {
    "duration": 6,
    "start_time": "2023-05-15T09:54:07.918Z"
   },
   {
    "duration": 8,
    "start_time": "2023-05-15T09:54:08.118Z"
   },
   {
    "duration": 8,
    "start_time": "2023-05-15T09:54:08.781Z"
   },
   {
    "duration": 13913,
    "start_time": "2023-05-15T09:54:10.457Z"
   },
   {
    "duration": 8,
    "start_time": "2023-05-15T09:54:33.258Z"
   },
   {
    "duration": 6,
    "start_time": "2023-05-15T09:54:33.804Z"
   },
   {
    "duration": 13686,
    "start_time": "2023-05-15T09:54:34.478Z"
   },
   {
    "duration": 4,
    "start_time": "2023-05-15T09:55:53.131Z"
   },
   {
    "duration": 7490,
    "start_time": "2023-05-15T09:56:28.125Z"
   },
   {
    "duration": 7537,
    "start_time": "2023-05-15T09:56:43.225Z"
   },
   {
    "duration": 7472,
    "start_time": "2023-05-15T09:56:55.284Z"
   },
   {
    "duration": 2159,
    "start_time": "2023-05-15T09:57:27.987Z"
   },
   {
    "duration": 26,
    "start_time": "2023-05-15T09:57:30.148Z"
   },
   {
    "duration": 45,
    "start_time": "2023-05-15T09:57:30.176Z"
   },
   {
    "duration": 95,
    "start_time": "2023-05-15T09:57:30.223Z"
   },
   {
    "duration": 23,
    "start_time": "2023-05-15T09:57:30.320Z"
   },
   {
    "duration": 260,
    "start_time": "2023-05-15T09:57:30.345Z"
   },
   {
    "duration": 7483,
    "start_time": "2023-05-15T09:57:30.606Z"
   },
   {
    "duration": 15,
    "start_time": "2023-05-15T09:57:38.091Z"
   },
   {
    "duration": 11,
    "start_time": "2023-05-15T09:57:38.108Z"
   },
   {
    "duration": 7,
    "start_time": "2023-05-15T09:57:38.121Z"
   },
   {
    "duration": 16,
    "start_time": "2023-05-15T09:57:38.129Z"
   },
   {
    "duration": 11,
    "start_time": "2023-05-15T09:57:38.147Z"
   },
   {
    "duration": 6,
    "start_time": "2023-05-15T09:57:38.159Z"
   },
   {
    "duration": 6,
    "start_time": "2023-05-15T09:57:38.166Z"
   },
   {
    "duration": 10,
    "start_time": "2023-05-15T09:57:38.174Z"
   },
   {
    "duration": 7,
    "start_time": "2023-05-15T09:57:38.186Z"
   },
   {
    "duration": 14164,
    "start_time": "2023-05-15T09:57:38.195Z"
   },
   {
    "duration": 226,
    "start_time": "2023-05-15T09:57:52.362Z"
   },
   {
    "duration": 693,
    "start_time": "2023-05-15T09:57:52.590Z"
   },
   {
    "duration": 358,
    "start_time": "2023-05-15T09:57:53.285Z"
   },
   {
    "duration": 9,
    "start_time": "2023-05-15T09:57:53.644Z"
   },
   {
    "duration": 40,
    "start_time": "2023-05-15T09:57:53.654Z"
   },
   {
    "duration": 9,
    "start_time": "2023-05-15T09:57:53.697Z"
   },
   {
    "duration": 2001,
    "start_time": "2023-05-15T10:00:38.952Z"
   },
   {
    "duration": 25,
    "start_time": "2023-05-15T10:00:40.957Z"
   },
   {
    "duration": 21,
    "start_time": "2023-05-15T10:00:40.984Z"
   },
   {
    "duration": 50,
    "start_time": "2023-05-15T10:00:41.007Z"
   },
   {
    "duration": 15,
    "start_time": "2023-05-15T10:00:41.060Z"
   },
   {
    "duration": 189,
    "start_time": "2023-05-15T10:00:41.076Z"
   },
   {
    "duration": 7590,
    "start_time": "2023-05-15T10:00:41.267Z"
   },
   {
    "duration": 20,
    "start_time": "2023-05-15T10:00:48.859Z"
   },
   {
    "duration": 17,
    "start_time": "2023-05-15T10:00:48.881Z"
   },
   {
    "duration": 8,
    "start_time": "2023-05-15T10:00:48.902Z"
   },
   {
    "duration": 22,
    "start_time": "2023-05-15T10:00:48.912Z"
   },
   {
    "duration": 33,
    "start_time": "2023-05-15T10:00:48.935Z"
   },
   {
    "duration": 6,
    "start_time": "2023-05-15T10:00:48.970Z"
   },
   {
    "duration": 14,
    "start_time": "2023-05-15T10:00:48.979Z"
   },
   {
    "duration": 11,
    "start_time": "2023-05-15T10:00:48.995Z"
   },
   {
    "duration": 8,
    "start_time": "2023-05-15T10:00:49.009Z"
   },
   {
    "duration": 13539,
    "start_time": "2023-05-15T10:00:49.019Z"
   },
   {
    "duration": 211,
    "start_time": "2023-05-15T10:01:02.560Z"
   },
   {
    "duration": 636,
    "start_time": "2023-05-15T10:01:02.773Z"
   },
   {
    "duration": 960685,
    "start_time": "2023-05-15T10:01:03.411Z"
   },
   {
    "duration": 23,
    "start_time": "2023-05-15T10:17:04.098Z"
   },
   {
    "duration": 21,
    "start_time": "2023-05-15T10:17:04.123Z"
   },
   {
    "duration": 5021,
    "start_time": "2023-05-15T10:17:04.146Z"
   },
   {
    "duration": 3147,
    "start_time": "2023-05-15T10:17:18.658Z"
   },
   {
    "duration": 0,
    "start_time": "2023-05-15T10:17:21.808Z"
   },
   {
    "duration": 0,
    "start_time": "2023-05-15T10:17:21.809Z"
   },
   {
    "duration": 0,
    "start_time": "2023-05-15T10:17:21.810Z"
   },
   {
    "duration": 0,
    "start_time": "2023-05-15T10:17:21.811Z"
   },
   {
    "duration": 0,
    "start_time": "2023-05-15T10:17:21.812Z"
   },
   {
    "duration": 0,
    "start_time": "2023-05-15T10:17:21.813Z"
   },
   {
    "duration": 0,
    "start_time": "2023-05-15T10:17:21.814Z"
   },
   {
    "duration": 0,
    "start_time": "2023-05-15T10:17:21.815Z"
   },
   {
    "duration": 0,
    "start_time": "2023-05-15T10:17:21.817Z"
   },
   {
    "duration": 0,
    "start_time": "2023-05-15T10:17:21.818Z"
   },
   {
    "duration": 0,
    "start_time": "2023-05-15T10:17:21.819Z"
   },
   {
    "duration": 0,
    "start_time": "2023-05-15T10:17:21.820Z"
   },
   {
    "duration": 1,
    "start_time": "2023-05-15T10:17:21.820Z"
   },
   {
    "duration": 0,
    "start_time": "2023-05-15T10:17:21.822Z"
   },
   {
    "duration": 0,
    "start_time": "2023-05-15T10:17:21.823Z"
   },
   {
    "duration": 0,
    "start_time": "2023-05-15T10:17:21.824Z"
   },
   {
    "duration": 0,
    "start_time": "2023-05-15T10:17:21.825Z"
   },
   {
    "duration": 0,
    "start_time": "2023-05-15T10:17:21.826Z"
   },
   {
    "duration": 0,
    "start_time": "2023-05-15T10:17:21.827Z"
   },
   {
    "duration": 0,
    "start_time": "2023-05-15T10:17:21.828Z"
   },
   {
    "duration": 0,
    "start_time": "2023-05-15T10:17:21.829Z"
   },
   {
    "duration": 0,
    "start_time": "2023-05-15T10:17:21.830Z"
   },
   {
    "duration": 2266,
    "start_time": "2023-05-15T10:18:12.749Z"
   },
   {
    "duration": 26,
    "start_time": "2023-05-15T10:18:15.017Z"
   },
   {
    "duration": 25,
    "start_time": "2023-05-15T10:18:15.045Z"
   },
   {
    "duration": 43,
    "start_time": "2023-05-15T10:18:15.072Z"
   },
   {
    "duration": 45,
    "start_time": "2023-05-15T10:18:15.118Z"
   },
   {
    "duration": 176,
    "start_time": "2023-05-15T10:18:15.167Z"
   },
   {
    "duration": 8239,
    "start_time": "2023-05-15T10:18:15.344Z"
   },
   {
    "duration": 14,
    "start_time": "2023-05-15T10:18:23.585Z"
   },
   {
    "duration": 10,
    "start_time": "2023-05-15T10:18:23.600Z"
   },
   {
    "duration": 18,
    "start_time": "2023-05-15T10:18:23.611Z"
   },
   {
    "duration": 15,
    "start_time": "2023-05-15T10:18:23.631Z"
   },
   {
    "duration": 11,
    "start_time": "2023-05-15T10:18:23.648Z"
   },
   {
    "duration": 5,
    "start_time": "2023-05-15T10:18:23.660Z"
   },
   {
    "duration": 8,
    "start_time": "2023-05-15T10:18:23.668Z"
   },
   {
    "duration": 12,
    "start_time": "2023-05-15T10:18:23.677Z"
   },
   {
    "duration": 7,
    "start_time": "2023-05-15T10:18:23.690Z"
   },
   {
    "duration": 29796,
    "start_time": "2023-05-15T10:18:23.699Z"
   },
   {
    "duration": 284,
    "start_time": "2023-05-15T10:18:53.497Z"
   },
   {
    "duration": 709,
    "start_time": "2023-05-15T10:18:53.783Z"
   },
   {
    "duration": 2546179,
    "start_time": "2023-05-15T10:18:54.494Z"
   },
   {
    "duration": 28,
    "start_time": "2023-05-15T11:01:20.685Z"
   },
   {
    "duration": 61,
    "start_time": "2023-05-15T11:01:20.715Z"
   },
   {
    "duration": 4962,
    "start_time": "2023-05-15T11:01:20.779Z"
   },
   {
    "duration": 2320,
    "start_time": "2023-05-15T11:14:19.833Z"
   },
   {
    "duration": 37,
    "start_time": "2023-05-15T11:14:22.155Z"
   },
   {
    "duration": 20,
    "start_time": "2023-05-15T11:14:22.194Z"
   },
   {
    "duration": 60,
    "start_time": "2023-05-15T11:14:22.216Z"
   },
   {
    "duration": 23,
    "start_time": "2023-05-15T11:14:22.279Z"
   },
   {
    "duration": 219,
    "start_time": "2023-05-15T11:14:22.304Z"
   },
   {
    "duration": 9096,
    "start_time": "2023-05-15T11:14:22.525Z"
   },
   {
    "duration": 16,
    "start_time": "2023-05-15T11:14:31.623Z"
   },
   {
    "duration": 45,
    "start_time": "2023-05-15T11:14:31.641Z"
   },
   {
    "duration": 24,
    "start_time": "2023-05-15T11:14:31.688Z"
   },
   {
    "duration": 46,
    "start_time": "2023-05-15T11:14:31.714Z"
   },
   {
    "duration": 37,
    "start_time": "2023-05-15T11:14:31.763Z"
   },
   {
    "duration": 34,
    "start_time": "2023-05-15T11:14:31.802Z"
   },
   {
    "duration": 28,
    "start_time": "2023-05-15T11:14:31.840Z"
   },
   {
    "duration": 35,
    "start_time": "2023-05-15T11:14:31.871Z"
   },
   {
    "duration": 8,
    "start_time": "2023-05-15T11:14:31.909Z"
   },
   {
    "duration": 40241,
    "start_time": "2023-05-15T11:14:31.919Z"
   },
   {
    "duration": 230,
    "start_time": "2023-05-15T11:15:12.163Z"
   },
   {
    "duration": 726,
    "start_time": "2023-05-15T11:15:12.396Z"
   },
   {
    "duration": 2604677,
    "start_time": "2023-05-15T11:15:13.124Z"
   },
   {
    "duration": 81,
    "start_time": "2023-05-15T11:58:37.804Z"
   },
   {
    "duration": 25,
    "start_time": "2023-05-15T11:58:37.891Z"
   },
   {
    "duration": 5265,
    "start_time": "2023-05-15T11:58:37.918Z"
   }
  ],
  "kernelspec": {
   "display_name": "Python 3 (ipykernel)",
   "language": "python",
   "name": "python3"
  },
  "language_info": {
   "codemirror_mode": {
    "name": "ipython",
    "version": 3
   },
   "file_extension": ".py",
   "mimetype": "text/x-python",
   "name": "python",
   "nbconvert_exporter": "python",
   "pygments_lexer": "ipython3",
   "version": "3.9.5"
  },
  "toc": {
   "base_numbering": 1,
   "nav_menu": {},
   "number_sections": false,
   "sideBar": true,
   "skip_h1_title": false,
   "title_cell": "Table of Contents",
   "title_sidebar": "Contents",
   "toc_cell": false,
   "toc_position": {},
   "toc_section_display": true,
   "toc_window_display": false
  },
  "varInspector": {
   "cols": {
    "lenName": 16,
    "lenType": 16,
    "lenVar": 40
   },
   "kernels_config": {
    "python": {
     "delete_cmd_postfix": "",
     "delete_cmd_prefix": "del ",
     "library": "var_list.py",
     "varRefreshCmd": "print(var_dic_list())"
    },
    "r": {
     "delete_cmd_postfix": ") ",
     "delete_cmd_prefix": "rm(",
     "library": "var_list.r",
     "varRefreshCmd": "cat(var_dic_list()) "
    }
   },
   "types_to_exclude": [
    "module",
    "function",
    "builtin_function_or_method",
    "instance",
    "_Feature"
   ],
   "window_display": false
  }
 },
 "nbformat": 4,
 "nbformat_minor": 5
}
