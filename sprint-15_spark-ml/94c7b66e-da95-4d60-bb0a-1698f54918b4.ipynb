{
 "cells": [
  {
   "cell_type": "markdown",
   "id": "GEqQaHzsZ_bA",
   "metadata": {
    "id": "GEqQaHzsZ_bA"
   },
   "source": [
    "## Предсказание стоимости жилья\n",
    "\n",
    "В проекте вам нужно обучить модель линейной регрессии на данных о жилье в Калифорнии в 1990 году. На основе данных нужно предсказать медианную стоимость дома в жилом массиве. Обучите модель и сделайте предсказания на тестовой выборке. Для оценки качества модели используйте метрики RMSE, MAE и R2."
   ]
  },
  {
   "cell_type": "markdown",
   "id": "53871372",
   "metadata": {
    "id": "53871372"
   },
   "source": [
    "# Подготовка данных"
   ]
  },
  {
   "cell_type": "code",
   "execution_count": 1,
   "id": "df92e3ec",
   "metadata": {
    "id": "df92e3ec"
   },
   "outputs": [],
   "source": [
    "import pandas as pd \n",
    "import numpy as np\n",
    "import pyspark\n",
    "from pyspark.sql import SparkSession\n",
    "from pyspark.sql.types import *\n",
    "import pyspark.sql.functions as F\n",
    "\n",
    "from pyspark.ml.feature import StringIndexer, VectorAssembler, StandardScaler, Imputer, OneHotEncoder\n",
    "from pyspark.ml.regression import LinearRegression\n",
    "from pyspark.ml.evaluation import BinaryClassificationEvaluator, RegressionEvaluator"
   ]
  },
  {
   "cell_type": "code",
   "execution_count": 2,
   "id": "80b62c16",
   "metadata": {},
   "outputs": [],
   "source": [
    "spark = SparkSession.builder \\\n",
    "                    .master(\"local\") \\\n",
    "                    .appName(\"EDA California Housing\") \\\n",
    "                    .getOrCreate()"
   ]
  },
  {
   "cell_type": "code",
   "execution_count": 3,
   "id": "129ed93c",
   "metadata": {},
   "outputs": [
    {
     "name": "stderr",
     "output_type": "stream",
     "text": [
      "[Stage 1:>                                                          (0 + 1) / 1]\r"
     ]
    },
    {
     "name": "stdout",
     "output_type": "stream",
     "text": [
      "root\n",
      " |-- longitude: double (nullable = true)\n",
      " |-- latitude: double (nullable = true)\n",
      " |-- housing_median_age: double (nullable = true)\n",
      " |-- total_rooms: double (nullable = true)\n",
      " |-- total_bedrooms: double (nullable = true)\n",
      " |-- population: double (nullable = true)\n",
      " |-- households: double (nullable = true)\n",
      " |-- median_income: double (nullable = true)\n",
      " |-- median_house_value: double (nullable = true)\n",
      " |-- ocean_proximity: string (nullable = true)\n",
      "\n"
     ]
    },
    {
     "name": "stderr",
     "output_type": "stream",
     "text": [
      "                                                                                \r"
     ]
    }
   ],
   "source": [
    "df_housing = spark.read.load('/datasets/housing.csv', format='csv',\\\n",
    "                             inferSchema=True, header='true')\n",
    "df_housing.printSchema()"
   ]
  },
  {
   "cell_type": "code",
   "execution_count": 4,
   "id": "5916d527",
   "metadata": {
    "scrolled": true
   },
   "outputs": [
    {
     "name": "stderr",
     "output_type": "stream",
     "text": [
      "                                                                                \r"
     ]
    },
    {
     "data": {
      "text/html": [
       "<div>\n",
       "<style scoped>\n",
       "    .dataframe tbody tr th:only-of-type {\n",
       "        vertical-align: middle;\n",
       "    }\n",
       "\n",
       "    .dataframe tbody tr th {\n",
       "        vertical-align: top;\n",
       "    }\n",
       "\n",
       "    .dataframe thead th {\n",
       "        text-align: right;\n",
       "    }\n",
       "</style>\n",
       "<table border=\"1\" class=\"dataframe\">\n",
       "  <thead>\n",
       "    <tr style=\"text-align: right;\">\n",
       "      <th></th>\n",
       "      <th>summary</th>\n",
       "      <th>longitude</th>\n",
       "      <th>latitude</th>\n",
       "      <th>housing_median_age</th>\n",
       "      <th>total_rooms</th>\n",
       "      <th>total_bedrooms</th>\n",
       "      <th>population</th>\n",
       "      <th>households</th>\n",
       "      <th>median_income</th>\n",
       "      <th>median_house_value</th>\n",
       "      <th>ocean_proximity</th>\n",
       "    </tr>\n",
       "  </thead>\n",
       "  <tbody>\n",
       "    <tr>\n",
       "      <th>0</th>\n",
       "      <td>count</td>\n",
       "      <td>20640</td>\n",
       "      <td>20640</td>\n",
       "      <td>20640</td>\n",
       "      <td>20640</td>\n",
       "      <td>20433</td>\n",
       "      <td>20640</td>\n",
       "      <td>20640</td>\n",
       "      <td>20640</td>\n",
       "      <td>20640</td>\n",
       "      <td>20640</td>\n",
       "    </tr>\n",
       "    <tr>\n",
       "      <th>1</th>\n",
       "      <td>mean</td>\n",
       "      <td>-119.56970445736148</td>\n",
       "      <td>35.6318614341087</td>\n",
       "      <td>28.639486434108527</td>\n",
       "      <td>2635.7630813953488</td>\n",
       "      <td>537.8705525375618</td>\n",
       "      <td>1425.4767441860465</td>\n",
       "      <td>499.5396802325581</td>\n",
       "      <td>3.8706710029070246</td>\n",
       "      <td>206855.81690891474</td>\n",
       "      <td>None</td>\n",
       "    </tr>\n",
       "    <tr>\n",
       "      <th>2</th>\n",
       "      <td>stddev</td>\n",
       "      <td>2.003531723502584</td>\n",
       "      <td>2.135952397457101</td>\n",
       "      <td>12.58555761211163</td>\n",
       "      <td>2181.6152515827944</td>\n",
       "      <td>421.38507007403115</td>\n",
       "      <td>1132.46212176534</td>\n",
       "      <td>382.3297528316098</td>\n",
       "      <td>1.899821717945263</td>\n",
       "      <td>115395.61587441359</td>\n",
       "      <td>None</td>\n",
       "    </tr>\n",
       "    <tr>\n",
       "      <th>3</th>\n",
       "      <td>min</td>\n",
       "      <td>-124.35</td>\n",
       "      <td>32.54</td>\n",
       "      <td>1.0</td>\n",
       "      <td>2.0</td>\n",
       "      <td>1.0</td>\n",
       "      <td>3.0</td>\n",
       "      <td>1.0</td>\n",
       "      <td>0.4999</td>\n",
       "      <td>14999.0</td>\n",
       "      <td>&lt;1H OCEAN</td>\n",
       "    </tr>\n",
       "    <tr>\n",
       "      <th>4</th>\n",
       "      <td>max</td>\n",
       "      <td>-114.31</td>\n",
       "      <td>41.95</td>\n",
       "      <td>52.0</td>\n",
       "      <td>39320.0</td>\n",
       "      <td>6445.0</td>\n",
       "      <td>35682.0</td>\n",
       "      <td>6082.0</td>\n",
       "      <td>15.0001</td>\n",
       "      <td>500001.0</td>\n",
       "      <td>NEAR OCEAN</td>\n",
       "    </tr>\n",
       "  </tbody>\n",
       "</table>\n",
       "</div>"
      ],
      "text/plain": [
       "  summary            longitude           latitude  housing_median_age  \\\n",
       "0   count                20640              20640               20640   \n",
       "1    mean  -119.56970445736148   35.6318614341087  28.639486434108527   \n",
       "2  stddev    2.003531723502584  2.135952397457101   12.58555761211163   \n",
       "3     min              -124.35              32.54                 1.0   \n",
       "4     max              -114.31              41.95                52.0   \n",
       "\n",
       "          total_rooms      total_bedrooms          population  \\\n",
       "0               20640               20433               20640   \n",
       "1  2635.7630813953488   537.8705525375618  1425.4767441860465   \n",
       "2  2181.6152515827944  421.38507007403115    1132.46212176534   \n",
       "3                 2.0                 1.0                 3.0   \n",
       "4             39320.0              6445.0             35682.0   \n",
       "\n",
       "          households       median_income  median_house_value ocean_proximity  \n",
       "0              20640               20640               20640           20640  \n",
       "1  499.5396802325581  3.8706710029070246  206855.81690891474            None  \n",
       "2  382.3297528316098   1.899821717945263  115395.61587441359            None  \n",
       "3                1.0              0.4999             14999.0       <1H OCEAN  \n",
       "4             6082.0             15.0001            500001.0      NEAR OCEAN  "
      ]
     },
     "execution_count": 4,
     "metadata": {},
     "output_type": "execute_result"
    }
   ],
   "source": [
    "df_housing.describe().toPandas()"
   ]
  },
  {
   "cell_type": "code",
   "execution_count": 5,
   "id": "7d2a5341",
   "metadata": {},
   "outputs": [
    {
     "name": "stdout",
     "output_type": "stream",
     "text": [
      "+---------+--------+------------------+-----------+--------------+----------+----------+-------------+------------------+---------------+\n",
      "|longitude|latitude|housing_median_age|total_rooms|total_bedrooms|population|households|median_income|median_house_value|ocean_proximity|\n",
      "+---------+--------+------------------+-----------+--------------+----------+----------+-------------+------------------+---------------+\n",
      "|  -122.23|   37.88|              41.0|      880.0|         129.0|     322.0|     126.0|       8.3252|          452600.0|       NEAR BAY|\n",
      "|  -122.22|   37.86|              21.0|     7099.0|        1106.0|    2401.0|    1138.0|       8.3014|          358500.0|       NEAR BAY|\n",
      "|  -122.24|   37.85|              52.0|     1467.0|         190.0|     496.0|     177.0|       7.2574|          352100.0|       NEAR BAY|\n",
      "|  -122.25|   37.85|              52.0|     1274.0|         235.0|     558.0|     219.0|       5.6431|          341300.0|       NEAR BAY|\n",
      "|  -122.25|   37.85|              52.0|     1627.0|         280.0|     565.0|     259.0|       3.8462|          342200.0|       NEAR BAY|\n",
      "+---------+--------+------------------+-----------+--------------+----------+----------+-------------+------------------+---------------+\n",
      "only showing top 5 rows\n",
      "\n"
     ]
    }
   ],
   "source": [
    "df_housing.show(5)"
   ]
  },
  {
   "cell_type": "code",
   "execution_count": 6,
   "id": "45605ee5",
   "metadata": {},
   "outputs": [
    {
     "name": "stdout",
     "output_type": "stream",
     "text": [
      "longitude 0\n",
      "latitude 0\n",
      "housing_median_age 0\n",
      "total_rooms 0\n",
      "total_bedrooms 207\n",
      "population 0\n",
      "households 0\n",
      "median_income 0\n",
      "median_house_value 0\n",
      "ocean_proximity 20640\n"
     ]
    }
   ],
   "source": [
    "columns = df_housing.columns\n",
    "\n",
    "for column in columns:\n",
    "    check_col = F.col(column).cast('float').isNull()\n",
    "    print(column, df_housing.filter(check_col).count())"
   ]
  },
  {
   "cell_type": "code",
   "execution_count": 7,
   "id": "8df104a4",
   "metadata": {},
   "outputs": [
    {
     "data": {
      "text/plain": [
       "['longitude',\n",
       " 'latitude',\n",
       " 'housing_median_age',\n",
       " 'total_rooms',\n",
       " 'total_bedrooms',\n",
       " 'population',\n",
       " 'households',\n",
       " 'median_income',\n",
       " 'median_house_value',\n",
       " 'ocean_proximity']"
      ]
     },
     "execution_count": 7,
     "metadata": {},
     "output_type": "execute_result"
    }
   ],
   "source": [
    "all_cols = df_housing.columns\n",
    "all_cols"
   ]
  },
  {
   "cell_type": "code",
   "execution_count": 8,
   "id": "b3a575bc",
   "metadata": {},
   "outputs": [],
   "source": [
    "cats = ['ocean_proximity']\n",
    "nums = ['longitude', 'latitude', 'housing_median_age',\\\n",
    "        'total_rooms', 'total_bedrooms', 'population',\\\n",
    "        'households', 'median_income']\n",
    "target = 'median_house_value'"
   ]
  },
  {
   "cell_type": "code",
   "execution_count": 9,
   "id": "81b18b41",
   "metadata": {},
   "outputs": [
    {
     "name": "stderr",
     "output_type": "stream",
     "text": [
      "                                                                                \r"
     ]
    },
    {
     "data": {
      "text/html": [
       "<div>\n",
       "<style scoped>\n",
       "    .dataframe tbody tr th:only-of-type {\n",
       "        vertical-align: middle;\n",
       "    }\n",
       "\n",
       "    .dataframe tbody tr th {\n",
       "        vertical-align: top;\n",
       "    }\n",
       "\n",
       "    .dataframe thead th {\n",
       "        text-align: right;\n",
       "    }\n",
       "</style>\n",
       "<table border=\"1\" class=\"dataframe\">\n",
       "  <thead>\n",
       "    <tr style=\"text-align: right;\">\n",
       "      <th></th>\n",
       "      <th>summary</th>\n",
       "      <th>longitude</th>\n",
       "      <th>latitude</th>\n",
       "      <th>housing_median_age</th>\n",
       "      <th>total_rooms</th>\n",
       "      <th>total_bedrooms</th>\n",
       "      <th>population</th>\n",
       "      <th>households</th>\n",
       "      <th>median_income</th>\n",
       "      <th>median_house_value</th>\n",
       "      <th>ocean_proximity</th>\n",
       "    </tr>\n",
       "  </thead>\n",
       "  <tbody>\n",
       "    <tr>\n",
       "      <th>0</th>\n",
       "      <td>count</td>\n",
       "      <td>20640</td>\n",
       "      <td>20640</td>\n",
       "      <td>20640</td>\n",
       "      <td>20640</td>\n",
       "      <td>20640</td>\n",
       "      <td>20640</td>\n",
       "      <td>20640</td>\n",
       "      <td>20640</td>\n",
       "      <td>20640</td>\n",
       "      <td>20640</td>\n",
       "    </tr>\n",
       "    <tr>\n",
       "      <th>1</th>\n",
       "      <td>mean</td>\n",
       "      <td>-119.56970445736148</td>\n",
       "      <td>35.6318614341087</td>\n",
       "      <td>28.639486434108527</td>\n",
       "      <td>2635.7630813953488</td>\n",
       "      <td>536.8388565891473</td>\n",
       "      <td>1425.4767441860465</td>\n",
       "      <td>499.5396802325581</td>\n",
       "      <td>3.8706710029070246</td>\n",
       "      <td>206855.81690891474</td>\n",
       "      <td>None</td>\n",
       "    </tr>\n",
       "    <tr>\n",
       "      <th>2</th>\n",
       "      <td>stddev</td>\n",
       "      <td>2.003531723502584</td>\n",
       "      <td>2.135952397457101</td>\n",
       "      <td>12.58555761211163</td>\n",
       "      <td>2181.6152515827944</td>\n",
       "      <td>419.39187792168866</td>\n",
       "      <td>1132.46212176534</td>\n",
       "      <td>382.3297528316098</td>\n",
       "      <td>1.899821717945263</td>\n",
       "      <td>115395.61587441359</td>\n",
       "      <td>None</td>\n",
       "    </tr>\n",
       "    <tr>\n",
       "      <th>3</th>\n",
       "      <td>min</td>\n",
       "      <td>-124.35</td>\n",
       "      <td>32.54</td>\n",
       "      <td>1.0</td>\n",
       "      <td>2.0</td>\n",
       "      <td>1.0</td>\n",
       "      <td>3.0</td>\n",
       "      <td>1.0</td>\n",
       "      <td>0.4999</td>\n",
       "      <td>14999.0</td>\n",
       "      <td>&lt;1H OCEAN</td>\n",
       "    </tr>\n",
       "    <tr>\n",
       "      <th>4</th>\n",
       "      <td>max</td>\n",
       "      <td>-114.31</td>\n",
       "      <td>41.95</td>\n",
       "      <td>52.0</td>\n",
       "      <td>39320.0</td>\n",
       "      <td>6445.0</td>\n",
       "      <td>35682.0</td>\n",
       "      <td>6082.0</td>\n",
       "      <td>15.0001</td>\n",
       "      <td>500001.0</td>\n",
       "      <td>NEAR OCEAN</td>\n",
       "    </tr>\n",
       "  </tbody>\n",
       "</table>\n",
       "</div>"
      ],
      "text/plain": [
       "  summary            longitude           latitude  housing_median_age  \\\n",
       "0   count                20640              20640               20640   \n",
       "1    mean  -119.56970445736148   35.6318614341087  28.639486434108527   \n",
       "2  stddev    2.003531723502584  2.135952397457101   12.58555761211163   \n",
       "3     min              -124.35              32.54                 1.0   \n",
       "4     max              -114.31              41.95                52.0   \n",
       "\n",
       "          total_rooms      total_bedrooms          population  \\\n",
       "0               20640               20640               20640   \n",
       "1  2635.7630813953488   536.8388565891473  1425.4767441860465   \n",
       "2  2181.6152515827944  419.39187792168866    1132.46212176534   \n",
       "3                 2.0                 1.0                 3.0   \n",
       "4             39320.0              6445.0             35682.0   \n",
       "\n",
       "          households       median_income  median_house_value ocean_proximity  \n",
       "0              20640               20640               20640           20640  \n",
       "1  499.5396802325581  3.8706710029070246  206855.81690891474            None  \n",
       "2  382.3297528316098   1.899821717945263  115395.61587441359            None  \n",
       "3                1.0              0.4999             14999.0       <1H OCEAN  \n",
       "4             6082.0             15.0001            500001.0      NEAR OCEAN  "
      ]
     },
     "execution_count": 9,
     "metadata": {},
     "output_type": "execute_result"
    }
   ],
   "source": [
    "imputer = Imputer(inputCols=['total_bedrooms'],\n",
    "                  outputCols=['total_bedrooms']).setStrategy(\"median\")\n",
    "\n",
    "df_housing = imputer.fit(df_housing).transform(df_housing)\n",
    "\n",
    "df_housing.describe().toPandas()"
   ]
  },
  {
   "cell_type": "markdown",
   "id": "0dc33b93",
   "metadata": {},
   "source": [
    "### Разделение на выборки"
   ]
  },
  {
   "cell_type": "code",
   "execution_count": 10,
   "id": "25590a34",
   "metadata": {},
   "outputs": [
    {
     "name": "stderr",
     "output_type": "stream",
     "text": [
      "                                                                                \r"
     ]
    },
    {
     "name": "stdout",
     "output_type": "stream",
     "text": [
      "16560 4080\n"
     ]
    }
   ],
   "source": [
    "train_data, test_data = df_housing.randomSplit([.8,.2], seed=42)\n",
    "print(train_data.count(), test_data.count())"
   ]
  },
  {
   "cell_type": "markdown",
   "id": "4c19f869",
   "metadata": {},
   "source": [
    "### Трансформация категорийных признаков"
   ]
  },
  {
   "cell_type": "code",
   "execution_count": 11,
   "id": "e77de631",
   "metadata": {},
   "outputs": [
    {
     "name": "stdout",
     "output_type": "stream",
     "text": [
      "+---------+--------+------------------+-----------+--------------+----------+----------+-------------+------------------+---------------+\n",
      "|longitude|latitude|housing_median_age|total_rooms|total_bedrooms|population|households|median_income|median_house_value|ocean_proximity|\n",
      "+---------+--------+------------------+-----------+--------------+----------+----------+-------------+------------------+---------------+\n",
      "|  -122.23|   37.88|              41.0|      880.0|         129.0|     322.0|     126.0|       8.3252|          452600.0|       NEAR BAY|\n",
      "|  -122.22|   37.86|              21.0|     7099.0|        1106.0|    2401.0|    1138.0|       8.3014|          358500.0|       NEAR BAY|\n",
      "|  -122.24|   37.85|              52.0|     1467.0|         190.0|     496.0|     177.0|       7.2574|          352100.0|       NEAR BAY|\n",
      "|  -122.25|   37.85|              52.0|     1274.0|         235.0|     558.0|     219.0|       5.6431|          341300.0|       NEAR BAY|\n",
      "|  -122.25|   37.85|              52.0|     1627.0|         280.0|     565.0|     259.0|       3.8462|          342200.0|       NEAR BAY|\n",
      "+---------+--------+------------------+-----------+--------------+----------+----------+-------------+------------------+---------------+\n",
      "only showing top 5 rows\n",
      "\n"
     ]
    }
   ],
   "source": [
    "df_housing.show(5)"
   ]
  },
  {
   "cell_type": "code",
   "execution_count": 12,
   "id": "1713fb68",
   "metadata": {},
   "outputs": [
    {
     "name": "stderr",
     "output_type": "stream",
     "text": [
      "                                                                                \r"
     ]
    }
   ],
   "source": [
    "indexer = StringIndexer(inputCols=cats, \n",
    "                        outputCols=[c+'_idx' for c in cats])\\\n",
    "                       .fit(train_data)\n",
    "\n",
    "train_data = indexer.transform(train_data)\n",
    "test_data = indexer.transform(test_data)"
   ]
  },
  {
   "cell_type": "code",
   "execution_count": 13,
   "id": "d9487f7b",
   "metadata": {},
   "outputs": [
    {
     "data": {
      "text/plain": [
       "['longitude',\n",
       " 'latitude',\n",
       " 'housing_median_age',\n",
       " 'total_rooms',\n",
       " 'total_bedrooms',\n",
       " 'population',\n",
       " 'households',\n",
       " 'median_income',\n",
       " 'median_house_value',\n",
       " 'ocean_proximity']"
      ]
     },
     "execution_count": 13,
     "metadata": {},
     "output_type": "execute_result"
    }
   ],
   "source": [
    "df_housing.columns"
   ]
  },
  {
   "cell_type": "code",
   "execution_count": 14,
   "id": "d68e7420",
   "metadata": {},
   "outputs": [
    {
     "name": "stdout",
     "output_type": "stream",
     "text": [
      "+---------------+\n",
      "|ocean_proximity|\n",
      "+---------------+\n",
      "|       NEAR BAY|\n",
      "|       NEAR BAY|\n",
      "|       NEAR BAY|\n",
      "|       NEAR BAY|\n",
      "|       NEAR BAY|\n",
      "+---------------+\n",
      "only showing top 5 rows\n",
      "\n"
     ]
    }
   ],
   "source": [
    "cols = [c for c in df_housing.columns for i in cats if (c.startswith(i))]\n",
    "df_housing.select(cols).show(5) "
   ]
  },
  {
   "cell_type": "code",
   "execution_count": 15,
   "id": "99f1d791",
   "metadata": {},
   "outputs": [],
   "source": [
    "encoder = OneHotEncoder(inputCols=[c+'_idx' for c in cats],\n",
    "                        outputCols=[c+'_ohe' for c in cats])\\\n",
    "                       .fit(train_data)\n",
    "\n",
    "train_data = encoder.transform(train_data)\n",
    "test_data = encoder.transform(test_data)"
   ]
  },
  {
   "cell_type": "code",
   "execution_count": 16,
   "id": "f2c79d96",
   "metadata": {},
   "outputs": [
    {
     "name": "stdout",
     "output_type": "stream",
     "text": [
      "+---------------+-------------------+-------------------+\n",
      "|ocean_proximity|ocean_proximity_idx|ocean_proximity_ohe|\n",
      "+---------------+-------------------+-------------------+\n",
      "|     NEAR OCEAN|                2.0|      (4,[2],[1.0])|\n",
      "|     NEAR OCEAN|                2.0|      (4,[2],[1.0])|\n",
      "|     NEAR OCEAN|                2.0|      (4,[2],[1.0])|\n",
      "|     NEAR OCEAN|                2.0|      (4,[2],[1.0])|\n",
      "|     NEAR OCEAN|                2.0|      (4,[2],[1.0])|\n",
      "+---------------+-------------------+-------------------+\n",
      "only showing top 5 rows\n",
      "\n"
     ]
    }
   ],
   "source": [
    "cols = [c for c in train_data.columns for i in cats if (c.startswith(i))]\n",
    "train_data.select(cols).show(5) "
   ]
  },
  {
   "cell_type": "code",
   "execution_count": 17,
   "id": "6f91cfbf",
   "metadata": {},
   "outputs": [],
   "source": [
    "categorical_assembler = \\\n",
    "        VectorAssembler(inputCols=[c+'_ohe' for c in cats],\n",
    "                                        outputCol=\"categorical_features\")\n",
    "\n",
    "train_data = categorical_assembler.transform(train_data) \n",
    "test_data = categorical_assembler.transform(test_data) "
   ]
  },
  {
   "cell_type": "markdown",
   "id": "8900a8cd",
   "metadata": {},
   "source": [
    "### Трансформация числовых признаков"
   ]
  },
  {
   "cell_type": "code",
   "execution_count": 18,
   "id": "8b2914a6",
   "metadata": {},
   "outputs": [],
   "source": [
    "numerical_assembler = VectorAssembler(inputCols=nums, \n",
    "                                      outputCol=\"numerical_features\")\n",
    "\n",
    "train_data = numerical_assembler.transform(train_data)\n",
    "test_data = numerical_assembler.transform(test_data)"
   ]
  },
  {
   "cell_type": "code",
   "execution_count": 19,
   "id": "befe8215",
   "metadata": {},
   "outputs": [
    {
     "name": "stderr",
     "output_type": "stream",
     "text": [
      "                                                                                \r"
     ]
    }
   ],
   "source": [
    "standardScaler = StandardScaler(inputCol='numerical_features',\n",
    "                                outputCol=\"numerical_features_scaled\")\\\n",
    "                               .fit(train_data) \n",
    "\n",
    "train_data = standardScaler.transform(train_data) \n",
    "test_data = standardScaler.transform(test_data) "
   ]
  },
  {
   "cell_type": "code",
   "execution_count": 20,
   "id": "28568d67",
   "metadata": {},
   "outputs": [
    {
     "name": "stdout",
     "output_type": "stream",
     "text": [
      "+--------------------+-------------------------+\n",
      "|categorical_features|numerical_features_scaled|\n",
      "+--------------------+-------------------------+\n",
      "|       (4,[2],[1.0])|     [-61.931952286653...|\n",
      "|       (4,[2],[1.0])|     [-61.907050013920...|\n",
      "|       (4,[2],[1.0])|     [-61.892108650280...|\n",
      "+--------------------+-------------------------+\n",
      "only showing top 3 rows\n",
      "\n"
     ]
    }
   ],
   "source": [
    "all_features = ['categorical_features','numerical_features_scaled']\n",
    "\n",
    "final_assembler = VectorAssembler(inputCols=all_features, \n",
    "                                  outputCol=\"features\") \n",
    "\n",
    "train_data = final_assembler.transform(train_data)\n",
    "test_data = final_assembler.transform(test_data)\n",
    "\n",
    "train_data.select(all_features).show(3)"
   ]
  },
  {
   "cell_type": "markdown",
   "id": "9f0a82f3",
   "metadata": {
    "id": "9f0a82f3"
   },
   "source": [
    "# Обучение моделей"
   ]
  },
  {
   "cell_type": "markdown",
   "id": "3d2c0ef6",
   "metadata": {},
   "source": [
    "## Linear с полным набором параметров"
   ]
  },
  {
   "cell_type": "code",
   "execution_count": 21,
   "id": "bddb08c4",
   "metadata": {
    "id": "bddb08c4",
    "scrolled": true
   },
   "outputs": [
    {
     "name": "stderr",
     "output_type": "stream",
     "text": [
      "23/02/21 06:21:34 WARN BLAS: Failed to load implementation from: com.github.fommil.netlib.NativeSystemBLAS\n",
      "23/02/21 06:21:34 WARN BLAS: Failed to load implementation from: com.github.fommil.netlib.NativeRefBLAS\n",
      "23/02/21 06:21:34 WARN LAPACK: Failed to load implementation from: com.github.fommil.netlib.NativeSystemLAPACK\n",
      "23/02/21 06:21:34 WARN LAPACK: Failed to load implementation from: com.github.fommil.netlib.NativeRefLAPACK\n",
      "                                                                                \r"
     ]
    }
   ],
   "source": [
    "lr = LinearRegression(regParam=0.001, labelCol=target, featuresCol='features')\n",
    "\n",
    "model = lr.fit(train_data)"
   ]
  },
  {
   "cell_type": "code",
   "execution_count": 22,
   "id": "00cb12db",
   "metadata": {},
   "outputs": [
    {
     "name": "stdout",
     "output_type": "stream",
     "text": [
      "+------------------+------------------+\n",
      "|median_house_value|        prediction|\n",
      "+------------------+------------------+\n",
      "|          103600.0|150533.05201137392|\n",
      "|          106700.0|217624.65557502257|\n",
      "|           73200.0|125169.93731395248|\n",
      "|           90100.0|195019.31856626645|\n",
      "|           67000.0|152291.14378080424|\n",
      "|           86400.0| 186076.1646265802|\n",
      "|           70500.0|  163936.411388007|\n",
      "|           85100.0|180008.60364678735|\n",
      "|           80500.0|181580.62083134847|\n",
      "|           96000.0|170314.91081720544|\n",
      "|           75500.0|137047.88310815254|\n",
      "|           75000.0|104686.28871561633|\n",
      "|          100600.0|191108.09587061638|\n",
      "|           74100.0|156926.54312393768|\n",
      "|           66800.0|134358.35757881217|\n",
      "|           72600.0|161405.11234061373|\n",
      "|           81100.0|150431.96760939434|\n",
      "|          135600.0|174070.42442664923|\n",
      "|          119400.0|166828.34705348825|\n",
      "|           71300.0|169746.66898164805|\n",
      "+------------------+------------------+\n",
      "only showing top 20 rows\n",
      "\n"
     ]
    }
   ],
   "source": [
    "predictions = model.transform(test_data)\n",
    "\n",
    "predictedLabes = predictions.select(target, \"prediction\")\n",
    "predictedLabes.show() "
   ]
  },
  {
   "cell_type": "markdown",
   "id": "f60f49ba",
   "metadata": {},
   "source": [
    "### Оценка модели"
   ]
  },
  {
   "cell_type": "code",
   "execution_count": 23,
   "id": "14e3b85e",
   "metadata": {},
   "outputs": [
    {
     "name": "stdout",
     "output_type": "stream",
     "text": [
      "RSME:  70786.46256245082\n",
      "MAE:  50863.55254301572\n",
      "R2:  0.6378452502238174\n"
     ]
    }
   ],
   "source": [
    "rsme = RegressionEvaluator(labelCol=target,\\\n",
    "                           metricName='rmse').evaluate(predictions)\n",
    "\n",
    "mae = RegressionEvaluator(labelCol=target,\\\n",
    "                          metricName='mae').evaluate(predictions)\n",
    "\n",
    "r2 = RegressionEvaluator(labelCol=target,\\\n",
    "                         metricName='r2').evaluate(predictions)\n",
    "\n",
    "print('RSME: ', rsme)\n",
    "print('MAE: ', mae) \n",
    "print('R2: ', r2)"
   ]
  },
  {
   "cell_type": "markdown",
   "id": "0eae70ee",
   "metadata": {},
   "source": [
    "## Linear без категориальных переменных"
   ]
  },
  {
   "cell_type": "code",
   "execution_count": 24,
   "id": "347a3ce1",
   "metadata": {},
   "outputs": [],
   "source": [
    "lr = LinearRegression(regParam=0.001, labelCol=target, featuresCol='numerical_features_scaled')\n",
    "\n",
    "model = lr.fit(train_data)"
   ]
  },
  {
   "cell_type": "code",
   "execution_count": 25,
   "id": "50936b22",
   "metadata": {},
   "outputs": [
    {
     "name": "stdout",
     "output_type": "stream",
     "text": [
      "+------------------+------------------+\n",
      "|median_house_value|        prediction|\n",
      "+------------------+------------------+\n",
      "|          103600.0|100751.20763066737|\n",
      "|          106700.0|190787.24162771692|\n",
      "|           73200.0| 74736.22486875672|\n",
      "|           90100.0|162342.37158293743|\n",
      "|           67000.0| 119469.7392479456|\n",
      "|           86400.0|155921.97273852723|\n",
      "|           70500.0|131193.75734864315|\n",
      "|           85100.0| 150446.1475033695|\n",
      "|           80500.0|150167.76686676592|\n",
      "|           96000.0|133759.40356000653|\n",
      "|           75500.0| 99083.86418192228|\n",
      "|           75000.0|50512.753887748346|\n",
      "|          100600.0|157630.49641811615|\n",
      "|           74100.0|123925.08694595052|\n",
      "|           66800.0|103050.25701026153|\n",
      "|           72600.0|127714.79813263332|\n",
      "|           81100.0|116199.38302141055|\n",
      "|          135600.0| 150752.7982377666|\n",
      "|          119400.0|126716.72205311386|\n",
      "|           71300.0|145282.65911599854|\n",
      "+------------------+------------------+\n",
      "only showing top 20 rows\n",
      "\n"
     ]
    }
   ],
   "source": [
    "predictions = model.transform(test_data)\n",
    "\n",
    "predictedLabes = predictions.select(target, \"prediction\")\n",
    "predictedLabes.show() "
   ]
  },
  {
   "cell_type": "markdown",
   "id": "7cd51920",
   "metadata": {},
   "source": [
    "### Оценка модели"
   ]
  },
  {
   "cell_type": "code",
   "execution_count": 26,
   "id": "292c651e",
   "metadata": {},
   "outputs": [
    {
     "name": "stdout",
     "output_type": "stream",
     "text": [
      "RSME:  71791.28367374057\n",
      "MAE:  51804.392993042435\n",
      "R2:  0.6274906279118236\n"
     ]
    }
   ],
   "source": [
    "rsme = RegressionEvaluator(labelCol=target,\\\n",
    "                           metricName='rmse').evaluate(predictions)\n",
    "\n",
    "mae = RegressionEvaluator(labelCol=target,\\\n",
    "                          metricName='mae').evaluate(predictions)\n",
    "\n",
    "r2 = RegressionEvaluator(labelCol=target,\\\n",
    "                         metricName='r2').evaluate(predictions)\n",
    "\n",
    "print('RSME: ', rsme)\n",
    "print('MAE: ', mae) \n",
    "print('R2: ', r2)"
   ]
  },
  {
   "cell_type": "code",
   "execution_count": 27,
   "id": "74283c60",
   "metadata": {},
   "outputs": [],
   "source": [
    "spark.stop()"
   ]
  },
  {
   "cell_type": "markdown",
   "id": "757fd103",
   "metadata": {
    "id": "757fd103"
   },
   "source": [
    "# Анализ результатов"
   ]
  },
  {
   "cell_type": "markdown",
   "id": "5da9d64c",
   "metadata": {},
   "source": [
    "Очевидно, что модель с категориальными признаками показывает несколько более лучшие результаты в предсказании медианной цены домов. Однако нельзя не заметить, что качественный прирост сравнительно невелик. Таким образом, можно заключить:\n",
    "* либо категориальный признак (близость к океану) в данном случае не сильно релевантен,\n",
    "* либо не представленно достаточное количество наблюдений (например \"островных\" наблюдений меньше десятка);\n",
    "* либо имеет место мультиколлинеарность (возможно, комбинация долготы-широты позволяет заменить категориальный параметр)"
   ]
  }
 ],
 "metadata": {
  "ExecuteTimeLog": [
   {
    "duration": 14949,
    "start_time": "2023-02-16T07:46:31.410Z"
   },
   {
    "duration": 8034,
    "start_time": "2023-02-16T07:47:04.140Z"
   },
   {
    "duration": 658,
    "start_time": "2023-02-16T07:47:25.391Z"
   },
   {
    "duration": 456,
    "start_time": "2023-02-16T07:47:32.452Z"
   },
   {
    "duration": 3641,
    "start_time": "2023-02-16T07:57:08.149Z"
   },
   {
    "duration": 3,
    "start_time": "2023-02-16T07:58:33.511Z"
   },
   {
    "duration": 300,
    "start_time": "2023-02-16T08:00:01.487Z"
   },
   {
    "duration": 73,
    "start_time": "2023-02-16T08:00:19.105Z"
   },
   {
    "duration": 8,
    "start_time": "2023-02-16T08:00:22.284Z"
   },
   {
    "duration": 1390,
    "start_time": "2023-02-16T08:01:35.960Z"
   },
   {
    "duration": 3,
    "start_time": "2023-02-16T08:01:47.086Z"
   },
   {
    "duration": 1185,
    "start_time": "2023-02-16T08:02:04.901Z"
   },
   {
    "duration": 3,
    "start_time": "2023-02-16T08:02:06.846Z"
   },
   {
    "duration": 1180,
    "start_time": "2023-02-16T08:02:17.603Z"
   },
   {
    "duration": 45,
    "start_time": "2023-02-17T07:40:50.955Z"
   },
   {
    "duration": 19449,
    "start_time": "2023-02-17T07:40:53.362Z"
   },
   {
    "duration": 9325,
    "start_time": "2023-02-17T07:41:12.813Z"
   },
   {
    "duration": 716,
    "start_time": "2023-02-17T07:41:22.140Z"
   },
   {
    "duration": 4713,
    "start_time": "2023-02-17T07:41:22.858Z"
   },
   {
    "duration": 453,
    "start_time": "2023-02-17T07:41:27.573Z"
   },
   {
    "duration": 1702,
    "start_time": "2023-02-17T07:41:38.676Z"
   },
   {
    "duration": 1100,
    "start_time": "2023-02-17T07:52:02.838Z"
   },
   {
    "duration": 3,
    "start_time": "2023-02-17T07:52:07.180Z"
   },
   {
    "duration": 848,
    "start_time": "2023-02-17T07:55:33.119Z"
   },
   {
    "duration": 17,
    "start_time": "2023-02-17T07:55:44.698Z"
   },
   {
    "duration": 8,
    "start_time": "2023-02-17T07:55:48.206Z"
   },
   {
    "duration": 219,
    "start_time": "2023-02-17T07:56:46.319Z"
   },
   {
    "duration": 230,
    "start_time": "2023-02-17T07:56:55.107Z"
   },
   {
    "duration": 954,
    "start_time": "2023-02-17T07:57:08.398Z"
   },
   {
    "duration": 38,
    "start_time": "2023-02-17T07:57:16.659Z"
   },
   {
    "duration": 3,
    "start_time": "2023-02-17T08:01:26.118Z"
   },
   {
    "duration": 404,
    "start_time": "2023-02-17T08:02:34.365Z"
   },
   {
    "duration": 3935,
    "start_time": "2023-02-17T08:04:14.550Z"
   },
   {
    "duration": 23,
    "start_time": "2023-02-17T08:06:24.090Z"
   },
   {
    "duration": 24,
    "start_time": "2023-02-17T08:06:33.970Z"
   },
   {
    "duration": 7,
    "start_time": "2023-02-17T08:06:51.498Z"
   },
   {
    "duration": 4,
    "start_time": "2023-02-17T08:07:01.291Z"
   },
   {
    "duration": 7,
    "start_time": "2023-02-17T08:07:03.770Z"
   },
   {
    "duration": 46,
    "start_time": "2023-02-17T08:07:30.139Z"
   },
   {
    "duration": 22,
    "start_time": "2023-02-17T08:07:38.370Z"
   },
   {
    "duration": 17,
    "start_time": "2023-02-17T08:07:42.882Z"
   },
   {
    "duration": 18,
    "start_time": "2023-02-17T08:12:56.730Z"
   },
   {
    "duration": 23,
    "start_time": "2023-02-17T08:13:09.530Z"
   },
   {
    "duration": 18,
    "start_time": "2023-02-17T08:13:22.790Z"
   },
   {
    "duration": 251,
    "start_time": "2023-02-17T08:15:00.822Z"
   },
   {
    "duration": 39,
    "start_time": "2023-02-17T08:21:30.541Z"
   },
   {
    "duration": 258,
    "start_time": "2023-02-17T08:21:50.581Z"
   },
   {
    "duration": 3124,
    "start_time": "2023-02-17T08:27:05.761Z"
   },
   {
    "duration": 77,
    "start_time": "2023-02-17T08:27:20.828Z"
   },
   {
    "duration": 14,
    "start_time": "2023-02-17T08:27:29.260Z"
   },
   {
    "duration": 3000,
    "start_time": "2023-02-17T08:27:53.639Z"
   },
   {
    "duration": 806,
    "start_time": "2023-02-17T08:28:42.460Z"
   },
   {
    "duration": 679,
    "start_time": "2023-02-17T08:30:14.696Z"
   },
   {
    "duration": 4,
    "start_time": "2023-02-17T08:32:35.607Z"
   },
   {
    "duration": 8,
    "start_time": "2023-02-17T08:44:02.461Z"
   },
   {
    "duration": 85,
    "start_time": "2023-02-17T08:44:35.580Z"
   },
   {
    "duration": 78,
    "start_time": "2023-02-17T08:44:51.400Z"
   },
   {
    "duration": 4,
    "start_time": "2023-02-17T08:45:06.840Z"
   },
   {
    "duration": 3,
    "start_time": "2023-02-17T08:45:11.480Z"
   },
   {
    "duration": 768,
    "start_time": "2023-02-17T08:45:13.601Z"
   },
   {
    "duration": 122,
    "start_time": "2023-02-17T08:48:20.180Z"
   },
   {
    "duration": 117,
    "start_time": "2023-02-17T08:48:36.820Z"
   },
   {
    "duration": 150,
    "start_time": "2023-02-17T08:48:47.740Z"
   },
   {
    "duration": 7,
    "start_time": "2023-02-17T08:51:17.008Z"
   },
   {
    "duration": 93,
    "start_time": "2023-02-17T08:51:27.720Z"
   },
   {
    "duration": 1491,
    "start_time": "2023-02-17T08:51:37.248Z"
   },
   {
    "duration": 445,
    "start_time": "2023-02-17T08:51:46.422Z"
   },
   {
    "duration": 5,
    "start_time": "2023-02-17T08:51:48.100Z"
   },
   {
    "duration": 10,
    "start_time": "2023-02-17T08:52:40.440Z"
   },
   {
    "duration": 3,
    "start_time": "2023-02-17T08:52:45.509Z"
   },
   {
    "duration": 4,
    "start_time": "2023-02-17T08:52:48.689Z"
   },
   {
    "duration": 308,
    "start_time": "2023-02-17T08:54:09.340Z"
   },
   {
    "duration": 114,
    "start_time": "2023-02-17T08:54:23.681Z"
   },
   {
    "duration": 12,
    "start_time": "2023-02-17T08:55:39.829Z"
   },
   {
    "duration": 8,
    "start_time": "2023-02-17T08:55:46.861Z"
   },
   {
    "duration": 7,
    "start_time": "2023-02-17T08:55:58.280Z"
   },
   {
    "duration": 3,
    "start_time": "2023-02-17T08:56:07.269Z"
   },
   {
    "duration": 189,
    "start_time": "2023-02-17T08:56:15.009Z"
   },
   {
    "duration": 187,
    "start_time": "2023-02-17T08:56:17.961Z"
   },
   {
    "duration": 141,
    "start_time": "2023-02-17T08:56:42.601Z"
   },
   {
    "duration": 125,
    "start_time": "2023-02-17T08:56:50.420Z"
   },
   {
    "duration": 164,
    "start_time": "2023-02-17T08:56:56.241Z"
   },
   {
    "duration": 181,
    "start_time": "2023-02-17T08:57:12.161Z"
   },
   {
    "duration": 102,
    "start_time": "2023-02-17T08:58:14.600Z"
   },
   {
    "duration": 45,
    "start_time": "2023-02-17T09:00:19.294Z"
   },
   {
    "duration": 7,
    "start_time": "2023-02-17T09:00:28.423Z"
   },
   {
    "duration": 4,
    "start_time": "2023-02-17T09:00:32.303Z"
   },
   {
    "duration": 8,
    "start_time": "2023-02-17T10:38:35.422Z"
   },
   {
    "duration": 38,
    "start_time": "2023-02-17T10:38:43.582Z"
   },
   {
    "duration": 6,
    "start_time": "2023-02-17T10:39:29.512Z"
   },
   {
    "duration": 26,
    "start_time": "2023-02-17T10:40:01.877Z"
   },
   {
    "duration": 1584,
    "start_time": "2023-02-17T10:40:09.277Z"
   },
   {
    "duration": 8,
    "start_time": "2023-02-17T10:40:19.138Z"
   },
   {
    "duration": 5,
    "start_time": "2023-02-17T10:40:22.679Z"
   },
   {
    "duration": 278,
    "start_time": "2023-02-17T10:42:25.974Z"
   },
   {
    "duration": 2533,
    "start_time": "2023-02-17T10:43:14.930Z"
   },
   {
    "duration": 753858,
    "start_time": "2023-02-17T10:43:52.212Z"
   },
   {
    "duration": 0,
    "start_time": "2023-02-17T10:56:30.150Z"
   },
   {
    "duration": 4,
    "start_time": "2023-02-17T10:56:32.169Z"
   },
   {
    "duration": 4,
    "start_time": "2023-02-17T10:56:33.745Z"
   },
   {
    "duration": 136679,
    "start_time": "2023-02-17T11:02:26.200Z"
   },
   {
    "duration": 0,
    "start_time": "2023-02-17T11:04:42.880Z"
   },
   {
    "duration": 172321,
    "start_time": "2023-02-17T11:04:47.318Z"
   },
   {
    "duration": 794059,
    "start_time": "2023-02-17T11:07:43.627Z"
   },
   {
    "duration": 4526,
    "start_time": "2023-02-17T11:21:07.872Z"
   },
   {
    "duration": 4,
    "start_time": "2023-02-17T11:21:30.407Z"
   },
   {
    "duration": 19764,
    "start_time": "2023-02-17T11:21:32.074Z"
   },
   {
    "duration": 2340,
    "start_time": "2023-02-17T11:22:30.355Z"
   },
   {
    "duration": 75050,
    "start_time": "2023-02-17T11:22:49.618Z"
   },
   {
    "duration": 21497,
    "start_time": "2023-02-17T11:24:14.219Z"
   },
   {
    "duration": 524046,
    "start_time": "2023-02-17T11:24:37.019Z"
   },
   {
    "duration": 0,
    "start_time": "2023-02-17T11:33:21.067Z"
   },
   {
    "duration": 4,
    "start_time": "2023-02-17T11:33:22.138Z"
   },
   {
    "duration": 26,
    "start_time": "2023-02-17T11:33:35.547Z"
   },
   {
    "duration": 16784,
    "start_time": "2023-02-17T11:33:44.656Z"
   },
   {
    "duration": 9685,
    "start_time": "2023-02-17T11:34:03.367Z"
   },
   {
    "duration": 4725,
    "start_time": "2023-02-17T11:34:13.053Z"
   },
   {
    "duration": 374,
    "start_time": "2023-02-17T11:34:17.780Z"
   },
   {
    "duration": 4755,
    "start_time": "2023-02-17T11:34:19.807Z"
   },
   {
    "duration": 291,
    "start_time": "2023-02-17T11:34:39.377Z"
   },
   {
    "duration": 5,
    "start_time": "2023-02-17T11:34:48.888Z"
   },
   {
    "duration": 4,
    "start_time": "2023-02-17T11:34:57.719Z"
   },
   {
    "duration": 3,
    "start_time": "2023-02-17T11:35:12.017Z"
   },
   {
    "duration": 1489,
    "start_time": "2023-02-17T11:35:14.167Z"
   },
   {
    "duration": 1451,
    "start_time": "2023-02-17T11:35:17.428Z"
   },
   {
    "duration": 7,
    "start_time": "2023-02-17T11:35:19.127Z"
   },
   {
    "duration": 397,
    "start_time": "2023-02-17T11:35:20.949Z"
   },
   {
    "duration": 436,
    "start_time": "2023-02-17T11:35:22.117Z"
   },
   {
    "duration": 407,
    "start_time": "2023-02-17T11:35:22.555Z"
   },
   {
    "duration": 41,
    "start_time": "2023-02-17T11:35:23.856Z"
   },
   {
    "duration": 5,
    "start_time": "2023-02-17T11:35:24.447Z"
   },
   {
    "duration": 29,
    "start_time": "2023-02-17T11:35:31.324Z"
   },
   {
    "duration": 1388,
    "start_time": "2023-02-17T11:35:32.168Z"
   },
   {
    "duration": 370,
    "start_time": "2023-02-17T11:35:35.087Z"
   },
   {
    "duration": 3074,
    "start_time": "2023-02-17T11:35:37.767Z"
   },
   {
    "duration": 4432,
    "start_time": "2023-02-17T11:35:49.515Z"
   },
   {
    "duration": 1238,
    "start_time": "2023-02-17T11:35:58.015Z"
   },
   {
    "duration": 2300,
    "start_time": "2023-02-17T11:39:34.747Z"
   },
   {
    "duration": 3240,
    "start_time": "2023-02-17T11:39:49.415Z"
   },
   {
    "duration": 853,
    "start_time": "2023-02-17T11:40:02.927Z"
   },
   {
    "duration": 2009,
    "start_time": "2023-02-17T11:40:15.147Z"
   },
   {
    "duration": 4277,
    "start_time": "2023-02-17T11:41:11.006Z"
   },
   {
    "duration": 39,
    "start_time": "2023-02-17T11:41:18.107Z"
   },
   {
    "duration": 7,
    "start_time": "2023-02-17T11:41:45.911Z"
   },
   {
    "duration": 2349,
    "start_time": "2023-02-17T11:42:15.947Z"
   },
   {
    "duration": 548,
    "start_time": "2023-02-17T11:42:19.067Z"
   },
   {
    "duration": 1720,
    "start_time": "2023-02-17T11:42:23.618Z"
   },
   {
    "duration": 1288,
    "start_time": "2023-02-17T11:42:56.560Z"
   },
   {
    "duration": 1612,
    "start_time": "2023-02-17T11:43:06.648Z"
   },
   {
    "duration": 565,
    "start_time": "2023-02-17T11:43:08.400Z"
   },
   {
    "duration": 1405,
    "start_time": "2023-02-17T11:43:18.562Z"
   },
   {
    "duration": 2195,
    "start_time": "2023-02-17T11:53:49.147Z"
   },
   {
    "duration": 604,
    "start_time": "2023-02-17T11:53:51.495Z"
   },
   {
    "duration": 1390,
    "start_time": "2023-02-17T11:53:59.280Z"
   },
   {
    "duration": 1925,
    "start_time": "2023-02-17T11:54:01.748Z"
   },
   {
    "duration": 807,
    "start_time": "2023-02-17T11:54:03.737Z"
   },
   {
    "duration": 1499,
    "start_time": "2023-02-17T11:54:07.400Z"
   },
   {
    "duration": 6,
    "start_time": "2023-02-17T11:54:27.823Z"
   },
   {
    "duration": 333,
    "start_time": "2023-02-17T11:54:27.832Z"
   },
   {
    "duration": 1504,
    "start_time": "2023-02-17T11:54:28.167Z"
   },
   {
    "duration": 170,
    "start_time": "2023-02-17T11:54:29.674Z"
   },
   {
    "duration": 2177,
    "start_time": "2023-02-17T11:54:29.847Z"
   },
   {
    "duration": 5,
    "start_time": "2023-02-17T11:54:32.026Z"
   },
   {
    "duration": 16,
    "start_time": "2023-02-17T11:54:32.033Z"
   },
   {
    "duration": 9,
    "start_time": "2023-02-17T11:54:32.051Z"
   },
   {
    "duration": 1021,
    "start_time": "2023-02-17T11:54:32.062Z"
   },
   {
    "duration": 561,
    "start_time": "2023-02-17T11:54:33.085Z"
   },
   {
    "duration": 7,
    "start_time": "2023-02-17T11:54:33.649Z"
   },
   {
    "duration": 236,
    "start_time": "2023-02-17T11:54:33.657Z"
   },
   {
    "duration": 63,
    "start_time": "2023-02-17T11:54:33.896Z"
   },
   {
    "duration": 175,
    "start_time": "2023-02-17T11:54:33.962Z"
   },
   {
    "duration": 20,
    "start_time": "2023-02-17T11:54:34.139Z"
   },
   {
    "duration": 89,
    "start_time": "2023-02-17T11:54:34.161Z"
   },
   {
    "duration": 614,
    "start_time": "2023-02-17T11:54:34.251Z"
   },
   {
    "duration": 398,
    "start_time": "2023-02-17T11:54:34.868Z"
   },
   {
    "duration": 998,
    "start_time": "2023-02-17T11:54:35.268Z"
   },
   {
    "duration": 2010,
    "start_time": "2023-02-17T11:54:36.268Z"
   },
   {
    "duration": 402,
    "start_time": "2023-02-17T11:54:38.281Z"
   },
   {
    "duration": 1189,
    "start_time": "2023-02-17T11:54:38.685Z"
   },
   {
    "duration": 1892,
    "start_time": "2023-02-17T11:54:39.876Z"
   },
   {
    "duration": 501,
    "start_time": "2023-02-17T11:54:41.770Z"
   },
   {
    "duration": 1390,
    "start_time": "2023-02-17T11:54:42.273Z"
   },
   {
    "duration": 868,
    "start_time": "2023-02-20T07:09:02.676Z"
   },
   {
    "duration": 21075,
    "start_time": "2023-02-20T07:09:07.336Z"
   },
   {
    "duration": 11244,
    "start_time": "2023-02-20T07:09:28.413Z"
   },
   {
    "duration": 5618,
    "start_time": "2023-02-20T07:09:53.903Z"
   },
   {
    "duration": 477,
    "start_time": "2023-02-20T07:10:01.856Z"
   },
   {
    "duration": 5356,
    "start_time": "2023-02-20T07:10:07.378Z"
   },
   {
    "duration": 4,
    "start_time": "2023-02-20T07:10:18.135Z"
   },
   {
    "duration": 4,
    "start_time": "2023-02-20T07:10:22.371Z"
   },
   {
    "duration": 2060,
    "start_time": "2023-02-20T07:10:29.816Z"
   },
   {
    "duration": 2015,
    "start_time": "2023-02-20T07:11:49.856Z"
   },
   {
    "duration": 3156,
    "start_time": "2023-02-20T07:19:40.676Z"
   },
   {
    "duration": 102,
    "start_time": "2023-02-20T07:20:42.838Z"
   },
   {
    "duration": 4,
    "start_time": "2023-02-20T07:22:04.116Z"
   },
   {
    "duration": 5,
    "start_time": "2023-02-20T07:22:04.451Z"
   },
   {
    "duration": 752,
    "start_time": "2023-02-20T07:22:06.476Z"
   },
   {
    "duration": 1191,
    "start_time": "2023-02-20T07:22:07.230Z"
   },
   {
    "duration": 217,
    "start_time": "2023-02-20T07:22:08.884Z"
   },
   {
    "duration": 3015,
    "start_time": "2023-02-20T07:22:10.516Z"
   },
   {
    "duration": 5,
    "start_time": "2023-02-20T07:22:13.533Z"
   },
   {
    "duration": 30,
    "start_time": "2023-02-20T07:22:13.540Z"
   },
   {
    "duration": 2267,
    "start_time": "2023-02-20T07:22:33.896Z"
   },
   {
    "duration": 2035,
    "start_time": "2023-02-20T07:24:57.517Z"
   },
   {
    "duration": 1417,
    "start_time": "2023-02-20T07:30:11.019Z"
   },
   {
    "duration": 2525,
    "start_time": "2023-02-20T07:30:13.855Z"
   },
   {
    "duration": 200,
    "start_time": "2023-02-20T07:31:00.714Z"
   },
   {
    "duration": 908,
    "start_time": "2023-02-20T07:31:20.414Z"
   },
   {
    "duration": 789,
    "start_time": "2023-02-20T07:31:22.167Z"
   },
   {
    "duration": 807,
    "start_time": "2023-02-20T07:31:44.886Z"
   },
   {
    "duration": 18173,
    "start_time": "2023-02-20T07:31:45.696Z"
   },
   {
    "duration": 12461,
    "start_time": "2023-02-20T07:32:03.872Z"
   },
   {
    "duration": 6452,
    "start_time": "2023-02-20T07:32:16.335Z"
   },
   {
    "duration": 574,
    "start_time": "2023-02-20T07:32:22.789Z"
   },
   {
    "duration": 5670,
    "start_time": "2023-02-20T07:32:23.364Z"
   },
   {
    "duration": 10,
    "start_time": "2023-02-20T07:32:29.038Z"
   },
   {
    "duration": 28,
    "start_time": "2023-02-20T07:32:29.050Z"
   },
   {
    "duration": 3818,
    "start_time": "2023-02-20T07:32:29.080Z"
   },
   {
    "duration": 2250,
    "start_time": "2023-02-20T07:35:30.903Z"
   },
   {
    "duration": 2525,
    "start_time": "2023-02-20T07:35:36.353Z"
   },
   {
    "duration": 694,
    "start_time": "2023-02-20T07:36:03.464Z"
   },
   {
    "duration": 1184,
    "start_time": "2023-02-20T07:38:26.649Z"
   },
   {
    "duration": 703,
    "start_time": "2023-02-20T07:38:33.947Z"
   },
   {
    "duration": 166,
    "start_time": "2023-02-20T07:38:41.546Z"
   },
   {
    "duration": 158,
    "start_time": "2023-02-20T07:38:44.545Z"
   },
   {
    "duration": 16,
    "start_time": "2023-02-20T07:39:02.035Z"
   },
   {
    "duration": 387,
    "start_time": "2023-02-20T07:44:41.906Z"
   },
   {
    "duration": 162,
    "start_time": "2023-02-20T07:45:00.001Z"
   },
   {
    "duration": 440,
    "start_time": "2023-02-20T07:45:14.083Z"
   },
   {
    "duration": 18,
    "start_time": "2023-02-20T07:45:20.321Z"
   },
   {
    "duration": 129,
    "start_time": "2023-02-20T07:45:36.081Z"
   },
   {
    "duration": 359,
    "start_time": "2023-02-20T07:45:41.208Z"
   },
   {
    "duration": 15,
    "start_time": "2023-02-20T07:46:05.281Z"
   },
   {
    "duration": 24,
    "start_time": "2023-02-20T07:54:26.108Z"
   },
   {
    "duration": 20,
    "start_time": "2023-02-20T07:54:29.895Z"
   },
   {
    "duration": 755,
    "start_time": "2023-02-20T07:57:17.367Z"
   },
   {
    "duration": 394,
    "start_time": "2023-02-20T07:57:19.048Z"
   },
   {
    "duration": 589,
    "start_time": "2023-02-20T07:57:42.568Z"
   },
   {
    "duration": 120,
    "start_time": "2023-02-20T07:57:56.654Z"
   },
   {
    "duration": 147,
    "start_time": "2023-02-20T08:05:00.869Z"
   },
   {
    "duration": 414,
    "start_time": "2023-02-20T08:05:23.406Z"
   },
   {
    "duration": 403,
    "start_time": "2023-02-20T08:05:31.151Z"
   },
   {
    "duration": 263,
    "start_time": "2023-02-20T08:05:50.867Z"
   },
   {
    "duration": 133,
    "start_time": "2023-02-20T08:06:18.085Z"
   },
   {
    "duration": 683,
    "start_time": "2023-02-20T08:06:26.006Z"
   },
   {
    "duration": 1499,
    "start_time": "2023-02-20T08:06:28.426Z"
   },
   {
    "duration": 7,
    "start_time": "2023-02-20T08:06:34.152Z"
   },
   {
    "duration": 126,
    "start_time": "2023-02-20T08:06:46.305Z"
   },
   {
    "duration": 530,
    "start_time": "2023-02-20T08:07:46.225Z"
   },
   {
    "duration": 137,
    "start_time": "2023-02-20T08:08:51.247Z"
   },
   {
    "duration": 181,
    "start_time": "2023-02-20T08:14:35.125Z"
   },
   {
    "duration": 139,
    "start_time": "2023-02-20T08:14:43.885Z"
   },
   {
    "duration": 782,
    "start_time": "2023-02-20T08:14:48.074Z"
   },
   {
    "duration": 360,
    "start_time": "2023-02-20T08:14:50.076Z"
   },
   {
    "duration": 234,
    "start_time": "2023-02-20T08:14:50.440Z"
   },
   {
    "duration": 543,
    "start_time": "2023-02-20T08:15:16.486Z"
   },
   {
    "duration": 832,
    "start_time": "2023-02-20T08:15:30.313Z"
   },
   {
    "duration": 198,
    "start_time": "2023-02-20T08:15:34.145Z"
   },
   {
    "duration": 562,
    "start_time": "2023-02-20T08:15:34.400Z"
   },
   {
    "duration": 27,
    "start_time": "2023-02-20T08:17:51.686Z"
   },
   {
    "duration": 636,
    "start_time": "2023-02-20T08:18:00.985Z"
   },
   {
    "duration": 185,
    "start_time": "2023-02-20T08:18:02.275Z"
   },
   {
    "duration": 578,
    "start_time": "2023-02-20T08:18:03.858Z"
   },
   {
    "duration": 518,
    "start_time": "2023-02-20T08:18:20.166Z"
   },
   {
    "duration": 328,
    "start_time": "2023-02-20T08:18:31.786Z"
   },
   {
    "duration": 10,
    "start_time": "2023-02-20T08:18:52.913Z"
   },
   {
    "duration": 126,
    "start_time": "2023-02-20T08:19:59.713Z"
   },
   {
    "duration": 111,
    "start_time": "2023-02-20T08:20:10.185Z"
   },
   {
    "duration": 195,
    "start_time": "2023-02-20T08:20:54.778Z"
   },
   {
    "duration": 503,
    "start_time": "2023-02-20T08:21:02.466Z"
   },
   {
    "duration": 127,
    "start_time": "2023-02-20T08:22:04.295Z"
   },
   {
    "duration": 8,
    "start_time": "2023-02-20T08:22:12.801Z"
   },
   {
    "duration": 738,
    "start_time": "2023-02-20T08:22:17.107Z"
   },
   {
    "duration": 450,
    "start_time": "2023-02-20T08:22:22.874Z"
   },
   {
    "duration": 18,
    "start_time": "2023-02-20T08:24:35.866Z"
   },
   {
    "duration": 78,
    "start_time": "2023-02-20T08:25:15.162Z"
   },
   {
    "duration": 1289,
    "start_time": "2023-02-20T08:26:20.568Z"
   },
   {
    "duration": 687,
    "start_time": "2023-02-20T08:27:46.383Z"
   },
   {
    "duration": 4282,
    "start_time": "2023-02-20T08:28:02.087Z"
   },
   {
    "duration": 2720,
    "start_time": "2023-02-20T08:28:08.108Z"
   },
   {
    "duration": 731,
    "start_time": "2023-02-20T08:28:13.307Z"
   },
   {
    "duration": 1612,
    "start_time": "2023-02-20T08:28:24.668Z"
   },
   {
    "duration": 1799,
    "start_time": "2023-02-20T08:28:29.307Z"
   },
   {
    "duration": 714,
    "start_time": "2023-02-20T08:28:31.109Z"
   },
   {
    "duration": 1428,
    "start_time": "2023-02-20T08:28:53.080Z"
   },
   {
    "duration": 814,
    "start_time": "2023-02-20T08:29:39.558Z"
   },
   {
    "duration": 18276,
    "start_time": "2023-02-20T08:29:40.375Z"
   },
   {
    "duration": 12674,
    "start_time": "2023-02-20T08:29:58.653Z"
   },
   {
    "duration": 6100,
    "start_time": "2023-02-20T08:30:11.332Z"
   },
   {
    "duration": 517,
    "start_time": "2023-02-20T08:30:17.435Z"
   },
   {
    "duration": 6217,
    "start_time": "2023-02-20T08:30:17.954Z"
   },
   {
    "duration": 55,
    "start_time": "2023-02-20T08:30:24.173Z"
   },
   {
    "duration": 4,
    "start_time": "2023-02-20T08:30:24.231Z"
   },
   {
    "duration": 3705,
    "start_time": "2023-02-20T08:30:24.237Z"
   },
   {
    "duration": 2294,
    "start_time": "2023-02-20T08:30:27.945Z"
   },
   {
    "duration": 390,
    "start_time": "2023-02-20T08:30:30.241Z"
   },
   {
    "duration": 2219,
    "start_time": "2023-02-20T08:30:30.633Z"
   },
   {
    "duration": 70,
    "start_time": "2023-02-20T08:30:32.855Z"
   },
   {
    "duration": 201,
    "start_time": "2023-02-20T08:30:32.927Z"
   },
   {
    "duration": 691,
    "start_time": "2023-02-20T08:30:33.131Z"
   },
   {
    "duration": 1098,
    "start_time": "2023-02-20T08:30:33.825Z"
   },
   {
    "duration": 199,
    "start_time": "2023-02-20T08:30:34.927Z"
   },
   {
    "duration": 120,
    "start_time": "2023-02-20T08:30:35.128Z"
   },
   {
    "duration": 1886,
    "start_time": "2023-02-20T08:30:35.251Z"
   },
   {
    "duration": 894,
    "start_time": "2023-02-20T08:30:37.140Z"
   },
   {
    "duration": 4191,
    "start_time": "2023-02-20T08:30:38.036Z"
   },
   {
    "duration": 892,
    "start_time": "2023-02-20T08:30:42.230Z"
   },
   {
    "duration": 2335,
    "start_time": "2023-02-20T08:30:43.125Z"
   },
   {
    "duration": 2679,
    "start_time": "2023-02-20T08:30:45.463Z"
   },
   {
    "duration": 889,
    "start_time": "2023-02-20T08:30:48.145Z"
   },
   {
    "duration": 1799,
    "start_time": "2023-02-20T08:30:49.036Z"
   },
   {
    "duration": 701,
    "start_time": "2023-02-20T08:30:50.837Z"
   },
   {
    "duration": 745,
    "start_time": "2023-02-21T06:20:48.939Z"
   },
   {
    "duration": 14987,
    "start_time": "2023-02-21T06:20:49.686Z"
   },
   {
    "duration": 8765,
    "start_time": "2023-02-21T06:21:04.676Z"
   },
   {
    "duration": 4761,
    "start_time": "2023-02-21T06:21:13.444Z"
   },
   {
    "duration": 425,
    "start_time": "2023-02-21T06:21:18.239Z"
   },
   {
    "duration": 4686,
    "start_time": "2023-02-21T06:21:18.666Z"
   },
   {
    "duration": 4,
    "start_time": "2023-02-21T06:21:23.353Z"
   },
   {
    "duration": 52,
    "start_time": "2023-02-21T06:21:23.359Z"
   },
   {
    "duration": 2655,
    "start_time": "2023-02-21T06:21:23.412Z"
   },
   {
    "duration": 1689,
    "start_time": "2023-02-21T06:21:26.069Z"
   },
   {
    "duration": 284,
    "start_time": "2023-02-21T06:21:27.760Z"
   },
   {
    "duration": 1794,
    "start_time": "2023-02-21T06:21:28.046Z"
   },
   {
    "duration": 8,
    "start_time": "2023-02-21T06:21:29.842Z"
   },
   {
    "duration": 192,
    "start_time": "2023-02-21T06:21:29.852Z"
   },
   {
    "duration": 312,
    "start_time": "2023-02-21T06:21:30.047Z"
   },
   {
    "duration": 604,
    "start_time": "2023-02-21T06:21:30.361Z"
   },
   {
    "duration": 170,
    "start_time": "2023-02-21T06:21:30.967Z"
   },
   {
    "duration": 121,
    "start_time": "2023-02-21T06:21:31.139Z"
   },
   {
    "duration": 1403,
    "start_time": "2023-02-21T06:21:31.262Z"
   },
   {
    "duration": 778,
    "start_time": "2023-02-21T06:21:32.669Z"
   },
   {
    "duration": 3112,
    "start_time": "2023-02-21T06:21:33.449Z"
   },
   {
    "duration": 687,
    "start_time": "2023-02-21T06:21:36.562Z"
   },
   {
    "duration": 1721,
    "start_time": "2023-02-21T06:21:37.251Z"
   },
   {
    "duration": 1793,
    "start_time": "2023-02-21T06:21:38.974Z"
   },
   {
    "duration": 491,
    "start_time": "2023-02-21T06:21:40.769Z"
   },
   {
    "duration": 1322,
    "start_time": "2023-02-21T06:21:41.262Z"
   },
   {
    "duration": 483,
    "start_time": "2023-02-21T06:21:42.586Z"
   }
  ],
  "colab": {
   "name": "PySparkSprint.ipynb",
   "provenance": []
  },
  "kernelspec": {
   "display_name": "Python 3 (ipykernel)",
   "language": "python",
   "name": "python3"
  },
  "language_info": {
   "codemirror_mode": {
    "name": "ipython",
    "version": 3
   },
   "file_extension": ".py",
   "mimetype": "text/x-python",
   "name": "python",
   "nbconvert_exporter": "python",
   "pygments_lexer": "ipython3",
   "version": "3.9.13"
  },
  "toc": {
   "base_numbering": 1,
   "nav_menu": {},
   "number_sections": true,
   "sideBar": true,
   "skip_h1_title": true,
   "title_cell": "Table of Contents",
   "title_sidebar": "Contents",
   "toc_cell": false,
   "toc_position": {},
   "toc_section_display": true,
   "toc_window_display": false
  }
 },
 "nbformat": 4,
 "nbformat_minor": 5
}
