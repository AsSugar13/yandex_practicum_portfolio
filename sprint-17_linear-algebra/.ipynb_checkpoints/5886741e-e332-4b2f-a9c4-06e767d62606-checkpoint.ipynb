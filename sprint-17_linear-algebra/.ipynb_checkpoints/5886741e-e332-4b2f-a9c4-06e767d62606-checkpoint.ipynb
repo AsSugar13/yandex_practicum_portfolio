{
 "cells": [
  {
   "cell_type": "markdown",
   "metadata": {},
   "source": [
    "# Защита персональных данных клиентов"
   ]
  },
  {
   "cell_type": "markdown",
   "metadata": {},
   "source": [
    "Вам нужно защитить данные клиентов страховой компании «Хоть потоп». Разработайте такой метод преобразования данных, чтобы по ним было сложно восстановить персональную информацию. Обоснуйте корректность его работы.\n",
    "\n",
    "Нужно защитить данные, чтобы при преобразовании качество моделей машинного обучения не ухудшилось. Подбирать наилучшую модель не требуется."
   ]
  },
  {
   "cell_type": "markdown",
   "metadata": {},
   "source": [
    "## Загрузка данных"
   ]
  },
  {
   "cell_type": "code",
   "execution_count": 1,
   "metadata": {},
   "outputs": [],
   "source": [
    "import numpy as np\n",
    "import pandas as pd\n",
    "\n",
    "from sklearn.model_selection import train_test_split\n",
    "from sklearn.preprocessing import StandardScaler\n",
    "from sklearn.linear_model import LinearRegression\n",
    "from sklearn.metrics import r2_score\n",
    "import matplotlib.pyplot as plt\n",
    "\n",
    "import warnings\n",
    "warnings.filterwarnings(\"ignore\")\n",
    "\n",
    "PATH = './'"
   ]
  },
  {
   "cell_type": "code",
   "execution_count": 2,
   "metadata": {},
   "outputs": [],
   "source": [
    "df = pd.read_csv(PATH+'insurance.csv')"
   ]
  },
  {
   "cell_type": "code",
   "execution_count": 3,
   "metadata": {},
   "outputs": [
    {
     "data": {
      "text/html": [
       "<div>\n",
       "<style scoped>\n",
       "    .dataframe tbody tr th:only-of-type {\n",
       "        vertical-align: middle;\n",
       "    }\n",
       "\n",
       "    .dataframe tbody tr th {\n",
       "        vertical-align: top;\n",
       "    }\n",
       "\n",
       "    .dataframe thead th {\n",
       "        text-align: right;\n",
       "    }\n",
       "</style>\n",
       "<table border=\"1\" class=\"dataframe\">\n",
       "  <thead>\n",
       "    <tr style=\"text-align: right;\">\n",
       "      <th></th>\n",
       "      <th>Пол</th>\n",
       "      <th>Возраст</th>\n",
       "      <th>Зарплата</th>\n",
       "      <th>Члены семьи</th>\n",
       "      <th>Страховые выплаты</th>\n",
       "    </tr>\n",
       "  </thead>\n",
       "  <tbody>\n",
       "    <tr>\n",
       "      <th>0</th>\n",
       "      <td>1</td>\n",
       "      <td>41.0</td>\n",
       "      <td>49600.0</td>\n",
       "      <td>1</td>\n",
       "      <td>0</td>\n",
       "    </tr>\n",
       "    <tr>\n",
       "      <th>1</th>\n",
       "      <td>0</td>\n",
       "      <td>46.0</td>\n",
       "      <td>38000.0</td>\n",
       "      <td>1</td>\n",
       "      <td>1</td>\n",
       "    </tr>\n",
       "    <tr>\n",
       "      <th>2</th>\n",
       "      <td>0</td>\n",
       "      <td>29.0</td>\n",
       "      <td>21000.0</td>\n",
       "      <td>0</td>\n",
       "      <td>0</td>\n",
       "    </tr>\n",
       "    <tr>\n",
       "      <th>3</th>\n",
       "      <td>0</td>\n",
       "      <td>21.0</td>\n",
       "      <td>41700.0</td>\n",
       "      <td>2</td>\n",
       "      <td>0</td>\n",
       "    </tr>\n",
       "    <tr>\n",
       "      <th>4</th>\n",
       "      <td>1</td>\n",
       "      <td>28.0</td>\n",
       "      <td>26100.0</td>\n",
       "      <td>0</td>\n",
       "      <td>0</td>\n",
       "    </tr>\n",
       "  </tbody>\n",
       "</table>\n",
       "</div>"
      ],
      "text/plain": [
       "   Пол  Возраст  Зарплата  Члены семьи  Страховые выплаты\n",
       "0    1     41.0   49600.0            1                  0\n",
       "1    0     46.0   38000.0            1                  1\n",
       "2    0     29.0   21000.0            0                  0\n",
       "3    0     21.0   41700.0            2                  0\n",
       "4    1     28.0   26100.0            0                  0"
      ]
     },
     "execution_count": 3,
     "metadata": {},
     "output_type": "execute_result"
    }
   ],
   "source": [
    "df.head()"
   ]
  },
  {
   "cell_type": "code",
   "execution_count": 4,
   "metadata": {},
   "outputs": [
    {
     "data": {
      "text/html": [
       "<div>\n",
       "<style scoped>\n",
       "    .dataframe tbody tr th:only-of-type {\n",
       "        vertical-align: middle;\n",
       "    }\n",
       "\n",
       "    .dataframe tbody tr th {\n",
       "        vertical-align: top;\n",
       "    }\n",
       "\n",
       "    .dataframe thead th {\n",
       "        text-align: right;\n",
       "    }\n",
       "</style>\n",
       "<table border=\"1\" class=\"dataframe\">\n",
       "  <thead>\n",
       "    <tr style=\"text-align: right;\">\n",
       "      <th></th>\n",
       "      <th>Пол</th>\n",
       "      <th>Возраст</th>\n",
       "      <th>Зарплата</th>\n",
       "      <th>Члены семьи</th>\n",
       "      <th>Страховые выплаты</th>\n",
       "    </tr>\n",
       "  </thead>\n",
       "  <tbody>\n",
       "    <tr>\n",
       "      <th>count</th>\n",
       "      <td>5000.000000</td>\n",
       "      <td>5000.000000</td>\n",
       "      <td>5000.000000</td>\n",
       "      <td>5000.000000</td>\n",
       "      <td>5000.000000</td>\n",
       "    </tr>\n",
       "    <tr>\n",
       "      <th>mean</th>\n",
       "      <td>0.499000</td>\n",
       "      <td>30.952800</td>\n",
       "      <td>39916.360000</td>\n",
       "      <td>1.194200</td>\n",
       "      <td>0.148000</td>\n",
       "    </tr>\n",
       "    <tr>\n",
       "      <th>std</th>\n",
       "      <td>0.500049</td>\n",
       "      <td>8.440807</td>\n",
       "      <td>9900.083569</td>\n",
       "      <td>1.091387</td>\n",
       "      <td>0.463183</td>\n",
       "    </tr>\n",
       "    <tr>\n",
       "      <th>min</th>\n",
       "      <td>0.000000</td>\n",
       "      <td>18.000000</td>\n",
       "      <td>5300.000000</td>\n",
       "      <td>0.000000</td>\n",
       "      <td>0.000000</td>\n",
       "    </tr>\n",
       "    <tr>\n",
       "      <th>25%</th>\n",
       "      <td>0.000000</td>\n",
       "      <td>24.000000</td>\n",
       "      <td>33300.000000</td>\n",
       "      <td>0.000000</td>\n",
       "      <td>0.000000</td>\n",
       "    </tr>\n",
       "    <tr>\n",
       "      <th>50%</th>\n",
       "      <td>0.000000</td>\n",
       "      <td>30.000000</td>\n",
       "      <td>40200.000000</td>\n",
       "      <td>1.000000</td>\n",
       "      <td>0.000000</td>\n",
       "    </tr>\n",
       "    <tr>\n",
       "      <th>75%</th>\n",
       "      <td>1.000000</td>\n",
       "      <td>37.000000</td>\n",
       "      <td>46600.000000</td>\n",
       "      <td>2.000000</td>\n",
       "      <td>0.000000</td>\n",
       "    </tr>\n",
       "    <tr>\n",
       "      <th>max</th>\n",
       "      <td>1.000000</td>\n",
       "      <td>65.000000</td>\n",
       "      <td>79000.000000</td>\n",
       "      <td>6.000000</td>\n",
       "      <td>5.000000</td>\n",
       "    </tr>\n",
       "  </tbody>\n",
       "</table>\n",
       "</div>"
      ],
      "text/plain": [
       "               Пол      Возраст      Зарплата  Члены семьи  Страховые выплаты\n",
       "count  5000.000000  5000.000000   5000.000000  5000.000000        5000.000000\n",
       "mean      0.499000    30.952800  39916.360000     1.194200           0.148000\n",
       "std       0.500049     8.440807   9900.083569     1.091387           0.463183\n",
       "min       0.000000    18.000000   5300.000000     0.000000           0.000000\n",
       "25%       0.000000    24.000000  33300.000000     0.000000           0.000000\n",
       "50%       0.000000    30.000000  40200.000000     1.000000           0.000000\n",
       "75%       1.000000    37.000000  46600.000000     2.000000           0.000000\n",
       "max       1.000000    65.000000  79000.000000     6.000000           5.000000"
      ]
     },
     "metadata": {},
     "output_type": "display_data"
    },
    {
     "name": "stdout",
     "output_type": "stream",
     "text": [
      "<class 'pandas.core.frame.DataFrame'>\n",
      "RangeIndex: 5000 entries, 0 to 4999\n",
      "Data columns (total 5 columns):\n",
      " #   Column             Non-Null Count  Dtype  \n",
      "---  ------             --------------  -----  \n",
      " 0   Пол                5000 non-null   int64  \n",
      " 1   Возраст            5000 non-null   float64\n",
      " 2   Зарплата           5000 non-null   float64\n",
      " 3   Члены семьи        5000 non-null   int64  \n",
      " 4   Страховые выплаты  5000 non-null   int64  \n",
      "dtypes: float64(2), int64(3)\n",
      "memory usage: 195.4 KB\n"
     ]
    },
    {
     "data": {
      "text/plain": [
       "None"
      ]
     },
     "metadata": {},
     "output_type": "display_data"
    }
   ],
   "source": [
    "display(df.describe())\n",
    "display(df.info())"
   ]
  },
  {
   "cell_type": "code",
   "execution_count": 5,
   "metadata": {},
   "outputs": [
    {
     "data": {
      "text/plain": [
       "Пол                  0\n",
       "Возраст              0\n",
       "Зарплата             0\n",
       "Члены семьи          0\n",
       "Страховые выплаты    0\n",
       "dtype: int64"
      ]
     },
     "execution_count": 5,
     "metadata": {},
     "output_type": "execute_result"
    }
   ],
   "source": [
    "df.isna().sum()"
   ]
  },
  {
   "cell_type": "code",
   "execution_count": 6,
   "metadata": {},
   "outputs": [
    {
     "name": "stdout",
     "output_type": "stream",
     "text": [
      "153\n",
      "<class 'pandas.core.frame.DataFrame'>\n",
      "Int64Index: 4847 entries, 0 to 4999\n",
      "Data columns (total 5 columns):\n",
      " #   Column             Non-Null Count  Dtype  \n",
      "---  ------             --------------  -----  \n",
      " 0   Пол                4847 non-null   int64  \n",
      " 1   Возраст            4847 non-null   float64\n",
      " 2   Зарплата           4847 non-null   float64\n",
      " 3   Члены семьи        4847 non-null   int64  \n",
      " 4   Страховые выплаты  4847 non-null   int64  \n",
      "dtypes: float64(2), int64(3)\n",
      "memory usage: 227.2 KB\n",
      "None\n"
     ]
    }
   ],
   "source": [
    "print(df.duplicated().sum())\n",
    "df.drop_duplicates(inplace=True)\n",
    "print(df.info())"
   ]
  },
  {
   "cell_type": "code",
   "execution_count": 7,
   "metadata": {},
   "outputs": [
    {
     "data": {
      "image/png": "[encoded data removed]",
      "text/plain": [
       "<Figure size 640x480 with 1 Axes>"
      ]
     },
     "metadata": {},
     "output_type": "display_data"
    },
    {
     "data": {
      "image/png": "[encoded data removed]",
      "text/plain": [
       "<Figure size 640x480 with 1 Axes>"
      ]
     },
     "metadata": {},
     "output_type": "display_data"
    },
    {
     "data": {
      "image/png": "[encoded data removed]",
      "text/plain": [
       "<Figure size 640x480 with 1 Axes>"
      ]
     },
     "metadata": {},
     "output_type": "display_data"
    },
    {
     "data": {
      "image/png": "[encoded data removed]",
      "text/plain": [
       "<Figure size 640x480 with 1 Axes>"
      ]
     },
     "metadata": {},
     "output_type": "display_data"
    }
   ],
   "source": [
    "df['Пол'] = df['Пол'].astype('bool')\n",
    "for i in df.select_dtypes(exclude=['bool']):\n",
    "    df[i].plot(kind='hist', title=i)\n",
    "    plt.show()"
   ]
  },
  {
   "cell_type": "markdown",
   "metadata": {},
   "source": [
    "Мы, очевидно, имеем дело с несбалансированной по целевому признаку выборкой (что выглядит вполне логично учитывая специфику страхования). Между тем в данных нет сверханомальных выбросов и пропущенных значений."
   ]
  },
  {
   "cell_type": "markdown",
   "metadata": {},
   "source": [
    "## Умножение матриц"
   ]
  },
  {
   "cell_type": "markdown",
   "metadata": {},
   "source": [
    "Обозначения:\n",
    "\n",
    "- $X$ — матрица признаков (нулевой столбец состоит из единиц)\n",
    "\n",
    "- $y$ — вектор целевого признака\n",
    "\n",
    "- $P$ — матрица, на которую умножаются признаки\n",
    "\n",
    "- $w$ — вектор весов линейной регрессии (нулевой элемент равен сдвигу)"
   ]
  },
  {
   "cell_type": "markdown",
   "metadata": {},
   "source": [
    "Предсказания:\n",
    "\n",
    "$$\n",
    "a = Xw\n",
    "$$\n",
    "\n",
    "Задача обучения:\n",
    "\n",
    "$$\n",
    "w = \\arg\\min_w MSE(Xw, y)\n",
    "$$\n",
    "\n",
    "Формула обучения:\n",
    "\n",
    "$$\n",
    "w = (X^T X)^{-1} X^T y\n",
    "$$"
   ]
  },
  {
   "cell_type": "markdown",
   "metadata": {},
   "source": [
    "**Ответ:** не изменится\n",
    "\n",
    "**Обоснование:** подставим $w$ в общую задачу, получим\n",
    "$$\n",
    "a = X(X^{T}X)^{-1}X^{T}y\n",
    "$$\n",
    "\n",
    "Проведем аналогичные преобразования после умножения матрицы признаков на обратимую матрицу P\n",
    "\n",
    "$$\n",
    "a' = (XP)w'\n",
    "$$\n",
    "\n",
    "$$\n",
    "w' = ((XP)^T XP)^{-1} (XP)^T y\n",
    "$$\n",
    "\n",
    "проведем аналогичную подстановку и упрощение\n",
    "$$\n",
    "a' = XP((XP)^T XP)^{-1} (XP)^T y\n",
    "$$\n",
    "\n",
    "$$\n",
    "a' = XP(P^{T}X^{T}XP)^{-1} (XP)^T y\n",
    "$$\n",
    "\n",
    "$$\n",
    "a' = XP P^{-1} (X^{T}X)^{-1} (P^{T})^{-1} P^{T} X^{T} y\n",
    "$$\n",
    "\n",
    "$$\n",
    "a' = X(X^{T}X)^{-1}X^{T}y\n",
    "$$\n",
    "\n",
    "$$\n",
    "a = a'\n",
    "$$\n",
    "что и требовалось доказать"
   ]
  },
  {
   "cell_type": "markdown",
   "metadata": {},
   "source": [
    "## Алгоритм преобразования"
   ]
  },
  {
   "cell_type": "markdown",
   "metadata": {},
   "source": [
    "**Алгоритм**\n",
    "\n",
    "* cгенерировать случайную матрицу размера $nxn$, где $n$ - количество независимых переменных;\n",
    "* проверить сгенерированную матрицу на обратимость;\n",
    "* преобразовать существующие данные с помощью указанной матрицы преобразования;\n",
    "* построить модель с помощью указанных закодированных данных;\n",
    "* построить сравнительную модель с помощью первоначальных незакодированных данных;\n",
    "* сравнить результативность полученных моделей на основании заранее определенной метрики (r2)"
   ]
  },
  {
   "cell_type": "markdown",
   "metadata": {},
   "source": [
    "**Обоснование**\n",
    "\n",
    "Полагаю единственной особенностью, необходимой в обосновании является размер матрицы преобразования. Если мы имеем матрицу параметров размера $mxn$, тогда для осуществления операции умножения на другую матрицу, очевидно, что наша матрица преобразования должна иметь $n$ строк. При этом мы стремимся \"не потерять информацию\" и, как следствие, быть уверенными, что изменения обратимы. Всем этим условим будет удовлетворять квадратная обратимая матрица преобразования размера $nxn$."
   ]
  },
  {
   "cell_type": "markdown",
   "metadata": {},
   "source": [
    "## Проверка алгоритма"
   ]
  },
  {
   "cell_type": "code",
   "execution_count": 8,
   "metadata": {},
   "outputs": [],
   "source": [
    "X = df.drop('Страховые выплаты', axis=1)\n",
    "y = df['Страховые выплаты']"
   ]
  },
  {
   "cell_type": "code",
   "execution_count": 9,
   "metadata": {},
   "outputs": [
    {
     "data": {
      "text/html": [
       "<div>\n",
       "<style scoped>\n",
       "    .dataframe tbody tr th:only-of-type {\n",
       "        vertical-align: middle;\n",
       "    }\n",
       "\n",
       "    .dataframe tbody tr th {\n",
       "        vertical-align: top;\n",
       "    }\n",
       "\n",
       "    .dataframe thead th {\n",
       "        text-align: right;\n",
       "    }\n",
       "</style>\n",
       "<table border=\"1\" class=\"dataframe\">\n",
       "  <thead>\n",
       "    <tr style=\"text-align: right;\">\n",
       "      <th></th>\n",
       "      <th>Пол</th>\n",
       "      <th>Возраст</th>\n",
       "      <th>Зарплата</th>\n",
       "      <th>Члены семьи</th>\n",
       "    </tr>\n",
       "  </thead>\n",
       "  <tbody>\n",
       "    <tr>\n",
       "      <th>0</th>\n",
       "      <td>True</td>\n",
       "      <td>41.0</td>\n",
       "      <td>49600.0</td>\n",
       "      <td>1</td>\n",
       "    </tr>\n",
       "    <tr>\n",
       "      <th>1</th>\n",
       "      <td>False</td>\n",
       "      <td>46.0</td>\n",
       "      <td>38000.0</td>\n",
       "      <td>1</td>\n",
       "    </tr>\n",
       "    <tr>\n",
       "      <th>2</th>\n",
       "      <td>False</td>\n",
       "      <td>29.0</td>\n",
       "      <td>21000.0</td>\n",
       "      <td>0</td>\n",
       "    </tr>\n",
       "    <tr>\n",
       "      <th>3</th>\n",
       "      <td>False</td>\n",
       "      <td>21.0</td>\n",
       "      <td>41700.0</td>\n",
       "      <td>2</td>\n",
       "    </tr>\n",
       "    <tr>\n",
       "      <th>4</th>\n",
       "      <td>True</td>\n",
       "      <td>28.0</td>\n",
       "      <td>26100.0</td>\n",
       "      <td>0</td>\n",
       "    </tr>\n",
       "  </tbody>\n",
       "</table>\n",
       "</div>"
      ],
      "text/plain": [
       "     Пол  Возраст  Зарплата  Члены семьи\n",
       "0   True     41.0   49600.0            1\n",
       "1  False     46.0   38000.0            1\n",
       "2  False     29.0   21000.0            0\n",
       "3  False     21.0   41700.0            2\n",
       "4   True     28.0   26100.0            0"
      ]
     },
     "execution_count": 9,
     "metadata": {},
     "output_type": "execute_result"
    }
   ],
   "source": [
    "train = df.drop('Страховые выплаты', axis=1)\n",
    "train.head()"
   ]
  },
  {
   "cell_type": "code",
   "execution_count": 10,
   "metadata": {},
   "outputs": [
    {
     "name": "stdout",
     "output_type": "stream",
     "text": [
      "[[0.62149973 0.74182135 0.93400001 0.85596085]\n",
      " [0.86483856 0.12141584 0.89357285 0.70905108]\n",
      " [0.35385548 0.20234318 0.6534855  0.02664423]\n",
      " [0.80901271 0.16897985 0.92362171 0.5444532 ]]\n",
      "[[ 1.34662823e-03 -3.45376381e+01 -1.75591325e+01  4.58361643e+01]\n",
      " [ 1.55977058e+00 -2.06074821e+01 -9.14920771e+00  2.48330405e+01]\n",
      " [-4.98340947e-01  2.44183274e+01  1.36347613e+01 -3.16842085e+01]\n",
      " [ 3.59294943e-01  1.62921994e+01  5.80074022e+00 -2.02296547e+01]]\n"
     ]
    }
   ],
   "source": [
    "encode_matrix = np.random.random(size=(train.shape[1], train.shape[1]))\n",
    "print(encode_matrix)\n",
    "inverce_matrix = np.linalg.inv(encode_matrix) # проверка существования обратной матрицы\n",
    "print(inverce_matrix)"
   ]
  },
  {
   "cell_type": "code",
   "execution_count": 11,
   "metadata": {},
   "outputs": [
    {
     "data": {
      "text/html": [
       "<div>\n",
       "<style scoped>\n",
       "    .dataframe tbody tr th:only-of-type {\n",
       "        vertical-align: middle;\n",
       "    }\n",
       "\n",
       "    .dataframe tbody tr th {\n",
       "        vertical-align: top;\n",
       "    }\n",
       "\n",
       "    .dataframe thead th {\n",
       "        text-align: right;\n",
       "    }\n",
       "</style>\n",
       "<table border=\"1\" class=\"dataframe\">\n",
       "  <thead>\n",
       "    <tr style=\"text-align: right;\">\n",
       "      <th></th>\n",
       "      <th>0</th>\n",
       "      <th>1</th>\n",
       "      <th>2</th>\n",
       "      <th>3</th>\n",
       "    </tr>\n",
       "  </thead>\n",
       "  <tbody>\n",
       "    <tr>\n",
       "      <th>0</th>\n",
       "      <td>1.0</td>\n",
       "      <td>41.0</td>\n",
       "      <td>49600.0</td>\n",
       "      <td>1.0</td>\n",
       "    </tr>\n",
       "    <tr>\n",
       "      <th>1</th>\n",
       "      <td>-0.0</td>\n",
       "      <td>46.0</td>\n",
       "      <td>38000.0</td>\n",
       "      <td>1.0</td>\n",
       "    </tr>\n",
       "    <tr>\n",
       "      <th>2</th>\n",
       "      <td>0.0</td>\n",
       "      <td>29.0</td>\n",
       "      <td>21000.0</td>\n",
       "      <td>0.0</td>\n",
       "    </tr>\n",
       "    <tr>\n",
       "      <th>3</th>\n",
       "      <td>0.0</td>\n",
       "      <td>21.0</td>\n",
       "      <td>41700.0</td>\n",
       "      <td>2.0</td>\n",
       "    </tr>\n",
       "    <tr>\n",
       "      <th>4</th>\n",
       "      <td>1.0</td>\n",
       "      <td>28.0</td>\n",
       "      <td>26100.0</td>\n",
       "      <td>0.0</td>\n",
       "    </tr>\n",
       "  </tbody>\n",
       "</table>\n",
       "</div>"
      ],
      "text/plain": [
       "     0     1        2    3\n",
       "0  1.0  41.0  49600.0  1.0\n",
       "1 -0.0  46.0  38000.0  1.0\n",
       "2  0.0  29.0  21000.0  0.0\n",
       "3  0.0  21.0  41700.0  2.0\n",
       "4  1.0  28.0  26100.0  0.0"
      ]
     },
     "execution_count": 11,
     "metadata": {},
     "output_type": "execute_result"
    }
   ],
   "source": [
    "# получим ли мы первоначальную матрицу\n",
    "(train @ encode_matrix @ inverce_matrix).round().head()"
   ]
  },
  {
   "cell_type": "code",
   "execution_count": 12,
   "metadata": {},
   "outputs": [],
   "source": [
    "nums = ['Возраст', 'Зарплата', 'Члены семьи']\n",
    "bools = ['Пол']\n",
    "columns = list(df.columns[:-1])\n",
    "X_train, X_test, y_train, y_test = train_test_split(X, y, test_size=0.2, random_state=42)"
   ]
  },
  {
   "cell_type": "markdown",
   "metadata": {},
   "source": [
    "### незакодированные признаки"
   ]
  },
  {
   "cell_type": "code",
   "execution_count": 13,
   "metadata": {},
   "outputs": [
    {
     "name": "stdout",
     "output_type": "stream",
     "text": [
      "0.43926641677497846\n"
     ]
    }
   ],
   "source": [
    "scaler = StandardScaler()\n",
    "X_train[nums] = scaler.fit_transform(X_train[nums])\n",
    "X_test[nums] = scaler.transform(X_test[nums])\n",
    "\n",
    "model = LinearRegression(n_jobs=-1)\n",
    "model.fit(X_train, y_train)\n",
    "\n",
    "print(r2_score(y_test, model.predict(X_test)))"
   ]
  },
  {
   "cell_type": "markdown",
   "metadata": {},
   "source": [
    "### закодированные признаки"
   ]
  },
  {
   "cell_type": "code",
   "execution_count": 14,
   "metadata": {},
   "outputs": [],
   "source": [
    "# кодировка признаков\n",
    "X_train_encoded = X_train @ encode_matrix\n",
    "X_train_encoded.columns = columns\n",
    "\n",
    "X_test_encoded = X_test @ encode_matrix\n",
    "X_test_encoded.columns = columns"
   ]
  },
  {
   "cell_type": "code",
   "execution_count": 15,
   "metadata": {},
   "outputs": [
    {
     "name": "stdout",
     "output_type": "stream",
     "text": [
      "0.43926641677497813\n"
     ]
    }
   ],
   "source": [
    "scaler = StandardScaler()\n",
    "X_train_encoded[nums] = scaler.fit_transform(X_train_encoded[nums])\n",
    "X_test_encoded[nums] = scaler.transform(X_test_encoded[nums])\n",
    "\n",
    "model = LinearRegression(n_jobs=-1)\n",
    "model.fit(X_train_encoded, y_train)\n",
    "\n",
    "print(r2_score(y_test, model.predict(X_test_encoded)))"
   ]
  },
  {
   "cell_type": "markdown",
   "metadata": {},
   "source": [
    "Метрика качества на закодированных и незакодированных данных идентичны. Даже скейлер не сумел этому помешать."
   ]
  },
  {
   "cell_type": "markdown",
   "metadata": {},
   "source": [
    "## Вывод"
   ]
  },
  {
   "cell_type": "markdown",
   "metadata": {},
   "source": [
    "в данном проекте была рассмотрена методика обратимого линейного преобразования исходных данных. По результатам эмпирической проверки эффективности предсказаний (по метрике $R^2$) модели ,построенной по преобразованным данным, и модели, построенной по первоначальным данным - модели выдают идентичные прогнозы."
   ]
  }
 ],
 "metadata": {
  "ExecuteTimeLog": [
   {
    "duration": 441,
    "start_time": "2023-03-03T07:55:17.452Z"
   },
   {
    "duration": 120,
    "start_time": "2023-03-03T07:55:33.926Z"
   },
   {
    "duration": 15,
    "start_time": "2023-03-03T07:55:55.417Z"
   },
   {
    "duration": 30,
    "start_time": "2023-03-03T07:57:13.896Z"
   },
   {
    "duration": 62,
    "start_time": "2023-03-03T08:06:55.974Z"
   },
   {
    "duration": 6,
    "start_time": "2023-03-03T08:07:01.291Z"
   },
   {
    "duration": 5,
    "start_time": "2023-03-03T08:07:20.470Z"
   },
   {
    "duration": 8,
    "start_time": "2023-03-03T08:07:26.170Z"
   },
   {
    "duration": 17,
    "start_time": "2023-03-03T08:07:35.404Z"
   },
   {
    "duration": 6,
    "start_time": "2023-03-03T08:07:47.935Z"
   },
   {
    "duration": 7,
    "start_time": "2023-03-03T08:39:54.476Z"
   },
   {
    "duration": 2,
    "start_time": "2023-03-03T08:39:59.986Z"
   },
   {
    "duration": 5,
    "start_time": "2023-03-03T08:40:06.785Z"
   },
   {
    "duration": 5,
    "start_time": "2023-03-03T08:40:13.686Z"
   },
   {
    "duration": 397,
    "start_time": "2023-03-03T08:41:16.126Z"
   },
   {
    "duration": 5,
    "start_time": "2023-03-03T08:43:45.001Z"
   },
   {
    "duration": 9,
    "start_time": "2023-03-03T08:44:33.750Z"
   },
   {
    "duration": 5,
    "start_time": "2023-03-03T08:44:37.690Z"
   },
   {
    "duration": 6,
    "start_time": "2023-03-03T08:44:45.863Z"
   },
   {
    "duration": 6,
    "start_time": "2023-03-03T08:44:49.251Z"
   },
   {
    "duration": 6,
    "start_time": "2023-03-03T08:45:21.757Z"
   },
   {
    "duration": 5,
    "start_time": "2023-03-03T08:45:25.889Z"
   },
   {
    "duration": 7,
    "start_time": "2023-03-03T08:45:33.063Z"
   },
   {
    "duration": 6,
    "start_time": "2023-03-03T08:45:34.229Z"
   },
   {
    "duration": 13,
    "start_time": "2023-03-03T08:47:15.702Z"
   },
   {
    "duration": 63,
    "start_time": "2023-03-03T08:48:23.470Z"
   },
   {
    "duration": 57,
    "start_time": "2023-03-03T08:48:25.717Z"
   },
   {
    "duration": 55,
    "start_time": "2023-03-03T08:48:26.718Z"
   },
   {
    "duration": 62,
    "start_time": "2023-03-03T08:48:27.541Z"
   },
   {
    "duration": 48,
    "start_time": "2023-03-03T08:48:28.421Z"
   },
   {
    "duration": 91,
    "start_time": "2023-03-03T08:48:29.251Z"
   },
   {
    "duration": 55,
    "start_time": "2023-03-03T08:48:30.215Z"
   },
   {
    "duration": 58,
    "start_time": "2023-03-03T08:48:47.799Z"
   },
   {
    "duration": 56,
    "start_time": "2023-03-03T08:48:50.289Z"
   },
   {
    "duration": 56,
    "start_time": "2023-03-03T08:48:53.110Z"
   },
   {
    "duration": 54,
    "start_time": "2023-03-03T08:48:54.294Z"
   },
   {
    "duration": 63,
    "start_time": "2023-03-03T08:49:17.064Z"
   },
   {
    "duration": 0,
    "start_time": "2023-03-03T08:51:11.056Z"
   },
   {
    "duration": 6,
    "start_time": "2023-03-03T08:51:37.864Z"
   },
   {
    "duration": 10,
    "start_time": "2023-03-03T08:51:44.380Z"
   },
   {
    "duration": 18,
    "start_time": "2023-03-03T08:51:59.331Z"
   },
   {
    "duration": 12,
    "start_time": "2023-03-03T08:53:04.471Z"
   },
   {
    "duration": 20,
    "start_time": "2023-03-03T09:30:14.209Z"
   },
   {
    "duration": 7,
    "start_time": "2023-03-03T09:33:31.957Z"
   },
   {
    "duration": 12,
    "start_time": "2023-03-03T09:33:42.771Z"
   },
   {
    "duration": 4,
    "start_time": "2023-03-03T09:35:21.892Z"
   },
   {
    "duration": 58,
    "start_time": "2023-03-03T09:39:01.013Z"
   },
   {
    "duration": 6,
    "start_time": "2023-03-03T09:39:04.298Z"
   },
   {
    "duration": 14,
    "start_time": "2023-03-03T09:39:06.267Z"
   },
   {
    "duration": 5,
    "start_time": "2023-03-03T09:44:23.578Z"
   },
   {
    "duration": 5,
    "start_time": "2023-03-03T09:46:02.259Z"
   },
   {
    "duration": 14,
    "start_time": "2023-03-03T09:47:51.170Z"
   },
   {
    "duration": 13,
    "start_time": "2023-03-03T09:48:07.697Z"
   },
   {
    "duration": 12,
    "start_time": "2023-03-03T09:48:13.479Z"
   },
   {
    "duration": 12,
    "start_time": "2023-03-03T09:48:14.870Z"
   },
   {
    "duration": 15,
    "start_time": "2023-03-03T09:48:24.064Z"
   },
   {
    "duration": 7,
    "start_time": "2023-03-03T09:48:36.930Z"
   },
   {
    "duration": 7,
    "start_time": "2023-03-03T09:48:50.023Z"
   },
   {
    "duration": 6,
    "start_time": "2023-03-03T09:49:00.514Z"
   },
   {
    "duration": 31,
    "start_time": "2023-03-03T09:49:36.034Z"
   },
   {
    "duration": 17,
    "start_time": "2023-03-03T09:52:07.475Z"
   },
   {
    "duration": 3,
    "start_time": "2023-03-03T09:52:19.072Z"
   },
   {
    "duration": 33,
    "start_time": "2023-03-03T09:52:48.132Z"
   },
   {
    "duration": 6,
    "start_time": "2023-03-03T09:53:03.831Z"
   },
   {
    "duration": 39,
    "start_time": "2023-03-03T09:53:04.570Z"
   },
   {
    "duration": 3,
    "start_time": "2023-03-03T09:53:19.915Z"
   },
   {
    "duration": 7,
    "start_time": "2023-03-03T09:53:20.168Z"
   },
   {
    "duration": 29,
    "start_time": "2023-03-03T09:53:20.397Z"
   },
   {
    "duration": 6,
    "start_time": "2023-03-03T09:54:59.099Z"
   },
   {
    "duration": 5,
    "start_time": "2023-03-03T09:55:47.489Z"
   },
   {
    "duration": 14,
    "start_time": "2023-03-03T09:56:06.914Z"
   },
   {
    "duration": 14,
    "start_time": "2023-03-03T09:56:11.214Z"
   },
   {
    "duration": 4,
    "start_time": "2023-03-03T09:57:53.576Z"
   },
   {
    "duration": 7,
    "start_time": "2023-03-03T09:57:54.463Z"
   },
   {
    "duration": 15,
    "start_time": "2023-03-03T09:58:04.999Z"
   },
   {
    "duration": 5,
    "start_time": "2023-03-03T09:58:45.392Z"
   },
   {
    "duration": 25,
    "start_time": "2023-03-03T09:59:05.270Z"
   },
   {
    "duration": 5,
    "start_time": "2023-03-03T09:59:41.172Z"
   },
   {
    "duration": 40,
    "start_time": "2023-03-03T09:59:41.905Z"
   },
   {
    "duration": 6,
    "start_time": "2023-03-03T09:59:48.866Z"
   },
   {
    "duration": 23,
    "start_time": "2023-03-03T09:59:49.166Z"
   },
   {
    "duration": 6,
    "start_time": "2023-03-03T09:59:54.805Z"
   },
   {
    "duration": 30,
    "start_time": "2023-03-03T09:59:55.085Z"
   },
   {
    "duration": 6,
    "start_time": "2023-03-03T10:00:03.905Z"
   },
   {
    "duration": 28,
    "start_time": "2023-03-03T10:00:31.367Z"
   },
   {
    "duration": 31,
    "start_time": "2023-03-03T10:01:35.364Z"
   },
   {
    "duration": 6,
    "start_time": "2023-03-03T10:01:41.625Z"
   },
   {
    "duration": 34,
    "start_time": "2023-03-03T10:01:41.864Z"
   },
   {
    "duration": 2,
    "start_time": "2023-03-03T10:02:42.329Z"
   },
   {
    "duration": 266,
    "start_time": "2023-03-03T10:05:21.360Z"
   },
   {
    "duration": 32,
    "start_time": "2023-03-03T10:05:52.035Z"
   },
   {
    "duration": 235,
    "start_time": "2023-03-03T10:06:03.425Z"
   },
   {
    "duration": 4,
    "start_time": "2023-03-03T10:06:22.501Z"
   },
   {
    "duration": 3,
    "start_time": "2023-03-03T10:06:35.776Z"
   },
   {
    "duration": 4,
    "start_time": "2023-03-03T10:06:45.668Z"
   },
   {
    "duration": 219,
    "start_time": "2023-03-03T10:06:47.488Z"
   },
   {
    "duration": 4,
    "start_time": "2023-03-03T10:06:51.578Z"
   },
   {
    "duration": 4,
    "start_time": "2023-03-03T10:06:59.414Z"
   },
   {
    "duration": 17,
    "start_time": "2023-03-03T10:07:01.858Z"
   },
   {
    "duration": 10,
    "start_time": "2023-03-03T10:07:17.794Z"
   },
   {
    "duration": 20,
    "start_time": "2023-03-03T10:07:20.063Z"
   },
   {
    "duration": 18,
    "start_time": "2023-03-03T10:07:23.713Z"
   },
   {
    "duration": 11,
    "start_time": "2023-03-03T10:07:27.721Z"
   },
   {
    "duration": 4,
    "start_time": "2023-03-03T10:07:33.663Z"
   },
   {
    "duration": 5,
    "start_time": "2023-03-03T10:07:39.222Z"
   },
   {
    "duration": 22,
    "start_time": "2023-03-03T10:07:43.474Z"
   },
   {
    "duration": 33,
    "start_time": "2023-03-03T10:09:03.694Z"
   },
   {
    "duration": 23,
    "start_time": "2023-03-03T10:10:18.466Z"
   },
   {
    "duration": 9,
    "start_time": "2023-03-03T10:16:52.690Z"
   },
   {
    "duration": 6,
    "start_time": "2023-03-03T10:17:00.206Z"
   },
   {
    "duration": 10,
    "start_time": "2023-03-03T10:17:08.110Z"
   },
   {
    "duration": 5,
    "start_time": "2023-03-03T10:17:20.666Z"
   },
   {
    "duration": 9,
    "start_time": "2023-03-03T10:17:21.682Z"
   },
   {
    "duration": 5,
    "start_time": "2023-03-03T11:06:05.589Z"
   },
   {
    "duration": 7,
    "start_time": "2023-03-03T11:06:11.365Z"
   },
   {
    "duration": 6,
    "start_time": "2023-03-03T11:06:33.489Z"
   },
   {
    "duration": 29,
    "start_time": "2023-03-03T11:06:34.971Z"
   },
   {
    "duration": 4,
    "start_time": "2023-03-03T11:06:39.380Z"
   },
   {
    "duration": 22,
    "start_time": "2023-03-03T11:06:40.264Z"
   },
   {
    "duration": 1046,
    "start_time": "2023-03-04T15:07:47.976Z"
   },
   {
    "duration": 108,
    "start_time": "2023-03-04T15:07:50.222Z"
   },
   {
    "duration": 16,
    "start_time": "2023-03-04T15:07:51.540Z"
   },
   {
    "duration": 36,
    "start_time": "2023-03-04T15:07:52.922Z"
   },
   {
    "duration": 7,
    "start_time": "2023-03-04T15:07:54.195Z"
   },
   {
    "duration": 6,
    "start_time": "2023-03-04T15:07:55.305Z"
   },
   {
    "duration": 4,
    "start_time": "2023-03-04T15:08:09.665Z"
   },
   {
    "duration": 13,
    "start_time": "2023-03-04T15:08:09.957Z"
   },
   {
    "duration": 6,
    "start_time": "2023-03-04T15:08:10.874Z"
   },
   {
    "duration": 14,
    "start_time": "2023-03-04T15:08:11.474Z"
   },
   {
    "duration": 7,
    "start_time": "2023-03-04T15:08:11.826Z"
   },
   {
    "duration": 24,
    "start_time": "2023-03-04T15:08:13.274Z"
   },
   {
    "duration": 3,
    "start_time": "2023-03-04T15:08:46.226Z"
   },
   {
    "duration": 18,
    "start_time": "2023-03-04T15:08:50.058Z"
   },
   {
    "duration": 5,
    "start_time": "2023-03-04T15:08:51.987Z"
   },
   {
    "duration": 17,
    "start_time": "2023-03-04T15:08:52.268Z"
   },
   {
    "duration": 5,
    "start_time": "2023-03-04T15:08:58.459Z"
   },
   {
    "duration": 21,
    "start_time": "2023-03-04T15:08:59.869Z"
   },
   {
    "duration": 10,
    "start_time": "2023-03-04T15:09:10.018Z"
   },
   {
    "duration": 5,
    "start_time": "2023-03-04T15:09:12.722Z"
   },
   {
    "duration": 20,
    "start_time": "2023-03-04T15:09:13.553Z"
   },
   {
    "duration": 4,
    "start_time": "2023-03-04T15:09:21.398Z"
   },
   {
    "duration": 10,
    "start_time": "2023-03-04T15:09:51.408Z"
   },
   {
    "duration": 22,
    "start_time": "2023-03-04T15:09:52.025Z"
   },
   {
    "duration": 4,
    "start_time": "2023-03-04T15:09:52.522Z"
   },
   {
    "duration": 5,
    "start_time": "2023-03-04T15:10:10.174Z"
   },
   {
    "duration": 11,
    "start_time": "2023-03-04T15:10:38.709Z"
   },
   {
    "duration": 5,
    "start_time": "2023-03-04T15:11:17.874Z"
   },
   {
    "duration": 21,
    "start_time": "2023-03-04T15:11:18.139Z"
   },
   {
    "duration": 4,
    "start_time": "2023-03-04T15:11:51.537Z"
   },
   {
    "duration": 4,
    "start_time": "2023-03-04T15:12:02.577Z"
   },
   {
    "duration": 4,
    "start_time": "2023-03-04T15:12:04.235Z"
   },
   {
    "duration": 6,
    "start_time": "2023-03-04T15:12:07.624Z"
   },
   {
    "duration": 21,
    "start_time": "2023-03-04T15:12:08.835Z"
   },
   {
    "duration": 4,
    "start_time": "2023-03-04T15:12:15.627Z"
   },
   {
    "duration": 4,
    "start_time": "2023-03-04T15:12:23.959Z"
   },
   {
    "duration": 4,
    "start_time": "2023-03-04T15:12:29.566Z"
   },
   {
    "duration": 5,
    "start_time": "2023-03-04T15:12:31.139Z"
   },
   {
    "duration": 25,
    "start_time": "2023-03-04T15:12:31.397Z"
   },
   {
    "duration": 3,
    "start_time": "2023-03-04T15:12:32.733Z"
   },
   {
    "duration": 4,
    "start_time": "2023-03-04T15:20:17.372Z"
   },
   {
    "duration": 17,
    "start_time": "2023-03-04T15:20:33.812Z"
   },
   {
    "duration": 5,
    "start_time": "2023-03-04T15:20:45.271Z"
   },
   {
    "duration": 4,
    "start_time": "2023-03-04T15:20:51.805Z"
   },
   {
    "duration": 18,
    "start_time": "2023-03-04T15:20:52.022Z"
   },
   {
    "duration": 5,
    "start_time": "2023-03-04T15:20:52.213Z"
   },
   {
    "duration": 6,
    "start_time": "2023-03-04T15:20:55.766Z"
   },
   {
    "duration": 22,
    "start_time": "2023-03-04T15:20:57.023Z"
   },
   {
    "duration": 4,
    "start_time": "2023-03-04T15:20:57.623Z"
   },
   {
    "duration": 5,
    "start_time": "2023-03-04T15:21:03.077Z"
   },
   {
    "duration": 5,
    "start_time": "2023-03-04T15:21:08.146Z"
   },
   {
    "duration": 4,
    "start_time": "2023-03-04T15:21:08.878Z"
   },
   {
    "duration": 26,
    "start_time": "2023-03-04T15:21:09.094Z"
   },
   {
    "duration": 4,
    "start_time": "2023-03-04T15:21:09.286Z"
   },
   {
    "duration": 3,
    "start_time": "2023-03-04T15:25:10.861Z"
   },
   {
    "duration": 7,
    "start_time": "2023-03-04T15:25:16.024Z"
   },
   {
    "duration": 3,
    "start_time": "2023-03-04T15:25:51.050Z"
   },
   {
    "duration": 3,
    "start_time": "2023-03-04T15:25:52.258Z"
   },
   {
    "duration": 14,
    "start_time": "2023-03-04T15:26:11.110Z"
   },
   {
    "duration": 4,
    "start_time": "2023-03-04T15:26:11.307Z"
   },
   {
    "duration": 4,
    "start_time": "2023-03-04T15:26:19.285Z"
   },
   {
    "duration": 4,
    "start_time": "2023-03-04T15:59:16.320Z"
   },
   {
    "duration": 10,
    "start_time": "2023-03-04T15:59:24.694Z"
   },
   {
    "duration": 5,
    "start_time": "2023-03-04T15:59:51.434Z"
   },
   {
    "duration": 14,
    "start_time": "2023-03-04T16:00:32.927Z"
   },
   {
    "duration": 12,
    "start_time": "2023-03-04T16:00:48.391Z"
   },
   {
    "duration": 6,
    "start_time": "2023-03-04T16:00:58.671Z"
   },
   {
    "duration": 20,
    "start_time": "2023-03-04T16:01:02.889Z"
   },
   {
    "duration": 4,
    "start_time": "2023-03-04T16:01:23.051Z"
   },
   {
    "duration": 18,
    "start_time": "2023-03-04T16:01:24.565Z"
   },
   {
    "duration": 12,
    "start_time": "2023-03-04T16:05:20.416Z"
   },
   {
    "duration": 17,
    "start_time": "2023-03-04T16:06:03.836Z"
   },
   {
    "duration": 17,
    "start_time": "2023-03-04T16:06:05.387Z"
   },
   {
    "duration": 17,
    "start_time": "2023-03-04T16:06:06.365Z"
   },
   {
    "duration": 18,
    "start_time": "2023-03-04T16:06:07.092Z"
   },
   {
    "duration": 22,
    "start_time": "2023-03-04T16:06:08.808Z"
   },
   {
    "duration": 23,
    "start_time": "2023-03-04T16:06:09.559Z"
   },
   {
    "duration": 18,
    "start_time": "2023-03-04T16:06:10.258Z"
   },
   {
    "duration": 20,
    "start_time": "2023-03-04T16:06:10.986Z"
   },
   {
    "duration": 18,
    "start_time": "2023-03-04T16:06:11.741Z"
   },
   {
    "duration": 19,
    "start_time": "2023-03-04T16:06:12.571Z"
   },
   {
    "duration": 6,
    "start_time": "2023-03-04T16:06:56.405Z"
   },
   {
    "duration": 19,
    "start_time": "2023-03-04T16:06:57.008Z"
   },
   {
    "duration": 5,
    "start_time": "2023-03-04T16:06:58.318Z"
   },
   {
    "duration": 17,
    "start_time": "2023-03-04T16:06:58.665Z"
   },
   {
    "duration": 1022,
    "start_time": "2023-03-04T16:07:32.559Z"
   },
   {
    "duration": 28,
    "start_time": "2023-03-04T16:07:33.583Z"
   },
   {
    "duration": 14,
    "start_time": "2023-03-04T16:07:33.612Z"
   },
   {
    "duration": 32,
    "start_time": "2023-03-04T16:07:33.628Z"
   },
   {
    "duration": 6,
    "start_time": "2023-03-04T16:07:33.662Z"
   },
   {
    "duration": 6,
    "start_time": "2023-03-04T16:07:33.670Z"
   },
   {
    "duration": 36,
    "start_time": "2023-03-04T16:07:33.678Z"
   },
   {
    "duration": 15,
    "start_time": "2023-03-04T16:07:33.716Z"
   },
   {
    "duration": 8,
    "start_time": "2023-03-04T16:07:33.734Z"
   },
   {
    "duration": 77,
    "start_time": "2023-03-04T16:07:33.745Z"
   },
   {
    "duration": 8,
    "start_time": "2023-03-04T16:07:33.824Z"
   },
   {
    "duration": 22,
    "start_time": "2023-03-04T16:07:33.912Z"
   },
   {
    "duration": 4,
    "start_time": "2023-03-04T16:07:33.935Z"
   },
   {
    "duration": 16,
    "start_time": "2023-03-04T16:07:33.941Z"
   },
   {
    "duration": 1442,
    "start_time": "2023-03-05T07:15:16.030Z"
   },
   {
    "duration": 91,
    "start_time": "2023-03-05T07:15:17.474Z"
   },
   {
    "duration": 19,
    "start_time": "2023-03-05T07:15:17.567Z"
   },
   {
    "duration": 38,
    "start_time": "2023-03-05T07:15:17.588Z"
   },
   {
    "duration": 9,
    "start_time": "2023-03-05T07:15:17.629Z"
   },
   {
    "duration": 9,
    "start_time": "2023-03-05T07:15:17.640Z"
   },
   {
    "duration": 5,
    "start_time": "2023-03-05T07:15:17.651Z"
   },
   {
    "duration": 17,
    "start_time": "2023-03-05T07:15:17.658Z"
   },
   {
    "duration": 48,
    "start_time": "2023-03-05T07:15:17.677Z"
   },
   {
    "duration": 101,
    "start_time": "2023-03-05T07:15:17.728Z"
   },
   {
    "duration": 6,
    "start_time": "2023-03-05T07:15:17.830Z"
   },
   {
    "duration": 28,
    "start_time": "2023-03-05T07:15:17.837Z"
   },
   {
    "duration": 6,
    "start_time": "2023-03-05T07:15:17.867Z"
   },
   {
    "duration": 61,
    "start_time": "2023-03-05T07:15:17.875Z"
   },
   {
    "duration": 1166,
    "start_time": "2023-03-05T15:05:07.154Z"
   },
   {
    "duration": 99,
    "start_time": "2023-03-05T15:05:08.322Z"
   },
   {
    "duration": 17,
    "start_time": "2023-03-05T15:05:08.423Z"
   },
   {
    "duration": 36,
    "start_time": "2023-03-05T15:05:08.442Z"
   },
   {
    "duration": 7,
    "start_time": "2023-03-05T15:05:09.353Z"
   },
   {
    "duration": 6,
    "start_time": "2023-03-05T15:05:14.169Z"
   },
   {
    "duration": 7,
    "start_time": "2023-03-05T15:08:03.934Z"
   },
   {
    "duration": 670,
    "start_time": "2023-03-05T15:08:29.215Z"
   },
   {
    "duration": 4,
    "start_time": "2023-03-05T15:08:56.560Z"
   },
   {
    "duration": 586,
    "start_time": "2023-03-05T15:09:00.297Z"
   },
   {
    "duration": 535,
    "start_time": "2023-03-05T15:11:50.581Z"
   },
   {
    "duration": 16,
    "start_time": "2023-03-05T15:17:21.058Z"
   },
   {
    "duration": 4,
    "start_time": "2023-03-05T15:23:30.981Z"
   },
   {
    "duration": 12,
    "start_time": "2023-03-05T15:23:31.198Z"
   },
   {
    "duration": 7,
    "start_time": "2023-03-05T15:23:31.412Z"
   },
   {
    "duration": 17,
    "start_time": "2023-03-05T15:23:31.845Z"
   },
   {
    "duration": 7,
    "start_time": "2023-03-05T15:23:32.067Z"
   },
   {
    "duration": 26,
    "start_time": "2023-03-05T15:23:32.885Z"
   },
   {
    "duration": 5,
    "start_time": "2023-03-05T15:23:49.102Z"
   },
   {
    "duration": 8,
    "start_time": "2023-03-05T15:24:00.295Z"
   },
   {
    "duration": 18,
    "start_time": "2023-03-05T15:24:00.535Z"
   },
   {
    "duration": 5,
    "start_time": "2023-03-05T15:24:16.839Z"
   },
   {
    "duration": 4,
    "start_time": "2023-03-05T15:24:44.428Z"
   },
   {
    "duration": 5,
    "start_time": "2023-03-05T15:24:53.553Z"
   },
   {
    "duration": 5,
    "start_time": "2023-03-05T15:25:02.459Z"
   },
   {
    "duration": 7,
    "start_time": "2023-03-05T15:25:13.156Z"
   },
   {
    "duration": 22,
    "start_time": "2023-03-05T15:25:13.522Z"
   },
   {
    "duration": 5,
    "start_time": "2023-03-05T15:25:14.068Z"
   },
   {
    "duration": 8,
    "start_time": "2023-03-05T15:25:16.124Z"
   },
   {
    "duration": 21,
    "start_time": "2023-03-05T15:25:16.405Z"
   },
   {
    "duration": 4,
    "start_time": "2023-03-05T15:25:19.942Z"
   },
   {
    "duration": 4,
    "start_time": "2023-03-05T15:25:20.637Z"
   },
   {
    "duration": 4,
    "start_time": "2023-03-05T15:25:38.838Z"
   },
   {
    "duration": 4,
    "start_time": "2023-03-05T15:25:52.352Z"
   },
   {
    "duration": 4,
    "start_time": "2023-03-05T15:27:14.540Z"
   },
   {
    "duration": 5,
    "start_time": "2023-03-05T15:28:23.138Z"
   },
   {
    "duration": 21,
    "start_time": "2023-03-05T15:28:24.441Z"
   },
   {
    "duration": 10,
    "start_time": "2023-03-05T15:28:36.204Z"
   },
   {
    "duration": 4,
    "start_time": "2023-03-05T15:28:48.739Z"
   },
   {
    "duration": 8,
    "start_time": "2023-03-05T15:28:53.334Z"
   },
   {
    "duration": 18,
    "start_time": "2023-03-05T15:28:54.527Z"
   },
   {
    "duration": 5,
    "start_time": "2023-03-05T15:28:55.956Z"
   },
   {
    "duration": 4,
    "start_time": "2023-03-05T15:29:00.103Z"
   },
   {
    "duration": 97,
    "start_time": "2023-03-05T15:30:53.444Z"
   },
   {
    "duration": 100,
    "start_time": "2023-03-05T15:31:07.181Z"
   },
   {
    "duration": 83,
    "start_time": "2023-03-05T15:31:10.309Z"
   },
   {
    "duration": 15,
    "start_time": "2023-03-05T15:31:23.360Z"
   },
   {
    "duration": 79,
    "start_time": "2023-03-05T15:31:39.633Z"
   },
   {
    "duration": 5,
    "start_time": "2023-03-05T15:32:02.290Z"
   },
   {
    "duration": 86,
    "start_time": "2023-03-05T15:32:13.676Z"
   },
   {
    "duration": 84,
    "start_time": "2023-03-05T15:32:37.492Z"
   },
   {
    "duration": 83,
    "start_time": "2023-03-05T15:32:44.383Z"
   },
   {
    "duration": 86,
    "start_time": "2023-03-05T15:32:47.406Z"
   },
   {
    "duration": 4,
    "start_time": "2023-03-05T15:34:43.141Z"
   },
   {
    "duration": 78,
    "start_time": "2023-03-05T15:34:47.622Z"
   },
   {
    "duration": 83,
    "start_time": "2023-03-05T15:35:00.711Z"
   },
   {
    "duration": 5,
    "start_time": "2023-03-05T15:35:36.330Z"
   },
   {
    "duration": 12,
    "start_time": "2023-03-05T15:35:55.395Z"
   },
   {
    "duration": 9,
    "start_time": "2023-03-05T15:36:06.820Z"
   },
   {
    "duration": 10,
    "start_time": "2023-03-05T15:36:09.772Z"
   },
   {
    "duration": 10,
    "start_time": "2023-03-05T15:36:19.156Z"
   },
   {
    "duration": 9,
    "start_time": "2023-03-05T15:36:32.686Z"
   },
   {
    "duration": 10,
    "start_time": "2023-03-05T15:36:35.069Z"
   },
   {
    "duration": 6,
    "start_time": "2023-03-05T15:36:49.408Z"
   },
   {
    "duration": 5,
    "start_time": "2023-03-05T15:36:54.207Z"
   },
   {
    "duration": 5,
    "start_time": "2023-03-05T15:37:58.572Z"
   },
   {
    "duration": 10,
    "start_time": "2023-03-05T15:38:45.437Z"
   },
   {
    "duration": 9,
    "start_time": "2023-03-05T15:38:51.770Z"
   },
   {
    "duration": 10,
    "start_time": "2023-03-05T15:39:03.697Z"
   },
   {
    "duration": 1343,
    "start_time": "2023-03-06T08:15:30.665Z"
   },
   {
    "duration": 34,
    "start_time": "2023-03-06T08:15:32.010Z"
   },
   {
    "duration": 13,
    "start_time": "2023-03-06T08:15:32.046Z"
   },
   {
    "duration": 49,
    "start_time": "2023-03-06T08:15:32.061Z"
   },
   {
    "duration": 6,
    "start_time": "2023-03-06T08:15:32.112Z"
   },
   {
    "duration": 28,
    "start_time": "2023-03-06T08:15:32.119Z"
   },
   {
    "duration": 664,
    "start_time": "2023-03-06T08:15:32.149Z"
   },
   {
    "duration": 4,
    "start_time": "2023-03-06T08:15:32.815Z"
   },
   {
    "duration": 82,
    "start_time": "2023-03-06T08:15:32.821Z"
   },
   {
    "duration": 15,
    "start_time": "2023-03-06T08:15:32.905Z"
   },
   {
    "duration": 117,
    "start_time": "2023-03-06T08:15:32.922Z"
   },
   {
    "duration": 7,
    "start_time": "2023-03-06T08:15:33.042Z"
   },
   {
    "duration": 54,
    "start_time": "2023-03-06T08:15:33.051Z"
   },
   {
    "duration": 4,
    "start_time": "2023-03-06T08:15:33.107Z"
   },
   {
    "duration": 26,
    "start_time": "2023-03-06T08:15:33.113Z"
   },
   {
    "duration": 14,
    "start_time": "2023-03-06T08:15:33.140Z"
   },
   {
    "duration": 35,
    "start_time": "2023-03-06T08:15:33.156Z"
   },
   {
    "duration": 7,
    "start_time": "2023-03-06T08:15:33.193Z"
   },
   {
    "duration": 15,
    "start_time": "2023-03-06T08:15:33.202Z"
   },
   {
    "duration": 8,
    "start_time": "2023-03-06T08:15:42.427Z"
   },
   {
    "duration": 23,
    "start_time": "2023-03-06T08:15:51.724Z"
   },
   {
    "duration": 5,
    "start_time": "2023-03-06T08:15:53.152Z"
   },
   {
    "duration": 4,
    "start_time": "2023-03-06T08:15:55.576Z"
   },
   {
    "duration": 4,
    "start_time": "2023-03-06T08:16:09.804Z"
   },
   {
    "duration": 13,
    "start_time": "2023-03-06T08:16:12.584Z"
   },
   {
    "duration": 19,
    "start_time": "2023-03-06T08:16:12.839Z"
   },
   {
    "duration": 4,
    "start_time": "2023-03-06T08:16:13.069Z"
   },
   {
    "duration": 6,
    "start_time": "2023-03-06T08:17:24.300Z"
   },
   {
    "duration": 9,
    "start_time": "2023-03-06T08:21:04.638Z"
   },
   {
    "duration": 21,
    "start_time": "2023-03-06T08:21:04.819Z"
   },
   {
    "duration": 6,
    "start_time": "2023-03-06T08:21:05.017Z"
   },
   {
    "duration": 5,
    "start_time": "2023-03-06T08:21:05.218Z"
   },
   {
    "duration": 5,
    "start_time": "2023-03-06T08:21:05.766Z"
   },
   {
    "duration": 8,
    "start_time": "2023-03-06T08:21:10.179Z"
   },
   {
    "duration": 23,
    "start_time": "2023-03-06T08:21:10.678Z"
   },
   {
    "duration": 5,
    "start_time": "2023-03-06T08:21:11.038Z"
   },
   {
    "duration": 5,
    "start_time": "2023-03-06T08:21:12.737Z"
   },
   {
    "duration": 9,
    "start_time": "2023-03-06T08:21:15.697Z"
   },
   {
    "duration": 21,
    "start_time": "2023-03-06T08:21:16.197Z"
   },
   {
    "duration": 5,
    "start_time": "2023-03-06T08:21:16.733Z"
   },
   {
    "duration": 4,
    "start_time": "2023-03-06T08:21:19.277Z"
   },
   {
    "duration": 5,
    "start_time": "2023-03-06T08:21:21.025Z"
   },
   {
    "duration": 6,
    "start_time": "2023-03-06T08:21:48.517Z"
   },
   {
    "duration": 11,
    "start_time": "2023-03-06T08:21:49.137Z"
   },
   {
    "duration": 6,
    "start_time": "2023-03-06T08:21:50.104Z"
   },
   {
    "duration": 5,
    "start_time": "2023-03-06T08:21:52.292Z"
   },
   {
    "duration": 7,
    "start_time": "2023-03-06T08:21:56.417Z"
   },
   {
    "duration": 13,
    "start_time": "2023-03-06T08:21:56.837Z"
   },
   {
    "duration": 6,
    "start_time": "2023-03-06T08:21:57.737Z"
   },
   {
    "duration": 6,
    "start_time": "2023-03-06T08:21:58.058Z"
   },
   {
    "duration": 10,
    "start_time": "2023-03-06T08:22:03.398Z"
   },
   {
    "duration": 14,
    "start_time": "2023-03-06T08:22:04.838Z"
   },
   {
    "duration": 4,
    "start_time": "2023-03-06T08:22:05.357Z"
   },
   {
    "duration": 5,
    "start_time": "2023-03-06T08:22:06.257Z"
   },
   {
    "duration": 5,
    "start_time": "2023-03-06T08:22:06.597Z"
   },
   {
    "duration": 6,
    "start_time": "2023-03-06T08:22:41.665Z"
   },
   {
    "duration": 11,
    "start_time": "2023-03-06T08:22:42.138Z"
   },
   {
    "duration": 5,
    "start_time": "2023-03-06T08:22:42.337Z"
   },
   {
    "duration": 6,
    "start_time": "2023-03-06T08:22:42.577Z"
   },
   {
    "duration": 5,
    "start_time": "2023-03-06T08:22:43.996Z"
   },
   {
    "duration": 14,
    "start_time": "2023-03-06T08:22:54.218Z"
   },
   {
    "duration": 12,
    "start_time": "2023-03-06T08:22:55.278Z"
   },
   {
    "duration": 6,
    "start_time": "2023-03-06T08:22:56.097Z"
   },
   {
    "duration": 4,
    "start_time": "2023-03-06T08:23:01.557Z"
   },
   {
    "duration": 7,
    "start_time": "2023-03-06T08:23:01.817Z"
   },
   {
    "duration": 89,
    "start_time": "2023-03-06T13:48:13.809Z"
   },
   {
    "duration": 1376,
    "start_time": "2023-03-06T14:10:12.776Z"
   },
   {
    "duration": 31,
    "start_time": "2023-03-06T14:10:14.154Z"
   },
   {
    "duration": 13,
    "start_time": "2023-03-06T14:10:14.187Z"
   },
   {
    "duration": 34,
    "start_time": "2023-03-06T14:10:14.202Z"
   },
   {
    "duration": 7,
    "start_time": "2023-03-06T14:10:14.239Z"
   },
   {
    "duration": 43,
    "start_time": "2023-03-06T14:10:14.248Z"
   },
   {
    "duration": 607,
    "start_time": "2023-03-06T14:10:14.293Z"
   },
   {
    "duration": 5,
    "start_time": "2023-03-06T14:10:14.901Z"
   },
   {
    "duration": 48,
    "start_time": "2023-03-06T14:10:14.907Z"
   },
   {
    "duration": 41,
    "start_time": "2023-03-06T14:10:14.956Z"
   },
   {
    "duration": 177,
    "start_time": "2023-03-06T14:10:15.000Z"
   },
   {
    "duration": 18,
    "start_time": "2023-03-06T14:10:15.179Z"
   },
   {
    "duration": 48,
    "start_time": "2023-03-06T14:10:15.199Z"
   },
   {
    "duration": 22,
    "start_time": "2023-03-06T14:10:15.250Z"
   },
   {
    "duration": 32,
    "start_time": "2023-03-06T14:10:15.274Z"
   },
   {
    "duration": 1383,
    "start_time": "2023-03-06T14:11:02.679Z"
   },
   {
    "duration": 30,
    "start_time": "2023-03-06T14:11:04.065Z"
   },
   {
    "duration": 23,
    "start_time": "2023-03-06T14:11:04.096Z"
   },
   {
    "duration": 58,
    "start_time": "2023-03-06T14:11:04.122Z"
   },
   {
    "duration": 20,
    "start_time": "2023-03-06T14:11:04.182Z"
   },
   {
    "duration": 39,
    "start_time": "2023-03-06T14:11:04.203Z"
   },
   {
    "duration": 595,
    "start_time": "2023-03-06T14:11:04.244Z"
   },
   {
    "duration": 4,
    "start_time": "2023-03-06T14:11:04.841Z"
   },
   {
    "duration": 71,
    "start_time": "2023-03-06T14:11:04.847Z"
   },
   {
    "duration": 40,
    "start_time": "2023-03-06T14:11:04.921Z"
   },
   {
    "duration": 130,
    "start_time": "2023-03-06T14:11:04.964Z"
   },
   {
    "duration": 24,
    "start_time": "2023-03-06T14:11:05.096Z"
   },
   {
    "duration": 48,
    "start_time": "2023-03-06T14:11:05.122Z"
   },
   {
    "duration": 26,
    "start_time": "2023-03-06T14:11:05.178Z"
   },
   {
    "duration": 60,
    "start_time": "2023-03-06T14:11:05.205Z"
   },
   {
    "duration": 98,
    "start_time": "2023-03-08T08:36:34.347Z"
   },
   {
    "duration": 1630,
    "start_time": "2023-03-08T08:36:50.165Z"
   },
   {
    "duration": 78,
    "start_time": "2023-03-08T08:36:51.797Z"
   },
   {
    "duration": 15,
    "start_time": "2023-03-08T08:36:51.877Z"
   },
   {
    "duration": 35,
    "start_time": "2023-03-08T08:36:51.894Z"
   },
   {
    "duration": 7,
    "start_time": "2023-03-08T08:36:51.931Z"
   },
   {
    "duration": 18,
    "start_time": "2023-03-08T08:36:51.940Z"
   },
   {
    "duration": 590,
    "start_time": "2023-03-08T08:36:51.960Z"
   },
   {
    "duration": 4,
    "start_time": "2023-03-08T08:36:52.552Z"
   },
   {
    "duration": 58,
    "start_time": "2023-03-08T08:36:52.559Z"
   },
   {
    "duration": 25,
    "start_time": "2023-03-08T08:36:52.620Z"
   },
   {
    "duration": 163,
    "start_time": "2023-03-08T08:36:52.648Z"
   },
   {
    "duration": 8,
    "start_time": "2023-03-08T08:36:52.813Z"
   },
   {
    "duration": 26,
    "start_time": "2023-03-08T08:36:52.823Z"
   },
   {
    "duration": 93,
    "start_time": "2023-03-08T08:36:52.910Z"
   },
   {
    "duration": 19,
    "start_time": "2023-03-08T08:36:53.005Z"
   },
   {
    "duration": 1589,
    "start_time": "2023-03-09T12:46:03.333Z"
   },
   {
    "duration": 84,
    "start_time": "2023-03-09T12:46:04.925Z"
   },
   {
    "duration": 15,
    "start_time": "2023-03-09T12:46:05.011Z"
   },
   {
    "duration": 34,
    "start_time": "2023-03-09T12:46:05.029Z"
   },
   {
    "duration": 6,
    "start_time": "2023-03-09T12:46:05.065Z"
   },
   {
    "duration": 45,
    "start_time": "2023-03-09T12:46:05.073Z"
   },
   {
    "duration": 655,
    "start_time": "2023-03-09T12:46:05.119Z"
   },
   {
    "duration": 5,
    "start_time": "2023-03-09T12:46:05.776Z"
   },
   {
    "duration": 66,
    "start_time": "2023-03-09T12:46:05.782Z"
   },
   {
    "duration": 17,
    "start_time": "2023-03-09T12:46:05.851Z"
   },
   {
    "duration": 187,
    "start_time": "2023-03-09T12:46:05.872Z"
   },
   {
    "duration": 7,
    "start_time": "2023-03-09T12:46:06.061Z"
   },
   {
    "duration": 72,
    "start_time": "2023-03-09T12:46:06.070Z"
   },
   {
    "duration": 98,
    "start_time": "2023-03-09T12:46:06.144Z"
   },
   {
    "duration": 19,
    "start_time": "2023-03-09T12:46:06.246Z"
   }
  ],
  "kernelspec": {
   "display_name": "Python 3 (ipykernel)",
   "language": "python",
   "name": "python3"
  },
  "language_info": {
   "codemirror_mode": {
    "name": "ipython",
    "version": 3
   },
   "file_extension": ".py",
   "mimetype": "text/x-python",
   "name": "python",
   "nbconvert_exporter": "python",
   "pygments_lexer": "ipython3",
   "version": "3.9.13"
  },
  "toc": {
   "base_numbering": 1,
   "nav_menu": {},
   "number_sections": true,
   "sideBar": true,
   "skip_h1_title": true,
   "title_cell": "Содержание",
   "title_sidebar": "Contents",
   "toc_cell": true,
   "toc_position": {
    "height": "calc(100% - 180px)",
    "left": "10px",
    "top": "150px",
    "width": "325.2px"
   },
   "toc_section_display": true,
   "toc_window_display": true
  }
 },
 "nbformat": 4,
 "nbformat_minor": 4
}
