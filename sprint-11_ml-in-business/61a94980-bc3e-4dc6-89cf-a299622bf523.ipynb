{
 "cells": [
  {
   "cell_type": "markdown",
   "metadata": {},
   "source": [
    "# Выбор локации для скважины"
   ]
  },
  {
   "cell_type": "markdown",
   "metadata": {},
   "source": [
    "Допустим, вы работаете в добывающей компании «ГлавРосГосНефть». Нужно решить, где бурить новую скважину.\n",
    "\n",
    "Вам предоставлены пробы нефти в трёх регионах: в каждом 10 000 месторождений, где измерили качество нефти и объём её запасов. Постройте модель машинного обучения, которая поможет определить регион, где добыча принесёт наибольшую прибыль. Проанализируйте возможную прибыль и риски техникой *Bootstrap.*\n",
    "\n",
    "Шаги для выбора локации:\n",
    "\n",
    "- В избранном регионе ищут месторождения, для каждого определяют значения признаков;\n",
    "- Строят модель и оценивают объём запасов;\n",
    "- Выбирают месторождения с самым высокими оценками значений. Количество месторождений зависит от бюджета компании и стоимости разработки одной скважины;\n",
    "- Прибыль равна суммарной прибыли отобранных месторождений."
   ]
  },
  {
   "cell_type": "markdown",
   "metadata": {},
   "source": [
    "## Загрузка и подготовка данных"
   ]
  },
  {
   "cell_type": "code",
   "execution_count": 1,
   "metadata": {
    "scrolled": true
   },
   "outputs": [
    {
     "name": "stdout",
     "output_type": "stream",
     "text": [
      "<class 'pandas.core.frame.DataFrame'>\n",
      "Index: 100000 entries, txEyH to 1CWhH\n",
      "Data columns (total 4 columns):\n",
      " #   Column   Non-Null Count   Dtype  \n",
      "---  ------   --------------   -----  \n",
      " 0   f0       100000 non-null  float64\n",
      " 1   f1       100000 non-null  float64\n",
      " 2   f2       100000 non-null  float64\n",
      " 3   product  100000 non-null  float64\n",
      "dtypes: float64(4)\n",
      "memory usage: 3.8+ MB\n"
     ]
    },
    {
     "data": {
      "text/plain": [
       "None"
      ]
     },
     "metadata": {},
     "output_type": "display_data"
    },
    {
     "name": "stdout",
     "output_type": "stream",
     "text": [
      "<class 'pandas.core.frame.DataFrame'>\n",
      "Index: 100000 entries, kBEdx to relB0\n",
      "Data columns (total 4 columns):\n",
      " #   Column   Non-Null Count   Dtype  \n",
      "---  ------   --------------   -----  \n",
      " 0   f0       100000 non-null  float64\n",
      " 1   f1       100000 non-null  float64\n",
      " 2   f2       100000 non-null  float64\n",
      " 3   product  100000 non-null  float64\n",
      "dtypes: float64(4)\n",
      "memory usage: 3.8+ MB\n"
     ]
    },
    {
     "data": {
      "text/plain": [
       "None"
      ]
     },
     "metadata": {},
     "output_type": "display_data"
    },
    {
     "name": "stdout",
     "output_type": "stream",
     "text": [
      "<class 'pandas.core.frame.DataFrame'>\n",
      "Index: 100000 entries, fwXo0 to V9kWn\n",
      "Data columns (total 4 columns):\n",
      " #   Column   Non-Null Count   Dtype  \n",
      "---  ------   --------------   -----  \n",
      " 0   f0       100000 non-null  float64\n",
      " 1   f1       100000 non-null  float64\n",
      " 2   f2       100000 non-null  float64\n",
      " 3   product  100000 non-null  float64\n",
      "dtypes: float64(4)\n",
      "memory usage: 3.8+ MB\n"
     ]
    },
    {
     "data": {
      "text/plain": [
       "None"
      ]
     },
     "metadata": {},
     "output_type": "display_data"
    }
   ],
   "source": [
    "import numpy as np\n",
    "import pandas as pd\n",
    "import matplotlib.pyplot as plt\n",
    "import seaborn as sns\n",
    "from sklearn.linear_model import LinearRegression\n",
    "from sklearn.preprocessing import StandardScaler\n",
    "from sklearn.model_selection import train_test_split\n",
    "from sklearn.metrics import mean_squared_error\n",
    "\n",
    "import warnings\n",
    "warnings.filterwarnings(\"ignore\")\n",
    "# !pip install pandas_profiling\n",
    "# import pandas_profiling as pp\n",
    "\n",
    "PATH = './'\n",
    "\n",
    "df_0 = pd.read_csv(PATH+'geo_data_0.csv', index_col='id')\n",
    "df_1 = pd.read_csv(PATH+'geo_data_1.csv', index_col='id')\n",
    "df_2 = pd.read_csv(PATH+'geo_data_2.csv', index_col='id')\n",
    "\n",
    "display(df_0.info())\n",
    "display(df_1.info())\n",
    "display(df_2.info())"
   ]
  },
  {
   "cell_type": "code",
   "execution_count": 2,
   "metadata": {},
   "outputs": [
    {
     "data": {
      "text/html": [
       "<div>\n",
       "<style scoped>\n",
       "    .dataframe tbody tr th:only-of-type {\n",
       "        vertical-align: middle;\n",
       "    }\n",
       "\n",
       "    .dataframe tbody tr th {\n",
       "        vertical-align: top;\n",
       "    }\n",
       "\n",
       "    .dataframe thead th {\n",
       "        text-align: right;\n",
       "    }\n",
       "</style>\n",
       "<table border=\"1\" class=\"dataframe\">\n",
       "  <thead>\n",
       "    <tr style=\"text-align: right;\">\n",
       "      <th></th>\n",
       "      <th>f0</th>\n",
       "      <th>f1</th>\n",
       "      <th>f2</th>\n",
       "      <th>product</th>\n",
       "    </tr>\n",
       "  </thead>\n",
       "  <tbody>\n",
       "    <tr>\n",
       "      <th>count</th>\n",
       "      <td>100000.000000</td>\n",
       "      <td>100000.000000</td>\n",
       "      <td>100000.000000</td>\n",
       "      <td>100000.000000</td>\n",
       "    </tr>\n",
       "    <tr>\n",
       "      <th>mean</th>\n",
       "      <td>0.500419</td>\n",
       "      <td>0.250143</td>\n",
       "      <td>2.502647</td>\n",
       "      <td>92.500000</td>\n",
       "    </tr>\n",
       "    <tr>\n",
       "      <th>std</th>\n",
       "      <td>0.871832</td>\n",
       "      <td>0.504433</td>\n",
       "      <td>3.248248</td>\n",
       "      <td>44.288691</td>\n",
       "    </tr>\n",
       "    <tr>\n",
       "      <th>min</th>\n",
       "      <td>-1.408605</td>\n",
       "      <td>-0.848218</td>\n",
       "      <td>-12.088328</td>\n",
       "      <td>0.000000</td>\n",
       "    </tr>\n",
       "    <tr>\n",
       "      <th>25%</th>\n",
       "      <td>-0.072580</td>\n",
       "      <td>-0.200881</td>\n",
       "      <td>0.287748</td>\n",
       "      <td>56.497507</td>\n",
       "    </tr>\n",
       "    <tr>\n",
       "      <th>50%</th>\n",
       "      <td>0.502360</td>\n",
       "      <td>0.250252</td>\n",
       "      <td>2.515969</td>\n",
       "      <td>91.849972</td>\n",
       "    </tr>\n",
       "    <tr>\n",
       "      <th>75%</th>\n",
       "      <td>1.073581</td>\n",
       "      <td>0.700646</td>\n",
       "      <td>4.715088</td>\n",
       "      <td>128.564089</td>\n",
       "    </tr>\n",
       "    <tr>\n",
       "      <th>max</th>\n",
       "      <td>2.362331</td>\n",
       "      <td>1.343769</td>\n",
       "      <td>16.003790</td>\n",
       "      <td>185.364347</td>\n",
       "    </tr>\n",
       "  </tbody>\n",
       "</table>\n",
       "</div>"
      ],
      "text/plain": [
       "                  f0             f1             f2        product\n",
       "count  100000.000000  100000.000000  100000.000000  100000.000000\n",
       "mean        0.500419       0.250143       2.502647      92.500000\n",
       "std         0.871832       0.504433       3.248248      44.288691\n",
       "min        -1.408605      -0.848218     -12.088328       0.000000\n",
       "25%        -0.072580      -0.200881       0.287748      56.497507\n",
       "50%         0.502360       0.250252       2.515969      91.849972\n",
       "75%         1.073581       0.700646       4.715088     128.564089\n",
       "max         2.362331       1.343769      16.003790     185.364347"
      ]
     },
     "metadata": {},
     "output_type": "display_data"
    },
    {
     "data": {
      "text/html": [
       "<div>\n",
       "<style scoped>\n",
       "    .dataframe tbody tr th:only-of-type {\n",
       "        vertical-align: middle;\n",
       "    }\n",
       "\n",
       "    .dataframe tbody tr th {\n",
       "        vertical-align: top;\n",
       "    }\n",
       "\n",
       "    .dataframe thead th {\n",
       "        text-align: right;\n",
       "    }\n",
       "</style>\n",
       "<table border=\"1\" class=\"dataframe\">\n",
       "  <thead>\n",
       "    <tr style=\"text-align: right;\">\n",
       "      <th></th>\n",
       "      <th>f0</th>\n",
       "      <th>f1</th>\n",
       "      <th>f2</th>\n",
       "      <th>product</th>\n",
       "    </tr>\n",
       "  </thead>\n",
       "  <tbody>\n",
       "    <tr>\n",
       "      <th>count</th>\n",
       "      <td>100000.000000</td>\n",
       "      <td>100000.000000</td>\n",
       "      <td>100000.000000</td>\n",
       "      <td>100000.000000</td>\n",
       "    </tr>\n",
       "    <tr>\n",
       "      <th>mean</th>\n",
       "      <td>1.141296</td>\n",
       "      <td>-4.796579</td>\n",
       "      <td>2.494541</td>\n",
       "      <td>68.825000</td>\n",
       "    </tr>\n",
       "    <tr>\n",
       "      <th>std</th>\n",
       "      <td>8.965932</td>\n",
       "      <td>5.119872</td>\n",
       "      <td>1.703572</td>\n",
       "      <td>45.944423</td>\n",
       "    </tr>\n",
       "    <tr>\n",
       "      <th>min</th>\n",
       "      <td>-31.609576</td>\n",
       "      <td>-26.358598</td>\n",
       "      <td>-0.018144</td>\n",
       "      <td>0.000000</td>\n",
       "    </tr>\n",
       "    <tr>\n",
       "      <th>25%</th>\n",
       "      <td>-6.298551</td>\n",
       "      <td>-8.267985</td>\n",
       "      <td>1.000021</td>\n",
       "      <td>26.953261</td>\n",
       "    </tr>\n",
       "    <tr>\n",
       "      <th>50%</th>\n",
       "      <td>1.153055</td>\n",
       "      <td>-4.813172</td>\n",
       "      <td>2.011479</td>\n",
       "      <td>57.085625</td>\n",
       "    </tr>\n",
       "    <tr>\n",
       "      <th>75%</th>\n",
       "      <td>8.621015</td>\n",
       "      <td>-1.332816</td>\n",
       "      <td>3.999904</td>\n",
       "      <td>107.813044</td>\n",
       "    </tr>\n",
       "    <tr>\n",
       "      <th>max</th>\n",
       "      <td>29.421755</td>\n",
       "      <td>18.734063</td>\n",
       "      <td>5.019721</td>\n",
       "      <td>137.945408</td>\n",
       "    </tr>\n",
       "  </tbody>\n",
       "</table>\n",
       "</div>"
      ],
      "text/plain": [
       "                  f0             f1             f2        product\n",
       "count  100000.000000  100000.000000  100000.000000  100000.000000\n",
       "mean        1.141296      -4.796579       2.494541      68.825000\n",
       "std         8.965932       5.119872       1.703572      45.944423\n",
       "min       -31.609576     -26.358598      -0.018144       0.000000\n",
       "25%        -6.298551      -8.267985       1.000021      26.953261\n",
       "50%         1.153055      -4.813172       2.011479      57.085625\n",
       "75%         8.621015      -1.332816       3.999904     107.813044\n",
       "max        29.421755      18.734063       5.019721     137.945408"
      ]
     },
     "metadata": {},
     "output_type": "display_data"
    },
    {
     "data": {
      "text/html": [
       "<div>\n",
       "<style scoped>\n",
       "    .dataframe tbody tr th:only-of-type {\n",
       "        vertical-align: middle;\n",
       "    }\n",
       "\n",
       "    .dataframe tbody tr th {\n",
       "        vertical-align: top;\n",
       "    }\n",
       "\n",
       "    .dataframe thead th {\n",
       "        text-align: right;\n",
       "    }\n",
       "</style>\n",
       "<table border=\"1\" class=\"dataframe\">\n",
       "  <thead>\n",
       "    <tr style=\"text-align: right;\">\n",
       "      <th></th>\n",
       "      <th>f0</th>\n",
       "      <th>f1</th>\n",
       "      <th>f2</th>\n",
       "      <th>product</th>\n",
       "    </tr>\n",
       "  </thead>\n",
       "  <tbody>\n",
       "    <tr>\n",
       "      <th>count</th>\n",
       "      <td>100000.000000</td>\n",
       "      <td>100000.000000</td>\n",
       "      <td>100000.000000</td>\n",
       "      <td>100000.000000</td>\n",
       "    </tr>\n",
       "    <tr>\n",
       "      <th>mean</th>\n",
       "      <td>0.002023</td>\n",
       "      <td>-0.002081</td>\n",
       "      <td>2.495128</td>\n",
       "      <td>95.000000</td>\n",
       "    </tr>\n",
       "    <tr>\n",
       "      <th>std</th>\n",
       "      <td>1.732045</td>\n",
       "      <td>1.730417</td>\n",
       "      <td>3.473445</td>\n",
       "      <td>44.749921</td>\n",
       "    </tr>\n",
       "    <tr>\n",
       "      <th>min</th>\n",
       "      <td>-8.760004</td>\n",
       "      <td>-7.084020</td>\n",
       "      <td>-11.970335</td>\n",
       "      <td>0.000000</td>\n",
       "    </tr>\n",
       "    <tr>\n",
       "      <th>25%</th>\n",
       "      <td>-1.162288</td>\n",
       "      <td>-1.174820</td>\n",
       "      <td>0.130359</td>\n",
       "      <td>59.450441</td>\n",
       "    </tr>\n",
       "    <tr>\n",
       "      <th>50%</th>\n",
       "      <td>0.009424</td>\n",
       "      <td>-0.009482</td>\n",
       "      <td>2.484236</td>\n",
       "      <td>94.925613</td>\n",
       "    </tr>\n",
       "    <tr>\n",
       "      <th>75%</th>\n",
       "      <td>1.158535</td>\n",
       "      <td>1.163678</td>\n",
       "      <td>4.858794</td>\n",
       "      <td>130.595027</td>\n",
       "    </tr>\n",
       "    <tr>\n",
       "      <th>max</th>\n",
       "      <td>7.238262</td>\n",
       "      <td>7.844801</td>\n",
       "      <td>16.739402</td>\n",
       "      <td>190.029838</td>\n",
       "    </tr>\n",
       "  </tbody>\n",
       "</table>\n",
       "</div>"
      ],
      "text/plain": [
       "                  f0             f1             f2        product\n",
       "count  100000.000000  100000.000000  100000.000000  100000.000000\n",
       "mean        0.002023      -0.002081       2.495128      95.000000\n",
       "std         1.732045       1.730417       3.473445      44.749921\n",
       "min        -8.760004      -7.084020     -11.970335       0.000000\n",
       "25%        -1.162288      -1.174820       0.130359      59.450441\n",
       "50%         0.009424      -0.009482       2.484236      94.925613\n",
       "75%         1.158535       1.163678       4.858794     130.595027\n",
       "max         7.238262       7.844801      16.739402     190.029838"
      ]
     },
     "metadata": {},
     "output_type": "display_data"
    }
   ],
   "source": [
    "display(df_0.describe(include='all'))\n",
    "display(df_1.describe(include='all'))\n",
    "display(df_2.describe(include='all'))"
   ]
  },
  {
   "cell_type": "code",
   "execution_count": 3,
   "metadata": {},
   "outputs": [
    {
     "data": {
      "text/html": [
       "<div>\n",
       "<style scoped>\n",
       "    .dataframe tbody tr th:only-of-type {\n",
       "        vertical-align: middle;\n",
       "    }\n",
       "\n",
       "    .dataframe tbody tr th {\n",
       "        vertical-align: top;\n",
       "    }\n",
       "\n",
       "    .dataframe thead th {\n",
       "        text-align: right;\n",
       "    }\n",
       "</style>\n",
       "<table border=\"1\" class=\"dataframe\">\n",
       "  <thead>\n",
       "    <tr style=\"text-align: right;\">\n",
       "      <th></th>\n",
       "      <th>f0</th>\n",
       "      <th>f1</th>\n",
       "      <th>f2</th>\n",
       "      <th>product</th>\n",
       "    </tr>\n",
       "    <tr>\n",
       "      <th>id</th>\n",
       "      <th></th>\n",
       "      <th></th>\n",
       "      <th></th>\n",
       "      <th></th>\n",
       "    </tr>\n",
       "  </thead>\n",
       "  <tbody>\n",
       "    <tr>\n",
       "      <th>74z30</th>\n",
       "      <td>1.084962</td>\n",
       "      <td>-0.312358</td>\n",
       "      <td>6.990771</td>\n",
       "      <td>127.643327</td>\n",
       "    </tr>\n",
       "    <tr>\n",
       "      <th>74z30</th>\n",
       "      <td>0.741456</td>\n",
       "      <td>0.459229</td>\n",
       "      <td>5.153109</td>\n",
       "      <td>140.771492</td>\n",
       "    </tr>\n",
       "    <tr>\n",
       "      <th>A5aEY</th>\n",
       "      <td>-0.180335</td>\n",
       "      <td>0.935548</td>\n",
       "      <td>-2.094773</td>\n",
       "      <td>33.020205</td>\n",
       "    </tr>\n",
       "    <tr>\n",
       "      <th>A5aEY</th>\n",
       "      <td>-0.039949</td>\n",
       "      <td>0.156872</td>\n",
       "      <td>0.209861</td>\n",
       "      <td>89.249364</td>\n",
       "    </tr>\n",
       "    <tr>\n",
       "      <th>AGS9W</th>\n",
       "      <td>-0.933795</td>\n",
       "      <td>0.116194</td>\n",
       "      <td>-3.655896</td>\n",
       "      <td>19.230453</td>\n",
       "    </tr>\n",
       "    <tr>\n",
       "      <th>AGS9W</th>\n",
       "      <td>1.454747</td>\n",
       "      <td>-0.479651</td>\n",
       "      <td>0.683380</td>\n",
       "      <td>126.370504</td>\n",
       "    </tr>\n",
       "    <tr>\n",
       "      <th>HZww2</th>\n",
       "      <td>0.755284</td>\n",
       "      <td>0.368511</td>\n",
       "      <td>1.863211</td>\n",
       "      <td>30.681774</td>\n",
       "    </tr>\n",
       "    <tr>\n",
       "      <th>HZww2</th>\n",
       "      <td>1.061194</td>\n",
       "      <td>-0.373969</td>\n",
       "      <td>10.430210</td>\n",
       "      <td>158.828695</td>\n",
       "    </tr>\n",
       "    <tr>\n",
       "      <th>QcMuo</th>\n",
       "      <td>0.635635</td>\n",
       "      <td>-0.473422</td>\n",
       "      <td>0.862670</td>\n",
       "      <td>64.578675</td>\n",
       "    </tr>\n",
       "    <tr>\n",
       "      <th>QcMuo</th>\n",
       "      <td>0.506563</td>\n",
       "      <td>-0.323775</td>\n",
       "      <td>-2.215583</td>\n",
       "      <td>75.496502</td>\n",
       "    </tr>\n",
       "    <tr>\n",
       "      <th>Tdehs</th>\n",
       "      <td>0.112079</td>\n",
       "      <td>0.430296</td>\n",
       "      <td>3.218993</td>\n",
       "      <td>60.964018</td>\n",
       "    </tr>\n",
       "    <tr>\n",
       "      <th>Tdehs</th>\n",
       "      <td>0.829407</td>\n",
       "      <td>0.298807</td>\n",
       "      <td>-0.049563</td>\n",
       "      <td>96.035308</td>\n",
       "    </tr>\n",
       "    <tr>\n",
       "      <th>TtcGQ</th>\n",
       "      <td>0.110711</td>\n",
       "      <td>1.022689</td>\n",
       "      <td>0.911381</td>\n",
       "      <td>101.318008</td>\n",
       "    </tr>\n",
       "    <tr>\n",
       "      <th>TtcGQ</th>\n",
       "      <td>0.569276</td>\n",
       "      <td>-0.104876</td>\n",
       "      <td>6.440215</td>\n",
       "      <td>85.350186</td>\n",
       "    </tr>\n",
       "    <tr>\n",
       "      <th>bsk9y</th>\n",
       "      <td>0.398908</td>\n",
       "      <td>-0.400253</td>\n",
       "      <td>10.122376</td>\n",
       "      <td>163.433078</td>\n",
       "    </tr>\n",
       "    <tr>\n",
       "      <th>bsk9y</th>\n",
       "      <td>0.378429</td>\n",
       "      <td>0.005837</td>\n",
       "      <td>0.160827</td>\n",
       "      <td>160.637302</td>\n",
       "    </tr>\n",
       "    <tr>\n",
       "      <th>bxg6G</th>\n",
       "      <td>-0.823752</td>\n",
       "      <td>0.546319</td>\n",
       "      <td>3.630479</td>\n",
       "      <td>93.007798</td>\n",
       "    </tr>\n",
       "    <tr>\n",
       "      <th>bxg6G</th>\n",
       "      <td>0.411645</td>\n",
       "      <td>0.856830</td>\n",
       "      <td>-3.653440</td>\n",
       "      <td>73.604260</td>\n",
       "    </tr>\n",
       "    <tr>\n",
       "      <th>fiKDv</th>\n",
       "      <td>0.157341</td>\n",
       "      <td>1.028359</td>\n",
       "      <td>5.585586</td>\n",
       "      <td>95.817889</td>\n",
       "    </tr>\n",
       "    <tr>\n",
       "      <th>fiKDv</th>\n",
       "      <td>0.049883</td>\n",
       "      <td>0.841313</td>\n",
       "      <td>6.394613</td>\n",
       "      <td>137.346586</td>\n",
       "    </tr>\n",
       "  </tbody>\n",
       "</table>\n",
       "</div>"
      ],
      "text/plain": [
       "             f0        f1         f2     product\n",
       "id                                              \n",
       "74z30  1.084962 -0.312358   6.990771  127.643327\n",
       "74z30  0.741456  0.459229   5.153109  140.771492\n",
       "A5aEY -0.180335  0.935548  -2.094773   33.020205\n",
       "A5aEY -0.039949  0.156872   0.209861   89.249364\n",
       "AGS9W -0.933795  0.116194  -3.655896   19.230453\n",
       "AGS9W  1.454747 -0.479651   0.683380  126.370504\n",
       "HZww2  0.755284  0.368511   1.863211   30.681774\n",
       "HZww2  1.061194 -0.373969  10.430210  158.828695\n",
       "QcMuo  0.635635 -0.473422   0.862670   64.578675\n",
       "QcMuo  0.506563 -0.323775  -2.215583   75.496502\n",
       "Tdehs  0.112079  0.430296   3.218993   60.964018\n",
       "Tdehs  0.829407  0.298807  -0.049563   96.035308\n",
       "TtcGQ  0.110711  1.022689   0.911381  101.318008\n",
       "TtcGQ  0.569276 -0.104876   6.440215   85.350186\n",
       "bsk9y  0.398908 -0.400253  10.122376  163.433078\n",
       "bsk9y  0.378429  0.005837   0.160827  160.637302\n",
       "bxg6G -0.823752  0.546319   3.630479   93.007798\n",
       "bxg6G  0.411645  0.856830  -3.653440   73.604260\n",
       "fiKDv  0.157341  1.028359   5.585586   95.817889\n",
       "fiKDv  0.049883  0.841313   6.394613  137.346586"
      ]
     },
     "metadata": {},
     "output_type": "display_data"
    },
    {
     "data": {
      "text/html": [
       "<div>\n",
       "<style scoped>\n",
       "    .dataframe tbody tr th:only-of-type {\n",
       "        vertical-align: middle;\n",
       "    }\n",
       "\n",
       "    .dataframe tbody tr th {\n",
       "        vertical-align: top;\n",
       "    }\n",
       "\n",
       "    .dataframe thead th {\n",
       "        text-align: right;\n",
       "    }\n",
       "</style>\n",
       "<table border=\"1\" class=\"dataframe\">\n",
       "  <thead>\n",
       "    <tr style=\"text-align: right;\">\n",
       "      <th></th>\n",
       "      <th>f0</th>\n",
       "      <th>f1</th>\n",
       "      <th>f2</th>\n",
       "      <th>product</th>\n",
       "    </tr>\n",
       "    <tr>\n",
       "      <th>id</th>\n",
       "      <th></th>\n",
       "      <th></th>\n",
       "      <th></th>\n",
       "      <th></th>\n",
       "    </tr>\n",
       "  </thead>\n",
       "  <tbody>\n",
       "    <tr>\n",
       "      <th>5ltQ6</th>\n",
       "      <td>-3.435401</td>\n",
       "      <td>-12.296043</td>\n",
       "      <td>1.999796</td>\n",
       "      <td>57.085625</td>\n",
       "    </tr>\n",
       "    <tr>\n",
       "      <th>5ltQ6</th>\n",
       "      <td>18.213839</td>\n",
       "      <td>2.191999</td>\n",
       "      <td>3.993869</td>\n",
       "      <td>107.813044</td>\n",
       "    </tr>\n",
       "    <tr>\n",
       "      <th>LHZR0</th>\n",
       "      <td>11.170835</td>\n",
       "      <td>-1.945066</td>\n",
       "      <td>3.002872</td>\n",
       "      <td>80.859783</td>\n",
       "    </tr>\n",
       "    <tr>\n",
       "      <th>LHZR0</th>\n",
       "      <td>-8.989672</td>\n",
       "      <td>-4.286607</td>\n",
       "      <td>2.009139</td>\n",
       "      <td>57.085625</td>\n",
       "    </tr>\n",
       "    <tr>\n",
       "      <th>bfPNe</th>\n",
       "      <td>-9.494442</td>\n",
       "      <td>-5.463692</td>\n",
       "      <td>4.006042</td>\n",
       "      <td>110.992147</td>\n",
       "    </tr>\n",
       "    <tr>\n",
       "      <th>bfPNe</th>\n",
       "      <td>-6.202799</td>\n",
       "      <td>-4.820045</td>\n",
       "      <td>2.995107</td>\n",
       "      <td>84.038886</td>\n",
       "    </tr>\n",
       "    <tr>\n",
       "      <th>wt4Uk</th>\n",
       "      <td>-9.091098</td>\n",
       "      <td>-8.109279</td>\n",
       "      <td>-0.002314</td>\n",
       "      <td>3.179103</td>\n",
       "    </tr>\n",
       "    <tr>\n",
       "      <th>wt4Uk</th>\n",
       "      <td>10.259972</td>\n",
       "      <td>-9.376355</td>\n",
       "      <td>4.994297</td>\n",
       "      <td>134.766305</td>\n",
       "    </tr>\n",
       "  </tbody>\n",
       "</table>\n",
       "</div>"
      ],
      "text/plain": [
       "              f0         f1        f2     product\n",
       "id                                               \n",
       "5ltQ6  -3.435401 -12.296043  1.999796   57.085625\n",
       "5ltQ6  18.213839   2.191999  3.993869  107.813044\n",
       "LHZR0  11.170835  -1.945066  3.002872   80.859783\n",
       "LHZR0  -8.989672  -4.286607  2.009139   57.085625\n",
       "bfPNe  -9.494442  -5.463692  4.006042  110.992147\n",
       "bfPNe  -6.202799  -4.820045  2.995107   84.038886\n",
       "wt4Uk  -9.091098  -8.109279 -0.002314    3.179103\n",
       "wt4Uk  10.259972  -9.376355  4.994297  134.766305"
      ]
     },
     "metadata": {},
     "output_type": "display_data"
    },
    {
     "data": {
      "text/html": [
       "<div>\n",
       "<style scoped>\n",
       "    .dataframe tbody tr th:only-of-type {\n",
       "        vertical-align: middle;\n",
       "    }\n",
       "\n",
       "    .dataframe tbody tr th {\n",
       "        vertical-align: top;\n",
       "    }\n",
       "\n",
       "    .dataframe thead th {\n",
       "        text-align: right;\n",
       "    }\n",
       "</style>\n",
       "<table border=\"1\" class=\"dataframe\">\n",
       "  <thead>\n",
       "    <tr style=\"text-align: right;\">\n",
       "      <th></th>\n",
       "      <th>f0</th>\n",
       "      <th>f1</th>\n",
       "      <th>f2</th>\n",
       "      <th>product</th>\n",
       "    </tr>\n",
       "    <tr>\n",
       "      <th>id</th>\n",
       "      <th></th>\n",
       "      <th></th>\n",
       "      <th></th>\n",
       "      <th></th>\n",
       "    </tr>\n",
       "  </thead>\n",
       "  <tbody>\n",
       "    <tr>\n",
       "      <th>KUPhW</th>\n",
       "      <td>0.231846</td>\n",
       "      <td>-1.698941</td>\n",
       "      <td>4.990775</td>\n",
       "      <td>11.716299</td>\n",
       "    </tr>\n",
       "    <tr>\n",
       "      <th>KUPhW</th>\n",
       "      <td>1.211150</td>\n",
       "      <td>3.176408</td>\n",
       "      <td>5.543540</td>\n",
       "      <td>132.831802</td>\n",
       "    </tr>\n",
       "    <tr>\n",
       "      <th>VF7Jo</th>\n",
       "      <td>2.122656</td>\n",
       "      <td>-0.858275</td>\n",
       "      <td>5.746001</td>\n",
       "      <td>181.716817</td>\n",
       "    </tr>\n",
       "    <tr>\n",
       "      <th>VF7Jo</th>\n",
       "      <td>-0.883115</td>\n",
       "      <td>0.560537</td>\n",
       "      <td>0.723601</td>\n",
       "      <td>136.233420</td>\n",
       "    </tr>\n",
       "    <tr>\n",
       "      <th>Vcm5J</th>\n",
       "      <td>-1.229484</td>\n",
       "      <td>-2.439204</td>\n",
       "      <td>1.222909</td>\n",
       "      <td>137.968290</td>\n",
       "    </tr>\n",
       "    <tr>\n",
       "      <th>Vcm5J</th>\n",
       "      <td>2.587702</td>\n",
       "      <td>1.986875</td>\n",
       "      <td>2.482245</td>\n",
       "      <td>92.327572</td>\n",
       "    </tr>\n",
       "    <tr>\n",
       "      <th>xCHr8</th>\n",
       "      <td>1.633027</td>\n",
       "      <td>0.368135</td>\n",
       "      <td>-2.378367</td>\n",
       "      <td>6.120525</td>\n",
       "    </tr>\n",
       "    <tr>\n",
       "      <th>xCHr8</th>\n",
       "      <td>-0.847066</td>\n",
       "      <td>2.101796</td>\n",
       "      <td>5.597130</td>\n",
       "      <td>184.388641</td>\n",
       "    </tr>\n",
       "  </tbody>\n",
       "</table>\n",
       "</div>"
      ],
      "text/plain": [
       "             f0        f1        f2     product\n",
       "id                                             \n",
       "KUPhW  0.231846 -1.698941  4.990775   11.716299\n",
       "KUPhW  1.211150  3.176408  5.543540  132.831802\n",
       "VF7Jo  2.122656 -0.858275  5.746001  181.716817\n",
       "VF7Jo -0.883115  0.560537  0.723601  136.233420\n",
       "Vcm5J -1.229484 -2.439204  1.222909  137.968290\n",
       "Vcm5J  2.587702  1.986875  2.482245   92.327572\n",
       "xCHr8  1.633027  0.368135 -2.378367    6.120525\n",
       "xCHr8 -0.847066  2.101796  5.597130  184.388641"
      ]
     },
     "metadata": {},
     "output_type": "display_data"
    }
   ],
   "source": [
    "# проверим индексы на наличие дубликатов\n",
    "display(df_0[df_0.index.duplicated(keep=False)].sort_index())\n",
    "display(df_1[df_1.index.duplicated(keep=False)].sort_index())\n",
    "display(df_2[df_2.index.duplicated(keep=False)].sort_index())"
   ]
  },
  {
   "cell_type": "markdown",
   "metadata": {},
   "source": [
    "Как несложно заметить - в каждом из датасетов существуют дубликаты \"уникальных\" идентификаторов скважин. Но данные дубликаты несколько необычны в том смысле, что целевой признак у них не идентичен (как и все остальное). Можно предположить, что это ошибки именно в задублированном id. В любом случае - подобных строк немного и реальное влияние на конечный результат будет несущественнен вне зависимости от того, как поступить с данной аномалией. В данном конкретном случае - дубликаты в датасете были оставлены (так как id не будет учавствовать при обучении модели)."
   ]
  },
  {
   "cell_type": "code",
   "execution_count": 4,
   "metadata": {},
   "outputs": [
    {
     "data": {
      "text/plain": [
       "<AxesSubplot: >"
      ]
     },
     "metadata": {},
     "output_type": "display_data"
    },
    {
     "data": {
      "image/png": "[encoded data removed]",
      "text/plain": [
       "<Figure size 640x480 with 2 Axes>"
      ]
     },
     "metadata": {},
     "output_type": "display_data"
    },
    {
     "data": {
      "text/plain": [
       "<AxesSubplot: >"
      ]
     },
     "metadata": {},
     "output_type": "display_data"
    },
    {
     "data": {
      "image/png": "[encoded data removed]",
      "text/plain": [
       "<Figure size 640x480 with 2 Axes>"
      ]
     },
     "metadata": {},
     "output_type": "display_data"
    },
    {
     "data": {
      "text/plain": [
       "<AxesSubplot: >"
      ]
     },
     "metadata": {},
     "output_type": "display_data"
    },
    {
     "data": {
      "image/png": "[encoded data removed]",
      "text/plain": [
       "<Figure size 640x480 with 2 Axes>"
      ]
     },
     "metadata": {},
     "output_type": "display_data"
    }
   ],
   "source": [
    "display(sns.heatmap(df_0.corr(), annot=True))\n",
    "plt.title('df_0 correlation map')\n",
    "plt.show()\n",
    "\n",
    "display(sns.heatmap(df_1.corr(), annot=True))\n",
    "plt.title('df_0 correlation map')\n",
    "plt.show()\n",
    "\n",
    "display(sns.heatmap(df_2.corr(), annot=True))\n",
    "plt.title('df_0 correlation map')\n",
    "plt.show()"
   ]
  },
  {
   "cell_type": "markdown",
   "metadata": {},
   "source": [
    "Примечательно, что в датасетах 0 и 2 целевой признак имеет высокую степень корреляции с признаком f2. При этом в датасете 1 - корреляция достигает максимальных значений. Полагаю линейная модель должна сработать весьма неплохо, или очень близко к этому."
   ]
  },
  {
   "cell_type": "markdown",
   "metadata": {},
   "source": [
    "## Обучение и проверка модели"
   ]
  },
  {
   "cell_type": "code",
   "execution_count": 5,
   "metadata": {},
   "outputs": [],
   "source": [
    "REGIONS_N = 3\n",
    "DATA_MODELS = {}\n",
    "\n",
    "DATA_MODELS['region_0'] = {}\n",
    "DATA_MODELS['region_0']['df'] = df_0\n",
    "DATA_MODELS['region_1'] = {}\n",
    "DATA_MODELS['region_1']['df'] = df_1\n",
    "DATA_MODELS['region_2'] = {}\n",
    "DATA_MODELS['region_2']['df'] = df_2\n",
    "\n",
    "for region_n in range(REGIONS_N):\n",
    "    region = f'region_{region_n}'\n",
    "    data = DATA_MODELS[region]['df']\n",
    "#     X = data.drop('product', axis=1)\n",
    "    X = data['f2'].to_frame()\n",
    "    y = data['product']\n",
    "    X_train, X_val, y_train, y_val = train_test_split(X, y, test_size=0.25,\n",
    "                                                        shuffle=True, random_state=42)\n",
    "    \n",
    "# видимо, обезличенные параметры отнормированны,\n",
    "# поэтому применение скейлера не оказывает существенного влияния на результат\n",
    "\n",
    "    scaler = StandardScaler()\n",
    "    X_train = scaler.fit_transform(X_train)\n",
    "    X_val = scaler.transform(X_val)\n",
    "    DATA_MODELS[region]['scaler'] = scaler\n",
    "    \n",
    "    model = LinearRegression(n_jobs=-1)\n",
    "    model.fit(X_train, y_train)\n",
    "    preds = model.predict(X_val)\n",
    "    score = mean_squared_error(y_val, preds, squared=False) # RMSE score\n",
    "    DATA_MODELS[region]['model'] = model\n",
    "    DATA_MODELS[region]['preds'] = pd.Series(preds) # по умолчанию - np.array без индексов\n",
    "    DATA_MODELS[region]['y_val'] = y_val.reset_index(drop=True) # по умолчанию индексы - индексы скважин\n",
    "    DATA_MODELS[region]['score'] = score"
   ]
  },
  {
   "cell_type": "code",
   "execution_count": 6,
   "metadata": {},
   "outputs": [
    {
     "name": "stdout",
     "output_type": "stream",
     "text": [
      "dict_keys(['region_0', 'region_1', 'region_2'])\n",
      "dict_keys(['df', 'scaler', 'model', 'preds', 'y_val', 'score'])\n",
      "\n",
      "region_0 coefs [21.42120431]\n",
      "region_0 intercept 92.55801454305207\n",
      "region_0 score 38.75148536710881\n",
      "\n",
      "region_1 coefs [45.91627939]\n",
      "region_1 intercept 68.85820641759084\n",
      "region_1 score 1.595175235376751\n",
      "\n",
      "region_2 coefs [19.98785786]\n",
      "region_2 intercept 94.9496669760935\n",
      "region_2 score 40.145281273044134\n",
      "\n"
     ]
    }
   ],
   "source": [
    "print(DATA_MODELS.keys())\n",
    "print(DATA_MODELS['region_0'].keys())\n",
    "print()\n",
    "for i in DATA_MODELS:\n",
    "    print(i, 'coefs', DATA_MODELS[i]['model'].coef_)\n",
    "    print(i, 'intercept', DATA_MODELS[i]['model'].intercept_)\n",
    "    print(i, 'score', DATA_MODELS[i]['score'])\n",
    "    print()"
   ]
  },
  {
   "cell_type": "code",
   "execution_count": 7,
   "metadata": {},
   "outputs": [
    {
     "name": "stdout",
     "output_type": "stream",
     "text": [
      "region_0 preds 92.34937175741717\n",
      "region_1 preds 68.72121729260876\n",
      "region_2 preds 94.7711306999486\n",
      "mean among preds 85.28057324999152\n",
      "region_0 score 38.75148536710881\n",
      "region_1 score 1.595175235376751\n",
      "region_2 score 40.145281273044134\n",
      "mean among score 26.830647291843235\n"
     ]
    }
   ],
   "source": [
    "data_to_show = ['preds', 'score']\n",
    "mean_value = {}\n",
    "\n",
    "for param in data_to_show:\n",
    "    param_list = []\n",
    "    for i in DATA_MODELS:\n",
    "        param_list.append(DATA_MODELS[i][param].mean())\n",
    "        mean_value[param] = pd.Series(param_list).mean()\n",
    "        print(i, param, DATA_MODELS[i][param].mean())\n",
    "    print('mean among', param, mean_value[param])"
   ]
  },
  {
   "cell_type": "markdown",
   "metadata": {},
   "source": [
    "Мы можем заметить, что модели, обученные на датасетах 0 и 2 демонстрируют значительно большее значение параметра ошибки RMSE. Также несколько настораживает, что у моделей, обученных на датасетах 0 и 2 - весьма значительные значения свободного члена. Также отметим, что значения коэффициентов достаточно разнятся между моделями."
   ]
  },
  {
   "cell_type": "markdown",
   "metadata": {},
   "source": [
    "## Подготовка к расчёту прибыли"
   ]
  },
  {
   "cell_type": "code",
   "execution_count": 8,
   "metadata": {},
   "outputs": [
    {
     "name": "stdout",
     "output_type": "stream",
     "text": [
      "Необходимый средний объем скважин для достижения безубыточности - 111.11\n",
      "Средний прогнозный объем скважин в - region_0 92.35\n",
      "Средний прогнозный объем скважин в - region_1 68.72\n",
      "Средний прогнозный объем скважин в - region_2 94.77\n"
     ]
    }
   ],
   "source": [
    "BUDGET = 1e10\n",
    "PRICE_PER_UNIT = 45e4\n",
    "NEED_UNITS = BUDGET/PRICE_PER_UNIT\n",
    "BEST_WELLS_N = 200\n",
    "print(f'Необходимый средний объем скважин для достижения безубыточности - {NEED_UNITS/BEST_WELLS_N:.2f}')\n",
    "\n",
    "for i in DATA_MODELS:\n",
    "    mean = DATA_MODELS[i]['preds'].mean()\n",
    "    print(f'Средний прогнозный объем скважин в - {i}', round(mean, 2))"
   ]
  },
  {
   "cell_type": "markdown",
   "metadata": {},
   "source": [
    "Как ни странно, но чтобы достигнуть уровня безубыточности, нам необходимо показать лучшую результативность, чем дамми-модель, которая предсказывала бы всегда среднее значение."
   ]
  },
  {
   "cell_type": "markdown",
   "metadata": {},
   "source": [
    "## Расчёт прибыли и рисков "
   ]
  },
  {
   "cell_type": "code",
   "execution_count": 9,
   "metadata": {},
   "outputs": [],
   "source": [
    "RANDOM_STATE = np.random.RandomState(42)\n",
    "\n",
    "def revenue_func(y_val, preds, n_best=200, budget=BUDGET):\n",
    "    preds_best = preds.sort_values(ascending=False)\n",
    "    targets_selected = y_val[preds_best.index][:n_best]\n",
    "\n",
    "    revenue = targets_selected.sum()*PRICE_PER_UNIT\n",
    "    return revenue - budget"
   ]
  },
  {
   "cell_type": "code",
   "execution_count": 10,
   "metadata": {},
   "outputs": [],
   "source": [
    "for region in DATA_MODELS.keys():\n",
    "    y_val = DATA_MODELS[region]['y_val']\n",
    "    preds = DATA_MODELS[region]['preds']\n",
    "\n",
    "    values = []\n",
    "    for i in range(1000):\n",
    "        # полагаю в данном случае replace не обязателен\n",
    "        y_val_subsample = y_val.sample(n=500, replace=True, random_state=RANDOM_STATE) \n",
    "        preds_subsample = preds[y_val_subsample.index]\n",
    "        values.append(revenue_func(y_val_subsample, preds_subsample, n_best=200))\n",
    "\n",
    "    values = pd.Series(values)\n",
    "    lower = values.quantile(0.025)\n",
    "    higher = values.quantile(0.975)\n",
    "    DATA_MODELS[region]['lower'] = lower\n",
    "    DATA_MODELS[region]['higher'] = higher\n",
    "    DATA_MODELS[region]['mean_profit'] = values.mean()\n",
    "    DATA_MODELS[region]['risk'] = (values < 0).mean()"
   ]
  },
  {
   "cell_type": "code",
   "execution_count": 11,
   "metadata": {},
   "outputs": [
    {
     "name": "stdout",
     "output_type": "stream",
     "text": [
      "region_0 Доверительный интервал в рамках от -253315118.36 до 798299388.44\n",
      "region_0 Средняя прибыль - 278592430.92\n",
      "region_0 Уровень риска - 0.156\n",
      "\n",
      "region_1 Доверительный интервал в рамках от 63791499.0 до 914338452.42\n",
      "region_1 Средняя прибыль - 491589138.24\n",
      "region_1 Уровень риска - 0.008\n",
      "\n",
      "region_2 Доверительный интервал в рамках от -117108818.99 до 957355266.09\n",
      "region_2 Средняя прибыль - 409600579.43\n",
      "region_2 Уровень риска - 0.071\n",
      "\n"
     ]
    }
   ],
   "source": [
    "for region in DATA_MODELS.keys():\n",
    "    print(region, f'Доверительный интервал в рамках от {round(DATA_MODELS[region][\"lower\"], 2)} до {round(DATA_MODELS[region][\"higher\"], 2)}')\n",
    "    print(region, f'Средняя прибыль - {round(DATA_MODELS[region][\"mean_profit\"], 2)}')\n",
    "    print(region, f'Уровень риска - {DATA_MODELS[region][\"risk\"]}')\n",
    "    print()"
   ]
  },
  {
   "cell_type": "markdown",
   "metadata": {},
   "source": [
    "Единственный регион вообще показавший прибыльность у нижнего рубежа 95% доверительного интервала, высочайшую среднюю прибыль, а также минимальный уровень риска - регион №1. Таким образом, этот регион и является рекомендацией для разработки месторождений."
   ]
  }
 ],
 "metadata": {
  "ExecuteTimeLog": [
   {
    "duration": 1047,
    "start_time": "2022-11-03T08:36:37.468Z"
   },
   {
    "duration": 165,
    "start_time": "2022-11-03T08:37:27.955Z"
   },
   {
    "duration": 54,
    "start_time": "2022-11-03T08:37:41.561Z"
   },
   {
    "duration": 115,
    "start_time": "2022-11-03T08:37:55.253Z"
   },
   {
    "duration": 94,
    "start_time": "2022-11-03T08:38:19.277Z"
   },
   {
    "duration": 63,
    "start_time": "2022-11-03T08:38:22.823Z"
   },
   {
    "duration": 265,
    "start_time": "2022-11-03T08:39:21.914Z"
   },
   {
    "duration": 172,
    "start_time": "2022-11-03T08:39:34.023Z"
   },
   {
    "duration": 188,
    "start_time": "2022-11-03T08:39:39.433Z"
   },
   {
    "duration": 159,
    "start_time": "2022-11-03T08:39:46.582Z"
   },
   {
    "duration": 141,
    "start_time": "2022-11-03T08:40:12.335Z"
   },
   {
    "duration": 142,
    "start_time": "2022-11-03T08:40:45.038Z"
   },
   {
    "duration": 137,
    "start_time": "2022-11-03T08:41:02.448Z"
   },
   {
    "duration": 131,
    "start_time": "2022-11-03T08:41:18.102Z"
   },
   {
    "duration": 7,
    "start_time": "2022-11-03T08:41:23.254Z"
   },
   {
    "duration": 22,
    "start_time": "2022-11-03T08:41:36.013Z"
   },
   {
    "duration": 20,
    "start_time": "2022-11-03T08:42:11.761Z"
   },
   {
    "duration": 1877,
    "start_time": "2022-11-03T08:53:01.643Z"
   },
   {
    "duration": 447,
    "start_time": "2022-11-03T08:53:19.669Z"
   },
   {
    "duration": 348,
    "start_time": "2022-11-03T08:53:51.849Z"
   },
   {
    "duration": 138,
    "start_time": "2022-11-03T08:54:07.827Z"
   },
   {
    "duration": 18,
    "start_time": "2022-11-03T08:54:08.520Z"
   },
   {
    "duration": 156,
    "start_time": "2022-11-03T08:54:45.472Z"
   },
   {
    "duration": 147,
    "start_time": "2022-11-03T08:54:52.896Z"
   },
   {
    "duration": 16,
    "start_time": "2022-11-03T08:54:55.078Z"
   },
   {
    "duration": 53,
    "start_time": "2022-11-03T11:10:54.104Z"
   },
   {
    "duration": 2838,
    "start_time": "2022-11-03T11:11:01.184Z"
   },
   {
    "duration": 69,
    "start_time": "2022-11-03T11:11:09.782Z"
   },
   {
    "duration": 4,
    "start_time": "2022-11-03T11:11:18.945Z"
   },
   {
    "duration": 10,
    "start_time": "2022-11-03T11:15:25.607Z"
   },
   {
    "duration": 410,
    "start_time": "2022-11-03T11:15:41.690Z"
   },
   {
    "duration": 92,
    "start_time": "2022-11-03T11:15:51.985Z"
   },
   {
    "duration": 117,
    "start_time": "2022-11-03T11:15:52.156Z"
   },
   {
    "duration": 6,
    "start_time": "2022-11-03T11:23:21.662Z"
   },
   {
    "duration": 4,
    "start_time": "2022-11-03T11:23:33.105Z"
   },
   {
    "duration": 19,
    "start_time": "2022-11-03T11:23:39.847Z"
   },
   {
    "duration": 11,
    "start_time": "2022-11-03T11:23:45.690Z"
   },
   {
    "duration": 17,
    "start_time": "2022-11-03T11:24:02.806Z"
   },
   {
    "duration": 94,
    "start_time": "2022-11-03T11:24:14.037Z"
   },
   {
    "duration": 397,
    "start_time": "2022-11-03T11:27:44.672Z"
   },
   {
    "duration": 403,
    "start_time": "2022-11-03T11:32:20.758Z"
   },
   {
    "duration": 52,
    "start_time": "2022-11-03T11:47:59.083Z"
   },
   {
    "duration": 398,
    "start_time": "2022-11-03T11:48:05.570Z"
   },
   {
    "duration": 493,
    "start_time": "2022-11-03T11:48:10.029Z"
   },
   {
    "duration": 3,
    "start_time": "2022-11-03T11:48:34.108Z"
   },
   {
    "duration": 3,
    "start_time": "2022-11-03T11:49:00.595Z"
   },
   {
    "duration": 12,
    "start_time": "2022-11-03T11:49:34.582Z"
   },
   {
    "duration": 4,
    "start_time": "2022-11-03T11:49:49.323Z"
   },
   {
    "duration": 403,
    "start_time": "2022-11-03T11:51:08.622Z"
   },
   {
    "duration": 3,
    "start_time": "2022-11-03T11:51:13.302Z"
   },
   {
    "duration": 5,
    "start_time": "2022-11-03T11:52:56.553Z"
   },
   {
    "duration": 4,
    "start_time": "2022-11-03T11:53:15.144Z"
   },
   {
    "duration": 4,
    "start_time": "2022-11-03T11:54:29.094Z"
   },
   {
    "duration": 396,
    "start_time": "2022-11-03T11:59:26.335Z"
   },
   {
    "duration": 5,
    "start_time": "2022-11-03T11:59:32.683Z"
   },
   {
    "duration": 472,
    "start_time": "2022-11-03T12:06:07.964Z"
   },
   {
    "duration": 3,
    "start_time": "2022-11-03T12:06:11.168Z"
   },
   {
    "duration": 4,
    "start_time": "2022-11-03T12:06:11.848Z"
   },
   {
    "duration": 3,
    "start_time": "2022-11-03T12:06:14.959Z"
   },
   {
    "duration": 3,
    "start_time": "2022-11-03T12:06:15.680Z"
   },
   {
    "duration": 402,
    "start_time": "2022-11-03T12:06:17.128Z"
   },
   {
    "duration": 80,
    "start_time": "2022-11-03T12:06:17.533Z"
   },
   {
    "duration": 4,
    "start_time": "2022-11-03T12:06:20.240Z"
   },
   {
    "duration": 4,
    "start_time": "2022-11-03T12:06:21.969Z"
   },
   {
    "duration": 469,
    "start_time": "2022-11-03T12:06:32.566Z"
   },
   {
    "duration": 3,
    "start_time": "2022-11-03T12:06:34.142Z"
   },
   {
    "duration": 4,
    "start_time": "2022-11-03T12:06:34.586Z"
   },
   {
    "duration": 4,
    "start_time": "2022-11-03T12:06:36.038Z"
   },
   {
    "duration": 454,
    "start_time": "2022-11-03T12:06:47.260Z"
   },
   {
    "duration": 3,
    "start_time": "2022-11-03T12:06:47.920Z"
   },
   {
    "duration": 416,
    "start_time": "2022-11-03T12:07:03.518Z"
   },
   {
    "duration": 4,
    "start_time": "2022-11-03T12:07:04.180Z"
   },
   {
    "duration": 4,
    "start_time": "2022-11-03T12:07:06.325Z"
   },
   {
    "duration": 4,
    "start_time": "2022-11-03T12:07:08.004Z"
   },
   {
    "duration": 385,
    "start_time": "2022-11-03T12:07:13.641Z"
   },
   {
    "duration": 5,
    "start_time": "2022-11-03T12:07:20.598Z"
   },
   {
    "duration": 464,
    "start_time": "2022-11-03T12:09:11.274Z"
   },
   {
    "duration": 76,
    "start_time": "2022-11-03T12:09:11.740Z"
   },
   {
    "duration": 4,
    "start_time": "2022-11-03T12:10:12.034Z"
   },
   {
    "duration": 5,
    "start_time": "2022-11-03T12:10:33.814Z"
   },
   {
    "duration": 6,
    "start_time": "2022-11-03T12:11:15.772Z"
   },
   {
    "duration": 6,
    "start_time": "2022-11-03T12:11:51.973Z"
   },
   {
    "duration": 41,
    "start_time": "2022-11-03T12:17:34.940Z"
   },
   {
    "duration": 420,
    "start_time": "2022-11-03T12:17:49.315Z"
   },
   {
    "duration": 5,
    "start_time": "2022-11-03T12:17:50.120Z"
   },
   {
    "duration": 7,
    "start_time": "2022-11-03T12:18:15.314Z"
   },
   {
    "duration": 434,
    "start_time": "2022-11-03T12:18:45.597Z"
   },
   {
    "duration": 6,
    "start_time": "2022-11-03T12:18:46.210Z"
   },
   {
    "duration": 433,
    "start_time": "2022-11-03T12:19:02.303Z"
   },
   {
    "duration": 100,
    "start_time": "2022-11-03T12:19:02.810Z"
   },
   {
    "duration": 430,
    "start_time": "2022-11-03T12:19:46.098Z"
   },
   {
    "duration": 7,
    "start_time": "2022-11-03T12:19:47.099Z"
   },
   {
    "duration": 450,
    "start_time": "2022-11-03T12:20:13.176Z"
   },
   {
    "duration": 9,
    "start_time": "2022-11-03T12:20:13.810Z"
   },
   {
    "duration": 443,
    "start_time": "2022-11-03T12:20:23.972Z"
   },
   {
    "duration": 95,
    "start_time": "2022-11-03T12:20:24.417Z"
   },
   {
    "duration": 1738,
    "start_time": "2022-11-03T12:20:33.397Z"
   },
   {
    "duration": 106,
    "start_time": "2022-11-03T12:20:35.138Z"
   },
   {
    "duration": 24,
    "start_time": "2022-11-03T12:20:35.246Z"
   },
   {
    "duration": 124,
    "start_time": "2022-11-03T12:20:37.768Z"
   },
   {
    "duration": 886,
    "start_time": "2022-11-03T12:20:40.767Z"
   },
   {
    "duration": 2,
    "start_time": "2022-11-03T12:20:47.709Z"
   },
   {
    "duration": 456,
    "start_time": "2022-11-03T12:20:49.077Z"
   },
   {
    "duration": 6,
    "start_time": "2022-11-03T12:20:54.201Z"
   },
   {
    "duration": 398,
    "start_time": "2022-11-03T12:21:05.829Z"
   },
   {
    "duration": 7,
    "start_time": "2022-11-03T12:21:07.009Z"
   },
   {
    "duration": 1498,
    "start_time": "2022-11-03T12:21:36.092Z"
   },
   {
    "duration": 99,
    "start_time": "2022-11-03T12:21:37.591Z"
   },
   {
    "duration": 31,
    "start_time": "2022-11-03T12:21:37.692Z"
   },
   {
    "duration": 128,
    "start_time": "2022-11-03T12:21:37.725Z"
   },
   {
    "duration": 2,
    "start_time": "2022-11-03T12:21:37.854Z"
   },
   {
    "duration": 407,
    "start_time": "2022-11-03T12:21:44.031Z"
   },
   {
    "duration": 7,
    "start_time": "2022-11-03T12:21:44.849Z"
   },
   {
    "duration": 7,
    "start_time": "2022-11-03T12:23:29.899Z"
   },
   {
    "duration": 391,
    "start_time": "2022-11-03T12:23:37.334Z"
   },
   {
    "duration": 100,
    "start_time": "2022-11-03T12:23:37.810Z"
   },
   {
    "duration": 10,
    "start_time": "2022-11-03T12:23:53.322Z"
   },
   {
    "duration": 15,
    "start_time": "2022-11-03T12:24:32.715Z"
   },
   {
    "duration": 458,
    "start_time": "2022-11-03T12:27:33.969Z"
   },
   {
    "duration": 6,
    "start_time": "2022-11-03T12:27:34.642Z"
   },
   {
    "duration": 461,
    "start_time": "2022-11-03T12:27:42.370Z"
   },
   {
    "duration": 7,
    "start_time": "2022-11-03T12:27:49.550Z"
   },
   {
    "duration": 469,
    "start_time": "2022-11-03T12:27:58.662Z"
   },
   {
    "duration": 9,
    "start_time": "2022-11-03T12:27:59.208Z"
   },
   {
    "duration": 380,
    "start_time": "2022-11-03T12:28:06.750Z"
   },
   {
    "duration": 8,
    "start_time": "2022-11-03T12:28:09.852Z"
   },
   {
    "duration": 407,
    "start_time": "2022-11-03T12:28:45.218Z"
   },
   {
    "duration": 403,
    "start_time": "2022-11-03T12:28:49.128Z"
   },
   {
    "duration": 77,
    "start_time": "2022-11-03T12:28:49.533Z"
   },
   {
    "duration": 426,
    "start_time": "2022-11-03T12:28:53.596Z"
   },
   {
    "duration": 7,
    "start_time": "2022-11-03T12:28:55.698Z"
   },
   {
    "duration": 472,
    "start_time": "2022-11-03T12:29:48.859Z"
   },
   {
    "duration": 5,
    "start_time": "2022-11-03T12:29:50.378Z"
   },
   {
    "duration": 6,
    "start_time": "2022-11-03T12:31:46.186Z"
   },
   {
    "duration": 106,
    "start_time": "2022-11-03T12:34:04.295Z"
   },
   {
    "duration": 7,
    "start_time": "2022-11-03T12:38:52.616Z"
   },
   {
    "duration": 6,
    "start_time": "2022-11-03T12:39:01.657Z"
   },
   {
    "duration": 7,
    "start_time": "2022-11-03T12:39:09.354Z"
   },
   {
    "duration": 6,
    "start_time": "2022-11-03T12:39:26.077Z"
   },
   {
    "duration": 6,
    "start_time": "2022-11-03T12:39:48.536Z"
   },
   {
    "duration": 547,
    "start_time": "2022-11-03T12:56:48.867Z"
   },
   {
    "duration": 8,
    "start_time": "2022-11-03T12:56:53.336Z"
   },
   {
    "duration": 6,
    "start_time": "2022-11-03T12:56:56.018Z"
   },
   {
    "duration": 458,
    "start_time": "2022-11-03T12:57:11.373Z"
   },
   {
    "duration": 7,
    "start_time": "2022-11-03T12:57:13.564Z"
   },
   {
    "duration": 6,
    "start_time": "2022-11-03T12:57:19.357Z"
   },
   {
    "duration": 429,
    "start_time": "2022-11-03T12:57:26.495Z"
   },
   {
    "duration": 8,
    "start_time": "2022-11-03T12:57:27.743Z"
   },
   {
    "duration": 6,
    "start_time": "2022-11-03T12:57:30.257Z"
   },
   {
    "duration": 455,
    "start_time": "2022-11-03T12:57:38.577Z"
   },
   {
    "duration": 8,
    "start_time": "2022-11-03T12:57:39.452Z"
   },
   {
    "duration": 6,
    "start_time": "2022-11-03T12:57:41.756Z"
   },
   {
    "duration": 456,
    "start_time": "2022-11-03T12:57:51.586Z"
   },
   {
    "duration": 6,
    "start_time": "2022-11-03T12:57:54.523Z"
   },
   {
    "duration": 8,
    "start_time": "2022-11-03T12:57:54.804Z"
   },
   {
    "duration": 6,
    "start_time": "2022-11-03T12:57:55.997Z"
   },
   {
    "duration": 3,
    "start_time": "2022-11-03T13:00:23.846Z"
   },
   {
    "duration": 4,
    "start_time": "2022-11-03T13:00:29.607Z"
   },
   {
    "duration": 2,
    "start_time": "2022-11-03T13:00:38.974Z"
   },
   {
    "duration": 3,
    "start_time": "2022-11-03T13:00:39.828Z"
   },
   {
    "duration": 8,
    "start_time": "2022-11-03T13:02:05.379Z"
   },
   {
    "duration": 2,
    "start_time": "2022-11-03T13:02:07.900Z"
   },
   {
    "duration": 3,
    "start_time": "2022-11-03T13:02:09.340Z"
   },
   {
    "duration": 4,
    "start_time": "2022-11-03T13:03:24.837Z"
   },
   {
    "duration": 4,
    "start_time": "2022-11-03T13:03:34.437Z"
   },
   {
    "duration": 5,
    "start_time": "2022-11-03T13:03:42.658Z"
   },
   {
    "duration": 3,
    "start_time": "2022-11-03T13:05:20.579Z"
   },
   {
    "duration": 207,
    "start_time": "2022-11-03T13:07:09.527Z"
   },
   {
    "duration": 9,
    "start_time": "2022-11-03T13:07:30.267Z"
   },
   {
    "duration": 6,
    "start_time": "2022-11-03T13:07:37.938Z"
   },
   {
    "duration": 8,
    "start_time": "2022-11-03T13:09:01.299Z"
   },
   {
    "duration": 4,
    "start_time": "2022-11-03T13:11:27.796Z"
   },
   {
    "duration": 3,
    "start_time": "2022-11-03T13:11:45.738Z"
   },
   {
    "duration": 4,
    "start_time": "2022-11-03T13:12:28.499Z"
   },
   {
    "duration": 1857,
    "start_time": "2022-11-08T07:45:24.274Z"
   },
   {
    "duration": 79,
    "start_time": "2022-11-08T07:45:26.132Z"
   },
   {
    "duration": 26,
    "start_time": "2022-11-08T07:45:28.878Z"
   },
   {
    "duration": 10,
    "start_time": "2022-11-08T07:45:29.134Z"
   },
   {
    "duration": 103,
    "start_time": "2022-11-08T07:45:56.711Z"
   },
   {
    "duration": 2,
    "start_time": "2022-11-08T07:45:57.958Z"
   },
   {
    "duration": 436,
    "start_time": "2022-11-08T07:46:19.234Z"
   },
   {
    "duration": 99,
    "start_time": "2022-11-08T07:46:19.738Z"
   },
   {
    "duration": 489,
    "start_time": "2022-11-08T07:48:54.176Z"
   },
   {
    "duration": 5,
    "start_time": "2022-11-08T07:48:54.851Z"
   },
   {
    "duration": 503,
    "start_time": "2022-11-08T07:49:12.032Z"
   },
   {
    "duration": 7,
    "start_time": "2022-11-08T07:49:12.536Z"
   },
   {
    "duration": 400,
    "start_time": "2022-11-08T07:49:37.162Z"
   },
   {
    "duration": 99,
    "start_time": "2022-11-08T07:49:37.636Z"
   },
   {
    "duration": 480,
    "start_time": "2022-11-08T07:49:53.683Z"
   },
   {
    "duration": 419,
    "start_time": "2022-11-08T07:49:55.144Z"
   },
   {
    "duration": 97,
    "start_time": "2022-11-08T07:49:55.639Z"
   },
   {
    "duration": 399,
    "start_time": "2022-11-08T07:50:04.661Z"
   },
   {
    "duration": 7,
    "start_time": "2022-11-08T07:50:05.283Z"
   },
   {
    "duration": 461,
    "start_time": "2022-11-08T07:50:35.501Z"
   },
   {
    "duration": 9,
    "start_time": "2022-11-08T07:50:36.035Z"
   },
   {
    "duration": 416,
    "start_time": "2022-11-08T07:50:47.541Z"
   },
   {
    "duration": 6,
    "start_time": "2022-11-08T07:50:48.523Z"
   },
   {
    "duration": 8,
    "start_time": "2022-11-08T07:51:16.686Z"
   },
   {
    "duration": 8,
    "start_time": "2022-11-08T07:51:26.361Z"
   },
   {
    "duration": 6,
    "start_time": "2022-11-08T07:52:20.089Z"
   },
   {
    "duration": 3,
    "start_time": "2022-11-08T08:00:35.968Z"
   },
   {
    "duration": 2,
    "start_time": "2022-11-08T08:01:24.182Z"
   },
   {
    "duration": 2,
    "start_time": "2022-11-08T08:02:13.728Z"
   },
   {
    "duration": 5,
    "start_time": "2022-11-08T08:02:17.493Z"
   },
   {
    "duration": 6,
    "start_time": "2022-11-08T08:02:26.511Z"
   },
   {
    "duration": 118,
    "start_time": "2022-11-08T08:05:13.075Z"
   },
   {
    "duration": 12,
    "start_time": "2022-11-08T08:05:18.305Z"
   },
   {
    "duration": 6,
    "start_time": "2022-11-08T08:05:36.579Z"
   },
   {
    "duration": 6,
    "start_time": "2022-11-08T08:06:05.440Z"
   },
   {
    "duration": 460,
    "start_time": "2022-11-08T08:07:49.301Z"
   },
   {
    "duration": 100,
    "start_time": "2022-11-08T08:07:49.836Z"
   },
   {
    "duration": 23,
    "start_time": "2022-11-08T08:07:50.233Z"
   },
   {
    "duration": 8,
    "start_time": "2022-11-08T08:08:47.119Z"
   },
   {
    "duration": 7,
    "start_time": "2022-11-08T08:12:02.955Z"
   },
   {
    "duration": 6,
    "start_time": "2022-11-08T08:12:10.511Z"
   },
   {
    "duration": 7,
    "start_time": "2022-11-08T08:12:14.361Z"
   },
   {
    "duration": 7,
    "start_time": "2022-11-08T08:12:27.559Z"
   },
   {
    "duration": 4,
    "start_time": "2022-11-08T08:12:32.623Z"
   },
   {
    "duration": 8,
    "start_time": "2022-11-08T08:12:37.516Z"
   },
   {
    "duration": 6,
    "start_time": "2022-11-08T08:12:37.867Z"
   },
   {
    "duration": 6,
    "start_time": "2022-11-08T08:12:39.581Z"
   },
   {
    "duration": 3,
    "start_time": "2022-11-08T08:12:48.270Z"
   },
   {
    "duration": 5,
    "start_time": "2022-11-08T08:12:49.046Z"
   },
   {
    "duration": 5,
    "start_time": "2022-11-08T08:12:49.312Z"
   },
   {
    "duration": 5,
    "start_time": "2022-11-08T08:13:00.281Z"
   },
   {
    "duration": 6,
    "start_time": "2022-11-08T08:13:03.827Z"
   },
   {
    "duration": 8,
    "start_time": "2022-11-08T08:13:25.260Z"
   },
   {
    "duration": 10,
    "start_time": "2022-11-08T08:13:38.619Z"
   },
   {
    "duration": 4,
    "start_time": "2022-11-08T08:13:50.035Z"
   },
   {
    "duration": 6,
    "start_time": "2022-11-08T08:13:54.417Z"
   },
   {
    "duration": 6,
    "start_time": "2022-11-08T08:15:07.320Z"
   },
   {
    "duration": 5,
    "start_time": "2022-11-08T08:15:15.240Z"
   },
   {
    "duration": 4,
    "start_time": "2022-11-08T08:15:23.399Z"
   },
   {
    "duration": 4,
    "start_time": "2022-11-08T08:15:27.753Z"
   },
   {
    "duration": 7,
    "start_time": "2022-11-08T08:17:50.680Z"
   },
   {
    "duration": 7,
    "start_time": "2022-11-08T08:23:34.595Z"
   },
   {
    "duration": 3,
    "start_time": "2022-11-08T08:23:51.395Z"
   },
   {
    "duration": 4,
    "start_time": "2022-11-08T08:24:01.375Z"
   },
   {
    "duration": 5,
    "start_time": "2022-11-08T08:24:04.883Z"
   },
   {
    "duration": 8,
    "start_time": "2022-11-08T08:24:29.422Z"
   },
   {
    "duration": 8,
    "start_time": "2022-11-08T08:24:33.563Z"
   },
   {
    "duration": 11,
    "start_time": "2022-11-08T08:46:10.246Z"
   },
   {
    "duration": 68,
    "start_time": "2022-11-08T08:46:13.466Z"
   },
   {
    "duration": 76,
    "start_time": "2022-11-08T08:46:17.086Z"
   },
   {
    "duration": 4,
    "start_time": "2022-11-08T08:46:21.766Z"
   },
   {
    "duration": 11,
    "start_time": "2022-11-08T08:46:22.846Z"
   },
   {
    "duration": 10,
    "start_time": "2022-11-08T08:46:43.657Z"
   },
   {
    "duration": 11,
    "start_time": "2022-11-08T08:47:15.405Z"
   },
   {
    "duration": 10,
    "start_time": "2022-11-08T08:47:29.286Z"
   },
   {
    "duration": 1371,
    "start_time": "2022-11-08T08:47:44.182Z"
   },
   {
    "duration": 4,
    "start_time": "2022-11-08T08:47:55.374Z"
   },
   {
    "duration": 1377,
    "start_time": "2022-11-08T08:48:49.037Z"
   },
   {
    "duration": 3,
    "start_time": "2022-11-08T08:48:51.309Z"
   },
   {
    "duration": 3,
    "start_time": "2022-11-08T08:49:17.448Z"
   },
   {
    "duration": 20,
    "start_time": "2022-11-08T08:49:50.576Z"
   },
   {
    "duration": 3,
    "start_time": "2022-11-08T08:50:01.740Z"
   },
   {
    "duration": 3,
    "start_time": "2022-11-08T08:50:08.384Z"
   },
   {
    "duration": 70,
    "start_time": "2022-11-08T08:51:58.208Z"
   },
   {
    "duration": 79,
    "start_time": "2022-11-08T08:52:05.349Z"
   },
   {
    "duration": 4054,
    "start_time": "2022-11-08T08:52:32.675Z"
   },
   {
    "duration": 4,
    "start_time": "2022-11-08T08:53:04.537Z"
   },
   {
    "duration": 3,
    "start_time": "2022-11-08T08:53:18.408Z"
   },
   {
    "duration": 71,
    "start_time": "2022-11-08T08:53:25.609Z"
   },
   {
    "duration": 68,
    "start_time": "2022-11-08T08:53:36.729Z"
   },
   {
    "duration": 69,
    "start_time": "2022-11-08T08:53:42.929Z"
   },
   {
    "duration": 84,
    "start_time": "2022-11-08T08:53:50.997Z"
   },
   {
    "duration": 66,
    "start_time": "2022-11-08T08:54:16.789Z"
   },
   {
    "duration": 74,
    "start_time": "2022-11-08T08:54:33.969Z"
   },
   {
    "duration": 71,
    "start_time": "2022-11-08T08:54:41.768Z"
   },
   {
    "duration": 602,
    "start_time": "2022-11-08T10:11:38.967Z"
   },
   {
    "duration": 4,
    "start_time": "2022-11-08T10:12:10.406Z"
   },
   {
    "duration": 74,
    "start_time": "2022-11-08T10:13:26.859Z"
   },
   {
    "duration": 73,
    "start_time": "2022-11-08T10:13:34.739Z"
   },
   {
    "duration": 4,
    "start_time": "2022-11-08T10:15:18.836Z"
   },
   {
    "duration": 4,
    "start_time": "2022-11-08T10:15:23.455Z"
   },
   {
    "duration": 4215,
    "start_time": "2022-11-08T10:17:44.131Z"
   },
   {
    "duration": 6,
    "start_time": "2022-11-08T10:17:48.347Z"
   },
   {
    "duration": 4,
    "start_time": "2022-11-08T10:18:49.644Z"
   },
   {
    "duration": 3981,
    "start_time": "2022-11-08T11:12:14.822Z"
   },
   {
    "duration": 6,
    "start_time": "2022-11-08T11:12:19.961Z"
   },
   {
    "duration": 45,
    "start_time": "2022-11-08T11:30:52.412Z"
   },
   {
    "duration": 18,
    "start_time": "2022-11-08T11:31:15.901Z"
   },
   {
    "duration": 14,
    "start_time": "2022-11-08T11:31:41.989Z"
   },
   {
    "duration": 21,
    "start_time": "2022-11-08T11:32:17.588Z"
   },
   {
    "duration": 126,
    "start_time": "2022-11-08T11:38:03.334Z"
   },
   {
    "duration": 129,
    "start_time": "2022-11-08T11:38:25.431Z"
   },
   {
    "duration": 140,
    "start_time": "2022-11-08T11:38:32.803Z"
   },
   {
    "duration": 279,
    "start_time": "2022-11-08T11:39:09.622Z"
   },
   {
    "duration": 26,
    "start_time": "2022-11-08T11:39:16.896Z"
   },
   {
    "duration": 24,
    "start_time": "2022-11-08T11:39:54.671Z"
   },
   {
    "duration": 84,
    "start_time": "2022-11-08T11:40:23.765Z"
   },
   {
    "duration": 488,
    "start_time": "2022-11-08T12:04:34.448Z"
   },
   {
    "duration": 7,
    "start_time": "2022-11-08T12:04:35.428Z"
   },
   {
    "duration": 425,
    "start_time": "2022-11-08T12:05:17.641Z"
   },
   {
    "duration": 98,
    "start_time": "2022-11-08T12:05:18.137Z"
   },
   {
    "duration": 534,
    "start_time": "2022-11-08T12:05:25.301Z"
   },
   {
    "duration": 7,
    "start_time": "2022-11-08T12:05:25.959Z"
   },
   {
    "duration": 494,
    "start_time": "2022-11-08T12:05:29.141Z"
   },
   {
    "duration": 98,
    "start_time": "2022-11-08T12:05:29.640Z"
   },
   {
    "duration": 520,
    "start_time": "2022-11-08T12:05:35.415Z"
   },
   {
    "duration": 99,
    "start_time": "2022-11-08T12:05:35.937Z"
   },
   {
    "duration": 6,
    "start_time": "2022-11-08T12:08:35.140Z"
   },
   {
    "duration": 7,
    "start_time": "2022-11-08T12:08:35.881Z"
   },
   {
    "duration": 1474,
    "start_time": "2022-11-08T12:42:14.131Z"
   },
   {
    "duration": 99,
    "start_time": "2022-11-08T12:42:15.607Z"
   },
   {
    "duration": 113,
    "start_time": "2022-11-08T12:42:15.707Z"
   },
   {
    "duration": 430,
    "start_time": "2022-11-08T12:42:15.834Z"
   },
   {
    "duration": 100,
    "start_time": "2022-11-08T12:42:16.335Z"
   },
   {
    "duration": 10,
    "start_time": "2022-11-08T12:42:16.437Z"
   },
   {
    "duration": 8,
    "start_time": "2022-11-08T12:42:16.449Z"
   },
   {
    "duration": 8,
    "start_time": "2022-11-08T12:42:16.459Z"
   },
   {
    "duration": 3986,
    "start_time": "2022-11-08T12:42:16.468Z"
   },
   {
    "duration": 6,
    "start_time": "2022-11-08T12:42:20.457Z"
   },
   {
    "duration": 7808,
    "start_time": "2022-11-08T13:29:01.753Z"
   },
   {
    "duration": 110,
    "start_time": "2022-11-08T13:29:09.563Z"
   },
   {
    "duration": 129,
    "start_time": "2022-11-08T13:29:09.675Z"
   },
   {
    "duration": 499,
    "start_time": "2022-11-08T13:29:09.820Z"
   },
   {
    "duration": 98,
    "start_time": "2022-11-08T13:29:10.322Z"
   },
   {
    "duration": 9,
    "start_time": "2022-11-08T13:29:10.421Z"
   },
   {
    "duration": 9,
    "start_time": "2022-11-08T13:29:10.432Z"
   },
   {
    "duration": 10,
    "start_time": "2022-11-08T13:29:10.443Z"
   },
   {
    "duration": 4594,
    "start_time": "2022-11-08T13:29:10.454Z"
   },
   {
    "duration": 6,
    "start_time": "2022-11-08T13:29:15.050Z"
   },
   {
    "duration": 11,
    "start_time": "2022-11-08T13:29:23.017Z"
   },
   {
    "duration": 6,
    "start_time": "2022-11-08T13:29:27.214Z"
   },
   {
    "duration": 5,
    "start_time": "2022-11-08T13:30:12.574Z"
   },
   {
    "duration": 4600,
    "start_time": "2022-11-08T13:30:12.864Z"
   },
   {
    "duration": 6,
    "start_time": "2022-11-08T13:30:17.467Z"
   },
   {
    "duration": 4505,
    "start_time": "2022-11-08T13:30:27.037Z"
   },
   {
    "duration": 6,
    "start_time": "2022-11-08T13:30:31.544Z"
   },
   {
    "duration": 6,
    "start_time": "2022-11-08T13:30:39.135Z"
   },
   {
    "duration": 4,
    "start_time": "2022-11-08T13:35:37.434Z"
   },
   {
    "duration": 28,
    "start_time": "2022-11-08T13:35:41.465Z"
   },
   {
    "duration": 4418,
    "start_time": "2022-11-08T13:40:48.396Z"
   },
   {
    "duration": 7,
    "start_time": "2022-11-08T13:40:52.817Z"
   },
   {
    "duration": 2664,
    "start_time": "2022-11-09T08:03:53.199Z"
   },
   {
    "duration": 114,
    "start_time": "2022-11-09T08:03:55.865Z"
   },
   {
    "duration": 124,
    "start_time": "2022-11-09T08:03:55.980Z"
   },
   {
    "duration": 113,
    "start_time": "2022-11-09T08:04:33.038Z"
   },
   {
    "duration": 9,
    "start_time": "2022-11-09T08:04:38.807Z"
   },
   {
    "duration": 13863,
    "start_time": "2022-11-09T08:05:05.788Z"
   },
   {
    "duration": 1161,
    "start_time": "2022-11-09T08:05:19.654Z"
   },
   {
    "duration": 10723,
    "start_time": "2022-11-09T08:05:37.009Z"
   },
   {
    "duration": 10223,
    "start_time": "2022-11-09T08:13:10.853Z"
   },
   {
    "duration": 9687,
    "start_time": "2022-11-09T08:13:59.394Z"
   },
   {
    "duration": 11,
    "start_time": "2022-11-09T08:14:57.897Z"
   },
   {
    "duration": 11,
    "start_time": "2022-11-09T08:15:03.141Z"
   },
   {
    "duration": 86,
    "start_time": "2022-11-09T08:15:07.949Z"
   },
   {
    "duration": 157,
    "start_time": "2022-11-09T08:15:47.800Z"
   },
   {
    "duration": 16,
    "start_time": "2022-11-09T08:16:27.676Z"
   },
   {
    "duration": 43,
    "start_time": "2022-11-09T08:16:54.536Z"
   },
   {
    "duration": 13,
    "start_time": "2022-11-09T08:18:17.625Z"
   },
   {
    "duration": 41,
    "start_time": "2022-11-09T08:18:32.967Z"
   },
   {
    "duration": 2795,
    "start_time": "2022-11-09T08:18:41.027Z"
   },
   {
    "duration": 377,
    "start_time": "2022-11-09T08:18:54.304Z"
   },
   {
    "duration": 312,
    "start_time": "2022-11-09T08:19:53.556Z"
   },
   {
    "duration": 399,
    "start_time": "2022-11-09T08:20:06.297Z"
   },
   {
    "duration": 2815,
    "start_time": "2022-11-09T08:21:16.793Z"
   },
   {
    "duration": 420,
    "start_time": "2022-11-09T08:21:48.403Z"
   },
   {
    "duration": 367,
    "start_time": "2022-11-09T08:22:14.864Z"
   },
   {
    "duration": 1046,
    "start_time": "2022-11-09T08:22:35.903Z"
   },
   {
    "duration": 15,
    "start_time": "2022-11-09T08:24:12.335Z"
   },
   {
    "duration": 10306,
    "start_time": "2022-11-09T08:24:17.807Z"
   },
   {
    "duration": 695,
    "start_time": "2022-11-09T08:31:18.825Z"
   },
   {
    "duration": 10,
    "start_time": "2022-11-09T08:31:22.817Z"
   },
   {
    "duration": 7,
    "start_time": "2022-11-09T08:31:28.600Z"
   },
   {
    "duration": 11,
    "start_time": "2022-11-09T08:32:28.446Z"
   },
   {
    "duration": 12,
    "start_time": "2022-11-09T08:33:14.327Z"
   },
   {
    "duration": 10,
    "start_time": "2022-11-09T08:33:20.016Z"
   },
   {
    "duration": 10,
    "start_time": "2022-11-09T08:33:42.659Z"
   },
   {
    "duration": 78,
    "start_time": "2022-11-09T08:34:36.910Z"
   },
   {
    "duration": 45,
    "start_time": "2022-11-09T08:34:41.095Z"
   },
   {
    "duration": 4,
    "start_time": "2022-11-09T08:39:57.612Z"
   },
   {
    "duration": 5,
    "start_time": "2022-11-09T08:52:09.395Z"
   },
   {
    "duration": 4,
    "start_time": "2022-11-09T08:53:23.080Z"
   },
   {
    "duration": 6,
    "start_time": "2022-11-09T08:55:18.976Z"
   },
   {
    "duration": 7,
    "start_time": "2022-11-09T08:56:18.268Z"
   },
   {
    "duration": 47,
    "start_time": "2022-11-09T08:56:32.669Z"
   },
   {
    "duration": 47,
    "start_time": "2022-11-09T08:56:40.919Z"
   },
   {
    "duration": 56,
    "start_time": "2022-11-09T08:56:44.569Z"
   },
   {
    "duration": 56,
    "start_time": "2022-11-09T08:56:48.372Z"
   },
   {
    "duration": 7,
    "start_time": "2022-11-09T08:57:02.016Z"
   },
   {
    "duration": 2744,
    "start_time": "2022-11-09T09:48:45.499Z"
   },
   {
    "duration": 106,
    "start_time": "2022-11-09T09:48:48.246Z"
   },
   {
    "duration": 108,
    "start_time": "2022-11-09T09:48:48.353Z"
   },
   {
    "duration": 1073,
    "start_time": "2022-11-09T09:48:48.463Z"
   },
   {
    "duration": 47,
    "start_time": "2022-11-09T09:54:08.371Z"
   },
   {
    "duration": 17,
    "start_time": "2022-11-09T09:54:31.891Z"
   },
   {
    "duration": 47,
    "start_time": "2022-11-09T09:54:53.051Z"
   },
   {
    "duration": 23,
    "start_time": "2022-11-09T09:55:38.241Z"
   },
   {
    "duration": 243,
    "start_time": "2022-11-09T09:56:12.444Z"
   },
   {
    "duration": 113,
    "start_time": "2022-11-09T09:56:21.119Z"
   },
   {
    "duration": 9,
    "start_time": "2022-11-09T09:56:28.907Z"
   },
   {
    "duration": 7,
    "start_time": "2022-11-09T09:56:35.885Z"
   },
   {
    "duration": 10,
    "start_time": "2022-11-09T09:57:26.559Z"
   },
   {
    "duration": 128,
    "start_time": "2022-11-09T09:57:33.645Z"
   },
   {
    "duration": 9,
    "start_time": "2022-11-09T09:57:34.644Z"
   },
   {
    "duration": 7,
    "start_time": "2022-11-09T10:14:39.144Z"
   },
   {
    "duration": 48,
    "start_time": "2022-11-09T10:15:35.647Z"
   },
   {
    "duration": 7,
    "start_time": "2022-11-09T10:16:00.226Z"
   },
   {
    "duration": 4,
    "start_time": "2022-11-09T10:16:06.686Z"
   },
   {
    "duration": 6,
    "start_time": "2022-11-09T10:16:23.666Z"
   },
   {
    "duration": 57,
    "start_time": "2022-11-09T10:16:54.244Z"
   },
   {
    "duration": 4,
    "start_time": "2022-11-09T10:17:07.805Z"
   },
   {
    "duration": 4,
    "start_time": "2022-11-09T10:17:36.027Z"
   },
   {
    "duration": 4581,
    "start_time": "2022-11-09T10:17:52.287Z"
   },
   {
    "duration": 5,
    "start_time": "2022-11-09T10:18:35.046Z"
   },
   {
    "duration": 5,
    "start_time": "2022-11-09T10:19:16.144Z"
   },
   {
    "duration": 5,
    "start_time": "2022-11-09T10:19:35.367Z"
   },
   {
    "duration": 57,
    "start_time": "2022-11-09T10:20:06.226Z"
   },
   {
    "duration": 260,
    "start_time": "2022-11-09T10:20:17.424Z"
   },
   {
    "duration": 5,
    "start_time": "2022-11-09T10:20:29.107Z"
   },
   {
    "duration": 3,
    "start_time": "2022-11-09T10:20:34.965Z"
   },
   {
    "duration": 6,
    "start_time": "2022-11-09T10:24:18.574Z"
   },
   {
    "duration": 4,
    "start_time": "2022-11-09T10:24:48.439Z"
   },
   {
    "duration": 5,
    "start_time": "2022-11-09T10:24:58.028Z"
   },
   {
    "duration": 5,
    "start_time": "2022-11-09T10:25:01.927Z"
   },
   {
    "duration": 6,
    "start_time": "2022-11-09T10:25:05.850Z"
   },
   {
    "duration": 4594,
    "start_time": "2022-11-09T10:26:12.247Z"
   },
   {
    "duration": 4,
    "start_time": "2022-11-09T10:40:01.652Z"
   },
   {
    "duration": 48,
    "start_time": "2022-11-09T10:40:20.273Z"
   },
   {
    "duration": 6,
    "start_time": "2022-11-09T10:40:23.078Z"
   },
   {
    "duration": 4,
    "start_time": "2022-11-09T10:40:40.252Z"
   },
   {
    "duration": 5,
    "start_time": "2022-11-09T10:40:44.852Z"
   },
   {
    "duration": 75,
    "start_time": "2022-11-09T10:40:54.200Z"
   },
   {
    "duration": 62,
    "start_time": "2022-11-09T10:40:57.992Z"
   },
   {
    "duration": 4,
    "start_time": "2022-11-09T10:41:20.233Z"
   },
   {
    "duration": 5,
    "start_time": "2022-11-09T10:41:28.893Z"
   },
   {
    "duration": 4,
    "start_time": "2022-11-09T10:41:49.673Z"
   },
   {
    "duration": 57,
    "start_time": "2022-11-09T10:42:26.052Z"
   },
   {
    "duration": 72,
    "start_time": "2022-11-09T10:42:51.632Z"
   },
   {
    "duration": 47,
    "start_time": "2022-11-09T10:43:14.713Z"
   },
   {
    "duration": 54,
    "start_time": "2022-11-09T10:43:27.413Z"
   },
   {
    "duration": 4,
    "start_time": "2022-11-09T10:43:35.892Z"
   },
   {
    "duration": 51,
    "start_time": "2022-11-09T10:43:42.393Z"
   },
   {
    "duration": 5,
    "start_time": "2022-11-09T10:43:47.613Z"
   },
   {
    "duration": 17,
    "start_time": "2022-11-09T10:44:07.154Z"
   },
   {
    "duration": 4623,
    "start_time": "2022-11-09T10:44:25.194Z"
   },
   {
    "duration": 5,
    "start_time": "2022-11-09T10:44:45.646Z"
   },
   {
    "duration": 53,
    "start_time": "2022-11-09T10:45:38.982Z"
   },
   {
    "duration": 6,
    "start_time": "2022-11-09T10:45:49.173Z"
   },
   {
    "duration": 7,
    "start_time": "2022-11-09T10:46:47.533Z"
   },
   {
    "duration": 6,
    "start_time": "2022-11-09T10:47:03.635Z"
   },
   {
    "duration": 8,
    "start_time": "2022-11-09T10:50:48.223Z"
   },
   {
    "duration": 4020,
    "start_time": "2022-11-09T10:53:06.522Z"
   },
   {
    "duration": 109,
    "start_time": "2022-11-09T10:53:10.544Z"
   },
   {
    "duration": 120,
    "start_time": "2022-11-09T10:53:10.655Z"
   },
   {
    "duration": 1081,
    "start_time": "2022-11-09T10:53:10.776Z"
   },
   {
    "duration": 318,
    "start_time": "2022-11-09T10:53:11.860Z"
   },
   {
    "duration": 7,
    "start_time": "2022-11-09T10:53:12.180Z"
   },
   {
    "duration": 11,
    "start_time": "2022-11-09T10:53:12.188Z"
   },
   {
    "duration": 6,
    "start_time": "2022-11-09T10:53:12.220Z"
   },
   {
    "duration": 5,
    "start_time": "2022-11-09T10:53:12.228Z"
   },
   {
    "duration": 4848,
    "start_time": "2022-11-09T10:53:18.530Z"
   },
   {
    "duration": 158,
    "start_time": "2022-11-09T10:53:23.380Z"
   },
   {
    "duration": 126,
    "start_time": "2022-11-09T10:53:23.540Z"
   },
   {
    "duration": 1212,
    "start_time": "2022-11-09T10:53:23.668Z"
   },
   {
    "duration": 303,
    "start_time": "2022-11-09T10:53:24.883Z"
   },
   {
    "duration": 8,
    "start_time": "2022-11-09T10:53:25.188Z"
   },
   {
    "duration": 27,
    "start_time": "2022-11-09T10:53:25.198Z"
   },
   {
    "duration": 8,
    "start_time": "2022-11-09T10:53:25.227Z"
   },
   {
    "duration": 8,
    "start_time": "2022-11-09T10:53:25.236Z"
   },
   {
    "duration": 4311,
    "start_time": "2022-11-09T10:53:25.246Z"
   },
   {
    "duration": 5,
    "start_time": "2022-11-09T10:53:29.559Z"
   }
  ],
  "kernelspec": {
   "display_name": "Python 3 (ipykernel)",
   "language": "python",
   "name": "python3"
  },
  "language_info": {
   "codemirror_mode": {
    "name": "ipython",
    "version": 3
   },
   "file_extension": ".py",
   "mimetype": "text/x-python",
   "name": "python",
   "nbconvert_exporter": "python",
   "pygments_lexer": "ipython3",
   "version": "3.9.13"
  },
  "toc": {
   "base_numbering": 1,
   "nav_menu": {},
   "number_sections": true,
   "sideBar": true,
   "skip_h1_title": true,
   "title_cell": "Table of Contents",
   "title_sidebar": "Contents",
   "toc_cell": false,
   "toc_position": {},
   "toc_section_display": true,
   "toc_window_display": false
  }
 },
 "nbformat": 4,
 "nbformat_minor": 4
}
