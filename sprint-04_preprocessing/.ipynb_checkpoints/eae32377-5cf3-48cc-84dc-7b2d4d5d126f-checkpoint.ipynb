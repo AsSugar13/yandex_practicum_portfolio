{
 "cells": [
  {
   "cell_type": "markdown",
   "id": "46c8479f",
   "metadata": {},
   "source": [
    "<div style=\"border:solid green 3px; padding: 20px\">\n",
    "\n",
    "<b>Привет!</b>\n",
    "\n",
    "Меня зовут Сороколетов Илья и я буду проверять твой проект. \n",
    "\n",
    "Предлагаю общаться на «**ты**», но если тебе будет комфортнее общаться на «**вы**», то сообщи об этом в комментариях)\n",
    "\n",
    "\n",
    "Для твоего удобства, я буду выделять свои комментарии следующим образом:\n",
    "\n",
    "<div class=\"alert alert-danger\">\n",
    "<b>❌ Комментарий ревьюера v1:</b> Самые важные замечания. Они указывают на ключевые моменты, которые влияют на конечный результат проекта. </div>\n",
    "\n",
    "<div class=\"alert alert-warning\">\n",
    "<b>⚠️ Комментарий ревьюера v1:</b> Советы или замечания, которые помогут сделать твою работу лучше, но необязательны к выполнению.\n",
    "\n",
    "</div>\n",
    "\n",
    "<div class=\"alert alert-success\">\n",
    "<b>✔️ Комментарий ревьюера v1:</b> Так я выделяю все остальные комментарии.</div>\n",
    "\n",
    "\n",
    "Пометками <b>v1-v2-v3-...</b> я буду отмечать версию проверки. Так ты сможешь быстро найти мои новые комментарии.\n",
    "\n",
    "Давай работать над проектом в диалоге: если ты что-то меняешь в проекте по моим рекомендациям — пиши об этом. Выбери для своих комментариев какой-то заметный цвет, так мне будет легче отследить изменения, например вот так:\n",
    "    \n",
    "<div class=\"alert alert-info\">\n",
    "<b>Комментарий студента:</b>\n",
    "<br>\n",
    "</div>\n",
    "\n",
    "<b>Пожалуйста, не перемещай, не изменяй и не удаляй мои комментарии.</b> Если ты оставляешь свои комментарии, то делай это под моими, чтобы сообщения были расположены в хронологическом порядке. Всё это поможет выполнить повторную проверку твоего проекта быстрее. \n",
    "\n",
    "\n",
    "Перед отправкой работы я рекомендую нажимать Kernel -> Restart & Run All. Это перезапустит ядро и по очереди выполнит все ячейки. Так ты сможешь проверить, что всё работает корректно. Кнопка Kernel находится в панели сверху\n",
    "\n",
    "Обязательно задавай вопросы если они возникнут, а я перехожу к проверке)\n",
    "\n",
    "P.S. На всякий случай, я оставлю пустой шаблон для твоих комментариев ниже. Кликни два раза на мой комментарий, скопируй последние четыре строчки кода и вставляй их в пустую ячейку там, где ты хочешь оставить комментарий. Не забудь только перед этим сменить тип ячейки на Markdown. Быстро это можно сделать так: кликнуть на ячейку - нажать ESC - нажать M. \n",
    "    \n",
    "    \n",
    "<div class=\"alert alert-info\">\n",
    "<b>Комментарий студента:</b>\n",
    "<br>Место для твоего комментария\n",
    "</div>"
   ]
  },
  {
   "cell_type": "markdown",
   "id": "c81daeeb",
   "metadata": {
    "deletable": false,
    "id": "c81daeeb"
   },
   "source": [
    "# Исследование надежности заемщиков\n"
   ]
  },
  {
   "cell_type": "markdown",
   "id": "827c20bf",
   "metadata": {
    "id": "827c20bf"
   },
   "source": [
    "Во второй части проекта вы выполните шаги 3 и 4. Их вручную проверит ревьюер.\n",
    "Чтобы вам не пришлось писать код заново для шагов 1 и 2, мы добавили авторские решения в ячейки с кодом. \n",
    "\n"
   ]
  },
  {
   "cell_type": "markdown",
   "id": "744d7639",
   "metadata": {
    "deletable": false,
    "id": "744d7639"
   },
   "source": [
    "## Откройте таблицу и изучите общую информацию о данных"
   ]
  },
  {
   "cell_type": "markdown",
   "id": "e7a14c31",
   "metadata": {
    "deletable": false,
    "id": "e7a14c31"
   },
   "source": [
    "**Задание 1. Импортируйте библиотеку pandas. Считайте данные из csv-файла в датафрейм и сохраните в переменную `data`. Путь к файлу:**\n",
    "\n",
    "`/datasets/data.csv`"
   ]
  },
  {
   "cell_type": "code",
   "execution_count": 1,
   "id": "7bcf75c9",
   "metadata": {
    "deletable": false,
    "id": "7bcf75c9"
   },
   "outputs": [],
   "source": [
    "import pandas as pd\n",
    "\n",
    "try:\n",
    "    data = pd.read_csv('/datasets/data.csv')\n",
    "except:\n",
    "    data = pd.read_csv('https://code.s3.yandex.net/datasets/data.csv')"
   ]
  },
  {
   "cell_type": "markdown",
   "id": "b8038fe3",
   "metadata": {
    "deletable": false,
    "id": "b8038fe3"
   },
   "source": [
    "**Задание 2. Выведите первые 20 строчек датафрейма `data` на экран.**"
   ]
  },
  {
   "cell_type": "code",
   "execution_count": 2,
   "id": "2a7cab99",
   "metadata": {
    "deletable": false,
    "id": "2a7cab99",
    "outputId": "1a8f3ef2-d323-4ec2-ddf7-89670b5944c4"
   },
   "outputs": [
    {
     "data": {
      "text/html": [
       "<div>\n",
       "<style scoped>\n",
       "    .dataframe tbody tr th:only-of-type {\n",
       "        vertical-align: middle;\n",
       "    }\n",
       "\n",
       "    .dataframe tbody tr th {\n",
       "        vertical-align: top;\n",
       "    }\n",
       "\n",
       "    .dataframe thead th {\n",
       "        text-align: right;\n",
       "    }\n",
       "</style>\n",
       "<table border=\"1\" class=\"dataframe\">\n",
       "  <thead>\n",
       "    <tr style=\"text-align: right;\">\n",
       "      <th></th>\n",
       "      <th>children</th>\n",
       "      <th>days_employed</th>\n",
       "      <th>dob_years</th>\n",
       "      <th>education</th>\n",
       "      <th>education_id</th>\n",
       "      <th>family_status</th>\n",
       "      <th>family_status_id</th>\n",
       "      <th>gender</th>\n",
       "      <th>income_type</th>\n",
       "      <th>debt</th>\n",
       "      <th>total_income</th>\n",
       "      <th>purpose</th>\n",
       "    </tr>\n",
       "  </thead>\n",
       "  <tbody>\n",
       "    <tr>\n",
       "      <th>0</th>\n",
       "      <td>1</td>\n",
       "      <td>-8437.673028</td>\n",
       "      <td>42</td>\n",
       "      <td>высшее</td>\n",
       "      <td>0</td>\n",
       "      <td>женат / замужем</td>\n",
       "      <td>0</td>\n",
       "      <td>F</td>\n",
       "      <td>сотрудник</td>\n",
       "      <td>0</td>\n",
       "      <td>253875.639453</td>\n",
       "      <td>покупка жилья</td>\n",
       "    </tr>\n",
       "    <tr>\n",
       "      <th>1</th>\n",
       "      <td>1</td>\n",
       "      <td>-4024.803754</td>\n",
       "      <td>36</td>\n",
       "      <td>среднее</td>\n",
       "      <td>1</td>\n",
       "      <td>женат / замужем</td>\n",
       "      <td>0</td>\n",
       "      <td>F</td>\n",
       "      <td>сотрудник</td>\n",
       "      <td>0</td>\n",
       "      <td>112080.014102</td>\n",
       "      <td>приобретение автомобиля</td>\n",
       "    </tr>\n",
       "    <tr>\n",
       "      <th>2</th>\n",
       "      <td>0</td>\n",
       "      <td>-5623.422610</td>\n",
       "      <td>33</td>\n",
       "      <td>Среднее</td>\n",
       "      <td>1</td>\n",
       "      <td>женат / замужем</td>\n",
       "      <td>0</td>\n",
       "      <td>M</td>\n",
       "      <td>сотрудник</td>\n",
       "      <td>0</td>\n",
       "      <td>145885.952297</td>\n",
       "      <td>покупка жилья</td>\n",
       "    </tr>\n",
       "    <tr>\n",
       "      <th>3</th>\n",
       "      <td>3</td>\n",
       "      <td>-4124.747207</td>\n",
       "      <td>32</td>\n",
       "      <td>среднее</td>\n",
       "      <td>1</td>\n",
       "      <td>женат / замужем</td>\n",
       "      <td>0</td>\n",
       "      <td>M</td>\n",
       "      <td>сотрудник</td>\n",
       "      <td>0</td>\n",
       "      <td>267628.550329</td>\n",
       "      <td>дополнительное образование</td>\n",
       "    </tr>\n",
       "    <tr>\n",
       "      <th>4</th>\n",
       "      <td>0</td>\n",
       "      <td>340266.072047</td>\n",
       "      <td>53</td>\n",
       "      <td>среднее</td>\n",
       "      <td>1</td>\n",
       "      <td>гражданский брак</td>\n",
       "      <td>1</td>\n",
       "      <td>F</td>\n",
       "      <td>пенсионер</td>\n",
       "      <td>0</td>\n",
       "      <td>158616.077870</td>\n",
       "      <td>сыграть свадьбу</td>\n",
       "    </tr>\n",
       "    <tr>\n",
       "      <th>5</th>\n",
       "      <td>0</td>\n",
       "      <td>-926.185831</td>\n",
       "      <td>27</td>\n",
       "      <td>высшее</td>\n",
       "      <td>0</td>\n",
       "      <td>гражданский брак</td>\n",
       "      <td>1</td>\n",
       "      <td>M</td>\n",
       "      <td>компаньон</td>\n",
       "      <td>0</td>\n",
       "      <td>255763.565419</td>\n",
       "      <td>покупка жилья</td>\n",
       "    </tr>\n",
       "    <tr>\n",
       "      <th>6</th>\n",
       "      <td>0</td>\n",
       "      <td>-2879.202052</td>\n",
       "      <td>43</td>\n",
       "      <td>высшее</td>\n",
       "      <td>0</td>\n",
       "      <td>женат / замужем</td>\n",
       "      <td>0</td>\n",
       "      <td>F</td>\n",
       "      <td>компаньон</td>\n",
       "      <td>0</td>\n",
       "      <td>240525.971920</td>\n",
       "      <td>операции с жильем</td>\n",
       "    </tr>\n",
       "    <tr>\n",
       "      <th>7</th>\n",
       "      <td>0</td>\n",
       "      <td>-152.779569</td>\n",
       "      <td>50</td>\n",
       "      <td>СРЕДНЕЕ</td>\n",
       "      <td>1</td>\n",
       "      <td>женат / замужем</td>\n",
       "      <td>0</td>\n",
       "      <td>M</td>\n",
       "      <td>сотрудник</td>\n",
       "      <td>0</td>\n",
       "      <td>135823.934197</td>\n",
       "      <td>образование</td>\n",
       "    </tr>\n",
       "    <tr>\n",
       "      <th>8</th>\n",
       "      <td>2</td>\n",
       "      <td>-6929.865299</td>\n",
       "      <td>35</td>\n",
       "      <td>ВЫСШЕЕ</td>\n",
       "      <td>0</td>\n",
       "      <td>гражданский брак</td>\n",
       "      <td>1</td>\n",
       "      <td>F</td>\n",
       "      <td>сотрудник</td>\n",
       "      <td>0</td>\n",
       "      <td>95856.832424</td>\n",
       "      <td>на проведение свадьбы</td>\n",
       "    </tr>\n",
       "    <tr>\n",
       "      <th>9</th>\n",
       "      <td>0</td>\n",
       "      <td>-2188.756445</td>\n",
       "      <td>41</td>\n",
       "      <td>среднее</td>\n",
       "      <td>1</td>\n",
       "      <td>женат / замужем</td>\n",
       "      <td>0</td>\n",
       "      <td>M</td>\n",
       "      <td>сотрудник</td>\n",
       "      <td>0</td>\n",
       "      <td>144425.938277</td>\n",
       "      <td>покупка жилья для семьи</td>\n",
       "    </tr>\n",
       "    <tr>\n",
       "      <th>10</th>\n",
       "      <td>2</td>\n",
       "      <td>-4171.483647</td>\n",
       "      <td>36</td>\n",
       "      <td>высшее</td>\n",
       "      <td>0</td>\n",
       "      <td>женат / замужем</td>\n",
       "      <td>0</td>\n",
       "      <td>M</td>\n",
       "      <td>компаньон</td>\n",
       "      <td>0</td>\n",
       "      <td>113943.491460</td>\n",
       "      <td>покупка недвижимости</td>\n",
       "    </tr>\n",
       "    <tr>\n",
       "      <th>11</th>\n",
       "      <td>0</td>\n",
       "      <td>-792.701887</td>\n",
       "      <td>40</td>\n",
       "      <td>среднее</td>\n",
       "      <td>1</td>\n",
       "      <td>женат / замужем</td>\n",
       "      <td>0</td>\n",
       "      <td>F</td>\n",
       "      <td>сотрудник</td>\n",
       "      <td>0</td>\n",
       "      <td>77069.234271</td>\n",
       "      <td>покупка коммерческой недвижимости</td>\n",
       "    </tr>\n",
       "    <tr>\n",
       "      <th>12</th>\n",
       "      <td>0</td>\n",
       "      <td>NaN</td>\n",
       "      <td>65</td>\n",
       "      <td>среднее</td>\n",
       "      <td>1</td>\n",
       "      <td>гражданский брак</td>\n",
       "      <td>1</td>\n",
       "      <td>M</td>\n",
       "      <td>пенсионер</td>\n",
       "      <td>0</td>\n",
       "      <td>NaN</td>\n",
       "      <td>сыграть свадьбу</td>\n",
       "    </tr>\n",
       "    <tr>\n",
       "      <th>13</th>\n",
       "      <td>0</td>\n",
       "      <td>-1846.641941</td>\n",
       "      <td>54</td>\n",
       "      <td>неоконченное высшее</td>\n",
       "      <td>2</td>\n",
       "      <td>женат / замужем</td>\n",
       "      <td>0</td>\n",
       "      <td>F</td>\n",
       "      <td>сотрудник</td>\n",
       "      <td>0</td>\n",
       "      <td>130458.228857</td>\n",
       "      <td>приобретение автомобиля</td>\n",
       "    </tr>\n",
       "    <tr>\n",
       "      <th>14</th>\n",
       "      <td>0</td>\n",
       "      <td>-1844.956182</td>\n",
       "      <td>56</td>\n",
       "      <td>высшее</td>\n",
       "      <td>0</td>\n",
       "      <td>гражданский брак</td>\n",
       "      <td>1</td>\n",
       "      <td>F</td>\n",
       "      <td>компаньон</td>\n",
       "      <td>1</td>\n",
       "      <td>165127.911772</td>\n",
       "      <td>покупка жилой недвижимости</td>\n",
       "    </tr>\n",
       "    <tr>\n",
       "      <th>15</th>\n",
       "      <td>1</td>\n",
       "      <td>-972.364419</td>\n",
       "      <td>26</td>\n",
       "      <td>среднее</td>\n",
       "      <td>1</td>\n",
       "      <td>женат / замужем</td>\n",
       "      <td>0</td>\n",
       "      <td>F</td>\n",
       "      <td>сотрудник</td>\n",
       "      <td>0</td>\n",
       "      <td>116820.904450</td>\n",
       "      <td>строительство собственной недвижимости</td>\n",
       "    </tr>\n",
       "    <tr>\n",
       "      <th>16</th>\n",
       "      <td>0</td>\n",
       "      <td>-1719.934226</td>\n",
       "      <td>35</td>\n",
       "      <td>среднее</td>\n",
       "      <td>1</td>\n",
       "      <td>женат / замужем</td>\n",
       "      <td>0</td>\n",
       "      <td>F</td>\n",
       "      <td>сотрудник</td>\n",
       "      <td>0</td>\n",
       "      <td>289202.704229</td>\n",
       "      <td>недвижимость</td>\n",
       "    </tr>\n",
       "    <tr>\n",
       "      <th>17</th>\n",
       "      <td>0</td>\n",
       "      <td>-2369.999720</td>\n",
       "      <td>33</td>\n",
       "      <td>высшее</td>\n",
       "      <td>0</td>\n",
       "      <td>гражданский брак</td>\n",
       "      <td>1</td>\n",
       "      <td>M</td>\n",
       "      <td>сотрудник</td>\n",
       "      <td>0</td>\n",
       "      <td>90410.586745</td>\n",
       "      <td>строительство недвижимости</td>\n",
       "    </tr>\n",
       "    <tr>\n",
       "      <th>18</th>\n",
       "      <td>0</td>\n",
       "      <td>400281.136913</td>\n",
       "      <td>53</td>\n",
       "      <td>среднее</td>\n",
       "      <td>1</td>\n",
       "      <td>вдовец / вдова</td>\n",
       "      <td>2</td>\n",
       "      <td>F</td>\n",
       "      <td>пенсионер</td>\n",
       "      <td>0</td>\n",
       "      <td>56823.777243</td>\n",
       "      <td>на покупку подержанного автомобиля</td>\n",
       "    </tr>\n",
       "    <tr>\n",
       "      <th>19</th>\n",
       "      <td>0</td>\n",
       "      <td>-10038.818549</td>\n",
       "      <td>48</td>\n",
       "      <td>СРЕДНЕЕ</td>\n",
       "      <td>1</td>\n",
       "      <td>в разводе</td>\n",
       "      <td>3</td>\n",
       "      <td>F</td>\n",
       "      <td>сотрудник</td>\n",
       "      <td>0</td>\n",
       "      <td>242831.107982</td>\n",
       "      <td>на покупку своего автомобиля</td>\n",
       "    </tr>\n",
       "  </tbody>\n",
       "</table>\n",
       "</div>"
      ],
      "text/plain": [
       "    children  days_employed  dob_years            education  education_id  \\\n",
       "0          1   -8437.673028         42               высшее             0   \n",
       "1          1   -4024.803754         36              среднее             1   \n",
       "2          0   -5623.422610         33              Среднее             1   \n",
       "3          3   -4124.747207         32              среднее             1   \n",
       "4          0  340266.072047         53              среднее             1   \n",
       "5          0    -926.185831         27               высшее             0   \n",
       "6          0   -2879.202052         43               высшее             0   \n",
       "7          0    -152.779569         50              СРЕДНЕЕ             1   \n",
       "8          2   -6929.865299         35               ВЫСШЕЕ             0   \n",
       "9          0   -2188.756445         41              среднее             1   \n",
       "10         2   -4171.483647         36               высшее             0   \n",
       "11         0    -792.701887         40              среднее             1   \n",
       "12         0            NaN         65              среднее             1   \n",
       "13         0   -1846.641941         54  неоконченное высшее             2   \n",
       "14         0   -1844.956182         56               высшее             0   \n",
       "15         1    -972.364419         26              среднее             1   \n",
       "16         0   -1719.934226         35              среднее             1   \n",
       "17         0   -2369.999720         33               высшее             0   \n",
       "18         0  400281.136913         53              среднее             1   \n",
       "19         0  -10038.818549         48              СРЕДНЕЕ             1   \n",
       "\n",
       "       family_status  family_status_id gender income_type  debt  \\\n",
       "0    женат / замужем                 0      F   сотрудник     0   \n",
       "1    женат / замужем                 0      F   сотрудник     0   \n",
       "2    женат / замужем                 0      M   сотрудник     0   \n",
       "3    женат / замужем                 0      M   сотрудник     0   \n",
       "4   гражданский брак                 1      F   пенсионер     0   \n",
       "5   гражданский брак                 1      M   компаньон     0   \n",
       "6    женат / замужем                 0      F   компаньон     0   \n",
       "7    женат / замужем                 0      M   сотрудник     0   \n",
       "8   гражданский брак                 1      F   сотрудник     0   \n",
       "9    женат / замужем                 0      M   сотрудник     0   \n",
       "10   женат / замужем                 0      M   компаньон     0   \n",
       "11   женат / замужем                 0      F   сотрудник     0   \n",
       "12  гражданский брак                 1      M   пенсионер     0   \n",
       "13   женат / замужем                 0      F   сотрудник     0   \n",
       "14  гражданский брак                 1      F   компаньон     1   \n",
       "15   женат / замужем                 0      F   сотрудник     0   \n",
       "16   женат / замужем                 0      F   сотрудник     0   \n",
       "17  гражданский брак                 1      M   сотрудник     0   \n",
       "18    вдовец / вдова                 2      F   пенсионер     0   \n",
       "19         в разводе                 3      F   сотрудник     0   \n",
       "\n",
       "     total_income                                 purpose  \n",
       "0   253875.639453                           покупка жилья  \n",
       "1   112080.014102                 приобретение автомобиля  \n",
       "2   145885.952297                           покупка жилья  \n",
       "3   267628.550329              дополнительное образование  \n",
       "4   158616.077870                         сыграть свадьбу  \n",
       "5   255763.565419                           покупка жилья  \n",
       "6   240525.971920                       операции с жильем  \n",
       "7   135823.934197                             образование  \n",
       "8    95856.832424                   на проведение свадьбы  \n",
       "9   144425.938277                 покупка жилья для семьи  \n",
       "10  113943.491460                    покупка недвижимости  \n",
       "11   77069.234271       покупка коммерческой недвижимости  \n",
       "12            NaN                         сыграть свадьбу  \n",
       "13  130458.228857                 приобретение автомобиля  \n",
       "14  165127.911772              покупка жилой недвижимости  \n",
       "15  116820.904450  строительство собственной недвижимости  \n",
       "16  289202.704229                            недвижимость  \n",
       "17   90410.586745              строительство недвижимости  \n",
       "18   56823.777243      на покупку подержанного автомобиля  \n",
       "19  242831.107982            на покупку своего автомобиля  "
      ]
     },
     "execution_count": 2,
     "metadata": {},
     "output_type": "execute_result"
    }
   ],
   "source": [
    "data.head(20)"
   ]
  },
  {
   "cell_type": "markdown",
   "id": "1c12e233",
   "metadata": {
    "deletable": false,
    "id": "1c12e233"
   },
   "source": [
    "**Задание 3. Выведите основную информацию о датафрейме с помощью метода `info()`.**"
   ]
  },
  {
   "cell_type": "code",
   "execution_count": 3,
   "id": "2b757bca",
   "metadata": {
    "deletable": false,
    "id": "2b757bca",
    "outputId": "15376089-8dad-46c9-b520-c05248d43158"
   },
   "outputs": [
    {
     "name": "stdout",
     "output_type": "stream",
     "text": [
      "<class 'pandas.core.frame.DataFrame'>\n",
      "RangeIndex: 21525 entries, 0 to 21524\n",
      "Data columns (total 12 columns):\n",
      " #   Column            Non-Null Count  Dtype  \n",
      "---  ------            --------------  -----  \n",
      " 0   children          21525 non-null  int64  \n",
      " 1   days_employed     19351 non-null  float64\n",
      " 2   dob_years         21525 non-null  int64  \n",
      " 3   education         21525 non-null  object \n",
      " 4   education_id      21525 non-null  int64  \n",
      " 5   family_status     21525 non-null  object \n",
      " 6   family_status_id  21525 non-null  int64  \n",
      " 7   gender            21525 non-null  object \n",
      " 8   income_type       21525 non-null  object \n",
      " 9   debt              21525 non-null  int64  \n",
      " 10  total_income      19351 non-null  float64\n",
      " 11  purpose           21525 non-null  object \n",
      "dtypes: float64(2), int64(5), object(5)\n",
      "memory usage: 2.0+ MB\n"
     ]
    }
   ],
   "source": [
    "data.info()"
   ]
  },
  {
   "cell_type": "markdown",
   "id": "333ec665",
   "metadata": {
    "deletable": false,
    "id": "333ec665"
   },
   "source": [
    "## Предобработка данных"
   ]
  },
  {
   "cell_type": "markdown",
   "id": "02d92d53",
   "metadata": {
    "deletable": false,
    "id": "02d92d53"
   },
   "source": [
    "### Удаление пропусков"
   ]
  },
  {
   "cell_type": "markdown",
   "id": "cd84967c",
   "metadata": {
    "deletable": false,
    "id": "cd84967c"
   },
   "source": [
    "**Задание 4. Выведите количество пропущенных значений для каждого столбца. Используйте комбинацию двух методов.**"
   ]
  },
  {
   "cell_type": "code",
   "execution_count": 4,
   "id": "7f9b2309",
   "metadata": {
    "deletable": false,
    "id": "7f9b2309",
    "outputId": "81f4d817-781c-465c-ed15-91ce4446810d"
   },
   "outputs": [
    {
     "data": {
      "text/plain": [
       "children               0\n",
       "days_employed       2174\n",
       "dob_years              0\n",
       "education              0\n",
       "education_id           0\n",
       "family_status          0\n",
       "family_status_id       0\n",
       "gender                 0\n",
       "income_type            0\n",
       "debt                   0\n",
       "total_income        2174\n",
       "purpose                0\n",
       "dtype: int64"
      ]
     },
     "execution_count": 4,
     "metadata": {},
     "output_type": "execute_result"
    }
   ],
   "source": [
    "data.isna().sum()"
   ]
  },
  {
   "cell_type": "markdown",
   "id": "db86e27b",
   "metadata": {
    "deletable": false,
    "id": "db86e27b"
   },
   "source": [
    "**Задание 5. В двух столбцах есть пропущенные значения. Один из них — `days_employed`. Пропуски в этом столбце вы обработаете на следующем этапе. Другой столбец с пропущенными значениями — `total_income` — хранит данные о доходах. На сумму дохода сильнее всего влияет тип занятости, поэтому заполнить пропуски в этом столбце нужно медианным значением по каждому типу из столбца `income_type`. Например, у человека с типом занятости `сотрудник` пропуск в столбце `total_income` должен быть заполнен медианным доходом среди всех записей с тем же типом.**"
   ]
  },
  {
   "cell_type": "code",
   "execution_count": 5,
   "id": "42006a93",
   "metadata": {
    "deletable": false,
    "id": "42006a93"
   },
   "outputs": [],
   "source": [
    "for t in data['income_type'].unique():\n",
    "    data.loc[(data['income_type'] == t) & (data['total_income'].isna()), 'total_income'] = \\\n",
    "    data.loc[(data['income_type'] == t), 'total_income'].median()"
   ]
  },
  {
   "cell_type": "markdown",
   "id": "89da5ece",
   "metadata": {
    "deletable": false,
    "id": "89da5ece"
   },
   "source": [
    "### Обработка аномальных значений"
   ]
  },
  {
   "cell_type": "markdown",
   "id": "57964554",
   "metadata": {
    "deletable": false,
    "id": "57964554"
   },
   "source": [
    "**Задание 6. В данных могут встречаться артефакты (аномалии) — значения, которые не отражают действительность и появились по какой-то ошибке. таким артефактом будет отрицательное количество дней трудового стажа в столбце `days_employed`. Для реальных данных это нормально. Обработайте значения в этом столбце: замените все отрицательные значения положительными с помощью метода `abs()`.**"
   ]
  },
  {
   "cell_type": "code",
   "execution_count": 6,
   "id": "f6f055bf",
   "metadata": {
    "deletable": false,
    "id": "f6f055bf"
   },
   "outputs": [],
   "source": [
    "data['days_employed'] = data['days_employed'].abs()"
   ]
  },
  {
   "cell_type": "markdown",
   "id": "6107dd2f",
   "metadata": {
    "deletable": false,
    "id": "6107dd2f"
   },
   "source": [
    "**Задание 7. Для каждого типа занятости выведите медианное значение трудового стажа `days_employed` в днях.**"
   ]
  },
  {
   "cell_type": "code",
   "execution_count": 7,
   "id": "85a5faf6",
   "metadata": {
    "deletable": false,
    "id": "85a5faf6",
    "outputId": "801ef80e-522b-4668-f34e-565af7432bcf"
   },
   "outputs": [
    {
     "data": {
      "text/plain": [
       "income_type\n",
       "безработный        366413.652744\n",
       "в декрете            3296.759962\n",
       "госслужащий          2689.368353\n",
       "компаньон            1547.382223\n",
       "пенсионер          365213.306266\n",
       "предприниматель       520.848083\n",
       "сотрудник            1574.202821\n",
       "студент               578.751554\n",
       "Name: days_employed, dtype: float64"
      ]
     },
     "execution_count": 7,
     "metadata": {},
     "output_type": "execute_result"
    }
   ],
   "source": [
    "data.groupby('income_type')['days_employed'].agg('median')"
   ]
  },
  {
   "cell_type": "markdown",
   "id": "38d1a030",
   "metadata": {
    "deletable": false,
    "id": "38d1a030"
   },
   "source": [
    "У двух типов (безработные и пенсионеры) получатся аномально большие значения. Исправить такие значения сложно, поэтому оставьте их как есть. Тем более этот столбец не понадобится вам для исследования."
   ]
  },
  {
   "cell_type": "markdown",
   "id": "d8a9f147",
   "metadata": {
    "deletable": false,
    "id": "d8a9f147"
   },
   "source": [
    "**Задание 8. Выведите перечень уникальных значений столбца `children`.**"
   ]
  },
  {
   "cell_type": "code",
   "execution_count": 8,
   "id": "ef5056eb",
   "metadata": {
    "deletable": false,
    "id": "ef5056eb",
    "outputId": "6975b15c-7f95-4697-d16d-a0c79b657b03"
   },
   "outputs": [
    {
     "data": {
      "text/plain": [
       "array([ 1,  0,  3,  2, -1,  4, 20,  5])"
      ]
     },
     "execution_count": 8,
     "metadata": {},
     "output_type": "execute_result"
    }
   ],
   "source": [
    "data['children'].unique()"
   ]
  },
  {
   "cell_type": "markdown",
   "id": "40b9ebf2",
   "metadata": {
    "deletable": false,
    "id": "40b9ebf2"
   },
   "source": [
    "**Задание 9. В столбце `children` есть два аномальных значения. Удалите строки, в которых встречаются такие аномальные значения из датафрейма `data`.**"
   ]
  },
  {
   "cell_type": "code",
   "execution_count": 9,
   "id": "3ff9801d",
   "metadata": {
    "deletable": false,
    "id": "3ff9801d"
   },
   "outputs": [],
   "source": [
    "data = data[(data['children'] != -1) & (data['children'] != 20)]"
   ]
  },
  {
   "cell_type": "markdown",
   "id": "bbc4d0ce",
   "metadata": {
    "deletable": false,
    "id": "bbc4d0ce"
   },
   "source": [
    "**Задание 10. Ещё раз выведите перечень уникальных значений столбца `children`, чтобы убедиться, что артефакты удалены.**"
   ]
  },
  {
   "cell_type": "code",
   "execution_count": 10,
   "id": "ad4fa8b7",
   "metadata": {
    "deletable": false,
    "id": "ad4fa8b7",
    "outputId": "b2097101-d49d-44d9-901b-32a65c9463d1"
   },
   "outputs": [
    {
     "data": {
      "text/plain": [
       "array([1, 0, 3, 2, 4, 5])"
      ]
     },
     "execution_count": 10,
     "metadata": {},
     "output_type": "execute_result"
    }
   ],
   "source": [
    "data['children'].unique()"
   ]
  },
  {
   "cell_type": "markdown",
   "id": "75440b63",
   "metadata": {
    "deletable": false,
    "id": "75440b63"
   },
   "source": [
    "### Удаление пропусков (продолжение)"
   ]
  },
  {
   "cell_type": "markdown",
   "id": "f4ea573f",
   "metadata": {
    "deletable": false,
    "id": "f4ea573f"
   },
   "source": [
    "**Задание 11. Заполните пропуски в столбце `days_employed` медианными значениями по каждого типа занятости `income_type`.**"
   ]
  },
  {
   "cell_type": "code",
   "execution_count": 11,
   "id": "af6b1a7e",
   "metadata": {
    "deletable": false,
    "id": "af6b1a7e"
   },
   "outputs": [],
   "source": [
    "for t in data['income_type'].unique():\n",
    "    data.loc[(data['income_type'] == t) & (data['days_employed'].isna()), 'days_employed'] = \\\n",
    "    data.loc[(data['income_type'] == t), 'days_employed'].median()"
   ]
  },
  {
   "cell_type": "markdown",
   "id": "2753f40d",
   "metadata": {
    "deletable": false,
    "id": "2753f40d"
   },
   "source": [
    "**Задание 12. Убедитесь, что все пропуски заполнены. Проверьте себя и ещё раз выведите количество пропущенных значений для каждого столбца с помощью двух методов.**"
   ]
  },
  {
   "cell_type": "code",
   "execution_count": 12,
   "id": "55f78bc2",
   "metadata": {
    "deletable": false,
    "id": "55f78bc2",
    "outputId": "8da1e4e1-358e-4e87-98c9-f261bce0a7b2"
   },
   "outputs": [
    {
     "data": {
      "text/plain": [
       "children            0\n",
       "days_employed       0\n",
       "dob_years           0\n",
       "education           0\n",
       "education_id        0\n",
       "family_status       0\n",
       "family_status_id    0\n",
       "gender              0\n",
       "income_type         0\n",
       "debt                0\n",
       "total_income        0\n",
       "purpose             0\n",
       "dtype: int64"
      ]
     },
     "execution_count": 12,
     "metadata": {},
     "output_type": "execute_result"
    }
   ],
   "source": [
    "data.isna().sum()"
   ]
  },
  {
   "cell_type": "markdown",
   "id": "ddc81e43",
   "metadata": {
    "deletable": false,
    "id": "ddc81e43"
   },
   "source": [
    "### Изменение типов данных"
   ]
  },
  {
   "cell_type": "markdown",
   "id": "42d19d24",
   "metadata": {
    "deletable": false,
    "id": "42d19d24"
   },
   "source": [
    "**Задание 13. Замените вещественный тип данных в столбце `total_income` на целочисленный с помощью метода `astype()`.**"
   ]
  },
  {
   "cell_type": "code",
   "execution_count": 13,
   "id": "920b65ad",
   "metadata": {
    "deletable": false,
    "id": "920b65ad"
   },
   "outputs": [],
   "source": [
    "data['total_income'] = data['total_income'].astype(int)"
   ]
  },
  {
   "cell_type": "markdown",
   "id": "80c420ba",
   "metadata": {
    "deletable": false,
    "id": "80c420ba"
   },
   "source": [
    "### Обработка дубликатов"
   ]
  },
  {
   "cell_type": "markdown",
   "id": "dc587695",
   "metadata": {
    "deletable": false,
    "id": "dc587695"
   },
   "source": [
    "**Задание 14. Выведите на экран количество строк-дубликатов в данных. Если такие строки присутствуют, удалите их.**"
   ]
  },
  {
   "cell_type": "code",
   "execution_count": 14,
   "id": "3ee445e4",
   "metadata": {
    "deletable": false,
    "id": "3ee445e4",
    "outputId": "9684deba-1934-42d1-99e1-cda61740f822"
   },
   "outputs": [
    {
     "data": {
      "text/plain": [
       "54"
      ]
     },
     "execution_count": 14,
     "metadata": {},
     "output_type": "execute_result"
    }
   ],
   "source": [
    "data.duplicated().sum()"
   ]
  },
  {
   "cell_type": "code",
   "execution_count": 15,
   "id": "8575fe05",
   "metadata": {
    "deletable": false,
    "id": "8575fe05"
   },
   "outputs": [],
   "source": [
    "data = data.drop_duplicates()"
   ]
  },
  {
   "cell_type": "markdown",
   "id": "9771a76c",
   "metadata": {
    "deletable": false,
    "id": "9771a76c"
   },
   "source": [
    "**Задание 15. Обработайте неявные дубликаты в столбце `education`. В этом столбце есть одни и те же значения, но записанные по-разному: с использованием заглавных и строчных букв. Приведите их к нижнему регистру. Проверьте остальные столбцы.**"
   ]
  },
  {
   "cell_type": "code",
   "execution_count": 16,
   "id": "a9f8e2bf",
   "metadata": {
    "deletable": false,
    "id": "a9f8e2bf"
   },
   "outputs": [],
   "source": [
    "data['education'] = data['education'].str.lower()"
   ]
  },
  {
   "cell_type": "markdown",
   "id": "9904cf55",
   "metadata": {
    "deletable": false,
    "id": "9904cf55"
   },
   "source": [
    "### Категоризация данных"
   ]
  },
  {
   "cell_type": "markdown",
   "id": "72fcc8a2",
   "metadata": {
    "deletable": false,
    "id": "72fcc8a2"
   },
   "source": [
    "**Задание 16. На основании диапазонов, указанных ниже, создайте в датафрейме `data` столбец `total_income_category` с категориями:**\n",
    "\n",
    "- 0–30000 — `'E'`;\n",
    "- 30001–50000 — `'D'`;\n",
    "- 50001–200000 — `'C'`;\n",
    "- 200001–1000000 — `'B'`;\n",
    "- 1000001 и выше — `'A'`.\n",
    "\n",
    "\n",
    "**Например, кредитополучателю с доходом 25000 нужно назначить категорию `'E'`, а клиенту, получающему 235000, — `'B'`. Используйте собственную функцию с именем `categorize_income()` и метод `apply()`.**"
   ]
  },
  {
   "cell_type": "code",
   "execution_count": 17,
   "id": "e1771346",
   "metadata": {
    "deletable": false,
    "id": "e1771346"
   },
   "outputs": [],
   "source": [
    "def categorize_income(income):\n",
    "    try:\n",
    "        if 0 <= income <= 30000:\n",
    "            return 'E'\n",
    "        elif 30001 <= income <= 50000:\n",
    "            return 'D'\n",
    "        elif 50001 <= income <= 200000:\n",
    "            return 'C'\n",
    "        elif 200001 <= income <= 1000000:\n",
    "            return 'B'\n",
    "        elif income >= 1000001:\n",
    "            return 'A'\n",
    "    except:\n",
    "        pass"
   ]
  },
  {
   "cell_type": "code",
   "execution_count": 18,
   "id": "d5f3586d",
   "metadata": {
    "deletable": false,
    "id": "d5f3586d"
   },
   "outputs": [],
   "source": [
    "data['total_income_category'] = data['total_income'].apply(categorize_income)"
   ]
  },
  {
   "cell_type": "markdown",
   "id": "dde49b5c",
   "metadata": {
    "deletable": false,
    "id": "dde49b5c"
   },
   "source": [
    "**Задание 17. Выведите на экран перечень уникальных целей взятия кредита из столбца `purpose`.**"
   ]
  },
  {
   "cell_type": "code",
   "execution_count": 19,
   "id": "f67ce9b3",
   "metadata": {
    "deletable": false,
    "id": "f67ce9b3",
    "outputId": "673c12d9-7d7e-4ae0-9812-c622c89dd244"
   },
   "outputs": [
    {
     "data": {
      "text/plain": [
       "array(['покупка жилья', 'приобретение автомобиля',\n",
       "       'дополнительное образование', 'сыграть свадьбу',\n",
       "       'операции с жильем', 'образование', 'на проведение свадьбы',\n",
       "       'покупка жилья для семьи', 'покупка недвижимости',\n",
       "       'покупка коммерческой недвижимости', 'покупка жилой недвижимости',\n",
       "       'строительство собственной недвижимости', 'недвижимость',\n",
       "       'строительство недвижимости', 'на покупку подержанного автомобиля',\n",
       "       'на покупку своего автомобиля',\n",
       "       'операции с коммерческой недвижимостью',\n",
       "       'строительство жилой недвижимости', 'жилье',\n",
       "       'операции со своей недвижимостью', 'автомобили',\n",
       "       'заняться образованием', 'сделка с подержанным автомобилем',\n",
       "       'получение образования', 'автомобиль', 'свадьба',\n",
       "       'получение дополнительного образования', 'покупка своего жилья',\n",
       "       'операции с недвижимостью', 'получение высшего образования',\n",
       "       'свой автомобиль', 'сделка с автомобилем',\n",
       "       'профильное образование', 'высшее образование',\n",
       "       'покупка жилья для сдачи', 'на покупку автомобиля', 'ремонт жилью',\n",
       "       'заняться высшим образованием'], dtype=object)"
      ]
     },
     "execution_count": 19,
     "metadata": {},
     "output_type": "execute_result"
    }
   ],
   "source": [
    "data['purpose'].unique()"
   ]
  },
  {
   "cell_type": "markdown",
   "id": "85d0aef0",
   "metadata": {
    "deletable": false,
    "id": "85d0aef0"
   },
   "source": [
    "**Задание 18. Создайте функцию, которая на основании данных из столбца `purpose` сформирует новый столбец `purpose_category`, в который войдут следующие категории:**\n",
    "\n",
    "- `'операции с автомобилем'`,\n",
    "- `'операции с недвижимостью'`,\n",
    "- `'проведение свадьбы'`,\n",
    "- `'получение образования'`.\n",
    "\n",
    "**Например, если в столбце `purpose` находится подстрока `'на покупку автомобиля'`, то в столбце `purpose_category` должна появиться строка `'операции с автомобилем'`.**\n",
    "\n",
    "**Используйте собственную функцию с именем `categorize_purpose()` и метод `apply()`. Изучите данные в столбце `purpose` и определите, какие подстроки помогут вам правильно определить категорию.**"
   ]
  },
  {
   "cell_type": "code",
   "execution_count": 20,
   "id": "e149fab4",
   "metadata": {
    "deletable": false,
    "id": "e149fab4"
   },
   "outputs": [],
   "source": [
    "def categorize_purpose(row):\n",
    "    try:\n",
    "        if 'автом' in row:\n",
    "            return 'операции с автомобилем'\n",
    "        elif 'жил' in row or 'недвиж' in row:\n",
    "            return 'операции с недвижимостью'\n",
    "        elif 'свад' in row:\n",
    "            return 'проведение свадьбы'\n",
    "        elif 'образов' in row:\n",
    "            return 'получение образования'\n",
    "    except:\n",
    "        return 'нет категории'"
   ]
  },
  {
   "cell_type": "code",
   "execution_count": 21,
   "id": "bf36e69b",
   "metadata": {
    "deletable": false,
    "id": "bf36e69b"
   },
   "outputs": [],
   "source": [
    "data['purpose_category'] = data['purpose'].apply(categorize_purpose)"
   ]
  },
  {
   "cell_type": "markdown",
   "id": "09b242bf",
   "metadata": {
    "deletable": false,
    "editable": false,
    "id": "09b242bf"
   },
   "source": [
    "## Исследуйте данные и ответьте на вопросы"
   ]
  },
  {
   "cell_type": "markdown",
   "id": "c5d66278",
   "metadata": {
    "deletable": false,
    "editable": false,
    "id": "c5d66278"
   },
   "source": [
    "**Задание 19. Есть ли зависимость между количеством детей и возвратом кредита в срок?**"
   ]
  },
  {
   "cell_type": "code",
   "execution_count": 22,
   "id": "2cacfc4a",
   "metadata": {
    "id": "2cacfc4a"
   },
   "outputs": [
    {
     "data": {
      "text/plain": [
       "0    14107\n",
       "1     4809\n",
       "2     2052\n",
       "3      330\n",
       "4       41\n",
       "5        9\n",
       "Name: children, dtype: int64"
      ]
     },
     "execution_count": 22,
     "metadata": {},
     "output_type": "execute_result"
    }
   ],
   "source": [
    "# Ваш код будет здесь. Вы можете создавать новые ячейки.\n",
    "data['children'].value_counts()"
   ]
  },
  {
   "cell_type": "code",
   "execution_count": 23,
   "id": "60d2ed78",
   "metadata": {},
   "outputs": [
    {
     "data": {
      "text/plain": [
       "children\n",
       "0    0.075353\n",
       "1    0.092327\n",
       "2    0.094542\n",
       "3    0.081818\n",
       "4    0.097561\n",
       "5    0.000000\n",
       "Name: debt, dtype: float64"
      ]
     },
     "metadata": {},
     "output_type": "display_data"
    },
    {
     "data": {
      "text/plain": [
       "children\n",
       "0    0.048262\n",
       "1    0.066357\n",
       "2    0.068912\n",
       "3    0.057692\n",
       "4    0.076923\n",
       "5    0.000000\n",
       "Name: debt, dtype: float64"
      ]
     },
     "metadata": {},
     "output_type": "display_data"
    }
   ],
   "source": [
    "import seaborn as sns\n",
    "from scipy.stats import trim_mean\n",
    "import matplotlib.pyplot as plt\n",
    "\n",
    "grouped_mean = data.groupby('children')['debt'].mean()\n",
    "grouped_trim_mean = data.groupby('children')['debt'].agg(trim_mean, 0.03)\n",
    "\n",
    "display(grouped_mean)\n",
    "display(grouped_trim_mean)"
   ]
  },
  {
   "cell_type": "code",
   "execution_count": 24,
   "id": "c38fee6b",
   "metadata": {},
   "outputs": [
    {
     "name": "stderr",
     "output_type": "stream",
     "text": [
      "/opt/conda/lib/python3.9/site-packages/seaborn/_decorators.py:36: FutureWarning: Pass the following variables as keyword args: x, y. From version 0.12, the only valid positional argument will be `data`, and passing other arguments without an explicit keyword will result in an error or misinterpretation.\n",
      "  warnings.warn(\n"
     ]
    },
    {
     "data": {
      "image/png": "[encoded data removed]",
      "text/plain": [
       "<Figure size 432x288 with 1 Axes>"
      ]
     },
     "metadata": {
      "needs_background": "light"
     },
     "output_type": "display_data"
    }
   ],
   "source": [
    "sns.barplot(grouped_mean.index,\\\n",
    "            grouped_mean)\n",
    "plt.ylim((0.04, 0.11))\n",
    "plt.title('Доля возвратов кредита в разрезе количества детей у респондентов')\n",
    "plt.show()"
   ]
  },
  {
   "cell_type": "markdown",
   "id": "3a6b99ec",
   "metadata": {
    "deletable": false,
    "id": "3a6b99ec"
   },
   "source": [
    "**Вывод:** \n",
    "    Зависимая переменная (debt) является бинарной, в связи с чем отражение зависимости через визуальный ряд представляется затруднительным. Поэтому были рассмотрены средние значения зависимой переменной (debt) в разрезе независимой переменной (children). Стоит так же отметить весьма очевидную несбалансированноть данных по переменной children (логично ожидать, что людей с 5 детьми на порядки меньше, чем с 1 ребенком).\n",
    "    На сгруппированных данных явно представлен выброс для респондентов, имеющих по 5 детей. Для генеральной совокупности это означало бы, что наличие 5 детей магическим образом лишает тебя всех финансовых проблем. Но в данном случае, скорее всего, имеет место быть несбалансированность выборки по респондентам с 4 и 5 детьми. В частности, как мы можем наблюдать респондентов с 4 детьми - 41, а с 5 - всего 9. В связи с чем представляется разумным отбросить из рассмотрения респондентов с 5 детьми.\n",
    "        Таким образом, исходя из сгруппированных данных респонденты, не имеющие детей действительно несколько реже склонны иметь не возвращать кредиты в срок, чем респонденты, имеющие детей. При этом стоит отметить интересную особенность респондентов, имеющих по 3 ребенка - и хоть их склонность иметь долги выше, чем у бездетных респондентов, они все же в целом несколько \"благонадежнее\" других респондентом с детьми. Если это не явлется случайным \"перекосом\", то о природе такой аномалии можно только догадываться."
   ]
  },
  {
   "cell_type": "markdown",
   "id": "dd55af9f",
   "metadata": {},
   "source": [
    "<div class=\"alert alert-success\">\n",
    "<b>✔️ Комментарий ревьюера v1:</b> \n",
    "<br>Верно! Шикарный ответ)\n",
    "</div>"
   ]
  },
  {
   "cell_type": "markdown",
   "id": "97be82ca",
   "metadata": {
    "deletable": false,
    "editable": false,
    "id": "97be82ca"
   },
   "source": [
    "**Задание 20. Есть ли зависимость между семейным положением и возвратом кредита в срок?**"
   ]
  },
  {
   "cell_type": "code",
   "execution_count": 25,
   "id": "dc3f7ee8",
   "metadata": {
    "id": "dc3f7ee8"
   },
   "outputs": [
    {
     "data": {
      "text/plain": [
       "женат / замужем          12266\n",
       "гражданский брак          4146\n",
       "Не женат / не замужем     2796\n",
       "в разводе                 1189\n",
       "вдовец / вдова             951\n",
       "Name: family_status, dtype: int64"
      ]
     },
     "metadata": {},
     "output_type": "display_data"
    },
    {
     "data": {
      "text/plain": [
       "family_status\n",
       "Не женат / не замужем    0.097639\n",
       "в разводе                0.070648\n",
       "вдовец / вдова           0.066246\n",
       "гражданский брак         0.092861\n",
       "женат / замужем          0.075575\n",
       "Name: debt, dtype: float64"
      ]
     },
     "metadata": {},
     "output_type": "display_data"
    }
   ],
   "source": [
    "# Ваш код будет здесь. Вы можете создавать новые ячейки.\n",
    "display(data['family_status'].value_counts())\n",
    "grouped_family = data.groupby('family_status')['debt'].mean()\n",
    "display(grouped_family)"
   ]
  },
  {
   "cell_type": "code",
   "execution_count": 26,
   "id": "6076fde7",
   "metadata": {},
   "outputs": [
    {
     "name": "stderr",
     "output_type": "stream",
     "text": [
      "/opt/conda/lib/python3.9/site-packages/seaborn/_decorators.py:36: FutureWarning: Pass the following variables as keyword args: x, y. From version 0.12, the only valid positional argument will be `data`, and passing other arguments without an explicit keyword will result in an error or misinterpretation.\n",
      "  warnings.warn(\n"
     ]
    },
    {
     "data": {
      "image/png": "[encoded data removed]",
      "text/plain": [
       "<Figure size 432x288 with 1 Axes>"
      ]
     },
     "metadata": {
      "needs_background": "light"
     },
     "output_type": "display_data"
    }
   ],
   "source": [
    "sns.barplot(grouped_family.index,\\\n",
    "            grouped_family)\n",
    "plt.ylim((0.04, 0.11))\n",
    "plt.title('Доля возвратов кредита в разрезе семейного положения респондентов')\n",
    "plt.xticks(rotation=90)\n",
    "plt.show()"
   ]
  },
  {
   "cell_type": "markdown",
   "id": "1cef7837",
   "metadata": {
    "deletable": false,
    "id": "1cef7837"
   },
   "source": [
    "**Вывод:** Отвечая на прямой вопрос \"Есть ли зависимость между семейным положением и возвратом кредита в срок?\" по графику можно судить, что семейный статус действительно влияет на возврат кредита в срок. Конечно, максимальная абсолютная разница составляет всего несколько процентов, но при этом абсолютная - доходит до 47%.\n",
    "\n",
    "**Наблюдения:**\n",
    "При группировке по переменной family_status мы также можем наблюдать несбалансированность классов, хоть и не настолько сильную, как в первом случае. По сгруппированным данным можно увидеть, что семейный статус будто готов сформировать две подруппы с \"не женат / не замужем, гражданский брак\" в одной группе и \"в разводе, вдовец / вдова, женат / замужем\" в другой. Хотя объективно оценить такую группировку не предсталяется возможным, в качестве гипотезы можно было бы рассмотреть зависимость возврата кредита и бинарной перемный \"состоял/состоит в браке\"."
   ]
  },
  {
   "cell_type": "markdown",
   "id": "7d1da655",
   "metadata": {},
   "source": [
    "<div class=\"alert alert-success\">\n",
    "<b>✔️ Комментарий ревьюера v1:</b> \n",
    "<br>Тут всё правильно\n",
    "</div>"
   ]
  },
  {
   "cell_type": "markdown",
   "id": "1e8b2fca",
   "metadata": {
    "deletable": false,
    "editable": false,
    "id": "1e8b2fca"
   },
   "source": [
    "**Задание 21. Есть ли зависимость между уровнем дохода и возвратом кредита в срок?**"
   ]
  },
  {
   "cell_type": "code",
   "execution_count": 27,
   "id": "cd7e3720",
   "metadata": {
    "id": "cd7e3720"
   },
   "outputs": [
    {
     "data": {
      "text/plain": [
       "C    15938\n",
       "B     5014\n",
       "D      349\n",
       "A       25\n",
       "E       22\n",
       "Name: total_income_category, dtype: int64"
      ]
     },
     "metadata": {},
     "output_type": "display_data"
    },
    {
     "data": {
      "text/plain": [
       "total_income_category\n",
       "A    0.080000\n",
       "B    0.070602\n",
       "C    0.084891\n",
       "D    0.060172\n",
       "E    0.090909\n",
       "Name: debt, dtype: float64"
      ]
     },
     "metadata": {},
     "output_type": "display_data"
    }
   ],
   "source": [
    "# Ваш код будет здесь. Вы можете создавать новые ячейки.\n",
    "display(data['total_income_category'].value_counts())\n",
    "grouped_income = data.groupby('total_income_category')['debt'].mean()\n",
    "display(grouped_income)"
   ]
  },
  {
   "cell_type": "code",
   "execution_count": 28,
   "id": "31951800",
   "metadata": {},
   "outputs": [
    {
     "name": "stderr",
     "output_type": "stream",
     "text": [
      "/opt/conda/lib/python3.9/site-packages/seaborn/_decorators.py:36: FutureWarning: Pass the following variables as keyword args: x, y. From version 0.12, the only valid positional argument will be `data`, and passing other arguments without an explicit keyword will result in an error or misinterpretation.\n",
      "  warnings.warn(\n"
     ]
    },
    {
     "data": {
      "image/png": "[encoded data removed]",
      "text/plain": [
       "<Figure size 432x288 with 1 Axes>"
      ]
     },
     "metadata": {
      "needs_background": "light"
     },
     "output_type": "display_data"
    }
   ],
   "source": [
    "sns.barplot(grouped_income.index,\\\n",
    "            grouped_income)\n",
    "plt.ylim((0.04, 0.11))\n",
    "plt.title('Доля возвратов кредита в разрезе уровня дохода респондентов')\n",
    "plt.show()"
   ]
  },
  {
   "cell_type": "markdown",
   "id": "e8593def",
   "metadata": {
    "deletable": false,
    "id": "e8593def"
   },
   "source": [
    "**Вывод:** В данном задании мы в очередной раз встречемся с ситуацией, когда количество наблюдений по некоторым категорям крайне мало относитльно общего количества наблюдений. Таким образом, даже если мы выкинем из обзора категории А и Е,  то все еще может заметить весьма существенное различие в уровне возврата кредита в категориях B, C и D.\n",
    "\n",
    "**Наблюдения:** В глаза сразу бросается весьма интересная особенность - респонденты с очень высокими доходами (A и B) имеют весьма сопоставимый с остальными респондентами уровень по просрочке кредитов, что, на первый взгляд, может казаться даже контринтуитивным (на второй-то взгляд становится очевидно, что объемы кредитов для таких респондентов, скорее всего, соответствующие)."
   ]
  },
  {
   "cell_type": "markdown",
   "id": "901e894f",
   "metadata": {},
   "source": [
    "<div class=\"alert alert-success\">\n",
    "<b>✔️ Комментарий ревьюера v1:</b> \n",
    "<br>Согласен! Идём дальше)\n",
    "</div>"
   ]
  },
  {
   "cell_type": "markdown",
   "id": "99ecbd1f",
   "metadata": {
    "deletable": false,
    "editable": false,
    "id": "99ecbd1f"
   },
   "source": [
    "**Задание 22. Как разные цели кредита влияют на его возврат в срок?**"
   ]
  },
  {
   "cell_type": "code",
   "execution_count": 29,
   "id": "2b687290",
   "metadata": {
    "id": "2b687290"
   },
   "outputs": [
    {
     "data": {
      "text/plain": [
       "операции с недвижимостью    10754\n",
       "операции с автомобилем       4281\n",
       "получение образования        3989\n",
       "проведение свадьбы           2324\n",
       "Name: purpose_category, dtype: int64"
      ]
     },
     "metadata": {},
     "output_type": "display_data"
    },
    {
     "data": {
      "text/plain": [
       "purpose_category\n",
       "операции с автомобилем      0.093436\n",
       "операции с недвижимостью    0.072531\n",
       "получение образования       0.092504\n",
       "проведение свадьбы          0.078744\n",
       "Name: debt, dtype: float64"
      ]
     },
     "metadata": {},
     "output_type": "display_data"
    }
   ],
   "source": [
    "# Ваш код будет здесь. Вы можете создавать новые ячейки.\n",
    "display(data['purpose_category'].value_counts())\n",
    "grouped_purpose = data.groupby('purpose_category')['debt'].mean()\n",
    "display(grouped_purpose)"
   ]
  },
  {
   "cell_type": "code",
   "execution_count": 30,
   "id": "a650b783",
   "metadata": {},
   "outputs": [
    {
     "name": "stderr",
     "output_type": "stream",
     "text": [
      "/opt/conda/lib/python3.9/site-packages/seaborn/_decorators.py:36: FutureWarning: Pass the following variables as keyword args: x, y. From version 0.12, the only valid positional argument will be `data`, and passing other arguments without an explicit keyword will result in an error or misinterpretation.\n",
      "  warnings.warn(\n"
     ]
    },
    {
     "data": {
      "image/png": "[encoded data removed]",
      "text/plain": [
       "<Figure size 432x288 with 1 Axes>"
      ]
     },
     "metadata": {
      "needs_background": "light"
     },
     "output_type": "display_data"
    }
   ],
   "source": [
    "sns.barplot(grouped_purpose.index,\\\n",
    "            grouped_purpose)\n",
    "plt.ylim((0.04, 0.11))\n",
    "plt.title('Доля возвратов кредита в разрезе целей кредитования')\n",
    "plt.xticks(rotation=90)\n",
    "plt.show()"
   ]
  },
  {
   "cell_type": "code",
   "execution_count": 31,
   "id": "2f312efd",
   "metadata": {},
   "outputs": [
    {
     "data": {
      "text/plain": [
       "total_income_category  purpose_category        \n",
       "A                      операции с автомобилем      0.000000\n",
       "                       операции с недвижимостью    0.058824\n",
       "                       получение образования       0.250000\n",
       "                       проведение свадьбы          0.000000\n",
       "B                      операции с автомобилем      0.083170\n",
       "                       операции с недвижимостью    0.067240\n",
       "                       получение образования       0.077528\n",
       "                       проведение свадьбы          0.051471\n",
       "C                      операции с автомобилем      0.095822\n",
       "                       операции с недвижимостью    0.074875\n",
       "                       получение образования       0.098507\n",
       "                       проведение свадьбы          0.087356\n",
       "D                      операции с автомобилем      0.138889\n",
       "                       операции с недвижимостью    0.035714\n",
       "                       получение образования       0.026667\n",
       "                       проведение свадьбы          0.088235\n",
       "E                      операции с автомобилем      0.000000\n",
       "                       операции с недвижимостью    0.181818\n",
       "                       получение образования       0.000000\n",
       "                       проведение свадьбы          0.000000\n",
       "Name: debt, dtype: float64"
      ]
     },
     "execution_count": 31,
     "metadata": {},
     "output_type": "execute_result"
    }
   ],
   "source": [
    "grouped_combined = data.groupby(['total_income_category', 'purpose_category'])['debt'].mean()\n",
    "grouped_combined"
   ]
  },
  {
   "cell_type": "code",
   "execution_count": 32,
   "id": "c8f35dd4",
   "metadata": {},
   "outputs": [
    {
     "name": "stderr",
     "output_type": "stream",
     "text": [
      "/opt/conda/lib/python3.9/site-packages/seaborn/_decorators.py:36: FutureWarning: Pass the following variables as keyword args: x, y. From version 0.12, the only valid positional argument will be `data`, and passing other arguments without an explicit keyword will result in an error or misinterpretation.\n",
      "  warnings.warn(\n"
     ]
    },
    {
     "data": {
      "image/png": "[encoded data removed]",
      "text/plain": [
       "<Figure size 432x288 with 1 Axes>"
      ]
     },
     "metadata": {
      "needs_background": "light"
     },
     "output_type": "display_data"
    }
   ],
   "source": [
    "sns.barplot(grouped_combined.index.get_level_values(1), grouped_combined)\n",
    "plt.xticks(rotation=90)\n",
    "plt.title('Доля возвратов кредита в разрезе целей кредитования (средняя по уровню заработка)')\n",
    "plt.show()"
   ]
  },
  {
   "cell_type": "markdown",
   "id": "b4bb2ce6",
   "metadata": {
    "deletable": false,
    "id": "b4bb2ce6"
   },
   "source": [
    "**Вывод:** Из графиков видно, что цель кредита и возвращение кредита весьма связанные вещи, в особенности с учетом совокупных доходов. Можно заметиль (пускай и на небольшой выборке), что респонденты из группы А (доход > 1 млн.) с вероятностью 25% не возвращали кредит на образование вовремя (вероятно дорогостоящее образование). Или, например респонденты из группы Е (< 30 тыс.) с вероятностью в 18% могут не отдать кредиты, связанные с недвижимость."
   ]
  },
  {
   "cell_type": "markdown",
   "id": "df620d46",
   "metadata": {},
   "source": [
    "<div class=\"alert alert-success\">\n",
    "<b>✔️ Комментарий ревьюера v1:</b>\n",
    "<br>Абсолютно верно!\n",
    "</div>"
   ]
  },
  {
   "cell_type": "markdown",
   "id": "09c3ac4c",
   "metadata": {
    "deletable": false,
    "editable": false,
    "id": "09c3ac4c"
   },
   "source": [
    "**Задание 23. Приведите возможные причины появления пропусков в исходных данных.**"
   ]
  },
  {
   "cell_type": "code",
   "execution_count": 33,
   "id": "a9080e9f",
   "metadata": {},
   "outputs": [],
   "source": [
    "try:\n",
    "    orig_data = pd.read_csv('/datasets/data.csv')\n",
    "except:\n",
    "    orig_data = pd.read_csv('https://code.s3.yandex.net/datasets/data.csv')\n",
    "    \n",
    "na_data = orig_data[orig_data['total_income'].isna()]\n",
    "cleared_data = orig_data.dropna()\n",
    "\n",
    "def years_category(value):\n",
    "    if value < 10:\n",
    "        return '0*'\n",
    "    elif value < 20:\n",
    "        return '1*'\n",
    "    elif value < 30:\n",
    "        return '2*'\n",
    "    elif value < 40:\n",
    "        return '3*'\n",
    "    elif value < 50:\n",
    "        return '4*'\n",
    "    elif value < 60:\n",
    "        return '5*'\n",
    "    elif value < 70:\n",
    "        return '6*'\n",
    "    elif value < 80:\n",
    "        return '7*'\n",
    "    elif value < 90:\n",
    "        return '8*'\n",
    "    else:\n",
    "        'out of frame'"
   ]
  },
  {
   "cell_type": "code",
   "execution_count": 34,
   "id": "aef6ac02",
   "metadata": {},
   "outputs": [
    {
     "name": "stderr",
     "output_type": "stream",
     "text": [
      "/tmp/ipykernel_243/3890305792.py:1: SettingWithCopyWarning: \n",
      "A value is trying to be set on a copy of a slice from a DataFrame.\n",
      "Try using .loc[row_indexer,col_indexer] = value instead\n",
      "\n",
      "See the caveats in the documentation: https://pandas.pydata.org/pandas-docs/stable/user_guide/indexing.html#returning-a-view-versus-a-copy\n",
      "  na_data['years_category'] = na_data['dob_years'].apply(years_category)\n"
     ]
    },
    {
     "data": {
      "text/plain": [
       "<AxesSubplot:xlabel='years_category'>"
      ]
     },
     "execution_count": 34,
     "metadata": {},
     "output_type": "execute_result"
    },
    {
     "data": {
      "image/png": "[encoded data removed]",
      "text/plain": [
       "<Figure size 432x288 with 1 Axes>"
      ]
     },
     "metadata": {
      "needs_background": "light"
     },
     "output_type": "display_data"
    }
   ],
   "source": [
    "na_data['years_category'] = na_data['dob_years'].apply(years_category)\n",
    "na_data.groupby('years_category')['years_category'].count().plot.bar()"
   ]
  },
  {
   "cell_type": "code",
   "execution_count": 35,
   "id": "16f68b6b",
   "metadata": {},
   "outputs": [
    {
     "name": "stderr",
     "output_type": "stream",
     "text": [
      "/tmp/ipykernel_243/2010759825.py:1: SettingWithCopyWarning: \n",
      "A value is trying to be set on a copy of a slice from a DataFrame.\n",
      "Try using .loc[row_indexer,col_indexer] = value instead\n",
      "\n",
      "See the caveats in the documentation: https://pandas.pydata.org/pandas-docs/stable/user_guide/indexing.html#returning-a-view-versus-a-copy\n",
      "  cleared_data['years_category'] = cleared_data['dob_years'].apply(years_category)\n"
     ]
    },
    {
     "data": {
      "text/plain": [
       "<AxesSubplot:xlabel='years_category'>"
      ]
     },
     "execution_count": 35,
     "metadata": {},
     "output_type": "execute_result"
    },
    {
     "data": {
      "image/png": "[encoded data removed]",
      "text/plain": [
       "<Figure size 432x288 with 1 Axes>"
      ]
     },
     "metadata": {
      "needs_background": "light"
     },
     "output_type": "display_data"
    }
   ],
   "source": [
    "cleared_data['years_category'] = cleared_data['dob_years'].apply(years_category)\n",
    "cleared_data.groupby('years_category')['years_category'].count().plot.bar()"
   ]
  },
  {
   "cell_type": "markdown",
   "id": "9da2ceda",
   "metadata": {
    "deletable": false,
    "id": "9da2ceda"
   },
   "source": [
    "*Ответ:* Мною были рассмотреты представленные данные в многочисленных разрезах (пример одного подобного рассмотрения оставил выше). Выглядит так, словно пропуски в данных именно случайны, а не подвержены какому-то условию, так как рапределение выборок (в рамках таких разрезов) разнится крайне незначительно."
   ]
  },
  {
   "cell_type": "markdown",
   "id": "5692dab9",
   "metadata": {},
   "source": [
    "<div class=\"alert alert-success\">\n",
    "<b>✔️ Комментарий ревьюера v1:</b> \n",
    "<br>Супер!\n",
    "</div>"
   ]
  },
  {
   "cell_type": "markdown",
   "id": "7b0487d6",
   "metadata": {
    "deletable": false,
    "editable": false,
    "id": "7b0487d6"
   },
   "source": [
    "**Задание 24. Объясните, почему заполнить пропуски медианным значением — лучшее решение для количественных переменных.**"
   ]
  },
  {
   "cell_type": "markdown",
   "id": "7ecf2b8e",
   "metadata": {
    "deletable": false,
    "id": "7ecf2b8e"
   },
   "source": [
    "*Ответ:* полагаю дело в том, что медианы значительно более устойчивы к выбросам и в случаях, когда мы оперируем значениями, которые способный различаться на порядок - выбросы способны крайне значительно повлиять на результат,  в частности \"перекосить\" средние в сторону выброса."
   ]
  },
  {
   "cell_type": "markdown",
   "id": "205e2d87",
   "metadata": {},
   "source": [
    "<div class=\"alert alert-success\">\n",
    "<b>✔️ Комментарий ревьюера v1:</b> \n",
    "<br>Точно! Здорово, что ты помнишь об этом различии\n",
    "</div>"
   ]
  },
  {
   "cell_type": "markdown",
   "id": "6db5255a",
   "metadata": {
    "deletable": false,
    "editable": false,
    "id": "6db5255a"
   },
   "source": [
    "## Общий вывод."
   ]
  },
  {
   "cell_type": "markdown",
   "id": "bad65432",
   "metadata": {
    "id": "bad65432"
   },
   "source": [
    "Нами было рассмотрено влияние нескольких переменных на \"склонность\" (наверное, было бы не совсем правильно писать вероятность в данном случае) респондентов возвращать кредит в срок. Как можно заметить, ни одна из указанных переменных не оказывает \"критического\" влияния на зависимую переменную. Но зависимость становится тем существеннее, чем больше значимых переменных мы мы рассматриваем при группировке.\n",
    "\n",
    "Описание клиента с наибольшей склонностью к просрочке будет выглядеть следующим образом:\n",
    "* клиент имеет детей;\n",
    "* не женат или находится в гражданском браке;\n",
    "* общий доход клиента - менее 30 тыс.;\n",
    "* целью кредита яляется образование или операции с автомобилем."
   ]
  },
  {
   "cell_type": "markdown",
   "id": "e8a00eb8",
   "metadata": {},
   "source": [
    "<div class=\"alert alert-danger\">\n",
    "<b>❌ Комментарий ревьюера v1:</b> \n",
    "<br>Добавь в общий вывод описание клиента с наибольшей вероятностью просрочки, например, женат, 3е детей, доход - такой-то, цель кредита - такая-то. Для этого используй ответы на вопросы выше\n",
    "</div>"
   ]
  },
  {
   "cell_type": "markdown",
   "id": "f9a09feb",
   "metadata": {},
   "source": [
    "<div class=\"alert alert-success\">\n",
    "<b>✔️ Комментарий ревьюера v2:</b> \n",
    "<br>Всё верно 👍\n",
    "</div>"
   ]
  },
  {
   "cell_type": "markdown",
   "id": "528183e0",
   "metadata": {},
   "source": [
    "<div class=\"alert alert-danger\">\n",
    "<b>❌ Итоговый комментарий ревьюера v1:</b> \n",
    "<br>Ты хорошо потрудился, большая часть работы сделана, но остаётся внести следующие правки:\n",
    "<br>- дописать  общий вывод\n",
    "</div>"
   ]
  },
  {
   "cell_type": "markdown",
   "id": "0a84be25",
   "metadata": {},
   "source": [
    "<div class=\"alert alert-info\">\n",
    "<b>Комментарий студента:</b>\n",
    "<br> Добрый день! Постарался поправить. Не могли бы вы подсказать (на автомате перешел на \"вы\") насколько критично в нотбуках подписывать выводы ячеек и графики? просто например приписывать к каждой операции с методом value_counts() строчкук print('А тут мы можем наблюдать количество уникальных значений определенного столбцв' (читать голосом Дроздова)) - кажется немного перебором.\n",
    "</div>"
   ]
  },
  {
   "cell_type": "markdown",
   "id": "1b77d28e",
   "metadata": {},
   "source": [
    "<div class=\"alert alert-success\">\n",
    "<b>✔️ Итоговый комментарий ревьюера v2:</b>\n",
    "<br>На мой взгляд это лишнее) Выводы лучше всего писать в обычно маркдауне. Этого будет достаточно)\n",
    "<br>Рад был поработать над проверкой твоего проекта) Желаю удачи в дальнейшем обучении! 😉\n",
    "</div>"
   ]
  }
 ],
 "metadata": {
  "ExecuteTimeLog": [
   {
    "duration": 717,
    "start_time": "2022-07-05T07:52:50.787Z"
   },
   {
    "duration": 93,
    "start_time": "2022-07-05T07:55:03.801Z"
   },
   {
    "duration": 25,
    "start_time": "2022-07-05T07:55:03.897Z"
   },
   {
    "duration": 17,
    "start_time": "2022-07-05T07:55:03.923Z"
   },
   {
    "duration": 36,
    "start_time": "2022-07-05T07:55:03.942Z"
   },
   {
    "duration": 56,
    "start_time": "2022-07-05T07:55:03.985Z"
   },
   {
    "duration": 4,
    "start_time": "2022-07-05T07:55:04.043Z"
   },
   {
    "duration": 29,
    "start_time": "2022-07-05T07:55:04.049Z"
   },
   {
    "duration": 11,
    "start_time": "2022-07-05T07:55:04.080Z"
   },
   {
    "duration": 11,
    "start_time": "2022-07-05T07:55:04.092Z"
   },
   {
    "duration": 5,
    "start_time": "2022-07-05T07:55:04.105Z"
   },
   {
    "duration": 67,
    "start_time": "2022-07-05T07:55:04.111Z"
   },
   {
    "duration": 10,
    "start_time": "2022-07-05T07:55:04.180Z"
   },
   {
    "duration": 6,
    "start_time": "2022-07-05T07:55:04.192Z"
   },
   {
    "duration": 20,
    "start_time": "2022-07-05T07:55:04.200Z"
   },
   {
    "duration": 18,
    "start_time": "2022-07-05T07:55:04.221Z"
   },
   {
    "duration": 22,
    "start_time": "2022-07-05T07:55:04.261Z"
   },
   {
    "duration": 4,
    "start_time": "2022-07-05T07:55:04.285Z"
   },
   {
    "duration": 15,
    "start_time": "2022-07-05T07:55:04.290Z"
   },
   {
    "duration": 13,
    "start_time": "2022-07-05T07:55:04.307Z"
   },
   {
    "duration": 4,
    "start_time": "2022-07-05T07:55:04.322Z"
   },
   {
    "duration": 46,
    "start_time": "2022-07-05T07:55:04.328Z"
   },
   {
    "duration": 20,
    "start_time": "2022-07-05T07:55:34.000Z"
   },
   {
    "duration": 1208,
    "start_time": "2022-07-05T07:57:17.240Z"
   },
   {
    "duration": 179,
    "start_time": "2022-07-05T07:57:57.588Z"
   },
   {
    "duration": 193,
    "start_time": "2022-07-05T07:58:55.341Z"
   },
   {
    "duration": 181,
    "start_time": "2022-07-05T07:59:41.641Z"
   },
   {
    "duration": 11,
    "start_time": "2022-07-05T08:00:04.162Z"
   },
   {
    "duration": 6,
    "start_time": "2022-07-05T08:00:46.387Z"
   },
   {
    "duration": 5,
    "start_time": "2022-07-05T08:01:07.655Z"
   },
   {
    "duration": 40,
    "start_time": "2022-07-05T08:01:18.740Z"
   },
   {
    "duration": 36,
    "start_time": "2022-07-05T08:01:56.648Z"
   },
   {
    "duration": 38,
    "start_time": "2022-07-05T08:02:03.019Z"
   },
   {
    "duration": 15,
    "start_time": "2022-07-05T08:02:29.873Z"
   },
   {
    "duration": 1336,
    "start_time": "2022-07-05T08:03:00.266Z"
   },
   {
    "duration": 949,
    "start_time": "2022-07-05T08:03:11.183Z"
   },
   {
    "duration": 15,
    "start_time": "2022-07-05T08:03:18.798Z"
   },
   {
    "duration": 28,
    "start_time": "2022-07-05T08:03:22.683Z"
   },
   {
    "duration": 8,
    "start_time": "2022-07-05T08:03:43.520Z"
   },
   {
    "duration": 16,
    "start_time": "2022-07-05T08:08:11.492Z"
   },
   {
    "duration": 11,
    "start_time": "2022-07-05T08:08:17.585Z"
   },
   {
    "duration": 11,
    "start_time": "2022-07-05T08:08:20.228Z"
   },
   {
    "duration": 12,
    "start_time": "2022-07-05T08:08:53.700Z"
   },
   {
    "duration": 52,
    "start_time": "2022-07-05T08:11:30.747Z"
   },
   {
    "duration": 12,
    "start_time": "2022-07-05T08:13:48.121Z"
   },
   {
    "duration": 22,
    "start_time": "2022-07-05T08:14:00.620Z"
   },
   {
    "duration": 630,
    "start_time": "2022-07-05T08:14:03.986Z"
   },
   {
    "duration": 573,
    "start_time": "2022-07-05T08:14:09.240Z"
   },
   {
    "duration": 12,
    "start_time": "2022-07-05T08:18:20.480Z"
   },
   {
    "duration": 429,
    "start_time": "2022-07-05T08:18:25.401Z"
   },
   {
    "duration": 9,
    "start_time": "2022-07-05T08:18:31.240Z"
   },
   {
    "duration": 8,
    "start_time": "2022-07-05T08:21:02.479Z"
   },
   {
    "duration": 8,
    "start_time": "2022-07-05T08:21:05.041Z"
   },
   {
    "duration": 13,
    "start_time": "2022-07-05T08:21:08.890Z"
   },
   {
    "duration": 12,
    "start_time": "2022-07-05T08:21:15.536Z"
   },
   {
    "duration": 9,
    "start_time": "2022-07-05T08:21:57.880Z"
   },
   {
    "duration": 12,
    "start_time": "2022-07-05T08:22:36.561Z"
   },
   {
    "duration": 10,
    "start_time": "2022-07-05T08:27:59.033Z"
   },
   {
    "duration": 11,
    "start_time": "2022-07-05T08:28:35.992Z"
   },
   {
    "duration": 9,
    "start_time": "2022-07-05T08:28:53.594Z"
   },
   {
    "duration": 11,
    "start_time": "2022-07-05T08:29:02.792Z"
   },
   {
    "duration": 11,
    "start_time": "2022-07-05T08:31:26.178Z"
   },
   {
    "duration": 24,
    "start_time": "2022-07-05T08:31:30.475Z"
   },
   {
    "duration": 58,
    "start_time": "2022-07-05T08:32:01.253Z"
   },
   {
    "duration": 13,
    "start_time": "2022-07-05T08:32:11.513Z"
   },
   {
    "duration": 452,
    "start_time": "2022-07-05T08:32:21.393Z"
   },
   {
    "duration": 1185,
    "start_time": "2022-07-05T08:32:55.297Z"
   },
   {
    "duration": 1115,
    "start_time": "2022-07-05T08:32:59.734Z"
   },
   {
    "duration": 526,
    "start_time": "2022-07-05T08:33:39.313Z"
   },
   {
    "duration": 959,
    "start_time": "2022-07-05T08:34:54.835Z"
   },
   {
    "duration": 574,
    "start_time": "2022-07-05T08:35:03.275Z"
   },
   {
    "duration": 248031,
    "start_time": "2022-07-05T08:41:03.875Z"
   },
   {
    "duration": 1098,
    "start_time": "2022-07-05T08:45:35.557Z"
   },
   {
    "duration": 12,
    "start_time": "2022-07-05T08:45:40.297Z"
   },
   {
    "duration": 844,
    "start_time": "2022-07-05T08:45:51.337Z"
   },
   {
    "duration": 11,
    "start_time": "2022-07-05T08:45:55.597Z"
   },
   {
    "duration": 13,
    "start_time": "2022-07-05T08:46:22.177Z"
   },
   {
    "duration": 14,
    "start_time": "2022-07-05T08:47:14.618Z"
   },
   {
    "duration": 39,
    "start_time": "2022-07-05T08:48:48.605Z"
   },
   {
    "duration": 35,
    "start_time": "2022-07-05T08:49:09.998Z"
   },
   {
    "duration": 18,
    "start_time": "2022-07-05T08:49:32.258Z"
   },
   {
    "duration": 16,
    "start_time": "2022-07-05T08:49:37.458Z"
   },
   {
    "duration": 12,
    "start_time": "2022-07-05T08:50:01.878Z"
   },
   {
    "duration": 10,
    "start_time": "2022-07-05T08:51:34.205Z"
   },
   {
    "duration": 677,
    "start_time": "2022-07-05T11:54:02.211Z"
   },
   {
    "duration": 19,
    "start_time": "2022-07-05T11:54:02.889Z"
   },
   {
    "duration": 13,
    "start_time": "2022-07-05T11:54:02.910Z"
   },
   {
    "duration": 9,
    "start_time": "2022-07-05T11:54:02.924Z"
   },
   {
    "duration": 29,
    "start_time": "2022-07-05T11:54:02.935Z"
   },
   {
    "duration": 4,
    "start_time": "2022-07-05T11:54:02.965Z"
   },
   {
    "duration": 11,
    "start_time": "2022-07-05T11:54:02.970Z"
   },
   {
    "duration": 4,
    "start_time": "2022-07-05T11:54:03.002Z"
   },
   {
    "duration": 14,
    "start_time": "2022-07-05T11:54:03.007Z"
   },
   {
    "duration": 4,
    "start_time": "2022-07-05T11:54:03.022Z"
   },
   {
    "duration": 32,
    "start_time": "2022-07-05T11:54:03.027Z"
   },
   {
    "duration": 9,
    "start_time": "2022-07-05T11:54:03.060Z"
   },
   {
    "duration": 8,
    "start_time": "2022-07-05T11:54:03.070Z"
   },
   {
    "duration": 21,
    "start_time": "2022-07-05T11:54:03.081Z"
   },
   {
    "duration": 14,
    "start_time": "2022-07-05T11:54:03.104Z"
   },
   {
    "duration": 9,
    "start_time": "2022-07-05T11:54:03.120Z"
   },
   {
    "duration": 9,
    "start_time": "2022-07-05T11:54:03.130Z"
   },
   {
    "duration": 14,
    "start_time": "2022-07-05T11:54:03.140Z"
   },
   {
    "duration": 15,
    "start_time": "2022-07-05T11:54:03.156Z"
   },
   {
    "duration": 5,
    "start_time": "2022-07-05T11:54:03.172Z"
   },
   {
    "duration": 14,
    "start_time": "2022-07-05T11:54:03.179Z"
   },
   {
    "duration": 6,
    "start_time": "2022-07-05T11:55:37.368Z"
   },
   {
    "duration": 5,
    "start_time": "2022-07-05T11:56:23.917Z"
   },
   {
    "duration": 903,
    "start_time": "2022-07-05T12:02:06.639Z"
   },
   {
    "duration": 116,
    "start_time": "2022-07-05T12:03:17.839Z"
   },
   {
    "duration": 122,
    "start_time": "2022-07-05T12:03:43.457Z"
   },
   {
    "duration": 15,
    "start_time": "2022-07-05T12:23:00.458Z"
   },
   {
    "duration": 112,
    "start_time": "2022-07-05T12:23:18.257Z"
   },
   {
    "duration": 219,
    "start_time": "2022-07-05T12:23:53.277Z"
   },
   {
    "duration": 10,
    "start_time": "2022-07-05T12:24:31.077Z"
   },
   {
    "duration": 146,
    "start_time": "2022-07-05T12:24:42.899Z"
   },
   {
    "duration": 126,
    "start_time": "2022-07-05T12:24:52.594Z"
   },
   {
    "duration": 227,
    "start_time": "2022-07-05T12:25:03.736Z"
   },
   {
    "duration": 131,
    "start_time": "2022-07-05T12:30:36.235Z"
   },
   {
    "duration": 126,
    "start_time": "2022-07-05T12:30:40.416Z"
   },
   {
    "duration": 138,
    "start_time": "2022-07-05T12:30:44.295Z"
   },
   {
    "duration": 115,
    "start_time": "2022-07-05T12:30:48.717Z"
   },
   {
    "duration": 111,
    "start_time": "2022-07-05T12:30:56.836Z"
   },
   {
    "duration": 136,
    "start_time": "2022-07-05T12:33:55.834Z"
   },
   {
    "duration": 10,
    "start_time": "2022-07-05T12:42:49.018Z"
   },
   {
    "duration": 22,
    "start_time": "2022-07-05T12:42:52.274Z"
   },
   {
    "duration": 10,
    "start_time": "2022-07-05T12:43:23.425Z"
   },
   {
    "duration": 7,
    "start_time": "2022-07-05T12:43:29.392Z"
   },
   {
    "duration": 13,
    "start_time": "2022-07-05T12:51:06.213Z"
   },
   {
    "duration": 14,
    "start_time": "2022-07-05T12:54:29.431Z"
   },
   {
    "duration": 12,
    "start_time": "2022-07-05T12:54:48.051Z"
   },
   {
    "duration": 11,
    "start_time": "2022-07-05T13:01:16.600Z"
   },
   {
    "duration": 16,
    "start_time": "2022-07-05T13:01:19.796Z"
   },
   {
    "duration": 140,
    "start_time": "2022-07-05T13:01:20.105Z"
   },
   {
    "duration": 10,
    "start_time": "2022-07-05T13:11:07.552Z"
   },
   {
    "duration": 13,
    "start_time": "2022-07-05T13:11:28.352Z"
   },
   {
    "duration": 12,
    "start_time": "2022-07-05T13:12:04.013Z"
   },
   {
    "duration": 11,
    "start_time": "2022-07-05T13:12:14.052Z"
   },
   {
    "duration": 8,
    "start_time": "2022-07-07T07:52:10.391Z"
   },
   {
    "duration": 8,
    "start_time": "2022-07-07T07:52:15.433Z"
   },
   {
    "duration": 3,
    "start_time": "2022-07-07T07:52:27.352Z"
   },
   {
    "duration": 588,
    "start_time": "2022-07-07T08:35:18.626Z"
   },
   {
    "duration": 19,
    "start_time": "2022-07-07T08:35:19.216Z"
   },
   {
    "duration": 17,
    "start_time": "2022-07-07T08:35:19.237Z"
   },
   {
    "duration": 14,
    "start_time": "2022-07-07T08:35:19.255Z"
   },
   {
    "duration": 65,
    "start_time": "2022-07-07T08:35:19.271Z"
   },
   {
    "duration": 4,
    "start_time": "2022-07-07T08:35:19.337Z"
   },
   {
    "duration": 15,
    "start_time": "2022-07-07T08:35:19.343Z"
   },
   {
    "duration": 35,
    "start_time": "2022-07-07T08:35:19.361Z"
   },
   {
    "duration": 8,
    "start_time": "2022-07-07T08:35:19.398Z"
   },
   {
    "duration": 5,
    "start_time": "2022-07-07T08:35:19.408Z"
   },
   {
    "duration": 42,
    "start_time": "2022-07-07T08:35:19.414Z"
   },
   {
    "duration": 20,
    "start_time": "2022-07-07T08:35:19.457Z"
   },
   {
    "duration": 23,
    "start_time": "2022-07-07T08:35:19.481Z"
   },
   {
    "duration": 27,
    "start_time": "2022-07-07T08:35:19.507Z"
   },
   {
    "duration": 18,
    "start_time": "2022-07-07T08:35:19.536Z"
   },
   {
    "duration": 20,
    "start_time": "2022-07-07T08:35:19.555Z"
   },
   {
    "duration": 28,
    "start_time": "2022-07-07T08:35:19.577Z"
   },
   {
    "duration": 13,
    "start_time": "2022-07-07T08:35:19.607Z"
   },
   {
    "duration": 10,
    "start_time": "2022-07-07T08:35:19.621Z"
   },
   {
    "duration": 12,
    "start_time": "2022-07-07T08:35:19.632Z"
   },
   {
    "duration": 13,
    "start_time": "2022-07-07T08:35:19.646Z"
   },
   {
    "duration": 3,
    "start_time": "2022-07-07T08:35:22.841Z"
   },
   {
    "duration": 6,
    "start_time": "2022-07-07T08:35:23.129Z"
   },
   {
    "duration": 1233,
    "start_time": "2022-07-07T08:35:25.100Z"
   },
   {
    "duration": 200,
    "start_time": "2022-07-07T08:35:31.841Z"
   },
   {
    "duration": 14,
    "start_time": "2022-07-07T08:50:37.802Z"
   },
   {
    "duration": 102,
    "start_time": "2022-07-07T08:50:38.969Z"
   },
   {
    "duration": 119,
    "start_time": "2022-07-07T08:50:45.449Z"
   },
   {
    "duration": 682,
    "start_time": "2022-07-07T12:02:02.859Z"
   },
   {
    "duration": 22,
    "start_time": "2022-07-07T12:02:03.543Z"
   },
   {
    "duration": 18,
    "start_time": "2022-07-07T12:02:03.567Z"
   },
   {
    "duration": 10,
    "start_time": "2022-07-07T12:02:03.586Z"
   },
   {
    "duration": 39,
    "start_time": "2022-07-07T12:02:03.598Z"
   },
   {
    "duration": 11,
    "start_time": "2022-07-07T12:02:03.638Z"
   },
   {
    "duration": 65,
    "start_time": "2022-07-07T12:02:03.651Z"
   },
   {
    "duration": 4,
    "start_time": "2022-07-07T12:02:03.718Z"
   },
   {
    "duration": 20,
    "start_time": "2022-07-07T12:02:03.724Z"
   },
   {
    "duration": 15,
    "start_time": "2022-07-07T12:02:03.745Z"
   },
   {
    "duration": 43,
    "start_time": "2022-07-07T12:02:03.762Z"
   },
   {
    "duration": 11,
    "start_time": "2022-07-07T12:02:03.806Z"
   },
   {
    "duration": 14,
    "start_time": "2022-07-07T12:02:03.819Z"
   },
   {
    "duration": 30,
    "start_time": "2022-07-07T12:02:03.836Z"
   },
   {
    "duration": 19,
    "start_time": "2022-07-07T12:02:03.868Z"
   },
   {
    "duration": 20,
    "start_time": "2022-07-07T12:02:03.889Z"
   },
   {
    "duration": 10,
    "start_time": "2022-07-07T12:02:03.910Z"
   },
   {
    "duration": 16,
    "start_time": "2022-07-07T12:02:03.922Z"
   },
   {
    "duration": 9,
    "start_time": "2022-07-07T12:02:03.941Z"
   },
   {
    "duration": 4,
    "start_time": "2022-07-07T12:02:03.952Z"
   },
   {
    "duration": 15,
    "start_time": "2022-07-07T12:02:03.957Z"
   },
   {
    "duration": 4,
    "start_time": "2022-07-07T12:02:03.973Z"
   },
   {
    "duration": 26,
    "start_time": "2022-07-07T12:02:03.979Z"
   },
   {
    "duration": 932,
    "start_time": "2022-07-07T12:02:04.007Z"
   },
   {
    "duration": 155,
    "start_time": "2022-07-07T12:02:04.940Z"
   },
   {
    "duration": 14,
    "start_time": "2022-07-07T12:02:05.103Z"
   },
   {
    "duration": 148,
    "start_time": "2022-07-07T12:02:05.119Z"
   },
   {
    "duration": 15,
    "start_time": "2022-07-07T12:02:10.179Z"
   },
   {
    "duration": 119,
    "start_time": "2022-07-07T12:02:23.247Z"
   },
   {
    "duration": 125,
    "start_time": "2022-07-07T12:16:02.839Z"
   },
   {
    "duration": 18,
    "start_time": "2022-07-07T12:18:26.571Z"
   },
   {
    "duration": 143,
    "start_time": "2022-07-07T12:18:30.052Z"
   },
   {
    "duration": 105,
    "start_time": "2022-07-07T12:20:45.258Z"
   },
   {
    "duration": 94,
    "start_time": "2022-07-07T12:21:52.174Z"
   },
   {
    "duration": 16,
    "start_time": "2022-07-07T12:21:56.777Z"
   },
   {
    "duration": 14,
    "start_time": "2022-07-07T12:22:04.442Z"
   },
   {
    "duration": 123,
    "start_time": "2022-07-07T12:22:07.238Z"
   },
   {
    "duration": 138,
    "start_time": "2022-07-07T12:22:12.358Z"
   },
   {
    "duration": 10,
    "start_time": "2022-07-07T12:23:34.979Z"
   },
   {
    "duration": 13,
    "start_time": "2022-07-07T12:23:38.598Z"
   },
   {
    "duration": 11,
    "start_time": "2022-07-07T12:23:40.942Z"
   },
   {
    "duration": 10,
    "start_time": "2022-07-07T12:23:54.678Z"
   },
   {
    "duration": 118,
    "start_time": "2022-07-07T12:24:29.550Z"
   },
   {
    "duration": 12,
    "start_time": "2022-07-07T12:24:34.943Z"
   },
   {
    "duration": 13,
    "start_time": "2022-07-07T12:27:26.539Z"
   },
   {
    "duration": 13,
    "start_time": "2022-07-07T12:27:44.659Z"
   },
   {
    "duration": 15,
    "start_time": "2022-07-07T12:28:22.701Z"
   },
   {
    "duration": 18,
    "start_time": "2022-07-07T12:31:48.280Z"
   },
   {
    "duration": 203,
    "start_time": "2022-07-07T12:32:20.681Z"
   },
   {
    "duration": 10,
    "start_time": "2022-07-07T12:33:57.961Z"
   },
   {
    "duration": 86,
    "start_time": "2022-07-07T12:34:08.220Z"
   },
   {
    "duration": 9,
    "start_time": "2022-07-07T12:34:08.520Z"
   },
   {
    "duration": 9,
    "start_time": "2022-07-07T12:34:12.361Z"
   },
   {
    "duration": 10,
    "start_time": "2022-07-07T12:34:26.601Z"
   },
   {
    "duration": 226,
    "start_time": "2022-07-07T12:34:27.934Z"
   },
   {
    "duration": 227,
    "start_time": "2022-07-07T12:34:29.997Z"
   },
   {
    "duration": 11,
    "start_time": "2022-07-07T12:34:54.761Z"
   },
   {
    "duration": 78,
    "start_time": "2022-07-07T13:39:50.981Z"
   },
   {
    "duration": 15,
    "start_time": "2022-07-07T13:39:51.061Z"
   },
   {
    "duration": 29,
    "start_time": "2022-07-07T13:39:51.077Z"
   },
   {
    "duration": 9,
    "start_time": "2022-07-07T13:39:51.108Z"
   },
   {
    "duration": 40,
    "start_time": "2022-07-07T13:39:51.119Z"
   },
   {
    "duration": 3,
    "start_time": "2022-07-07T13:39:51.161Z"
   },
   {
    "duration": 13,
    "start_time": "2022-07-07T13:39:51.166Z"
   },
   {
    "duration": 6,
    "start_time": "2022-07-07T13:39:51.180Z"
   },
   {
    "duration": 6,
    "start_time": "2022-07-07T13:39:51.204Z"
   },
   {
    "duration": 7,
    "start_time": "2022-07-07T13:39:51.212Z"
   },
   {
    "duration": 32,
    "start_time": "2022-07-07T13:39:51.221Z"
   },
   {
    "duration": 8,
    "start_time": "2022-07-07T13:39:51.255Z"
   },
   {
    "duration": 16,
    "start_time": "2022-07-07T13:39:51.264Z"
   },
   {
    "duration": 35,
    "start_time": "2022-07-07T13:39:51.282Z"
   },
   {
    "duration": 17,
    "start_time": "2022-07-07T13:39:51.319Z"
   },
   {
    "duration": 10,
    "start_time": "2022-07-07T13:39:51.338Z"
   },
   {
    "duration": 5,
    "start_time": "2022-07-07T13:39:51.350Z"
   },
   {
    "duration": 19,
    "start_time": "2022-07-07T13:39:51.357Z"
   },
   {
    "duration": 28,
    "start_time": "2022-07-07T13:39:51.378Z"
   },
   {
    "duration": 3,
    "start_time": "2022-07-07T13:39:51.408Z"
   },
   {
    "duration": 14,
    "start_time": "2022-07-07T13:39:51.413Z"
   },
   {
    "duration": 3,
    "start_time": "2022-07-07T13:39:51.428Z"
   },
   {
    "duration": 14,
    "start_time": "2022-07-07T13:39:51.433Z"
   },
   {
    "duration": 13,
    "start_time": "2022-07-07T13:39:51.449Z"
   },
   {
    "duration": 162,
    "start_time": "2022-07-07T13:39:51.464Z"
   },
   {
    "duration": 12,
    "start_time": "2022-07-07T13:39:51.628Z"
   },
   {
    "duration": 139,
    "start_time": "2022-07-07T13:39:51.642Z"
   },
   {
    "duration": 23,
    "start_time": "2022-07-07T13:39:51.783Z"
   },
   {
    "duration": 132,
    "start_time": "2022-07-07T13:39:51.808Z"
   },
   {
    "duration": 12,
    "start_time": "2022-07-07T13:39:51.941Z"
   },
   {
    "duration": 12,
    "start_time": "2022-07-07T13:39:51.954Z"
   },
   {
    "duration": 246,
    "start_time": "2022-07-07T13:39:51.967Z"
   },
   {
    "duration": 136,
    "start_time": "2022-07-07T13:39:52.215Z"
   },
   {
    "duration": 500,
    "start_time": "2022-07-07T13:40:28.576Z"
   },
   {
    "duration": 23,
    "start_time": "2022-07-07T13:40:29.078Z"
   },
   {
    "duration": 15,
    "start_time": "2022-07-07T13:40:29.103Z"
   },
   {
    "duration": 11,
    "start_time": "2022-07-07T13:40:32.457Z"
   },
   {
    "duration": 29,
    "start_time": "2022-07-07T13:40:43.109Z"
   },
   {
    "duration": 26,
    "start_time": "2022-07-07T13:41:37.945Z"
   },
   {
    "duration": 5,
    "start_time": "2022-07-07T13:43:11.317Z"
   },
   {
    "duration": 23,
    "start_time": "2022-07-07T13:43:21.788Z"
   },
   {
    "duration": 7,
    "start_time": "2022-07-07T13:44:04.315Z"
   },
   {
    "duration": 7,
    "start_time": "2022-07-07T13:44:32.157Z"
   },
   {
    "duration": 5,
    "start_time": "2022-07-07T13:45:00.088Z"
   },
   {
    "duration": 4,
    "start_time": "2022-07-07T13:45:04.269Z"
   },
   {
    "duration": 7,
    "start_time": "2022-07-07T13:45:08.308Z"
   },
   {
    "duration": 4,
    "start_time": "2022-07-07T13:45:46.308Z"
   },
   {
    "duration": 12,
    "start_time": "2022-07-07T13:45:46.568Z"
   },
   {
    "duration": 6,
    "start_time": "2022-07-07T13:45:47.161Z"
   },
   {
    "duration": 3,
    "start_time": "2022-07-07T13:45:48.788Z"
   },
   {
    "duration": 8,
    "start_time": "2022-07-07T13:45:49.066Z"
   },
   {
    "duration": 23,
    "start_time": "2022-07-07T13:46:00.842Z"
   },
   {
    "duration": 10,
    "start_time": "2022-07-07T13:46:11.054Z"
   },
   {
    "duration": 5,
    "start_time": "2022-07-07T13:46:17.753Z"
   },
   {
    "duration": 19,
    "start_time": "2022-07-07T13:46:44.709Z"
   },
   {
    "duration": 6,
    "start_time": "2022-07-07T13:47:02.556Z"
   },
   {
    "duration": 5,
    "start_time": "2022-07-07T13:47:13.141Z"
   },
   {
    "duration": 6,
    "start_time": "2022-07-07T13:47:26.197Z"
   },
   {
    "duration": 5,
    "start_time": "2022-07-07T13:47:48.354Z"
   },
   {
    "duration": 7,
    "start_time": "2022-07-07T13:49:23.955Z"
   },
   {
    "duration": 22,
    "start_time": "2022-07-07T13:49:53.029Z"
   },
   {
    "duration": 9,
    "start_time": "2022-07-07T13:50:30.154Z"
   },
   {
    "duration": 66,
    "start_time": "2022-07-07T13:53:02.455Z"
   },
   {
    "duration": 10,
    "start_time": "2022-07-07T13:53:05.068Z"
   },
   {
    "duration": 350,
    "start_time": "2022-07-07T13:53:10.645Z"
   },
   {
    "duration": 27,
    "start_time": "2022-07-07T13:53:15.978Z"
   },
   {
    "duration": 15,
    "start_time": "2022-07-07T13:53:21.689Z"
   },
   {
    "duration": 385,
    "start_time": "2022-07-07T13:53:30.221Z"
   },
   {
    "duration": 136,
    "start_time": "2022-07-07T13:53:40.623Z"
   },
   {
    "duration": 165,
    "start_time": "2022-07-07T13:53:45.475Z"
   },
   {
    "duration": 4,
    "start_time": "2022-07-07T13:53:57.959Z"
   },
   {
    "duration": 6,
    "start_time": "2022-07-07T13:54:04.822Z"
   },
   {
    "duration": 10,
    "start_time": "2022-07-07T13:54:12.992Z"
   },
   {
    "duration": 31,
    "start_time": "2022-07-07T13:54:31.553Z"
   },
   {
    "duration": 80,
    "start_time": "2022-07-07T13:54:45.858Z"
   },
   {
    "duration": 5,
    "start_time": "2022-07-07T13:54:49.729Z"
   },
   {
    "duration": 6,
    "start_time": "2022-07-07T13:55:26.825Z"
   },
   {
    "duration": 7,
    "start_time": "2022-07-07T13:55:47.265Z"
   },
   {
    "duration": 461,
    "start_time": "2022-07-08T11:52:36.042Z"
   },
   {
    "duration": 22,
    "start_time": "2022-07-08T11:52:36.505Z"
   },
   {
    "duration": 15,
    "start_time": "2022-07-08T11:52:36.529Z"
   },
   {
    "duration": 4,
    "start_time": "2022-07-08T11:53:46.111Z"
   },
   {
    "duration": 7,
    "start_time": "2022-07-08T11:55:06.411Z"
   },
   {
    "duration": 500,
    "start_time": "2022-07-08T11:55:19.112Z"
   },
   {
    "duration": 7,
    "start_time": "2022-07-08T11:55:29.218Z"
   },
   {
    "duration": 25,
    "start_time": "2022-07-08T11:55:35.470Z"
   },
   {
    "duration": 18,
    "start_time": "2022-07-08T11:56:00.551Z"
   },
   {
    "duration": 21,
    "start_time": "2022-07-08T11:56:15.259Z"
   },
   {
    "duration": 17,
    "start_time": "2022-07-08T11:56:47.260Z"
   },
   {
    "duration": 78,
    "start_time": "2022-07-08T11:57:11.476Z"
   },
   {
    "duration": 14,
    "start_time": "2022-07-08T11:57:46.196Z"
   },
   {
    "duration": 10,
    "start_time": "2022-07-08T11:57:51.145Z"
   },
   {
    "duration": 5,
    "start_time": "2022-07-08T11:58:29.960Z"
   },
   {
    "duration": 6,
    "start_time": "2022-07-08T11:58:36.180Z"
   },
   {
    "duration": 8,
    "start_time": "2022-07-08T11:58:41.879Z"
   },
   {
    "duration": 5,
    "start_time": "2022-07-08T11:58:48.180Z"
   },
   {
    "duration": 6,
    "start_time": "2022-07-08T11:58:52.879Z"
   },
   {
    "duration": 5,
    "start_time": "2022-07-08T11:58:56.502Z"
   },
   {
    "duration": 9,
    "start_time": "2022-07-08T11:59:08.667Z"
   },
   {
    "duration": 14,
    "start_time": "2022-07-08T11:59:13.500Z"
   },
   {
    "duration": 13,
    "start_time": "2022-07-08T11:59:21.822Z"
   },
   {
    "duration": 14,
    "start_time": "2022-07-08T11:59:33.483Z"
   },
   {
    "duration": 29,
    "start_time": "2022-07-08T12:00:54.580Z"
   },
   {
    "duration": 4,
    "start_time": "2022-07-08T12:04:21.295Z"
   },
   {
    "duration": 5,
    "start_time": "2022-07-08T12:04:23.907Z"
   },
   {
    "duration": 6,
    "start_time": "2022-07-08T12:07:55.782Z"
   },
   {
    "duration": 7,
    "start_time": "2022-07-08T12:08:05.340Z"
   },
   {
    "duration": 8,
    "start_time": "2022-07-08T12:08:21.287Z"
   },
   {
    "duration": 10,
    "start_time": "2022-07-08T12:08:28.765Z"
   },
   {
    "duration": 11,
    "start_time": "2022-07-08T12:08:34.681Z"
   },
   {
    "duration": 6,
    "start_time": "2022-07-08T12:08:47.955Z"
   },
   {
    "duration": 13,
    "start_time": "2022-07-08T12:10:33.779Z"
   },
   {
    "duration": 128,
    "start_time": "2022-07-08T12:14:36.876Z"
   },
   {
    "duration": 160,
    "start_time": "2022-07-08T12:14:43.870Z"
   },
   {
    "duration": 121,
    "start_time": "2022-07-08T12:15:01.830Z"
   },
   {
    "duration": 124,
    "start_time": "2022-07-08T12:15:03.271Z"
   },
   {
    "duration": 132,
    "start_time": "2022-07-08T12:15:40.158Z"
   },
   {
    "duration": 163,
    "start_time": "2022-07-08T12:15:52.498Z"
   },
   {
    "duration": 5,
    "start_time": "2022-07-08T12:16:28.778Z"
   },
   {
    "duration": 92,
    "start_time": "2022-07-08T12:18:32.249Z"
   },
   {
    "duration": 82,
    "start_time": "2022-07-08T12:18:48.790Z"
   },
   {
    "duration": 69,
    "start_time": "2022-07-08T12:18:57.089Z"
   },
   {
    "duration": 71,
    "start_time": "2022-07-08T12:25:46.269Z"
   },
   {
    "duration": 69,
    "start_time": "2022-07-08T12:27:24.109Z"
   },
   {
    "duration": 127,
    "start_time": "2022-07-08T12:27:25.609Z"
   },
   {
    "duration": 130,
    "start_time": "2022-07-08T12:27:36.161Z"
   },
   {
    "duration": 74,
    "start_time": "2022-07-08T12:32:21.577Z"
   },
   {
    "duration": 665,
    "start_time": "2022-07-08T12:32:31.649Z"
   },
   {
    "duration": 6,
    "start_time": "2022-07-08T12:32:46.744Z"
   },
   {
    "duration": 72,
    "start_time": "2022-07-08T12:32:57.062Z"
   },
   {
    "duration": 21,
    "start_time": "2022-07-08T12:32:58.241Z"
   },
   {
    "duration": 159,
    "start_time": "2022-07-08T12:33:01.442Z"
   },
   {
    "duration": 149,
    "start_time": "2022-07-08T12:33:02.296Z"
   },
   {
    "duration": 63,
    "start_time": "2022-07-08T12:48:52.620Z"
   },
   {
    "duration": 17,
    "start_time": "2022-07-08T12:48:52.684Z"
   },
   {
    "duration": 24,
    "start_time": "2022-07-08T12:48:52.703Z"
   },
   {
    "duration": 8,
    "start_time": "2022-07-08T12:48:52.729Z"
   },
   {
    "duration": 36,
    "start_time": "2022-07-08T12:48:52.740Z"
   },
   {
    "duration": 4,
    "start_time": "2022-07-08T12:48:52.777Z"
   },
   {
    "duration": 9,
    "start_time": "2022-07-08T12:48:52.801Z"
   },
   {
    "duration": 12,
    "start_time": "2022-07-08T12:48:52.811Z"
   },
   {
    "duration": 19,
    "start_time": "2022-07-08T12:48:52.825Z"
   },
   {
    "duration": 11,
    "start_time": "2022-07-08T12:48:52.845Z"
   },
   {
    "duration": 46,
    "start_time": "2022-07-08T12:48:52.858Z"
   },
   {
    "duration": 8,
    "start_time": "2022-07-08T12:48:52.906Z"
   },
   {
    "duration": 14,
    "start_time": "2022-07-08T12:48:52.916Z"
   },
   {
    "duration": 29,
    "start_time": "2022-07-08T12:48:52.932Z"
   },
   {
    "duration": 16,
    "start_time": "2022-07-08T12:48:52.962Z"
   },
   {
    "duration": 9,
    "start_time": "2022-07-08T12:48:52.980Z"
   },
   {
    "duration": 21,
    "start_time": "2022-07-08T12:48:52.990Z"
   },
   {
    "duration": 15,
    "start_time": "2022-07-08T12:48:53.013Z"
   },
   {
    "duration": 11,
    "start_time": "2022-07-08T12:48:53.030Z"
   },
   {
    "duration": 6,
    "start_time": "2022-07-08T12:48:53.043Z"
   },
   {
    "duration": 11,
    "start_time": "2022-07-08T12:48:53.050Z"
   },
   {
    "duration": 13,
    "start_time": "2022-07-08T12:48:53.063Z"
   },
   {
    "duration": 12,
    "start_time": "2022-07-08T12:49:20.036Z"
   },
   {
    "duration": 448,
    "start_time": "2022-07-08T12:49:23.219Z"
   },
   {
    "duration": 18,
    "start_time": "2022-07-08T12:49:27.998Z"
   },
   {
    "duration": 17,
    "start_time": "2022-07-08T12:49:46.291Z"
   },
   {
    "duration": 23,
    "start_time": "2022-07-08T12:50:00.673Z"
   },
   {
    "duration": 68,
    "start_time": "2022-07-08T12:50:12.511Z"
   },
   {
    "duration": 15,
    "start_time": "2022-07-08T12:50:12.581Z"
   },
   {
    "duration": 19,
    "start_time": "2022-07-08T12:50:12.598Z"
   },
   {
    "duration": 11,
    "start_time": "2022-07-08T12:50:12.619Z"
   },
   {
    "duration": 59,
    "start_time": "2022-07-08T12:50:12.632Z"
   },
   {
    "duration": 4,
    "start_time": "2022-07-08T12:50:12.692Z"
   },
   {
    "duration": 10,
    "start_time": "2022-07-08T12:50:12.697Z"
   },
   {
    "duration": 11,
    "start_time": "2022-07-08T12:50:12.708Z"
   },
   {
    "duration": 8,
    "start_time": "2022-07-08T12:50:12.720Z"
   },
   {
    "duration": 5,
    "start_time": "2022-07-08T12:50:12.729Z"
   },
   {
    "duration": 35,
    "start_time": "2022-07-08T12:50:12.736Z"
   },
   {
    "duration": 9,
    "start_time": "2022-07-08T12:50:12.773Z"
   },
   {
    "duration": 4,
    "start_time": "2022-07-08T12:50:12.801Z"
   },
   {
    "duration": 26,
    "start_time": "2022-07-08T12:50:12.806Z"
   },
   {
    "duration": 15,
    "start_time": "2022-07-08T12:50:12.833Z"
   },
   {
    "duration": 12,
    "start_time": "2022-07-08T12:50:12.850Z"
   },
   {
    "duration": 12,
    "start_time": "2022-07-08T12:50:12.864Z"
   },
   {
    "duration": 18,
    "start_time": "2022-07-08T12:50:12.877Z"
   },
   {
    "duration": 5,
    "start_time": "2022-07-08T12:50:12.900Z"
   },
   {
    "duration": 5,
    "start_time": "2022-07-08T12:50:12.907Z"
   },
   {
    "duration": 13,
    "start_time": "2022-07-08T12:50:12.914Z"
   },
   {
    "duration": 8,
    "start_time": "2022-07-08T12:50:12.929Z"
   },
   {
    "duration": 9,
    "start_time": "2022-07-08T12:51:02.751Z"
   },
   {
    "duration": 9,
    "start_time": "2022-07-08T12:51:19.551Z"
   },
   {
    "duration": 8,
    "start_time": "2022-07-08T12:51:27.442Z"
   },
   {
    "duration": 165,
    "start_time": "2022-07-08T13:00:01.689Z"
   },
   {
    "duration": 35,
    "start_time": "2022-07-08T13:03:29.190Z"
   },
   {
    "duration": 13,
    "start_time": "2022-07-08T13:03:31.676Z"
   },
   {
    "duration": 144,
    "start_time": "2022-07-08T13:03:31.902Z"
   },
   {
    "duration": 149,
    "start_time": "2022-07-08T13:03:47.447Z"
   },
   {
    "duration": 11,
    "start_time": "2022-07-08T13:04:44.788Z"
   },
   {
    "duration": 139,
    "start_time": "2022-07-08T13:05:52.789Z"
   },
   {
    "duration": 12,
    "start_time": "2022-07-08T13:11:24.882Z"
   },
   {
    "duration": 12,
    "start_time": "2022-07-08T13:11:54.752Z"
   },
   {
    "duration": 10,
    "start_time": "2022-07-08T13:12:12.176Z"
   },
   {
    "duration": 14,
    "start_time": "2022-07-08T13:12:19.916Z"
   },
   {
    "duration": 16,
    "start_time": "2022-07-08T13:12:39.906Z"
   },
   {
    "duration": 20,
    "start_time": "2022-07-08T13:13:05.476Z"
   },
   {
    "duration": 14,
    "start_time": "2022-07-08T13:13:21.996Z"
   },
   {
    "duration": 143,
    "start_time": "2022-07-08T13:14:19.361Z"
   },
   {
    "duration": 20,
    "start_time": "2022-07-08T13:15:48.697Z"
   },
   {
    "duration": 17,
    "start_time": "2022-07-08T13:15:55.576Z"
   },
   {
    "duration": 13,
    "start_time": "2022-07-08T13:15:59.896Z"
   },
   {
    "duration": 215,
    "start_time": "2022-07-08T13:16:01.656Z"
   },
   {
    "duration": 202,
    "start_time": "2022-07-08T13:16:06.477Z"
   },
   {
    "duration": 214,
    "start_time": "2022-07-08T13:16:45.957Z"
   },
   {
    "duration": 199,
    "start_time": "2022-07-08T13:17:19.517Z"
   },
   {
    "duration": 3,
    "start_time": "2022-07-08T13:17:49.796Z"
   },
   {
    "duration": 232,
    "start_time": "2022-07-08T13:18:34.248Z"
   },
   {
    "duration": 535,
    "start_time": "2022-07-09T13:24:19.147Z"
   },
   {
    "duration": 25,
    "start_time": "2022-07-09T13:24:19.684Z"
   },
   {
    "duration": 18,
    "start_time": "2022-07-09T13:24:19.711Z"
   },
   {
    "duration": 28,
    "start_time": "2022-07-09T13:24:19.732Z"
   },
   {
    "duration": 46,
    "start_time": "2022-07-09T13:24:19.764Z"
   },
   {
    "duration": 4,
    "start_time": "2022-07-09T13:24:19.812Z"
   },
   {
    "duration": 33,
    "start_time": "2022-07-09T13:24:19.818Z"
   },
   {
    "duration": 5,
    "start_time": "2022-07-09T13:24:19.853Z"
   },
   {
    "duration": 13,
    "start_time": "2022-07-09T13:24:19.859Z"
   },
   {
    "duration": 5,
    "start_time": "2022-07-09T13:24:19.874Z"
   },
   {
    "duration": 80,
    "start_time": "2022-07-09T13:24:19.881Z"
   },
   {
    "duration": 14,
    "start_time": "2022-07-09T13:24:19.963Z"
   },
   {
    "duration": 5,
    "start_time": "2022-07-09T13:24:19.979Z"
   },
   {
    "duration": 43,
    "start_time": "2022-07-09T13:24:19.997Z"
   },
   {
    "duration": 19,
    "start_time": "2022-07-09T13:24:20.042Z"
   },
   {
    "duration": 13,
    "start_time": "2022-07-09T13:24:20.063Z"
   },
   {
    "duration": 8,
    "start_time": "2022-07-09T13:24:20.078Z"
   },
   {
    "duration": 19,
    "start_time": "2022-07-09T13:24:20.088Z"
   },
   {
    "duration": 6,
    "start_time": "2022-07-09T13:24:20.109Z"
   },
   {
    "duration": 4,
    "start_time": "2022-07-09T13:24:20.116Z"
   },
   {
    "duration": 10,
    "start_time": "2022-07-09T13:24:20.146Z"
   },
   {
    "duration": 7,
    "start_time": "2022-07-09T13:24:23.403Z"
   },
   {
    "duration": 925,
    "start_time": "2022-07-09T13:24:25.365Z"
   },
   {
    "duration": 157,
    "start_time": "2022-07-09T13:24:26.963Z"
   },
   {
    "duration": 17,
    "start_time": "2022-07-09T13:27:10.657Z"
   },
   {
    "duration": 195,
    "start_time": "2022-07-09T13:27:13.459Z"
   },
   {
    "duration": 14,
    "start_time": "2022-07-09T13:28:13.138Z"
   },
   {
    "duration": 163,
    "start_time": "2022-07-09T13:28:24.395Z"
   },
   {
    "duration": 147,
    "start_time": "2022-07-09T13:28:30.883Z"
   },
   {
    "duration": 142,
    "start_time": "2022-07-09T13:28:36.501Z"
   },
   {
    "duration": 14,
    "start_time": "2022-07-09T13:29:22.600Z"
   },
   {
    "duration": 161,
    "start_time": "2022-07-09T13:29:22.906Z"
   },
   {
    "duration": 191,
    "start_time": "2022-07-09T13:29:34.970Z"
   },
   {
    "duration": 250,
    "start_time": "2022-07-09T13:35:15.343Z"
   },
   {
    "duration": 17,
    "start_time": "2022-07-09T13:35:19.839Z"
   },
   {
    "duration": 204,
    "start_time": "2022-07-09T13:35:26.154Z"
   },
   {
    "duration": 204,
    "start_time": "2022-07-09T13:35:40.108Z"
   },
   {
    "duration": 209,
    "start_time": "2022-07-09T13:36:26.757Z"
   },
   {
    "duration": 542,
    "start_time": "2022-07-09T13:38:36.673Z"
   },
   {
    "duration": 369,
    "start_time": "2022-07-09T13:38:44.866Z"
   },
   {
    "duration": 246,
    "start_time": "2022-07-09T13:40:19.007Z"
   },
   {
    "duration": 219,
    "start_time": "2022-07-09T13:43:34.904Z"
   },
   {
    "duration": 73,
    "start_time": "2022-07-09T13:43:40.016Z"
   },
   {
    "duration": 196,
    "start_time": "2022-07-09T13:43:48.942Z"
   },
   {
    "duration": 127,
    "start_time": "2022-07-09T13:43:55.681Z"
   },
   {
    "duration": 190,
    "start_time": "2022-07-09T13:43:58.974Z"
   },
   {
    "duration": 529,
    "start_time": "2022-07-09T13:52:33.304Z"
   },
   {
    "duration": 28,
    "start_time": "2022-07-09T13:52:33.835Z"
   },
   {
    "duration": 27,
    "start_time": "2022-07-09T13:52:33.865Z"
   },
   {
    "duration": 18,
    "start_time": "2022-07-09T13:52:33.896Z"
   },
   {
    "duration": 69,
    "start_time": "2022-07-09T13:52:33.916Z"
   },
   {
    "duration": 5,
    "start_time": "2022-07-09T13:52:33.987Z"
   },
   {
    "duration": 16,
    "start_time": "2022-07-09T13:52:33.994Z"
   },
   {
    "duration": 11,
    "start_time": "2022-07-09T13:52:34.012Z"
   },
   {
    "duration": 21,
    "start_time": "2022-07-09T13:52:34.025Z"
   },
   {
    "duration": 6,
    "start_time": "2022-07-09T13:52:34.051Z"
   },
   {
    "duration": 58,
    "start_time": "2022-07-09T13:52:34.059Z"
   },
   {
    "duration": 28,
    "start_time": "2022-07-09T13:52:34.119Z"
   },
   {
    "duration": 5,
    "start_time": "2022-07-09T13:52:34.148Z"
   },
   {
    "duration": 32,
    "start_time": "2022-07-09T13:52:34.155Z"
   },
   {
    "duration": 20,
    "start_time": "2022-07-09T13:52:34.189Z"
   },
   {
    "duration": 15,
    "start_time": "2022-07-09T13:52:34.210Z"
   },
   {
    "duration": 26,
    "start_time": "2022-07-09T13:52:34.226Z"
   },
   {
    "duration": 22,
    "start_time": "2022-07-09T13:52:34.255Z"
   },
   {
    "duration": 10,
    "start_time": "2022-07-09T13:52:34.280Z"
   },
   {
    "duration": 5,
    "start_time": "2022-07-09T13:52:34.292Z"
   },
   {
    "duration": 15,
    "start_time": "2022-07-09T13:52:34.299Z"
   },
   {
    "duration": 31,
    "start_time": "2022-07-09T13:52:34.316Z"
   },
   {
    "duration": 778,
    "start_time": "2022-07-09T13:52:34.348Z"
   },
   {
    "duration": 163,
    "start_time": "2022-07-09T13:52:35.128Z"
   },
   {
    "duration": 14,
    "start_time": "2022-07-09T13:52:35.293Z"
   },
   {
    "duration": 191,
    "start_time": "2022-07-09T13:52:35.309Z"
   },
   {
    "duration": 16,
    "start_time": "2022-07-09T13:52:35.502Z"
   },
   {
    "duration": 157,
    "start_time": "2022-07-09T13:52:35.522Z"
   },
   {
    "duration": 16,
    "start_time": "2022-07-09T13:52:35.681Z"
   },
   {
    "duration": 166,
    "start_time": "2022-07-09T13:52:35.698Z"
   },
   {
    "duration": 15,
    "start_time": "2022-07-09T13:52:35.868Z"
   },
   {
    "duration": 271,
    "start_time": "2022-07-09T13:52:35.885Z"
   },
   {
    "duration": 76,
    "start_time": "2022-07-09T13:52:36.158Z"
   },
   {
    "duration": 160,
    "start_time": "2022-07-09T13:52:36.236Z"
   },
   {
    "duration": 171,
    "start_time": "2022-07-09T13:52:36.397Z"
   },
   {
    "duration": 557,
    "start_time": "2022-07-09T16:21:59.079Z"
   },
   {
    "duration": 35,
    "start_time": "2022-07-09T16:21:59.645Z"
   },
   {
    "duration": 18,
    "start_time": "2022-07-09T16:21:59.682Z"
   },
   {
    "duration": 16,
    "start_time": "2022-07-09T16:21:59.702Z"
   },
   {
    "duration": 52,
    "start_time": "2022-07-09T16:21:59.721Z"
   },
   {
    "duration": 4,
    "start_time": "2022-07-09T16:21:59.775Z"
   },
   {
    "duration": 16,
    "start_time": "2022-07-09T16:21:59.782Z"
   },
   {
    "duration": 33,
    "start_time": "2022-07-09T16:21:59.801Z"
   },
   {
    "duration": 30,
    "start_time": "2022-07-09T16:21:59.836Z"
   },
   {
    "duration": 13,
    "start_time": "2022-07-09T16:21:59.868Z"
   },
   {
    "duration": 60,
    "start_time": "2022-07-09T16:21:59.883Z"
   },
   {
    "duration": 16,
    "start_time": "2022-07-09T16:21:59.945Z"
   },
   {
    "duration": 37,
    "start_time": "2022-07-09T16:21:59.962Z"
   },
   {
    "duration": 59,
    "start_time": "2022-07-09T16:22:00.002Z"
   },
   {
    "duration": 29,
    "start_time": "2022-07-09T16:22:00.063Z"
   },
   {
    "duration": 12,
    "start_time": "2022-07-09T16:22:00.094Z"
   },
   {
    "duration": 38,
    "start_time": "2022-07-09T16:22:00.109Z"
   },
   {
    "duration": 23,
    "start_time": "2022-07-09T16:22:00.150Z"
   },
   {
    "duration": 35,
    "start_time": "2022-07-09T16:22:00.176Z"
   },
   {
    "duration": 56,
    "start_time": "2022-07-09T16:22:00.213Z"
   },
   {
    "duration": 29,
    "start_time": "2022-07-09T16:22:00.271Z"
   },
   {
    "duration": 56,
    "start_time": "2022-07-09T16:22:00.302Z"
   },
   {
    "duration": 1151,
    "start_time": "2022-07-09T16:22:00.360Z"
   },
   {
    "duration": 177,
    "start_time": "2022-07-09T16:22:01.513Z"
   },
   {
    "duration": 13,
    "start_time": "2022-07-09T16:22:01.692Z"
   },
   {
    "duration": 193,
    "start_time": "2022-07-09T16:22:01.707Z"
   },
   {
    "duration": 27,
    "start_time": "2022-07-09T16:22:01.903Z"
   },
   {
    "duration": 171,
    "start_time": "2022-07-09T16:22:01.938Z"
   },
   {
    "duration": 25,
    "start_time": "2022-07-09T16:22:02.111Z"
   },
   {
    "duration": 214,
    "start_time": "2022-07-09T16:22:02.138Z"
   },
   {
    "duration": 16,
    "start_time": "2022-07-09T16:22:02.354Z"
   },
   {
    "duration": 287,
    "start_time": "2022-07-09T16:22:02.372Z"
   },
   {
    "duration": 95,
    "start_time": "2022-07-09T16:22:02.661Z"
   },
   {
    "duration": 153,
    "start_time": "2022-07-09T16:22:02.758Z"
   },
   {
    "duration": 177,
    "start_time": "2022-07-09T16:22:02.912Z"
   },
   {
    "duration": 67,
    "start_time": "2022-07-10T08:36:33.902Z"
   },
   {
    "duration": 498,
    "start_time": "2022-07-10T08:36:41.644Z"
   },
   {
    "duration": 21,
    "start_time": "2022-07-10T08:36:42.144Z"
   },
   {
    "duration": 14,
    "start_time": "2022-07-10T08:36:42.167Z"
   },
   {
    "duration": 9,
    "start_time": "2022-07-10T08:36:42.183Z"
   },
   {
    "duration": 52,
    "start_time": "2022-07-10T08:36:42.194Z"
   },
   {
    "duration": 4,
    "start_time": "2022-07-10T08:36:42.248Z"
   },
   {
    "duration": 14,
    "start_time": "2022-07-10T08:36:42.253Z"
   },
   {
    "duration": 4,
    "start_time": "2022-07-10T08:36:42.269Z"
   },
   {
    "duration": 11,
    "start_time": "2022-07-10T08:36:42.274Z"
   },
   {
    "duration": 4,
    "start_time": "2022-07-10T08:36:42.288Z"
   },
   {
    "duration": 67,
    "start_time": "2022-07-10T08:36:42.295Z"
   },
   {
    "duration": 11,
    "start_time": "2022-07-10T08:36:42.364Z"
   },
   {
    "duration": 4,
    "start_time": "2022-07-10T08:36:42.377Z"
   },
   {
    "duration": 21,
    "start_time": "2022-07-10T08:36:42.382Z"
   },
   {
    "duration": 33,
    "start_time": "2022-07-10T08:36:42.405Z"
   },
   {
    "duration": 12,
    "start_time": "2022-07-10T08:36:42.439Z"
   },
   {
    "duration": 7,
    "start_time": "2022-07-10T08:36:42.452Z"
   },
   {
    "duration": 14,
    "start_time": "2022-07-10T08:36:42.461Z"
   },
   {
    "duration": 10,
    "start_time": "2022-07-10T08:36:42.476Z"
   },
   {
    "duration": 6,
    "start_time": "2022-07-10T08:36:42.487Z"
   },
   {
    "duration": 30,
    "start_time": "2022-07-10T08:36:42.494Z"
   },
   {
    "duration": 5,
    "start_time": "2022-07-10T08:36:42.525Z"
   },
   {
    "duration": 895,
    "start_time": "2022-07-10T08:36:42.532Z"
   },
   {
    "duration": 155,
    "start_time": "2022-07-10T08:36:43.428Z"
   },
   {
    "duration": 14,
    "start_time": "2022-07-10T08:36:43.585Z"
   },
   {
    "duration": 159,
    "start_time": "2022-07-10T08:36:43.601Z"
   },
   {
    "duration": 11,
    "start_time": "2022-07-10T08:36:43.762Z"
   },
   {
    "duration": 134,
    "start_time": "2022-07-10T08:36:43.776Z"
   },
   {
    "duration": 19,
    "start_time": "2022-07-10T08:36:43.912Z"
   },
   {
    "duration": 145,
    "start_time": "2022-07-10T08:36:43.933Z"
   },
   {
    "duration": 10,
    "start_time": "2022-07-10T08:36:44.080Z"
   },
   {
    "duration": 222,
    "start_time": "2022-07-10T08:36:44.091Z"
   },
   {
    "duration": 69,
    "start_time": "2022-07-10T08:36:44.315Z"
   },
   {
    "duration": 139,
    "start_time": "2022-07-10T08:36:44.385Z"
   },
   {
    "duration": 160,
    "start_time": "2022-07-10T08:36:44.526Z"
   },
   {
    "duration": 22,
    "start_time": "2022-07-10T08:36:48.243Z"
   },
   {
    "duration": 10,
    "start_time": "2022-07-10T08:40:49.891Z"
   },
   {
    "duration": 25,
    "start_time": "2022-07-10T08:41:07.748Z"
   },
   {
    "duration": 13,
    "start_time": "2022-07-10T08:41:55.242Z"
   },
   {
    "duration": 12,
    "start_time": "2022-07-10T08:42:38.438Z"
   },
   {
    "duration": 16,
    "start_time": "2022-07-10T08:42:53.062Z"
   },
   {
    "duration": 45,
    "start_time": "2022-07-10T08:43:55.638Z"
   },
   {
    "duration": 484,
    "start_time": "2022-07-10T08:44:35.714Z"
   },
   {
    "duration": 21,
    "start_time": "2022-07-10T08:44:36.200Z"
   },
   {
    "duration": 17,
    "start_time": "2022-07-10T08:44:36.222Z"
   },
   {
    "duration": 11,
    "start_time": "2022-07-10T08:44:36.241Z"
   },
   {
    "duration": 70,
    "start_time": "2022-07-10T08:44:36.254Z"
   },
   {
    "duration": 6,
    "start_time": "2022-07-10T08:44:36.326Z"
   },
   {
    "duration": 23,
    "start_time": "2022-07-10T08:44:36.334Z"
   },
   {
    "duration": 6,
    "start_time": "2022-07-10T08:44:36.360Z"
   },
   {
    "duration": 9,
    "start_time": "2022-07-10T08:44:36.368Z"
   },
   {
    "duration": 5,
    "start_time": "2022-07-10T08:44:36.381Z"
   },
   {
    "duration": 57,
    "start_time": "2022-07-10T08:44:36.387Z"
   },
   {
    "duration": 11,
    "start_time": "2022-07-10T08:44:36.446Z"
   },
   {
    "duration": 6,
    "start_time": "2022-07-10T08:44:36.459Z"
   },
   {
    "duration": 24,
    "start_time": "2022-07-10T08:44:36.467Z"
   },
   {
    "duration": 31,
    "start_time": "2022-07-10T08:44:36.493Z"
   },
   {
    "duration": 16,
    "start_time": "2022-07-10T08:44:36.525Z"
   },
   {
    "duration": 7,
    "start_time": "2022-07-10T08:44:36.543Z"
   },
   {
    "duration": 18,
    "start_time": "2022-07-10T08:44:36.551Z"
   },
   {
    "duration": 8,
    "start_time": "2022-07-10T08:44:36.571Z"
   },
   {
    "duration": 5,
    "start_time": "2022-07-10T08:44:36.581Z"
   },
   {
    "duration": 36,
    "start_time": "2022-07-10T08:44:36.588Z"
   },
   {
    "duration": 7,
    "start_time": "2022-07-10T08:44:36.627Z"
   },
   {
    "duration": 800,
    "start_time": "2022-07-10T08:44:36.636Z"
   },
   {
    "duration": 168,
    "start_time": "2022-07-10T08:44:37.438Z"
   },
   {
    "duration": 24,
    "start_time": "2022-07-10T08:44:37.607Z"
   },
   {
    "duration": 163,
    "start_time": "2022-07-10T08:44:37.634Z"
   },
   {
    "duration": 13,
    "start_time": "2022-07-10T08:44:37.799Z"
   },
   {
    "duration": 134,
    "start_time": "2022-07-10T08:44:37.826Z"
   },
   {
    "duration": 14,
    "start_time": "2022-07-10T08:44:37.962Z"
   },
   {
    "duration": 159,
    "start_time": "2022-07-10T08:44:37.977Z"
   },
   {
    "duration": 12,
    "start_time": "2022-07-10T08:44:38.138Z"
   },
   {
    "duration": 239,
    "start_time": "2022-07-10T08:44:38.151Z"
   },
   {
    "duration": 70,
    "start_time": "2022-07-10T08:44:38.391Z"
   },
   {
    "duration": 141,
    "start_time": "2022-07-10T08:44:38.463Z"
   },
   {
    "duration": 153,
    "start_time": "2022-07-10T08:44:38.606Z"
   },
   {
    "duration": 431,
    "start_time": "2022-07-10T08:50:21.274Z"
   },
   {
    "duration": 21,
    "start_time": "2022-07-10T08:50:21.706Z"
   },
   {
    "duration": 15,
    "start_time": "2022-07-10T08:50:21.728Z"
   },
   {
    "duration": 9,
    "start_time": "2022-07-10T08:50:21.744Z"
   },
   {
    "duration": 31,
    "start_time": "2022-07-10T08:50:21.754Z"
   },
   {
    "duration": 3,
    "start_time": "2022-07-10T08:50:21.787Z"
   },
   {
    "duration": 37,
    "start_time": "2022-07-10T08:50:21.791Z"
   },
   {
    "duration": 4,
    "start_time": "2022-07-10T08:50:21.829Z"
   },
   {
    "duration": 8,
    "start_time": "2022-07-10T08:50:21.835Z"
   },
   {
    "duration": 4,
    "start_time": "2022-07-10T08:50:21.845Z"
   },
   {
    "duration": 32,
    "start_time": "2022-07-10T08:50:21.851Z"
   },
   {
    "duration": 39,
    "start_time": "2022-07-10T08:50:21.885Z"
   },
   {
    "duration": 4,
    "start_time": "2022-07-10T08:50:21.926Z"
   },
   {
    "duration": 21,
    "start_time": "2022-07-10T08:50:21.932Z"
   },
   {
    "duration": 16,
    "start_time": "2022-07-10T08:50:21.955Z"
   },
   {
    "duration": 11,
    "start_time": "2022-07-10T08:50:21.972Z"
   },
   {
    "duration": 18,
    "start_time": "2022-07-10T08:50:21.985Z"
   },
   {
    "duration": 25,
    "start_time": "2022-07-10T08:50:22.005Z"
   },
   {
    "duration": 9,
    "start_time": "2022-07-10T08:50:22.032Z"
   },
   {
    "duration": 8,
    "start_time": "2022-07-10T08:50:22.042Z"
   },
   {
    "duration": 14,
    "start_time": "2022-07-10T08:50:22.052Z"
   },
   {
    "duration": 6,
    "start_time": "2022-07-10T08:50:22.068Z"
   },
   {
    "duration": 780,
    "start_time": "2022-07-10T08:50:22.076Z"
   },
   {
    "duration": 144,
    "start_time": "2022-07-10T08:50:22.857Z"
   },
   {
    "duration": 25,
    "start_time": "2022-07-10T08:50:23.003Z"
   },
   {
    "duration": 150,
    "start_time": "2022-07-10T08:50:23.030Z"
   },
   {
    "duration": 12,
    "start_time": "2022-07-10T08:50:23.182Z"
   },
   {
    "duration": 139,
    "start_time": "2022-07-10T08:50:23.196Z"
   },
   {
    "duration": 12,
    "start_time": "2022-07-10T08:50:23.337Z"
   },
   {
    "duration": 150,
    "start_time": "2022-07-10T08:50:23.351Z"
   },
   {
    "duration": 22,
    "start_time": "2022-07-10T08:50:23.503Z"
   },
   {
    "duration": 221,
    "start_time": "2022-07-10T08:50:23.527Z"
   },
   {
    "duration": 66,
    "start_time": "2022-07-10T08:50:23.749Z"
   },
   {
    "duration": 131,
    "start_time": "2022-07-10T08:50:23.817Z"
   },
   {
    "duration": 143,
    "start_time": "2022-07-10T08:50:23.950Z"
   },
   {
    "duration": 500,
    "start_time": "2022-07-10T17:20:19.702Z"
   },
   {
    "duration": 88,
    "start_time": "2022-07-10T17:20:20.205Z"
   },
   {
    "duration": 27,
    "start_time": "2022-07-10T17:20:20.295Z"
   },
   {
    "duration": 24,
    "start_time": "2022-07-10T17:20:20.324Z"
   },
   {
    "duration": 33,
    "start_time": "2022-07-10T17:20:20.350Z"
   },
   {
    "duration": 3,
    "start_time": "2022-07-10T17:20:20.385Z"
   },
   {
    "duration": 30,
    "start_time": "2022-07-10T17:20:20.390Z"
   },
   {
    "duration": 5,
    "start_time": "2022-07-10T17:20:20.422Z"
   },
   {
    "duration": 11,
    "start_time": "2022-07-10T17:20:20.429Z"
   },
   {
    "duration": 5,
    "start_time": "2022-07-10T17:20:20.441Z"
   },
   {
    "duration": 35,
    "start_time": "2022-07-10T17:20:20.447Z"
   },
   {
    "duration": 29,
    "start_time": "2022-07-10T17:20:20.484Z"
   },
   {
    "duration": 3,
    "start_time": "2022-07-10T17:20:20.515Z"
   },
   {
    "duration": 21,
    "start_time": "2022-07-10T17:20:20.521Z"
   },
   {
    "duration": 17,
    "start_time": "2022-07-10T17:20:20.544Z"
   },
   {
    "duration": 11,
    "start_time": "2022-07-10T17:20:20.563Z"
   },
   {
    "duration": 7,
    "start_time": "2022-07-10T17:20:20.576Z"
   },
   {
    "duration": 24,
    "start_time": "2022-07-10T17:20:20.606Z"
   },
   {
    "duration": 12,
    "start_time": "2022-07-10T17:20:20.632Z"
   },
   {
    "duration": 4,
    "start_time": "2022-07-10T17:20:20.646Z"
   },
   {
    "duration": 12,
    "start_time": "2022-07-10T17:20:20.651Z"
   },
   {
    "duration": 7,
    "start_time": "2022-07-10T17:20:20.664Z"
   },
   {
    "duration": 848,
    "start_time": "2022-07-10T17:20:20.672Z"
   },
   {
    "duration": 169,
    "start_time": "2022-07-10T17:20:21.522Z"
   },
   {
    "duration": 23,
    "start_time": "2022-07-10T17:20:21.694Z"
   },
   {
    "duration": 178,
    "start_time": "2022-07-10T17:20:21.718Z"
   },
   {
    "duration": 17,
    "start_time": "2022-07-10T17:20:21.904Z"
   },
   {
    "duration": 171,
    "start_time": "2022-07-10T17:20:21.923Z"
   },
   {
    "duration": 25,
    "start_time": "2022-07-10T17:20:22.096Z"
   },
   {
    "duration": 172,
    "start_time": "2022-07-10T17:20:22.124Z"
   },
   {
    "duration": 14,
    "start_time": "2022-07-10T17:20:22.306Z"
   },
   {
    "duration": 317,
    "start_time": "2022-07-10T17:20:22.323Z"
   },
   {
    "duration": 86,
    "start_time": "2022-07-10T17:20:22.642Z"
   },
   {
    "duration": 152,
    "start_time": "2022-07-10T17:20:22.729Z"
   },
   {
    "duration": 166,
    "start_time": "2022-07-10T17:20:22.882Z"
   }
  ],
  "celltoolbar": "Edit Metadata",
  "colab": {
   "name": "dpp_template_part2.ipynb",
   "provenance": []
  },
  "kernelspec": {
   "display_name": "Python 3 (ipykernel)",
   "language": "python",
   "name": "python3"
  },
  "language_info": {
   "codemirror_mode": {
    "name": "ipython",
    "version": 3
   },
   "file_extension": ".py",
   "mimetype": "text/x-python",
   "name": "python",
   "nbconvert_exporter": "python",
   "pygments_lexer": "ipython3",
   "version": "3.9.5"
  },
  "toc": {
   "base_numbering": 1,
   "nav_menu": {},
   "number_sections": true,
   "sideBar": true,
   "skip_h1_title": true,
   "title_cell": "Table of Contents",
   "title_sidebar": "Contents",
   "toc_cell": false,
   "toc_position": {},
   "toc_section_display": true,
   "toc_window_display": false
  }
 },
 "nbformat": 4,
 "nbformat_minor": 5
}
