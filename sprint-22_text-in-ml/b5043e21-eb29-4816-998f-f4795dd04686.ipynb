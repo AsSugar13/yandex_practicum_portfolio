{
 "cells": [
  {
   "cell_type": "markdown",
   "metadata": {
    "toc": true
   },
   "source": [
    "<h1>Содержание<span class=\"tocSkip\"></span></h1>\n",
    "<div class=\"toc\"><ul class=\"toc-item\"><li><ul class=\"toc-item\"></ul></li><li><span><a href=\"#Подготовка\" data-toc-modified-id=\"Подготовка-1\"><span class=\"toc-item-num\">1&nbsp;&nbsp;</span>Подготовка</a></span></li><li><span><a href=\"#Обучение\" data-toc-modified-id=\"Обучение-2\"><span class=\"toc-item-num\">2&nbsp;&nbsp;</span>Обучение</a></span></li><li><span><a href=\"#Выводы\" data-toc-modified-id=\"Выводы-3\"><span class=\"toc-item-num\">3&nbsp;&nbsp;</span>Выводы</a></span></li><li><span><a href=\"#Чек-лист-проверки\" data-toc-modified-id=\"Чек-лист-проверки-4\"><span class=\"toc-item-num\">4&nbsp;&nbsp;</span>Чек-лист проверки</a></span></li></ul></div>"
   ]
  },
  {
   "cell_type": "markdown",
   "metadata": {},
   "source": [
    "# Проект для «Викишоп» с BERT"
   ]
  },
  {
   "cell_type": "markdown",
   "metadata": {},
   "source": [
    "Интернет-магазин «Викишоп» запускает новый сервис. Теперь пользователи могут редактировать и дополнять описания товаров, как в вики-сообществах. То есть клиенты предлагают свои правки и комментируют изменения других. Магазину нужен инструмент, который будет искать токсичные комментарии и отправлять их на модерацию. \n",
    "\n",
    "Обучите модель классифицировать комментарии на позитивные и негативные. В вашем распоряжении набор данных с разметкой о токсичности правок.\n",
    "\n",
    "Постройте модель со значением метрики качества *F1* не меньше 0.75. \n",
    "\n",
    "**Инструкция по выполнению проекта**\n",
    "\n",
    "1. Загрузите и подготовьте данные.\n",
    "2. Обучите разные модели. \n",
    "3. Сделайте выводы.\n",
    "\n",
    "Для выполнения проекта применять *BERT* необязательно, но вы можете попробовать.\n",
    "\n",
    "**Описание данных**\n",
    "\n",
    "Данные находятся в файле `toxic_comments.csv`. Столбец *text* в нём содержит текст комментария, а *toxic* — целевой признак."
   ]
  },
  {
   "cell_type": "markdown",
   "metadata": {},
   "source": [
    "## Подготовка"
   ]
  },
  {
   "cell_type": "code",
   "execution_count": 1,
   "metadata": {},
   "outputs": [],
   "source": [
    "import numpy as np\n",
    "import pandas as pd\n",
    "import matplotlib.pyplot as plt\n",
    "import seaborn as sns\n",
    "import torch\n",
    "import transformers\n",
    "import math\n",
    "import re\n",
    "from tqdm import notebook\n",
    "\n",
    "from sklearn.linear_model import LogisticRegression\n",
    "from sklearn.preprocessing import StandardScaler\n",
    "from sklearn.model_selection import cross_val_score, train_test_split, GridSearchCV\n",
    "from sklearn.metrics import f1_score\n",
    "from sklearn.ensemble import RandomForestClassifier\n",
    "from lightgbm import LGBMClassifier\n",
    "\n",
    "PATH = './'\n",
    "device = torch.device(\"cuda\" if torch.cuda.is_available() else \"cpu\")"
   ]
  },
  {
   "cell_type": "code",
   "execution_count": 2,
   "metadata": {},
   "outputs": [],
   "source": [
    "df = pd.read_csv(PATH+'toxic_comments.csv', usecols=['text', 'toxic'])"
   ]
  },
  {
   "cell_type": "code",
   "execution_count": 3,
   "metadata": {},
   "outputs": [
    {
     "data": {
      "text/html": [
       "<div>\n",
       "<style scoped>\n",
       "    .dataframe tbody tr th:only-of-type {\n",
       "        vertical-align: middle;\n",
       "    }\n",
       "\n",
       "    .dataframe tbody tr th {\n",
       "        vertical-align: top;\n",
       "    }\n",
       "\n",
       "    .dataframe thead th {\n",
       "        text-align: right;\n",
       "    }\n",
       "</style>\n",
       "<table border=\"1\" class=\"dataframe\">\n",
       "  <thead>\n",
       "    <tr style=\"text-align: right;\">\n",
       "      <th></th>\n",
       "      <th>text</th>\n",
       "      <th>toxic</th>\n",
       "    </tr>\n",
       "  </thead>\n",
       "  <tbody>\n",
       "    <tr>\n",
       "      <th>0</th>\n",
       "      <td>Explanation\\nWhy the edits made under my usern...</td>\n",
       "      <td>0</td>\n",
       "    </tr>\n",
       "    <tr>\n",
       "      <th>1</th>\n",
       "      <td>D'aww! He matches this background colour I'm s...</td>\n",
       "      <td>0</td>\n",
       "    </tr>\n",
       "    <tr>\n",
       "      <th>2</th>\n",
       "      <td>Hey man, I'm really not trying to edit war. It...</td>\n",
       "      <td>0</td>\n",
       "    </tr>\n",
       "    <tr>\n",
       "      <th>3</th>\n",
       "      <td>\"\\nMore\\nI can't make any real suggestions on ...</td>\n",
       "      <td>0</td>\n",
       "    </tr>\n",
       "    <tr>\n",
       "      <th>4</th>\n",
       "      <td>You, sir, are my hero. Any chance you remember...</td>\n",
       "      <td>0</td>\n",
       "    </tr>\n",
       "  </tbody>\n",
       "</table>\n",
       "</div>"
      ],
      "text/plain": [
       "                                                text  toxic\n",
       "0  Explanation\\nWhy the edits made under my usern...      0\n",
       "1  D'aww! He matches this background colour I'm s...      0\n",
       "2  Hey man, I'm really not trying to edit war. It...      0\n",
       "3  \"\\nMore\\nI can't make any real suggestions on ...      0\n",
       "4  You, sir, are my hero. Any chance you remember...      0"
      ]
     },
     "metadata": {},
     "output_type": "display_data"
    },
    {
     "data": {
      "text/html": [
       "<div>\n",
       "<style scoped>\n",
       "    .dataframe tbody tr th:only-of-type {\n",
       "        vertical-align: middle;\n",
       "    }\n",
       "\n",
       "    .dataframe tbody tr th {\n",
       "        vertical-align: top;\n",
       "    }\n",
       "\n",
       "    .dataframe thead th {\n",
       "        text-align: right;\n",
       "    }\n",
       "</style>\n",
       "<table border=\"1\" class=\"dataframe\">\n",
       "  <thead>\n",
       "    <tr style=\"text-align: right;\">\n",
       "      <th></th>\n",
       "      <th>toxic</th>\n",
       "    </tr>\n",
       "  </thead>\n",
       "  <tbody>\n",
       "    <tr>\n",
       "      <th>count</th>\n",
       "      <td>159292.000000</td>\n",
       "    </tr>\n",
       "    <tr>\n",
       "      <th>mean</th>\n",
       "      <td>0.101612</td>\n",
       "    </tr>\n",
       "    <tr>\n",
       "      <th>std</th>\n",
       "      <td>0.302139</td>\n",
       "    </tr>\n",
       "    <tr>\n",
       "      <th>min</th>\n",
       "      <td>0.000000</td>\n",
       "    </tr>\n",
       "    <tr>\n",
       "      <th>25%</th>\n",
       "      <td>0.000000</td>\n",
       "    </tr>\n",
       "    <tr>\n",
       "      <th>50%</th>\n",
       "      <td>0.000000</td>\n",
       "    </tr>\n",
       "    <tr>\n",
       "      <th>75%</th>\n",
       "      <td>0.000000</td>\n",
       "    </tr>\n",
       "    <tr>\n",
       "      <th>max</th>\n",
       "      <td>1.000000</td>\n",
       "    </tr>\n",
       "  </tbody>\n",
       "</table>\n",
       "</div>"
      ],
      "text/plain": [
       "               toxic\n",
       "count  159292.000000\n",
       "mean        0.101612\n",
       "std         0.302139\n",
       "min         0.000000\n",
       "25%         0.000000\n",
       "50%         0.000000\n",
       "75%         0.000000\n",
       "max         1.000000"
      ]
     },
     "metadata": {},
     "output_type": "display_data"
    },
    {
     "name": "stdout",
     "output_type": "stream",
     "text": [
      "<class 'pandas.core.frame.DataFrame'>\n",
      "RangeIndex: 159292 entries, 0 to 159291\n",
      "Data columns (total 2 columns):\n",
      " #   Column  Non-Null Count   Dtype \n",
      "---  ------  --------------   ----- \n",
      " 0   text    159292 non-null  object\n",
      " 1   toxic   159292 non-null  int64 \n",
      "dtypes: int64(1), object(1)\n",
      "memory usage: 2.4+ MB\n"
     ]
    },
    {
     "data": {
      "text/plain": [
       "None"
      ]
     },
     "metadata": {},
     "output_type": "display_data"
    }
   ],
   "source": [
    "display(df.head())\n",
    "display(df.describe())\n",
    "display(df.info())"
   ]
  },
  {
   "cell_type": "markdown",
   "metadata": {},
   "source": [
    "Векторизация классического BERT огранича инпутом в 512 символов. Посмотрим, все ли текстовые данные укладываются в данный лимит"
   ]
  },
  {
   "cell_type": "code",
   "execution_count": 4,
   "metadata": {},
   "outputs": [
    {
     "name": "stdout",
     "output_type": "stream",
     "text": [
      "dole of text shorter that 512 chars 0.7931911207091379\n"
     ]
    },
    {
     "data": {
      "image/png": "[encoded data removed]",
      "text/plain": [
       "<Figure size 640x480 with 1 Axes>"
      ]
     },
     "metadata": {},
     "output_type": "display_data"
    }
   ],
   "source": [
    "df['text'].apply(len).hist()\n",
    "plt.title('text len hist')\n",
    "plt.ylabel('frequency')\n",
    "plt.xlabel('text len')\n",
    "# plt.yscale('log')\n",
    "\n",
    "dole = (df['text'].apply(len) <= 512).mean()\n",
    "print(f'dole of text shorter that 512 chars {dole}')"
   ]
  },
  {
   "cell_type": "markdown",
   "metadata": {},
   "source": [
    "Около 20% наблюдений превышают длину в 512 символов. Попробуем снизить этот показатель, оставив только буквенные символы латинницы."
   ]
  },
  {
   "cell_type": "code",
   "execution_count": 5,
   "metadata": {},
   "outputs": [],
   "source": [
    "def clear_text(text):\n",
    "    text = re.sub(r'[^a-zA-Z]', ' ', str(text))\n",
    "    text = text.split()\n",
    "    text = ' '.join(text)\n",
    "    return text\n",
    "\n",
    "df['text'] = df['text'].apply(clear_text)"
   ]
  },
  {
   "cell_type": "code",
   "execution_count": 6,
   "metadata": {},
   "outputs": [
    {
     "name": "stdout",
     "output_type": "stream",
     "text": [
      "dole of text shorter that 512 chars 0.8057655123923361\n"
     ]
    },
    {
     "data": {
      "image/png": "[encoded data removed]",
      "text/plain": [
       "<Figure size 640x480 with 1 Axes>"
      ]
     },
     "metadata": {},
     "output_type": "display_data"
    }
   ],
   "source": [
    "df['text'].apply(len).hist()\n",
    "plt.title('text len hist')\n",
    "plt.ylabel('frequency')\n",
    "plt.xlabel('text len')\n",
    "# plt.yscale('log')\n",
    "\n",
    "dole = (df['text'].apply(len) <= 512).mean()\n",
    "print(f'dole of text shorter that 512 chars {dole}')"
   ]
  },
  {
   "cell_type": "markdown",
   "metadata": {},
   "source": [
    "Особой результативности это не принесло. Тогда остановимся на радикальной мере - ограничим значения первыми 512 символами."
   ]
  },
  {
   "cell_type": "code",
   "execution_count": 7,
   "metadata": {},
   "outputs": [],
   "source": [
    "df['text'] = df['text'].apply(lambda x: x[:512])"
   ]
  },
  {
   "cell_type": "code",
   "execution_count": 8,
   "metadata": {},
   "outputs": [],
   "source": [
    "tokenizer = transformers.BertTokenizer.from_pretrained('bert-base-uncased')\n",
    "tokenized = df['text'].apply(\n",
    "                       lambda x: tokenizer.encode(x, add_special_tokens=True))\n",
    "\n",
    "max_len = 0\n",
    "for i in tokenized.values:\n",
    "    if len(i) > max_len:\n",
    "        max_len = len(i)\n",
    "\n",
    "padded = np.array([i + [0]*(max_len - len(i)) for i in tokenized.values])\n",
    "\n",
    "attention_mask = np.where(padded != 0, 1, 0)"
   ]
  },
  {
   "cell_type": "code",
   "execution_count": 9,
   "metadata": {
    "tags": []
   },
   "outputs": [
    {
     "name": "stderr",
     "output_type": "stream",
     "text": [
      "Using cache found in /home/gin/.cache/torch/hub/unitaryai_detoxify_master\n"
     ]
    },
    {
     "name": "stdout",
     "output_type": "stream",
     "text": [
      "###############\n"
     ]
    }
   ],
   "source": [
    "# config = torch.hub.load('huggingface/pytorch-transformers', 'config', 'bert-base-uncased')\n",
    "# model = torch.hub.load('huggingface/pytorch-transformers', 'model', 'bert-base-uncased', config=config)\n",
    "model = torch.hub.load('unitaryai/detoxify','toxic_bert')\n",
    "\n",
    "model.eval()\n",
    "model.to(device)\n",
    "print('###############')"
   ]
  },
  {
   "cell_type": "code",
   "execution_count": 10,
   "metadata": {},
   "outputs": [
    {
     "data": {
      "application/vnd.jupyter.widget-view+json": {
       "model_id": "545e63e3c086403c96e7d6d9dc0268b1",
       "version_major": 2,
       "version_minor": 0
      },
      "text/plain": [
       "  0%|          | 0/1245 [00:00<?, ?it/s]"
      ]
     },
     "metadata": {},
     "output_type": "display_data"
    }
   ],
   "source": [
    "batch_size = 128\n",
    "embeddings = []\n",
    "for i in notebook.tqdm(range(math.ceil(padded.shape[0] / batch_size))):\n",
    "    batch = torch.LongTensor(padded[batch_size*i:batch_size*(i+1)]).to(device)\n",
    "    attention_mask_batch = torch.LongTensor(attention_mask[batch_size*i:batch_size*(i+1)]).to(device)\n",
    "\n",
    "    with torch.no_grad():\n",
    "        batch_embeddings = model(batch, attention_mask=attention_mask_batch)\n",
    "\n",
    "    # embeddings.append(batch_embeddings[0][:,0,:].cpu().numpy())\n",
    "    embeddings.append(batch_embeddings[0].cpu().numpy())\n",
    "    \n",
    "features = np.concatenate(embeddings)"
   ]
  },
  {
   "cell_type": "markdown",
   "metadata": {},
   "source": [
    "## Обучение"
   ]
  },
  {
   "cell_type": "code",
   "execution_count": 11,
   "metadata": {},
   "outputs": [],
   "source": [
    "X = features\n",
    "y = df['toxic']\n",
    "\n",
    "X_train, X_test, y_train, y_test = train_test_split(X, y, test_size=0.2, shuffle=y, random_state=42)"
   ]
  },
  {
   "cell_type": "code",
   "execution_count": 12,
   "metadata": {},
   "outputs": [],
   "source": [
    "model_types = {\n",
    "               'logreg': LogisticRegression(class_weight='balanced', random_state=42, n_jobs=-1),\n",
    "               'lgbm': LGBMClassifier(class_weight='balanced', random_state=42, n_jobs=-1),\n",
    "              }\n",
    "\n",
    "models_params = {\n",
    "                 'logreg': {'C': [0.1, 1., 10],\n",
    "                            'class_weight': ['balanced', None]},\n",
    "                 'lgbm': {'class_weight': ['balanced', None]}\n",
    "                }"
   ]
  },
  {
   "cell_type": "code",
   "execution_count": 13,
   "metadata": {},
   "outputs": [
    {
     "name": "stdout",
     "output_type": "stream",
     "text": [
      "Лучшая модель в группе logreg имеет значение f1_macro - 0.95 и параметры {'C': 10, 'class_weight': None}\n",
      "\n",
      "Лучшая модель в группе lgbm имеет значение f1_macro - 0.95 и параметры {'class_weight': None}\n",
      "\n",
      "CPU times: user 2.61 s, sys: 1.76 s, total: 4.37 s\n",
      "Wall time: 9.31 s\n"
     ]
    }
   ],
   "source": [
    "%%time\n",
    "best_models = {}\n",
    "cv_results = {}\n",
    "\n",
    "for model_type in model_types:\n",
    "    model = model_types[model_type]\n",
    "    grid = GridSearchCV(model, models_params[model_type], cv=5, scoring=['f1', 'f1_micro', 'f1_macro', 'f1_weighted'],\n",
    "                        n_jobs=5, refit='f1_macro', return_train_score=False)\n",
    "    \n",
    "    grid.fit(X_train, y_train)\n",
    "    best_models[model_type] = grid.best_estimator_\n",
    "    cv_results[model_type] = grid.cv_results_\n",
    "    print('Лучшая модель в группе {} имеет значение f1_macro - {:.2f} и параметры {}'\\\n",
    "          .format(model_type,\\\n",
    "                  grid.best_score_,\\\n",
    "                  grid.best_params_))\n",
    "    print()"
   ]
  },
  {
   "cell_type": "code",
   "execution_count": 14,
   "metadata": {},
   "outputs": [
    {
     "name": "stdout",
     "output_type": "stream",
     "text": [
      "logreg\n"
     ]
    },
    {
     "data": {
      "text/html": [
       "<div>\n",
       "<style scoped>\n",
       "    .dataframe tbody tr th:only-of-type {\n",
       "        vertical-align: middle;\n",
       "    }\n",
       "\n",
       "    .dataframe tbody tr th {\n",
       "        vertical-align: top;\n",
       "    }\n",
       "\n",
       "    .dataframe thead th {\n",
       "        text-align: right;\n",
       "    }\n",
       "</style>\n",
       "<table border=\"1\" class=\"dataframe\">\n",
       "  <thead>\n",
       "    <tr style=\"text-align: right;\">\n",
       "      <th></th>\n",
       "      <th>mean_fit_time</th>\n",
       "      <th>mean_score_time</th>\n",
       "      <th>mean_test_f1</th>\n",
       "      <th>mean_test_f1_micro</th>\n",
       "      <th>mean_test_f1_macro</th>\n",
       "      <th>mean_test_f1_weighted</th>\n",
       "      <th>params</th>\n",
       "      <th>rank_test_f1_macro</th>\n",
       "    </tr>\n",
       "  </thead>\n",
       "  <tbody>\n",
       "    <tr>\n",
       "      <th>5</th>\n",
       "      <td>0.370337</td>\n",
       "      <td>0.030430</td>\n",
       "      <td>0.911629</td>\n",
       "      <td>0.982250</td>\n",
       "      <td>0.950881</td>\n",
       "      <td>0.982134</td>\n",
       "      <td>{'C': 10, 'class_weight': None}</td>\n",
       "      <td>1</td>\n",
       "    </tr>\n",
       "    <tr>\n",
       "      <th>3</th>\n",
       "      <td>0.342001</td>\n",
       "      <td>0.036466</td>\n",
       "      <td>0.911600</td>\n",
       "      <td>0.982242</td>\n",
       "      <td>0.950865</td>\n",
       "      <td>0.982128</td>\n",
       "      <td>{'C': 1.0, 'class_weight': None}</td>\n",
       "      <td>2</td>\n",
       "    </tr>\n",
       "    <tr>\n",
       "      <th>1</th>\n",
       "      <td>0.333191</td>\n",
       "      <td>0.037579</td>\n",
       "      <td>0.911592</td>\n",
       "      <td>0.982234</td>\n",
       "      <td>0.950858</td>\n",
       "      <td>0.982122</td>\n",
       "      <td>{'C': 0.1, 'class_weight': None}</td>\n",
       "      <td>3</td>\n",
       "    </tr>\n",
       "    <tr>\n",
       "      <th>2</th>\n",
       "      <td>0.345096</td>\n",
       "      <td>0.037559</td>\n",
       "      <td>0.859240</td>\n",
       "      <td>0.967732</td>\n",
       "      <td>0.920509</td>\n",
       "      <td>0.969291</td>\n",
       "      <td>{'C': 1.0, 'class_weight': 'balanced'}</td>\n",
       "      <td>4</td>\n",
       "    </tr>\n",
       "    <tr>\n",
       "      <th>4</th>\n",
       "      <td>0.337425</td>\n",
       "      <td>0.037172</td>\n",
       "      <td>0.859239</td>\n",
       "      <td>0.967732</td>\n",
       "      <td>0.920508</td>\n",
       "      <td>0.969291</td>\n",
       "      <td>{'C': 10, 'class_weight': 'balanced'}</td>\n",
       "      <td>5</td>\n",
       "    </tr>\n",
       "    <tr>\n",
       "      <th>0</th>\n",
       "      <td>0.337379</td>\n",
       "      <td>0.038294</td>\n",
       "      <td>0.858897</td>\n",
       "      <td>0.967638</td>\n",
       "      <td>0.920310</td>\n",
       "      <td>0.969207</td>\n",
       "      <td>{'C': 0.1, 'class_weight': 'balanced'}</td>\n",
       "      <td>6</td>\n",
       "    </tr>\n",
       "  </tbody>\n",
       "</table>\n",
       "</div>"
      ],
      "text/plain": [
       "   mean_fit_time  mean_score_time  mean_test_f1  mean_test_f1_micro  \\\n",
       "5       0.370337         0.030430      0.911629            0.982250   \n",
       "3       0.342001         0.036466      0.911600            0.982242   \n",
       "1       0.333191         0.037579      0.911592            0.982234   \n",
       "2       0.345096         0.037559      0.859240            0.967732   \n",
       "4       0.337425         0.037172      0.859239            0.967732   \n",
       "0       0.337379         0.038294      0.858897            0.967638   \n",
       "\n",
       "   mean_test_f1_macro  mean_test_f1_weighted  \\\n",
       "5            0.950881               0.982134   \n",
       "3            0.950865               0.982128   \n",
       "1            0.950858               0.982122   \n",
       "2            0.920509               0.969291   \n",
       "4            0.920508               0.969291   \n",
       "0            0.920310               0.969207   \n",
       "\n",
       "                                   params  rank_test_f1_macro  \n",
       "5         {'C': 10, 'class_weight': None}                   1  \n",
       "3        {'C': 1.0, 'class_weight': None}                   2  \n",
       "1        {'C': 0.1, 'class_weight': None}                   3  \n",
       "2  {'C': 1.0, 'class_weight': 'balanced'}                   4  \n",
       "4   {'C': 10, 'class_weight': 'balanced'}                   5  \n",
       "0  {'C': 0.1, 'class_weight': 'balanced'}                   6  "
      ]
     },
     "metadata": {},
     "output_type": "display_data"
    },
    {
     "name": "stdout",
     "output_type": "stream",
     "text": [
      "lgbm\n"
     ]
    },
    {
     "data": {
      "text/html": [
       "<div>\n",
       "<style scoped>\n",
       "    .dataframe tbody tr th:only-of-type {\n",
       "        vertical-align: middle;\n",
       "    }\n",
       "\n",
       "    .dataframe tbody tr th {\n",
       "        vertical-align: top;\n",
       "    }\n",
       "\n",
       "    .dataframe thead th {\n",
       "        text-align: right;\n",
       "    }\n",
       "</style>\n",
       "<table border=\"1\" class=\"dataframe\">\n",
       "  <thead>\n",
       "    <tr style=\"text-align: right;\">\n",
       "      <th></th>\n",
       "      <th>mean_fit_time</th>\n",
       "      <th>mean_score_time</th>\n",
       "      <th>mean_test_f1</th>\n",
       "      <th>mean_test_f1_micro</th>\n",
       "      <th>mean_test_f1_macro</th>\n",
       "      <th>mean_test_f1_weighted</th>\n",
       "      <th>params</th>\n",
       "      <th>rank_test_f1_macro</th>\n",
       "    </tr>\n",
       "  </thead>\n",
       "  <tbody>\n",
       "    <tr>\n",
       "      <th>1</th>\n",
       "      <td>0.422887</td>\n",
       "      <td>0.057276</td>\n",
       "      <td>0.909147</td>\n",
       "      <td>0.981716</td>\n",
       "      <td>0.949491</td>\n",
       "      <td>0.981613</td>\n",
       "      <td>{'class_weight': None}</td>\n",
       "      <td>1</td>\n",
       "    </tr>\n",
       "    <tr>\n",
       "      <th>0</th>\n",
       "      <td>0.490624</td>\n",
       "      <td>0.071946</td>\n",
       "      <td>0.866991</td>\n",
       "      <td>0.969898</td>\n",
       "      <td>0.925009</td>\n",
       "      <td>0.971205</td>\n",
       "      <td>{'class_weight': 'balanced'}</td>\n",
       "      <td>2</td>\n",
       "    </tr>\n",
       "  </tbody>\n",
       "</table>\n",
       "</div>"
      ],
      "text/plain": [
       "   mean_fit_time  mean_score_time  mean_test_f1  mean_test_f1_micro  \\\n",
       "1       0.422887         0.057276      0.909147            0.981716   \n",
       "0       0.490624         0.071946      0.866991            0.969898   \n",
       "\n",
       "   mean_test_f1_macro  mean_test_f1_weighted                        params  \\\n",
       "1            0.949491               0.981613        {'class_weight': None}   \n",
       "0            0.925009               0.971205  {'class_weight': 'balanced'}   \n",
       "\n",
       "   rank_test_f1_macro  \n",
       "1                   1  \n",
       "0                   2  "
      ]
     },
     "metadata": {},
     "output_type": "display_data"
    }
   ],
   "source": [
    "for model_type in cv_results:\n",
    "    print(model_type)\n",
    "    display(pd.DataFrame(cv_results[model_type])\\\n",
    "            [['mean_fit_time', 'mean_score_time',\n",
    "              'mean_test_f1', 'mean_test_f1_micro',\n",
    "              'mean_test_f1_macro', 'mean_test_f1_weighted',\n",
    "              'params', 'rank_test_f1_macro']]\\\n",
    "            .sort_values('rank_test_f1_macro')\n",
    "           )"
   ]
  },
  {
   "cell_type": "markdown",
   "metadata": {},
   "source": [
    "## Выводы"
   ]
  },
  {
   "cell_type": "code",
   "execution_count": 15,
   "metadata": {},
   "outputs": [
    {
     "name": "stdout",
     "output_type": "stream",
     "text": [
      "f1_binary score - 0.91\n",
      "f1_micro score - 0.98\n",
      "f1_macro score - 0.95\n",
      "f1_weighted score - 0.98\n"
     ]
    }
   ],
   "source": [
    "preds = best_models['logreg'].predict(X_test)\n",
    "print(f\"f1_binary score - {f1_score(y_test, preds, average='binary'):.2f}\")\n",
    "print(f\"f1_micro score - {f1_score(y_test, preds, average='micro'):.2f}\")\n",
    "print(f\"f1_macro score - {f1_score(y_test, preds, average='macro'):.2f}\")\n",
    "print(f\"f1_weighted score - {f1_score(y_test, preds, average='weighted'):.2f}\")"
   ]
  },
  {
   "cell_type": "code",
   "execution_count": 16,
   "metadata": {},
   "outputs": [
    {
     "name": "stdout",
     "output_type": "stream",
     "text": [
      "[1.14529597]\n"
     ]
    },
    {
     "data": {
      "image/png": "[encoded data removed]",
      "text/plain": [
       "<Figure size 1000x700 with 1 Axes>"
      ]
     },
     "metadata": {},
     "output_type": "display_data"
    }
   ],
   "source": [
    "plt.figure(figsize=(10, 7))\n",
    "pd.Series(best_models['logreg'].coef_[0], index=['toxic', 'severe_toxic', 'obscene', 'threat', 'insult', 'identity_hate']).plot(kind='bar')\n",
    "print(best_models['logreg'].intercept_)"
   ]
  },
  {
   "cell_type": "markdown",
   "metadata": {},
   "source": [
    "Bert-toxic, предсказывает токсичность комментариев по мультиклассу ('toxic', 'severe_toxic', 'obscene', 'threat', 'insult', 'identity_hate') и, как несложно заметить, 'toxic' и 'severe_toxic' имеют высокие веса, в то время как другие типы \"недоброжелательного поведения\" имеют гораздо более скромные по модулю коэффициены. Как мы можем заметить, мульклассовые f1 метрики на тестовой выборке демонстрируют крайне высокое значение параметров (> 0.90). Целевое значение метрики f1 в 0.75 также достигнуто."
   ]
  }
 ],
 "metadata": {
  "ExecuteTimeLog": [
   {
    "duration": 404,
    "start_time": "2023-07-07T11:21:47.611Z"
   },
   {
    "duration": 2606,
    "start_time": "2023-07-07T11:21:53.210Z"
   },
   {
    "duration": 13097,
    "start_time": "2023-07-07T11:22:23.412Z"
   },
   {
    "duration": 110,
    "start_time": "2023-07-07T11:22:36.513Z"
   },
   {
    "duration": 238,
    "start_time": "2023-07-07T11:24:22.010Z"
   },
   {
    "duration": 5099,
    "start_time": "2023-07-07T11:24:57.810Z"
   },
   {
    "duration": 12610,
    "start_time": "2023-07-07T11:25:35.309Z"
   },
   {
    "duration": 14100,
    "start_time": "2023-07-07T11:26:35.010Z"
   },
   {
    "duration": 466,
    "start_time": "2023-07-07T13:11:22.380Z"
   },
   {
    "duration": 690,
    "start_time": "2023-07-07T13:11:25.780Z"
   },
   {
    "duration": 467,
    "start_time": "2023-07-07T20:23:29.709Z"
   },
   {
    "duration": 467,
    "start_time": "2023-07-07T20:25:12.179Z"
   },
   {
    "duration": 406,
    "start_time": "2023-07-07T20:25:24.784Z"
   },
   {
    "duration": 399,
    "start_time": "2023-07-07T20:25:26.605Z"
   },
   {
    "duration": 417,
    "start_time": "2023-07-07T20:26:17.749Z"
   },
   {
    "duration": 397,
    "start_time": "2023-07-07T20:26:21.741Z"
   },
   {
    "duration": 409,
    "start_time": "2023-07-07T20:26:49.833Z"
   },
   {
    "duration": 417,
    "start_time": "2023-07-07T20:26:57.413Z"
   },
   {
    "duration": 397,
    "start_time": "2023-07-07T20:28:10.386Z"
   },
   {
    "duration": 410,
    "start_time": "2023-07-07T20:28:15.909Z"
   },
   {
    "duration": 402,
    "start_time": "2023-07-07T20:28:27.720Z"
   },
   {
    "duration": 404,
    "start_time": "2023-07-07T20:28:31.526Z"
   },
   {
    "duration": 421,
    "start_time": "2023-07-07T20:28:46.767Z"
   },
   {
    "duration": 413,
    "start_time": "2023-07-07T20:29:01.851Z"
   },
   {
    "duration": 390,
    "start_time": "2023-07-07T20:29:06.900Z"
   },
   {
    "duration": 493,
    "start_time": "2023-07-07T20:29:17.250Z"
   },
   {
    "duration": 732,
    "start_time": "2023-07-07T20:29:38.457Z"
   },
   {
    "duration": 729,
    "start_time": "2023-07-07T20:30:04.007Z"
   },
   {
    "duration": 27751,
    "start_time": "2023-07-07T20:30:19.341Z"
   }
  ],
  "kernelspec": {
   "display_name": "Python 3 (ipykernel)",
   "language": "python",
   "name": "python3"
  },
  "language_info": {
   "codemirror_mode": {
    "name": "ipython",
    "version": 3
   },
   "file_extension": ".py",
   "mimetype": "text/x-python",
   "name": "python",
   "nbconvert_exporter": "python",
   "pygments_lexer": "ipython3",
   "version": "3.9.13"
  },
  "toc": {
   "base_numbering": 1,
   "nav_menu": {},
   "number_sections": true,
   "sideBar": true,
   "skip_h1_title": true,
   "title_cell": "Содержание",
   "title_sidebar": "Contents",
   "toc_cell": true,
   "toc_position": {
    "height": "calc(100% - 180px)",
    "left": "10px",
    "top": "150px",
    "width": "302.391px"
   },
   "toc_section_display": true,
   "toc_window_display": false
  }
 },
 "nbformat": 4,
 "nbformat_minor": 4
}
